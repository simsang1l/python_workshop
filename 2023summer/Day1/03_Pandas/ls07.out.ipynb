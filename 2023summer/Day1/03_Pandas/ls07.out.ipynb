{
  "cells": [
    {
      "cell_type": "markdown",
      "metadata": {
        "id": "1981411b-7a9a-482d-b37c-38a0e251640b"
      },
      "source": [
        "# Lesson 07: pandas 공부 1단계 ~ 4단계\n",
        "\n",
        "최규빈  \n",
        "2023-07-24\n",
        "\n",
        "<a href=\"https://colab.research.google.com/github/guebin/PP2023SUM/blob/main/posts/Day1/03_Pandas/ls07.ipynb\"><img src=\"https://colab.research.google.com/assets/colab-badge.svg\" style=\"text-align: left\"></a>\n",
        "\n",
        "# imports"
      ],
      "id": "1981411b-7a9a-482d-b37c-38a0e251640b"
    },
    {
      "cell_type": "code",
      "execution_count": null,
      "metadata": {
        "id": "720575dc-3bcb-49f2-8550-66f6434d4fa4"
      },
      "outputs": [],
      "source": [
        "import numpy as np\n",
        "import pandas as pd"
      ],
      "id": "720575dc-3bcb-49f2-8550-66f6434d4fa4"
    },
    {
      "cell_type": "markdown",
      "metadata": {
        "id": "e5110b2b-4e58-4c1a-b32f-5cbccda2a682"
      },
      "source": [
        "# pandas 공부 1단계: 선언 및 기본정보\n",
        "\n",
        "## 데이터프레임 선언\n",
        "\n",
        "`-` 방법1: dictionary에서 만든다."
      ],
      "id": "e5110b2b-4e58-4c1a-b32f-5cbccda2a682"
    },
    {
      "cell_type": "code",
      "execution_count": null,
      "metadata": {
        "id": "47aa63f6"
      },
      "outputs": [],
      "source": [
        "pd.DataFrame({'att':[30,40,50],'mid':[50,60,70]})"
      ],
      "id": "47aa63f6"
    },
    {
      "cell_type": "code",
      "execution_count": null,
      "metadata": {
        "id": "6aa55148"
      },
      "outputs": [],
      "source": [
        "pd.DataFrame({'att':(30,40,50),'mid':(50,60,70)})"
      ],
      "id": "6aa55148"
    },
    {
      "cell_type": "code",
      "execution_count": null,
      "metadata": {
        "id": "47768055"
      },
      "outputs": [],
      "source": [
        "pd.DataFrame({'att':np.array([30,40,50]),'mid':np.array([50,60,70])})"
      ],
      "id": "47768055"
    },
    {
      "cell_type": "markdown",
      "metadata": {
        "id": "e5dc5984-2c4e-45fa-bfa5-65a84ffa07da"
      },
      "source": [
        "`-` 방법: 2차원 ndarray에서 만든다."
      ],
      "id": "e5dc5984-2c4e-45fa-bfa5-65a84ffa07da"
    },
    {
      "cell_type": "code",
      "execution_count": null,
      "metadata": {
        "id": "55290ccd"
      },
      "outputs": [],
      "source": [
        "np.arange(2*3).reshape(2,3)"
      ],
      "id": "55290ccd"
    },
    {
      "cell_type": "code",
      "execution_count": null,
      "metadata": {
        "id": "76fcfafd"
      },
      "outputs": [],
      "source": [
        "pd.DataFrame(np.arange(2*3).reshape(2,3))"
      ],
      "id": "76fcfafd"
    },
    {
      "cell_type": "markdown",
      "metadata": {
        "id": "44b35e4d-850a-4cb4-aa7d-f6e0ba018eee"
      },
      "source": [
        "## 열의 이름 부여\n",
        "\n",
        "`-` 방법1: 딕셔너리를 통하여 만들면 딕셔너리의 key가 자동으로 열의\n",
        "이름이 된다."
      ],
      "id": "44b35e4d-850a-4cb4-aa7d-f6e0ba018eee"
    },
    {
      "cell_type": "code",
      "execution_count": null,
      "metadata": {
        "id": "4fa3fb73"
      },
      "outputs": [],
      "source": [
        "pd.DataFrame({'att':np.array([30,40,50]),'mid':np.array([50,60,70])})"
      ],
      "id": "4fa3fb73"
    },
    {
      "cell_type": "markdown",
      "metadata": {
        "id": "57a61903-148c-428c-b987-c00aede53f78"
      },
      "source": [
        "`-` 방법2: pd.DataFrame()의 옵션에 columns를 이용"
      ],
      "id": "57a61903-148c-428c-b987-c00aede53f78"
    },
    {
      "cell_type": "code",
      "execution_count": null,
      "metadata": {
        "id": "d616b21a"
      },
      "outputs": [],
      "source": [
        "pd.DataFrame(np.arange(2*3).reshape(2,3),columns=['X1','X2','X3'])"
      ],
      "id": "d616b21a"
    },
    {
      "cell_type": "markdown",
      "metadata": {
        "id": "6a9e6262-d05d-4abf-a31e-ef3926f8a15b"
      },
      "source": [
        "`-` 방법3: df.columns에 원하는 열이름을 덮어씀 (1)"
      ],
      "id": "6a9e6262-d05d-4abf-a31e-ef3926f8a15b"
    },
    {
      "cell_type": "code",
      "execution_count": null,
      "metadata": {
        "id": "01927ad9"
      },
      "outputs": [],
      "source": [
        "df=pd.DataFrame(np.arange(2*3).reshape(2,3))\n",
        "df"
      ],
      "id": "01927ad9"
    },
    {
      "cell_type": "code",
      "execution_count": null,
      "metadata": {
        "id": "3b0642b7"
      },
      "outputs": [],
      "source": [
        "df.columns = ['X1','X2','X3']\n",
        "df"
      ],
      "id": "3b0642b7"
    },
    {
      "cell_type": "markdown",
      "metadata": {
        "id": "c9d9906b-15db-4c5c-890c-77bb9ee60ae9"
      },
      "source": [
        "`-` 방법4: df.columns에 원하는 열이름을 덮어씀 (2)"
      ],
      "id": "c9d9906b-15db-4c5c-890c-77bb9ee60ae9"
    },
    {
      "cell_type": "code",
      "execution_count": null,
      "metadata": {
        "id": "224182f6"
      },
      "outputs": [],
      "source": [
        "df=pd.DataFrame(np.arange(2*3).reshape(2,3))\n",
        "df"
      ],
      "id": "224182f6"
    },
    {
      "cell_type": "code",
      "execution_count": null,
      "metadata": {
        "id": "7687ffe6"
      },
      "outputs": [],
      "source": [
        "df.columns = pd.Index(['X1','X2','X3'])"
      ],
      "id": "7687ffe6"
    },
    {
      "cell_type": "code",
      "execution_count": null,
      "metadata": {
        "id": "263d541f"
      },
      "outputs": [],
      "source": [
        "df"
      ],
      "id": "263d541f"
    },
    {
      "cell_type": "markdown",
      "metadata": {
        "id": "d6c30023-4f97-4931-a88a-4f3442a02e13"
      },
      "source": [
        "방법4가 방법3의 방식보다 컴퓨터가 이해하기 좋다. (= 불필요한 에러 혹은\n",
        "경고메시지를 방지할 수 있다)\n",
        "\n",
        "## 행의 이름 부여\n",
        "\n",
        "`-` 방법1: 중첩 dict이면 nested dic의 key가 알아서 행의 이름으로 된다."
      ],
      "id": "d6c30023-4f97-4931-a88a-4f3442a02e13"
    },
    {
      "cell_type": "code",
      "execution_count": null,
      "metadata": {
        "id": "92f96ec8"
      },
      "outputs": [],
      "source": [
        "pd.DataFrame({'att':{'guebin':30, 'iu':40, 'hynn':50} , 'mid':{'guebin':5, 'iu':45, 'hynn':90}})"
      ],
      "id": "92f96ec8"
    },
    {
      "cell_type": "markdown",
      "metadata": {
        "id": "244a357e-845c-4696-89b0-7ac32ecfc044"
      },
      "source": [
        "`-` 방법2: pd.DataFrame()의 index 옵션 이용"
      ],
      "id": "244a357e-845c-4696-89b0-7ac32ecfc044"
    },
    {
      "cell_type": "code",
      "execution_count": null,
      "metadata": {
        "id": "6fabdbbe"
      },
      "outputs": [],
      "source": [
        "pd.DataFrame({'att':[30,40,50] , 'mid':[5,45,90]},index=['guebin','iu','hynn'])"
      ],
      "id": "6fabdbbe"
    },
    {
      "cell_type": "markdown",
      "metadata": {
        "id": "56a14330-3145-46c5-b313-b0185812002f"
      },
      "source": [
        "`-` 방법3: df.index에 덮어씌움"
      ],
      "id": "56a14330-3145-46c5-b313-b0185812002f"
    },
    {
      "cell_type": "code",
      "execution_count": null,
      "metadata": {
        "id": "1da28098"
      },
      "outputs": [],
      "source": [
        "df=pd.DataFrame({'att':[30,40,50] , 'mid':[5,45,90]})\n",
        "df"
      ],
      "id": "1da28098"
    },
    {
      "cell_type": "code",
      "execution_count": null,
      "metadata": {
        "id": "f38a449f"
      },
      "outputs": [],
      "source": [
        "df.index = pd.Index(['guebin','iu','hynn'])\n",
        "#df.index = ['guebin','iu','hynn'] <- 이것도 실행가능하기는함\n",
        "df"
      ],
      "id": "f38a449f"
    },
    {
      "cell_type": "markdown",
      "metadata": {
        "id": "3ed2549c-364e-4873-b6f8-5a9812f29cea"
      },
      "source": [
        "`-` 방법4: df.set_index() 를 이용하여 덮어씌운다"
      ],
      "id": "3ed2549c-364e-4873-b6f8-5a9812f29cea"
    },
    {
      "cell_type": "code",
      "execution_count": null,
      "metadata": {
        "id": "5ffa95bd"
      },
      "outputs": [],
      "source": [
        "df=pd.DataFrame({'att':[30,40,50] , 'mid':[5,45,90]})\n",
        "df"
      ],
      "id": "5ffa95bd"
    },
    {
      "cell_type": "code",
      "execution_count": null,
      "metadata": {
        "id": "c899ddc8"
      },
      "outputs": [],
      "source": [
        "df.set_index(pd.Index(['guebin','iu','hynn']))"
      ],
      "id": "c899ddc8"
    },
    {
      "cell_type": "code",
      "execution_count": null,
      "metadata": {
        "id": "64f2674f"
      },
      "outputs": [],
      "source": [
        "df.set_index(['guebin','iu','hynn'])"
      ],
      "id": "64f2674f"
    },
    {
      "cell_type": "code",
      "execution_count": null,
      "metadata": {
        "id": "e53b7853"
      },
      "outputs": [],
      "source": [
        "df.set_index([['guebin','iu','hynn']]) # 꺽쇠를 한번 더 넣어주면 에러를 피할수 있다."
      ],
      "id": "e53b7853"
    },
    {
      "cell_type": "markdown",
      "metadata": {
        "id": "cea2c460-a08e-46fb-8bf4-5176274e140f"
      },
      "source": [
        "-   그러나 이런 코드를 권장하지 않음\n",
        "\n",
        "## 자료형, len, shape, for문의 반복변수"
      ],
      "id": "cea2c460-a08e-46fb-8bf4-5176274e140f"
    },
    {
      "cell_type": "code",
      "execution_count": null,
      "metadata": {
        "id": "e73ea845"
      },
      "outputs": [],
      "source": [
        "df = pd.DataFrame({'att':[30,40,50],'mid':[5,45,90]})\n",
        "df"
      ],
      "id": "e73ea845"
    },
    {
      "cell_type": "markdown",
      "metadata": {
        "id": "ecfa2e5d-6152-4a76-8063-622710c37e32"
      },
      "source": [
        "`-` type"
      ],
      "id": "ecfa2e5d-6152-4a76-8063-622710c37e32"
    },
    {
      "cell_type": "code",
      "execution_count": null,
      "metadata": {
        "id": "d43ac14c"
      },
      "outputs": [],
      "source": [
        "type(df)"
      ],
      "id": "d43ac14c"
    },
    {
      "cell_type": "markdown",
      "metadata": {
        "id": "c9cc00cb-5672-41e4-89a2-b90473ff726f"
      },
      "source": [
        "`-` len"
      ],
      "id": "c9cc00cb-5672-41e4-89a2-b90473ff726f"
    },
    {
      "cell_type": "code",
      "execution_count": null,
      "metadata": {
        "id": "f42e21d4"
      },
      "outputs": [],
      "source": [
        "len(df) # row의 갯수"
      ],
      "id": "f42e21d4"
    },
    {
      "cell_type": "markdown",
      "metadata": {
        "id": "a3fe3328-be9f-4027-93dd-311a13dfa924"
      },
      "source": [
        "`-` shape"
      ],
      "id": "a3fe3328-be9f-4027-93dd-311a13dfa924"
    },
    {
      "cell_type": "code",
      "execution_count": null,
      "metadata": {
        "id": "9e3a1218"
      },
      "outputs": [],
      "source": [
        "df.shape"
      ],
      "id": "9e3a1218"
    },
    {
      "cell_type": "markdown",
      "metadata": {
        "id": "1aa7b999-6bcf-4080-bb22-a74877beef74"
      },
      "source": [
        "`-` for문의 반복변수"
      ],
      "id": "1aa7b999-6bcf-4080-bb22-a74877beef74"
    },
    {
      "cell_type": "code",
      "execution_count": null,
      "metadata": {
        "id": "2958c6c8",
        "outputId": "bfd6abc4-62dd-45d6-b5ad-eef80b7fc40a"
      },
      "outputs": [
        {
          "output_type": "stream",
          "name": "stdout",
          "text": [
            "att\n",
            "mid"
          ]
        }
      ],
      "source": [
        "for k in df:\n",
        "    print(k) # 딕셔너리같죠"
      ],
      "id": "2958c6c8"
    },
    {
      "cell_type": "code",
      "execution_count": null,
      "metadata": {
        "id": "f7541f24",
        "outputId": "b2b458dd-e2d8-4f46-b37a-a93af012c40f"
      },
      "outputs": [
        {
          "output_type": "stream",
          "name": "stdout",
          "text": [
            "att\n",
            "mid"
          ]
        }
      ],
      "source": [
        "for k in {'att':[30,40,50],'mid':[5,45,90]}:\n",
        "    print(k)"
      ],
      "id": "f7541f24"
    },
    {
      "cell_type": "markdown",
      "metadata": {
        "id": "f44c30f7-2663-4550-b13b-dd36d86ab58c"
      },
      "source": [
        "**참고:** df는 진짜 딕셔너리 느낌 강해요"
      ],
      "id": "f44c30f7-2663-4550-b13b-dd36d86ab58c"
    },
    {
      "cell_type": "code",
      "execution_count": null,
      "metadata": {
        "id": "f0bc0b3c"
      },
      "outputs": [],
      "source": [
        "df.keys()"
      ],
      "id": "f0bc0b3c"
    },
    {
      "cell_type": "code",
      "execution_count": null,
      "metadata": {
        "id": "4377ad9a",
        "outputId": "ee395a2e-b84e-4f95-ede1-6619a0c3590c"
      },
      "outputs": [
        {
          "output_type": "stream",
          "name": "stdout",
          "text": [
            "att\n",
            "mid"
          ]
        }
      ],
      "source": [
        "for k,v in df.items():\n",
        "    print(k)"
      ],
      "id": "4377ad9a"
    },
    {
      "cell_type": "markdown",
      "metadata": {
        "id": "fd5d667c-01eb-466a-978e-b958dabd4d28"
      },
      "source": [
        "# pandas 공부 2단계: 행과 열의 선택\n",
        "\n",
        "`-` 데이터"
      ],
      "id": "fd5d667c-01eb-466a-978e-b958dabd4d28"
    },
    {
      "cell_type": "code",
      "execution_count": null,
      "metadata": {
        "id": "c0e3cf0f"
      },
      "outputs": [],
      "source": [
        "np.random.seed(43052)\n",
        "att = np.random.choice(np.arange(10,21)*5,20)\n",
        "rep = np.random.choice(np.arange(5,21)*5,20)\n",
        "mid = np.random.choice(np.arange(0,21)*5,20)\n",
        "fin = np.random.choice(np.arange(0,21)*5,20)\n",
        "student_id = ['2022-12'+str(s) for s in np.random.choice(np.arange(300,501),20,replace=False)]"
      ],
      "id": "c0e3cf0f"
    },
    {
      "cell_type": "code",
      "execution_count": null,
      "metadata": {
        "id": "85267e83"
      },
      "outputs": [],
      "source": [
        "df = pd.DataFrame({'att':att,'rep':rep,'mid':mid,'fin':fin},index=key)\n",
        "df.head()"
      ],
      "id": "85267e83"
    },
    {
      "cell_type": "code",
      "execution_count": null,
      "metadata": {
        "id": "9672986f-b39d-47c9-8414-bed85c851c69"
      },
      "outputs": [],
      "source": [
        "df2 = pd.DataFrame({'id':student_id,'att':att,'rep':rep,'mid':mid,'fin':fin})\n",
        "df2.head()"
      ],
      "id": "9672986f-b39d-47c9-8414-bed85c851c69"
    },
    {
      "cell_type": "markdown",
      "metadata": {
        "id": "217a476e-afa6-4c5e-95be-96b667bcba54"
      },
      "source": [
        "## 열의 선택\n",
        "\n",
        "`-` 방법1: `df.?` + str"
      ],
      "id": "217a476e-afa6-4c5e-95be-96b667bcba54"
    },
    {
      "cell_type": "code",
      "execution_count": null,
      "metadata": {
        "id": "e2d4ba44-6823-4331-b895-8141e79507ac"
      },
      "outputs": [],
      "source": [
        "# df.att"
      ],
      "id": "e2d4ba44-6823-4331-b895-8141e79507ac"
    },
    {
      "cell_type": "markdown",
      "metadata": {
        "id": "80ce83c9-ffa7-4d21-9e28-2eda17b15843"
      },
      "source": [
        "`-` 방법2: `df[?]` + str, \\[str,str\\]"
      ],
      "id": "80ce83c9-ffa7-4d21-9e28-2eda17b15843"
    },
    {
      "cell_type": "code",
      "execution_count": null,
      "metadata": {
        "id": "b4ce0d43-b31f-461c-b6e1-c0f4ccd4ae83"
      },
      "outputs": [],
      "source": [
        "# df['att'] # str\n",
        "# df[['att']] # [str]\n",
        "# df[['att','rep']] # [str,str]"
      ],
      "id": "b4ce0d43-b31f-461c-b6e1-c0f4ccd4ae83"
    },
    {
      "cell_type": "markdown",
      "metadata": {
        "id": "50abd7c6-d424-4884-97ef-86509b01f9c7"
      },
      "source": [
        "`-` 방법3: `df.iloc[:,?]` + int, int:int, \\[int,int\\], \\[bool,bool\\],\n",
        "range"
      ],
      "id": "50abd7c6-d424-4884-97ef-86509b01f9c7"
    },
    {
      "cell_type": "code",
      "execution_count": null,
      "metadata": {
        "id": "ddf35c44"
      },
      "outputs": [],
      "source": [
        "# df.iloc[:,0] # int\n",
        "# df.iloc[:,-2:] # int:int - 슬라이싱\n",
        "# df.iloc[:,1::2] # int:int - 스트라이딩\n",
        "# df.iloc[:,[0]] # [int]\n",
        "# df.iloc[:,[0,1]] # [int,int]\n",
        "# df.iloc[:,[True,True,False,False]] # bool의 list\n",
        "# df.iloc[:,range(2)] # range"
      ],
      "id": "ddf35c44"
    },
    {
      "cell_type": "markdown",
      "metadata": {
        "id": "ee1c9845-6957-4f11-9630-ab28e716b1cb"
      },
      "source": [
        "`-` 방법4: `df.loc[:,?]` + str, ‘str:str’, \\[str,str\\], \\[bool,bool\\]"
      ],
      "id": "ee1c9845-6957-4f11-9630-ab28e716b1cb"
    },
    {
      "cell_type": "code",
      "execution_count": null,
      "metadata": {
        "id": "c996519f"
      },
      "outputs": [],
      "source": [
        "# df.loc[:,'att'] # str\n",
        "# df.loc[:,'rep':'mid'] # 'str':'str' -- 칼럼이름으로 슬라이싱 **\n",
        "# df.loc[:,'rep'::2] # 'str':'str' -- 칼럼이름으로 스트라이딩 **\n",
        "# df.loc[:,['att']] # [str]\n",
        "# df.loc[:,['att','rep']] # [str,str]\n",
        "# df.loc[:,[True,False,False,True]] # bool의 list"
      ],
      "id": "c996519f"
    },
    {
      "cell_type": "markdown",
      "metadata": {
        "id": "f3230ec1-dacc-415c-b7ab-ddcb46e6f6f3"
      },
      "source": [
        "## 행의 선택\n",
        "\n",
        "`-` 방법1: `df[]` + int:int, str:str, \\[bool,bool\\],\n",
        "pd.Series(\\[bool,bool\\]) – $(\\star\\star\\star\\star\\star)$"
      ],
      "id": "f3230ec1-dacc-415c-b7ab-ddcb46e6f6f3"
    },
    {
      "cell_type": "code",
      "execution_count": null,
      "metadata": {
        "id": "bfa1db85-d013-4cec-9bd5-201cfc83e3c2"
      },
      "outputs": [],
      "source": [
        "# df[:2] # int:int -- 슬라이싱 // df.iloc[:2,:], df.iloc[:2] 와 같음\n",
        "# df[0:5:2] # int:int -- 스트라이딩\n",
        "# df[:'2022-12312'] # str:str -- 슬라이싱 // df.loc[:'2022-12312'], df.loc[:'2022-12312',:] 와 같음\n",
        "# df[:'2022-12312':2] # str:str -- 스트라이딩\n",
        "# df[list(df.att < 70)] # [bool,bool]\n",
        "# df[df.att < 70] # pd.Series([bool,bool])"
      ],
      "id": "bfa1db85-d013-4cec-9bd5-201cfc83e3c2"
    },
    {
      "cell_type": "markdown",
      "metadata": {
        "id": "1e6ec7f5-0ec4-4808-b754-316101521a04"
      },
      "source": [
        "`-` 방법2: `df.iloc[]`, `df.iloc[,:]` + int, int:int, \\[int,int\\],\n",
        "\\[bool,bool\\], range"
      ],
      "id": "1e6ec7f5-0ec4-4808-b754-316101521a04"
    },
    {
      "cell_type": "code",
      "execution_count": null,
      "metadata": {
        "id": "17edc896"
      },
      "outputs": [],
      "source": [
        "# df.iloc[0] # int\n",
        "# df.iloc[-2:] # int:int -- 슬라이싱\n",
        "# df.iloc[1::2] # int:int -- 스트라이딩\n",
        "# df.iloc[[0]] # [int]\n",
        "# df.iloc[[0,1]] # [int,int]\n",
        "# df.iloc[[True]+[False]*19] # [bool,bool]\n",
        "# df.iloc[range(2)] # range"
      ],
      "id": "17edc896"
    },
    {
      "cell_type": "code",
      "execution_count": null,
      "metadata": {
        "id": "27c47db1"
      },
      "outputs": [],
      "source": [
        "# df.iloc[0,:] # int\n",
        "# df.iloc[-2:,:] # int:int -- 슬라이싱\n",
        "# df.iloc[1::2,:] # int:int -- 스트라이딩\n",
        "# df.iloc[[0],:] # [int]\n",
        "# df.iloc[[0,1],:] # [int,int]\n",
        "# df.iloc[[True]+[False]*19,:] # [bool,bool]\n",
        "# df.iloc[range(2),:] # range"
      ],
      "id": "27c47db1"
    },
    {
      "cell_type": "markdown",
      "metadata": {
        "id": "8bc5a57d-6952-4d0e-9b8c-217b046728ba"
      },
      "source": [
        "`-` 방법3: `df.loc[]`, `df.loc[,:]` + int, str, int:int, str:str,\n",
        "\\[int,int\\], \\[str,str\\], \\[bool,bool\\], pd.Series(\\[bool,bool\\])\n",
        "\n",
        "|     type of indexer      | target | `.` | `[]` | `.iloc` |  `.loc`  | comment |\n",
        "|:------------------------:|:------:|:---:|:----:|:-------:|:--------:|:-------:|\n",
        "|           int            |  row   |  X  |  X   |    O    | $\\Delta$ |         |\n",
        "|           int            |  col   |  X  |  X   |    O    |    X     |         |\n",
        "|           str            |  row   |  X  |  X   |    X    |    O     |         |\n",
        "|           str            |  col   |  O  |  O   |    X    |    O     |         |\n",
        "|         int:int          |  row   |  X  |  O   |    O    | $\\Delta$ |         |\n",
        "|         int:int          |  col   |  X  |  X   |    O    |    X     |         |\n",
        "|         str:str          |  row   |  X  |  O   |    X    |    O     |         |\n",
        "|         str:str          |  col   |  X  |  X   |    X    |    O     |         |\n",
        "|       \\[int,int\\]        |  row   |  X  |  X   |    O    | $\\Delta$ |         |\n",
        "|       \\[int,int\\]        |  col   |  X  |  X   |    O    |    X     |         |\n",
        "|       \\[str,str\\]        |  row   |  X  |  X   |    X    |    O     |         |\n",
        "|       \\[str,str\\]        |  col   |  X  |  O   |    X    |    O     |         |\n",
        "|      \\[bool,bool\\]       |  row   |  X  |  O   |    O    |    O     |         |\n",
        "|      \\[bool,bool\\]       |  col   |  X  |  X   |    O    |    O     |         |\n",
        "| pd.Series(\\[bool,bool\\]) |  row   |  X  |  O   |    X    |    O     |         |"
      ],
      "id": "8bc5a57d-6952-4d0e-9b8c-217b046728ba"
    },
    {
      "cell_type": "code",
      "execution_count": null,
      "metadata": {
        "id": "3aef55e8-07a7-40e9-aaa2-b27b593b0606"
      },
      "outputs": [],
      "source": [
        "df.loc[[True]+[False]*19]"
      ],
      "id": "3aef55e8-07a7-40e9-aaa2-b27b593b0606"
    },
    {
      "cell_type": "code",
      "execution_count": null,
      "metadata": {
        "id": "6c6eec49"
      },
      "outputs": [],
      "source": [
        "# df2.loc[0] # int\n",
        "# df.loc['2022-12380'] # str\n",
        "# df2.loc[:2] # int:int\n",
        "# df.loc[:'2022-12363'] # str:str\n",
        "# df2.loc[[0,1]] # [int,int]\n",
        "# df.loc[['2022-12380','2022-12370']] # [str,str]\n",
        "# df.loc[[True]+[False]*19] # [bool,bool]\n",
        "# df.loc[df.att>70] # pd.Series([bool,bool])"
      ],
      "id": "6c6eec49"
    },
    {
      "cell_type": "code",
      "execution_count": null,
      "metadata": {
        "id": "14c52144-881a-4b4a-929c-99072c559905"
      },
      "outputs": [],
      "source": [
        "# df2.loc[0,:] # int\n",
        "# df.loc['2022-12380',:] # str\n",
        "# df2.loc[:2,:] # int:int\n",
        "# df.loc[:'2022-12363',:] # str:str\n",
        "# df2.loc[[0,1],:] # [int,int]\n",
        "# df.loc[['2022-12380','2022-12370'],:] # [str,str]\n",
        "# df.loc[[True]+[False]*19,:] # [bool,bool]\n",
        "# df.loc[df.att>70,:] # pd.Series([bool,bool])"
      ],
      "id": "14c52144-881a-4b4a-929c-99072c559905"
    },
    {
      "cell_type": "markdown",
      "metadata": {
        "id": "94443737-fd97-4b32-b42a-30c32bfe0e07"
      },
      "source": [
        "## 요약\n",
        "\n",
        "`-` 알아두면 좋은 규칙\n",
        "\n",
        "-   `.iloc[]` 와 `.iloc[,:]`는 완전히 동등하다.\n",
        "-   `.loc[]` 와 `.loc[,:]`는 완전히 동등하다.\n",
        "\n",
        "`-` 정리\n",
        "\n",
        "## 제 스타일\n",
        "\n",
        "`-` **가장 안전한 코드**"
      ],
      "id": "94443737-fd97-4b32-b42a-30c32bfe0e07"
    },
    {
      "cell_type": "code",
      "execution_count": null,
      "metadata": {
        "id": "ff90e607-a2af-4b4e-86d1-67a51bfb548e"
      },
      "outputs": [],
      "source": [
        "# df.loc[:,:]"
      ],
      "id": "ff90e607-a2af-4b4e-86d1-67a51bfb548e"
    },
    {
      "cell_type": "markdown",
      "metadata": {
        "id": "1233d32d-ad5f-49a4-ae05-8f07bc476288"
      },
      "source": [
        "`-` 상황1: 하나의 col을 뽑으려 할때 좋은 코드"
      ],
      "id": "1233d32d-ad5f-49a4-ae05-8f07bc476288"
    },
    {
      "cell_type": "code",
      "execution_count": null,
      "metadata": {
        "id": "8659f013-12f9-40c3-9d1b-ee2b6a008789"
      },
      "outputs": [],
      "source": [
        "# df.att # 최애\n",
        "# df['att'] # 차애\n",
        "# df[['att']] # 차애의 대안"
      ],
      "id": "8659f013-12f9-40c3-9d1b-ee2b6a008789"
    },
    {
      "cell_type": "markdown",
      "metadata": {
        "id": "75cb5c6a-2a79-45e5-985a-98b53d73fb00"
      },
      "source": [
        "`-` 상황2: row 슬라이싱을 할때 좋은 코드 $(\\star\\star\\star)$"
      ],
      "id": "75cb5c6a-2a79-45e5-985a-98b53d73fb00"
    },
    {
      "cell_type": "code",
      "execution_count": null,
      "metadata": {
        "id": "578579b3-ab7b-4409-bfc2-eac5aeb6125b"
      },
      "outputs": [],
      "source": [
        "# df[:5] # 최애, df.iloc[:5]와 같다.\n",
        "# df[:'2022-12312'] # 차애, df.loc[:'2022-12312'] 와 같다"
      ],
      "id": "578579b3-ab7b-4409-bfc2-eac5aeb6125b"
    },
    {
      "cell_type": "markdown",
      "metadata": {
        "id": "f939359b-c29b-4de3-928c-516e9422bec4"
      },
      "source": [
        "`-` 상황3: 조건에 맞는 row를 뽑을때 좋은 코드"
      ],
      "id": "f939359b-c29b-4de3-928c-516e9422bec4"
    },
    {
      "cell_type": "code",
      "execution_count": null,
      "metadata": {
        "id": "374952df-9c9f-49da-bbe5-ba59fa03c20d"
      },
      "outputs": [],
      "source": [
        "# df[df.att<60] # 최애\n",
        "# df[[att<60 for att in df.att]] # 차애"
      ],
      "id": "374952df-9c9f-49da-bbe5-ba59fa03c20d"
    },
    {
      "cell_type": "markdown",
      "metadata": {
        "id": "bfe5205d-986b-4071-9f2f-4064b41e4019"
      },
      "source": [
        "`-` 상황4: 하나의 row를 뽑으려 할때 좋은 코드"
      ],
      "id": "bfe5205d-986b-4071-9f2f-4064b41e4019"
    },
    {
      "cell_type": "code",
      "execution_count": null,
      "metadata": {
        "id": "b6c8c863-be85-4e6a-a275-f386df649297"
      },
      "outputs": [],
      "source": [
        "# df.loc[0] # 최애\n",
        "# df.iloc[0] # 최애\n",
        "# df.loc[[0]] # 최애의 대안\n",
        "# df.iloc[[0]] # 최애의 대안"
      ],
      "id": "b6c8c863-be85-4e6a-a275-f386df649297"
    },
    {
      "cell_type": "markdown",
      "metadata": {
        "id": "844f2e07-0524-4e41-9d8f-494ef71b159d"
      },
      "source": [
        "`-` 상황5: (row,col)을 뽑으려 할때 좋은 코드"
      ],
      "id": "844f2e07-0524-4e41-9d8f-494ef71b159d"
    },
    {
      "cell_type": "code",
      "execution_count": null,
      "metadata": {
        "id": "6a3c5b60-63d7-4d00-8a52-d0bfa00b2cb5"
      },
      "outputs": [],
      "source": [
        "# 방법1: pd.Series를 뽑고 -> 인덱스로접근\n",
        "# df.att[0]\n",
        "# df['att'][0]\n",
        "\n",
        "# 방법2: iloc, loc 으로 한번에 뽑기\n",
        "# df.iloc[0,0]\n",
        "# df.loc[0,'att']"
      ],
      "id": "6a3c5b60-63d7-4d00-8a52-d0bfa00b2cb5"
    },
    {
      "cell_type": "markdown",
      "metadata": {
        "id": "43918bc2-709a-45ed-8c87-0961fd4c9bc0"
      },
      "source": [
        "***위의 상황이외에는 `df.loc[:,:]`를 사용하는것이 유리하다***\n",
        "\n",
        "`-` 상황6: column 슬라이싱을 할때"
      ],
      "id": "43918bc2-709a-45ed-8c87-0961fd4c9bc0"
    },
    {
      "cell_type": "code",
      "execution_count": null,
      "metadata": {
        "id": "bb01bd9d-a8ca-48ed-8727-5798cc0347bc"
      },
      "outputs": [],
      "source": [
        "# df.loc[:,'att':'mid'] # 끝점포함"
      ],
      "id": "bb01bd9d-a8ca-48ed-8727-5798cc0347bc"
    },
    {
      "cell_type": "markdown",
      "metadata": {
        "id": "f527e893-fc29-4769-bb34-f880556a7983"
      },
      "source": [
        "`-` 상황7: row + column 슬라이싱을 하는 가장 좋은 코드"
      ],
      "id": "f527e893-fc29-4769-bb34-f880556a7983"
    },
    {
      "cell_type": "code",
      "execution_count": null,
      "metadata": {
        "id": "28b54ecb-9acf-47d3-9a62-c1d8cd3453ff"
      },
      "outputs": [],
      "source": [
        "# df.loc[0:5,'att':'mid']"
      ],
      "id": "28b54ecb-9acf-47d3-9a62-c1d8cd3453ff"
    },
    {
      "cell_type": "markdown",
      "metadata": {
        "id": "bac17025-c3c1-4302-9fec-4ccf8ecd3930"
      },
      "source": [
        "`-` 상황8: 조건에 맞는 col을 뽑기에 가장 좋은 코드"
      ],
      "id": "bac17025-c3c1-4302-9fec-4ccf8ecd3930"
    },
    {
      "cell_type": "code",
      "execution_count": null,
      "metadata": {
        "id": "0bd34bc6-1054-45a2-bcbd-a6872f44b38e"
      },
      "outputs": [],
      "source": [
        "# df.loc[:,[len(col_name)>2 for col_name in df.columns]]"
      ],
      "id": "0bd34bc6-1054-45a2-bcbd-a6872f44b38e"
    },
    {
      "cell_type": "markdown",
      "metadata": {
        "id": "6dec29b3-6201-44e9-a877-98e1aee5db83"
      },
      "source": [
        "`-` 상황9: 조건에 맞는 row, col을 뽑기에 가장 좋은 코드"
      ],
      "id": "6dec29b3-6201-44e9-a877-98e1aee5db83"
    },
    {
      "cell_type": "code",
      "execution_count": null,
      "metadata": {
        "id": "e4a995cb-340a-4aa4-b286-9b6aff53c14e"
      },
      "outputs": [],
      "source": [
        "# df.loc[df.att<60,[len(col_name)>2 for col_name in df.columns]]"
      ],
      "id": "e4a995cb-340a-4aa4-b286-9b6aff53c14e"
    },
    {
      "cell_type": "markdown",
      "metadata": {
        "id": "f3ff1552-5763-4385-af65-5925d57b9070"
      },
      "source": [
        "## 제 스타일 X\n",
        "\n",
        "`-` 제가 안쓰는 코드1"
      ],
      "id": "f3ff1552-5763-4385-af65-5925d57b9070"
    },
    {
      "cell_type": "code",
      "execution_count": null,
      "metadata": {
        "id": "a6cd5736"
      },
      "outputs": [],
      "source": [
        "df[:1]"
      ],
      "id": "a6cd5736"
    },
    {
      "cell_type": "markdown",
      "metadata": {
        "id": "4d66bcf1-b0c1-4176-afe9-b9b00344b76a"
      },
      "source": [
        "이러면 내 입장에서는 마치 아래가 동작할 것 같잖아.."
      ],
      "id": "4d66bcf1-b0c1-4176-afe9-b9b00344b76a"
    },
    {
      "cell_type": "code",
      "execution_count": null,
      "metadata": {
        "id": "fdf15e20"
      },
      "outputs": [],
      "source": [
        "df[0]"
      ],
      "id": "fdf15e20"
    },
    {
      "cell_type": "markdown",
      "metadata": {
        "id": "a978ebad-af52-4a6d-ac97-9ec93b90542b"
      },
      "source": [
        "`-` 제가 안쓰는 코드2: bool의 list를 사용할때 iloc은 가급적 쓰지마세요"
      ],
      "id": "a978ebad-af52-4a6d-ac97-9ec93b90542b"
    },
    {
      "cell_type": "code",
      "execution_count": null,
      "metadata": {
        "id": "6494de36"
      },
      "outputs": [],
      "source": [
        "df.iloc[list(df['att']<80),:]"
      ],
      "id": "6494de36"
    },
    {
      "cell_type": "markdown",
      "metadata": {
        "id": "cf2f99ed-fd4e-44a2-b146-8c90cc1a9b76"
      },
      "source": [
        "이러면 마치 아래도 동작할 것 같잖아.."
      ],
      "id": "cf2f99ed-fd4e-44a2-b146-8c90cc1a9b76"
    },
    {
      "cell_type": "code",
      "execution_count": null,
      "metadata": {
        "id": "b46298e7"
      },
      "outputs": [],
      "source": [
        "df.iloc[df['att']<80,:]"
      ],
      "id": "b46298e7"
    },
    {
      "cell_type": "markdown",
      "metadata": {
        "id": "5e9e85ac-a454-42b6-a345-4fc40face57c"
      },
      "source": [
        "## 열의선택2 (까다로워)"
      ],
      "id": "5e9e85ac-a454-42b6-a345-4fc40face57c"
    },
    {
      "cell_type": "code",
      "execution_count": null,
      "metadata": {
        "vscode": {
          "languageId": "python"
        },
        "id": "25374dcd-4c5e-4a81-b7f1-d92d554a1ecf"
      },
      "outputs": [],
      "source": [
        "df=pd.read_csv('https://raw.githubusercontent.com/PacktPublishing/Pandas-Cookbook/master/data/movie.csv')\n",
        "df"
      ],
      "id": "25374dcd-4c5e-4a81-b7f1-d92d554a1ecf"
    },
    {
      "cell_type": "markdown",
      "metadata": {
        "id": "17e4f639-5f4b-43b5-bd5e-6a6f07ddfadb"
      },
      "source": [
        "**Quiz** 열의 이름을 출력하여 보자.\n",
        "\n",
        "### EX1: color ~ num_voted_user 를 뽑고 + aspect_ratio 도 추가적으로 뽑고싶다.\n",
        "\n",
        "`-` df.loc\\[:,:\\] 으로 처리하기 까다로움"
      ],
      "id": "17e4f639-5f4b-43b5-bd5e-6a6f07ddfadb"
    },
    {
      "cell_type": "code",
      "execution_count": null,
      "metadata": {
        "vscode": {
          "languageId": "python"
        },
        "id": "a299691a-5a2f-456f-ba29-5e5859abfd59"
      },
      "outputs": [],
      "source": [
        "df.loc[:,['color':'num_voted_users','aspect_ratio']]"
      ],
      "id": "a299691a-5a2f-456f-ba29-5e5859abfd59"
    },
    {
      "cell_type": "markdown",
      "metadata": {
        "id": "411e1099-028e-49d1-af12-f68ad3b898ab"
      },
      "source": [
        "`-` (팁) 복잡한 조건은 iloc으로 쓰는게 편할때가 있다. $\\to$ 그런데\n",
        "`df.columns` 변수들이 몇번인지 알아보기 힘듬 $\\to$ 아래와 같이 하면 열의\n",
        "이름을 인덱스와 함께 출력할 수 있음"
      ],
      "id": "411e1099-028e-49d1-af12-f68ad3b898ab"
    },
    {
      "cell_type": "code",
      "execution_count": null,
      "metadata": {
        "vscode": {
          "languageId": "python"
        },
        "id": "4a9e56d0-d3af-4f81-9d25-0ec1953f3ecf"
      },
      "outputs": [],
      "source": [
        "pd.Series(df.columns)"
      ],
      "id": "4a9e56d0-d3af-4f81-9d25-0ec1953f3ecf"
    },
    {
      "cell_type": "code",
      "execution_count": null,
      "metadata": {
        "vscode": {
          "languageId": "python"
        },
        "id": "f5810a48-dfec-4e8b-a170-bc31a706db43"
      },
      "outputs": [],
      "source": [
        "list(range(13))+[26]"
      ],
      "id": "f5810a48-dfec-4e8b-a170-bc31a706db43"
    },
    {
      "cell_type": "code",
      "execution_count": null,
      "metadata": {
        "vscode": {
          "languageId": "python"
        },
        "id": "ae8d97b1-64ce-460d-a365-47ef65e3e51d"
      },
      "outputs": [],
      "source": [
        "df.iloc[:,list(range(13))+[26]]"
      ],
      "id": "ae8d97b1-64ce-460d-a365-47ef65e3e51d"
    },
    {
      "cell_type": "markdown",
      "metadata": {
        "id": "b04f4031-1d4b-4eb8-8c7e-343ea857a53b"
      },
      "source": [
        "### EX2: actor라는 단어가 포함된 column 선택"
      ],
      "id": "b04f4031-1d4b-4eb8-8c7e-343ea857a53b"
    },
    {
      "cell_type": "code",
      "execution_count": null,
      "metadata": {
        "vscode": {
          "languageId": "python"
        },
        "id": "e695dfc6-0d9a-4c90-b94a-df747fd57bc0"
      },
      "outputs": [],
      "source": [
        "df.columns"
      ],
      "id": "e695dfc6-0d9a-4c90-b94a-df747fd57bc0"
    },
    {
      "cell_type": "code",
      "execution_count": null,
      "metadata": {
        "id": "524c7e7c-3ede-467e-a244-3e4234a2630a"
      },
      "outputs": [],
      "source": [
        "df.loc[:,['actor' in col_name for col_name in df]]"
      ],
      "id": "524c7e7c-3ede-467e-a244-3e4234a2630a"
    },
    {
      "cell_type": "markdown",
      "metadata": {
        "id": "fdf05800-3447-44ee-8d86-217c93fd99b2"
      },
      "source": [
        "### EX3: s로 끝나는 column 선택"
      ],
      "id": "fdf05800-3447-44ee-8d86-217c93fd99b2"
    },
    {
      "cell_type": "code",
      "execution_count": null,
      "metadata": {
        "vscode": {
          "languageId": "python"
        },
        "id": "60fb5211-6406-480e-baa4-c8d21ecdd65d"
      },
      "outputs": [],
      "source": [
        "df.columns"
      ],
      "id": "60fb5211-6406-480e-baa4-c8d21ecdd65d"
    },
    {
      "cell_type": "code",
      "execution_count": null,
      "metadata": {
        "id": "74f53196-8111-4e1b-9d43-7181c63e5ddc"
      },
      "outputs": [],
      "source": [
        "df.loc[:,[col_name[-1]=='s' for col_name in df]]"
      ],
      "id": "74f53196-8111-4e1b-9d43-7181c63e5ddc"
    },
    {
      "cell_type": "markdown",
      "metadata": {
        "id": "ac58c6f0-dcea-49af-8662-7679553d6b0d"
      },
      "source": [
        "### EX4: c 혹은 d로 시작하는 column 선택"
      ],
      "id": "ac58c6f0-dcea-49af-8662-7679553d6b0d"
    },
    {
      "cell_type": "code",
      "execution_count": null,
      "metadata": {
        "vscode": {
          "languageId": "python"
        },
        "id": "12fb1112-2093-479b-bb02-65b031b75652"
      },
      "outputs": [],
      "source": [
        "df.columns"
      ],
      "id": "12fb1112-2093-479b-bb02-65b031b75652"
    },
    {
      "cell_type": "code",
      "execution_count": null,
      "metadata": {
        "id": "374aeb51-9931-42a8-a58c-859aa4dd7057"
      },
      "outputs": [],
      "source": [
        "df.loc[:,[col_name[0]=='c' or col_name[0]=='d' for col_name in df]]"
      ],
      "id": "374aeb51-9931-42a8-a58c-859aa4dd7057"
    },
    {
      "cell_type": "markdown",
      "metadata": {
        "id": "b4065d92-1602-4987-a374-9fe4cd97dfc8"
      },
      "source": [
        "# pandas 공부 3단계: 필터링"
      ],
      "id": "b4065d92-1602-4987-a374-9fe4cd97dfc8"
    },
    {
      "cell_type": "code",
      "execution_count": null,
      "metadata": {
        "id": "55703b0b"
      },
      "outputs": [],
      "source": [
        "np.random.seed(43052)\n",
        "att = np.random.choice(np.arange(10,21)*5,20)\n",
        "rep = np.random.choice(np.arange(5,21)*5,20)\n",
        "mid = np.random.choice(np.arange(0,21)*5,20)\n",
        "fin = np.random.choice(np.arange(0,21)*5,20)\n",
        "key = ['2022-12'+str(s) for s in np.random.choice(np.arange(300,501),20,replace=False)]\n",
        "df = pd.DataFrame({'att':att,'rep':rep,'mid':mid,'fin':fin},index=key)\n",
        "df.head()"
      ],
      "id": "55703b0b"
    },
    {
      "cell_type": "markdown",
      "metadata": {
        "id": "c240af8a-6ce0-4d85-adb0-fa506049ed42"
      },
      "source": [
        "## query ($\\star$)\n",
        "\n",
        "`-` 예제1: att==90 and fin\\>30"
      ],
      "id": "c240af8a-6ce0-4d85-adb0-fa506049ed42"
    },
    {
      "cell_type": "code",
      "execution_count": null,
      "metadata": {
        "id": "26d72124"
      },
      "outputs": [],
      "source": [
        "df.query('att ==90 and fin >30')"
      ],
      "id": "26d72124"
    },
    {
      "cell_type": "markdown",
      "metadata": {
        "id": "73727a4c-68c4-4870-a3ff-f1d6af0e140c"
      },
      "source": [
        "`-` 예제2: att\\<rep and mid\\<fin"
      ],
      "id": "73727a4c-68c4-4870-a3ff-f1d6af0e140c"
    },
    {
      "cell_type": "code",
      "execution_count": null,
      "metadata": {
        "id": "70075423"
      },
      "outputs": [],
      "source": [
        "df.query('att<rep and mid<fin')"
      ],
      "id": "70075423"
    },
    {
      "cell_type": "markdown",
      "metadata": {
        "id": "146aeac9-7474-440d-b992-6da7cb0e6f66"
      },
      "source": [
        "`-` 예제3: att \\< rep \\< 80"
      ],
      "id": "146aeac9-7474-440d-b992-6da7cb0e6f66"
    },
    {
      "cell_type": "code",
      "execution_count": null,
      "metadata": {
        "id": "a84ac3ff"
      },
      "outputs": [],
      "source": [
        "df.query('att<rep<80')"
      ],
      "id": "a84ac3ff"
    },
    {
      "cell_type": "markdown",
      "metadata": {
        "id": "adf36828-94eb-4b45-8d62-97810c6856e2"
      },
      "source": [
        "`-` 예제4: 50 \\< att \\<= 90 and mid \\< fin"
      ],
      "id": "adf36828-94eb-4b45-8d62-97810c6856e2"
    },
    {
      "cell_type": "code",
      "execution_count": null,
      "metadata": {
        "id": "a53c0cef"
      },
      "outputs": [],
      "source": [
        "df.query('50<att<=90 and mid<fin')"
      ],
      "id": "a53c0cef"
    },
    {
      "cell_type": "markdown",
      "metadata": {
        "id": "7fce733e-2e60-4d7f-81ca-a0be2002decb"
      },
      "source": [
        "`-` 예제5: (mid+fin)/2 \\>=60"
      ],
      "id": "7fce733e-2e60-4d7f-81ca-a0be2002decb"
    },
    {
      "cell_type": "code",
      "execution_count": null,
      "metadata": {
        "id": "e27df188"
      },
      "outputs": [],
      "source": [
        "df.query('(mid+fin)/2>=60')"
      ],
      "id": "e27df188"
    },
    {
      "cell_type": "markdown",
      "metadata": {
        "id": "8237f069-c49c-45b0-8925-3d6620f58468"
      },
      "source": [
        "`-` 예제6: att \\> mean(att)"
      ],
      "id": "8237f069-c49c-45b0-8925-3d6620f58468"
    },
    {
      "cell_type": "code",
      "execution_count": null,
      "metadata": {
        "id": "088f745a"
      },
      "outputs": [],
      "source": [
        "_mean = df['att'].mean()\n",
        "_mean"
      ],
      "id": "088f745a"
    },
    {
      "cell_type": "code",
      "execution_count": null,
      "metadata": {
        "id": "bc097a6e"
      },
      "outputs": [],
      "source": [
        "df.query('att> @_mean')"
      ],
      "id": "bc097a6e"
    },
    {
      "cell_type": "markdown",
      "metadata": {
        "id": "5666e568-58e7-4bff-bc4d-a87f976d0a93"
      },
      "source": [
        "# Quiz\n",
        "\n",
        "`(1)` 아래와 같은 데이터 프레임을 선언하라."
      ],
      "id": "5666e568-58e7-4bff-bc4d-a87f976d0a93"
    },
    {
      "cell_type": "code",
      "execution_count": null,
      "metadata": {
        "id": "d8f559d7"
      },
      "outputs": [],
      "source": [
        "from IPython.core.display import HTML\n",
        "HTML('<table border=\"1\" class=\"dataframe\">\\n  <thead>\\n    <tr style=\"text-align: right;\">\\n      <th></th>\\n      <th>A</th>\\n      <th>B</th>\\n    </tr>\\n  </thead>\\n  <tbody>\\n    <tr>\\n      <th>0</th>\\n      <td>1</td>\\n      <td>-2</td>\\n    </tr>\\n    <tr>\\n      <th>1</th>\\n      <td>2</td>\\n      <td>-3</td>\\n    </tr>\\n    <tr>\\n      <th>2</th>\\n      <td>3</td>\\n      <td>-4</td>\\n    </tr>\\n  </tbody>\\n</table>')"
      ],
      "id": "d8f559d7"
    },
    {
      "cell_type": "markdown",
      "metadata": {
        "id": "5030dce1-399b-4e1e-80c0-a1d374e4cf82"
      },
      "source": [
        "`(2)` Column을 이름을 X1, X2로 변경하라. 출력결과는 아래와 같아야 한다."
      ],
      "id": "5030dce1-399b-4e1e-80c0-a1d374e4cf82"
    },
    {
      "cell_type": "code",
      "execution_count": null,
      "metadata": {
        "id": "4bf25299"
      },
      "outputs": [],
      "source": [
        "from IPython.core.display import HTML\n",
        "HTML('<table border=\"1\" class=\"dataframe\">\\n  <thead>\\n    <tr style=\"text-align: right;\">\\n      <th></th>\\n      <th>X1</th>\\n      <th>X2</th>\\n    </tr>\\n  </thead>\\n  <tbody>\\n    <tr>\\n      <th>0</th>\\n      <td>1</td>\\n      <td>-2</td>\\n    </tr>\\n    <tr>\\n      <th>1</th>\\n      <td>2</td>\\n      <td>-3</td>\\n    </tr>\\n    <tr>\\n      <th>2</th>\\n      <td>3</td>\\n      <td>-4</td>\\n    </tr>\\n  </tbody>\\n</table>')"
      ],
      "id": "4bf25299"
    },
    {
      "cell_type": "markdown",
      "metadata": {
        "id": "2a7fd834-75af-415a-9fb0-4cb703fbb27c"
      },
      "source": [
        "`(3)-(5)` 아래와 같은 자료를 고려하자."
      ],
      "id": "2a7fd834-75af-415a-9fb0-4cb703fbb27c"
    },
    {
      "cell_type": "code",
      "execution_count": null,
      "metadata": {
        "id": "00c887d0"
      },
      "outputs": [],
      "source": [
        "df = pd.DataFrame(np.random.normal(size=(100,5)),columns=list('ABCDE'))\n",
        "df"
      ],
      "id": "00c887d0"
    },
    {
      "cell_type": "markdown",
      "metadata": {
        "id": "9e6b2f5f-0bbc-4939-b4ee-0af4837b6a1c"
      },
      "source": [
        "`(3)` B,D열을 선택하라.\n",
        "\n",
        "`(4)` 마지막 10개의 row를 출력하라.\n",
        "\n",
        "`(5)` A,B 열의 처음 10개의 row를 출력하라.\n",
        "\n",
        "`(6)-(9)` 아래와 같은 자료를 고려하자."
      ],
      "id": "9e6b2f5f-0bbc-4939-b4ee-0af4837b6a1c"
    },
    {
      "cell_type": "code",
      "execution_count": null,
      "metadata": {
        "id": "b42e10d7"
      },
      "outputs": [],
      "source": [
        "df=pd.read_csv('https://raw.githubusercontent.com/PacktPublishing/Pandas-Cookbook/master/data/movie.csv')\n",
        "df"
      ],
      "id": "b42e10d7"
    },
    {
      "cell_type": "markdown",
      "metadata": {
        "id": "4050240c-a731-4f4b-a1c8-a0c5a31b6eef"
      },
      "source": [
        "`(6)` 이 데이터프레임에는 몇개의 컬럼이 있는지 count하라.\n",
        "\n",
        "**hint**: df.columns의 len을 조사\n",
        "\n",
        "`(7)` 데이터프레임의 컬럼이름이 c혹은 d로 시작하는 열은 몇개 있는지\n",
        "세어보라.\n",
        "\n",
        "**hint:** 아래의 코드를 관찰"
      ],
      "id": "4050240c-a731-4f4b-a1c8-a0c5a31b6eef"
    },
    {
      "cell_type": "code",
      "execution_count": null,
      "metadata": {
        "id": "088a9bf5"
      },
      "outputs": [],
      "source": [
        "lst = ['color', 'director_name', 'num_critic_for_reviews', 'duration']\n",
        "[l for l in lst if l[0]=='c' or l[0]=='d']"
      ],
      "id": "088a9bf5"
    },
    {
      "cell_type": "markdown",
      "metadata": {
        "id": "53b5ecbf-a86c-42fc-b2f7-13a3af6966c5"
      },
      "source": [
        "`(8)` 이 데이터프레임에서 ’actor’라는 단어가 포함된 열의 이름이\n",
        "몇개있는지 세어보라.\n",
        "\n",
        "`(9)` 이 데이터프레임에서 ’\\_’ 가 포함된 열을 출력하라."
      ],
      "id": "53b5ecbf-a86c-42fc-b2f7-13a3af6966c5"
    }
  ],
  "nbformat": 4,
  "nbformat_minor": 5,
  "metadata": {
    "kernelspec": {
      "name": "python3",
      "display_name": "Python 3 (ipykernel)",
      "language": "python"
    },
    "language_info": {
      "name": "python",
      "codemirror_mode": {
        "name": "ipython",
        "version": "3"
      },
      "file_extension": ".py",
      "mimetype": "text/x-python",
      "nbconvert_exporter": "python",
      "pygments_lexer": "ipython3",
      "version": "3.10.12"
    },
    "colab": {
      "provenance": []
    }
  }
}