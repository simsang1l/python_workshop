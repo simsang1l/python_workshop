{
  "cells": [
    {
      "cell_type": "raw",
      "id": "9ff01df2-bb40-4548-81d4-fc5697641902",
      "metadata": {
        "id": "9ff01df2-bb40-4548-81d4-fc5697641902"
      },
      "source": [
        "---\n",
        "title: \"Lesson 01: 파이썬의 자료형 I (int, float, bool, str)\"\n",
        "author: \"최규빈\"\n",
        "date: \"06/24/2023\"\n",
        "---"
      ]
    },
    {
      "cell_type": "markdown",
      "id": "c2935545-218b-477a-979d-27e0a34ca454",
      "metadata": {
        "id": "c2935545-218b-477a-979d-27e0a34ca454"
      },
      "source": [
        "<a href=\"https://colab.research.google.com/github/guebin/PP2023SUM/blob/main/posts/Day1/01_PythonBasicSyntax/ls01.ipynb\"><img src=\"https://colab.research.google.com/assets/colab-badge.svg\" style=\"text-align: left\"></a>"
      ]
    },
    {
      "cell_type": "markdown",
      "id": "f226038d-c24f-42c2-a9a6-c2b23ea76483",
      "metadata": {
        "id": "f226038d-c24f-42c2-a9a6-c2b23ea76483"
      },
      "source": [
        "# Intro"
      ]
    },
    {
      "cell_type": "markdown",
      "id": "94150770-ffae-4a61-8011-d58593f8fddd",
      "metadata": {
        "id": "94150770-ffae-4a61-8011-d58593f8fddd"
      },
      "source": [
        "`-` 파이썬의 기본자료형은 int, float, bool, str, list, tuple, dict, set 등이 있다.\n",
        "\n",
        "- 0차원 자료형: int, float, bool\n",
        "- 1차원 자료형: str, list, tuple, dict, set"
      ]
    },
    {
      "cell_type": "markdown",
      "id": "8765d352-8564-4b4d-8626-2225a819ea13",
      "metadata": {
        "id": "8765d352-8564-4b4d-8626-2225a819ea13"
      },
      "source": [
        "# int, float, bool"
      ]
    },
    {
      "cell_type": "markdown",
      "id": "def958b3-47d0-4cd3-8507-4e1e42c36ddc",
      "metadata": {
        "id": "def958b3-47d0-4cd3-8507-4e1e42c36ddc"
      },
      "source": [
        "`-` int형"
      ]
    },
    {
      "cell_type": "code",
      "execution_count": null,
      "id": "1b29ab3b-e2e5-4798-95ce-641e3770a020",
      "metadata": {
        "vscode": {
          "languageId": "python"
        },
        "id": "1b29ab3b-e2e5-4798-95ce-641e3770a020"
      },
      "outputs": [],
      "source": [
        "a=100"
      ]
    },
    {
      "cell_type": "code",
      "execution_count": null,
      "id": "1e52610d-ea3a-4dab-8b69-d04705d759ba",
      "metadata": {
        "vscode": {
          "languageId": "python"
        },
        "id": "1e52610d-ea3a-4dab-8b69-d04705d759ba",
        "outputId": "34c50cba-66ac-4e86-ee45-c383fd3a0b94"
      },
      "outputs": [
        {
          "data": {
            "text/plain": [
              "int"
            ]
          },
          "execution_count": 15,
          "metadata": {},
          "output_type": "execute_result"
        }
      ],
      "source": [
        "type(a)"
      ]
    },
    {
      "cell_type": "markdown",
      "id": "cc1fbbeb-068b-42a6-8c0c-9772b952428c",
      "metadata": {
        "id": "cc1fbbeb-068b-42a6-8c0c-9772b952428c"
      },
      "source": [
        "`-` float형"
      ]
    },
    {
      "cell_type": "code",
      "execution_count": null,
      "id": "bcfcd346-1943-4b3d-a5be-3e77657aa3f1",
      "metadata": {
        "vscode": {
          "languageId": "python"
        },
        "id": "bcfcd346-1943-4b3d-a5be-3e77657aa3f1",
        "outputId": "4a5a51e2-4d69-4de2-e5b6-64ff4d5f5e25"
      },
      "outputs": [
        {
          "data": {
            "text/plain": [
              "3.5999999999999996"
            ]
          },
          "execution_count": 7,
          "metadata": {},
          "output_type": "execute_result"
        }
      ],
      "source": [
        "a=1.2*3\n",
        "a"
      ]
    },
    {
      "cell_type": "code",
      "execution_count": null,
      "id": "6c60ce75-b0d1-490e-9c11-6fe2dae2d738",
      "metadata": {
        "vscode": {
          "languageId": "python"
        },
        "id": "6c60ce75-b0d1-490e-9c11-6fe2dae2d738",
        "outputId": "6ff7fab3-f05d-4b7d-b393-afe4a3320f6c"
      },
      "outputs": [
        {
          "data": {
            "text/plain": [
              "float"
            ]
          },
          "execution_count": 19,
          "metadata": {},
          "output_type": "execute_result"
        }
      ],
      "source": [
        "type(a)"
      ]
    },
    {
      "cell_type": "code",
      "execution_count": null,
      "id": "6e44e4e8-9241-466d-90f5-ce0e648352b6",
      "metadata": {
        "vscode": {
          "languageId": "python"
        },
        "id": "6e44e4e8-9241-466d-90f5-ce0e648352b6",
        "outputId": "1002a174-32dc-4b29-a84d-72a088a58006"
      },
      "outputs": [
        {
          "data": {
            "text/plain": [
              "\u001b[0;31mType:\u001b[0m        float\n",
              "\u001b[0;31mString form:\u001b[0m 3.5999999999999996\n",
              "\u001b[0;31mDocstring:\u001b[0m   Convert a string or number to a floating point number, if possible.\n"
            ]
          },
          "metadata": {},
          "output_type": "display_data"
        }
      ],
      "source": [
        "a?"
      ]
    },
    {
      "cell_type": "markdown",
      "id": "c9636480-fc45-4e36-8f4b-dd7275f74fce",
      "metadata": {
        "id": "c9636480-fc45-4e36-8f4b-dd7275f74fce"
      },
      "source": [
        "`-` bool형"
      ]
    },
    {
      "cell_type": "code",
      "execution_count": null,
      "id": "c4e1bd78-23d3-4404-8356-ec6c6bcc0c13",
      "metadata": {
        "vscode": {
          "languageId": "python"
        },
        "id": "c4e1bd78-23d3-4404-8356-ec6c6bcc0c13"
      },
      "outputs": [],
      "source": [
        "a=True ## 숫자1으로 생각할 수 있음\n",
        "b=False ## 숫자0으로 생각할 수 있음"
      ]
    },
    {
      "cell_type": "code",
      "execution_count": null,
      "id": "1ad75565-03c3-4ac4-844f-6a312de68f66",
      "metadata": {
        "vscode": {
          "languageId": "python"
        },
        "id": "1ad75565-03c3-4ac4-844f-6a312de68f66",
        "outputId": "e6b6172d-5351-4635-f6e8-401792033c41"
      },
      "outputs": [
        {
          "data": {
            "text/plain": [
              "bool"
            ]
          },
          "execution_count": 24,
          "metadata": {},
          "output_type": "execute_result"
        }
      ],
      "source": [
        "type(a)"
      ]
    },
    {
      "cell_type": "code",
      "execution_count": null,
      "id": "0f530cc8-0d85-4d56-8902-8dadc37bed9d",
      "metadata": {
        "vscode": {
          "languageId": "python"
        },
        "id": "0f530cc8-0d85-4d56-8902-8dadc37bed9d",
        "outputId": "d12f7777-a27b-4508-e9e2-cf6bfeccfb30"
      },
      "outputs": [
        {
          "data": {
            "text/plain": [
              "bool"
            ]
          },
          "execution_count": 25,
          "metadata": {},
          "output_type": "execute_result"
        }
      ],
      "source": [
        "type(b)"
      ]
    },
    {
      "cell_type": "code",
      "execution_count": null,
      "id": "aa5e54d7-7c8c-4398-9efb-260adc33af46",
      "metadata": {
        "vscode": {
          "languageId": "python"
        },
        "id": "aa5e54d7-7c8c-4398-9efb-260adc33af46",
        "outputId": "bbe7e3fa-3f3d-4df7-b1bf-11aa9d2235de"
      },
      "outputs": [
        {
          "data": {
            "text/plain": [
              "\u001b[0;31mType:\u001b[0m        bool\n",
              "\u001b[0;31mString form:\u001b[0m True\n",
              "\u001b[0;31mDocstring:\u001b[0m  \n",
              "bool(x) -> bool\n",
              "\n",
              "Returns True when the argument x is true, False otherwise.\n",
              "The builtins True and False are the only two instances of the class bool.\n",
              "The class bool is a subclass of the class int, and cannot be subclassed.\n"
            ]
          },
          "metadata": {},
          "output_type": "display_data"
        }
      ],
      "source": [
        "a?"
      ]
    },
    {
      "cell_type": "code",
      "execution_count": null,
      "id": "80f65837-5acb-46f2-acaf-3f46e2fcda73",
      "metadata": {
        "vscode": {
          "languageId": "python"
        },
        "id": "80f65837-5acb-46f2-acaf-3f46e2fcda73",
        "outputId": "de1c6207-c43d-439f-9b74-ca75efaa150d"
      },
      "outputs": [
        {
          "data": {
            "text/plain": [
              "\u001b[0;31mType:\u001b[0m        bool\n",
              "\u001b[0;31mString form:\u001b[0m False\n",
              "\u001b[0;31mDocstring:\u001b[0m  \n",
              "bool(x) -> bool\n",
              "\n",
              "Returns True when the argument x is true, False otherwise.\n",
              "The builtins True and False are the only two instances of the class bool.\n",
              "The class bool is a subclass of the class int, and cannot be subclassed.\n"
            ]
          },
          "metadata": {},
          "output_type": "display_data"
        }
      ],
      "source": [
        "b?"
      ]
    },
    {
      "cell_type": "markdown",
      "id": "c5477454-5c0e-4767-b53f-53022aeac2a6",
      "metadata": {
        "id": "c5477454-5c0e-4767-b53f-53022aeac2a6"
      },
      "source": [
        "`-` bool형의 연산"
      ]
    },
    {
      "cell_type": "code",
      "execution_count": null,
      "id": "09d23a5e-0ae5-46fe-b9e3-35ca4d2921eb",
      "metadata": {
        "vscode": {
          "languageId": "python"
        },
        "id": "09d23a5e-0ae5-46fe-b9e3-35ca4d2921eb"
      },
      "outputs": [],
      "source": [
        "a=True ## 1\n",
        "b=False ## 0"
      ]
    },
    {
      "cell_type": "code",
      "execution_count": null,
      "id": "003980a9-ba53-48cd-a85f-759b7e5797d4",
      "metadata": {
        "vscode": {
          "languageId": "python"
        },
        "id": "003980a9-ba53-48cd-a85f-759b7e5797d4",
        "outputId": "f72b29dc-c3e1-4e40-a5be-b052e8d1bd9b"
      },
      "outputs": [
        {
          "data": {
            "text/plain": [
              "1"
            ]
          },
          "execution_count": 66,
          "metadata": {},
          "output_type": "execute_result"
        }
      ],
      "source": [
        "a+b"
      ]
    },
    {
      "cell_type": "code",
      "execution_count": null,
      "id": "60c4bb4e-45b8-4b98-8de2-c2e3883741e7",
      "metadata": {
        "vscode": {
          "languageId": "python"
        },
        "id": "60c4bb4e-45b8-4b98-8de2-c2e3883741e7",
        "outputId": "4e0daa5a-b130-419d-c33c-a3ca4e1502d1"
      },
      "outputs": [
        {
          "data": {
            "text/plain": [
              "0"
            ]
          },
          "execution_count": 67,
          "metadata": {},
          "output_type": "execute_result"
        }
      ],
      "source": [
        "a*b"
      ]
    },
    {
      "cell_type": "markdown",
      "id": "a2623a61-1294-452f-84dc-67d37c9328d6",
      "metadata": {
        "id": "a2623a61-1294-452f-84dc-67d37c9328d6"
      },
      "source": [
        "`-` complex형"
      ]
    },
    {
      "cell_type": "code",
      "execution_count": null,
      "id": "4b351f96-81a0-4b8e-a7cf-5fc09c2d6f09",
      "metadata": {
        "vscode": {
          "languageId": "python"
        },
        "id": "4b351f96-81a0-4b8e-a7cf-5fc09c2d6f09"
      },
      "outputs": [],
      "source": [
        "a=1+2j\n",
        "b=2-2j"
      ]
    },
    {
      "cell_type": "code",
      "execution_count": null,
      "id": "4fc2d9d3-8f71-469e-bf1e-d95c9398d41a",
      "metadata": {
        "vscode": {
          "languageId": "python"
        },
        "id": "4fc2d9d3-8f71-469e-bf1e-d95c9398d41a",
        "outputId": "e7461726-9399-47ed-d158-e3943f1515a6"
      },
      "outputs": [
        {
          "data": {
            "text/plain": [
              "complex"
            ]
          },
          "execution_count": 21,
          "metadata": {},
          "output_type": "execute_result"
        }
      ],
      "source": [
        "type(a)"
      ]
    },
    {
      "cell_type": "code",
      "execution_count": null,
      "id": "82c43ae8-8f36-487c-aaa5-84fe071781e1",
      "metadata": {
        "vscode": {
          "languageId": "python"
        },
        "id": "82c43ae8-8f36-487c-aaa5-84fe071781e1",
        "outputId": "b9ab2fc0-ce0f-4f7a-eac1-cb431b93eff1"
      },
      "outputs": [
        {
          "data": {
            "text/plain": [
              "complex"
            ]
          },
          "execution_count": 22,
          "metadata": {},
          "output_type": "execute_result"
        }
      ],
      "source": [
        "type(b)"
      ]
    },
    {
      "cell_type": "code",
      "execution_count": null,
      "id": "fc19f936-bb90-4f7e-ad02-287f60ef4c44",
      "metadata": {
        "vscode": {
          "languageId": "python"
        },
        "id": "fc19f936-bb90-4f7e-ad02-287f60ef4c44",
        "outputId": "68be7592-d6cd-4d5b-c763-c03078b41694"
      },
      "outputs": [
        {
          "data": {
            "text/plain": [
              "\u001b[0;31mType:\u001b[0m        complex\n",
              "\u001b[0;31mString form:\u001b[0m (1+2j)\n",
              "\u001b[0;31mDocstring:\u001b[0m  \n",
              "Create a complex number from a real part and an optional imaginary part.\n",
              "\n",
              "This is equivalent to (real + imag*1j) where imag defaults to 0.\n"
            ]
          },
          "metadata": {},
          "output_type": "display_data"
        }
      ],
      "source": [
        "a?"
      ]
    },
    {
      "cell_type": "code",
      "execution_count": null,
      "id": "0da15cd7-3cb3-49cb-b849-691ef89c9cec",
      "metadata": {
        "vscode": {
          "languageId": "python"
        },
        "id": "0da15cd7-3cb3-49cb-b849-691ef89c9cec",
        "outputId": "3710938c-0d5a-4879-ac94-4cd0f96b5b95"
      },
      "outputs": [
        {
          "data": {
            "text/plain": [
              "\u001b[0;31mType:\u001b[0m        complex\n",
              "\u001b[0;31mString form:\u001b[0m (2-2j)\n",
              "\u001b[0;31mDocstring:\u001b[0m  \n",
              "Create a complex number from a real part and an optional imaginary part.\n",
              "\n",
              "This is equivalent to (real + imag*1j) where imag defaults to 0.\n"
            ]
          },
          "metadata": {},
          "output_type": "display_data"
        }
      ],
      "source": [
        "b?"
      ]
    },
    {
      "cell_type": "code",
      "execution_count": null,
      "id": "2728c8cb-29ef-4f1c-b86b-b659513ea72b",
      "metadata": {
        "vscode": {
          "languageId": "python"
        },
        "id": "2728c8cb-29ef-4f1c-b86b-b659513ea72b"
      },
      "outputs": [],
      "source": [
        "c=a+b"
      ]
    },
    {
      "cell_type": "code",
      "execution_count": null,
      "id": "9260fbea-0887-4141-b7a0-9424648ccd7e",
      "metadata": {
        "vscode": {
          "languageId": "python"
        },
        "id": "9260fbea-0887-4141-b7a0-9424648ccd7e",
        "outputId": "85b6368d-8333-48aa-80a6-3138fee7fbb2"
      },
      "outputs": [
        {
          "data": {
            "text/plain": [
              "(3+0j)"
            ]
          },
          "execution_count": 26,
          "metadata": {},
          "output_type": "execute_result"
        }
      ],
      "source": [
        "c"
      ]
    },
    {
      "cell_type": "markdown",
      "id": "e580df44-ed31-4009-9f1f-ea166214d6f3",
      "metadata": {
        "id": "e580df44-ed31-4009-9f1f-ea166214d6f3"
      },
      "source": [
        "`-` 형태변환: float $\\to$ int"
      ]
    },
    {
      "cell_type": "markdown",
      "id": "5e5acacb-93eb-420a-a461-1b308766e4e1",
      "metadata": {
        "id": "5e5acacb-93eb-420a-a461-1b308766e4e1"
      },
      "source": [
        "(예시1)"
      ]
    },
    {
      "cell_type": "code",
      "execution_count": null,
      "id": "8751c225-3b8d-44e2-bfcf-daf58499fba1",
      "metadata": {
        "vscode": {
          "languageId": "python"
        },
        "id": "8751c225-3b8d-44e2-bfcf-daf58499fba1",
        "outputId": "f6bc1aa9-0002-4db2-f30c-268d5e7be578"
      },
      "outputs": [
        {
          "data": {
            "text/plain": [
              "float"
            ]
          },
          "execution_count": 27,
          "metadata": {},
          "output_type": "execute_result"
        }
      ],
      "source": [
        "a=3.0\n",
        "type(a)"
      ]
    },
    {
      "cell_type": "code",
      "execution_count": null,
      "id": "d1d6a707-a6d1-474b-b211-700f22e2279d",
      "metadata": {
        "vscode": {
          "languageId": "python"
        },
        "id": "d1d6a707-a6d1-474b-b211-700f22e2279d"
      },
      "outputs": [],
      "source": [
        "a=int(a)"
      ]
    },
    {
      "cell_type": "code",
      "execution_count": null,
      "id": "7269c089-b331-46f7-9670-7ba20e0271b6",
      "metadata": {
        "vscode": {
          "languageId": "python"
        },
        "id": "7269c089-b331-46f7-9670-7ba20e0271b6",
        "outputId": "463e32ee-429b-478f-876c-b3542fd27fc4"
      },
      "outputs": [
        {
          "data": {
            "text/plain": [
              "int"
            ]
          },
          "execution_count": 29,
          "metadata": {},
          "output_type": "execute_result"
        }
      ],
      "source": [
        "type(a)"
      ]
    },
    {
      "cell_type": "markdown",
      "id": "7559a5dd-4e3e-4c07-9494-fbbcfdb3de2b",
      "metadata": {
        "id": "7559a5dd-4e3e-4c07-9494-fbbcfdb3de2b"
      },
      "source": [
        "(예시2) 이경우는 정보의 손실이 발생"
      ]
    },
    {
      "cell_type": "code",
      "execution_count": null,
      "id": "4ad501ec-a3f0-4514-a79e-dbb6ee1d1a8f",
      "metadata": {
        "vscode": {
          "languageId": "python"
        },
        "id": "4ad501ec-a3f0-4514-a79e-dbb6ee1d1a8f",
        "outputId": "ee8bff5e-b6de-4cc8-98d3-9495b5468e99"
      },
      "outputs": [
        {
          "data": {
            "text/plain": [
              "3"
            ]
          },
          "execution_count": 30,
          "metadata": {},
          "output_type": "execute_result"
        }
      ],
      "source": [
        "a=3.14\n",
        "int(a)"
      ]
    },
    {
      "cell_type": "markdown",
      "id": "008c9f99-21da-4a40-8253-91c2a25f80a8",
      "metadata": {
        "id": "008c9f99-21da-4a40-8253-91c2a25f80a8"
      },
      "source": [
        "`-` 형태변환: int $\\to$ float"
      ]
    },
    {
      "cell_type": "code",
      "execution_count": null,
      "id": "addde2a1-d032-4db9-9e43-2608d530886f",
      "metadata": {
        "vscode": {
          "languageId": "python"
        },
        "id": "addde2a1-d032-4db9-9e43-2608d530886f",
        "outputId": "df775158-f3e0-4a52-e9d3-894c2319a642"
      },
      "outputs": [
        {
          "data": {
            "text/plain": [
              "int"
            ]
          },
          "execution_count": 39,
          "metadata": {},
          "output_type": "execute_result"
        }
      ],
      "source": [
        "a=3\n",
        "type(a)"
      ]
    },
    {
      "cell_type": "code",
      "execution_count": null,
      "id": "09cf6cef-19a2-4573-a8f1-aa59dda5c0c6",
      "metadata": {
        "vscode": {
          "languageId": "python"
        },
        "id": "09cf6cef-19a2-4573-a8f1-aa59dda5c0c6",
        "outputId": "e22f06c7-f52e-45a0-e908-ee0b70f814b6"
      },
      "outputs": [
        {
          "data": {
            "text/plain": [
              "float"
            ]
          },
          "execution_count": 40,
          "metadata": {},
          "output_type": "execute_result"
        }
      ],
      "source": [
        "a=float(a)\n",
        "type(a)"
      ]
    },
    {
      "cell_type": "markdown",
      "id": "44f3f700-7f27-4ca1-b5d1-9fec75adb337",
      "metadata": {
        "id": "44f3f700-7f27-4ca1-b5d1-9fec75adb337"
      },
      "source": [
        "`-` 형태변환: bool $\\to$ int/float, int/float $\\to$ bool"
      ]
    },
    {
      "cell_type": "markdown",
      "id": "c4ab41ef-df89-4257-b5f7-ee61518d1111",
      "metadata": {
        "id": "c4ab41ef-df89-4257-b5f7-ee61518d1111"
      },
      "source": [
        "(예시1)"
      ]
    },
    {
      "cell_type": "code",
      "execution_count": null,
      "id": "d794074c-780e-4859-9fc9-488e74565c34",
      "metadata": {
        "vscode": {
          "languageId": "python"
        },
        "id": "d794074c-780e-4859-9fc9-488e74565c34",
        "outputId": "0107bf5b-e121-4092-9e67-30ebc4375421"
      },
      "outputs": [
        {
          "data": {
            "text/plain": [
              "bool"
            ]
          },
          "execution_count": 41,
          "metadata": {},
          "output_type": "execute_result"
        }
      ],
      "source": [
        "a=True\n",
        "type(a)"
      ]
    },
    {
      "cell_type": "code",
      "execution_count": null,
      "id": "611c4f59-2c10-42e9-b6f0-70009a2c02d9",
      "metadata": {
        "vscode": {
          "languageId": "python"
        },
        "id": "611c4f59-2c10-42e9-b6f0-70009a2c02d9",
        "outputId": "c1340fd2-733c-4365-9a7b-6e102dee2981"
      },
      "outputs": [
        {
          "data": {
            "text/plain": [
              "1"
            ]
          },
          "execution_count": 42,
          "metadata": {},
          "output_type": "execute_result"
        }
      ],
      "source": [
        "int(a)"
      ]
    },
    {
      "cell_type": "code",
      "execution_count": null,
      "id": "d4405022-cf13-4882-a330-b8cc5634c94e",
      "metadata": {
        "vscode": {
          "languageId": "python"
        },
        "id": "d4405022-cf13-4882-a330-b8cc5634c94e",
        "outputId": "defd513c-2598-4ee8-c629-bb7579d906c1"
      },
      "outputs": [
        {
          "data": {
            "text/plain": [
              "1.0"
            ]
          },
          "execution_count": 43,
          "metadata": {},
          "output_type": "execute_result"
        }
      ],
      "source": [
        "float(a)"
      ]
    },
    {
      "cell_type": "markdown",
      "id": "11c4227d-596b-44fe-8758-b423b7522548",
      "metadata": {
        "id": "11c4227d-596b-44fe-8758-b423b7522548"
      },
      "source": [
        "(예시2)"
      ]
    },
    {
      "cell_type": "code",
      "execution_count": null,
      "id": "9eb7accd-ccb8-4cfe-9cc1-ef51520ae0b7",
      "metadata": {
        "vscode": {
          "languageId": "python"
        },
        "id": "9eb7accd-ccb8-4cfe-9cc1-ef51520ae0b7",
        "outputId": "9a2a239f-5c4f-4c65-cca7-649e6cdfed35"
      },
      "outputs": [
        {
          "data": {
            "text/plain": [
              "True"
            ]
          },
          "execution_count": 59,
          "metadata": {},
          "output_type": "execute_result"
        }
      ],
      "source": [
        "a=1\n",
        "bool(a)"
      ]
    },
    {
      "cell_type": "code",
      "execution_count": null,
      "id": "244da79f-8c49-4d3d-b5a1-de87c6372a00",
      "metadata": {
        "vscode": {
          "languageId": "python"
        },
        "id": "244da79f-8c49-4d3d-b5a1-de87c6372a00",
        "outputId": "9deeee0d-2f47-46fb-a4f1-f4ceb7f71772"
      },
      "outputs": [
        {
          "data": {
            "text/plain": [
              "False"
            ]
          },
          "execution_count": 60,
          "metadata": {},
          "output_type": "execute_result"
        }
      ],
      "source": [
        "a=0\n",
        "bool(a)"
      ]
    },
    {
      "cell_type": "markdown",
      "id": "2d7b3273-e5ab-489d-841e-a67ea6d435ea",
      "metadata": {
        "id": "2d7b3273-e5ab-489d-841e-a67ea6d435ea"
      },
      "source": [
        "(예시3)"
      ]
    },
    {
      "cell_type": "code",
      "execution_count": null,
      "id": "dcde50c5-33fc-49c7-b416-af42b06607a3",
      "metadata": {
        "vscode": {
          "languageId": "python"
        },
        "id": "dcde50c5-33fc-49c7-b416-af42b06607a3",
        "outputId": "68d91875-a86b-4a61-ac8b-d4c6ab9e3f36"
      },
      "outputs": [
        {
          "data": {
            "text/plain": [
              "True"
            ]
          },
          "execution_count": 61,
          "metadata": {},
          "output_type": "execute_result"
        }
      ],
      "source": [
        "a=1.0\n",
        "bool(a)"
      ]
    },
    {
      "cell_type": "code",
      "execution_count": null,
      "id": "41a9a3ab-6f02-466d-acbe-65687bbb5cad",
      "metadata": {
        "vscode": {
          "languageId": "python"
        },
        "id": "41a9a3ab-6f02-466d-acbe-65687bbb5cad",
        "outputId": "ceddecfb-24d2-4b94-d7a0-056b9dd671d2"
      },
      "outputs": [
        {
          "data": {
            "text/plain": [
              "False"
            ]
          },
          "execution_count": 62,
          "metadata": {},
          "output_type": "execute_result"
        }
      ],
      "source": [
        "a=0.0\n",
        "bool(a)"
      ]
    },
    {
      "cell_type": "markdown",
      "id": "ba625d32-3961-42c3-8993-659724eb7a27",
      "metadata": {
        "id": "ba625d32-3961-42c3-8993-659724eb7a27"
      },
      "source": [
        "`-` 이상한 형태변환도 가능하다. (이런것도 바꿔주나 싶은것도 바꿔줌)"
      ]
    },
    {
      "cell_type": "code",
      "execution_count": null,
      "id": "93a47581-0871-429a-857f-b6826525e196",
      "metadata": {
        "vscode": {
          "languageId": "python"
        },
        "id": "93a47581-0871-429a-857f-b6826525e196",
        "outputId": "ad31b0db-f90f-4cfd-d90b-e0aed323a31e"
      },
      "outputs": [
        {
          "data": {
            "text/plain": [
              "True"
            ]
          },
          "execution_count": 75,
          "metadata": {},
          "output_type": "execute_result"
        }
      ],
      "source": [
        "bool(-3.14)"
      ]
    },
    {
      "cell_type": "markdown",
      "id": "b8d27795-e840-4046-8f80-63266dc58ecb",
      "metadata": {
        "id": "b8d27795-e840-4046-8f80-63266dc58ecb"
      },
      "source": [
        "- 저는 이런 코드를 의도적으로 사용하지 않아요.."
      ]
    },
    {
      "cell_type": "code",
      "execution_count": null,
      "id": "ce3d8847-d9d7-4e02-95ea-e1e9861156c1",
      "metadata": {
        "vscode": {
          "languageId": "python"
        },
        "id": "ce3d8847-d9d7-4e02-95ea-e1e9861156c1",
        "outputId": "6f270b25-a500-480f-c2b4-fb74e3390176"
      },
      "outputs": [
        {
          "data": {
            "text/plain": [
              "3"
            ]
          },
          "execution_count": 74,
          "metadata": {},
          "output_type": "execute_result"
        }
      ],
      "source": [
        "int(3.14)"
      ]
    },
    {
      "cell_type": "markdown",
      "id": "83b3a37c-2e9a-4f45-a5eb-17b873fd20a1",
      "metadata": {
        "id": "83b3a37c-2e9a-4f45-a5eb-17b873fd20a1"
      },
      "source": [
        "`-` 형태변환이 항상가능한것도 아님"
      ]
    },
    {
      "cell_type": "code",
      "execution_count": null,
      "id": "828f77b2-b409-4bb7-b3c9-b1df1611fa0f",
      "metadata": {
        "vscode": {
          "languageId": "python"
        },
        "id": "828f77b2-b409-4bb7-b3c9-b1df1611fa0f",
        "outputId": "c548f16b-69a8-4a94-947a-093d6a69dc7a"
      },
      "outputs": [
        {
          "ename": "TypeError",
          "evalue": "can't convert complex to float",
          "output_type": "error",
          "traceback": [
            "\u001b[0;31m---------------------------------------------------------------------------\u001b[0m",
            "\u001b[0;31mTypeError\u001b[0m                                 Traceback (most recent call last)",
            "Input \u001b[0;32mIn [78]\u001b[0m, in \u001b[0;36m<module>\u001b[0;34m\u001b[0m\n\u001b[0;32m----> 1\u001b[0m \u001b[38;5;28;43mfloat\u001b[39;49m\u001b[43m(\u001b[49m\u001b[38;5;241;43m3\u001b[39;49m\u001b[38;5;241;43m+\u001b[39;49m\u001b[38;5;241;43m0\u001b[39;49m\u001b[43mj\u001b[49m\u001b[43m)\u001b[49m\n",
            "\u001b[0;31mTypeError\u001b[0m: can't convert complex to float"
          ]
        }
      ],
      "source": [
        "float(3+0j) # 사실상 3+0j=3 이므로 float으로 형변환하면 3.0이 되어야 할 것 같은데 변환불가능하다."
      ]
    },
    {
      "cell_type": "markdown",
      "id": "969ad7c4-9a97-40eb-9178-f1f3c9e5e0c9",
      "metadata": {
        "id": "969ad7c4-9a97-40eb-9178-f1f3c9e5e0c9"
      },
      "source": [
        "`-` 암묵적형변환 (implicit)"
      ]
    },
    {
      "cell_type": "markdown",
      "id": "cc097315-9aff-42ba-990e-b06d97434496",
      "metadata": {
        "id": "cc097315-9aff-42ba-990e-b06d97434496"
      },
      "source": [
        "(예비학습) implicit의 의미\n",
        "\n",
        "- 추운날씨 -> 보일러좀 틀자! (explicit) / 오늘 날씨 좀 추운 것 같지 않아? (implicit)\n",
        "- 짜장면 먹을래? -> 싫어! (explicit) / 난 어제 짜장면 먹었는데.. (implicit)"
      ]
    },
    {
      "cell_type": "markdown",
      "id": "fc2b82c7-4ef4-4c67-963b-b5b504f39f6b",
      "metadata": {
        "id": "fc2b82c7-4ef4-4c67-963b-b5b504f39f6b"
      },
      "source": [
        "(예제)"
      ]
    },
    {
      "cell_type": "code",
      "execution_count": null,
      "id": "fe791eb2-d4dc-47c5-aafe-b4b28835313c",
      "metadata": {
        "vscode": {
          "languageId": "python"
        },
        "id": "fe791eb2-d4dc-47c5-aafe-b4b28835313c",
        "outputId": "c0437378-d1c1-4267-988c-dd103636a929"
      },
      "outputs": [
        {
          "data": {
            "text/plain": [
              "1"
            ]
          },
          "execution_count": 50,
          "metadata": {},
          "output_type": "execute_result"
        }
      ],
      "source": [
        "True * 1 # 1을 곱할건데 너 계속 True로 있을꺼야?"
      ]
    },
    {
      "cell_type": "code",
      "execution_count": null,
      "id": "8e2b60c4-2861-4023-89f7-543953d0e148",
      "metadata": {
        "vscode": {
          "languageId": "python"
        },
        "id": "8e2b60c4-2861-4023-89f7-543953d0e148",
        "outputId": "4b528b32-0f7a-47ad-9f2b-1c0179e2bb65"
      },
      "outputs": [
        {
          "data": {
            "text/plain": [
              "1.0"
            ]
          },
          "execution_count": 82,
          "metadata": {},
          "output_type": "execute_result"
        }
      ],
      "source": [
        "1 * 1.0 # 1.0을 곱할건데 너 계속 int로 있을꺼야?"
      ]
    },
    {
      "cell_type": "code",
      "execution_count": null,
      "id": "5ff47f52-9289-420f-929c-690ddcb7fcc3",
      "metadata": {
        "vscode": {
          "languageId": "python"
        },
        "id": "5ff47f52-9289-420f-929c-690ddcb7fcc3",
        "outputId": "349eba7c-0023-4ece-d373-d9da0075fa5b"
      },
      "outputs": [
        {
          "data": {
            "text/plain": [
              "2"
            ]
          },
          "execution_count": 84,
          "metadata": {},
          "output_type": "execute_result"
        }
      ],
      "source": [
        "True+True # +연산을 할건데 계속 True로 있을꺼야?"
      ]
    },
    {
      "cell_type": "markdown",
      "id": "15a0a99a-fd0c-480e-a60a-6df1704b7038",
      "metadata": {
        "id": "15a0a99a-fd0c-480e-a60a-6df1704b7038"
      },
      "source": [
        "# str"
      ]
    },
    {
      "cell_type": "markdown",
      "id": "59caa3b4-5ac8-43bb-81c1-bc66243f040b",
      "metadata": {
        "id": "59caa3b4-5ac8-43bb-81c1-bc66243f040b"
      },
      "source": [
        "## 선언"
      ]
    },
    {
      "cell_type": "code",
      "execution_count": null,
      "id": "48034256-e511-487e-b301-82b00e2deb6c",
      "metadata": {
        "vscode": {
          "languageId": "python"
        },
        "id": "48034256-e511-487e-b301-82b00e2deb6c"
      },
      "outputs": [],
      "source": [
        "a='guebin'"
      ]
    },
    {
      "cell_type": "code",
      "execution_count": null,
      "id": "136865a3-5158-4793-9fe6-a567be935611",
      "metadata": {
        "vscode": {
          "languageId": "python"
        },
        "id": "136865a3-5158-4793-9fe6-a567be935611",
        "outputId": "74df7f95-47ef-40bb-90d7-4be551570a0b"
      },
      "outputs": [
        {
          "data": {
            "text/plain": [
              "'guebin'"
            ]
          },
          "execution_count": 86,
          "metadata": {},
          "output_type": "execute_result"
        }
      ],
      "source": [
        "a"
      ]
    },
    {
      "cell_type": "markdown",
      "id": "84290c7d-7b9e-4d3a-ad48-a894cf7ebbf6",
      "metadata": {
        "id": "84290c7d-7b9e-4d3a-ad48-a894cf7ebbf6"
      },
      "source": [
        "## 연산"
      ]
    },
    {
      "cell_type": "markdown",
      "id": "6b16bda5-3d26-4d27-af50-b2348ea5870f",
      "metadata": {
        "id": "6b16bda5-3d26-4d27-af50-b2348ea5870f"
      },
      "source": [
        "`-` 더하기(+)연산"
      ]
    },
    {
      "cell_type": "code",
      "execution_count": null,
      "id": "be9a5df0-ab45-4125-9e40-0f4aaa3f84c7",
      "metadata": {
        "vscode": {
          "languageId": "python"
        },
        "id": "be9a5df0-ab45-4125-9e40-0f4aaa3f84c7"
      },
      "outputs": [],
      "source": [
        "a='X'\n",
        "b='2'"
      ]
    },
    {
      "cell_type": "code",
      "execution_count": null,
      "id": "7e17e8a8-336e-42fc-a73f-6b2efc4179b5",
      "metadata": {
        "vscode": {
          "languageId": "python"
        },
        "id": "7e17e8a8-336e-42fc-a73f-6b2efc4179b5",
        "outputId": "4f055065-0622-4643-941c-94b18e44308a"
      },
      "outputs": [
        {
          "data": {
            "text/plain": [
              "'X2'"
            ]
          },
          "execution_count": 91,
          "metadata": {},
          "output_type": "execute_result"
        }
      ],
      "source": [
        "c=a+b\n",
        "c"
      ]
    },
    {
      "cell_type": "markdown",
      "id": "c19b88c3-c552-422c-9215-eb22cfb1004e",
      "metadata": {
        "id": "c19b88c3-c552-422c-9215-eb22cfb1004e"
      },
      "source": [
        "`-` 빼기(-)연산"
      ]
    },
    {
      "cell_type": "code",
      "execution_count": null,
      "id": "2e86c8f4-39b9-4667-82be-eff70f28ef63",
      "metadata": {
        "vscode": {
          "languageId": "python"
        },
        "id": "2e86c8f4-39b9-4667-82be-eff70f28ef63",
        "outputId": "7556ec32-2aa8-413e-e9f4-71c60526187f"
      },
      "outputs": [
        {
          "ename": "TypeError",
          "evalue": "unsupported operand type(s) for -: 'str' and 'str'",
          "output_type": "error",
          "traceback": [
            "\u001b[0;31m---------------------------------------------------------------------------\u001b[0m",
            "\u001b[0;31mTypeError\u001b[0m                                 Traceback (most recent call last)",
            "Input \u001b[0;32mIn [92]\u001b[0m, in \u001b[0;36m<module>\u001b[0;34m\u001b[0m\n\u001b[1;32m      1\u001b[0m a\u001b[38;5;241m=\u001b[39m\u001b[38;5;124m'\u001b[39m\u001b[38;5;124mX2\u001b[39m\u001b[38;5;124m'\u001b[39m\n\u001b[1;32m      2\u001b[0m b\u001b[38;5;241m=\u001b[39m\u001b[38;5;124m'\u001b[39m\u001b[38;5;124m2\u001b[39m\u001b[38;5;124m'\u001b[39m\n\u001b[0;32m----> 3\u001b[0m \u001b[43ma\u001b[49m\u001b[38;5;241;43m-\u001b[39;49m\u001b[43mb\u001b[49m\n",
            "\u001b[0;31mTypeError\u001b[0m: unsupported operand type(s) for -: 'str' and 'str'"
          ]
        }
      ],
      "source": [
        "a='X2'\n",
        "b='2'\n",
        "a-b"
      ]
    },
    {
      "cell_type": "markdown",
      "id": "baed9f61-5abd-43bb-b8b8-15652c314d4c",
      "metadata": {
        "id": "baed9f61-5abd-43bb-b8b8-15652c314d4c"
      },
      "source": [
        "- 이런건 없다."
      ]
    },
    {
      "cell_type": "markdown",
      "id": "5941c787-d0a3-4c49-9381-dfde3a46f8c2",
      "metadata": {
        "id": "5941c787-d0a3-4c49-9381-dfde3a46f8c2"
      },
      "source": [
        "`-` 곱하기(*)연산"
      ]
    },
    {
      "cell_type": "code",
      "execution_count": null,
      "id": "1f6b4c56-8344-498c-bebc-45b3d142e5f6",
      "metadata": {
        "vscode": {
          "languageId": "python"
        },
        "id": "1f6b4c56-8344-498c-bebc-45b3d142e5f6"
      },
      "outputs": [],
      "source": [
        "a='X'"
      ]
    },
    {
      "cell_type": "code",
      "execution_count": null,
      "id": "a0e2a84e-6e48-4147-9c24-8aa5dc341485",
      "metadata": {
        "vscode": {
          "languageId": "python"
        },
        "id": "a0e2a84e-6e48-4147-9c24-8aa5dc341485",
        "outputId": "d0b7711c-a5dd-42e5-dbeb-7407cd143ed6"
      },
      "outputs": [
        {
          "data": {
            "text/plain": [
              "'XXX'"
            ]
          },
          "execution_count": 64,
          "metadata": {},
          "output_type": "execute_result"
        }
      ],
      "source": [
        "a+a+a"
      ]
    },
    {
      "cell_type": "code",
      "execution_count": null,
      "id": "fce0fddd-d867-4710-9fc7-c583dc984a0a",
      "metadata": {
        "vscode": {
          "languageId": "python"
        },
        "id": "fce0fddd-d867-4710-9fc7-c583dc984a0a",
        "outputId": "cfb3a084-e649-49bc-bab6-fe06b4bfccc7"
      },
      "outputs": [
        {
          "data": {
            "text/plain": [
              "'XXX'"
            ]
          },
          "execution_count": 65,
          "metadata": {},
          "output_type": "execute_result"
        }
      ],
      "source": [
        "a*3 # a*3 = a+a+a = 'X'+'X+'X'"
      ]
    },
    {
      "cell_type": "markdown",
      "id": "40636cd9-3969-414e-9084-672c87e837a3",
      "metadata": {
        "id": "40636cd9-3969-414e-9084-672c87e837a3"
      },
      "source": [
        "아래도 가능하다."
      ]
    },
    {
      "cell_type": "code",
      "execution_count": null,
      "id": "1049f471-c679-4adc-9684-30a72552fea7",
      "metadata": {
        "vscode": {
          "languageId": "python"
        },
        "id": "1049f471-c679-4adc-9684-30a72552fea7",
        "outputId": "52147b3a-56b0-4133-9bb5-b4f59c5f6e16"
      },
      "outputs": [
        {
          "data": {
            "text/plain": [
              "'XXX'"
            ]
          },
          "execution_count": 66,
          "metadata": {},
          "output_type": "execute_result"
        }
      ],
      "source": [
        "3*a"
      ]
    },
    {
      "cell_type": "markdown",
      "id": "a653b809-02be-4a23-a926-621855441c51",
      "metadata": {
        "id": "a653b809-02be-4a23-a926-621855441c51"
      },
      "source": [
        "그리고 아래도 가능하다."
      ]
    },
    {
      "cell_type": "code",
      "execution_count": null,
      "id": "e1e0e9cc-6710-4fd3-98de-bf52fcf95e58",
      "metadata": {
        "vscode": {
          "languageId": "python"
        },
        "id": "e1e0e9cc-6710-4fd3-98de-bf52fcf95e58",
        "outputId": "e6d4ff3c-84c3-4810-a7b8-f380afe7e8e2"
      },
      "outputs": [
        {
          "data": {
            "text/plain": [
              "'XXX'"
            ]
          },
          "execution_count": 67,
          "metadata": {},
          "output_type": "execute_result"
        }
      ],
      "source": [
        "a='X'\n",
        "b=3\n",
        "a*b"
      ]
    },
    {
      "cell_type": "markdown",
      "id": "b516d876-1462-4a34-8cd7-7f6e28906249",
      "metadata": {
        "id": "b516d876-1462-4a34-8cd7-7f6e28906249"
      },
      "source": [
        "대신에 의미상 맞지 않는 것은 수행되지 않고 에러가 난다."
      ]
    },
    {
      "cell_type": "code",
      "execution_count": null,
      "id": "ab94b52a-fb8c-487b-8d11-06cabbf165f9",
      "metadata": {
        "vscode": {
          "languageId": "python"
        },
        "id": "ab94b52a-fb8c-487b-8d11-06cabbf165f9",
        "outputId": "b8c87d90-c7a8-4533-e6c3-8d74cf242840"
      },
      "outputs": [
        {
          "data": {
            "text/plain": [
              "'XY'"
            ]
          },
          "execution_count": 98,
          "metadata": {},
          "output_type": "execute_result"
        }
      ],
      "source": [
        "a='X'\n",
        "b='Y'\n",
        "a+b"
      ]
    },
    {
      "cell_type": "code",
      "execution_count": null,
      "id": "603e1424-95d8-44c9-89ba-32e1169496d1",
      "metadata": {
        "vscode": {
          "languageId": "python"
        },
        "id": "603e1424-95d8-44c9-89ba-32e1169496d1",
        "outputId": "e09b824d-2fd8-43d7-d8ae-0e425a5876f4"
      },
      "outputs": [
        {
          "ename": "TypeError",
          "evalue": "can't multiply sequence by non-int of type 'str'",
          "output_type": "error",
          "traceback": [
            "\u001b[0;31m---------------------------------------------------------------------------\u001b[0m",
            "\u001b[0;31mTypeError\u001b[0m                                 Traceback (most recent call last)",
            "Input \u001b[0;32mIn [99]\u001b[0m, in \u001b[0;36m<module>\u001b[0;34m\u001b[0m\n\u001b[0;32m----> 1\u001b[0m \u001b[43ma\u001b[49m\u001b[38;5;241;43m*\u001b[39;49m\u001b[43mb\u001b[49m\n",
            "\u001b[0;31mTypeError\u001b[0m: can't multiply sequence by non-int of type 'str'"
          ]
        }
      ],
      "source": [
        "a*b"
      ]
    },
    {
      "cell_type": "markdown",
      "id": "83e3c41c-8f55-4620-a636-14d2ca758717",
      "metadata": {
        "id": "83e3c41c-8f55-4620-a636-14d2ca758717"
      },
      "source": [
        "`-` 나눗셈(/)연산"
      ]
    },
    {
      "cell_type": "code",
      "execution_count": null,
      "id": "327ed7c6-87c0-4568-9490-9ab99e3469f0",
      "metadata": {
        "vscode": {
          "languageId": "python"
        },
        "id": "327ed7c6-87c0-4568-9490-9ab99e3469f0"
      },
      "outputs": [],
      "source": [
        "a='XX'"
      ]
    },
    {
      "cell_type": "code",
      "execution_count": null,
      "id": "90f7a615-29e3-4bc1-92e0-450b6a09f0c7",
      "metadata": {
        "vscode": {
          "languageId": "python"
        },
        "id": "90f7a615-29e3-4bc1-92e0-450b6a09f0c7",
        "outputId": "ee2f82d7-3dc2-4d2a-dad7-908645ca4a7c"
      },
      "outputs": [
        {
          "ename": "TypeError",
          "evalue": "unsupported operand type(s) for /: 'str' and 'int'",
          "output_type": "error",
          "traceback": [
            "\u001b[0;31m---------------------------------------------------------------------------\u001b[0m",
            "\u001b[0;31mTypeError\u001b[0m                                 Traceback (most recent call last)",
            "Input \u001b[0;32mIn [101]\u001b[0m, in \u001b[0;36m<module>\u001b[0;34m\u001b[0m\n\u001b[0;32m----> 1\u001b[0m \u001b[43ma\u001b[49m\u001b[38;5;241;43m/\u001b[39;49m\u001b[38;5;241;43m2\u001b[39;49m\n",
            "\u001b[0;31mTypeError\u001b[0m: unsupported operand type(s) for /: 'str' and 'int'"
          ]
        }
      ],
      "source": [
        "a/2"
      ]
    },
    {
      "cell_type": "markdown",
      "id": "956e134e-ebfb-4064-a7e8-b905d2e3f6d7",
      "metadata": {
        "id": "956e134e-ebfb-4064-a7e8-b905d2e3f6d7"
      },
      "source": [
        "- 이런건 없다.."
      ]
    },
    {
      "cell_type": "markdown",
      "id": "b406a3f1-a066-4ccd-9faf-009177e1760b",
      "metadata": {
        "id": "b406a3f1-a066-4ccd-9faf-009177e1760b"
      },
      "source": [
        "## 인덱싱"
      ]
    },
    {
      "cell_type": "markdown",
      "id": "f775db88-e616-4ccc-8cbf-a3ff6b69116a",
      "metadata": {
        "id": "f775db88-e616-4ccc-8cbf-a3ff6b69116a"
      },
      "source": [
        "`-` str은 하나의 벡터 문자가 여러개 있는 형태라고 생각하면 된다."
      ]
    },
    {
      "cell_type": "code",
      "execution_count": null,
      "id": "54ea14a2-efb9-4b5a-9b9b-4b67d2c6253e",
      "metadata": {
        "vscode": {
          "languageId": "python"
        },
        "id": "54ea14a2-efb9-4b5a-9b9b-4b67d2c6253e"
      },
      "outputs": [],
      "source": [
        "a='guebin'"
      ]
    },
    {
      "cell_type": "code",
      "execution_count": null,
      "id": "9eeee1f5-3966-4e77-834e-301e7d6dd082",
      "metadata": {
        "vscode": {
          "languageId": "python"
        },
        "id": "9eeee1f5-3966-4e77-834e-301e7d6dd082",
        "outputId": "a75d6415-13ce-4238-a871-6f3722731518"
      },
      "outputs": [
        {
          "data": {
            "text/plain": [
              "'guebin'"
            ]
          },
          "execution_count": 69,
          "metadata": {},
          "output_type": "execute_result"
        }
      ],
      "source": [
        "a"
      ]
    },
    {
      "cell_type": "markdown",
      "id": "c5232317-ad4d-4f2b-9a89-3724b0d2d581",
      "metadata": {
        "id": "c5232317-ad4d-4f2b-9a89-3724b0d2d581"
      },
      "source": [
        "- 6개의 칸에 글씨가 하나씩 들어가 있음."
      ]
    },
    {
      "cell_type": "markdown",
      "id": "0e3881e3-6ae6-464a-8f65-b78e6bd17c66",
      "metadata": {
        "id": "0e3881e3-6ae6-464a-8f65-b78e6bd17c66"
      },
      "source": [
        "`-` 대괄호 `[]`안에 숫자를 넣는 방식으로 벡터의 원소를 호출할 수 있다. (주의: 인덱스가 0부터 시작함)"
      ]
    },
    {
      "cell_type": "code",
      "execution_count": null,
      "id": "06e592a1-43e4-4382-b539-6f52fa922ffa",
      "metadata": {
        "vscode": {
          "languageId": "python"
        },
        "id": "06e592a1-43e4-4382-b539-6f52fa922ffa",
        "outputId": "2a666087-c394-4e0d-951e-20ea0cee2dc7"
      },
      "outputs": [
        {
          "data": {
            "text/plain": [
              "'g'"
            ]
          },
          "execution_count": 72,
          "metadata": {},
          "output_type": "execute_result"
        }
      ],
      "source": [
        "a[0] #첫번째원소"
      ]
    },
    {
      "cell_type": "code",
      "execution_count": null,
      "id": "81aae692-d8c5-4c05-9f63-2810b24b9014",
      "metadata": {
        "vscode": {
          "languageId": "python"
        },
        "id": "81aae692-d8c5-4c05-9f63-2810b24b9014",
        "outputId": "6ee14dfe-a224-496f-ae70-0a6dcbd845c8"
      },
      "outputs": [
        {
          "data": {
            "text/plain": [
              "'u'"
            ]
          },
          "execution_count": 73,
          "metadata": {},
          "output_type": "execute_result"
        }
      ],
      "source": [
        "a[1] #두번째원소"
      ]
    },
    {
      "cell_type": "markdown",
      "id": "f300bf70-ab5d-414a-8b11-0528ea96f10a",
      "metadata": {
        "id": "f300bf70-ab5d-414a-8b11-0528ea96f10a"
      },
      "source": [
        "마지막원소는 -1로 호출할 수도 있다."
      ]
    },
    {
      "cell_type": "code",
      "execution_count": null,
      "id": "823a0cdd-7737-4c8b-96fe-ef2fa3ebfe5c",
      "metadata": {
        "vscode": {
          "languageId": "python"
        },
        "id": "823a0cdd-7737-4c8b-96fe-ef2fa3ebfe5c",
        "outputId": "8d895ce9-93e2-43d8-853b-5f889d232c2c"
      },
      "outputs": [
        {
          "data": {
            "text/plain": [
              "'n'"
            ]
          },
          "execution_count": 114,
          "metadata": {},
          "output_type": "execute_result"
        }
      ],
      "source": [
        "a[-1]"
      ]
    },
    {
      "cell_type": "markdown",
      "id": "ee660f26-ed5a-4ab4-8783-5f826246893d",
      "metadata": {
        "id": "ee660f26-ed5a-4ab4-8783-5f826246893d"
      },
      "source": [
        "마지막에서 2번째 원소는 -2로 호출가능하다."
      ]
    },
    {
      "cell_type": "code",
      "execution_count": null,
      "id": "1f32fdf1-70b4-4d83-b843-e6833f900dfb",
      "metadata": {
        "vscode": {
          "languageId": "python"
        },
        "id": "1f32fdf1-70b4-4d83-b843-e6833f900dfb",
        "outputId": "bf32dccd-0b0f-4dc3-8a1e-708a0c3647b0"
      },
      "outputs": [
        {
          "data": {
            "text/plain": [
              "'i'"
            ]
          },
          "execution_count": 115,
          "metadata": {},
          "output_type": "execute_result"
        }
      ],
      "source": [
        "a[-2]"
      ]
    },
    {
      "cell_type": "markdown",
      "id": "6ea50c10-9de2-4149-a2cf-20938ac061d1",
      "metadata": {
        "id": "6ea50c10-9de2-4149-a2cf-20938ac061d1"
      },
      "source": [
        "`-` 요약하면 아래와 같은 방식으로 호출가능함."
      ]
    },
    {
      "cell_type": "markdown",
      "id": "7d6c1061-a64d-4eb2-ade4-c6b19d86704f",
      "metadata": {
        "id": "7d6c1061-a64d-4eb2-ade4-c6b19d86704f"
      },
      "source": [
        "|g|u|e|b|i|n|\n",
        "|:-:|:-:|:-:|:-:|:-:|:-:|\n",
        "|0|1|2|3|4|5|\n",
        "|0|-5|-4|-3|-2|-1|"
      ]
    },
    {
      "cell_type": "code",
      "execution_count": null,
      "id": "e34a5b25-32d3-4438-8112-c77198c1233b",
      "metadata": {
        "vscode": {
          "languageId": "python"
        },
        "id": "e34a5b25-32d3-4438-8112-c77198c1233b",
        "outputId": "265c6031-5e76-4f73-9077-403550f4bc63"
      },
      "outputs": [
        {
          "data": {
            "text/plain": [
              "'i'"
            ]
          },
          "execution_count": 120,
          "metadata": {},
          "output_type": "execute_result"
        }
      ],
      "source": [
        "a[4]"
      ]
    },
    {
      "cell_type": "code",
      "execution_count": null,
      "id": "675bb8ca-21bc-48d3-97c3-4e22ba3732c7",
      "metadata": {
        "vscode": {
          "languageId": "python"
        },
        "id": "675bb8ca-21bc-48d3-97c3-4e22ba3732c7",
        "outputId": "4d24f8e1-ae7c-4a2f-c7ca-8b56b78331fc"
      },
      "outputs": [
        {
          "data": {
            "text/plain": [
              "'i'"
            ]
          },
          "execution_count": 121,
          "metadata": {},
          "output_type": "execute_result"
        }
      ],
      "source": [
        "a[-2]"
      ]
    },
    {
      "cell_type": "code",
      "execution_count": null,
      "id": "464059b3-9346-40a7-abd8-305d6a594d9c",
      "metadata": {
        "vscode": {
          "languageId": "python"
        },
        "id": "464059b3-9346-40a7-abd8-305d6a594d9c",
        "outputId": "0c68c800-0dc6-40f7-bce5-226ff119dc3e"
      },
      "outputs": [
        {
          "data": {
            "text/plain": [
              "'e'"
            ]
          },
          "execution_count": 123,
          "metadata": {},
          "output_type": "execute_result"
        }
      ],
      "source": [
        "a[-4]"
      ]
    },
    {
      "cell_type": "markdown",
      "id": "95c8b5d5-64d8-41d8-b97b-efcad4248dfd",
      "metadata": {
        "id": "95c8b5d5-64d8-41d8-b97b-efcad4248dfd"
      },
      "source": [
        "`-` `:`을 이용하여 여러개의 원소를 호출할 수 있음."
      ]
    },
    {
      "cell_type": "code",
      "execution_count": null,
      "id": "5bf9e767-614b-4769-a4a0-76fe35ed38d8",
      "metadata": {
        "vscode": {
          "languageId": "python"
        },
        "id": "5bf9e767-614b-4769-a4a0-76fe35ed38d8"
      },
      "outputs": [],
      "source": [
        "a='guebin'"
      ]
    },
    {
      "cell_type": "code",
      "execution_count": null,
      "id": "a00da720-b05a-4d1e-a3ba-d8a634ba4d44",
      "metadata": {
        "vscode": {
          "languageId": "python"
        },
        "id": "a00da720-b05a-4d1e-a3ba-d8a634ba4d44",
        "outputId": "285ef810-3811-4ace-8f2f-32be7c1dbadd"
      },
      "outputs": [
        {
          "data": {
            "text/plain": [
              "'gue'"
            ]
          },
          "execution_count": 85,
          "metadata": {},
          "output_type": "execute_result"
        }
      ],
      "source": [
        "a[0:3] # a[0],a[1],a[2],a[3]이 아니라 a[0],a[1],a[2]까지만 뽑힌다. 즉 마지막의 3은 호출되지 않는다."
      ]
    },
    {
      "cell_type": "code",
      "execution_count": null,
      "id": "6cc77d63-ecc8-4ff9-8a8a-14e6134c29bc",
      "metadata": {
        "vscode": {
          "languageId": "python"
        },
        "id": "6cc77d63-ecc8-4ff9-8a8a-14e6134c29bc",
        "outputId": "1a95c8b9-46da-43d7-f2c8-d0b7016a5bc1"
      },
      "outputs": [
        {
          "data": {
            "text/plain": [
              "'ue'"
            ]
          },
          "execution_count": 86,
          "metadata": {},
          "output_type": "execute_result"
        }
      ],
      "source": [
        "a[1:3] # a[1], a[2] 만 호출 // start=1,  stop=3"
      ]
    },
    {
      "cell_type": "markdown",
      "id": "01015fc0-97af-4859-b23e-f015dcf5f9f0",
      "metadata": {
        "id": "01015fc0-97af-4859-b23e-f015dcf5f9f0"
      },
      "source": [
        "index=1부터 시작해서 마지막원소까지 호출하려면?"
      ]
    },
    {
      "cell_type": "code",
      "execution_count": null,
      "id": "61ffedc7-e9f4-4a51-b24e-47f555d1b7e3",
      "metadata": {
        "vscode": {
          "languageId": "python"
        },
        "id": "61ffedc7-e9f4-4a51-b24e-47f555d1b7e3",
        "outputId": "8f33e599-89b2-4bbc-e8b7-c004c880e0ef"
      },
      "outputs": [
        {
          "data": {
            "text/plain": [
              "'n'"
            ]
          },
          "execution_count": 130,
          "metadata": {},
          "output_type": "execute_result"
        }
      ],
      "source": [
        "a[5] # guebin의 마지막원소 'n'이 출려"
      ]
    },
    {
      "cell_type": "code",
      "execution_count": null,
      "id": "56e8fcae-996f-467a-95d0-30d6f7753f57",
      "metadata": {
        "vscode": {
          "languageId": "python"
        },
        "id": "56e8fcae-996f-467a-95d0-30d6f7753f57",
        "outputId": "6551a1b1-e12f-4333-8476-189db1d7dcac"
      },
      "outputs": [
        {
          "data": {
            "text/plain": [
              "'uebi'"
            ]
          },
          "execution_count": 135,
          "metadata": {},
          "output_type": "execute_result"
        }
      ],
      "source": [
        "a[1:5] # 5는 포함되지 않으므로 틀림"
      ]
    },
    {
      "cell_type": "code",
      "execution_count": null,
      "id": "23bb2f68-e8c6-4807-9163-7234ec2dc2ed",
      "metadata": {
        "vscode": {
          "languageId": "python"
        },
        "id": "23bb2f68-e8c6-4807-9163-7234ec2dc2ed",
        "outputId": "ec485d37-81a7-4f1f-b1ee-874d768781a3"
      },
      "outputs": [
        {
          "data": {
            "text/plain": [
              "'uebin'"
            ]
          },
          "execution_count": 136,
          "metadata": {},
          "output_type": "execute_result"
        }
      ],
      "source": [
        "a[1:6] # 정답"
      ]
    },
    {
      "cell_type": "markdown",
      "id": "2a5e7651-54ec-4fd2-b8e2-4b4296332025",
      "metadata": {
        "id": "2a5e7651-54ec-4fd2-b8e2-4b4296332025"
      },
      "source": [
        "안 헷갈리는 방법은 없을까?"
      ]
    },
    {
      "cell_type": "code",
      "execution_count": null,
      "id": "0e92cbca-e12e-43da-b4a4-d34e03f5123b",
      "metadata": {
        "vscode": {
          "languageId": "python"
        },
        "id": "0e92cbca-e12e-43da-b4a4-d34e03f5123b",
        "outputId": "0fc5d395-49b0-4a54-c9d6-6b6b1288c37e"
      },
      "outputs": [
        {
          "data": {
            "text/plain": [
              "'n'"
            ]
          },
          "execution_count": 137,
          "metadata": {},
          "output_type": "execute_result"
        }
      ],
      "source": [
        "a[-1]"
      ]
    },
    {
      "cell_type": "code",
      "execution_count": null,
      "id": "0a22edc4-2ae3-4524-a635-7d98d9dbc527",
      "metadata": {
        "vscode": {
          "languageId": "python"
        },
        "id": "0a22edc4-2ae3-4524-a635-7d98d9dbc527",
        "outputId": "36fceb7f-8248-4019-b6ab-9111eba02855"
      },
      "outputs": [
        {
          "data": {
            "text/plain": [
              "'uebi'"
            ]
          },
          "execution_count": 139,
          "metadata": {},
          "output_type": "execute_result"
        }
      ],
      "source": [
        "a[1:-1] # 이것은 결국 (a[1:5]와 같은 것임)"
      ]
    },
    {
      "cell_type": "markdown",
      "id": "041bfb9d-ce85-4d76-94df-0f300f161d6b",
      "metadata": {
        "id": "041bfb9d-ce85-4d76-94df-0f300f161d6b"
      },
      "source": [
        "해결책? 생략한다!!"
      ]
    },
    {
      "cell_type": "code",
      "execution_count": null,
      "id": "d6729ef4-143d-4c5d-b273-96275ee11850",
      "metadata": {
        "vscode": {
          "languageId": "python"
        },
        "id": "d6729ef4-143d-4c5d-b273-96275ee11850",
        "outputId": "48f154d5-feac-41f5-86be-0945a7907f11"
      },
      "outputs": [
        {
          "data": {
            "text/plain": [
              "'uebin'"
            ]
          },
          "execution_count": 140,
          "metadata": {},
          "output_type": "execute_result"
        }
      ],
      "source": [
        "a[1:]"
      ]
    },
    {
      "cell_type": "markdown",
      "id": "d743f701-b69d-4d09-87eb-05d537b1e4f2",
      "metadata": {
        "id": "d743f701-b69d-4d09-87eb-05d537b1e4f2"
      },
      "source": [
        "`-` 생략의 응용1"
      ]
    },
    {
      "cell_type": "code",
      "execution_count": null,
      "id": "95bb3db2-e27c-46d2-8fd0-987adec865c3",
      "metadata": {
        "vscode": {
          "languageId": "python"
        },
        "id": "95bb3db2-e27c-46d2-8fd0-987adec865c3",
        "outputId": "6d19bc9d-4916-49bc-e6b4-c5f97b3ed942"
      },
      "outputs": [
        {
          "data": {
            "text/plain": [
              "'k-pop'"
            ]
          },
          "execution_count": 158,
          "metadata": {},
          "output_type": "execute_result"
        }
      ],
      "source": [
        "a='k-pop'\n",
        "a"
      ]
    },
    {
      "cell_type": "code",
      "execution_count": null,
      "id": "5b30a784-c812-4dea-9b54-12ace60ea1ae",
      "metadata": {
        "vscode": {
          "languageId": "python"
        },
        "id": "5b30a784-c812-4dea-9b54-12ace60ea1ae",
        "outputId": "11ede440-2adc-4679-a36e-34becf56f61c"
      },
      "outputs": [
        {
          "data": {
            "text/plain": [
              "'pop'"
            ]
          },
          "execution_count": 159,
          "metadata": {},
          "output_type": "execute_result"
        }
      ],
      "source": [
        "a[2:5]"
      ]
    },
    {
      "cell_type": "code",
      "execution_count": null,
      "id": "6bd10531-d147-418b-92f1-2ee8fb9df290",
      "metadata": {
        "vscode": {
          "languageId": "python"
        },
        "id": "6bd10531-d147-418b-92f1-2ee8fb9df290",
        "outputId": "1ff54919-0621-4fb7-ce79-7a253e91681a"
      },
      "outputs": [
        {
          "data": {
            "text/plain": [
              "'pop'"
            ]
          },
          "execution_count": 160,
          "metadata": {},
          "output_type": "execute_result"
        }
      ],
      "source": [
        "a[2:]"
      ]
    },
    {
      "cell_type": "markdown",
      "id": "9c41e755-5bb2-48d0-b6dd-4162b317a335",
      "metadata": {
        "id": "9c41e755-5bb2-48d0-b6dd-4162b317a335"
      },
      "source": [
        "`-` 생략의 응용2"
      ]
    },
    {
      "cell_type": "code",
      "execution_count": null,
      "id": "394c5222-d819-46bc-a6c4-9884cee0a1a5",
      "metadata": {
        "vscode": {
          "languageId": "python"
        },
        "id": "394c5222-d819-46bc-a6c4-9884cee0a1a5",
        "outputId": "41a38a0c-777e-4156-d8e3-b6a2f7aaeaf3"
      },
      "outputs": [
        {
          "data": {
            "text/plain": [
              "'k-pop'"
            ]
          },
          "execution_count": 161,
          "metadata": {},
          "output_type": "execute_result"
        }
      ],
      "source": [
        "a='k-pop'\n",
        "a"
      ]
    },
    {
      "cell_type": "code",
      "execution_count": null,
      "id": "62c9e60f-567c-4a01-89c4-7b0cae5992fe",
      "metadata": {
        "vscode": {
          "languageId": "python"
        },
        "id": "62c9e60f-567c-4a01-89c4-7b0cae5992fe",
        "outputId": "30bca5ff-4688-40ca-ffa2-9bc9ef474e8c"
      },
      "outputs": [
        {
          "data": {
            "text/plain": [
              "'k-'"
            ]
          },
          "execution_count": 163,
          "metadata": {},
          "output_type": "execute_result"
        }
      ],
      "source": [
        "a[0:2] # a[0],a[1]"
      ]
    },
    {
      "cell_type": "code",
      "execution_count": null,
      "id": "5e9ddc5f-71b4-467a-b089-8744fd7fde1c",
      "metadata": {
        "vscode": {
          "languageId": "python"
        },
        "id": "5e9ddc5f-71b4-467a-b089-8744fd7fde1c",
        "outputId": "b46cb2cc-c1fb-4424-df91-86ea08200f6f"
      },
      "outputs": [
        {
          "data": {
            "text/plain": [
              "'k-'"
            ]
          },
          "execution_count": 165,
          "metadata": {},
          "output_type": "execute_result"
        }
      ],
      "source": [
        "a[:2] # a[0],a[1]"
      ]
    },
    {
      "cell_type": "markdown",
      "id": "9974a84b-8dd4-4ae4-8367-edd392fd213e",
      "metadata": {
        "id": "9974a84b-8dd4-4ae4-8367-edd392fd213e"
      },
      "source": [
        "`-` 생략의 응용3"
      ]
    },
    {
      "cell_type": "code",
      "execution_count": null,
      "id": "e7cd56bd-8244-423e-af0c-7c5e06a9344f",
      "metadata": {
        "vscode": {
          "languageId": "python"
        },
        "id": "e7cd56bd-8244-423e-af0c-7c5e06a9344f",
        "outputId": "e555ce0b-0f12-45f4-aa89-6b86475e829e"
      },
      "outputs": [
        {
          "data": {
            "text/plain": [
              "'k-pop'"
            ]
          },
          "execution_count": 166,
          "metadata": {},
          "output_type": "execute_result"
        }
      ],
      "source": [
        "a='k-pop'\n",
        "a"
      ]
    },
    {
      "cell_type": "code",
      "execution_count": null,
      "id": "76900c79-a5ea-4cc2-a611-fb2340f9ceed",
      "metadata": {
        "vscode": {
          "languageId": "python"
        },
        "id": "76900c79-a5ea-4cc2-a611-fb2340f9ceed",
        "outputId": "17ad7254-47ac-46d1-82e3-433e5e595e0b"
      },
      "outputs": [
        {
          "data": {
            "text/plain": [
              "'k-pop'"
            ]
          },
          "execution_count": 170,
          "metadata": {},
          "output_type": "execute_result"
        }
      ],
      "source": [
        "a[0:5] # a[0],...,a[4]"
      ]
    },
    {
      "cell_type": "code",
      "execution_count": null,
      "id": "21699b82-47c0-4e43-9f59-5b3aa6307830",
      "metadata": {
        "vscode": {
          "languageId": "python"
        },
        "id": "21699b82-47c0-4e43-9f59-5b3aa6307830",
        "outputId": "ea818646-858e-4959-b4cc-b4e5c2c09496"
      },
      "outputs": [
        {
          "data": {
            "text/plain": [
              "'k-pop'"
            ]
          },
          "execution_count": 169,
          "metadata": {},
          "output_type": "execute_result"
        }
      ],
      "source": [
        "a[:]"
      ]
    },
    {
      "cell_type": "markdown",
      "id": "0dfd12c2-027f-4794-ba94-de583a8869cb",
      "metadata": {
        "id": "0dfd12c2-027f-4794-ba94-de583a8869cb"
      },
      "source": [
        "## str 특수기능"
      ]
    },
    {
      "cell_type": "markdown",
      "id": "8bfb050b-db49-4bf6-b14e-afc97589de7c",
      "metadata": {
        "id": "8bfb050b-db49-4bf6-b14e-afc97589de7c"
      },
      "source": [
        "`-` 파이썬의 변수는 단순히 정보를 담는 그릇이 아니다. 유용한 기능을 제공하는 경우가 있다."
      ]
    },
    {
      "cell_type": "code",
      "execution_count": null,
      "id": "c2df0d4c-59e8-4e00-86d8-3e00b8c2ce1d",
      "metadata": {
        "vscode": {
          "languageId": "python"
        },
        "id": "c2df0d4c-59e8-4e00-86d8-3e00b8c2ce1d",
        "outputId": "f701a32a-95c2-4a28-9c05-634950ca5ff4"
      },
      "outputs": [
        {
          "data": {
            "text/plain": [
              "'ABCD'"
            ]
          },
          "execution_count": 100,
          "metadata": {},
          "output_type": "execute_result"
        }
      ],
      "source": [
        "a='ABCD' # a라는 변수는 'ABCD'라는 정보를 담는 그릇의 역할만 하지 않고, 특화된 어떠한 기능도 제공한다.\n",
        "a"
      ]
    },
    {
      "cell_type": "code",
      "execution_count": null,
      "id": "7de6c11c-bdc4-4059-bd8a-e26e04985db5",
      "metadata": {
        "vscode": {
          "languageId": "python"
        },
        "id": "7de6c11c-bdc4-4059-bd8a-e26e04985db5",
        "outputId": "48949134-14b5-4407-aa22-abaf4d2f4657"
      },
      "outputs": [
        {
          "data": {
            "text/plain": [
              "'abcd'"
            ]
          },
          "execution_count": 101,
          "metadata": {},
          "output_type": "execute_result"
        }
      ],
      "source": [
        "a.lower() # a.lower()를 쓰면 a의 모든 문자를 소문자로 바꾸는 기능을 제공, lower(a)라고 읽자!"
      ]
    },
    {
      "cell_type": "markdown",
      "id": "26aff093-fc24-445b-9bf4-9c4efd8ebf74",
      "metadata": {
        "id": "26aff093-fc24-445b-9bf4-9c4efd8ebf74"
      },
      "source": [
        "여기에서 lower()는 문자열에 특화된 기능임. 따라서 당연히 아래는 불가능"
      ]
    },
    {
      "cell_type": "code",
      "execution_count": null,
      "id": "3e87c453-9d96-4fb4-a9ed-72983744368c",
      "metadata": {
        "vscode": {
          "languageId": "python"
        },
        "id": "3e87c453-9d96-4fb4-a9ed-72983744368c",
        "outputId": "84f35e12-2df0-4e20-f644-cc8cdf0fc27a"
      },
      "outputs": [
        {
          "ename": "AttributeError",
          "evalue": "'float' object has no attribute 'lower'",
          "output_type": "error",
          "traceback": [
            "\u001b[0;31m---------------------------------------------------------------------------\u001b[0m",
            "\u001b[0;31mAttributeError\u001b[0m                            Traceback (most recent call last)",
            "Input \u001b[0;32mIn [194]\u001b[0m, in \u001b[0;36m<module>\u001b[0;34m\u001b[0m\n\u001b[1;32m      1\u001b[0m a\u001b[38;5;241m=\u001b[39m\u001b[38;5;241m3.14\u001b[39m\n\u001b[0;32m----> 2\u001b[0m \u001b[43ma\u001b[49m\u001b[38;5;241;43m.\u001b[39;49m\u001b[43mlower\u001b[49m()\n",
            "\u001b[0;31mAttributeError\u001b[0m: 'float' object has no attribute 'lower'"
          ]
        }
      ],
      "source": [
        "a=3.14\n",
        "a.lower() # lower(a)"
      ]
    },
    {
      "cell_type": "markdown",
      "id": "eb01dcf3-364d-46cd-abb9-ae4b7099fcd5",
      "metadata": {
        "id": "eb01dcf3-364d-46cd-abb9-ae4b7099fcd5"
      },
      "source": [
        "`-` 자료형에 특화된 기능(=함수)을 확인하는 방법? `a.`+ `tab` 으로 목록 확인 가능"
      ]
    },
    {
      "cell_type": "code",
      "execution_count": null,
      "id": "053be390-5dac-472c-89d2-257cedb332cb",
      "metadata": {
        "vscode": {
          "languageId": "python"
        },
        "id": "053be390-5dac-472c-89d2-257cedb332cb"
      },
      "outputs": [],
      "source": [
        "a='guebin'"
      ]
    },
    {
      "cell_type": "code",
      "execution_count": null,
      "id": "f60791d5-52d5-4e6b-abe4-a646cec23d11",
      "metadata": {
        "vscode": {
          "languageId": "python"
        },
        "id": "f60791d5-52d5-4e6b-abe4-a646cec23d11",
        "outputId": "0de703bc-d275-4fb3-c030-368b9bac3efb"
      },
      "outputs": [
        {
          "data": {
            "text/plain": [
              "\u001b[0;31mSignature:\u001b[0m \u001b[0ma\u001b[0m\u001b[0;34m.\u001b[0m\u001b[0mupper\u001b[0m\u001b[0;34m(\u001b[0m\u001b[0;34m)\u001b[0m\u001b[0;34m\u001b[0m\u001b[0;34m\u001b[0m\u001b[0m\n",
              "\u001b[0;31mDocstring:\u001b[0m Return a copy of the string converted to uppercase.\n",
              "\u001b[0;31mType:\u001b[0m      builtin_function_or_method\n"
            ]
          },
          "metadata": {},
          "output_type": "display_data"
        }
      ],
      "source": [
        "a.upper?"
      ]
    },
    {
      "cell_type": "code",
      "execution_count": null,
      "id": "978d7e30-641f-4553-8b53-e4fa17a8ab54",
      "metadata": {
        "vscode": {
          "languageId": "python"
        },
        "id": "978d7e30-641f-4553-8b53-e4fa17a8ab54",
        "outputId": "d4dd5fb4-2538-43eb-cc05-cec46a59d98d"
      },
      "outputs": [
        {
          "data": {
            "text/plain": [
              "'GUEBIN'"
            ]
          },
          "execution_count": 192,
          "metadata": {},
          "output_type": "execute_result"
        }
      ],
      "source": [
        "a.upper() # upper(a)"
      ]
    },
    {
      "cell_type": "code",
      "execution_count": null,
      "id": "1c4b5782-f7db-47e1-8270-038eb2e9c302",
      "metadata": {
        "vscode": {
          "languageId": "python"
        },
        "id": "1c4b5782-f7db-47e1-8270-038eb2e9c302",
        "outputId": "55064b02-716c-4570-8508-f984e1725143"
      },
      "outputs": [
        {
          "data": {
            "text/plain": [
              "'Guebin'"
            ]
          },
          "execution_count": 193,
          "metadata": {},
          "output_type": "execute_result"
        }
      ],
      "source": [
        "a.capitalize() # capitalize(a)"
      ]
    },
    {
      "cell_type": "markdown",
      "id": "50d72fcc-12d1-4a42-ae0c-16b3af4435fc",
      "metadata": {
        "id": "50d72fcc-12d1-4a42-ae0c-16b3af4435fc"
      },
      "source": [
        "`-` 문자열에 대한 다른 내용들은 추후에 다루겠음."
      ]
    },
    {
      "cell_type": "markdown",
      "id": "3e410d12-73c2-44bc-8ac0-604e9e68a332",
      "metadata": {
        "id": "3e410d12-73c2-44bc-8ac0-604e9e68a332"
      },
      "source": [
        "`-` 마음의눈: `a.f()` 형태를 읽는 팁\n",
        "\n",
        "- `a.f()`는 `f(a)`로 생각하면 편리함.\n",
        "- `a.f(2)`는 `f(a,2)`로 생각하면 편리함.\n",
        "- 이런점에서 R `%>%` 연산자와 비슷하다고 생각할 수 있다. (약간 다르긴함)"
      ]
    },
    {
      "cell_type": "markdown",
      "id": "94d9a19b-f1a2-4864-8414-13fb2f5e81b4",
      "metadata": {
        "id": "94d9a19b-f1a2-4864-8414-13fb2f5e81b4"
      },
      "source": [
        "`-` 사실 `.`은 좀 더 다양한 상황에서 쓰일 수 있다. `변수이름.함수이름()` 의 형태가 아니라\n",
        "\n",
        "- `모듈이름.함수이름()`\n",
        "- `모듈이름.변수이름`\n",
        "- `모듈이름.모듈이름.함수이름()`\n",
        "- ...\n",
        "\n",
        "와 같이 다양한 형태가 가능하다. 근본적인 공통점은 `.`을 기준으로 `상위개념.하위개념` 으로 이해하는 것이 좋다."
      ]
    },
    {
      "cell_type": "markdown",
      "id": "79bf3c6d-5db0-4f90-9512-d7cea939ced0",
      "metadata": {
        "id": "79bf3c6d-5db0-4f90-9512-d7cea939ced0"
      },
      "source": [
        "***0차원 vs 1차원***"
      ]
    },
    {
      "cell_type": "markdown",
      "id": "5c6f0063-363e-46b4-b514-eaa729a444cc",
      "metadata": {
        "id": "5c6f0063-363e-46b4-b514-eaa729a444cc"
      },
      "source": [
        "`-` `len`함수 소개: 원소의 갯수를 알려주는 함수."
      ]
    },
    {
      "cell_type": "markdown",
      "id": "93734ec0-0ab7-4da2-a63d-9f4269062bdc",
      "metadata": {
        "id": "93734ec0-0ab7-4da2-a63d-9f4269062bdc"
      },
      "source": [
        "(0차원) `len` 함수가 동작하지 않음."
      ]
    },
    {
      "cell_type": "code",
      "execution_count": null,
      "id": "207d5921-34aa-4a65-8884-92dacf58ea09",
      "metadata": {
        "vscode": {
          "languageId": "python"
        },
        "id": "207d5921-34aa-4a65-8884-92dacf58ea09"
      },
      "outputs": [],
      "source": [
        "a=3.14"
      ]
    },
    {
      "cell_type": "code",
      "execution_count": null,
      "id": "7fad7d27-b9d5-42f5-8f2a-e40cebcc4995",
      "metadata": {
        "vscode": {
          "languageId": "python"
        },
        "id": "7fad7d27-b9d5-42f5-8f2a-e40cebcc4995",
        "outputId": "3afa9bfc-19b7-476a-97d1-15f6bba8763b"
      },
      "outputs": [
        {
          "ename": "TypeError",
          "evalue": "object of type 'float' has no len()",
          "output_type": "error",
          "traceback": [
            "\u001b[0;31m---------------------------------------------------------------------------\u001b[0m",
            "\u001b[0;31mTypeError\u001b[0m                                 Traceback (most recent call last)",
            "Input \u001b[0;32mIn [197]\u001b[0m, in \u001b[0;36m<module>\u001b[0;34m\u001b[0m\n\u001b[0;32m----> 1\u001b[0m \u001b[38;5;28;43mlen\u001b[39;49m\u001b[43m(\u001b[49m\u001b[43ma\u001b[49m\u001b[43m)\u001b[49m\n",
            "\u001b[0;31mTypeError\u001b[0m: object of type 'float' has no len()"
          ]
        }
      ],
      "source": [
        "len(a)"
      ]
    },
    {
      "cell_type": "code",
      "execution_count": null,
      "id": "e015e29c-707b-41b9-b344-21139fe0eb7e",
      "metadata": {
        "vscode": {
          "languageId": "python"
        },
        "id": "e015e29c-707b-41b9-b344-21139fe0eb7e"
      },
      "outputs": [],
      "source": [
        "b=True"
      ]
    },
    {
      "cell_type": "code",
      "execution_count": null,
      "id": "332e1623-b832-48cb-b799-2bffac504298",
      "metadata": {
        "vscode": {
          "languageId": "python"
        },
        "id": "332e1623-b832-48cb-b799-2bffac504298",
        "outputId": "e53c1f3a-8785-4f13-9903-cfb33725bf10"
      },
      "outputs": [
        {
          "ename": "TypeError",
          "evalue": "object of type 'bool' has no len()",
          "output_type": "error",
          "traceback": [
            "\u001b[0;31m---------------------------------------------------------------------------\u001b[0m",
            "\u001b[0;31mTypeError\u001b[0m                                 Traceback (most recent call last)",
            "Input \u001b[0;32mIn [201]\u001b[0m, in \u001b[0;36m<module>\u001b[0;34m\u001b[0m\n\u001b[0;32m----> 1\u001b[0m \u001b[38;5;28;43mlen\u001b[39;49m\u001b[43m(\u001b[49m\u001b[43mb\u001b[49m\u001b[43m)\u001b[49m\n",
            "\u001b[0;31mTypeError\u001b[0m: object of type 'bool' has no len()"
          ]
        }
      ],
      "source": [
        "len(b)"
      ]
    },
    {
      "cell_type": "markdown",
      "id": "8e894a90-6cb4-4270-a20b-ab5134fdd43d",
      "metadata": {
        "id": "8e894a90-6cb4-4270-a20b-ab5134fdd43d"
      },
      "source": [
        "(1차원) `len` 함수가 잘 동작함."
      ]
    },
    {
      "cell_type": "code",
      "execution_count": null,
      "id": "aa82d04e-89c2-4176-b86a-1f7891843c18",
      "metadata": {
        "vscode": {
          "languageId": "python"
        },
        "id": "aa82d04e-89c2-4176-b86a-1f7891843c18",
        "outputId": "7aafe81a-2d85-44f9-80c2-319e6327cf18"
      },
      "outputs": [
        {
          "data": {
            "text/plain": [
              "4"
            ]
          },
          "execution_count": 198,
          "metadata": {},
          "output_type": "execute_result"
        }
      ],
      "source": [
        "a='3.14'\n",
        "len(a)"
      ]
    },
    {
      "cell_type": "code",
      "execution_count": null,
      "id": "0e3455bc-144e-4f7b-aee0-e3fce07185a2",
      "metadata": {
        "vscode": {
          "languageId": "python"
        },
        "id": "0e3455bc-144e-4f7b-aee0-e3fce07185a2"
      },
      "outputs": [],
      "source": [
        "b=[1,2,3]"
      ]
    },
    {
      "cell_type": "code",
      "execution_count": null,
      "id": "1d0d92e4-6d9b-4ff3-ab6b-ff638dde8051",
      "metadata": {
        "vscode": {
          "languageId": "python"
        },
        "id": "1d0d92e4-6d9b-4ff3-ab6b-ff638dde8051",
        "outputId": "e7f79cb6-7462-490e-dfdb-59d19dc837ff"
      },
      "outputs": [
        {
          "data": {
            "text/plain": [
              "3"
            ]
          },
          "execution_count": 203,
          "metadata": {},
          "output_type": "execute_result"
        }
      ],
      "source": [
        "len(b)"
      ]
    },
    {
      "cell_type": "markdown",
      "id": "0279eb53-774b-4117-9fdf-9e51c1587294",
      "metadata": {
        "id": "0279eb53-774b-4117-9fdf-9e51c1587294"
      },
      "source": [
        "# Quiz"
      ]
    },
    {
      "cell_type": "markdown",
      "id": "84506c13-67a0-41f0-bcc2-d8db7c11f366",
      "metadata": {
        "id": "84506c13-67a0-41f0-bcc2-d8db7c11f366"
      },
      "source": [
        "아래와 같은 문자열이 있다고 하자."
      ]
    },
    {
      "cell_type": "code",
      "execution_count": 2,
      "id": "e86ce219-f331-4e26-9a88-13b4a48e1136",
      "metadata": {
        "id": "e86ce219-f331-4e26-9a88-13b4a48e1136"
      },
      "outputs": [],
      "source": [
        "a='Jeonbuk National University'"
      ]
    },
    {
      "cell_type": "markdown",
      "id": "759353a9-4f8b-47c3-9fdb-29de137dac2c",
      "metadata": {
        "id": "759353a9-4f8b-47c3-9fdb-29de137dac2c"
      },
      "source": [
        "`1`. 적당한 인덱싱을 통하여 출력결과가 아래와 같도록 하라."
      ]
    },
    {
      "cell_type": "code",
      "execution_count": 3,
      "id": "12c55a43-b971-4fc8-85dc-f968792e119d",
      "metadata": {
        "id": "12c55a43-b971-4fc8-85dc-f968792e119d",
        "outputId": "b29d29fa-9664-416c-8b51-babf576b13ff",
        "colab": {
          "base_uri": "https://localhost:8080/",
          "height": 36
        }
      },
      "outputs": [
        {
          "output_type": "execute_result",
          "data": {
            "text/plain": [
              "'University'"
            ],
            "application/vnd.google.colaboratory.intrinsic+json": {
              "type": "string"
            }
          },
          "metadata": {},
          "execution_count": 3
        }
      ],
      "source": [
        "a[-10:] # 적당한 인덱싱"
      ]
    },
    {
      "cell_type": "markdown",
      "id": "2fda1166-5d0e-46f8-846e-356c71352aa0",
      "metadata": {
        "id": "2fda1166-5d0e-46f8-846e-356c71352aa0"
      },
      "source": [
        "**hint**: University는 10글자이다."
      ]
    },
    {
      "cell_type": "markdown",
      "id": "d138e4cb-76af-48ff-b608-b252a4167912",
      "metadata": {
        "id": "d138e4cb-76af-48ff-b608-b252a4167912"
      },
      "source": [
        "`2`. 출력결과가 아래와 같도록 하는 코드를 작성하라. (lower 함수를 이용할 것)"
      ]
    },
    {
      "cell_type": "code",
      "execution_count": 4,
      "id": "572032fe-f43d-470e-af5e-ad39c607338f",
      "metadata": {
        "id": "572032fe-f43d-470e-af5e-ad39c607338f",
        "outputId": "a2ae2a10-f910-4d66-97a9-d6418e05e182",
        "colab": {
          "base_uri": "https://localhost:8080/",
          "height": 36
        }
      },
      "outputs": [
        {
          "output_type": "execute_result",
          "data": {
            "text/plain": [
              "'jeonbuk national university'"
            ],
            "application/vnd.google.colaboratory.intrinsic+json": {
              "type": "string"
            }
          },
          "metadata": {},
          "execution_count": 4
        }
      ],
      "source": [
        "a.lower()# 적당한 코드"
      ]
    },
    {
      "cell_type": "markdown",
      "id": "a8b57d56-b36d-440b-ad29-c3144bbddafc",
      "metadata": {
        "id": "a8b57d56-b36d-440b-ad29-c3144bbddafc"
      },
      "source": [
        "`3`. 아래의 코드를 관찰하고 isupper()의 기능이 무엇인지 스스로 정리해보라."
      ]
    },
    {
      "cell_type": "code",
      "execution_count": 5,
      "id": "61029033-7183-4c04-8792-f2b377823c90",
      "metadata": {
        "id": "61029033-7183-4c04-8792-f2b377823c90",
        "outputId": "bc951cbf-e15a-4545-8edb-62cf9e5cb333",
        "colab": {
          "base_uri": "https://localhost:8080/"
        }
      },
      "outputs": [
        {
          "output_type": "execute_result",
          "data": {
            "text/plain": [
              "True"
            ]
          },
          "metadata": {},
          "execution_count": 5
        }
      ],
      "source": [
        "'A'.isupper()"
      ]
    },
    {
      "cell_type": "code",
      "execution_count": 6,
      "id": "40fd64fa-851c-4bad-ac5a-f077463d258d",
      "metadata": {
        "id": "40fd64fa-851c-4bad-ac5a-f077463d258d",
        "outputId": "59bb7a4c-be68-4577-a7d7-c200cf01ac89",
        "colab": {
          "base_uri": "https://localhost:8080/"
        }
      },
      "outputs": [
        {
          "output_type": "execute_result",
          "data": {
            "text/plain": [
              "True"
            ]
          },
          "metadata": {},
          "execution_count": 6
        }
      ],
      "source": [
        "'AA'.isupper()"
      ]
    },
    {
      "cell_type": "code",
      "execution_count": 7,
      "id": "cb8e95ad-a54b-4b51-a74d-254e8ab94321",
      "metadata": {
        "id": "cb8e95ad-a54b-4b51-a74d-254e8ab94321",
        "outputId": "87ed2c7d-fc69-4bc5-bb1f-e75d7e70dbb5",
        "colab": {
          "base_uri": "https://localhost:8080/"
        }
      },
      "outputs": [
        {
          "output_type": "execute_result",
          "data": {
            "text/plain": [
              "False"
            ]
          },
          "metadata": {},
          "execution_count": 7
        }
      ],
      "source": [
        "'Aa'.isupper()"
      ]
    },
    {
      "cell_type": "code",
      "execution_count": 8,
      "id": "fdee8eb2-6696-411a-bc03-b16d4345de3a",
      "metadata": {
        "id": "fdee8eb2-6696-411a-bc03-b16d4345de3a",
        "outputId": "73e7d5b2-b0e4-4489-a645-acef834162b0",
        "colab": {
          "base_uri": "https://localhost:8080/"
        }
      },
      "outputs": [
        {
          "output_type": "execute_result",
          "data": {
            "text/plain": [
              "False"
            ]
          },
          "metadata": {},
          "execution_count": 8
        }
      ],
      "source": [
        "'aa'.isupper()"
      ]
    },
    {
      "cell_type": "code",
      "execution_count": 9,
      "id": "1d25df26-dfcc-4cc2-8dbb-1856426c8f29",
      "metadata": {
        "id": "1d25df26-dfcc-4cc2-8dbb-1856426c8f29",
        "outputId": "f5d0a0a4-cd04-4ed2-d517-680905213a3a",
        "colab": {
          "base_uri": "https://localhost:8080/"
        }
      },
      "outputs": [
        {
          "output_type": "execute_result",
          "data": {
            "text/plain": [
              "False"
            ]
          },
          "metadata": {},
          "execution_count": 9
        }
      ],
      "source": [
        "'aA'.isupper()"
      ]
    },
    {
      "cell_type": "markdown",
      "id": "92652e10-f2f2-46b1-9eec-bc8ee87dc8ed",
      "metadata": {
        "id": "92652e10-f2f2-46b1-9eec-bc8ee87dc8ed"
      },
      "source": [
        "유추한 기능이 맞는지 ChatGPT를 통하여 확인하라."
      ]
    },
    {
      "cell_type": "markdown",
      "id": "0d184671-9fca-4d14-93de-f11670c5222d",
      "metadata": {
        "id": "0d184671-9fca-4d14-93de-f11670c5222d"
      },
      "source": [
        "`4`. 다음중 실행 불가능한 코드를 모두 골라라.  "
      ]
    },
    {
      "cell_type": "markdown",
      "id": "c99233c3-89b9-446f-8e58-9a76907e39ac",
      "metadata": {
        "id": "c99233c3-89b9-446f-8e58-9a76907e39ac"
      },
      "source": [
        "```Python\n",
        "(a) 'a'*2\n",
        "\n",
        "(b) 'a'*'2'\n",
        "\n",
        "(c) 'a'+2\n",
        "\n",
        "(d) 'a'+'2'\n",
        "```"
      ]
    },
    {
      "cell_type": "code",
      "source": [
        "'a'*2"
      ],
      "metadata": {
        "id": "mBq1YZHYz6Zo",
        "outputId": "6f114616-eb1c-41b6-92ea-c7ff50e7fb25",
        "colab": {
          "base_uri": "https://localhost:8080/",
          "height": 36
        }
      },
      "id": "mBq1YZHYz6Zo",
      "execution_count": 10,
      "outputs": [
        {
          "output_type": "execute_result",
          "data": {
            "text/plain": [
              "'aa'"
            ],
            "application/vnd.google.colaboratory.intrinsic+json": {
              "type": "string"
            }
          },
          "metadata": {},
          "execution_count": 10
        }
      ]
    },
    {
      "cell_type": "code",
      "source": [
        "'a'*'2'"
      ],
      "metadata": {
        "id": "FOckfCU5z-e8",
        "outputId": "31820d02-12e0-4a15-8fd5-764027ee171f",
        "colab": {
          "base_uri": "https://localhost:8080/",
          "height": 176
        }
      },
      "id": "FOckfCU5z-e8",
      "execution_count": 11,
      "outputs": [
        {
          "output_type": "error",
          "ename": "TypeError",
          "evalue": "ignored",
          "traceback": [
            "\u001b[0;31m---------------------------------------------------------------------------\u001b[0m",
            "\u001b[0;31mTypeError\u001b[0m                                 Traceback (most recent call last)",
            "\u001b[0;32m<ipython-input-11-5b9ac2ac24c0>\u001b[0m in \u001b[0;36m<cell line: 1>\u001b[0;34m()\u001b[0m\n\u001b[0;32m----> 1\u001b[0;31m \u001b[0;34m'a'\u001b[0m\u001b[0;34m*\u001b[0m\u001b[0;34m'2'\u001b[0m\u001b[0;34m\u001b[0m\u001b[0;34m\u001b[0m\u001b[0m\n\u001b[0m",
            "\u001b[0;31mTypeError\u001b[0m: can't multiply sequence by non-int of type 'str'"
          ]
        }
      ]
    },
    {
      "cell_type": "code",
      "source": [
        "'a'+2"
      ],
      "metadata": {
        "id": "cHYBtHP7z-H8",
        "outputId": "4d0545d5-7d4c-4fdf-b82f-f4bfa32875bc",
        "colab": {
          "base_uri": "https://localhost:8080/",
          "height": 176
        }
      },
      "id": "cHYBtHP7z-H8",
      "execution_count": 12,
      "outputs": [
        {
          "output_type": "error",
          "ename": "TypeError",
          "evalue": "ignored",
          "traceback": [
            "\u001b[0;31m---------------------------------------------------------------------------\u001b[0m",
            "\u001b[0;31mTypeError\u001b[0m                                 Traceback (most recent call last)",
            "\u001b[0;32m<ipython-input-12-d64ed49d0894>\u001b[0m in \u001b[0;36m<cell line: 1>\u001b[0;34m()\u001b[0m\n\u001b[0;32m----> 1\u001b[0;31m \u001b[0;34m'a'\u001b[0m\u001b[0;34m+\u001b[0m\u001b[0;36m2\u001b[0m\u001b[0;34m\u001b[0m\u001b[0;34m\u001b[0m\u001b[0m\n\u001b[0m",
            "\u001b[0;31mTypeError\u001b[0m: can only concatenate str (not \"int\") to str"
          ]
        }
      ]
    },
    {
      "cell_type": "code",
      "source": [
        "'a'+'2'"
      ],
      "metadata": {
        "id": "WMgZKhCr0ED2",
        "outputId": "ad41fcd8-f052-495f-d64f-c77f67f7dd74",
        "colab": {
          "base_uri": "https://localhost:8080/",
          "height": 36
        }
      },
      "id": "WMgZKhCr0ED2",
      "execution_count": 13,
      "outputs": [
        {
          "output_type": "execute_result",
          "data": {
            "text/plain": [
              "'a2'"
            ],
            "application/vnd.google.colaboratory.intrinsic+json": {
              "type": "string"
            }
          },
          "metadata": {},
          "execution_count": 13
        }
      ]
    },
    {
      "cell_type": "markdown",
      "id": "599a606f-12bd-4294-81a2-733e20e037b1",
      "metadata": {
        "id": "599a606f-12bd-4294-81a2-733e20e037b1"
      },
      "source": [
        "`5`. 아래의 예제를 관찰하라."
      ]
    },
    {
      "cell_type": "code",
      "execution_count": null,
      "id": "6424a2a6-8c92-4578-81ae-ce637dcdff61",
      "metadata": {
        "id": "6424a2a6-8c92-4578-81ae-ce637dcdff61",
        "outputId": "165944aa-ee5f-4d28-b618-93085630303a"
      },
      "outputs": [
        {
          "data": {
            "text/plain": [
              "'제 이름은 최규빈입니다'"
            ]
          },
          "execution_count": 1,
          "metadata": {},
          "output_type": "execute_result"
        }
      ],
      "source": [
        "'제 이름은 {}입니다'.format('최규빈')"
      ]
    },
    {
      "cell_type": "code",
      "execution_count": null,
      "id": "afa316ca-a364-4c52-a18b-d03ba187a56c",
      "metadata": {
        "id": "afa316ca-a364-4c52-a18b-d03ba187a56c",
        "outputId": "eba761d2-a76c-4838-9b1d-9ad3f5685a1a"
      },
      "outputs": [
        {
          "data": {
            "text/plain": [
              "'제 이름은 최규빈이고 사는곳은 전주입니다.'"
            ]
          },
          "execution_count": 2,
          "metadata": {},
          "output_type": "execute_result"
        }
      ],
      "source": [
        "'제 이름은 {}이고 사는곳은 {}입니다.'.format('최규빈','전주')"
      ]
    },
    {
      "cell_type": "markdown",
      "id": "f5b4c4f1-ac40-495d-be16-da45cdc4fa61",
      "metadata": {
        "id": "f5b4c4f1-ac40-495d-be16-da45cdc4fa61"
      },
      "source": [
        "이 예제를 바탕으로 문자열에 포함된 `.format()`함수의 기능을 유추하라. 그리고 아래의 결과를 확인하라.\n",
        "\n",
        "```Python\n",
        "string = '전북대학교 학생엠티가 {}월{}일-{}월{}일 완주 곶감펜션에서 있다고 합니다. 자세한 일정 등은 다시 공지하겠습니다.'\n",
        "string.format(3,24,3,25)\n",
        "```"
      ]
    },
    {
      "cell_type": "markdown",
      "id": "5774a307-3df0-4697-867c-78dbcf5aee89",
      "metadata": {
        "id": "5774a307-3df0-4697-867c-78dbcf5aee89"
      },
      "source": [
        "ChatGPT를 활용하여 `.format()`함수의 기능을 학습하라."
      ]
    },
    {
      "cell_type": "markdown",
      "id": "fbd3ed73-d556-404c-b6fa-aa63e40f34ea",
      "metadata": {
        "id": "fbd3ed73-d556-404c-b6fa-aa63e40f34ea"
      },
      "source": [
        "`6`. 아래의 예제를 관찰하라."
      ]
    },
    {
      "cell_type": "code",
      "execution_count": null,
      "id": "a324f70a-0ec3-4de9-9837-841cc1ef3120",
      "metadata": {
        "id": "a324f70a-0ec3-4de9-9837-841cc1ef3120",
        "outputId": "04435af0-f106-4e2f-e210-0cbd5eafc7a2"
      },
      "outputs": [
        {
          "data": {
            "text/plain": [
              "'abcdefu'"
            ]
          },
          "execution_count": 16,
          "metadata": {},
          "output_type": "execute_result"
        }
      ],
      "source": [
        "'abcdefg'.replace('g','u')"
      ]
    },
    {
      "cell_type": "markdown",
      "id": "ad64f14c-f9f7-4ce9-aa35-acedcfbb9520",
      "metadata": {
        "id": "ad64f14c-f9f7-4ce9-aa35-acedcfbb9520"
      },
      "source": [
        "이 예제를 바탕으로 문자열의 `.replace()` 기능을 유추하라. 유추한 기능을 chatGPT로 확인하라."
      ]
    },
    {
      "cell_type": "markdown",
      "id": "7bf174b4-c8c6-4bd5-acc4-c72a1920c5c4",
      "metadata": {
        "id": "7bf174b4-c8c6-4bd5-acc4-c72a1920c5c4"
      },
      "source": [
        "`7`. 아래의 코드를 관찰하라."
      ]
    },
    {
      "cell_type": "code",
      "execution_count": null,
      "id": "923876ce-5f24-48a5-a860-2a755fee70fe",
      "metadata": {
        "id": "923876ce-5f24-48a5-a860-2a755fee70fe",
        "outputId": "fbf64c25-69a5-4c16-8919-031397c6a9a4"
      },
      "outputs": [
        {
          "data": {
            "text/plain": [
              "['2023', '03', '22']"
            ]
          },
          "execution_count": 89,
          "metadata": {},
          "output_type": "execute_result"
        }
      ],
      "source": [
        "'2023-03-22'.split('-')"
      ]
    },
    {
      "cell_type": "markdown",
      "id": "1a3667a9-f008-452c-976f-45e789d86194",
      "metadata": {
        "id": "1a3667a9-f008-452c-976f-45e789d86194"
      },
      "source": [
        "이 코드를 바탕으로 split의 기능을 유추하라. 유추한 기능을 chatGPT로 확인하라."
      ]
    },
    {
      "cell_type": "markdown",
      "id": "06d2ac35-27be-4d08-90a7-483d2ebe4014",
      "metadata": {
        "id": "06d2ac35-27be-4d08-90a7-483d2ebe4014"
      },
      "source": [
        "`8`. 아래의 코드를 관찰하라."
      ]
    },
    {
      "cell_type": "code",
      "execution_count": null,
      "id": "cc34c667-ab0c-408d-b1bc-e1471344f013",
      "metadata": {
        "id": "cc34c667-ab0c-408d-b1bc-e1471344f013",
        "outputId": "1137fa15-36fa-4b86-8edd-aab29c5da3ea"
      },
      "outputs": [
        {
          "data": {
            "text/plain": [
              "True"
            ]
          },
          "execution_count": 61,
          "metadata": {},
          "output_type": "execute_result"
        }
      ],
      "source": [
        "'a' in 'abcd'"
      ]
    },
    {
      "cell_type": "markdown",
      "id": "8e298e3d-fe09-423c-87ce-0065d6bffaed",
      "metadata": {
        "id": "8e298e3d-fe09-423c-87ce-0065d6bffaed"
      },
      "source": [
        "이 코드를 바탕으로 in 의 사용방법을 유추하라. 유추한 기능을 chatGPT로 확인하라."
      ]
    }
  ],
  "metadata": {
    "kernelspec": {
      "display_name": "Python 3 (ipykernel)",
      "language": "python",
      "name": "python3"
    },
    "language_info": {
      "codemirror_mode": {
        "name": "ipython",
        "version": 3
      },
      "file_extension": ".py",
      "mimetype": "text/x-python",
      "name": "python",
      "nbconvert_exporter": "python",
      "pygments_lexer": "ipython3",
      "version": "3.10.12"
    },
    "colab": {
      "provenance": []
    }
  },
  "nbformat": 4,
  "nbformat_minor": 5
}