{
  "cells": [
    {
      "cell_type": "markdown",
      "metadata": {
        "id": "view-in-github",
        "colab_type": "text"
      },
      "source": [
        "<a href=\"https://colab.research.google.com/github/simsang1l/python_workshop/blob/main/2023summer/Day1/02_Numpy%20/ls06.ipynb\" target=\"_parent\"><img src=\"https://colab.research.google.com/assets/colab-badge.svg\" alt=\"Open In Colab\"/></a>"
      ]
    },
    {
      "cell_type": "raw",
      "id": "db555da5-37b6-42f6-bfbe-fe9b3c0a02f9",
      "metadata": {
        "tags": [],
        "id": "db555da5-37b6-42f6-bfbe-fe9b3c0a02f9"
      },
      "source": [
        "---\n",
        "title: \"Lesson 06: numpy 공부 3단계\"\n",
        "author: \"최규빈\"\n",
        "date: \"07/24/2023\"\n",
        "---"
      ]
    },
    {
      "cell_type": "markdown",
      "id": "77e427e3-aadb-4e09-892b-6ec52b8baaf0",
      "metadata": {
        "id": "77e427e3-aadb-4e09-892b-6ec52b8baaf0"
      },
      "source": [
        "<a href=\"https://colab.research.google.com/github/guebin/PP2023SUM/blob/main/posts/Day1/02_Numpy/ls07.ipynb\"><img src=\"https://colab.research.google.com/assets/colab-badge.svg\" style=\"text-align: left\"></a>"
      ]
    },
    {
      "cell_type": "markdown",
      "id": "96547ef3-2a25-420f-9e6a-0a04c82557dd",
      "metadata": {
        "id": "96547ef3-2a25-420f-9e6a-0a04c82557dd"
      },
      "source": [
        "# imports"
      ]
    },
    {
      "cell_type": "code",
      "execution_count": 2,
      "id": "c4a2c671-67bb-4247-93ee-12eaf3e8d3ae",
      "metadata": {
        "id": "c4a2c671-67bb-4247-93ee-12eaf3e8d3ae"
      },
      "outputs": [],
      "source": [
        "import numpy as np"
      ]
    },
    {
      "cell_type": "markdown",
      "id": "e4c53e53-a19e-4c8b-985b-e1bdccf10e37",
      "metadata": {
        "id": "e4c53e53-a19e-4c8b-985b-e1bdccf10e37"
      },
      "source": [
        "# 넘파이 공부 3단계"
      ]
    },
    {
      "cell_type": "markdown",
      "id": "cf97c370-64a3-4b2e-8da9-b2aeb24ad894",
      "metadata": {
        "id": "cf97c370-64a3-4b2e-8da9-b2aeb24ad894"
      },
      "source": [
        "`-` 목표: 넘파이의 axis를 이해하여 보자."
      ]
    },
    {
      "cell_type": "markdown",
      "id": "3d4058b1-519b-4bd6-9077-7b7b135be586",
      "metadata": {
        "id": "3d4058b1-519b-4bd6-9077-7b7b135be586"
      },
      "source": [
        "## np.concatenate"
      ]
    },
    {
      "cell_type": "markdown",
      "id": "ad075910-9c37-429f-92c7-c43cf05d1a45",
      "metadata": {
        "id": "ad075910-9c37-429f-92c7-c43cf05d1a45"
      },
      "source": [
        "`-` 기본예제"
      ]
    },
    {
      "cell_type": "code",
      "execution_count": null,
      "id": "7f5c3986-9b1d-4ae3-9b72-905d0077d8f0",
      "metadata": {
        "id": "7f5c3986-9b1d-4ae3-9b72-905d0077d8f0"
      },
      "outputs": [],
      "source": [
        "a=np.array([1,2])\n",
        "b=-a"
      ]
    },
    {
      "cell_type": "code",
      "execution_count": null,
      "id": "8780358a-324d-47e8-b965-87b05007116d",
      "metadata": {
        "id": "8780358a-324d-47e8-b965-87b05007116d",
        "outputId": "f955f4c6-4836-4e15-fa47-39203e8a9b58"
      },
      "outputs": [
        {
          "data": {
            "text/plain": [
              "array([ 1,  2, -1, -2])"
            ]
          },
          "execution_count": 56,
          "metadata": {},
          "output_type": "execute_result"
        }
      ],
      "source": [
        "np.concatenate([a,b])"
      ]
    },
    {
      "cell_type": "markdown",
      "id": "be4c99f6-4b10-4bb3-aa55-50436e343ebc",
      "metadata": {
        "id": "be4c99f6-4b10-4bb3-aa55-50436e343ebc"
      },
      "source": [
        "`-` 응용"
      ]
    },
    {
      "cell_type": "code",
      "execution_count": null,
      "id": "6ed1e58f-c53a-45f7-bef6-dbff8f7bf8ca",
      "metadata": {
        "id": "6ed1e58f-c53a-45f7-bef6-dbff8f7bf8ca"
      },
      "outputs": [],
      "source": [
        "a=np.array([1,2])\n",
        "b=-a\n",
        "c=np.array([3,4,5])"
      ]
    },
    {
      "cell_type": "code",
      "execution_count": null,
      "id": "9c2e6f38-7b5c-4421-867c-56fef1015812",
      "metadata": {
        "id": "9c2e6f38-7b5c-4421-867c-56fef1015812",
        "outputId": "2195e207-864a-431d-cc24-7074ad850941"
      },
      "outputs": [
        {
          "data": {
            "text/plain": [
              "array([ 1,  2, -1, -2,  3,  4,  5])"
            ]
          },
          "execution_count": 58,
          "metadata": {},
          "output_type": "execute_result"
        }
      ],
      "source": [
        "np.concatenate([a,b,c])"
      ]
    },
    {
      "cell_type": "markdown",
      "id": "db8b8482-bed3-48a0-af30-fc50151aae78",
      "metadata": {
        "id": "db8b8482-bed3-48a0-af30-fc50151aae78"
      },
      "source": [
        "- 여기까진 딱히 칸캐터네이트의 메리트가 없어보임\n",
        "- 리스트였다면 a+b+c 하면 되는 기능이니까?"
      ]
    },
    {
      "cell_type": "markdown",
      "id": "ca6fc614-e1e9-43f8-80f5-6959fa182ef7",
      "metadata": {
        "id": "ca6fc614-e1e9-43f8-80f5-6959fa182ef7"
      },
      "source": [
        "`-` 2d array에 적용해보자."
      ]
    },
    {
      "cell_type": "code",
      "execution_count": null,
      "id": "531d1db9-ded8-42cc-aae0-4e024af5bcd4",
      "metadata": {
        "id": "531d1db9-ded8-42cc-aae0-4e024af5bcd4"
      },
      "outputs": [],
      "source": [
        "a=np.arange(4).reshape(2,2)\n",
        "b=-a"
      ]
    },
    {
      "cell_type": "code",
      "execution_count": null,
      "id": "2d7ec281-20b8-4c48-9665-90ccce842cfe",
      "metadata": {
        "id": "2d7ec281-20b8-4c48-9665-90ccce842cfe",
        "outputId": "3f93c885-c78e-4392-c7de-622a34bf4d29"
      },
      "outputs": [
        {
          "data": {
            "text/plain": [
              "array([[ 0,  1],\n",
              "       [ 2,  3],\n",
              "       [ 0, -1],\n",
              "       [-2, -3]])"
            ]
          },
          "execution_count": 62,
          "metadata": {},
          "output_type": "execute_result"
        }
      ],
      "source": [
        "np.concatenate([a,b])"
      ]
    },
    {
      "cell_type": "markdown",
      "id": "1be49608-c8ff-47c3-b7a1-0cb425a8db03",
      "metadata": {
        "id": "1be49608-c8ff-47c3-b7a1-0cb425a8db03"
      },
      "source": [
        "`-` 옆으로 붙일려면?"
      ]
    },
    {
      "cell_type": "code",
      "execution_count": null,
      "id": "8302a372-c5c6-4861-befb-cc0c40420baa",
      "metadata": {
        "id": "8302a372-c5c6-4861-befb-cc0c40420baa",
        "outputId": "176c7057-276e-4518-b0fc-d1324f33b4fb"
      },
      "outputs": [
        {
          "data": {
            "text/plain": [
              "array([[ 0,  1,  0, -1],\n",
              "       [ 2,  3, -2, -3]])"
            ]
          },
          "execution_count": 63,
          "metadata": {},
          "output_type": "execute_result"
        }
      ],
      "source": [
        "np.concatenate([a,b],axis=1)"
      ]
    },
    {
      "cell_type": "markdown",
      "id": "83eeb66f-dfdb-439c-89d0-6a52518f1bec",
      "metadata": {
        "id": "83eeb66f-dfdb-439c-89d0-6a52518f1bec"
      },
      "source": [
        "`-` 위의 코드에서 axis=1 이 뭐지? axis=0,2 등을 치면 결과가 어떻게 될까?"
      ]
    },
    {
      "cell_type": "code",
      "execution_count": null,
      "id": "bc5e516a-dcae-4a27-af2a-9f6a5c25b6fd",
      "metadata": {
        "id": "bc5e516a-dcae-4a27-af2a-9f6a5c25b6fd",
        "outputId": "b921b4c3-6a91-4877-c25c-4bcc435e5d95"
      },
      "outputs": [
        {
          "data": {
            "text/plain": [
              "array([[ 0,  1],\n",
              "       [ 2,  3],\n",
              "       [ 0, -1],\n",
              "       [-2, -3]])"
            ]
          },
          "execution_count": 64,
          "metadata": {},
          "output_type": "execute_result"
        }
      ],
      "source": [
        "np.concatenate([a,b],axis=0)"
      ]
    },
    {
      "cell_type": "markdown",
      "id": "e4e8a097-2375-47ec-8d09-b69655309c19",
      "metadata": {
        "id": "e4e8a097-2375-47ec-8d09-b69655309c19"
      },
      "source": [
        "- 이건 그냥 np.concatenate([a,b])와 같다.\n",
        "- np.concatenate([a,b])는 np.concatenate([a,b],axis=0)의 생략버전이군?"
      ]
    },
    {
      "cell_type": "code",
      "execution_count": null,
      "id": "37d10b18-f9b8-4fcc-a7d6-99df849fb1c1",
      "metadata": {
        "id": "37d10b18-f9b8-4fcc-a7d6-99df849fb1c1",
        "outputId": "fbe3eeb9-1330-4cc0-d46c-20068ebd9a25"
      },
      "outputs": [
        {
          "ename": "AxisError",
          "evalue": "axis 2 is out of bounds for array of dimension 2",
          "output_type": "error",
          "traceback": [
            "\u001b[0;31m---------------------------------------------------------------------------\u001b[0m",
            "\u001b[0;31mAxisError\u001b[0m                                 Traceback (most recent call last)",
            "Input \u001b[0;32mIn [65]\u001b[0m, in \u001b[0;36m<cell line: 1>\u001b[0;34m()\u001b[0m\n\u001b[0;32m----> 1\u001b[0m \u001b[43mnp\u001b[49m\u001b[38;5;241;43m.\u001b[39;49m\u001b[43mconcatenate\u001b[49m\u001b[43m(\u001b[49m\u001b[43m[\u001b[49m\u001b[43ma\u001b[49m\u001b[43m,\u001b[49m\u001b[43mb\u001b[49m\u001b[43m]\u001b[49m\u001b[43m,\u001b[49m\u001b[43maxis\u001b[49m\u001b[38;5;241;43m=\u001b[39;49m\u001b[38;5;241;43m2\u001b[39;49m\u001b[43m)\u001b[49m\n",
            "File \u001b[0;32m<__array_function__ internals>:5\u001b[0m, in \u001b[0;36mconcatenate\u001b[0;34m(*args, **kwargs)\u001b[0m\n",
            "\u001b[0;31mAxisError\u001b[0m: axis 2 is out of bounds for array of dimension 2"
          ]
        }
      ],
      "source": [
        "np.concatenate([a,b],axis=2)"
      ]
    },
    {
      "cell_type": "markdown",
      "id": "c918ff04-8d38-4404-a147-b2b18c26ef64",
      "metadata": {
        "id": "c918ff04-8d38-4404-a147-b2b18c26ef64"
      },
      "source": [
        "- 이런건 없다."
      ]
    },
    {
      "cell_type": "markdown",
      "id": "d7a41c46-f96d-42cc-b6f7-6816e7735f0d",
      "metadata": {
        "id": "d7a41c46-f96d-42cc-b6f7-6816e7735f0d"
      },
      "source": [
        "`-` axis의 의미가 뭔지 궁금함. 좀 더 예제를 살펴보자."
      ]
    },
    {
      "cell_type": "code",
      "execution_count": null,
      "id": "edaca1f5-1204-4d46-afd2-989390fb8191",
      "metadata": {
        "id": "edaca1f5-1204-4d46-afd2-989390fb8191",
        "outputId": "5d7019f7-e557-41c8-830c-7051622f1b15"
      },
      "outputs": [
        {
          "data": {
            "text/plain": [
              "array([[[ 0,  1,  2,  3],\n",
              "        [ 4,  5,  6,  7],\n",
              "        [ 8,  9, 10, 11]],\n",
              "\n",
              "       [[12, 13, 14, 15],\n",
              "        [16, 17, 18, 19],\n",
              "        [20, 21, 22, 23]]])"
            ]
          },
          "execution_count": 68,
          "metadata": {},
          "output_type": "execute_result"
        }
      ],
      "source": [
        "a=np.array(range(2*3*4)).reshape(2,3,4)\n",
        "a"
      ]
    },
    {
      "cell_type": "code",
      "execution_count": null,
      "id": "4698e4c5-7767-4a18-b873-cc1f343c0b63",
      "metadata": {
        "id": "4698e4c5-7767-4a18-b873-cc1f343c0b63",
        "outputId": "639fd005-6513-4e5c-d448-0a9c0dfb6016"
      },
      "outputs": [
        {
          "data": {
            "text/plain": [
              "array([[[  0,  -1,  -2,  -3],\n",
              "        [ -4,  -5,  -6,  -7],\n",
              "        [ -8,  -9, -10, -11]],\n",
              "\n",
              "       [[-12, -13, -14, -15],\n",
              "        [-16, -17, -18, -19],\n",
              "        [-20, -21, -22, -23]]])"
            ]
          },
          "execution_count": 69,
          "metadata": {},
          "output_type": "execute_result"
        }
      ],
      "source": [
        "b=-a\n",
        "b"
      ]
    },
    {
      "cell_type": "code",
      "execution_count": null,
      "id": "1d95bf56-f92c-4667-9715-7d757434faa6",
      "metadata": {
        "id": "1d95bf56-f92c-4667-9715-7d757434faa6",
        "outputId": "b8142ef5-3c8c-4341-a57c-23a818b874f0"
      },
      "outputs": [
        {
          "data": {
            "text/plain": [
              "array([[[  0,   1,   2,   3],\n",
              "        [  4,   5,   6,   7],\n",
              "        [  8,   9,  10,  11]],\n",
              "\n",
              "       [[ 12,  13,  14,  15],\n",
              "        [ 16,  17,  18,  19],\n",
              "        [ 20,  21,  22,  23]],\n",
              "\n",
              "       [[  0,  -1,  -2,  -3],\n",
              "        [ -4,  -5,  -6,  -7],\n",
              "        [ -8,  -9, -10, -11]],\n",
              "\n",
              "       [[-12, -13, -14, -15],\n",
              "        [-16, -17, -18, -19],\n",
              "        [-20, -21, -22, -23]]])"
            ]
          },
          "execution_count": 70,
          "metadata": {},
          "output_type": "execute_result"
        }
      ],
      "source": [
        "np.concatenate([a,b],axis=0)"
      ]
    },
    {
      "cell_type": "code",
      "execution_count": null,
      "id": "623d87d6-3c0c-44b4-b5f3-ce7567cd396a",
      "metadata": {
        "id": "623d87d6-3c0c-44b4-b5f3-ce7567cd396a",
        "outputId": "64ddffff-895a-4246-9538-324b6ff48ac7"
      },
      "outputs": [
        {
          "data": {
            "text/plain": [
              "array([[[  0,   1,   2,   3],\n",
              "        [  4,   5,   6,   7],\n",
              "        [  8,   9,  10,  11],\n",
              "        [  0,  -1,  -2,  -3],\n",
              "        [ -4,  -5,  -6,  -7],\n",
              "        [ -8,  -9, -10, -11]],\n",
              "\n",
              "       [[ 12,  13,  14,  15],\n",
              "        [ 16,  17,  18,  19],\n",
              "        [ 20,  21,  22,  23],\n",
              "        [-12, -13, -14, -15],\n",
              "        [-16, -17, -18, -19],\n",
              "        [-20, -21, -22, -23]]])"
            ]
          },
          "execution_count": 72,
          "metadata": {},
          "output_type": "execute_result"
        }
      ],
      "source": [
        "np.concatenate([a,b],axis=1)"
      ]
    },
    {
      "cell_type": "code",
      "execution_count": null,
      "id": "7db69480-7d80-4c62-ab4c-908b1e914113",
      "metadata": {
        "id": "7db69480-7d80-4c62-ab4c-908b1e914113",
        "outputId": "108659fc-43dd-4d98-b39d-597d23c6383c"
      },
      "outputs": [
        {
          "data": {
            "text/plain": [
              "array([[[  0,   1,   2,   3,   0,  -1,  -2,  -3],\n",
              "        [  4,   5,   6,   7,  -4,  -5,  -6,  -7],\n",
              "        [  8,   9,  10,  11,  -8,  -9, -10, -11]],\n",
              "\n",
              "       [[ 12,  13,  14,  15, -12, -13, -14, -15],\n",
              "        [ 16,  17,  18,  19, -16, -17, -18, -19],\n",
              "        [ 20,  21,  22,  23, -20, -21, -22, -23]]])"
            ]
          },
          "execution_count": 73,
          "metadata": {},
          "output_type": "execute_result"
        }
      ],
      "source": [
        "np.concatenate([a,b],axis=2)"
      ]
    },
    {
      "cell_type": "markdown",
      "id": "1255b763-1348-4f8a-a624-e0ceb95e3e3e",
      "metadata": {
        "id": "1255b763-1348-4f8a-a624-e0ceb95e3e3e"
      },
      "source": [
        "- 이번에는 axis=2까지 된다?"
      ]
    },
    {
      "cell_type": "code",
      "execution_count": null,
      "id": "8335898a-ccd3-48ea-b1ac-a9ed1436207f",
      "metadata": {
        "id": "8335898a-ccd3-48ea-b1ac-a9ed1436207f",
        "outputId": "df113b07-e735-433b-bb78-66b516e9b83a"
      },
      "outputs": [
        {
          "ename": "AxisError",
          "evalue": "axis 3 is out of bounds for array of dimension 3",
          "output_type": "error",
          "traceback": [
            "\u001b[0;31m---------------------------------------------------------------------------\u001b[0m",
            "\u001b[0;31mAxisError\u001b[0m                                 Traceback (most recent call last)",
            "Input \u001b[0;32mIn [75]\u001b[0m, in \u001b[0;36m<cell line: 1>\u001b[0;34m()\u001b[0m\n\u001b[0;32m----> 1\u001b[0m \u001b[43mnp\u001b[49m\u001b[38;5;241;43m.\u001b[39;49m\u001b[43mconcatenate\u001b[49m\u001b[43m(\u001b[49m\u001b[43m[\u001b[49m\u001b[43ma\u001b[49m\u001b[43m,\u001b[49m\u001b[43mb\u001b[49m\u001b[43m]\u001b[49m\u001b[43m,\u001b[49m\u001b[43maxis\u001b[49m\u001b[38;5;241;43m=\u001b[39;49m\u001b[38;5;241;43m3\u001b[39;49m\u001b[43m)\u001b[49m\n",
            "File \u001b[0;32m<__array_function__ internals>:5\u001b[0m, in \u001b[0;36mconcatenate\u001b[0;34m(*args, **kwargs)\u001b[0m\n",
            "\u001b[0;31mAxisError\u001b[0m: axis 3 is out of bounds for array of dimension 3"
          ]
        }
      ],
      "source": [
        "np.concatenate([a,b],axis=3)"
      ]
    },
    {
      "cell_type": "markdown",
      "id": "f21f5d85-cf58-4c7d-8f43-a23397216730",
      "metadata": {
        "id": "f21f5d85-cf58-4c7d-8f43-a23397216730"
      },
      "source": [
        "- axis=3까지는 안된다?"
      ]
    },
    {
      "cell_type": "markdown",
      "id": "0957319d-38f6-4776-8b02-425cd5d9f9f5",
      "metadata": {
        "id": "0957319d-38f6-4776-8b02-425cd5d9f9f5"
      },
      "source": [
        "`-` 뭔가 나름의 방식으로 합쳐지는데 원리가 뭘까?"
      ]
    },
    {
      "cell_type": "markdown",
      "id": "b0b1a34c-f7e0-453c-a06d-a560e1180c2f",
      "metadata": {
        "id": "b0b1a34c-f7e0-453c-a06d-a560e1180c2f"
      },
      "source": [
        "(분석1) np.concatenate([a,b],axis=0)"
      ]
    },
    {
      "cell_type": "code",
      "execution_count": null,
      "id": "5c143f84-ec3b-4baa-a586-7d821127ea41",
      "metadata": {
        "id": "5c143f84-ec3b-4baa-a586-7d821127ea41"
      },
      "outputs": [],
      "source": [
        "a=np.array(range(2*3*4)).reshape(2,3,4)\n",
        "b=-a"
      ]
    },
    {
      "cell_type": "code",
      "execution_count": null,
      "id": "7bea044d-9f8c-4450-a654-aa230e78c45b",
      "metadata": {
        "id": "7bea044d-9f8c-4450-a654-aa230e78c45b",
        "outputId": "52980ddc-706e-42dd-8bd6-5336d5c66c53"
      },
      "outputs": [
        {
          "data": {
            "text/plain": [
              "((2, 3, 4), (2, 3, 4), (4, 3, 4))"
            ]
          },
          "execution_count": 86,
          "metadata": {},
          "output_type": "execute_result"
        }
      ],
      "source": [
        "a.shape, b.shape, np.concatenate([a,b],axis=0).shape"
      ]
    },
    {
      "cell_type": "markdown",
      "id": "3f1edf74-2d3c-436d-acbe-ce8de7397079",
      "metadata": {
        "id": "3f1edf74-2d3c-436d-acbe-ce8de7397079"
      },
      "source": [
        "- 첫번째차원이 바뀌었다 => 첫번째 축이 바뀌었다 => axis=0 (파이썬은 0부터 시작하니까!)"
      ]
    },
    {
      "cell_type": "markdown",
      "id": "5709e6e0-93bc-4ae8-b4d2-8c45059e9bb8",
      "metadata": {
        "id": "5709e6e0-93bc-4ae8-b4d2-8c45059e9bb8"
      },
      "source": [
        "(분석2) np.concatenate([a,b],axis=1)"
      ]
    },
    {
      "cell_type": "code",
      "execution_count": null,
      "id": "ebdb2a12-7119-4386-bd8f-4009be840c9e",
      "metadata": {
        "id": "ebdb2a12-7119-4386-bd8f-4009be840c9e"
      },
      "outputs": [],
      "source": [
        "a=np.array(range(2*3*4)).reshape(2,3,4)\n",
        "b=-a"
      ]
    },
    {
      "cell_type": "code",
      "execution_count": null,
      "id": "58d41012-d05e-4812-8206-7bde5d01f764",
      "metadata": {
        "id": "58d41012-d05e-4812-8206-7bde5d01f764",
        "outputId": "0a5d8895-5cb7-40ab-ef3b-48e3a1297a50"
      },
      "outputs": [
        {
          "data": {
            "text/plain": [
              "((2, 3, 4), (2, 3, 4), (2, 6, 4))"
            ]
          },
          "execution_count": 89,
          "metadata": {},
          "output_type": "execute_result"
        }
      ],
      "source": [
        "a.shape, b.shape, np.concatenate([a,b],axis=1).shape"
      ]
    },
    {
      "cell_type": "markdown",
      "id": "fd141fa0-9d9b-474f-9306-fef75190b9db",
      "metadata": {
        "id": "fd141fa0-9d9b-474f-9306-fef75190b9db"
      },
      "source": [
        "- 두번째차원이 바뀌었다 => 두번째 축이 바뀌었다 => axis=1"
      ]
    },
    {
      "cell_type": "markdown",
      "id": "85220403-2a2d-4f80-b9ea-e0f2af4d9c05",
      "metadata": {
        "id": "85220403-2a2d-4f80-b9ea-e0f2af4d9c05"
      },
      "source": [
        "(분석3) np.concatenate([a,b],axis=2)"
      ]
    },
    {
      "cell_type": "code",
      "execution_count": null,
      "id": "225caccb-6140-4943-9c2c-a505b67b0b8b",
      "metadata": {
        "id": "225caccb-6140-4943-9c2c-a505b67b0b8b"
      },
      "outputs": [],
      "source": [
        "a=np.array(range(2*3*4)).reshape(2,3,4)\n",
        "b=-a"
      ]
    },
    {
      "cell_type": "code",
      "execution_count": null,
      "id": "e4d12427-11e2-48b7-a2ba-4b00b274ebcf",
      "metadata": {
        "id": "e4d12427-11e2-48b7-a2ba-4b00b274ebcf",
        "outputId": "6a28fd82-0e1a-4cfd-cfef-f8de1a1910ce"
      },
      "outputs": [
        {
          "data": {
            "text/plain": [
              "((2, 3, 4), (2, 3, 4), (2, 3, 8))"
            ]
          },
          "execution_count": 92,
          "metadata": {},
          "output_type": "execute_result"
        }
      ],
      "source": [
        "a.shape, b.shape, np.concatenate([a,b],axis=2).shape"
      ]
    },
    {
      "cell_type": "markdown",
      "id": "00fbf9cb-9f9d-4543-b422-b6409957c3d4",
      "metadata": {
        "id": "00fbf9cb-9f9d-4543-b422-b6409957c3d4"
      },
      "source": [
        "- 세번째차원이 바뀌었다 => 세번째 축이 바뀌었다 => axis=2"
      ]
    },
    {
      "cell_type": "markdown",
      "id": "56889475-b4be-4148-8b3f-362b44340566",
      "metadata": {
        "id": "56889475-b4be-4148-8b3f-362b44340566"
      },
      "source": [
        "(분석4) np.concatenate([a,b],axis=3)"
      ]
    },
    {
      "cell_type": "code",
      "execution_count": null,
      "id": "35357cff-31aa-4a22-8e76-32dbf6246788",
      "metadata": {
        "id": "35357cff-31aa-4a22-8e76-32dbf6246788"
      },
      "outputs": [],
      "source": [
        "a=np.array(range(2*3*4)).reshape(2,3,4)\n",
        "b=-a"
      ]
    },
    {
      "cell_type": "code",
      "execution_count": null,
      "id": "b5cecfdb-24ec-4952-928d-7bb4016c747f",
      "metadata": {
        "id": "b5cecfdb-24ec-4952-928d-7bb4016c747f",
        "outputId": "4e3ae539-c98b-4153-ddc3-dbff7e66a24e"
      },
      "outputs": [
        {
          "ename": "AxisError",
          "evalue": "axis 3 is out of bounds for array of dimension 3",
          "output_type": "error",
          "traceback": [
            "\u001b[0;31m---------------------------------------------------------------------------\u001b[0m",
            "\u001b[0;31mAxisError\u001b[0m                                 Traceback (most recent call last)",
            "Input \u001b[0;32mIn [95]\u001b[0m, in \u001b[0;36m<cell line: 1>\u001b[0;34m()\u001b[0m\n\u001b[0;32m----> 1\u001b[0m a\u001b[38;5;241m.\u001b[39mshape, b\u001b[38;5;241m.\u001b[39mshape, \u001b[43mnp\u001b[49m\u001b[38;5;241;43m.\u001b[39;49m\u001b[43mconcatenate\u001b[49m\u001b[43m(\u001b[49m\u001b[43m[\u001b[49m\u001b[43ma\u001b[49m\u001b[43m,\u001b[49m\u001b[43mb\u001b[49m\u001b[43m]\u001b[49m\u001b[43m,\u001b[49m\u001b[43maxis\u001b[49m\u001b[38;5;241;43m=\u001b[39;49m\u001b[38;5;241;43m3\u001b[39;49m\u001b[43m)\u001b[49m\u001b[38;5;241m.\u001b[39mshape\n",
            "File \u001b[0;32m<__array_function__ internals>:5\u001b[0m, in \u001b[0;36mconcatenate\u001b[0;34m(*args, **kwargs)\u001b[0m\n",
            "\u001b[0;31mAxisError\u001b[0m: axis 3 is out of bounds for array of dimension 3"
          ]
        }
      ],
      "source": [
        "a.shape, b.shape, np.concatenate([a,b],axis=3).shape"
      ]
    },
    {
      "cell_type": "markdown",
      "id": "8ea6b7db-e4a0-47f9-a59d-a15a404f1b3e",
      "metadata": {
        "id": "8ea6b7db-e4a0-47f9-a59d-a15a404f1b3e"
      },
      "source": [
        "- 네번째차원이 없다 => 네번째 축이 없다 => axis=3으로 하면 에러가 난다."
      ]
    },
    {
      "cell_type": "markdown",
      "id": "5c5ae5dd-d9c0-4357-a30f-0e5b611c360b",
      "metadata": {
        "id": "5c5ae5dd-d9c0-4357-a30f-0e5b611c360b"
      },
      "source": [
        "(보너스1)"
      ]
    },
    {
      "cell_type": "code",
      "execution_count": null,
      "id": "e1dede62-9671-4980-8d7b-14419d5743b4",
      "metadata": {
        "id": "e1dede62-9671-4980-8d7b-14419d5743b4"
      },
      "outputs": [],
      "source": [
        "a=np.array(range(2*3*4)).reshape(2,3,4)\n",
        "b=-a"
      ]
    },
    {
      "cell_type": "code",
      "execution_count": null,
      "id": "3bcde92f-4b88-4786-8c71-026dbd7d1fa9",
      "metadata": {
        "id": "3bcde92f-4b88-4786-8c71-026dbd7d1fa9",
        "outputId": "dc8e40f9-c86d-45e6-b2b1-c30b370c6088"
      },
      "outputs": [
        {
          "data": {
            "text/plain": [
              "array([[[  0,   1,   2,   3,   0,  -1,  -2,  -3],\n",
              "        [  4,   5,   6,   7,  -4,  -5,  -6,  -7],\n",
              "        [  8,   9,  10,  11,  -8,  -9, -10, -11]],\n",
              "\n",
              "       [[ 12,  13,  14,  15, -12, -13, -14, -15],\n",
              "        [ 16,  17,  18,  19, -16, -17, -18, -19],\n",
              "        [ 20,  21,  22,  23, -20, -21, -22, -23]]])"
            ]
          },
          "execution_count": 101,
          "metadata": {},
          "output_type": "execute_result"
        }
      ],
      "source": [
        "np.concatenate([a,b],axis=-1)"
      ]
    },
    {
      "cell_type": "code",
      "execution_count": null,
      "id": "1bcd4e0f-46e8-47e4-a614-cc5a3eef5890",
      "metadata": {
        "id": "1bcd4e0f-46e8-47e4-a614-cc5a3eef5890",
        "outputId": "7a1d86f6-a1a8-41d0-cf11-185c7b6c3c8d"
      },
      "outputs": [
        {
          "data": {
            "text/plain": [
              "((2, 3, 4), (2, 3, 4), (2, 3, 8))"
            ]
          },
          "execution_count": 100,
          "metadata": {},
          "output_type": "execute_result"
        }
      ],
      "source": [
        "a.shape, b.shape, np.concatenate([a,b],axis=-1).shape"
      ]
    },
    {
      "cell_type": "markdown",
      "id": "1f849708-bb9d-451c-bd19-c7e0c64351ac",
      "metadata": {
        "id": "1f849708-bb9d-451c-bd19-c7e0c64351ac"
      },
      "source": [
        "- 마지막 차원이 바뀌었다 => 마지막 축이 바뀌었다 => axis = -1"
      ]
    },
    {
      "cell_type": "markdown",
      "id": "40b5a7e1-ccb7-4eef-84aa-846c831fcc85",
      "metadata": {
        "id": "40b5a7e1-ccb7-4eef-84aa-846c831fcc85"
      },
      "source": [
        "(보너스2)"
      ]
    },
    {
      "cell_type": "code",
      "execution_count": null,
      "id": "bf8315fd-a7d4-4deb-b516-b50995c46a3b",
      "metadata": {
        "id": "bf8315fd-a7d4-4deb-b516-b50995c46a3b"
      },
      "outputs": [],
      "source": [
        "a=np.array(range(2*3*4)).reshape(2,3,4)\n",
        "b=-a"
      ]
    },
    {
      "cell_type": "code",
      "execution_count": null,
      "id": "7cf8d7e1-33ae-4756-be14-3ec77dd88cf2",
      "metadata": {
        "id": "7cf8d7e1-33ae-4756-be14-3ec77dd88cf2",
        "outputId": "44546e75-6414-437a-a457-81c5213783a5"
      },
      "outputs": [
        {
          "data": {
            "text/plain": [
              "array([[[  0,   1,   2,   3],\n",
              "        [  4,   5,   6,   7],\n",
              "        [  8,   9,  10,  11],\n",
              "        [  0,  -1,  -2,  -3],\n",
              "        [ -4,  -5,  -6,  -7],\n",
              "        [ -8,  -9, -10, -11]],\n",
              "\n",
              "       [[ 12,  13,  14,  15],\n",
              "        [ 16,  17,  18,  19],\n",
              "        [ 20,  21,  22,  23],\n",
              "        [-12, -13, -14, -15],\n",
              "        [-16, -17, -18, -19],\n",
              "        [-20, -21, -22, -23]]])"
            ]
          },
          "execution_count": 108,
          "metadata": {},
          "output_type": "execute_result"
        }
      ],
      "source": [
        "np.concatenate([a,b],axis=-2)"
      ]
    },
    {
      "cell_type": "code",
      "execution_count": null,
      "id": "9c696517-a26f-4054-8e3c-b6b7991014e5",
      "metadata": {
        "id": "9c696517-a26f-4054-8e3c-b6b7991014e5",
        "outputId": "bc5db9e3-3104-4407-8bb7-9a7a2263795c"
      },
      "outputs": [
        {
          "data": {
            "text/plain": [
              "((2, 3, 4), (2, 3, 4), (2, 6, 4))"
            ]
          },
          "execution_count": 109,
          "metadata": {},
          "output_type": "execute_result"
        }
      ],
      "source": [
        "a.shape, b.shape, np.concatenate([a,b],axis=-2).shape"
      ]
    },
    {
      "cell_type": "markdown",
      "id": "91abe2dc-c4a1-498c-b556-04816a1ecc7f",
      "metadata": {
        "id": "91abe2dc-c4a1-498c-b556-04816a1ecc7f"
      },
      "source": [
        "- 마지막에서 2번째 차원이 바뀌었다 => 마지막에서 2번째 축이 바뀌었다 => axis = -2"
      ]
    },
    {
      "cell_type": "markdown",
      "id": "e4052348-b0bd-4160-9cbc-50b6e97a126f",
      "metadata": {
        "id": "e4052348-b0bd-4160-9cbc-50b6e97a126f"
      },
      "source": [
        "(보너스3)"
      ]
    },
    {
      "cell_type": "code",
      "execution_count": null,
      "id": "ca02d56c-fd44-4da2-b080-fcb616a556b9",
      "metadata": {
        "id": "ca02d56c-fd44-4da2-b080-fcb616a556b9"
      },
      "outputs": [],
      "source": [
        "a=np.array(range(2*3*4)).reshape(2,3,4)\n",
        "b=-a"
      ]
    },
    {
      "cell_type": "code",
      "execution_count": null,
      "id": "def662c8-4ddc-4ae2-8a6e-c1ce4fd1238a",
      "metadata": {
        "id": "def662c8-4ddc-4ae2-8a6e-c1ce4fd1238a",
        "outputId": "0ddd29fb-2f35-4266-e882-2c4a0ae8fcdf"
      },
      "outputs": [
        {
          "data": {
            "text/plain": [
              "array([[[  0,   1,   2,   3],\n",
              "        [  4,   5,   6,   7],\n",
              "        [  8,   9,  10,  11]],\n",
              "\n",
              "       [[ 12,  13,  14,  15],\n",
              "        [ 16,  17,  18,  19],\n",
              "        [ 20,  21,  22,  23]],\n",
              "\n",
              "       [[  0,  -1,  -2,  -3],\n",
              "        [ -4,  -5,  -6,  -7],\n",
              "        [ -8,  -9, -10, -11]],\n",
              "\n",
              "       [[-12, -13, -14, -15],\n",
              "        [-16, -17, -18, -19],\n",
              "        [-20, -21, -22, -23]]])"
            ]
          },
          "execution_count": 111,
          "metadata": {},
          "output_type": "execute_result"
        }
      ],
      "source": [
        "np.concatenate([a,b],axis=-3)"
      ]
    },
    {
      "cell_type": "code",
      "execution_count": null,
      "id": "88593722-3496-4799-bf8a-2a9cbb2e096c",
      "metadata": {
        "id": "88593722-3496-4799-bf8a-2a9cbb2e096c",
        "outputId": "eaf94ff5-9ac4-4940-cf15-37c50d219d94"
      },
      "outputs": [
        {
          "data": {
            "text/plain": [
              "((2, 3, 4), (2, 3, 4), (4, 3, 4))"
            ]
          },
          "execution_count": 112,
          "metadata": {},
          "output_type": "execute_result"
        }
      ],
      "source": [
        "a.shape, b.shape, np.concatenate([a,b],axis=-3).shape"
      ]
    },
    {
      "cell_type": "markdown",
      "id": "a6ba35a4-9188-4eaf-aae6-5e573131cfb0",
      "metadata": {
        "id": "a6ba35a4-9188-4eaf-aae6-5e573131cfb0"
      },
      "source": [
        "- 마지막에서 3번째 차원이 바뀌었다 => 마지막에서 3번째 축이 바뀌었다 => axis = -3"
      ]
    },
    {
      "cell_type": "markdown",
      "id": "e7c805cd-3ad6-4acc-87fb-f8c01f120531",
      "metadata": {
        "id": "e7c805cd-3ad6-4acc-87fb-f8c01f120531"
      },
      "source": [
        "(보너스3)"
      ]
    },
    {
      "cell_type": "code",
      "execution_count": null,
      "id": "f8d9108c-6e3e-418b-a300-3dc59e8aa2a6",
      "metadata": {
        "id": "f8d9108c-6e3e-418b-a300-3dc59e8aa2a6"
      },
      "outputs": [],
      "source": [
        "a=np.array(range(2*3*4)).reshape(2,3,4)\n",
        "b=-a"
      ]
    },
    {
      "cell_type": "code",
      "execution_count": null,
      "id": "251abf15-45da-4514-b01a-f2c0b0e17e48",
      "metadata": {
        "id": "251abf15-45da-4514-b01a-f2c0b0e17e48",
        "outputId": "53243d06-1452-46e6-acb5-e1de680ca89d"
      },
      "outputs": [
        {
          "ename": "AxisError",
          "evalue": "axis -4 is out of bounds for array of dimension 3",
          "output_type": "error",
          "traceback": [
            "\u001b[0;31m---------------------------------------------------------------------------\u001b[0m",
            "\u001b[0;31mAxisError\u001b[0m                                 Traceback (most recent call last)",
            "Input \u001b[0;32mIn [115]\u001b[0m, in \u001b[0;36m<cell line: 1>\u001b[0;34m()\u001b[0m\n\u001b[0;32m----> 1\u001b[0m \u001b[43mnp\u001b[49m\u001b[38;5;241;43m.\u001b[39;49m\u001b[43mconcatenate\u001b[49m\u001b[43m(\u001b[49m\u001b[43m[\u001b[49m\u001b[43ma\u001b[49m\u001b[43m,\u001b[49m\u001b[43mb\u001b[49m\u001b[43m]\u001b[49m\u001b[43m,\u001b[49m\u001b[43maxis\u001b[49m\u001b[38;5;241;43m=\u001b[39;49m\u001b[38;5;241;43m-\u001b[39;49m\u001b[38;5;241;43m4\u001b[39;49m\u001b[43m)\u001b[49m\n",
            "File \u001b[0;32m<__array_function__ internals>:5\u001b[0m, in \u001b[0;36mconcatenate\u001b[0;34m(*args, **kwargs)\u001b[0m\n",
            "\u001b[0;31mAxisError\u001b[0m: axis -4 is out of bounds for array of dimension 3"
          ]
        }
      ],
      "source": [
        "np.concatenate([a,b],axis=-4)"
      ]
    },
    {
      "cell_type": "markdown",
      "id": "ae1bebfc-5d13-43fc-a519-42fb1b288ba5",
      "metadata": {
        "id": "ae1bebfc-5d13-43fc-a519-42fb1b288ba5"
      },
      "source": [
        "- 마지막에서 4번째 차원은 없다 => 마지막에서 4번째 축이 없다 => axis = -4는 에러가 난다."
      ]
    },
    {
      "cell_type": "markdown",
      "id": "506765fe-4938-41bd-b051-ebcaf36649b8",
      "metadata": {
        "id": "506765fe-4938-41bd-b051-ebcaf36649b8"
      },
      "source": [
        "`-` 0차원은 축이 없으므로 concatenate를 쓸 수 없다."
      ]
    },
    {
      "cell_type": "code",
      "execution_count": null,
      "id": "a4f849d2-1898-4028-92a4-d3e7b632d155",
      "metadata": {
        "id": "a4f849d2-1898-4028-92a4-d3e7b632d155"
      },
      "outputs": [],
      "source": [
        "a= np.array(1)\n",
        "b= np.array(-1)"
      ]
    },
    {
      "cell_type": "code",
      "execution_count": null,
      "id": "1a4b96f4-3d0e-4e15-bacc-1a41c93fb4b9",
      "metadata": {
        "id": "1a4b96f4-3d0e-4e15-bacc-1a41c93fb4b9",
        "outputId": "fb8a8e66-70cc-4dc0-ad25-6a6d6b46fcd4"
      },
      "outputs": [
        {
          "data": {
            "text/plain": [
              "((), ())"
            ]
          },
          "execution_count": 126,
          "metadata": {},
          "output_type": "execute_result"
        }
      ],
      "source": [
        "a.shape, b.shape"
      ]
    },
    {
      "cell_type": "code",
      "execution_count": null,
      "id": "e3b5f961-ca20-4b86-851e-a16fa9aa015e",
      "metadata": {
        "id": "e3b5f961-ca20-4b86-851e-a16fa9aa015e",
        "outputId": "5b93119c-a7d6-490b-c8a4-f6517706f800"
      },
      "outputs": [
        {
          "ename": "ValueError",
          "evalue": "zero-dimensional arrays cannot be concatenated",
          "output_type": "error",
          "traceback": [
            "\u001b[0;31m---------------------------------------------------------------------------\u001b[0m",
            "\u001b[0;31mValueError\u001b[0m                                Traceback (most recent call last)",
            "Input \u001b[0;32mIn [127]\u001b[0m, in \u001b[0;36m<cell line: 1>\u001b[0;34m()\u001b[0m\n\u001b[0;32m----> 1\u001b[0m \u001b[43mnp\u001b[49m\u001b[38;5;241;43m.\u001b[39;49m\u001b[43mconcatenate\u001b[49m\u001b[43m(\u001b[49m\u001b[43m[\u001b[49m\u001b[43ma\u001b[49m\u001b[43m,\u001b[49m\u001b[43mb\u001b[49m\u001b[43m]\u001b[49m\u001b[43m)\u001b[49m\n",
            "File \u001b[0;32m<__array_function__ internals>:5\u001b[0m, in \u001b[0;36mconcatenate\u001b[0;34m(*args, **kwargs)\u001b[0m\n",
            "\u001b[0;31mValueError\u001b[0m: zero-dimensional arrays cannot be concatenated"
          ]
        }
      ],
      "source": [
        "np.concatenate([a,b])"
      ]
    },
    {
      "cell_type": "markdown",
      "id": "1fa5d482-abcf-4873-a5ff-584f02d1f07b",
      "metadata": {
        "id": "1fa5d482-abcf-4873-a5ff-584f02d1f07b"
      },
      "source": [
        "`-` 꼭 a,b가 같은 차원일 필요는 없다."
      ]
    },
    {
      "cell_type": "code",
      "execution_count": null,
      "id": "3ecea3e0-6599-4b32-9412-9d961025b333",
      "metadata": {
        "id": "3ecea3e0-6599-4b32-9412-9d961025b333"
      },
      "outputs": [],
      "source": [
        "a=np.array(range(4)).reshape(2,2)\n",
        "b=np.array(range(2)).reshape(2,1)"
      ]
    },
    {
      "cell_type": "code",
      "execution_count": null,
      "id": "1de31e29-c99d-4e59-91e3-407969ba3b23",
      "metadata": {
        "id": "1de31e29-c99d-4e59-91e3-407969ba3b23",
        "outputId": "0cf55280-863b-4241-c0d2-b31b0f33c750"
      },
      "outputs": [
        {
          "data": {
            "text/plain": [
              "array([[0, 1, 0],\n",
              "       [2, 3, 1]])"
            ]
          },
          "execution_count": 131,
          "metadata": {},
          "output_type": "execute_result"
        }
      ],
      "source": [
        "np.concatenate([a,b],axis=1)"
      ]
    },
    {
      "cell_type": "code",
      "execution_count": null,
      "id": "82c96966-caa0-4650-9393-6b73a8b08780",
      "metadata": {
        "id": "82c96966-caa0-4650-9393-6b73a8b08780",
        "outputId": "f3dc9098-dcde-44a1-a634-dcfe559773ee"
      },
      "outputs": [
        {
          "data": {
            "text/plain": [
              "((2, 2), (2, 1), (2, 3))"
            ]
          },
          "execution_count": 133,
          "metadata": {},
          "output_type": "execute_result"
        }
      ],
      "source": [
        "a.shape, b.shape, np.concatenate([a,b],axis=1).shape"
      ]
    },
    {
      "cell_type": "markdown",
      "id": "23fb3385-331d-466a-9470-28184d517112",
      "metadata": {
        "id": "23fb3385-331d-466a-9470-28184d517112"
      },
      "source": [
        "## np.stack"
      ]
    },
    {
      "cell_type": "markdown",
      "id": "70f87203-fb3d-4497-9bcd-43c936d37feb",
      "metadata": {
        "id": "70f87203-fb3d-4497-9bcd-43c936d37feb"
      },
      "source": [
        "`-` 혹시 아래가 가능할까?"
      ]
    },
    {
      "cell_type": "markdown",
      "id": "6b32b895-09e4-470a-b5fa-538e098e206c",
      "metadata": {
        "id": "6b32b895-09e4-470a-b5fa-538e098e206c"
      },
      "source": [
        "- (3,) 결합 (3,) => (3,2)"
      ]
    },
    {
      "cell_type": "code",
      "execution_count": null,
      "id": "1b55334c-43a5-4f21-8a8f-00c1928cd826",
      "metadata": {
        "id": "1b55334c-43a5-4f21-8a8f-00c1928cd826"
      },
      "outputs": [],
      "source": [
        "a=np.array([1,2,3])\n",
        "b=-a"
      ]
    },
    {
      "cell_type": "code",
      "execution_count": null,
      "id": "2b3e598b-ba83-481e-ac48-d3a78b3f8b66",
      "metadata": {
        "id": "2b3e598b-ba83-481e-ac48-d3a78b3f8b66",
        "outputId": "65f16909-635b-49e1-af76-dc4954ea76f5"
      },
      "outputs": [
        {
          "data": {
            "text/plain": [
              "(array([1, 2, 3]), array([-1, -2, -3]))"
            ]
          },
          "execution_count": 150,
          "metadata": {},
          "output_type": "execute_result"
        }
      ],
      "source": [
        "a,b"
      ]
    },
    {
      "cell_type": "code",
      "execution_count": null,
      "id": "738b106b-2d64-4f05-9eeb-26a6875d9bd8",
      "metadata": {
        "id": "738b106b-2d64-4f05-9eeb-26a6875d9bd8",
        "outputId": "e8b0396e-0970-4f77-f1d3-9cf407438f16"
      },
      "outputs": [
        {
          "ename": "AxisError",
          "evalue": "axis 1 is out of bounds for array of dimension 1",
          "output_type": "error",
          "traceback": [
            "\u001b[0;31m---------------------------------------------------------------------------\u001b[0m",
            "\u001b[0;31mAxisError\u001b[0m                                 Traceback (most recent call last)",
            "Input \u001b[0;32mIn [151]\u001b[0m, in \u001b[0;36m<cell line: 1>\u001b[0;34m()\u001b[0m\n\u001b[0;32m----> 1\u001b[0m \u001b[43mnp\u001b[49m\u001b[38;5;241;43m.\u001b[39;49m\u001b[43mconcatenate\u001b[49m\u001b[43m(\u001b[49m\u001b[43m[\u001b[49m\u001b[43ma\u001b[49m\u001b[43m,\u001b[49m\u001b[43mb\u001b[49m\u001b[43m]\u001b[49m\u001b[43m,\u001b[49m\u001b[43maxis\u001b[49m\u001b[38;5;241;43m=\u001b[39;49m\u001b[38;5;241;43m1\u001b[39;49m\u001b[43m)\u001b[49m\n",
            "File \u001b[0;32m<__array_function__ internals>:5\u001b[0m, in \u001b[0;36mconcatenate\u001b[0;34m(*args, **kwargs)\u001b[0m\n",
            "\u001b[0;31mAxisError\u001b[0m: axis 1 is out of bounds for array of dimension 1"
          ]
        }
      ],
      "source": [
        "np.concatenate([a,b],axis=1)"
      ]
    },
    {
      "cell_type": "markdown",
      "id": "dba4b07f-9193-4172-b552-43b6505241ea",
      "metadata": {
        "id": "dba4b07f-9193-4172-b552-43b6505241ea"
      },
      "source": [
        "- 불가능"
      ]
    },
    {
      "cell_type": "markdown",
      "id": "4862146a-9e31-4811-9502-17b4aa68b840",
      "metadata": {
        "id": "4862146a-9e31-4811-9502-17b4aa68b840"
      },
      "source": [
        "`-` 아래와 같이 하면 해결가능"
      ]
    },
    {
      "cell_type": "code",
      "execution_count": null,
      "id": "e803f77b-2970-4955-a87d-d5658f8ec364",
      "metadata": {
        "id": "e803f77b-2970-4955-a87d-d5658f8ec364"
      },
      "outputs": [],
      "source": [
        "a=np.array([1,2,3]).reshape(3,1)\n",
        "b=-a"
      ]
    },
    {
      "cell_type": "code",
      "execution_count": null,
      "id": "afeeb4e3-7660-4d40-ae9b-896f5314b61e",
      "metadata": {
        "id": "afeeb4e3-7660-4d40-ae9b-896f5314b61e",
        "outputId": "36d3125e-b40a-4c5c-9006-693f0bf4013e"
      },
      "outputs": [
        {
          "data": {
            "text/plain": [
              "(array([[1],\n",
              "        [2],\n",
              "        [3]]),\n",
              " array([[-1],\n",
              "        [-2],\n",
              "        [-3]]))"
            ]
          },
          "execution_count": 153,
          "metadata": {},
          "output_type": "execute_result"
        }
      ],
      "source": [
        "a,b"
      ]
    },
    {
      "cell_type": "code",
      "execution_count": null,
      "id": "e1dcb7ba-fc9c-4feb-8b75-068b3181eb2e",
      "metadata": {
        "id": "e1dcb7ba-fc9c-4feb-8b75-068b3181eb2e",
        "outputId": "dca34b4f-c9a1-41d7-ce09-4e8dc26c555e"
      },
      "outputs": [
        {
          "data": {
            "text/plain": [
              "array([[ 1, -1],\n",
              "       [ 2, -2],\n",
              "       [ 3, -3]])"
            ]
          },
          "execution_count": 154,
          "metadata": {},
          "output_type": "execute_result"
        }
      ],
      "source": [
        "np.concatenate([a,b],axis=1)"
      ]
    },
    {
      "cell_type": "markdown",
      "id": "99465b54-fdcd-431a-94b4-1aefd0041800",
      "metadata": {
        "id": "99465b54-fdcd-431a-94b4-1aefd0041800"
      },
      "source": [
        "- 분석: (3) (3) => (3,1) (3,1) => (3,1) concat (3,1)"
      ]
    },
    {
      "cell_type": "markdown",
      "id": "b3d6f6ec-bbdf-4f34-8914-d7bfe874156f",
      "metadata": {
        "id": "b3d6f6ec-bbdf-4f34-8914-d7bfe874156f"
      },
      "source": [
        "`-` 위의 과정을 줄여서 아래와 같이 할 수 있다."
      ]
    },
    {
      "cell_type": "code",
      "execution_count": null,
      "id": "989920f1-1829-4507-ad3a-d5410f5d0e72",
      "metadata": {
        "id": "989920f1-1829-4507-ad3a-d5410f5d0e72"
      },
      "outputs": [],
      "source": [
        "a=np.array([1,2,3])\n",
        "b=-a"
      ]
    },
    {
      "cell_type": "code",
      "execution_count": null,
      "id": "7cc35aeb-2ee4-4b5b-9328-e800f0d17fb9",
      "metadata": {
        "id": "7cc35aeb-2ee4-4b5b-9328-e800f0d17fb9",
        "outputId": "64d0c706-468e-4e15-891c-284832df2459"
      },
      "outputs": [
        {
          "data": {
            "text/plain": [
              "array([[ 1, -1],\n",
              "       [ 2, -2],\n",
              "       [ 3, -3]])"
            ]
          },
          "execution_count": 157,
          "metadata": {},
          "output_type": "execute_result"
        }
      ],
      "source": [
        "np.stack([a,b],axis=1)"
      ]
    },
    {
      "cell_type": "markdown",
      "id": "c87fceef-4668-4791-afb8-a659e64660ec",
      "metadata": {
        "id": "c87fceef-4668-4791-afb8-a659e64660ec"
      },
      "source": [
        "`-` 아래도 가능"
      ]
    },
    {
      "cell_type": "code",
      "execution_count": null,
      "id": "5d1a73cc-2a51-4094-98bc-c36e842e9d29",
      "metadata": {
        "id": "5d1a73cc-2a51-4094-98bc-c36e842e9d29",
        "outputId": "7296a381-3a9a-4d29-bd08-712cf789e401"
      },
      "outputs": [
        {
          "data": {
            "text/plain": [
              "array([[ 1,  2,  3],\n",
              "       [-1, -2, -3]])"
            ]
          },
          "execution_count": 158,
          "metadata": {},
          "output_type": "execute_result"
        }
      ],
      "source": [
        "np.stack([a,b],axis=0)"
      ]
    },
    {
      "cell_type": "markdown",
      "id": "a844de25-da88-457b-af60-d532d59becb5",
      "metadata": {
        "id": "a844de25-da88-457b-af60-d532d59becb5"
      },
      "source": [
        "`-` 분석해보고 외우자"
      ]
    },
    {
      "cell_type": "markdown",
      "id": "3c22449b-ca58-4fe7-8e1a-76e4c2af43ed",
      "metadata": {
        "id": "3c22449b-ca58-4fe7-8e1a-76e4c2af43ed"
      },
      "source": [
        "(분석1)"
      ]
    },
    {
      "cell_type": "code",
      "execution_count": null,
      "id": "34e06fb2-431c-43ba-b2d5-77dfab86b6e7",
      "metadata": {
        "id": "34e06fb2-431c-43ba-b2d5-77dfab86b6e7"
      },
      "outputs": [],
      "source": [
        "a=np.array([1,2,3])\n",
        "b=-a"
      ]
    },
    {
      "cell_type": "code",
      "execution_count": null,
      "id": "80821e3e-5bd9-4e09-8a83-972559116297",
      "metadata": {
        "id": "80821e3e-5bd9-4e09-8a83-972559116297",
        "outputId": "28a64f67-8215-4890-f36d-5f1776760a64"
      },
      "outputs": [
        {
          "data": {
            "text/plain": [
              "((3,), (3,), (2, 3))"
            ]
          },
          "execution_count": 162,
          "metadata": {},
          "output_type": "execute_result"
        }
      ],
      "source": [
        "a.shape, b.shape, np.stack([a,b],axis=0).shape"
      ]
    },
    {
      "cell_type": "markdown",
      "id": "5c98d932-668b-4952-9474-43a50b81315f",
      "metadata": {
        "id": "5c98d932-668b-4952-9474-43a50b81315f"
      },
      "source": [
        "- (3) (3) => 첫 위치에 축을 추가 (axis=0) => (1,3) (1,3) => (2,3)"
      ]
    },
    {
      "cell_type": "markdown",
      "id": "58397bcf-f4c7-4484-84b2-6ca4cebee5c3",
      "metadata": {
        "id": "58397bcf-f4c7-4484-84b2-6ca4cebee5c3"
      },
      "source": [
        "(분석2)"
      ]
    },
    {
      "cell_type": "code",
      "execution_count": null,
      "id": "7723dfa1-10dc-4df7-9eab-b25960cd0509",
      "metadata": {
        "id": "7723dfa1-10dc-4df7-9eab-b25960cd0509"
      },
      "outputs": [],
      "source": [
        "a=np.array([1,2,3])\n",
        "b=-a"
      ]
    },
    {
      "cell_type": "code",
      "execution_count": null,
      "id": "96ade04f-a96d-4a91-bd3d-5937703d8315",
      "metadata": {
        "id": "96ade04f-a96d-4a91-bd3d-5937703d8315",
        "outputId": "529342ca-49c9-40b3-e189-5edbca307a1b"
      },
      "outputs": [
        {
          "data": {
            "text/plain": [
              "((3,), (3,), (3, 2))"
            ]
          },
          "execution_count": 164,
          "metadata": {},
          "output_type": "execute_result"
        }
      ],
      "source": [
        "a.shape, b.shape, np.stack([a,b],axis=1).shape"
      ]
    },
    {
      "cell_type": "markdown",
      "id": "44905952-3fd1-436c-a595-a4cfb5ae1353",
      "metadata": {
        "id": "44905952-3fd1-436c-a595-a4cfb5ae1353"
      },
      "source": [
        "- (3) (3) => 두 위치에 축을 추가 (axis=1) => (3,1) (3,1) => (3,2)"
      ]
    },
    {
      "cell_type": "markdown",
      "id": "0b446203-ea93-43dc-8426-646f99c4d669",
      "metadata": {
        "id": "0b446203-ea93-43dc-8426-646f99c4d669"
      },
      "source": [
        "`-` 고차원예제"
      ]
    },
    {
      "cell_type": "code",
      "execution_count": null,
      "id": "c7c6731b-4b9a-4889-9867-1be7cc9e5af0",
      "metadata": {
        "id": "c7c6731b-4b9a-4889-9867-1be7cc9e5af0"
      },
      "outputs": [],
      "source": [
        "a=np.arange(3*4*5).reshape(3,4,5)\n",
        "b=-a"
      ]
    },
    {
      "cell_type": "code",
      "execution_count": null,
      "id": "159d59df-120f-47da-9fc1-7022bed0b91e",
      "metadata": {
        "id": "159d59df-120f-47da-9fc1-7022bed0b91e",
        "outputId": "f57499ad-35cb-4cc6-8d49-e099bcf1a3f7"
      },
      "outputs": [
        {
          "data": {
            "text/plain": [
              "((3, 4, 5), (3, 4, 5))"
            ]
          },
          "execution_count": 167,
          "metadata": {},
          "output_type": "execute_result"
        }
      ],
      "source": [
        "a.shape, b.shape"
      ]
    },
    {
      "cell_type": "code",
      "execution_count": null,
      "id": "f0c1e5af-56eb-4730-a32a-fa0ecfd18e0e",
      "metadata": {
        "id": "f0c1e5af-56eb-4730-a32a-fa0ecfd18e0e",
        "outputId": "8121981e-4380-4e5b-81bb-06de54426a78"
      },
      "outputs": [
        {
          "data": {
            "text/plain": [
              "(2, 3, 4, 5)"
            ]
          },
          "execution_count": 170,
          "metadata": {},
          "output_type": "execute_result"
        }
      ],
      "source": [
        "np.stack([a,b],axis=0).shape # (3,4,5) => (1,3,4,5) // 첫 위치에 축이 추가되고 스택"
      ]
    },
    {
      "cell_type": "code",
      "execution_count": null,
      "id": "33579e71-71ae-4a80-872a-4740767142b9",
      "metadata": {
        "id": "33579e71-71ae-4a80-872a-4740767142b9",
        "outputId": "b88bc138-be3c-42fc-f638-b5f383801f35"
      },
      "outputs": [
        {
          "data": {
            "text/plain": [
              "(3, 2, 4, 5)"
            ]
          },
          "execution_count": 174,
          "metadata": {},
          "output_type": "execute_result"
        }
      ],
      "source": [
        "np.stack([a,b],axis=1).shape # (3,4,5) => (3,1,4,5) // 두번째 위치에 축이 추가되고 스택"
      ]
    },
    {
      "cell_type": "code",
      "execution_count": null,
      "id": "837cb344-9432-4585-a343-c435c868bd8c",
      "metadata": {
        "id": "837cb344-9432-4585-a343-c435c868bd8c",
        "outputId": "64f02969-f8b9-4a4d-fe81-3bdda490be56"
      },
      "outputs": [
        {
          "data": {
            "text/plain": [
              "(3, 4, 2, 5)"
            ]
          },
          "execution_count": 175,
          "metadata": {},
          "output_type": "execute_result"
        }
      ],
      "source": [
        "np.stack([a,b],axis=2).shape # (3,4,5) => (3,4,1,5) // 세번째 위치에 축이 추가되고 스택"
      ]
    },
    {
      "cell_type": "code",
      "execution_count": null,
      "id": "dd3c5d3a-28c5-4b9f-ad75-6753d9dfce9e",
      "metadata": {
        "id": "dd3c5d3a-28c5-4b9f-ad75-6753d9dfce9e",
        "outputId": "e881914b-f3b5-4748-f494-abbf9322c19a"
      },
      "outputs": [
        {
          "data": {
            "text/plain": [
              "(3, 4, 5, 2)"
            ]
          },
          "execution_count": 179,
          "metadata": {},
          "output_type": "execute_result"
        }
      ],
      "source": [
        "np.stack([a,b],axis=3).shape # (3,4,5) => (3,4,5,1) // 네번째 위치에 축이 추가되고 스택"
      ]
    },
    {
      "cell_type": "code",
      "execution_count": null,
      "id": "338b3cc3-3be8-4895-be29-cc83194f0666",
      "metadata": {
        "id": "338b3cc3-3be8-4895-be29-cc83194f0666",
        "outputId": "9543aaab-92ca-45cd-a0a5-e7e7c4ec1b64"
      },
      "outputs": [
        {
          "data": {
            "text/plain": [
              "(3, 4, 5, 2)"
            ]
          },
          "execution_count": 181,
          "metadata": {},
          "output_type": "execute_result"
        }
      ],
      "source": [
        "np.stack([a,b],axis=-1).shape # axis=-1 <=> axis=3"
      ]
    },
    {
      "cell_type": "code",
      "execution_count": null,
      "id": "a2451178-1d8f-4cc3-b449-f71909163bca",
      "metadata": {
        "id": "a2451178-1d8f-4cc3-b449-f71909163bca",
        "outputId": "42b7729e-803d-44f4-9015-141e918f3cb2"
      },
      "outputs": [
        {
          "data": {
            "text/plain": [
              "(3, 4, 2, 5)"
            ]
          },
          "execution_count": 182,
          "metadata": {},
          "output_type": "execute_result"
        }
      ],
      "source": [
        "np.stack([a,b],axis=-2).shape # axis=-2 <=> axis=2"
      ]
    },
    {
      "cell_type": "markdown",
      "id": "653abf3e-5e92-4b35-8013-5e445c6ae775",
      "metadata": {
        "id": "653abf3e-5e92-4b35-8013-5e445c6ae775"
      },
      "source": [
        "***np.concatenate*** 는 축의 총 갯수를 유지하면서 결합, ***np.stack***은 축의 갯수를 하나 증가시키면서 결합"
      ]
    },
    {
      "cell_type": "markdown",
      "id": "a052182b-b314-4475-946c-9249f313ee3b",
      "metadata": {
        "id": "a052182b-b314-4475-946c-9249f313ee3b"
      },
      "source": [
        "## sum"
      ]
    },
    {
      "cell_type": "markdown",
      "id": "a2ba28bd-6483-4dfd-8be1-272a07993a6a",
      "metadata": {
        "id": "a2ba28bd-6483-4dfd-8be1-272a07993a6a"
      },
      "source": [
        "`-` 1차원"
      ]
    },
    {
      "cell_type": "code",
      "execution_count": null,
      "id": "83099798-4678-4fa7-882b-15fd9bf548fc",
      "metadata": {
        "id": "83099798-4678-4fa7-882b-15fd9bf548fc",
        "outputId": "e1bff172-eda8-4e32-9346-53a818a4e3f2"
      },
      "outputs": [
        {
          "data": {
            "text/plain": [
              "array([1, 2, 3])"
            ]
          },
          "execution_count": 212,
          "metadata": {},
          "output_type": "execute_result"
        }
      ],
      "source": [
        "a = np.array([1,2,3])\n",
        "a"
      ]
    },
    {
      "cell_type": "code",
      "execution_count": null,
      "id": "013cc74d-bff8-468c-814c-038db4c4e9a5",
      "metadata": {
        "id": "013cc74d-bff8-468c-814c-038db4c4e9a5",
        "outputId": "3ed3e3f9-ab18-4f2e-ba94-0e75de2fbd6d"
      },
      "outputs": [
        {
          "data": {
            "text/plain": [
              "6"
            ]
          },
          "execution_count": 213,
          "metadata": {},
          "output_type": "execute_result"
        }
      ],
      "source": [
        "a.sum()"
      ]
    },
    {
      "cell_type": "code",
      "execution_count": null,
      "id": "7e9c6443-4789-45f7-a3c0-e8e2a684a0b5",
      "metadata": {
        "id": "7e9c6443-4789-45f7-a3c0-e8e2a684a0b5",
        "outputId": "85fc04e8-1bc1-45dc-eb93-36315eb7b37f"
      },
      "outputs": [
        {
          "data": {
            "text/plain": [
              "6"
            ]
          },
          "execution_count": 214,
          "metadata": {},
          "output_type": "execute_result"
        }
      ],
      "source": [
        "a.sum(axis=0)"
      ]
    },
    {
      "cell_type": "markdown",
      "id": "ffb9534d-1b72-4287-8fc9-f8aabe34c352",
      "metadata": {
        "id": "ffb9534d-1b72-4287-8fc9-f8aabe34c352"
      },
      "source": [
        "`-` 2차원"
      ]
    },
    {
      "cell_type": "code",
      "execution_count": null,
      "id": "bc77d601-5384-41fd-ae3f-f7977eff0b8a",
      "metadata": {
        "id": "bc77d601-5384-41fd-ae3f-f7977eff0b8a",
        "outputId": "a9bb9e85-f7b2-48a7-c3b7-1dd9abce5f0a"
      },
      "outputs": [
        {
          "data": {
            "text/plain": [
              "array([[0, 1, 2],\n",
              "       [3, 4, 5]])"
            ]
          },
          "execution_count": 208,
          "metadata": {},
          "output_type": "execute_result"
        }
      ],
      "source": [
        "a=np.array(range(6)).reshape(2,3)\n",
        "a"
      ]
    },
    {
      "cell_type": "code",
      "execution_count": null,
      "id": "ff773f35-a3c9-4a2b-b634-c10677d766aa",
      "metadata": {
        "id": "ff773f35-a3c9-4a2b-b634-c10677d766aa",
        "outputId": "07ca36b4-b305-46d1-ed18-b618e8500d61"
      },
      "outputs": [
        {
          "data": {
            "text/plain": [
              "15"
            ]
          },
          "execution_count": 209,
          "metadata": {},
          "output_type": "execute_result"
        }
      ],
      "source": [
        "a.sum() # 전체합"
      ]
    },
    {
      "cell_type": "code",
      "execution_count": null,
      "id": "882a94a3-b201-4737-96d6-165fc5b40ef6",
      "metadata": {
        "id": "882a94a3-b201-4737-96d6-165fc5b40ef6",
        "outputId": "d763f040-0b95-4424-90db-bb8fe0a4f2f8"
      },
      "outputs": [
        {
          "data": {
            "text/plain": [
              "array([3, 5, 7])"
            ]
          },
          "execution_count": 210,
          "metadata": {},
          "output_type": "execute_result"
        }
      ],
      "source": [
        "a.sum(axis=0)"
      ]
    },
    {
      "cell_type": "code",
      "execution_count": null,
      "id": "4d12bc83-d5b4-4863-8564-1ea48416ca79",
      "metadata": {
        "id": "4d12bc83-d5b4-4863-8564-1ea48416ca79",
        "outputId": "db69479e-14df-4237-cb71-261fff3adda4"
      },
      "outputs": [
        {
          "data": {
            "text/plain": [
              "array([ 3, 12])"
            ]
          },
          "execution_count": 211,
          "metadata": {},
          "output_type": "execute_result"
        }
      ],
      "source": [
        "a.sum(axis=1)"
      ]
    },
    {
      "cell_type": "markdown",
      "id": "0a657604-3823-4463-8d73-5a77cacd1f1e",
      "metadata": {
        "id": "0a657604-3823-4463-8d73-5a77cacd1f1e"
      },
      "source": [
        "`-` 2차원 결과 분석"
      ]
    },
    {
      "cell_type": "code",
      "execution_count": null,
      "id": "00d0c4e8-1852-48ac-a1aa-995e5a6f0a60",
      "metadata": {
        "id": "00d0c4e8-1852-48ac-a1aa-995e5a6f0a60",
        "outputId": "8fccaa28-47a9-4f23-e388-0eb4217f6239"
      },
      "outputs": [
        {
          "data": {
            "text/plain": [
              "((2, 3), (3,))"
            ]
          },
          "execution_count": 193,
          "metadata": {},
          "output_type": "execute_result"
        }
      ],
      "source": [
        "a.shape, a.sum(axis=0).shape"
      ]
    },
    {
      "cell_type": "markdown",
      "id": "48d34b53-d102-4537-9121-93163662c839",
      "metadata": {
        "id": "48d34b53-d102-4537-9121-93163662c839"
      },
      "source": [
        "- 첫번째 축이 삭제됨 => axis=0"
      ]
    },
    {
      "cell_type": "code",
      "execution_count": null,
      "id": "d88b697e-610f-40a0-88e0-ee6dc78a2af6",
      "metadata": {
        "id": "d88b697e-610f-40a0-88e0-ee6dc78a2af6",
        "outputId": "3d576d2e-e585-4ad3-d045-45e5df534862"
      },
      "outputs": [
        {
          "data": {
            "text/plain": [
              "((2, 3), (2,))"
            ]
          },
          "execution_count": 195,
          "metadata": {},
          "output_type": "execute_result"
        }
      ],
      "source": [
        "a.shape, a.sum(axis=1).shape"
      ]
    },
    {
      "cell_type": "markdown",
      "id": "9dd9cd8c-e6b7-4c70-b10b-90720862ff81",
      "metadata": {
        "id": "9dd9cd8c-e6b7-4c70-b10b-90720862ff81"
      },
      "source": [
        "- 두번째 축이 삭제됨 => axis=1"
      ]
    },
    {
      "cell_type": "markdown",
      "id": "76fdfe3b-c102-4e62-9ddb-a5cde5b71d6d",
      "metadata": {
        "id": "76fdfe3b-c102-4e62-9ddb-a5cde5b71d6d"
      },
      "source": [
        "`-` 연습"
      ]
    },
    {
      "cell_type": "code",
      "execution_count": null,
      "id": "9557ef8a-a606-41f1-97b7-93f7e1c07ec2",
      "metadata": {
        "id": "9557ef8a-a606-41f1-97b7-93f7e1c07ec2",
        "outputId": "03055467-0699-4c38-e879-503bf03f2a71"
      },
      "outputs": [
        {
          "data": {
            "text/plain": [
              "array([[0, 1],\n",
              "       [2, 3],\n",
              "       [4, 5],\n",
              "       [6, 7],\n",
              "       [8, 9]])"
            ]
          },
          "execution_count": 197,
          "metadata": {},
          "output_type": "execute_result"
        }
      ],
      "source": [
        "a=np.array(range(10)).reshape(5,2)\n",
        "a"
      ]
    },
    {
      "cell_type": "markdown",
      "id": "27682ef3-5e9a-443d-abfc-fd5082a7afb2",
      "metadata": {
        "id": "27682ef3-5e9a-443d-abfc-fd5082a7afb2"
      },
      "source": [
        "(문제1) 1열의 합, 2열의 합을 계산하고 싶다면?"
      ]
    },
    {
      "cell_type": "markdown",
      "id": "bc74b888-486c-47f9-9e5b-89ed4c0de016",
      "metadata": {
        "id": "bc74b888-486c-47f9-9e5b-89ed4c0de016"
      },
      "source": [
        "(풀이) 차원이 (5,2) => (2,) 로 나와야 한다. (그럼 첫번째 축이 삭제되어야 하네?)"
      ]
    },
    {
      "cell_type": "code",
      "execution_count": null,
      "id": "c1104e8d-665d-4765-b1d3-9a882e4aaa34",
      "metadata": {
        "id": "c1104e8d-665d-4765-b1d3-9a882e4aaa34",
        "outputId": "7c656f7a-c4bd-41f1-9a31-f6702e75b526"
      },
      "outputs": [
        {
          "data": {
            "text/plain": [
              "array([20, 25])"
            ]
          },
          "execution_count": 198,
          "metadata": {},
          "output_type": "execute_result"
        }
      ],
      "source": [
        "a.sum(axis=0)"
      ]
    },
    {
      "cell_type": "markdown",
      "id": "3b7b8e5d-2103-4eb0-b348-7c9e1d056460",
      "metadata": {
        "id": "3b7b8e5d-2103-4eb0-b348-7c9e1d056460"
      },
      "source": [
        "(문제2) 1행의 합, 2행의 합, ... , 5행의 합을 계산하고 싶다면?"
      ]
    },
    {
      "cell_type": "markdown",
      "id": "9454809b-2a4c-4d20-9f23-c9dd450e5697",
      "metadata": {
        "id": "9454809b-2a4c-4d20-9f23-c9dd450e5697"
      },
      "source": [
        "(풀이) 차원이 (5,2) => (5,)로 나와야 한다. (그럼 두번째 축이 삭제되어야 하네?)"
      ]
    },
    {
      "cell_type": "code",
      "execution_count": null,
      "id": "ad5aa245-5892-49e0-8fc7-a97dd2b6fed0",
      "metadata": {
        "id": "ad5aa245-5892-49e0-8fc7-a97dd2b6fed0",
        "outputId": "a075d72a-32eb-40b1-9bf0-8484d3fa9d50"
      },
      "outputs": [
        {
          "data": {
            "text/plain": [
              "array([ 1,  5,  9, 13, 17])"
            ]
          },
          "execution_count": 199,
          "metadata": {},
          "output_type": "execute_result"
        }
      ],
      "source": [
        "a.sum(axis=1)"
      ]
    },
    {
      "cell_type": "markdown",
      "id": "f50c1b58-ee5a-4c4f-b81c-72c7d5bf66ea",
      "metadata": {
        "id": "f50c1b58-ee5a-4c4f-b81c-72c7d5bf66ea"
      },
      "source": [
        "(문제3) a의 모든원소의 합을 계산하고 싶다면?"
      ]
    },
    {
      "cell_type": "markdown",
      "id": "8a560156-07ab-4526-af34-795ecad6f03d",
      "metadata": {
        "id": "8a560156-07ab-4526-af34-795ecad6f03d"
      },
      "source": [
        "(풀이) 차원이 (5,2) => () 로 나와야 한다. (첫번째축, 두번째축이 모두 삭제되어야 하네?)"
      ]
    },
    {
      "cell_type": "code",
      "execution_count": null,
      "id": "fa77efad-75f3-45dc-88fb-8649abce8520",
      "metadata": {
        "id": "fa77efad-75f3-45dc-88fb-8649abce8520",
        "outputId": "be4fbaf7-e34d-4020-aecf-4dae6eef4d02"
      },
      "outputs": [
        {
          "data": {
            "text/plain": [
              "45"
            ]
          },
          "execution_count": 201,
          "metadata": {},
          "output_type": "execute_result"
        }
      ],
      "source": [
        "a.sum(axis=(0,1))"
      ]
    },
    {
      "cell_type": "code",
      "execution_count": null,
      "id": "be5f8f2c-09b6-45ec-ae2f-c15bc3549b96",
      "metadata": {
        "id": "be5f8f2c-09b6-45ec-ae2f-c15bc3549b96",
        "outputId": "52944d67-1241-421c-dcfd-57a1bf2a6878"
      },
      "outputs": [
        {
          "data": {
            "text/plain": [
              "45"
            ]
          },
          "execution_count": 203,
          "metadata": {},
          "output_type": "execute_result"
        }
      ],
      "source": [
        "a.sum() # 즉 a.sum(axis=(0,1))이 디폴트값임"
      ]
    },
    {
      "cell_type": "markdown",
      "id": "e19c3cce-e706-4cbe-be98-0aca47e1f10c",
      "metadata": {
        "id": "e19c3cce-e706-4cbe-be98-0aca47e1f10c"
      },
      "source": [
        "## mean, max, min"
      ]
    },
    {
      "cell_type": "markdown",
      "id": "5d25b1da-e29a-4ee0-a834-019e81e398a4",
      "metadata": {
        "id": "5d25b1da-e29a-4ee0-a834-019e81e398a4"
      },
      "source": [
        "`-` 모두 sum이랑 유사한 논리"
      ]
    },
    {
      "cell_type": "code",
      "execution_count": null,
      "id": "e4ae2cb5-85ff-4bf4-9c51-61b0ace3a8b1",
      "metadata": {
        "id": "e4ae2cb5-85ff-4bf4-9c51-61b0ace3a8b1",
        "outputId": "59702de5-d864-4aff-a557-e2f240fc6b3d"
      },
      "outputs": [
        {
          "data": {
            "text/plain": [
              "array([[0, 1],\n",
              "       [2, 3],\n",
              "       [4, 5],\n",
              "       [6, 7],\n",
              "       [8, 9]])"
            ]
          },
          "execution_count": 218,
          "metadata": {},
          "output_type": "execute_result"
        }
      ],
      "source": [
        "a=np.array(range(10)).reshape(5,2)\n",
        "a"
      ]
    },
    {
      "cell_type": "code",
      "execution_count": null,
      "id": "9bfce9a6-83b8-48c9-b941-8fe20dc04f93",
      "metadata": {
        "id": "9bfce9a6-83b8-48c9-b941-8fe20dc04f93",
        "outputId": "53937631-6def-44af-fd79-4279cc12daba"
      },
      "outputs": [
        {
          "data": {
            "text/plain": [
              "(array([4., 5.]),\n",
              " array([2.82842712, 2.82842712]),\n",
              " array([8, 9]),\n",
              " array([0, 1]),\n",
              " array([  0, 945]))"
            ]
          },
          "execution_count": 225,
          "metadata": {},
          "output_type": "execute_result"
        }
      ],
      "source": [
        "a.mean(axis=0), a.std(axis=0), a.max(axis=0), a.min(axis=0), a.prod(axis=0)"
      ]
    },
    {
      "cell_type": "code",
      "execution_count": null,
      "id": "87ca0c91-e3bb-4dc2-a958-8a5c8a4ebda3",
      "metadata": {
        "id": "87ca0c91-e3bb-4dc2-a958-8a5c8a4ebda3",
        "outputId": "b6a00c6e-5704-46c5-d76c-daf16e107cb2"
      },
      "outputs": [
        {
          "data": {
            "text/plain": [
              "(array([0.5, 2.5, 4.5, 6.5, 8.5]),\n",
              " array([0.5, 0.5, 0.5, 0.5, 0.5]),\n",
              " array([1, 3, 5, 7, 9]),\n",
              " array([0, 2, 4, 6, 8]),\n",
              " array([ 0,  6, 20, 42, 72]))"
            ]
          },
          "execution_count": 227,
          "metadata": {},
          "output_type": "execute_result"
        }
      ],
      "source": [
        "a.mean(axis=1), a.std(axis=1), a.max(axis=1), a.min(axis=1), a.prod(axis=1)"
      ]
    },
    {
      "cell_type": "markdown",
      "id": "1a9d86a7-e4c0-4ada-951a-965e9ed58293",
      "metadata": {
        "id": "1a9d86a7-e4c0-4ada-951a-965e9ed58293"
      },
      "source": [
        "# Quiz"
      ]
    },
    {
      "cell_type": "markdown",
      "id": "31809780",
      "metadata": {
        "id": "31809780"
      },
      "source": [
        "`1` -- `6`. a,b가 아래와 같이 주어졌다고 하자."
      ]
    },
    {
      "cell_type": "code",
      "execution_count": 3,
      "id": "46b9ca1f",
      "metadata": {
        "id": "46b9ca1f"
      },
      "outputs": [],
      "source": [
        "a=np.array([1]*10)\n",
        "b=np.array([2]*10)"
      ]
    },
    {
      "cell_type": "markdown",
      "id": "05943e7a",
      "metadata": {
        "id": "05943e7a"
      },
      "source": [
        "`1`. a,b와 np.concatenate를 이용하여 아래와 같은 배열을 만들어라.\n",
        "\n",
        "```\n",
        "array([1, 1, 1, 1, 1, 1, 1, 1, 1, 1, 2, 2, 2, 2, 2, 2, 2, 2, 2, 2])\n",
        "```"
      ]
    },
    {
      "cell_type": "code",
      "source": [
        "np.concatenate([a, b])"
      ],
      "metadata": {
        "colab": {
          "base_uri": "https://localhost:8080/"
        },
        "id": "yqPID--JDCXL",
        "outputId": "f6cba5fc-1ef5-4ce8-bb4c-c52eef1f1cba"
      },
      "id": "yqPID--JDCXL",
      "execution_count": 7,
      "outputs": [
        {
          "output_type": "execute_result",
          "data": {
            "text/plain": [
              "array([1, 1, 1, 1, 1, 1, 1, 1, 1, 1, 2, 2, 2, 2, 2, 2, 2, 2, 2, 2])"
            ]
          },
          "metadata": {},
          "execution_count": 7
        }
      ]
    },
    {
      "cell_type": "markdown",
      "id": "97e2392b",
      "metadata": {
        "id": "97e2392b"
      },
      "source": [
        "`2`. a,b와 np.concatenate를 이용하여 아래와 같은 배열을 만들어라."
      ]
    },
    {
      "cell_type": "code",
      "execution_count": 8,
      "id": "bc7f8c1a",
      "metadata": {
        "id": "bc7f8c1a"
      },
      "outputs": [],
      "source": [
        "a=np.array([1]*10)\n",
        "b=np.array([2]*10)"
      ]
    },
    {
      "cell_type": "markdown",
      "id": "423d0c22",
      "metadata": {
        "id": "423d0c22"
      },
      "source": [
        "```\n",
        "array([[1],\n",
        "       [1],\n",
        "       [1],\n",
        "       [1],\n",
        "       [1],\n",
        "       [1],\n",
        "       [1],\n",
        "       [1],\n",
        "       [1],\n",
        "       [1],\n",
        "       [2],\n",
        "       [2],\n",
        "       [2],\n",
        "       [2],\n",
        "       [2],\n",
        "       [2],\n",
        "       [2],\n",
        "       [2],\n",
        "       [2],\n",
        "       [2]])\n",
        "```"
      ]
    },
    {
      "cell_type": "code",
      "source": [
        "np.concatenate([a.reshape(10, 1), b.reshape(10, 1)], axis = 0)"
      ],
      "metadata": {
        "colab": {
          "base_uri": "https://localhost:8080/"
        },
        "id": "5X-z-w5rDSZw",
        "outputId": "ed1a2bd6-8427-4cc4-bbed-a81093a66e3e"
      },
      "id": "5X-z-w5rDSZw",
      "execution_count": 20,
      "outputs": [
        {
          "output_type": "execute_result",
          "data": {
            "text/plain": [
              "array([[1],\n",
              "       [1],\n",
              "       [1],\n",
              "       [1],\n",
              "       [1],\n",
              "       [1],\n",
              "       [1],\n",
              "       [1],\n",
              "       [1],\n",
              "       [1],\n",
              "       [2],\n",
              "       [2],\n",
              "       [2],\n",
              "       [2],\n",
              "       [2],\n",
              "       [2],\n",
              "       [2],\n",
              "       [2],\n",
              "       [2],\n",
              "       [2]])"
            ]
          },
          "metadata": {},
          "execution_count": 20
        }
      ]
    },
    {
      "cell_type": "markdown",
      "id": "4a889fb9",
      "metadata": {
        "id": "4a889fb9"
      },
      "source": [
        "`3`. a,b와 np.concatenate를 이용하여 아래와 같은 배열을 만들어라.\n",
        "\n",
        "```\n",
        "array([[1, 1, 1, 1, 1, 1, 1, 1, 1, 1],\n",
        "       [2, 2, 2, 2, 2, 2, 2, 2, 2, 2]]\n",
        "```"
      ]
    },
    {
      "cell_type": "code",
      "source": [
        "np.concatenate([a.reshape(1, 10), b.reshape(1, 10)])"
      ],
      "metadata": {
        "colab": {
          "base_uri": "https://localhost:8080/"
        },
        "id": "_CGvBBmbEGsm",
        "outputId": "00b5c074-d3ce-46aa-c441-67ea7f94a2f2"
      },
      "id": "_CGvBBmbEGsm",
      "execution_count": 27,
      "outputs": [
        {
          "output_type": "execute_result",
          "data": {
            "text/plain": [
              "(10,)"
            ]
          },
          "metadata": {},
          "execution_count": 27
        }
      ]
    },
    {
      "cell_type": "markdown",
      "id": "026708f7",
      "metadata": {
        "id": "026708f7"
      },
      "source": [
        "`4`. a,b와 np.concatenate를 이용하여 아래와 같은 배열을 만들어라.\n",
        "```\n",
        "array([[1, 2],\n",
        "       [1, 2],\n",
        "       [1, 2],\n",
        "       [1, 2],\n",
        "       [1, 2],\n",
        "       [1, 2],\n",
        "       [1, 2],\n",
        "       [1, 2],\n",
        "       [1, 2],\n",
        "       [1, 2]])\n",
        "```"
      ]
    },
    {
      "cell_type": "code",
      "source": [
        "np.concatenate([a.reshape(10, 1), b.reshape(10, 1)], axis = 1)"
      ],
      "metadata": {
        "colab": {
          "base_uri": "https://localhost:8080/"
        },
        "id": "EDGnOAOzEKzS",
        "outputId": "7d3e2491-4952-47c4-f295-5e59da3ae231"
      },
      "id": "EDGnOAOzEKzS",
      "execution_count": 32,
      "outputs": [
        {
          "output_type": "execute_result",
          "data": {
            "text/plain": [
              "array([[1, 2],\n",
              "       [1, 2],\n",
              "       [1, 2],\n",
              "       [1, 2],\n",
              "       [1, 2],\n",
              "       [1, 2],\n",
              "       [1, 2],\n",
              "       [1, 2],\n",
              "       [1, 2],\n",
              "       [1, 2]])"
            ]
          },
          "metadata": {},
          "execution_count": 32
        }
      ]
    },
    {
      "cell_type": "markdown",
      "id": "81b12de8",
      "metadata": {
        "id": "81b12de8"
      },
      "source": [
        "`5`. a,b와 np.stack을 이용하여 아래와 같은 배열을 만들어라.\n",
        "\n",
        "```\n",
        "array([[1, 1, 1, 1, 1, 1, 1, 1, 1, 1],\n",
        "       [2, 2, 2, 2, 2, 2, 2, 2, 2, 2]]\n",
        "```"
      ]
    },
    {
      "cell_type": "code",
      "source": [
        "np.stack([a, b])"
      ],
      "metadata": {
        "id": "gRTdR91eERIs"
      },
      "id": "gRTdR91eERIs",
      "execution_count": null,
      "outputs": []
    },
    {
      "cell_type": "markdown",
      "id": "f028e3bc",
      "metadata": {
        "id": "f028e3bc"
      },
      "source": [
        "`6`. a,b와 np.stack을 이용하여 아래와 같은 배열을 만들어라.\n",
        "```\n",
        "array([[1, 2],\n",
        "       [1, 2],\n",
        "       [1, 2],\n",
        "       [1, 2],\n",
        "       [1, 2],\n",
        "       [1, 2],\n",
        "       [1, 2],\n",
        "       [1, 2],\n",
        "       [1, 2],\n",
        "       [1, 2]])\n",
        "```"
      ]
    },
    {
      "cell_type": "code",
      "source": [
        "np.stack([a, b], axis = 1)"
      ],
      "metadata": {
        "colab": {
          "base_uri": "https://localhost:8080/"
        },
        "id": "jvhEJVELEukB",
        "outputId": "3d46a5bf-5e5f-4f0e-9848-8d4847459fa0"
      },
      "id": "jvhEJVELEukB",
      "execution_count": 28,
      "outputs": [
        {
          "output_type": "execute_result",
          "data": {
            "text/plain": [
              "array([[1, 2],\n",
              "       [1, 2],\n",
              "       [1, 2],\n",
              "       [1, 2],\n",
              "       [1, 2],\n",
              "       [1, 2],\n",
              "       [1, 2],\n",
              "       [1, 2],\n",
              "       [1, 2],\n",
              "       [1, 2]])"
            ]
          },
          "metadata": {},
          "execution_count": 28
        }
      ]
    },
    {
      "cell_type": "markdown",
      "id": "3dfcab00",
      "metadata": {
        "id": "3dfcab00"
      },
      "source": [
        "**`7`--`8`**"
      ]
    },
    {
      "cell_type": "markdown",
      "id": "5bcc1457",
      "metadata": {
        "id": "5bcc1457"
      },
      "source": [
        "아래와 같은 매트릭스를 생성하라."
      ]
    },
    {
      "cell_type": "code",
      "execution_count": 40,
      "id": "732d1860",
      "metadata": {
        "id": "732d1860",
        "outputId": "0bcbf5a6-acaa-43f8-bf78-e4fe8960ff99",
        "colab": {
          "base_uri": "https://localhost:8080/"
        }
      },
      "outputs": [
        {
          "output_type": "execute_result",
          "data": {
            "text/plain": [
              "array([[ 0.38342049,  1.0841745 ,  1.14277825, ..., -0.18506968,\n",
              "         1.05538764,  1.18701443],\n",
              "       [-0.25027283, -1.58045215,  0.1124153 , ...,  1.0321894 ,\n",
              "         0.40438012, -0.13491595],\n",
              "       [-0.76763724, -0.64294232, -0.24782396, ..., -0.01530161,\n",
              "         0.89125897, -0.82683395],\n",
              "       ...,\n",
              "       [-1.41379028,  0.79611333, -0.71011837, ..., -0.9860352 ,\n",
              "         1.30755244,  2.18677233],\n",
              "       [ 1.33968105, -0.78457449, -0.10405858, ..., -0.71110186,\n",
              "         0.99841286,  2.34371635],\n",
              "       [-0.66422032, -0.07550233,  0.7405869 , ...,  1.03232398,\n",
              "        -0.18988252, -0.03578389]])"
            ]
          },
          "metadata": {},
          "execution_count": 40
        }
      ],
      "source": [
        "np.random.seed(43052)\n",
        "a=np.random.randn(10000).reshape(100,100)\n",
        "a"
      ]
    },
    {
      "cell_type": "markdown",
      "id": "c836f4e2",
      "metadata": {
        "id": "c836f4e2"
      },
      "source": [
        "`7`. 각 행의 합을 구하라. 즉 1행의 합, 2행의 합, ... 100행의 합을 계산하라.\n",
        "\n",
        "- 1행의합 =  0.38342049 + 1.0841745 + ... + 1.18701443"
      ]
    },
    {
      "cell_type": "code",
      "source": [
        "[[str(i+1)+'행', val.sum()] for i, val in enumerate(a) ]\n",
        "a.sum(axis = 1)"
      ],
      "metadata": {
        "colab": {
          "base_uri": "https://localhost:8080/"
        },
        "id": "OuQQdhTuFCh6",
        "outputId": "dbebfae8-1616-4745-f45c-813101229358"
      },
      "id": "OuQQdhTuFCh6",
      "execution_count": 42,
      "outputs": [
        {
          "output_type": "execute_result",
          "data": {
            "text/plain": [
              "array([-8.13607922e+00,  9.87120533e+00, -1.41434956e+01, -2.21705363e+00,\n",
              "       -1.45535236e+01, -9.15821678e+00, -2.59866360e+00, -1.54562385e+01,\n",
              "       -1.42005088e+00, -3.51523111e+00,  9.70487578e+00, -1.26229105e+01,\n",
              "        1.66837113e+00,  2.43015457e+00,  2.72990184e+00, -7.99486429e+00,\n",
              "       -8.38305954e-01, -8.45002020e+00, -1.03610098e+00,  2.07251861e+01,\n",
              "        1.11461478e+01,  7.62144075e+00, -7.93734585e+00,  1.82844319e+01,\n",
              "       -2.63562392e+00, -8.97916930e+00, -1.88986183e+00, -9.32477049e+00,\n",
              "       -6.69074565e+00, -1.42463143e+01,  6.45540510e-01,  1.80911488e+00,\n",
              "        2.40997157e+00,  1.63367254e+01,  7.63990677e+00,  8.13524813e+00,\n",
              "        3.97159000e+00, -1.10542949e+00,  4.37564512e-01,  2.87299971e+00,\n",
              "       -4.01016768e+00,  5.71115215e+00, -4.64132698e+00, -9.13987753e+00,\n",
              "       -6.78326000e+00,  3.36308150e+00, -5.13704342e+00, -5.09782466e+00,\n",
              "        6.54192465e-03,  7.19722660e+00, -4.64674820e+00, -9.24124039e+00,\n",
              "        6.73530841e+00,  1.12168921e+00,  1.61615988e+00,  1.37602200e+01,\n",
              "        6.67289840e-01, -2.09578108e+00, -2.81826564e-01, -8.52416541e+00,\n",
              "       -7.21970047e+00,  2.27146777e+01, -1.40341974e+01,  1.69263136e+01,\n",
              "       -1.80568372e+01,  6.52142336e+00, -1.73092812e+01, -1.34999285e+01,\n",
              "       -7.85539317e+00, -4.74940393e-01, -2.75765037e+01,  8.74991555e+00,\n",
              "       -9.77324158e+00,  1.42854121e+01, -1.10130356e+00, -1.39206483e-01,\n",
              "       -1.54638921e+01,  1.36814794e+00,  8.41394160e+00, -2.42153833e+00,\n",
              "       -2.57155344e+01, -6.72423820e+00, -9.49366257e-01,  3.79493472e+00,\n",
              "       -6.23508582e+00,  7.75657189e+00,  9.69403620e+00,  1.46847519e+01,\n",
              "        7.36500792e+00, -2.54755192e+01,  1.22792449e+01, -1.02497847e+01,\n",
              "        1.30452028e+01,  3.92943038e+00, -3.27227585e+00, -1.06633071e+01,\n",
              "       -1.56942302e+01,  8.01451222e+00,  2.81546938e+00,  5.56774384e+00])"
            ]
          },
          "metadata": {},
          "execution_count": 42
        }
      ]
    },
    {
      "cell_type": "markdown",
      "id": "53941d3c",
      "metadata": {
        "id": "53941d3c"
      },
      "source": [
        "`8`. 각 열의 평균을 구하라. 즉 1열의 평균, 2열의 평균, ... , 100열의 평균을 계산하라."
      ]
    },
    {
      "cell_type": "code",
      "source": [
        "a.mean(axis =0)"
      ],
      "metadata": {
        "colab": {
          "base_uri": "https://localhost:8080/"
        },
        "id": "RMKOr3LWF4T5",
        "outputId": "d51785ce-8319-4b6a-a109-2938aeea3936"
      },
      "id": "RMKOr3LWF4T5",
      "execution_count": 46,
      "outputs": [
        {
          "output_type": "execute_result",
          "data": {
            "text/plain": [
              "array([ 5.05543481e-03, -8.11250975e-03, -7.27142023e-03,  9.64876493e-02,\n",
              "        5.64186324e-02, -2.22728206e-02,  1.32808256e-04, -9.60905067e-02,\n",
              "        9.42144096e-02, -1.21946518e-01, -2.21878576e-02, -3.77018716e-02,\n",
              "        2.35739166e-03, -1.13202128e-01, -9.00374437e-02, -3.09372275e-02,\n",
              "       -2.18029121e-02,  7.04210003e-02, -4.12563112e-02,  2.58233488e-02,\n",
              "        1.16578817e-01, -1.59430241e-01, -1.53668953e-02,  9.21879710e-02,\n",
              "       -1.11346500e-01, -1.20131585e-01,  5.94139652e-02, -3.27022797e-02,\n",
              "       -1.46466366e-02, -1.78386785e-02, -1.06650333e-01, -9.04542721e-02,\n",
              "       -8.52586244e-02,  5.52166280e-02,  1.94115122e-01,  4.64389603e-02,\n",
              "        5.13636914e-02,  1.11424801e-01, -4.18629084e-02,  9.23822150e-02,\n",
              "       -2.00433998e-02, -5.73784795e-02, -8.79928414e-02, -3.01766235e-02,\n",
              "        6.47256326e-02,  3.14419234e-02, -1.16146865e-01, -1.04800787e-01,\n",
              "        3.17924308e-02,  5.51687322e-02,  1.04913214e-01, -2.79741703e-03,\n",
              "        2.56767141e-01, -1.35620430e-01, -9.59492302e-02,  1.23241275e-01,\n",
              "       -5.26436946e-03, -3.14823093e-02, -4.00286104e-02, -1.48618576e-01,\n",
              "        4.85988487e-02, -1.37972086e-01, -1.04715966e-01, -7.13893940e-02,\n",
              "        4.35483376e-02, -2.10610822e-01, -1.03231108e-01, -1.62132451e-01,\n",
              "        2.85187037e-01, -8.25697744e-02,  4.33723229e-02,  1.32763889e-02,\n",
              "       -1.61919484e-01, -5.07924036e-02,  6.62243327e-02, -9.72863991e-02,\n",
              "        2.71962223e-01, -5.97710822e-02,  1.54580795e-01, -5.46739064e-02,\n",
              "       -1.08611574e-01, -1.56520706e-01, -1.40476317e-01,  1.06067589e-01,\n",
              "       -3.46141736e-02, -6.07673046e-02,  5.33471760e-03,  8.10276105e-02,\n",
              "       -1.31994569e-01, -1.00936968e-02,  6.13944222e-02, -9.72765699e-02,\n",
              "        1.61342793e-01,  1.02634369e-01, -5.03038014e-02, -7.50604837e-02,\n",
              "        2.63992605e-02,  6.98470602e-02, -1.89567885e-01,  7.91910813e-02])"
            ]
          },
          "metadata": {},
          "execution_count": 46
        }
      ]
    },
    {
      "cell_type": "code",
      "source": [],
      "metadata": {
        "id": "_gNqS0qMF6AX"
      },
      "id": "_gNqS0qMF6AX",
      "execution_count": null,
      "outputs": []
    }
  ],
  "metadata": {
    "kernelspec": {
      "display_name": "Python 3 (ipykernel)",
      "language": "python",
      "name": "python3"
    },
    "language_info": {
      "codemirror_mode": {
        "name": "ipython",
        "version": 3
      },
      "file_extension": ".py",
      "mimetype": "text/x-python",
      "name": "python",
      "nbconvert_exporter": "python",
      "pygments_lexer": "ipython3",
      "version": "3.10.12"
    },
    "colab": {
      "provenance": [],
      "include_colab_link": true
    }
  },
  "nbformat": 4,
  "nbformat_minor": 5
}