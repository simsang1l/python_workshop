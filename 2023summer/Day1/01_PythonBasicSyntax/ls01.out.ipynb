{
  "cells": [
    {
      "cell_type": "markdown",
      "metadata": {
        "id": "7b2ab08b-2321-447b-9a8d-d961de503efd"
      },
      "source": [
        "# Lesson 01: 파이썬의 자료형 I (int, float, bool, str)\n",
        "\n",
        "최규빈  \n",
        "2023-06-24\n",
        "\n",
        "<a href=\"https://colab.research.google.com/github/guebin/PP2023SUM/blob/main/posts/Day1/01_PythonBasicSyntax/ls01.ipynb\"><img src=\"https://colab.research.google.com/assets/colab-badge.svg\" style=\"text-align: left\"></a>\n",
        "\n",
        "# Intro\n",
        "\n",
        "`-` 파이썬의 기본자료형은 int, float, bool, str, list, tuple, dict, set\n",
        "등이 있다.\n",
        "\n",
        "-   0차원 자료형: int, float, bool\n",
        "-   1차원 자료형: str, list, tuple, dict, set\n",
        "\n",
        "# int, float, bool\n",
        "\n",
        "`-` int형"
      ],
      "id": "7b2ab08b-2321-447b-9a8d-d961de503efd"
    },
    {
      "cell_type": "code",
      "execution_count": null,
      "metadata": {
        "vscode": {
          "languageId": "python"
        },
        "id": "1b29ab3b-e2e5-4798-95ce-641e3770a020"
      },
      "outputs": [],
      "source": [
        "a=100"
      ],
      "id": "1b29ab3b-e2e5-4798-95ce-641e3770a020"
    },
    {
      "cell_type": "code",
      "execution_count": null,
      "metadata": {
        "vscode": {
          "languageId": "python"
        },
        "id": "1e52610d-ea3a-4dab-8b69-d04705d759ba"
      },
      "outputs": [],
      "source": [
        "type(a)"
      ],
      "id": "1e52610d-ea3a-4dab-8b69-d04705d759ba"
    },
    {
      "cell_type": "markdown",
      "metadata": {
        "id": "6c00daf7-4f20-4dad-b39f-3946235ce69d"
      },
      "source": [
        "`-` float형"
      ],
      "id": "6c00daf7-4f20-4dad-b39f-3946235ce69d"
    },
    {
      "cell_type": "code",
      "execution_count": null,
      "metadata": {
        "vscode": {
          "languageId": "python"
        },
        "id": "bcfcd346-1943-4b3d-a5be-3e77657aa3f1"
      },
      "outputs": [],
      "source": [
        "a=1.2*3\n",
        "a"
      ],
      "id": "bcfcd346-1943-4b3d-a5be-3e77657aa3f1"
    },
    {
      "cell_type": "code",
      "execution_count": null,
      "metadata": {
        "vscode": {
          "languageId": "python"
        },
        "id": "6c60ce75-b0d1-490e-9c11-6fe2dae2d738"
      },
      "outputs": [],
      "source": [
        "type(a)"
      ],
      "id": "6c60ce75-b0d1-490e-9c11-6fe2dae2d738"
    },
    {
      "cell_type": "code",
      "execution_count": null,
      "metadata": {
        "vscode": {
          "languageId": "python"
        },
        "id": "6e44e4e8-9241-466d-90f5-ce0e648352b6"
      },
      "outputs": [],
      "source": [
        "a?"
      ],
      "id": "6e44e4e8-9241-466d-90f5-ce0e648352b6"
    },
    {
      "cell_type": "markdown",
      "metadata": {
        "id": "8a477520-382a-4e32-ae90-881776ae15cb"
      },
      "source": [
        "`-` bool형"
      ],
      "id": "8a477520-382a-4e32-ae90-881776ae15cb"
    },
    {
      "cell_type": "code",
      "execution_count": null,
      "metadata": {
        "vscode": {
          "languageId": "python"
        },
        "id": "c4e1bd78-23d3-4404-8356-ec6c6bcc0c13"
      },
      "outputs": [],
      "source": [
        "a=True ## 숫자1으로 생각할 수 있음\n",
        "b=False ## 숫자0으로 생각할 수 있음"
      ],
      "id": "c4e1bd78-23d3-4404-8356-ec6c6bcc0c13"
    },
    {
      "cell_type": "code",
      "execution_count": null,
      "metadata": {
        "vscode": {
          "languageId": "python"
        },
        "id": "1ad75565-03c3-4ac4-844f-6a312de68f66"
      },
      "outputs": [],
      "source": [
        "type(a)"
      ],
      "id": "1ad75565-03c3-4ac4-844f-6a312de68f66"
    },
    {
      "cell_type": "code",
      "execution_count": null,
      "metadata": {
        "vscode": {
          "languageId": "python"
        },
        "id": "0f530cc8-0d85-4d56-8902-8dadc37bed9d"
      },
      "outputs": [],
      "source": [
        "type(b)"
      ],
      "id": "0f530cc8-0d85-4d56-8902-8dadc37bed9d"
    },
    {
      "cell_type": "code",
      "execution_count": null,
      "metadata": {
        "vscode": {
          "languageId": "python"
        },
        "id": "aa5e54d7-7c8c-4398-9efb-260adc33af46"
      },
      "outputs": [],
      "source": [
        "a?"
      ],
      "id": "aa5e54d7-7c8c-4398-9efb-260adc33af46"
    },
    {
      "cell_type": "code",
      "execution_count": null,
      "metadata": {
        "vscode": {
          "languageId": "python"
        },
        "id": "80f65837-5acb-46f2-acaf-3f46e2fcda73"
      },
      "outputs": [],
      "source": [
        "b?"
      ],
      "id": "80f65837-5acb-46f2-acaf-3f46e2fcda73"
    },
    {
      "cell_type": "markdown",
      "metadata": {
        "id": "fa68063a-6344-47dd-b525-dfd72485d692"
      },
      "source": [
        "`-` bool형의 연산"
      ],
      "id": "fa68063a-6344-47dd-b525-dfd72485d692"
    },
    {
      "cell_type": "code",
      "execution_count": null,
      "metadata": {
        "vscode": {
          "languageId": "python"
        },
        "id": "09d23a5e-0ae5-46fe-b9e3-35ca4d2921eb"
      },
      "outputs": [],
      "source": [
        "a=True ## 1\n",
        "b=False ## 0"
      ],
      "id": "09d23a5e-0ae5-46fe-b9e3-35ca4d2921eb"
    },
    {
      "cell_type": "code",
      "execution_count": null,
      "metadata": {
        "vscode": {
          "languageId": "python"
        },
        "id": "003980a9-ba53-48cd-a85f-759b7e5797d4"
      },
      "outputs": [],
      "source": [
        "a+b"
      ],
      "id": "003980a9-ba53-48cd-a85f-759b7e5797d4"
    },
    {
      "cell_type": "code",
      "execution_count": null,
      "metadata": {
        "vscode": {
          "languageId": "python"
        },
        "id": "60c4bb4e-45b8-4b98-8de2-c2e3883741e7"
      },
      "outputs": [],
      "source": [
        "a*b"
      ],
      "id": "60c4bb4e-45b8-4b98-8de2-c2e3883741e7"
    },
    {
      "cell_type": "markdown",
      "metadata": {
        "id": "8b5508fc-c71a-4f4e-b651-ce532eae0675"
      },
      "source": [
        "`-` complex형"
      ],
      "id": "8b5508fc-c71a-4f4e-b651-ce532eae0675"
    },
    {
      "cell_type": "code",
      "execution_count": null,
      "metadata": {
        "vscode": {
          "languageId": "python"
        },
        "id": "4b351f96-81a0-4b8e-a7cf-5fc09c2d6f09"
      },
      "outputs": [],
      "source": [
        "a=1+2j\n",
        "b=2-2j"
      ],
      "id": "4b351f96-81a0-4b8e-a7cf-5fc09c2d6f09"
    },
    {
      "cell_type": "code",
      "execution_count": null,
      "metadata": {
        "vscode": {
          "languageId": "python"
        },
        "id": "4fc2d9d3-8f71-469e-bf1e-d95c9398d41a"
      },
      "outputs": [],
      "source": [
        "type(a)"
      ],
      "id": "4fc2d9d3-8f71-469e-bf1e-d95c9398d41a"
    },
    {
      "cell_type": "code",
      "execution_count": null,
      "metadata": {
        "vscode": {
          "languageId": "python"
        },
        "id": "82c43ae8-8f36-487c-aaa5-84fe071781e1"
      },
      "outputs": [],
      "source": [
        "type(b)"
      ],
      "id": "82c43ae8-8f36-487c-aaa5-84fe071781e1"
    },
    {
      "cell_type": "code",
      "execution_count": null,
      "metadata": {
        "vscode": {
          "languageId": "python"
        },
        "id": "fc19f936-bb90-4f7e-ad02-287f60ef4c44"
      },
      "outputs": [],
      "source": [
        "a?"
      ],
      "id": "fc19f936-bb90-4f7e-ad02-287f60ef4c44"
    },
    {
      "cell_type": "code",
      "execution_count": null,
      "metadata": {
        "vscode": {
          "languageId": "python"
        },
        "id": "0da15cd7-3cb3-49cb-b849-691ef89c9cec"
      },
      "outputs": [],
      "source": [
        "b?"
      ],
      "id": "0da15cd7-3cb3-49cb-b849-691ef89c9cec"
    },
    {
      "cell_type": "code",
      "execution_count": null,
      "metadata": {
        "vscode": {
          "languageId": "python"
        },
        "id": "2728c8cb-29ef-4f1c-b86b-b659513ea72b"
      },
      "outputs": [],
      "source": [
        "c=a+b"
      ],
      "id": "2728c8cb-29ef-4f1c-b86b-b659513ea72b"
    },
    {
      "cell_type": "code",
      "execution_count": null,
      "metadata": {
        "vscode": {
          "languageId": "python"
        },
        "id": "9260fbea-0887-4141-b7a0-9424648ccd7e"
      },
      "outputs": [],
      "source": [
        "c"
      ],
      "id": "9260fbea-0887-4141-b7a0-9424648ccd7e"
    },
    {
      "cell_type": "markdown",
      "metadata": {
        "id": "b3a2599e-7eb1-4472-b1b1-62a57e6c3a13"
      },
      "source": [
        "`-` 형태변환: float $\\to$ int\n",
        "\n",
        "(예시1)"
      ],
      "id": "b3a2599e-7eb1-4472-b1b1-62a57e6c3a13"
    },
    {
      "cell_type": "code",
      "execution_count": null,
      "metadata": {
        "vscode": {
          "languageId": "python"
        },
        "id": "8751c225-3b8d-44e2-bfcf-daf58499fba1"
      },
      "outputs": [],
      "source": [
        "a=3.0\n",
        "type(a)"
      ],
      "id": "8751c225-3b8d-44e2-bfcf-daf58499fba1"
    },
    {
      "cell_type": "code",
      "execution_count": null,
      "metadata": {
        "vscode": {
          "languageId": "python"
        },
        "id": "d1d6a707-a6d1-474b-b211-700f22e2279d"
      },
      "outputs": [],
      "source": [
        "a=int(a)"
      ],
      "id": "d1d6a707-a6d1-474b-b211-700f22e2279d"
    },
    {
      "cell_type": "code",
      "execution_count": null,
      "metadata": {
        "vscode": {
          "languageId": "python"
        },
        "id": "7269c089-b331-46f7-9670-7ba20e0271b6"
      },
      "outputs": [],
      "source": [
        "type(a)"
      ],
      "id": "7269c089-b331-46f7-9670-7ba20e0271b6"
    },
    {
      "cell_type": "markdown",
      "metadata": {
        "id": "b5107d95-0e7f-4294-87df-167f24819272"
      },
      "source": [
        "(예시2) 이경우는 정보의 손실이 발생"
      ],
      "id": "b5107d95-0e7f-4294-87df-167f24819272"
    },
    {
      "cell_type": "code",
      "execution_count": null,
      "metadata": {
        "vscode": {
          "languageId": "python"
        },
        "id": "4ad501ec-a3f0-4514-a79e-dbb6ee1d1a8f"
      },
      "outputs": [],
      "source": [
        "a=3.14\n",
        "int(a)"
      ],
      "id": "4ad501ec-a3f0-4514-a79e-dbb6ee1d1a8f"
    },
    {
      "cell_type": "markdown",
      "metadata": {
        "id": "1763a2f5-8010-415e-a354-c43816922298"
      },
      "source": [
        "`-` 형태변환: int $\\to$ float"
      ],
      "id": "1763a2f5-8010-415e-a354-c43816922298"
    },
    {
      "cell_type": "code",
      "execution_count": null,
      "metadata": {
        "vscode": {
          "languageId": "python"
        },
        "id": "addde2a1-d032-4db9-9e43-2608d530886f"
      },
      "outputs": [],
      "source": [
        "a=3\n",
        "type(a)"
      ],
      "id": "addde2a1-d032-4db9-9e43-2608d530886f"
    },
    {
      "cell_type": "code",
      "execution_count": null,
      "metadata": {
        "vscode": {
          "languageId": "python"
        },
        "id": "09cf6cef-19a2-4573-a8f1-aa59dda5c0c6"
      },
      "outputs": [],
      "source": [
        "a=float(a)\n",
        "type(a)"
      ],
      "id": "09cf6cef-19a2-4573-a8f1-aa59dda5c0c6"
    },
    {
      "cell_type": "markdown",
      "metadata": {
        "id": "be34c760-53d2-4238-a8b3-179a8fd12389"
      },
      "source": [
        "`-` 형태변환: bool $\\to$ int/float, int/float $\\to$ bool\n",
        "\n",
        "(예시1)"
      ],
      "id": "be34c760-53d2-4238-a8b3-179a8fd12389"
    },
    {
      "cell_type": "code",
      "execution_count": null,
      "metadata": {
        "vscode": {
          "languageId": "python"
        },
        "id": "d794074c-780e-4859-9fc9-488e74565c34"
      },
      "outputs": [],
      "source": [
        "a=True\n",
        "type(a)"
      ],
      "id": "d794074c-780e-4859-9fc9-488e74565c34"
    },
    {
      "cell_type": "code",
      "execution_count": null,
      "metadata": {
        "vscode": {
          "languageId": "python"
        },
        "id": "611c4f59-2c10-42e9-b6f0-70009a2c02d9"
      },
      "outputs": [],
      "source": [
        "int(a)"
      ],
      "id": "611c4f59-2c10-42e9-b6f0-70009a2c02d9"
    },
    {
      "cell_type": "code",
      "execution_count": null,
      "metadata": {
        "vscode": {
          "languageId": "python"
        },
        "id": "d4405022-cf13-4882-a330-b8cc5634c94e"
      },
      "outputs": [],
      "source": [
        "float(a)"
      ],
      "id": "d4405022-cf13-4882-a330-b8cc5634c94e"
    },
    {
      "cell_type": "markdown",
      "metadata": {
        "id": "eeb4c3b3-f76a-4286-95bb-ebe707a12123"
      },
      "source": [
        "(예시2)"
      ],
      "id": "eeb4c3b3-f76a-4286-95bb-ebe707a12123"
    },
    {
      "cell_type": "code",
      "execution_count": null,
      "metadata": {
        "vscode": {
          "languageId": "python"
        },
        "id": "9eb7accd-ccb8-4cfe-9cc1-ef51520ae0b7"
      },
      "outputs": [],
      "source": [
        "a=1\n",
        "bool(a)"
      ],
      "id": "9eb7accd-ccb8-4cfe-9cc1-ef51520ae0b7"
    },
    {
      "cell_type": "code",
      "execution_count": null,
      "metadata": {
        "vscode": {
          "languageId": "python"
        },
        "id": "244da79f-8c49-4d3d-b5a1-de87c6372a00"
      },
      "outputs": [],
      "source": [
        "a=0\n",
        "bool(a)"
      ],
      "id": "244da79f-8c49-4d3d-b5a1-de87c6372a00"
    },
    {
      "cell_type": "markdown",
      "metadata": {
        "id": "cfe6e75b-c80c-4e34-ac10-dc473c931eea"
      },
      "source": [
        "(예시3)"
      ],
      "id": "cfe6e75b-c80c-4e34-ac10-dc473c931eea"
    },
    {
      "cell_type": "code",
      "execution_count": null,
      "metadata": {
        "vscode": {
          "languageId": "python"
        },
        "id": "dcde50c5-33fc-49c7-b416-af42b06607a3"
      },
      "outputs": [],
      "source": [
        "a=1.0\n",
        "bool(a)"
      ],
      "id": "dcde50c5-33fc-49c7-b416-af42b06607a3"
    },
    {
      "cell_type": "code",
      "execution_count": null,
      "metadata": {
        "vscode": {
          "languageId": "python"
        },
        "id": "41a9a3ab-6f02-466d-acbe-65687bbb5cad"
      },
      "outputs": [],
      "source": [
        "a=0.0\n",
        "bool(a)"
      ],
      "id": "41a9a3ab-6f02-466d-acbe-65687bbb5cad"
    },
    {
      "cell_type": "markdown",
      "metadata": {
        "id": "9d103b6b-f5ee-44a4-915e-5c245d04a452"
      },
      "source": [
        "`-` 이상한 형태변환도 가능하다. (이런것도 바꿔주나 싶은것도 바꿔줌)"
      ],
      "id": "9d103b6b-f5ee-44a4-915e-5c245d04a452"
    },
    {
      "cell_type": "code",
      "execution_count": null,
      "metadata": {
        "vscode": {
          "languageId": "python"
        },
        "id": "93a47581-0871-429a-857f-b6826525e196"
      },
      "outputs": [],
      "source": [
        "bool(-3.14)"
      ],
      "id": "93a47581-0871-429a-857f-b6826525e196"
    },
    {
      "cell_type": "markdown",
      "metadata": {
        "id": "d7cb1149-7682-4063-b01a-981d22f088d0"
      },
      "source": [
        "-   저는 이런 코드를 의도적으로 사용하지 않아요.."
      ],
      "id": "d7cb1149-7682-4063-b01a-981d22f088d0"
    },
    {
      "cell_type": "code",
      "execution_count": null,
      "metadata": {
        "vscode": {
          "languageId": "python"
        },
        "id": "ce3d8847-d9d7-4e02-95ea-e1e9861156c1"
      },
      "outputs": [],
      "source": [
        "int(3.14)"
      ],
      "id": "ce3d8847-d9d7-4e02-95ea-e1e9861156c1"
    },
    {
      "cell_type": "markdown",
      "metadata": {
        "id": "7f31f04d-7735-48b5-86ac-2043add2c4fc"
      },
      "source": [
        "`-` 형태변환이 항상가능한것도 아님"
      ],
      "id": "7f31f04d-7735-48b5-86ac-2043add2c4fc"
    },
    {
      "cell_type": "code",
      "execution_count": null,
      "metadata": {
        "vscode": {
          "languageId": "python"
        },
        "id": "828f77b2-b409-4bb7-b3c9-b1df1611fa0f"
      },
      "outputs": [],
      "source": [
        "float(3+0j) # 사실상 3+0j=3 이므로 float으로 형변환하면 3.0이 되어야 할 것 같은데 변환불가능하다."
      ],
      "id": "828f77b2-b409-4bb7-b3c9-b1df1611fa0f"
    },
    {
      "cell_type": "markdown",
      "metadata": {
        "id": "d50c8d6e-e1c2-4eb3-beab-bff2fa05a428"
      },
      "source": [
        "`-` 암묵적형변환 (implicit)\n",
        "\n",
        "(예비학습) implicit의 의미\n",
        "\n",
        "-   추운날씨 -\\> 보일러좀 틀자! (explicit) / 오늘 날씨 좀 추운 것 같지\n",
        "    않아? (implicit)\n",
        "-   짜장면 먹을래? -\\> 싫어! (explicit) / 난 어제 짜장면 먹었는데..\n",
        "    (implicit)\n",
        "\n",
        "(예제)"
      ],
      "id": "d50c8d6e-e1c2-4eb3-beab-bff2fa05a428"
    },
    {
      "cell_type": "code",
      "execution_count": null,
      "metadata": {
        "vscode": {
          "languageId": "python"
        },
        "id": "fe791eb2-d4dc-47c5-aafe-b4b28835313c"
      },
      "outputs": [],
      "source": [
        "True * 1 # 1을 곱할건데 너 계속 True로 있을꺼야?"
      ],
      "id": "fe791eb2-d4dc-47c5-aafe-b4b28835313c"
    },
    {
      "cell_type": "code",
      "execution_count": null,
      "metadata": {
        "vscode": {
          "languageId": "python"
        },
        "id": "8e2b60c4-2861-4023-89f7-543953d0e148"
      },
      "outputs": [],
      "source": [
        "1 * 1.0 # 1.0을 곱할건데 너 계속 int로 있을꺼야?"
      ],
      "id": "8e2b60c4-2861-4023-89f7-543953d0e148"
    },
    {
      "cell_type": "code",
      "execution_count": null,
      "metadata": {
        "vscode": {
          "languageId": "python"
        },
        "id": "5ff47f52-9289-420f-929c-690ddcb7fcc3"
      },
      "outputs": [],
      "source": [
        "True+True # +연산을 할건데 계속 True로 있을꺼야?"
      ],
      "id": "5ff47f52-9289-420f-929c-690ddcb7fcc3"
    },
    {
      "cell_type": "markdown",
      "metadata": {
        "id": "73914c95-d9fd-4676-a641-0634087ac8ea"
      },
      "source": [
        "# str\n",
        "\n",
        "## 선언"
      ],
      "id": "73914c95-d9fd-4676-a641-0634087ac8ea"
    },
    {
      "cell_type": "code",
      "execution_count": null,
      "metadata": {
        "vscode": {
          "languageId": "python"
        },
        "id": "48034256-e511-487e-b301-82b00e2deb6c"
      },
      "outputs": [],
      "source": [
        "a='guebin'"
      ],
      "id": "48034256-e511-487e-b301-82b00e2deb6c"
    },
    {
      "cell_type": "code",
      "execution_count": null,
      "metadata": {
        "vscode": {
          "languageId": "python"
        },
        "id": "136865a3-5158-4793-9fe6-a567be935611"
      },
      "outputs": [],
      "source": [
        "a"
      ],
      "id": "136865a3-5158-4793-9fe6-a567be935611"
    },
    {
      "cell_type": "markdown",
      "metadata": {
        "id": "ae91077e-dac6-4c62-84bc-8c06dfc11996"
      },
      "source": [
        "## 연산\n",
        "\n",
        "`-` 더하기(+)연산"
      ],
      "id": "ae91077e-dac6-4c62-84bc-8c06dfc11996"
    },
    {
      "cell_type": "code",
      "execution_count": null,
      "metadata": {
        "vscode": {
          "languageId": "python"
        },
        "id": "be9a5df0-ab45-4125-9e40-0f4aaa3f84c7"
      },
      "outputs": [],
      "source": [
        "a='X'\n",
        "b='2'"
      ],
      "id": "be9a5df0-ab45-4125-9e40-0f4aaa3f84c7"
    },
    {
      "cell_type": "code",
      "execution_count": null,
      "metadata": {
        "vscode": {
          "languageId": "python"
        },
        "id": "7e17e8a8-336e-42fc-a73f-6b2efc4179b5"
      },
      "outputs": [],
      "source": [
        "c=a+b\n",
        "c"
      ],
      "id": "7e17e8a8-336e-42fc-a73f-6b2efc4179b5"
    },
    {
      "cell_type": "markdown",
      "metadata": {
        "id": "38997156-e8f7-4a70-9dc7-04a76ea74388"
      },
      "source": [
        "`-` 빼기(-)연산"
      ],
      "id": "38997156-e8f7-4a70-9dc7-04a76ea74388"
    },
    {
      "cell_type": "code",
      "execution_count": null,
      "metadata": {
        "vscode": {
          "languageId": "python"
        },
        "id": "2e86c8f4-39b9-4667-82be-eff70f28ef63"
      },
      "outputs": [],
      "source": [
        "a='X2'\n",
        "b='2'\n",
        "a-b"
      ],
      "id": "2e86c8f4-39b9-4667-82be-eff70f28ef63"
    },
    {
      "cell_type": "markdown",
      "metadata": {
        "id": "476bfec4-02c9-47ce-948e-ea6581736671"
      },
      "source": [
        "-   이런건 없다.\n",
        "\n",
        "`-` 곱하기(\\*)연산"
      ],
      "id": "476bfec4-02c9-47ce-948e-ea6581736671"
    },
    {
      "cell_type": "code",
      "execution_count": null,
      "metadata": {
        "vscode": {
          "languageId": "python"
        },
        "id": "1f6b4c56-8344-498c-bebc-45b3d142e5f6"
      },
      "outputs": [],
      "source": [
        "a='X'"
      ],
      "id": "1f6b4c56-8344-498c-bebc-45b3d142e5f6"
    },
    {
      "cell_type": "code",
      "execution_count": null,
      "metadata": {
        "vscode": {
          "languageId": "python"
        },
        "id": "a0e2a84e-6e48-4147-9c24-8aa5dc341485"
      },
      "outputs": [],
      "source": [
        "a+a+a"
      ],
      "id": "a0e2a84e-6e48-4147-9c24-8aa5dc341485"
    },
    {
      "cell_type": "code",
      "execution_count": null,
      "metadata": {
        "vscode": {
          "languageId": "python"
        },
        "id": "fce0fddd-d867-4710-9fc7-c583dc984a0a"
      },
      "outputs": [],
      "source": [
        "a*3 # a*3 = a+a+a = 'X'+'X+'X'"
      ],
      "id": "fce0fddd-d867-4710-9fc7-c583dc984a0a"
    },
    {
      "cell_type": "markdown",
      "metadata": {
        "id": "d3c70426-384b-46c1-b829-b8294c71a800"
      },
      "source": [
        "아래도 가능하다."
      ],
      "id": "d3c70426-384b-46c1-b829-b8294c71a800"
    },
    {
      "cell_type": "code",
      "execution_count": null,
      "metadata": {
        "vscode": {
          "languageId": "python"
        },
        "id": "1049f471-c679-4adc-9684-30a72552fea7"
      },
      "outputs": [],
      "source": [
        "3*a"
      ],
      "id": "1049f471-c679-4adc-9684-30a72552fea7"
    },
    {
      "cell_type": "markdown",
      "metadata": {
        "id": "b83abbd4-2950-49ae-8fa1-e574f1520014"
      },
      "source": [
        "그리고 아래도 가능하다."
      ],
      "id": "b83abbd4-2950-49ae-8fa1-e574f1520014"
    },
    {
      "cell_type": "code",
      "execution_count": null,
      "metadata": {
        "vscode": {
          "languageId": "python"
        },
        "id": "e1e0e9cc-6710-4fd3-98de-bf52fcf95e58"
      },
      "outputs": [],
      "source": [
        "a='X'\n",
        "b=3\n",
        "a*b"
      ],
      "id": "e1e0e9cc-6710-4fd3-98de-bf52fcf95e58"
    },
    {
      "cell_type": "markdown",
      "metadata": {
        "id": "9c0a4ca4-3abd-46da-9508-84f3e359aae7"
      },
      "source": [
        "대신에 의미상 맞지 않는 것은 수행되지 않고 에러가 난다."
      ],
      "id": "9c0a4ca4-3abd-46da-9508-84f3e359aae7"
    },
    {
      "cell_type": "code",
      "execution_count": null,
      "metadata": {
        "vscode": {
          "languageId": "python"
        },
        "id": "ab94b52a-fb8c-487b-8d11-06cabbf165f9"
      },
      "outputs": [],
      "source": [
        "a='X'\n",
        "b='Y'\n",
        "a+b"
      ],
      "id": "ab94b52a-fb8c-487b-8d11-06cabbf165f9"
    },
    {
      "cell_type": "code",
      "execution_count": null,
      "metadata": {
        "vscode": {
          "languageId": "python"
        },
        "id": "603e1424-95d8-44c9-89ba-32e1169496d1"
      },
      "outputs": [],
      "source": [
        "a*b"
      ],
      "id": "603e1424-95d8-44c9-89ba-32e1169496d1"
    },
    {
      "cell_type": "markdown",
      "metadata": {
        "id": "7071f93e-5f53-4177-bbac-157b78eeb89e"
      },
      "source": [
        "`-` 나눗셈(/)연산"
      ],
      "id": "7071f93e-5f53-4177-bbac-157b78eeb89e"
    },
    {
      "cell_type": "code",
      "execution_count": null,
      "metadata": {
        "vscode": {
          "languageId": "python"
        },
        "id": "327ed7c6-87c0-4568-9490-9ab99e3469f0"
      },
      "outputs": [],
      "source": [
        "a='XX'"
      ],
      "id": "327ed7c6-87c0-4568-9490-9ab99e3469f0"
    },
    {
      "cell_type": "code",
      "execution_count": null,
      "metadata": {
        "vscode": {
          "languageId": "python"
        },
        "id": "90f7a615-29e3-4bc1-92e0-450b6a09f0c7"
      },
      "outputs": [],
      "source": [
        "a/2"
      ],
      "id": "90f7a615-29e3-4bc1-92e0-450b6a09f0c7"
    },
    {
      "cell_type": "markdown",
      "metadata": {
        "id": "5a6e5b32-b144-48ab-b40e-8b581e84f79b"
      },
      "source": [
        "-   이런건 없다..\n",
        "\n",
        "## 인덱싱\n",
        "\n",
        "`-` str은 하나의 벡터 문자가 여러개 있는 형태라고 생각하면 된다."
      ],
      "id": "5a6e5b32-b144-48ab-b40e-8b581e84f79b"
    },
    {
      "cell_type": "code",
      "execution_count": null,
      "metadata": {
        "vscode": {
          "languageId": "python"
        },
        "id": "54ea14a2-efb9-4b5a-9b9b-4b67d2c6253e"
      },
      "outputs": [],
      "source": [
        "a='guebin'"
      ],
      "id": "54ea14a2-efb9-4b5a-9b9b-4b67d2c6253e"
    },
    {
      "cell_type": "code",
      "execution_count": null,
      "metadata": {
        "vscode": {
          "languageId": "python"
        },
        "id": "9eeee1f5-3966-4e77-834e-301e7d6dd082"
      },
      "outputs": [],
      "source": [
        "a"
      ],
      "id": "9eeee1f5-3966-4e77-834e-301e7d6dd082"
    },
    {
      "cell_type": "markdown",
      "metadata": {
        "id": "04d681a8-ab35-465c-8b1a-3234cea489ab"
      },
      "source": [
        "-   6개의 칸에 글씨가 하나씩 들어가 있음.\n",
        "\n",
        "`-` 대괄호 `[]`안에 숫자를 넣는 방식으로 벡터의 원소를 호출할 수 있다.\n",
        "(주의: 인덱스가 0부터 시작함)"
      ],
      "id": "04d681a8-ab35-465c-8b1a-3234cea489ab"
    },
    {
      "cell_type": "code",
      "execution_count": null,
      "metadata": {
        "vscode": {
          "languageId": "python"
        },
        "id": "06e592a1-43e4-4382-b539-6f52fa922ffa"
      },
      "outputs": [],
      "source": [
        "a[0] #첫번째원소"
      ],
      "id": "06e592a1-43e4-4382-b539-6f52fa922ffa"
    },
    {
      "cell_type": "code",
      "execution_count": null,
      "metadata": {
        "vscode": {
          "languageId": "python"
        },
        "id": "81aae692-d8c5-4c05-9f63-2810b24b9014"
      },
      "outputs": [],
      "source": [
        "a[1] #두번째원소"
      ],
      "id": "81aae692-d8c5-4c05-9f63-2810b24b9014"
    },
    {
      "cell_type": "markdown",
      "metadata": {
        "id": "25f4521d-2a6b-4d3e-804a-8ea4a5c9d4ce"
      },
      "source": [
        "마지막원소는 -1로 호출할 수도 있다."
      ],
      "id": "25f4521d-2a6b-4d3e-804a-8ea4a5c9d4ce"
    },
    {
      "cell_type": "code",
      "execution_count": null,
      "metadata": {
        "vscode": {
          "languageId": "python"
        },
        "id": "823a0cdd-7737-4c8b-96fe-ef2fa3ebfe5c"
      },
      "outputs": [],
      "source": [
        "a[-1]"
      ],
      "id": "823a0cdd-7737-4c8b-96fe-ef2fa3ebfe5c"
    },
    {
      "cell_type": "markdown",
      "metadata": {
        "id": "49ec9784-b788-4606-b15d-20c8c6f87f93"
      },
      "source": [
        "마지막에서 2번째 원소는 -2로 호출가능하다."
      ],
      "id": "49ec9784-b788-4606-b15d-20c8c6f87f93"
    },
    {
      "cell_type": "code",
      "execution_count": null,
      "metadata": {
        "vscode": {
          "languageId": "python"
        },
        "id": "1f32fdf1-70b4-4d83-b843-e6833f900dfb"
      },
      "outputs": [],
      "source": [
        "a[-2]"
      ],
      "id": "1f32fdf1-70b4-4d83-b843-e6833f900dfb"
    },
    {
      "cell_type": "markdown",
      "metadata": {
        "id": "7b5792c8-9f6a-4d39-a61c-3f42725456e6"
      },
      "source": [
        "`-` 요약하면 아래와 같은 방식으로 호출가능함.\n",
        "\n",
        "|  g  |  u  |  e  |  b  |  i  |  n  |\n",
        "|:---:|:---:|:---:|:---:|:---:|:---:|\n",
        "|  0  |  1  |  2  |  3  |  4  |  5  |\n",
        "|  0  | -5  | -4  | -3  | -2  | -1  |"
      ],
      "id": "7b5792c8-9f6a-4d39-a61c-3f42725456e6"
    },
    {
      "cell_type": "code",
      "execution_count": null,
      "metadata": {
        "vscode": {
          "languageId": "python"
        },
        "id": "e34a5b25-32d3-4438-8112-c77198c1233b"
      },
      "outputs": [],
      "source": [
        "a[4]"
      ],
      "id": "e34a5b25-32d3-4438-8112-c77198c1233b"
    },
    {
      "cell_type": "code",
      "execution_count": null,
      "metadata": {
        "vscode": {
          "languageId": "python"
        },
        "id": "675bb8ca-21bc-48d3-97c3-4e22ba3732c7"
      },
      "outputs": [],
      "source": [
        "a[-2]"
      ],
      "id": "675bb8ca-21bc-48d3-97c3-4e22ba3732c7"
    },
    {
      "cell_type": "code",
      "execution_count": null,
      "metadata": {
        "vscode": {
          "languageId": "python"
        },
        "id": "464059b3-9346-40a7-abd8-305d6a594d9c"
      },
      "outputs": [],
      "source": [
        "a[-4]"
      ],
      "id": "464059b3-9346-40a7-abd8-305d6a594d9c"
    },
    {
      "cell_type": "markdown",
      "metadata": {
        "id": "b79a4863-a92a-4ae5-a7d1-02b8eeda98bf"
      },
      "source": [
        "`-` `:`을 이용하여 여러개의 원소를 호출할 수 있음."
      ],
      "id": "b79a4863-a92a-4ae5-a7d1-02b8eeda98bf"
    },
    {
      "cell_type": "code",
      "execution_count": null,
      "metadata": {
        "vscode": {
          "languageId": "python"
        },
        "id": "5bf9e767-614b-4769-a4a0-76fe35ed38d8"
      },
      "outputs": [],
      "source": [
        "a='guebin'"
      ],
      "id": "5bf9e767-614b-4769-a4a0-76fe35ed38d8"
    },
    {
      "cell_type": "code",
      "execution_count": null,
      "metadata": {
        "vscode": {
          "languageId": "python"
        },
        "id": "a00da720-b05a-4d1e-a3ba-d8a634ba4d44"
      },
      "outputs": [],
      "source": [
        "a[0:3] # a[0],a[1],a[2],a[3]이 아니라 a[0],a[1],a[2]까지만 뽑힌다. 즉 마지막의 3은 호출되지 않는다."
      ],
      "id": "a00da720-b05a-4d1e-a3ba-d8a634ba4d44"
    },
    {
      "cell_type": "code",
      "execution_count": null,
      "metadata": {
        "vscode": {
          "languageId": "python"
        },
        "id": "6cc77d63-ecc8-4ff9-8a8a-14e6134c29bc"
      },
      "outputs": [],
      "source": [
        "a[1:3] # a[1], a[2] 만 호출 // start=1,  stop=3"
      ],
      "id": "6cc77d63-ecc8-4ff9-8a8a-14e6134c29bc"
    },
    {
      "cell_type": "markdown",
      "metadata": {
        "id": "b3c467db-62ff-41ff-b5b7-f8b52bcdfd2c"
      },
      "source": [
        "index=1부터 시작해서 마지막원소까지 호출하려면?"
      ],
      "id": "b3c467db-62ff-41ff-b5b7-f8b52bcdfd2c"
    },
    {
      "cell_type": "code",
      "execution_count": null,
      "metadata": {
        "vscode": {
          "languageId": "python"
        },
        "id": "61ffedc7-e9f4-4a51-b24e-47f555d1b7e3"
      },
      "outputs": [],
      "source": [
        "a[5] # guebin의 마지막원소 'n'이 출려"
      ],
      "id": "61ffedc7-e9f4-4a51-b24e-47f555d1b7e3"
    },
    {
      "cell_type": "code",
      "execution_count": null,
      "metadata": {
        "vscode": {
          "languageId": "python"
        },
        "id": "56e8fcae-996f-467a-95d0-30d6f7753f57"
      },
      "outputs": [],
      "source": [
        "a[1:5] # 5는 포함되지 않으므로 틀림"
      ],
      "id": "56e8fcae-996f-467a-95d0-30d6f7753f57"
    },
    {
      "cell_type": "code",
      "execution_count": null,
      "metadata": {
        "vscode": {
          "languageId": "python"
        },
        "id": "23bb2f68-e8c6-4807-9163-7234ec2dc2ed"
      },
      "outputs": [],
      "source": [
        "a[1:6] # 정답"
      ],
      "id": "23bb2f68-e8c6-4807-9163-7234ec2dc2ed"
    },
    {
      "cell_type": "markdown",
      "metadata": {
        "id": "6770977e-8a52-4923-8843-1a5d614a9fad"
      },
      "source": [
        "안 헷갈리는 방법은 없을까?"
      ],
      "id": "6770977e-8a52-4923-8843-1a5d614a9fad"
    },
    {
      "cell_type": "code",
      "execution_count": null,
      "metadata": {
        "vscode": {
          "languageId": "python"
        },
        "id": "0e92cbca-e12e-43da-b4a4-d34e03f5123b"
      },
      "outputs": [],
      "source": [
        "a[-1]"
      ],
      "id": "0e92cbca-e12e-43da-b4a4-d34e03f5123b"
    },
    {
      "cell_type": "code",
      "execution_count": null,
      "metadata": {
        "vscode": {
          "languageId": "python"
        },
        "id": "0a22edc4-2ae3-4524-a635-7d98d9dbc527"
      },
      "outputs": [],
      "source": [
        "a[1:-1] # 이것은 결국 (a[1:5]와 같은 것임)"
      ],
      "id": "0a22edc4-2ae3-4524-a635-7d98d9dbc527"
    },
    {
      "cell_type": "markdown",
      "metadata": {
        "id": "ff725b5a-3cc5-4dd4-818c-35427b110b18"
      },
      "source": [
        "해결책? 생략한다!!"
      ],
      "id": "ff725b5a-3cc5-4dd4-818c-35427b110b18"
    },
    {
      "cell_type": "code",
      "execution_count": null,
      "metadata": {
        "vscode": {
          "languageId": "python"
        },
        "id": "d6729ef4-143d-4c5d-b273-96275ee11850"
      },
      "outputs": [],
      "source": [
        "a[1:]"
      ],
      "id": "d6729ef4-143d-4c5d-b273-96275ee11850"
    },
    {
      "cell_type": "markdown",
      "metadata": {
        "id": "f37504b5-e8fd-4b29-9c11-6b63882c5a94"
      },
      "source": [
        "`-` 생략의 응용1"
      ],
      "id": "f37504b5-e8fd-4b29-9c11-6b63882c5a94"
    },
    {
      "cell_type": "code",
      "execution_count": null,
      "metadata": {
        "vscode": {
          "languageId": "python"
        },
        "id": "95bb3db2-e27c-46d2-8fd0-987adec865c3"
      },
      "outputs": [],
      "source": [
        "a='k-pop'\n",
        "a"
      ],
      "id": "95bb3db2-e27c-46d2-8fd0-987adec865c3"
    },
    {
      "cell_type": "code",
      "execution_count": null,
      "metadata": {
        "vscode": {
          "languageId": "python"
        },
        "id": "5b30a784-c812-4dea-9b54-12ace60ea1ae"
      },
      "outputs": [],
      "source": [
        "a[2:5]"
      ],
      "id": "5b30a784-c812-4dea-9b54-12ace60ea1ae"
    },
    {
      "cell_type": "code",
      "execution_count": null,
      "metadata": {
        "vscode": {
          "languageId": "python"
        },
        "id": "6bd10531-d147-418b-92f1-2ee8fb9df290"
      },
      "outputs": [],
      "source": [
        "a[2:]"
      ],
      "id": "6bd10531-d147-418b-92f1-2ee8fb9df290"
    },
    {
      "cell_type": "markdown",
      "metadata": {
        "id": "ce13c2de-02a9-487a-a585-c4e1f906d646"
      },
      "source": [
        "`-` 생략의 응용2"
      ],
      "id": "ce13c2de-02a9-487a-a585-c4e1f906d646"
    },
    {
      "cell_type": "code",
      "execution_count": null,
      "metadata": {
        "vscode": {
          "languageId": "python"
        },
        "id": "394c5222-d819-46bc-a6c4-9884cee0a1a5"
      },
      "outputs": [],
      "source": [
        "a='k-pop'\n",
        "a"
      ],
      "id": "394c5222-d819-46bc-a6c4-9884cee0a1a5"
    },
    {
      "cell_type": "code",
      "execution_count": null,
      "metadata": {
        "vscode": {
          "languageId": "python"
        },
        "id": "62c9e60f-567c-4a01-89c4-7b0cae5992fe"
      },
      "outputs": [],
      "source": [
        "a[0:2] # a[0],a[1]"
      ],
      "id": "62c9e60f-567c-4a01-89c4-7b0cae5992fe"
    },
    {
      "cell_type": "code",
      "execution_count": null,
      "metadata": {
        "vscode": {
          "languageId": "python"
        },
        "id": "5e9ddc5f-71b4-467a-b089-8744fd7fde1c"
      },
      "outputs": [],
      "source": [
        "a[:2] # a[0],a[1]"
      ],
      "id": "5e9ddc5f-71b4-467a-b089-8744fd7fde1c"
    },
    {
      "cell_type": "markdown",
      "metadata": {
        "id": "57051666-c598-47a8-ab4f-f41e99a9addc"
      },
      "source": [
        "`-` 생략의 응용3"
      ],
      "id": "57051666-c598-47a8-ab4f-f41e99a9addc"
    },
    {
      "cell_type": "code",
      "execution_count": null,
      "metadata": {
        "vscode": {
          "languageId": "python"
        },
        "id": "e7cd56bd-8244-423e-af0c-7c5e06a9344f"
      },
      "outputs": [],
      "source": [
        "a='k-pop'\n",
        "a"
      ],
      "id": "e7cd56bd-8244-423e-af0c-7c5e06a9344f"
    },
    {
      "cell_type": "code",
      "execution_count": null,
      "metadata": {
        "vscode": {
          "languageId": "python"
        },
        "id": "76900c79-a5ea-4cc2-a611-fb2340f9ceed"
      },
      "outputs": [],
      "source": [
        "a[0:5] # a[0],...,a[4]"
      ],
      "id": "76900c79-a5ea-4cc2-a611-fb2340f9ceed"
    },
    {
      "cell_type": "code",
      "execution_count": null,
      "metadata": {
        "vscode": {
          "languageId": "python"
        },
        "id": "21699b82-47c0-4e43-9f59-5b3aa6307830"
      },
      "outputs": [],
      "source": [
        "a[:]"
      ],
      "id": "21699b82-47c0-4e43-9f59-5b3aa6307830"
    },
    {
      "cell_type": "markdown",
      "metadata": {
        "id": "5cf92a5f-6f46-4839-95c0-91e11b1d2879"
      },
      "source": [
        "## str 특수기능\n",
        "\n",
        "`-` 파이썬의 변수는 단순히 정보를 담는 그릇이 아니다. 유용한 기능을\n",
        "제공하는 경우가 있다."
      ],
      "id": "5cf92a5f-6f46-4839-95c0-91e11b1d2879"
    },
    {
      "cell_type": "code",
      "execution_count": null,
      "metadata": {
        "vscode": {
          "languageId": "python"
        },
        "id": "c2df0d4c-59e8-4e00-86d8-3e00b8c2ce1d"
      },
      "outputs": [],
      "source": [
        "a='ABCD' # a라는 변수는 'ABCD'라는 정보를 담는 그릇의 역할만 하지 않고, 특화된 어떠한 기능도 제공한다.\n",
        "a"
      ],
      "id": "c2df0d4c-59e8-4e00-86d8-3e00b8c2ce1d"
    },
    {
      "cell_type": "code",
      "execution_count": null,
      "metadata": {
        "vscode": {
          "languageId": "python"
        },
        "id": "7de6c11c-bdc4-4059-bd8a-e26e04985db5"
      },
      "outputs": [],
      "source": [
        "a.lower() # a.lower()를 쓰면 a의 모든 문자를 소문자로 바꾸는 기능을 제공, lower(a)라고 읽자!"
      ],
      "id": "7de6c11c-bdc4-4059-bd8a-e26e04985db5"
    },
    {
      "cell_type": "markdown",
      "metadata": {
        "id": "1f379611-4fb2-4848-a883-977f6087a103"
      },
      "source": [
        "여기에서 lower()는 문자열에 특화된 기능임. 따라서 당연히 아래는 불가능"
      ],
      "id": "1f379611-4fb2-4848-a883-977f6087a103"
    },
    {
      "cell_type": "code",
      "execution_count": null,
      "metadata": {
        "vscode": {
          "languageId": "python"
        },
        "id": "3e87c453-9d96-4fb4-a9ed-72983744368c"
      },
      "outputs": [],
      "source": [
        "a=3.14\n",
        "a.lower() # lower(a)"
      ],
      "id": "3e87c453-9d96-4fb4-a9ed-72983744368c"
    },
    {
      "cell_type": "markdown",
      "metadata": {
        "id": "ae93eb76-a1d2-4c18-9fc9-c791713b1004"
      },
      "source": [
        "`-` 자료형에 특화된 기능(=함수)을 확인하는 방법? `a.`+ `tab` 으로 목록\n",
        "확인 가능"
      ],
      "id": "ae93eb76-a1d2-4c18-9fc9-c791713b1004"
    },
    {
      "cell_type": "code",
      "execution_count": null,
      "metadata": {
        "vscode": {
          "languageId": "python"
        },
        "id": "053be390-5dac-472c-89d2-257cedb332cb"
      },
      "outputs": [],
      "source": [
        "a='guebin'"
      ],
      "id": "053be390-5dac-472c-89d2-257cedb332cb"
    },
    {
      "cell_type": "code",
      "execution_count": null,
      "metadata": {
        "vscode": {
          "languageId": "python"
        },
        "id": "f60791d5-52d5-4e6b-abe4-a646cec23d11"
      },
      "outputs": [],
      "source": [
        "a.upper?"
      ],
      "id": "f60791d5-52d5-4e6b-abe4-a646cec23d11"
    },
    {
      "cell_type": "code",
      "execution_count": null,
      "metadata": {
        "vscode": {
          "languageId": "python"
        },
        "id": "978d7e30-641f-4553-8b53-e4fa17a8ab54"
      },
      "outputs": [],
      "source": [
        "a.upper() # upper(a)"
      ],
      "id": "978d7e30-641f-4553-8b53-e4fa17a8ab54"
    },
    {
      "cell_type": "code",
      "execution_count": null,
      "metadata": {
        "vscode": {
          "languageId": "python"
        },
        "id": "1c4b5782-f7db-47e1-8270-038eb2e9c302"
      },
      "outputs": [],
      "source": [
        "a.capitalize() # capitalize(a)"
      ],
      "id": "1c4b5782-f7db-47e1-8270-038eb2e9c302"
    },
    {
      "cell_type": "markdown",
      "metadata": {
        "id": "6cab65d2-f0e6-4778-b874-bb6bd05fdd52"
      },
      "source": [
        "`-` 문자열에 대한 다른 내용들은 추후에 다루겠음.\n",
        "\n",
        "`-` 마음의눈: `a.f()` 형태를 읽는 팁\n",
        "\n",
        "-   `a.f()`는 `f(a)`로 생각하면 편리함.\n",
        "-   `a.f(2)`는 `f(a,2)`로 생각하면 편리함.\n",
        "-   이런점에서 R `%>%` 연산자와 비슷하다고 생각할 수 있다. (약간\n",
        "    다르긴함)\n",
        "\n",
        "`-` 사실 `.`은 좀 더 다양한 상황에서 쓰일 수 있다. `변수이름.함수이름()`\n",
        "의 형태가 아니라\n",
        "\n",
        "-   `모듈이름.함수이름()`\n",
        "-   `모듈이름.변수이름`\n",
        "-   `모듈이름.모듈이름.함수이름()`\n",
        "-   …\n",
        "\n",
        "와 같이 다양한 형태가 가능하다. 근본적인 공통점은 `.`을 기준으로\n",
        "`상위개념.하위개념` 으로 이해하는 것이 좋다.\n",
        "\n",
        "***0차원 vs 1차원***\n",
        "\n",
        "`-` `len`함수 소개: 원소의 갯수를 알려주는 함수.\n",
        "\n",
        "(0차원) `len` 함수가 동작하지 않음."
      ],
      "id": "6cab65d2-f0e6-4778-b874-bb6bd05fdd52"
    },
    {
      "cell_type": "code",
      "execution_count": null,
      "metadata": {
        "vscode": {
          "languageId": "python"
        },
        "id": "207d5921-34aa-4a65-8884-92dacf58ea09"
      },
      "outputs": [],
      "source": [
        "a=3.14"
      ],
      "id": "207d5921-34aa-4a65-8884-92dacf58ea09"
    },
    {
      "cell_type": "code",
      "execution_count": null,
      "metadata": {
        "vscode": {
          "languageId": "python"
        },
        "id": "7fad7d27-b9d5-42f5-8f2a-e40cebcc4995"
      },
      "outputs": [],
      "source": [
        "len(a)"
      ],
      "id": "7fad7d27-b9d5-42f5-8f2a-e40cebcc4995"
    },
    {
      "cell_type": "code",
      "execution_count": null,
      "metadata": {
        "vscode": {
          "languageId": "python"
        },
        "id": "e015e29c-707b-41b9-b344-21139fe0eb7e"
      },
      "outputs": [],
      "source": [
        "b=True"
      ],
      "id": "e015e29c-707b-41b9-b344-21139fe0eb7e"
    },
    {
      "cell_type": "code",
      "execution_count": null,
      "metadata": {
        "vscode": {
          "languageId": "python"
        },
        "id": "332e1623-b832-48cb-b799-2bffac504298"
      },
      "outputs": [],
      "source": [
        "len(b)"
      ],
      "id": "332e1623-b832-48cb-b799-2bffac504298"
    },
    {
      "cell_type": "markdown",
      "metadata": {
        "id": "f0e0dd5e-37e1-4a30-8d83-111a6dd2b850"
      },
      "source": [
        "(1차원) `len` 함수가 잘 동작함."
      ],
      "id": "f0e0dd5e-37e1-4a30-8d83-111a6dd2b850"
    },
    {
      "cell_type": "code",
      "execution_count": null,
      "metadata": {
        "vscode": {
          "languageId": "python"
        },
        "id": "aa82d04e-89c2-4176-b86a-1f7891843c18"
      },
      "outputs": [],
      "source": [
        "a='3.14'\n",
        "len(a)"
      ],
      "id": "aa82d04e-89c2-4176-b86a-1f7891843c18"
    },
    {
      "cell_type": "code",
      "execution_count": null,
      "metadata": {
        "vscode": {
          "languageId": "python"
        },
        "id": "0e3455bc-144e-4f7b-aee0-e3fce07185a2"
      },
      "outputs": [],
      "source": [
        "b=[1,2,3]"
      ],
      "id": "0e3455bc-144e-4f7b-aee0-e3fce07185a2"
    },
    {
      "cell_type": "code",
      "execution_count": null,
      "metadata": {
        "vscode": {
          "languageId": "python"
        },
        "id": "1d0d92e4-6d9b-4ff3-ab6b-ff638dde8051"
      },
      "outputs": [],
      "source": [
        "len(b)"
      ],
      "id": "1d0d92e4-6d9b-4ff3-ab6b-ff638dde8051"
    },
    {
      "cell_type": "markdown",
      "metadata": {
        "id": "b0e83076-2362-4607-8483-bdcd9b0a8072"
      },
      "source": [
        "# Quiz\n",
        "\n",
        "아래와 같은 문자열이 있다고 하자."
      ],
      "id": "b0e83076-2362-4607-8483-bdcd9b0a8072"
    },
    {
      "cell_type": "code",
      "execution_count": null,
      "metadata": {
        "id": "e86ce219-f331-4e26-9a88-13b4a48e1136"
      },
      "outputs": [],
      "source": [
        "a='Jeonbuk National University'"
      ],
      "id": "e86ce219-f331-4e26-9a88-13b4a48e1136"
    },
    {
      "cell_type": "markdown",
      "metadata": {
        "id": "8d22a557-39e7-4274-bc82-aed5bf16d6be"
      },
      "source": [
        "`1`. 적당한 인덱싱을 통하여 출력결과가 아래와 같도록 하라."
      ],
      "id": "8d22a557-39e7-4274-bc82-aed5bf16d6be"
    },
    {
      "cell_type": "code",
      "execution_count": null,
      "metadata": {
        "id": "12c55a43-b971-4fc8-85dc-f968792e119d"
      },
      "outputs": [],
      "source": [
        "# 적당한 인덱싱"
      ],
      "id": "12c55a43-b971-4fc8-85dc-f968792e119d"
    },
    {
      "cell_type": "markdown",
      "metadata": {
        "id": "4dad75b9-a2f4-4c0d-a229-f769896a35b0"
      },
      "source": [
        "**hint**: University는 10글자이다.\n",
        "\n",
        "`2`. 출력결과가 아래와 같도록 하는 코드를 작성하라. (lower 함수를 이용할\n",
        "것)"
      ],
      "id": "4dad75b9-a2f4-4c0d-a229-f769896a35b0"
    },
    {
      "cell_type": "code",
      "execution_count": null,
      "metadata": {
        "id": "572032fe-f43d-470e-af5e-ad39c607338f"
      },
      "outputs": [],
      "source": [
        "# 적당한 코드"
      ],
      "id": "572032fe-f43d-470e-af5e-ad39c607338f"
    },
    {
      "cell_type": "markdown",
      "metadata": {
        "id": "8d281ddc-fd5d-4b6a-aa79-062fbe829c32"
      },
      "source": [
        "`3`. 아래의 코드를 관찰하고 isupper()의 기능이 무엇인지 스스로\n",
        "정리해보라."
      ],
      "id": "8d281ddc-fd5d-4b6a-aa79-062fbe829c32"
    },
    {
      "cell_type": "code",
      "execution_count": null,
      "metadata": {
        "id": "61029033-7183-4c04-8792-f2b377823c90"
      },
      "outputs": [],
      "source": [
        "'A'.isupper()"
      ],
      "id": "61029033-7183-4c04-8792-f2b377823c90"
    },
    {
      "cell_type": "code",
      "execution_count": null,
      "metadata": {
        "id": "40fd64fa-851c-4bad-ac5a-f077463d258d"
      },
      "outputs": [],
      "source": [
        "'AA'.isupper()"
      ],
      "id": "40fd64fa-851c-4bad-ac5a-f077463d258d"
    },
    {
      "cell_type": "code",
      "execution_count": null,
      "metadata": {
        "id": "cb8e95ad-a54b-4b51-a74d-254e8ab94321"
      },
      "outputs": [],
      "source": [
        "'Aa'.isupper()"
      ],
      "id": "cb8e95ad-a54b-4b51-a74d-254e8ab94321"
    },
    {
      "cell_type": "code",
      "execution_count": null,
      "metadata": {
        "id": "fdee8eb2-6696-411a-bc03-b16d4345de3a"
      },
      "outputs": [],
      "source": [
        "'aa'.isupper()"
      ],
      "id": "fdee8eb2-6696-411a-bc03-b16d4345de3a"
    },
    {
      "cell_type": "code",
      "execution_count": null,
      "metadata": {
        "id": "1d25df26-dfcc-4cc2-8dbb-1856426c8f29"
      },
      "outputs": [],
      "source": [
        "'aA'.isupper()"
      ],
      "id": "1d25df26-dfcc-4cc2-8dbb-1856426c8f29"
    },
    {
      "cell_type": "markdown",
      "metadata": {
        "id": "d41a1e56-c86b-4fba-a518-b40de9158e74"
      },
      "source": [
        "유추한 기능이 맞는지 ChatGPT를 통하여 확인하라.\n",
        "\n",
        "`4`. 다음중 실행 불가능한 코드를 모두 골라라.\n",
        "\n",
        "``` python\n",
        "(a) 'a'*2\n",
        "\n",
        "(b) 'a'*'2'\n",
        "\n",
        "(c) 'a'+2\n",
        "\n",
        "(d) 'a'+'2'\n",
        "```\n",
        "\n",
        "`5`. 아래의 예제를 관찰하라."
      ],
      "id": "d41a1e56-c86b-4fba-a518-b40de9158e74"
    },
    {
      "cell_type": "code",
      "execution_count": null,
      "metadata": {
        "id": "6424a2a6-8c92-4578-81ae-ce637dcdff61"
      },
      "outputs": [],
      "source": [
        "'제 이름은 {}입니다'.format('최규빈')"
      ],
      "id": "6424a2a6-8c92-4578-81ae-ce637dcdff61"
    },
    {
      "cell_type": "code",
      "execution_count": null,
      "metadata": {
        "id": "afa316ca-a364-4c52-a18b-d03ba187a56c"
      },
      "outputs": [],
      "source": [
        "'제 이름은 {}이고 사는곳은 {}입니다.'.format('최규빈','전주')"
      ],
      "id": "afa316ca-a364-4c52-a18b-d03ba187a56c"
    },
    {
      "cell_type": "markdown",
      "metadata": {
        "id": "0bcd43fa-26f4-42f8-91eb-51af820b6633"
      },
      "source": [
        "이 예제를 바탕으로 문자열에 포함된 `.format()`함수의 기능을 유추하라.\n",
        "그리고 아래의 결과를 확인하라.\n",
        "\n",
        "``` python\n",
        "string = '전북대학교 학생엠티가 {}월{}일-{}월{}일 완주 곶감펜션에서 있다고 합니다. 자세한 일정 등은 다시 공지하겠습니다.'\n",
        "string.format(3,24,3,25)\n",
        "```\n",
        "\n",
        "ChatGPT를 활용하여 `.format()`함수의 기능을 학습하라.\n",
        "\n",
        "`6`. 아래의 예제를 관찰하라."
      ],
      "id": "0bcd43fa-26f4-42f8-91eb-51af820b6633"
    },
    {
      "cell_type": "code",
      "execution_count": null,
      "metadata": {
        "id": "a324f70a-0ec3-4de9-9837-841cc1ef3120"
      },
      "outputs": [],
      "source": [
        "'abcdefg'.replace('g','u')"
      ],
      "id": "a324f70a-0ec3-4de9-9837-841cc1ef3120"
    },
    {
      "cell_type": "markdown",
      "metadata": {
        "id": "3bb6c23f-4360-4d40-b3e3-7340d0aed182"
      },
      "source": [
        "이 예제를 바탕으로 문자열의 `.replace()` 기능을 유추하라. 유추한 기능을\n",
        "chatGPT로 확인하라.\n",
        "\n",
        "`7`. 아래의 코드를 관찰하라."
      ],
      "id": "3bb6c23f-4360-4d40-b3e3-7340d0aed182"
    },
    {
      "cell_type": "code",
      "execution_count": null,
      "metadata": {
        "id": "923876ce-5f24-48a5-a860-2a755fee70fe"
      },
      "outputs": [],
      "source": [
        "'2023-03-22'.split('-')"
      ],
      "id": "923876ce-5f24-48a5-a860-2a755fee70fe"
    },
    {
      "cell_type": "markdown",
      "metadata": {
        "id": "a8f454aa-ba50-4095-a534-4d40a19942df"
      },
      "source": [
        "이 코드를 바탕으로 split의 기능을 유추하라. 유추한 기능을 chatGPT로\n",
        "확인하라.\n",
        "\n",
        "`8`. 아래의 코드를 관찰하라."
      ],
      "id": "a8f454aa-ba50-4095-a534-4d40a19942df"
    },
    {
      "cell_type": "code",
      "execution_count": null,
      "metadata": {
        "id": "cc34c667-ab0c-408d-b1bc-e1471344f013"
      },
      "outputs": [],
      "source": [
        "'a' in 'abcd'"
      ],
      "id": "cc34c667-ab0c-408d-b1bc-e1471344f013"
    },
    {
      "cell_type": "markdown",
      "metadata": {
        "id": "98e33b8d-8136-4945-8db6-468e7d2bc0e4"
      },
      "source": [
        "이 코드를 바탕으로 in 의 사용방법을 유추하라. 유추한 기능을 chatGPT로\n",
        "확인하라."
      ],
      "id": "98e33b8d-8136-4945-8db6-468e7d2bc0e4"
    }
  ],
  "nbformat": 4,
  "nbformat_minor": 5,
  "metadata": {
    "kernelspec": {
      "name": "python3",
      "display_name": "Python 3 (ipykernel)",
      "language": "python"
    },
    "language_info": {
      "name": "python",
      "codemirror_mode": {
        "name": "ipython",
        "version": "3"
      },
      "file_extension": ".py",
      "mimetype": "text/x-python",
      "nbconvert_exporter": "python",
      "pygments_lexer": "ipython3",
      "version": "3.10.12"
    },
    "colab": {
      "provenance": []
    }
  }
}