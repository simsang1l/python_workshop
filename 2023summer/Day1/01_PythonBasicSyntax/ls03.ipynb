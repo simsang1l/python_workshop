{
  "cells": [
    {
      "cell_type": "markdown",
      "metadata": {
        "id": "01f91a07-9225-43cc-b0d0-4761e6ae5828"
      },
      "source": [
        "# Lesson 03: 파이썬 자료형 심화개념\n",
        "\n",
        "최규빈  \n",
        "2023-06-24\n",
        "\n",
        "<a href=\"https://colab.research.google.com/github/guebin/PP2023SUM/blob/main/posts/Day1/01_PythonBasicSyntax/ls03.ipynb\"><img src=\"https://colab.research.google.com/assets/colab-badge.svg\" style=\"text-align: left\"></a>\n",
        "\n",
        "# 튜플고급\n",
        "\n",
        "## 튜플을 왜 쓰지? (1)\n",
        "\n",
        "***그냥 리스트를 쓰면 되는거 아닌가 하는 생각이 듭니다. 그냥 튜플은 값이\n",
        "바뀌지 않는 리스트 느낌. 이게 왜 쓸모있지?***\n",
        "\n",
        "-   책의설명: 코딩을 하다보면 값을 바꾸지 말아야 할 것을 실수로 값을\n",
        "    바꾸는 경우가 있음. 이런 실수를 방지할 수 있다.\n",
        "-   shallow copy/deep copy 에 대한 개념을 모르면 생기는 여러가지 side\n",
        "    effect이 있음. 이러한 side effect을 막을 수 있는 무기임.\n",
        "\n",
        "## 슬기로운 튜플 사용 ($\\star\\star\\star\\star\\star$)\n",
        "\n",
        "### 상황1: 다중출력(?)\n",
        "\n",
        "`-` 예제: 여러변수를 동시에 출력하고 싶을 경우 (다중출력?)\n",
        "\n",
        "변수를 아래와 같이 선언하였다고 하자."
      ],
      "id": "01f91a07-9225-43cc-b0d0-4761e6ae5828"
    },
    {
      "cell_type": "code",
      "execution_count": 1,
      "metadata": {
        "vscode": {
          "languageId": "python"
        },
        "id": "06b07675-fb6b-4fdb-b776-873266cb3bfa"
      },
      "outputs": [],
      "source": [
        "a=1\n",
        "b=2\n",
        "c=3"
      ],
      "id": "06b07675-fb6b-4fdb-b776-873266cb3bfa"
    },
    {
      "cell_type": "markdown",
      "metadata": {
        "id": "fd264276-d9ef-41a2-9b89-fd7992d4620c"
      },
      "source": [
        "선언된 값을 확인하려면?"
      ],
      "id": "fd264276-d9ef-41a2-9b89-fd7992d4620c"
    },
    {
      "cell_type": "code",
      "execution_count": 2,
      "metadata": {
        "vscode": {
          "languageId": "python"
        },
        "id": "1a22ae5d-f779-4312-865b-49ce517af076",
        "outputId": "fd7d42be-dd8c-48c5-a05f-7d6dbb99c4a5",
        "colab": {
          "base_uri": "https://localhost:8080/"
        }
      },
      "outputs": [
        {
          "output_type": "execute_result",
          "data": {
            "text/plain": [
              "1"
            ]
          },
          "metadata": {},
          "execution_count": 2
        }
      ],
      "source": [
        "a"
      ],
      "id": "1a22ae5d-f779-4312-865b-49ce517af076"
    },
    {
      "cell_type": "code",
      "execution_count": 3,
      "metadata": {
        "vscode": {
          "languageId": "python"
        },
        "id": "dc70571e-9548-4daf-8330-2c0a016946cb",
        "outputId": "45ba7866-0597-428d-b127-f95e3894981c",
        "colab": {
          "base_uri": "https://localhost:8080/"
        }
      },
      "outputs": [
        {
          "output_type": "execute_result",
          "data": {
            "text/plain": [
              "2"
            ]
          },
          "metadata": {},
          "execution_count": 3
        }
      ],
      "source": [
        "b"
      ],
      "id": "dc70571e-9548-4daf-8330-2c0a016946cb"
    },
    {
      "cell_type": "code",
      "execution_count": 4,
      "metadata": {
        "vscode": {
          "languageId": "python"
        },
        "id": "ae1069c3-b5f0-42d3-b22e-b5e48bf1e5ec",
        "outputId": "c1e118a6-695b-4a80-9a39-17e8e5200093",
        "colab": {
          "base_uri": "https://localhost:8080/"
        }
      },
      "outputs": [
        {
          "output_type": "execute_result",
          "data": {
            "text/plain": [
              "3"
            ]
          },
          "metadata": {},
          "execution_count": 4
        }
      ],
      "source": [
        "c"
      ],
      "id": "ae1069c3-b5f0-42d3-b22e-b5e48bf1e5ec"
    },
    {
      "cell_type": "markdown",
      "metadata": {
        "id": "d2abe131-c65e-4c52-b544-b80ef714af27"
      },
      "source": [
        "튜플을 이용하면?"
      ],
      "id": "d2abe131-c65e-4c52-b544-b80ef714af27"
    },
    {
      "cell_type": "code",
      "execution_count": 5,
      "metadata": {
        "vscode": {
          "languageId": "python"
        },
        "id": "2c01c0f1-b1a7-4de1-8ee6-77e6f1b0d88e",
        "outputId": "9ff392cc-9855-4cdb-bdef-a48418da5557",
        "colab": {
          "base_uri": "https://localhost:8080/"
        }
      },
      "outputs": [
        {
          "output_type": "execute_result",
          "data": {
            "text/plain": [
              "(1, 2, 3)"
            ]
          },
          "metadata": {},
          "execution_count": 5
        }
      ],
      "source": [
        "a,b,c # 괄호하나 생략하는것이 이렇게 편하다.."
      ],
      "id": "2c01c0f1-b1a7-4de1-8ee6-77e6f1b0d88e"
    },
    {
      "cell_type": "markdown",
      "metadata": {
        "id": "069a319a-8668-4624-837e-ee17dde6e2b1"
      },
      "source": [
        "### 상황2: 다중할당\n",
        "\n",
        "`-` 예제: 다중할당1 (여러개의 변수를 동시에 선언하고 싶을 경우)"
      ],
      "id": "069a319a-8668-4624-837e-ee17dde6e2b1"
    },
    {
      "cell_type": "code",
      "execution_count": 6,
      "metadata": {
        "vscode": {
          "languageId": "python"
        },
        "id": "ded4b0c2-d334-49e3-96a8-738a7853a146"
      },
      "outputs": [],
      "source": [
        "name, age, sex, height, weight = 'Tom', 20, 'M', 180, 70"
      ],
      "id": "ded4b0c2-d334-49e3-96a8-738a7853a146"
    },
    {
      "cell_type": "code",
      "execution_count": 7,
      "metadata": {
        "vscode": {
          "languageId": "python"
        },
        "id": "c8937e3b-ebba-495f-8be2-daa5d716a567",
        "outputId": "6f2774db-d429-4d2a-8989-b1bb667daeb0",
        "colab": {
          "base_uri": "https://localhost:8080/"
        }
      },
      "outputs": [
        {
          "output_type": "execute_result",
          "data": {
            "text/plain": [
              "('Tom', 20, 'M', 180, 70)"
            ]
          },
          "metadata": {},
          "execution_count": 7
        }
      ],
      "source": [
        "name, age, sex, height, weight"
      ],
      "id": "c8937e3b-ebba-495f-8be2-daa5d716a567"
    },
    {
      "cell_type": "code",
      "execution_count": 8,
      "metadata": {
        "vscode": {
          "languageId": "python"
        },
        "id": "6ebffec9-945a-490f-b4f3-fbef20b804f4",
        "outputId": "d08591ba-6328-411c-8f8f-fc9fe60990f9",
        "colab": {
          "base_uri": "https://localhost:8080/"
        }
      },
      "outputs": [
        {
          "output_type": "execute_result",
          "data": {
            "text/plain": [
              "180"
            ]
          },
          "metadata": {},
          "execution_count": 8
        }
      ],
      "source": [
        "height"
      ],
      "id": "6ebffec9-945a-490f-b4f3-fbef20b804f4"
    },
    {
      "cell_type": "markdown",
      "metadata": {
        "id": "e13c9815-8f7a-477f-a69c-8f3690af314d"
      },
      "source": [
        "`-` 예제: 다중할당2, 위도와 경도"
      ],
      "id": "e13c9815-8f7a-477f-a69c-8f3690af314d"
    },
    {
      "cell_type": "code",
      "execution_count": 9,
      "metadata": {
        "vscode": {
          "languageId": "python"
        },
        "id": "efe1cb3c-1ca5-4ece-805e-346722ce59f2",
        "outputId": "2211f8b0-519c-4c0d-a6c5-e2fc44047188",
        "colab": {
          "base_uri": "https://localhost:8080/"
        }
      },
      "outputs": [
        {
          "output_type": "execute_result",
          "data": {
            "text/plain": [
              "(37, 127)"
            ]
          },
          "metadata": {},
          "execution_count": 9
        }
      ],
      "source": [
        "coor = (37,127) # 서울\n",
        "coor"
      ],
      "id": "efe1cb3c-1ca5-4ece-805e-346722ce59f2"
    },
    {
      "cell_type": "code",
      "execution_count": 10,
      "metadata": {
        "vscode": {
          "languageId": "python"
        },
        "id": "e2bae1a1-b352-484d-a2c8-a130f792325e"
      },
      "outputs": [],
      "source": [
        "lat, lon = coor"
      ],
      "id": "e2bae1a1-b352-484d-a2c8-a130f792325e"
    },
    {
      "cell_type": "code",
      "execution_count": 11,
      "metadata": {
        "vscode": {
          "languageId": "python"
        },
        "id": "49572a0d-43b0-4bd7-96af-104ca3575c19",
        "outputId": "6d137e25-dd46-48fd-87eb-5f16119e8993",
        "colab": {
          "base_uri": "https://localhost:8080/"
        }
      },
      "outputs": [
        {
          "output_type": "execute_result",
          "data": {
            "text/plain": [
              "37"
            ]
          },
          "metadata": {},
          "execution_count": 11
        }
      ],
      "source": [
        "lat"
      ],
      "id": "49572a0d-43b0-4bd7-96af-104ca3575c19"
    },
    {
      "cell_type": "code",
      "execution_count": 12,
      "metadata": {
        "vscode": {
          "languageId": "python"
        },
        "id": "4d93fd46-72a4-4a56-936a-98712fde2d50",
        "outputId": "d6b5d752-41e3-4aee-d5ac-712316d9bb6f",
        "colab": {
          "base_uri": "https://localhost:8080/"
        }
      },
      "outputs": [
        {
          "output_type": "execute_result",
          "data": {
            "text/plain": [
              "127"
            ]
          },
          "metadata": {},
          "execution_count": 12
        }
      ],
      "source": [
        "lon"
      ],
      "id": "4d93fd46-72a4-4a56-936a-98712fde2d50"
    },
    {
      "cell_type": "markdown",
      "metadata": {
        "id": "f2bb835f-66da-4090-99ff-dd40f3792059"
      },
      "source": [
        "`-` 잠깐만: 다중할당은 꼭 튜플에서만 가능한가?\n",
        "\n",
        "그건 아니다…"
      ],
      "id": "f2bb835f-66da-4090-99ff-dd40f3792059"
    },
    {
      "cell_type": "code",
      "execution_count": 13,
      "metadata": {
        "vscode": {
          "languageId": "python"
        },
        "id": "e820ce8c-443d-440f-a29b-633d0597cd45",
        "outputId": "2a14d55e-e45a-44a8-d161-6eb40b105969",
        "colab": {
          "base_uri": "https://localhost:8080/"
        }
      },
      "outputs": [
        {
          "output_type": "execute_result",
          "data": {
            "text/plain": [
              "(1, 2, 3)"
            ]
          },
          "metadata": {},
          "execution_count": 13
        }
      ],
      "source": [
        "[x,y,z] = [1,2,3]\n",
        "x,y,z # 다중출력"
      ],
      "id": "e820ce8c-443d-440f-a29b-633d0597cd45"
    },
    {
      "cell_type": "code",
      "execution_count": 14,
      "metadata": {
        "vscode": {
          "languageId": "python"
        },
        "id": "aa9d1836-20ed-4220-a733-024f73e60985",
        "outputId": "e92e3c71-f87a-4e92-edb8-02af25f26793",
        "colab": {
          "base_uri": "https://localhost:8080/"
        }
      },
      "outputs": [
        {
          "output_type": "execute_result",
          "data": {
            "text/plain": [
              "('h', 'i')"
            ]
          },
          "metadata": {},
          "execution_count": 14
        }
      ],
      "source": [
        "[x,y] = 'hi'\n",
        "x,y"
      ],
      "id": "aa9d1836-20ed-4220-a733-024f73e60985"
    },
    {
      "cell_type": "markdown",
      "metadata": {
        "id": "4378e462-f9e0-4ab3-bce5-8375162255c8"
      },
      "source": [
        "튜플과 같이 사용하면 가독성이 극대화 (그래서 다중할당은 거의 튜플과\n",
        "세트로 사용함)"
      ],
      "id": "4378e462-f9e0-4ab3-bce5-8375162255c8"
    },
    {
      "cell_type": "code",
      "execution_count": 15,
      "metadata": {
        "vscode": {
          "languageId": "python"
        },
        "id": "08dc00f2-5fda-4500-9f0b-ca6636ee47a6",
        "outputId": "a8c9a39b-fa73-4fce-a2ed-6552dac61381",
        "colab": {
          "base_uri": "https://localhost:8080/"
        }
      },
      "outputs": [
        {
          "output_type": "execute_result",
          "data": {
            "text/plain": [
              "(1, 2, 3)"
            ]
          },
          "metadata": {},
          "execution_count": 15
        }
      ],
      "source": [
        "x,y,z = 1,2,3\n",
        "x,y,z # 다중출력"
      ],
      "id": "08dc00f2-5fda-4500-9f0b-ca6636ee47a6"
    },
    {
      "cell_type": "code",
      "execution_count": 16,
      "metadata": {
        "vscode": {
          "languageId": "python"
        },
        "id": "665565bf-addc-4cf2-b59c-7cad0b196e7f",
        "outputId": "412540cb-55b5-4175-9da4-e18474229eb8",
        "colab": {
          "base_uri": "https://localhost:8080/"
        }
      },
      "outputs": [
        {
          "output_type": "execute_result",
          "data": {
            "text/plain": [
              "('h', 'i')"
            ]
          },
          "metadata": {},
          "execution_count": 16
        }
      ],
      "source": [
        "x,y = 'hi'\n",
        "x,y"
      ],
      "id": "665565bf-addc-4cf2-b59c-7cad0b196e7f"
    },
    {
      "cell_type": "markdown",
      "metadata": {
        "id": "8315516a-4c74-4fa1-8d43-740ed8034b2b"
      },
      "source": [
        "### 상황3: 변수값을 교환\n",
        "\n",
        "`-` 예제: 임시변수 사용없이 두 변수의 값을 교환"
      ],
      "id": "8315516a-4c74-4fa1-8d43-740ed8034b2b"
    },
    {
      "cell_type": "code",
      "execution_count": 17,
      "metadata": {
        "vscode": {
          "languageId": "python"
        },
        "id": "841f23b2-5f10-4f0a-8299-c33585986344"
      },
      "outputs": [],
      "source": [
        "a=10\n",
        "b=20"
      ],
      "id": "841f23b2-5f10-4f0a-8299-c33585986344"
    },
    {
      "cell_type": "code",
      "execution_count": 18,
      "metadata": {
        "vscode": {
          "languageId": "python"
        },
        "id": "d290eda3-8735-458f-9d6e-b5126aad3214"
      },
      "outputs": [],
      "source": [
        "a,b = b,a"
      ],
      "id": "d290eda3-8735-458f-9d6e-b5126aad3214"
    },
    {
      "cell_type": "code",
      "execution_count": 19,
      "metadata": {
        "vscode": {
          "languageId": "python"
        },
        "id": "ba0050bf-a0f1-4e14-91bd-384577a887e2",
        "outputId": "ce2da35e-b4b3-4783-a9f1-a506fe57461f",
        "colab": {
          "base_uri": "https://localhost:8080/"
        }
      },
      "outputs": [
        {
          "output_type": "execute_result",
          "data": {
            "text/plain": [
              "20"
            ]
          },
          "metadata": {},
          "execution_count": 19
        }
      ],
      "source": [
        "a"
      ],
      "id": "ba0050bf-a0f1-4e14-91bd-384577a887e2"
    },
    {
      "cell_type": "code",
      "execution_count": 20,
      "metadata": {
        "vscode": {
          "languageId": "python"
        },
        "id": "16996940-3400-44e1-b020-bf2fc445a42d",
        "outputId": "95821345-585b-4630-af6e-aadf1f06e438",
        "colab": {
          "base_uri": "https://localhost:8080/"
        }
      },
      "outputs": [
        {
          "output_type": "execute_result",
          "data": {
            "text/plain": [
              "10"
            ]
          },
          "metadata": {},
          "execution_count": 20
        }
      ],
      "source": [
        "b"
      ],
      "id": "16996940-3400-44e1-b020-bf2fc445a42d"
    },
    {
      "cell_type": "markdown",
      "metadata": {
        "id": "85ea6f0c-c087-4993-a092-1aeded21f7bc"
      },
      "source": [
        "### 상황4: for문과 함께\n",
        "\n",
        "`-` 예제: for문과 튜플"
      ],
      "id": "85ea6f0c-c087-4993-a092-1aeded21f7bc"
    },
    {
      "cell_type": "code",
      "execution_count": 21,
      "metadata": {
        "vscode": {
          "languageId": "python"
        },
        "id": "aee690ee-a28d-4578-ae6b-92f83c2fa422",
        "outputId": "df034438-bc1c-4986-f4ce-adc5ecea442e",
        "colab": {
          "base_uri": "https://localhost:8080/"
        }
      },
      "outputs": [
        {
          "output_type": "execute_result",
          "data": {
            "text/plain": [
              "[['guebin', 202112345, 'M'],\n",
              " ['iu', 202254321, 'F'],\n",
              " ['hodong', 202011223, 'M']]"
            ]
          },
          "metadata": {},
          "execution_count": 21
        }
      ],
      "source": [
        "lst = [['guebin', 202112345, 'M'],\n",
        "       ['iu',202254321, 'F'],\n",
        "       ['hodong', 202011223, 'M']]\n",
        "lst"
      ],
      "id": "aee690ee-a28d-4578-ae6b-92f83c2fa422"
    },
    {
      "cell_type": "code",
      "execution_count": 22,
      "metadata": {
        "vscode": {
          "languageId": "python"
        },
        "id": "88119640-3b53-43aa-ba71-09b3502035c7",
        "outputId": "7491a724-a0d2-450d-f907-e89e517b7f63",
        "colab": {
          "base_uri": "https://localhost:8080/"
        }
      },
      "outputs": [
        {
          "output_type": "stream",
          "name": "stdout",
          "text": [
            "['guebin', 202112345, 'M']\n",
            "['iu', 202254321, 'F']\n",
            "['hodong', 202011223, 'M']\n"
          ]
        }
      ],
      "source": [
        "for i in lst:\n",
        "    print(i)"
      ],
      "id": "88119640-3b53-43aa-ba71-09b3502035c7"
    },
    {
      "cell_type": "code",
      "execution_count": 23,
      "metadata": {
        "vscode": {
          "languageId": "python"
        },
        "id": "2c530e4b-7d41-4f35-8e00-9003b9437104",
        "outputId": "d8ccc787-bce7-4e15-f8a7-f45c5e8e8c58",
        "colab": {
          "base_uri": "https://localhost:8080/"
        }
      },
      "outputs": [
        {
          "output_type": "stream",
          "name": "stdout",
          "text": [
            "guebin\n",
            "iu\n",
            "hodong\n"
          ]
        }
      ],
      "source": [
        "for name,studentid,sex in lst:\n",
        "    print(name)"
      ],
      "id": "2c530e4b-7d41-4f35-8e00-9003b9437104"
    },
    {
      "cell_type": "code",
      "execution_count": 24,
      "metadata": {
        "vscode": {
          "languageId": "python"
        },
        "id": "21dbd3df-9a7c-464e-ac1b-09c4c78279b4",
        "outputId": "1bf9665b-dea4-4af2-9caa-a136eb2bb31e",
        "colab": {
          "base_uri": "https://localhost:8080/"
        }
      },
      "outputs": [
        {
          "output_type": "stream",
          "name": "stdout",
          "text": [
            "guebin M\n",
            "iu F\n",
            "hodong M\n"
          ]
        }
      ],
      "source": [
        "for name,studentid,sex in lst:\n",
        "    print(name,sex)"
      ],
      "id": "21dbd3df-9a7c-464e-ac1b-09c4c78279b4"
    },
    {
      "cell_type": "markdown",
      "metadata": {
        "id": "4f3bd637-77f4-470e-ae3a-4cf78be63c4e"
      },
      "source": [
        "`-` 예제: for문과 튜플, dummy variable `_`"
      ],
      "id": "4f3bd637-77f4-470e-ae3a-4cf78be63c4e"
    },
    {
      "cell_type": "code",
      "execution_count": null,
      "metadata": {
        "vscode": {
          "languageId": "python"
        },
        "id": "df12174e-3017-4b19-a759-bbbaeedeea61",
        "outputId": "b0104978-faa9-4466-96f3-5e35b88f8e06"
      },
      "outputs": [
        {
          "output_type": "stream",
          "name": "stdout",
          "text": [
            "202112345\n",
            "202254321\n",
            "202011223"
          ]
        }
      ],
      "source": [
        "for name,studentid,sex in lst:\n",
        "    print(studentid)"
      ],
      "id": "df12174e-3017-4b19-a759-bbbaeedeea61"
    },
    {
      "cell_type": "code",
      "execution_count": null,
      "metadata": {
        "vscode": {
          "languageId": "python"
        },
        "id": "0b305e3b-ef6a-4a1a-b772-5e6a0876be11",
        "outputId": "54e90af3-cd21-4ef0-e98e-485c2b849abe"
      },
      "outputs": [
        {
          "output_type": "stream",
          "name": "stdout",
          "text": [
            "202112345\n",
            "202254321\n",
            "202011223"
          ]
        }
      ],
      "source": [
        "for _,studentid,_ in lst:\n",
        "    print(studentid)"
      ],
      "id": "0b305e3b-ef6a-4a1a-b772-5e6a0876be11"
    },
    {
      "cell_type": "code",
      "execution_count": null,
      "metadata": {
        "vscode": {
          "languageId": "python"
        },
        "id": "5575757b-3820-4174-8d13-9feeebacc521",
        "outputId": "02ebbdb1-5a3d-4fcd-be99-76197837e552"
      },
      "outputs": [
        {
          "output_type": "stream",
          "name": "stdout",
          "text": [
            "M\n",
            "F\n",
            "M"
          ]
        }
      ],
      "source": [
        "for _,_,sex in lst:\n",
        "    print(sex)"
      ],
      "id": "5575757b-3820-4174-8d13-9feeebacc521"
    },
    {
      "cell_type": "code",
      "execution_count": null,
      "metadata": {
        "vscode": {
          "languageId": "python"
        },
        "id": "f97bbfb5-db61-4c96-b01e-4a78592c5ffb",
        "outputId": "8f43ecf5-1a61-4126-f2dd-0d931870cee3"
      },
      "outputs": [
        {
          "output_type": "stream",
          "name": "stdout",
          "text": [
            "guebin M\n",
            "iu F\n",
            "hodong M"
          ]
        }
      ],
      "source": [
        "for name,_,sex in lst:\n",
        "    print(name,sex)"
      ],
      "id": "f97bbfb5-db61-4c96-b01e-4a78592c5ffb"
    },
    {
      "cell_type": "markdown",
      "metadata": {
        "id": "baf6df8f-113b-4819-9c73-8cb1f09de46b"
      },
      "source": [
        "`-` 예제: for문과 튜플, \\* 연산자\n",
        "\n",
        "(motive)"
      ],
      "id": "baf6df8f-113b-4819-9c73-8cb1f09de46b"
    },
    {
      "cell_type": "code",
      "execution_count": null,
      "metadata": {
        "vscode": {
          "languageId": "python"
        },
        "id": "d6851345-1c15-44ff-b1ae-bcdc6c1ec103",
        "outputId": "9adbf1ad-7817-4918-c2c7-dfadf70b7480"
      },
      "outputs": [
        {
          "output_type": "stream",
          "name": "stdout",
          "text": [
            "guebin\n",
            "iu\n",
            "hodong"
          ]
        }
      ],
      "source": [
        "for name,_,_  in lst:\n",
        "    print(name)"
      ],
      "id": "d6851345-1c15-44ff-b1ae-bcdc6c1ec103"
    },
    {
      "cell_type": "markdown",
      "metadata": {
        "id": "9415d9a1-8464-4122-9113-da4f565193da"
      },
      "source": [
        "-   귀찮냐..\n",
        "\n",
        "(신기술)"
      ],
      "id": "9415d9a1-8464-4122-9113-da4f565193da"
    },
    {
      "cell_type": "code",
      "execution_count": null,
      "metadata": {
        "vscode": {
          "languageId": "python"
        },
        "id": "993d0243-22da-45d8-9283-99504e93b34c",
        "outputId": "3f23935c-af7b-4952-f31e-bf388cb6298a"
      },
      "outputs": [
        {
          "output_type": "stream",
          "name": "stdout",
          "text": [
            "guebin\n",
            "iu\n",
            "hodong"
          ]
        }
      ],
      "source": [
        "for name,*args  in lst:\n",
        "    print(name)"
      ],
      "id": "993d0243-22da-45d8-9283-99504e93b34c"
    },
    {
      "cell_type": "markdown",
      "metadata": {
        "id": "a03adbf7-8b42-4024-9ee5-357b08b9dec6"
      },
      "source": [
        "### 상황4: 언패킹연산자와 함께\n",
        "\n",
        "`-` 예제: 튜플과 언패킹연산자 `*`"
      ],
      "id": "a03adbf7-8b42-4024-9ee5-357b08b9dec6"
    },
    {
      "cell_type": "code",
      "execution_count": 25,
      "metadata": {
        "vscode": {
          "languageId": "python"
        },
        "id": "2a230b88-d333-4805-a9b0-8f2ca4e5568b",
        "outputId": "2551ce50-42a3-488b-c872-31c6a5e5b9a1",
        "colab": {
          "base_uri": "https://localhost:8080/"
        }
      },
      "outputs": [
        {
          "output_type": "execute_result",
          "data": {
            "text/plain": [
              "(1, 2, [3, 4, 5, 6, 7, 8, 9, 10])"
            ]
          },
          "metadata": {},
          "execution_count": 25
        }
      ],
      "source": [
        "head, body, *tail = range(1,11)\n",
        "head, body, tail"
      ],
      "id": "2a230b88-d333-4805-a9b0-8f2ca4e5568b"
    },
    {
      "cell_type": "code",
      "execution_count": 26,
      "metadata": {
        "vscode": {
          "languageId": "python"
        },
        "id": "7d30b3b5-7d7f-40f1-a14f-c778d4fea53a",
        "outputId": "e5f4c0a4-6efb-47bc-9060-4d7199c060a2",
        "colab": {
          "base_uri": "https://localhost:8080/"
        }
      },
      "outputs": [
        {
          "output_type": "execute_result",
          "data": {
            "text/plain": [
              "(1, 2, [3, 4, 5, 6, 7], 8, 9, 10)"
            ]
          },
          "metadata": {},
          "execution_count": 26
        }
      ],
      "source": [
        "head1,head2, *body, tail1,tail2,tail3 = range(1,11)\n",
        "head1,head2, body, tail1,tail2,tail3"
      ],
      "id": "7d30b3b5-7d7f-40f1-a14f-c778d4fea53a"
    },
    {
      "cell_type": "code",
      "execution_count": 27,
      "metadata": {
        "vscode": {
          "languageId": "python"
        },
        "id": "dafd87a9-10c5-490d-85b6-82ab4feb3bb9",
        "outputId": "9f7b586b-c00a-4e92-e1ad-9e8176544bd5",
        "colab": {
          "base_uri": "https://localhost:8080/"
        }
      },
      "outputs": [
        {
          "output_type": "execute_result",
          "data": {
            "text/plain": [
              "([1, 2, 3, 4, 5, 6, 7, 8], 9, 10)"
            ]
          },
          "metadata": {},
          "execution_count": 27
        }
      ],
      "source": [
        "*head, body, tail = range(1,11)\n",
        "head, body, tail"
      ],
      "id": "dafd87a9-10c5-490d-85b6-82ab4feb3bb9"
    },
    {
      "cell_type": "markdown",
      "metadata": {
        "id": "e08f0467-4f80-4726-bf2d-1f40abcadf56"
      },
      "source": [
        "------------------------------------------------------------------------\n",
        "\n",
        "***Appendix:*** 언패킹연산자\n",
        "\n",
        "(관찰)\n",
        "\n",
        "그러고 보니까..\n",
        "\n",
        "``` python\n",
        "head1,head2, body, tail1,tail2,tail3  = (1, 2, [3,4,5,6,7], 8, 9, 10)\n",
        "head1,head2, *body, tail1,tail2,tail3   = (1, 2, 3,4,5,6,7, 8, 9, 10)\n",
        "```\n",
        "\n",
        "이렇다는 거잖아?\n",
        "\n",
        "`*`를 붙이면 1차원 자료구조가 풀린다..?"
      ],
      "id": "e08f0467-4f80-4726-bf2d-1f40abcadf56"
    },
    {
      "cell_type": "code",
      "execution_count": 28,
      "metadata": {
        "vscode": {
          "languageId": "python"
        },
        "id": "4b615f0f-ee18-4d1c-99fc-be2c0cc1c65b",
        "outputId": "8a9d5d17-c33a-49b3-a725-47e12b930dc5",
        "colab": {
          "base_uri": "https://localhost:8080/",
          "height": 138
        }
      },
      "outputs": [
        {
          "output_type": "error",
          "ename": "SyntaxError",
          "evalue": "ignored",
          "traceback": [
            "\u001b[0;36m  File \u001b[0;32m\"<ipython-input-28-a543979d8d3c>\"\u001b[0;36m, line \u001b[0;32m1\u001b[0m\n\u001b[0;31m    *[1,2,3] # ?? 뭐하누?\u001b[0m\n\u001b[0m    ^\u001b[0m\n\u001b[0;31mSyntaxError\u001b[0m\u001b[0;31m:\u001b[0m can't use starred expression here\n"
          ]
        }
      ],
      "source": [
        "*[1,2,3] # ?? 뭐하누?"
      ],
      "id": "4b615f0f-ee18-4d1c-99fc-be2c0cc1c65b"
    },
    {
      "cell_type": "code",
      "execution_count": 29,
      "metadata": {
        "vscode": {
          "languageId": "python"
        },
        "id": "98405c53-8c1d-47ea-9e1f-ec22bf41f5ce",
        "outputId": "96b24e64-3deb-4bef-8cfa-f3229404aec3",
        "colab": {
          "base_uri": "https://localhost:8080/"
        }
      },
      "outputs": [
        {
          "output_type": "stream",
          "name": "stdout",
          "text": [
            "1 2 3\n"
          ]
        }
      ],
      "source": [
        "print(*[1,2,3]) ## 이런 느낌!!"
      ],
      "id": "98405c53-8c1d-47ea-9e1f-ec22bf41f5ce"
    },
    {
      "cell_type": "code",
      "execution_count": 30,
      "metadata": {
        "vscode": {
          "languageId": "python"
        },
        "id": "64c86dcd-83ad-4c56-b0d3-b09331afcadb",
        "outputId": "66c6b440-5b55-4c60-8e52-6f16692b2aeb",
        "colab": {
          "base_uri": "https://localhost:8080/"
        }
      },
      "outputs": [
        {
          "output_type": "stream",
          "name": "stdout",
          "text": [
            "[1, 2, 3]\n"
          ]
        }
      ],
      "source": [
        "print([1,2,3]) # 비교"
      ],
      "id": "64c86dcd-83ad-4c56-b0d3-b09331afcadb"
    },
    {
      "cell_type": "markdown",
      "metadata": {
        "id": "2152eaf8-8b59-4d5f-b491-78ff45d9aed8"
      },
      "source": [
        "------------------------------------------------------------------------\n",
        "\n",
        "## 튜플을 왜 쓰지? (2)\n",
        "\n",
        "`-` 책의 설명 (이 설명이 꼭 파이썬에 한정되는 것은 아님. 모든 언어에\n",
        "존재하는 불변형 객체에 적용가능한 설명)\n",
        "\n",
        "-   실수방지\n",
        "-   빠르다, 다중작업에 유리하다, 여러사람과 작업하기에 유리하다,\n",
        "    깊은복사/얕은복사시 원하지않는 오류(side effect이라고 함)를 방지할\n",
        "    수 있다, 메모리관리에도 유리함…\n",
        "-   느낌: 불변형은 기능제한이 있는데 가볍고 빠른, 가변형은 기능은\n",
        "    풍부하지만 약간 느리고 무거운 느낌임 (불변형:라면사리, 가변형:라면)\n",
        "\n",
        "`-` 제 생각\n",
        "\n",
        "-   튜플의 장점은 소괄호의 생략에 있음 (이것은 파이썬과 줄리아만 가능)\n",
        "-   이것이 언패킹구문과 결합하여 엄청난 가독성을 제공\n",
        "\n",
        "(예시) 튜플의 막강함"
      ],
      "id": "2152eaf8-8b59-4d5f-b491-78ff45d9aed8"
    },
    {
      "cell_type": "code",
      "execution_count": 31,
      "metadata": {
        "vscode": {
          "languageId": "python"
        },
        "id": "cd8c4666-26b7-48b5-afdd-dea6666655c6"
      },
      "outputs": [],
      "source": [
        "def mycal(a,b):\n",
        "    return a+b, a-b, a*b, a/b  #여러개의 값을 리턴하는듯 보임. -> 사실은 길이가 4인 튜플 1개를 리턴"
      ],
      "id": "cd8c4666-26b7-48b5-afdd-dea6666655c6"
    },
    {
      "cell_type": "code",
      "execution_count": 32,
      "metadata": {
        "vscode": {
          "languageId": "python"
        },
        "id": "599212a8-3516-4393-8350-dcfda7be15e1",
        "outputId": "38ae7290-f877-475f-8d1e-c88d3aa8d1be",
        "colab": {
          "base_uri": "https://localhost:8080/"
        }
      },
      "outputs": [
        {
          "output_type": "execute_result",
          "data": {
            "text/plain": [
              "(5, -1, 6, 0.6666666666666666)"
            ]
          },
          "metadata": {},
          "execution_count": 32
        }
      ],
      "source": [
        "mycal(2,3)"
      ],
      "id": "599212a8-3516-4393-8350-dcfda7be15e1"
    },
    {
      "cell_type": "code",
      "execution_count": 33,
      "metadata": {
        "vscode": {
          "languageId": "python"
        },
        "id": "bf4f9113-23f0-4ded-9450-65c80bce3e15"
      },
      "outputs": [],
      "source": [
        "_, _, mulrslt, _ = mycal(2,3) # 병렬할당"
      ],
      "id": "bf4f9113-23f0-4ded-9450-65c80bce3e15"
    },
    {
      "cell_type": "code",
      "execution_count": 34,
      "metadata": {
        "vscode": {
          "languageId": "python"
        },
        "id": "3c844cbb-08c9-4720-9467-c1554c320377",
        "outputId": "5e752683-106b-437b-ea81-5b0f92fd13a2",
        "colab": {
          "base_uri": "https://localhost:8080/"
        }
      },
      "outputs": [
        {
          "output_type": "execute_result",
          "data": {
            "text/plain": [
              "6"
            ]
          },
          "metadata": {},
          "execution_count": 34
        }
      ],
      "source": [
        "mulrslt"
      ],
      "id": "3c844cbb-08c9-4720-9467-c1554c320377"
    },
    {
      "cell_type": "markdown",
      "metadata": {
        "id": "bfbf6a64-1c11-4c97-9e7b-a8c308b3db65"
      },
      "source": [
        "`-` 의문: 왜 튜플만 괄호를 생략할 수 있지?\n",
        "\n",
        "`-` 내 망상\n",
        "\n",
        "-   튜플을 먼저 만들고, 괄호를 생략하는 문법을 추가한것은 아닐것임\n",
        "-   원래 괄호없이 컴마만 대충찍어서 선언가능한 아주 간단한 타입의\n",
        "    벡터형을 만들고 싶었을 것임.\n",
        "-   왜? 괄호없는 벡터를 만들고 + 언패킹을 사용하면 여러가지 구문들이\n",
        "    엄청나게 간단해짐.\n",
        "-   컴마컴마로 선언하는 벡터는 한 두번 쓰고 버리는 경우가 많으며 대부분\n",
        "    이름도 필요없음 $\\to$ 원소에 접근해서 sorting하여 순서를 바꾸고\n",
        "    싶다던가 원소를 추가할 이유가 없음 $\\to$ 비싼 가변형으로 만들 이유가\n",
        "    없다는 것..\n",
        "-   우리가 필요한 것: 데이터가 벡터의 형태로 모여있기만 하면 된다!\n",
        "\n",
        "`-` 다른 사람들 의견 (컴공과 인터뷰)\n",
        "\n",
        "-   튜플 + 언패킹에 충격 $\\to$ 파이썬 편하더라..\n",
        "\n",
        "# 인덱싱고급 (스트라이딩)\n",
        "\n",
        "`-` 스트라이딩 \\[start:stop:step\\]"
      ],
      "id": "bfbf6a64-1c11-4c97-9e7b-a8c308b3db65"
    },
    {
      "cell_type": "code",
      "execution_count": null,
      "metadata": {
        "vscode": {
          "languageId": "python"
        },
        "id": "746c4325-bfb6-40a5-85b0-55264f480277"
      },
      "outputs": [],
      "source": [
        "lst = list('abcdefgh')\n",
        "lst"
      ],
      "id": "746c4325-bfb6-40a5-85b0-55264f480277"
    },
    {
      "cell_type": "code",
      "execution_count": null,
      "metadata": {
        "vscode": {
          "languageId": "python"
        },
        "id": "3b77afa4-24e5-4167-8f4a-df303c123603"
      },
      "outputs": [],
      "source": [
        "lst[0:8:2]"
      ],
      "id": "3b77afa4-24e5-4167-8f4a-df303c123603"
    },
    {
      "cell_type": "markdown",
      "metadata": {
        "id": "036a9b44-dc21-4f3f-85c6-2996ebd52396"
      },
      "source": [
        "`-` 생략"
      ],
      "id": "036a9b44-dc21-4f3f-85c6-2996ebd52396"
    },
    {
      "cell_type": "code",
      "execution_count": null,
      "metadata": {
        "vscode": {
          "languageId": "python"
        },
        "id": "7725f84f-4752-4b35-949d-731ae845dbe6"
      },
      "outputs": [],
      "source": [
        "lst[::2]"
      ],
      "id": "7725f84f-4752-4b35-949d-731ae845dbe6"
    },
    {
      "cell_type": "code",
      "execution_count": null,
      "metadata": {
        "vscode": {
          "languageId": "python"
        },
        "id": "97f4b707-c8b2-4d5b-b41d-34db62aebc01"
      },
      "outputs": [],
      "source": [
        "lst[0::2]"
      ],
      "id": "97f4b707-c8b2-4d5b-b41d-34db62aebc01"
    },
    {
      "cell_type": "code",
      "execution_count": null,
      "metadata": {
        "vscode": {
          "languageId": "python"
        },
        "id": "f16ffa50-91b5-4deb-bf7f-51f0fadaba50"
      },
      "outputs": [],
      "source": [
        "lst[:8:2]"
      ],
      "id": "f16ffa50-91b5-4deb-bf7f-51f0fadaba50"
    },
    {
      "cell_type": "markdown",
      "metadata": {
        "id": "e8a9a40c-e7e6-485b-975e-cd27338d5d97"
      },
      "source": [
        "`-` 예제: 짝수/홀수 원소 추출"
      ],
      "id": "e8a9a40c-e7e6-485b-975e-cd27338d5d97"
    },
    {
      "cell_type": "code",
      "execution_count": null,
      "metadata": {
        "vscode": {
          "languageId": "python"
        },
        "id": "75392e69-7a81-4dc9-84a8-5100dcd4f7b2"
      },
      "outputs": [],
      "source": [
        "lst"
      ],
      "id": "75392e69-7a81-4dc9-84a8-5100dcd4f7b2"
    },
    {
      "cell_type": "code",
      "execution_count": null,
      "metadata": {
        "vscode": {
          "languageId": "python"
        },
        "id": "f88cfef8-356d-44ff-a31d-87ae1b843bec"
      },
      "outputs": [],
      "source": [
        "lst[::2] # 1,3,5,7, ..."
      ],
      "id": "f88cfef8-356d-44ff-a31d-87ae1b843bec"
    },
    {
      "cell_type": "code",
      "execution_count": null,
      "metadata": {
        "vscode": {
          "languageId": "python"
        },
        "id": "855f138a-f512-4aa2-b414-2df441db5694"
      },
      "outputs": [],
      "source": [
        "lst[1::2] # 2,4,6,8, ..."
      ],
      "id": "855f138a-f512-4aa2-b414-2df441db5694"
    },
    {
      "cell_type": "markdown",
      "metadata": {
        "id": "b9270d7b-caff-4a31-8a39-505db41546b3"
      },
      "source": [
        "`-` step = -1 이면?"
      ],
      "id": "b9270d7b-caff-4a31-8a39-505db41546b3"
    },
    {
      "cell_type": "code",
      "execution_count": null,
      "metadata": {
        "vscode": {
          "languageId": "python"
        },
        "id": "5b80c69c-3675-49e2-844a-9bd57d6b05bc"
      },
      "outputs": [],
      "source": [
        "lst"
      ],
      "id": "5b80c69c-3675-49e2-844a-9bd57d6b05bc"
    },
    {
      "cell_type": "code",
      "execution_count": null,
      "metadata": {
        "vscode": {
          "languageId": "python"
        },
        "id": "50e0b079-cb26-4316-b086-cf42f2f748c9"
      },
      "outputs": [],
      "source": [
        "lst[::-1]"
      ],
      "id": "50e0b079-cb26-4316-b086-cf42f2f748c9"
    },
    {
      "cell_type": "markdown",
      "metadata": {
        "id": "d3d21732-f716-46e8-b870-94564c1f2606"
      },
      "source": [
        "-   reverse와 같은 기능\n",
        "\n",
        "(reverse)와 비교\n",
        "\n",
        "관찰1: reverse 메소드는 리스트 자체를 변화시킴"
      ],
      "id": "d3d21732-f716-46e8-b870-94564c1f2606"
    },
    {
      "cell_type": "code",
      "execution_count": null,
      "metadata": {
        "vscode": {
          "languageId": "python"
        },
        "id": "e3ca42c0-b394-4027-a75b-12a6c0002e75"
      },
      "outputs": [],
      "source": [
        "lst = list('abcdefgh')\n",
        "lst"
      ],
      "id": "e3ca42c0-b394-4027-a75b-12a6c0002e75"
    },
    {
      "cell_type": "code",
      "execution_count": null,
      "metadata": {
        "vscode": {
          "languageId": "python"
        },
        "id": "42caffab-5428-4a62-9fcb-d93e0c284288"
      },
      "outputs": [],
      "source": [
        "lst.reverse() #리버스는\n",
        "lst"
      ],
      "id": "42caffab-5428-4a62-9fcb-d93e0c284288"
    },
    {
      "cell_type": "markdown",
      "metadata": {
        "id": "caf18a8c-cee4-45fc-a196-7a9ae523256b"
      },
      "source": [
        "관찰2: \\[::-1\\]는 리스트는 변화시키지 않음"
      ],
      "id": "caf18a8c-cee4-45fc-a196-7a9ae523256b"
    },
    {
      "cell_type": "code",
      "execution_count": null,
      "metadata": {
        "vscode": {
          "languageId": "python"
        },
        "id": "99b1e4ba-56bf-454e-b048-df767d6293b7"
      },
      "outputs": [],
      "source": [
        "lst = list('abcdefgh')\n",
        "lst"
      ],
      "id": "99b1e4ba-56bf-454e-b048-df767d6293b7"
    },
    {
      "cell_type": "code",
      "execution_count": null,
      "metadata": {
        "vscode": {
          "languageId": "python"
        },
        "id": "1e939b0a-718a-429e-8b4e-87f1a91adcb4"
      },
      "outputs": [],
      "source": [
        "lst[::-1]"
      ],
      "id": "1e939b0a-718a-429e-8b4e-87f1a91adcb4"
    },
    {
      "cell_type": "code",
      "execution_count": null,
      "metadata": {
        "vscode": {
          "languageId": "python"
        },
        "id": "07bd6fff-66b5-491b-8405-dccacb325802"
      },
      "outputs": [],
      "source": [
        "lst"
      ],
      "id": "07bd6fff-66b5-491b-8405-dccacb325802"
    },
    {
      "cell_type": "markdown",
      "metadata": {
        "id": "f137b1c0-457f-4b84-85d1-cb35479aeed2"
      },
      "source": [
        "`-` 사실 -step은 쓰는 것이 조금 까다롭다.\n",
        "\n",
        "(예제) 처음과 끝을 생략하지 않고 아래와 동일한 효과를 주는 코드를 만들어\n",
        "보자."
      ],
      "id": "f137b1c0-457f-4b84-85d1-cb35479aeed2"
    },
    {
      "cell_type": "code",
      "execution_count": 38,
      "metadata": {
        "vscode": {
          "languageId": "python"
        },
        "id": "e4e86ac0-a362-4f00-824e-e231618b836f",
        "outputId": "e5cd2d6d-71bd-4f26-8ff3-9120bf29e583",
        "colab": {
          "base_uri": "https://localhost:8080/"
        }
      },
      "outputs": [
        {
          "output_type": "execute_result",
          "data": {
            "text/plain": [
              "['h', 'g', 'f', 'e', 'd', 'c', 'b', 'a']"
            ]
          },
          "metadata": {},
          "execution_count": 38
        }
      ],
      "source": [
        "lst = list('abcdefgh')\n",
        "lst[::-1]"
      ],
      "id": "e4e86ac0-a362-4f00-824e-e231618b836f"
    },
    {
      "cell_type": "markdown",
      "metadata": {
        "id": "15437857-5a69-4c9e-8997-c807d5f6318e"
      },
      "source": [
        "(풀이)\n",
        "\n",
        "결국 lst\\[?:?:-1\\]의 꼴에서 적당히 ?의 값을 채우면 된다."
      ],
      "id": "15437857-5a69-4c9e-8997-c807d5f6318e"
    },
    {
      "cell_type": "code",
      "execution_count": 39,
      "metadata": {
        "vscode": {
          "languageId": "python"
        },
        "id": "604d1196-9602-4a06-a908-72a3b68de8c5",
        "outputId": "4061c4cb-1e26-4e0b-b9d8-d87d7096d8c3",
        "colab": {
          "base_uri": "https://localhost:8080/"
        }
      },
      "outputs": [
        {
          "output_type": "execute_result",
          "data": {
            "text/plain": [
              "['h', 'g', 'f', 'e', 'd', 'c', 'b', 'a']"
            ]
          },
          "metadata": {},
          "execution_count": 39
        }
      ],
      "source": [
        "lst[-1::-1] # 일단 첫 시작은 제일 마지막 원소"
      ],
      "id": "604d1196-9602-4a06-a908-72a3b68de8c5"
    },
    {
      "cell_type": "code",
      "execution_count": 40,
      "metadata": {
        "vscode": {
          "languageId": "python"
        },
        "id": "6f388866-66a9-469a-89c8-2dd49cfa3b34",
        "outputId": "48e6eca2-fda6-4b2d-824b-a06a04dfbe79",
        "colab": {
          "base_uri": "https://localhost:8080/"
        }
      },
      "outputs": [
        {
          "output_type": "execute_result",
          "data": {
            "text/plain": [
              "['h', 'g', 'f', 'e', 'd', 'c', 'b']"
            ]
          },
          "metadata": {},
          "execution_count": 40
        }
      ],
      "source": [
        "lst[-1:0:-1] # 앗 마지막 인덱스는 포함 안되는거였지?"
      ],
      "id": "6f388866-66a9-469a-89c8-2dd49cfa3b34"
    },
    {
      "cell_type": "code",
      "execution_count": 41,
      "metadata": {
        "vscode": {
          "languageId": "python"
        },
        "id": "13d4f8b8-a768-4b97-8923-596591750837",
        "outputId": "1e686dd8-7332-4d63-e1dc-5d06cc29f716",
        "colab": {
          "base_uri": "https://localhost:8080/"
        }
      },
      "outputs": [
        {
          "output_type": "execute_result",
          "data": {
            "text/plain": [
              "[]"
            ]
          },
          "metadata": {},
          "execution_count": 41
        }
      ],
      "source": [
        "lst[-1:-1:-1] # 뭐 어쩌란거임"
      ],
      "id": "13d4f8b8-a768-4b97-8923-596591750837"
    },
    {
      "cell_type": "markdown",
      "metadata": {
        "id": "bef9097b-2d79-47c6-a591-13ba75bbbecf"
      },
      "source": [
        "잠깐 인덱스를 생각해보자.\n",
        "\n",
        "|  a  |  b  |  c  |  d  |  e  |  f  |  g  |  h  |\n",
        "|:---:|:---:|:---:|:---:|:---:|:---:|:---:|:---:|\n",
        "|  0  |  1  |  2  |  3  |  4  |  5  |  6  |  7  |\n",
        "| -8  | -7  | -6  | -5  | -4  | -3  | -2  | -1  |"
      ],
      "id": "bef9097b-2d79-47c6-a591-13ba75bbbecf"
    },
    {
      "cell_type": "code",
      "execution_count": null,
      "metadata": {
        "vscode": {
          "languageId": "python"
        },
        "id": "6a6ed7b4-eb8d-4aa0-8358-4093473e6494"
      },
      "outputs": [],
      "source": [
        "lst[-1:-9:-1] # 아.."
      ],
      "id": "6a6ed7b4-eb8d-4aa0-8358-4093473e6494"
    },
    {
      "cell_type": "markdown",
      "metadata": {
        "id": "c6f706a5-5b25-47e7-a925-7f158c796ca4"
      },
      "source": [
        "(예제)"
      ],
      "id": "c6f706a5-5b25-47e7-a925-7f158c796ca4"
    },
    {
      "cell_type": "code",
      "execution_count": null,
      "metadata": {
        "vscode": {
          "languageId": "python"
        },
        "id": "78f4dd5e-1360-4395-8e0b-4084341ee022"
      },
      "outputs": [],
      "source": [
        "lst[2::2]"
      ],
      "id": "78f4dd5e-1360-4395-8e0b-4084341ee022"
    },
    {
      "cell_type": "code",
      "execution_count": null,
      "metadata": {
        "vscode": {
          "languageId": "python"
        },
        "id": "b00f9e0b-34d4-4cb5-a0e7-e00b30f534da"
      },
      "outputs": [],
      "source": [
        "lst[-2::-2]"
      ],
      "id": "b00f9e0b-34d4-4cb5-a0e7-e00b30f534da"
    },
    {
      "cell_type": "code",
      "execution_count": null,
      "metadata": {
        "vscode": {
          "languageId": "python"
        },
        "id": "21e1642c-a18a-41a4-9c5f-9e291a302737"
      },
      "outputs": [],
      "source": [
        "lst[-2:2:2]"
      ],
      "id": "21e1642c-a18a-41a4-9c5f-9e291a302737"
    },
    {
      "cell_type": "code",
      "execution_count": null,
      "metadata": {
        "vscode": {
          "languageId": "python"
        },
        "id": "a1299948-eb42-43d8-979a-54195890ab9d"
      },
      "outputs": [],
      "source": [
        "lst[2:2:2]"
      ],
      "id": "a1299948-eb42-43d8-979a-54195890ab9d"
    },
    {
      "cell_type": "code",
      "execution_count": null,
      "metadata": {
        "vscode": {
          "languageId": "python"
        },
        "id": "da5aa263-94ad-4eb6-88dc-fc923ba64e7e"
      },
      "outputs": [],
      "source": [
        "lst[2:2:-2]"
      ],
      "id": "da5aa263-94ad-4eb6-88dc-fc923ba64e7e"
    },
    {
      "cell_type": "markdown",
      "metadata": {
        "id": "a8f34f32-12a6-47c0-8b40-b80ff7ecf209"
      },
      "source": [
        "결론: -step을 자주 쓰진 말자?\n",
        "\n",
        "# 컴프리헨션 고급 (if문이 포함된 컴프리헨션)\n",
        "\n",
        "`-` 예제: 제곱수중에서 12로 나누어 떨어지는 수만 원소로 가지는 리스트를\n",
        "만들고 싶다.\n",
        "\n",
        "-   제곱수: 1,4,9,16,25,36, …\n",
        "-   12로 나누어 떨어지는 수: 36, …\n",
        "\n",
        "(예비학습)"
      ],
      "id": "a8f34f32-12a6-47c0-8b40-b80ff7ecf209"
    },
    {
      "cell_type": "code",
      "execution_count": 42,
      "metadata": {
        "vscode": {
          "languageId": "python"
        },
        "id": "4ae21e93-ff53-488b-8551-1d867810b3d0",
        "outputId": "a1cc24f1-2986-4d35-9c8f-4cbc6b77306a",
        "colab": {
          "base_uri": "https://localhost:8080/"
        }
      },
      "outputs": [
        {
          "output_type": "execute_result",
          "data": {
            "text/plain": [
              "0"
            ]
          },
          "metadata": {},
          "execution_count": 42
        }
      ],
      "source": [
        "12 % 4 # %는 나머지를 계산하는 연산자, 12를 4로 나누면 나머지가 0"
      ],
      "id": "4ae21e93-ff53-488b-8551-1d867810b3d0"
    },
    {
      "cell_type": "code",
      "execution_count": 43,
      "metadata": {
        "vscode": {
          "languageId": "python"
        },
        "id": "c76cd88d-0ddc-40eb-a210-6a9ed275db4d",
        "outputId": "dd48eba8-8483-4501-dcdf-b8975b66f35f",
        "colab": {
          "base_uri": "https://localhost:8080/"
        }
      },
      "outputs": [
        {
          "output_type": "execute_result",
          "data": {
            "text/plain": [
              "2"
            ]
          },
          "metadata": {},
          "execution_count": 43
        }
      ],
      "source": [
        "12 % 5 # %는 나머지를 계산하는 연산자, 12를 5로 나누면 나머지가 2"
      ],
      "id": "c76cd88d-0ddc-40eb-a210-6a9ed275db4d"
    },
    {
      "cell_type": "markdown",
      "metadata": {
        "id": "9e413cf1-fb95-4a08-ae21-08e3f0eb5cbe"
      },
      "source": [
        "(풀이1)"
      ],
      "id": "9e413cf1-fb95-4a08-ae21-08e3f0eb5cbe"
    },
    {
      "cell_type": "code",
      "execution_count": null,
      "metadata": {
        "vscode": {
          "languageId": "python"
        },
        "id": "3bfddd4d-b31d-41c5-b40b-1a57e6fbb8d0"
      },
      "outputs": [],
      "source": [
        "lst = []\n",
        "for i in range(1,101):\n",
        "    if (i**2 % 12 == 0):\n",
        "        lst.append(i**2)"
      ],
      "id": "3bfddd4d-b31d-41c5-b40b-1a57e6fbb8d0"
    },
    {
      "cell_type": "code",
      "execution_count": null,
      "metadata": {
        "vscode": {
          "languageId": "python"
        },
        "id": "6192cc6a-98c5-4c1b-8327-b829e43de47c"
      },
      "outputs": [],
      "source": [
        "lst"
      ],
      "id": "6192cc6a-98c5-4c1b-8327-b829e43de47c"
    },
    {
      "cell_type": "markdown",
      "metadata": {
        "id": "f2cb7e54-3ac2-423c-9d68-ee1ab9603b24"
      },
      "source": [
        "(풀이2)"
      ],
      "id": "f2cb7e54-3ac2-423c-9d68-ee1ab9603b24"
    },
    {
      "cell_type": "code",
      "execution_count": null,
      "metadata": {
        "vscode": {
          "languageId": "python"
        },
        "id": "b6b258d0-ce28-42bf-b69b-2bc42abd7fa3"
      },
      "outputs": [],
      "source": [
        "[i**2 for i in range(1,101) if (i**2 % 12 == 0)]"
      ],
      "id": "b6b258d0-ce28-42bf-b69b-2bc42abd7fa3"
    },
    {
      "cell_type": "markdown",
      "metadata": {
        "id": "023d780a-73b8-4d01-97c7-9adbfe6b9345"
      },
      "source": [
        "# 함수고급 (조건부리턴)\n",
        "\n",
        "`-` 홀수/짝수를 판별하는 함수 만들기 1"
      ],
      "id": "023d780a-73b8-4d01-97c7-9adbfe6b9345"
    },
    {
      "cell_type": "code",
      "execution_count": 44,
      "metadata": {
        "vscode": {
          "languageId": "python"
        },
        "id": "b5c576fb-147d-4f4f-9ebd-ef61c7031514"
      },
      "outputs": [],
      "source": [
        "def test(a):\n",
        "    if a % 2 ==0:\n",
        "        return 'even'\n",
        "    else:\n",
        "        return 'odd'"
      ],
      "id": "b5c576fb-147d-4f4f-9ebd-ef61c7031514"
    },
    {
      "cell_type": "code",
      "execution_count": 45,
      "metadata": {
        "vscode": {
          "languageId": "python"
        },
        "id": "9ece400f-0438-4d13-87cc-f05dc00a384a",
        "outputId": "864d50f3-8f2e-464e-f8be-11d047e6ebc7",
        "colab": {
          "base_uri": "https://localhost:8080/",
          "height": 36
        }
      },
      "outputs": [
        {
          "output_type": "execute_result",
          "data": {
            "text/plain": [
              "'odd'"
            ],
            "application/vnd.google.colaboratory.intrinsic+json": {
              "type": "string"
            }
          },
          "metadata": {},
          "execution_count": 45
        }
      ],
      "source": [
        "test(1)"
      ],
      "id": "9ece400f-0438-4d13-87cc-f05dc00a384a"
    },
    {
      "cell_type": "code",
      "execution_count": 46,
      "metadata": {
        "vscode": {
          "languageId": "python"
        },
        "id": "bc395957-5a77-4ce4-9d30-e47d580ed7fc",
        "outputId": "80d2804a-4ab7-42a4-c162-6715637b54ba",
        "colab": {
          "base_uri": "https://localhost:8080/",
          "height": 36
        }
      },
      "outputs": [
        {
          "output_type": "execute_result",
          "data": {
            "text/plain": [
              "'even'"
            ],
            "application/vnd.google.colaboratory.intrinsic+json": {
              "type": "string"
            }
          },
          "metadata": {},
          "execution_count": 46
        }
      ],
      "source": [
        "test(2)"
      ],
      "id": "bc395957-5a77-4ce4-9d30-e47d580ed7fc"
    },
    {
      "cell_type": "code",
      "execution_count": 47,
      "metadata": {
        "vscode": {
          "languageId": "python"
        },
        "id": "e8595358-97e7-4665-a634-b947d37083a3",
        "outputId": "a08e3d1f-1c85-4e2a-c8ae-711551f4940c",
        "colab": {
          "base_uri": "https://localhost:8080/",
          "height": 36
        }
      },
      "outputs": [
        {
          "output_type": "execute_result",
          "data": {
            "text/plain": [
              "'odd'"
            ],
            "application/vnd.google.colaboratory.intrinsic+json": {
              "type": "string"
            }
          },
          "metadata": {},
          "execution_count": 47
        }
      ],
      "source": [
        "test(3)"
      ],
      "id": "e8595358-97e7-4665-a634-b947d37083a3"
    },
    {
      "cell_type": "code",
      "execution_count": 48,
      "metadata": {
        "vscode": {
          "languageId": "python"
        },
        "id": "fb4ce31f-e5b7-46b5-8c16-5bc039b396c3",
        "outputId": "5d2e7b1c-c81b-4f89-c40b-78bf5b8e4ab3",
        "colab": {
          "base_uri": "https://localhost:8080/",
          "height": 36
        }
      },
      "outputs": [
        {
          "output_type": "execute_result",
          "data": {
            "text/plain": [
              "'even'"
            ],
            "application/vnd.google.colaboratory.intrinsic+json": {
              "type": "string"
            }
          },
          "metadata": {},
          "execution_count": 48
        }
      ],
      "source": [
        "test(4)"
      ],
      "id": "fb4ce31f-e5b7-46b5-8c16-5bc039b396c3"
    },
    {
      "cell_type": "code",
      "execution_count": 49,
      "metadata": {
        "vscode": {
          "languageId": "python"
        },
        "id": "083fd9c1-06f9-4c6c-a437-a8e2c319739c",
        "outputId": "fe95485b-849d-477c-ab31-adf5cc27114a",
        "colab": {
          "base_uri": "https://localhost:8080/"
        }
      },
      "outputs": [
        {
          "output_type": "execute_result",
          "data": {
            "text/plain": [
              "['odd', 'even', 'odd', 'even', 'odd', 'even', 'odd', 'even', 'odd', 'even']"
            ]
          },
          "metadata": {},
          "execution_count": 49
        }
      ],
      "source": [
        "[test(a) for a in range(1,11)]"
      ],
      "id": "083fd9c1-06f9-4c6c-a437-a8e2c319739c"
    },
    {
      "cell_type": "markdown",
      "metadata": {
        "id": "6332cbd5-2a4e-4bb6-a3ce-0d62b1b6007e"
      },
      "source": [
        "`-` 홀수/짝수를 판별하는 함수 만들기 2"
      ],
      "id": "6332cbd5-2a4e-4bb6-a3ce-0d62b1b6007e"
    },
    {
      "cell_type": "code",
      "execution_count": 50,
      "metadata": {
        "vscode": {
          "languageId": "python"
        },
        "id": "afcfd2d0-2df4-4c23-8dfe-d9d7961ca318"
      },
      "outputs": [],
      "source": [
        "def test(a):\n",
        "    return 'even' if a%2 ==0 else 'odd'"
      ],
      "id": "afcfd2d0-2df4-4c23-8dfe-d9d7961ca318"
    },
    {
      "cell_type": "code",
      "execution_count": 51,
      "metadata": {
        "vscode": {
          "languageId": "python"
        },
        "id": "6f704ec7-2bf7-436c-b4c9-b45b237053ee",
        "outputId": "355635a6-171e-4cf8-8b02-73dbdeb7158b",
        "colab": {
          "base_uri": "https://localhost:8080/",
          "height": 36
        }
      },
      "outputs": [
        {
          "output_type": "execute_result",
          "data": {
            "text/plain": [
              "'odd'"
            ],
            "application/vnd.google.colaboratory.intrinsic+json": {
              "type": "string"
            }
          },
          "metadata": {},
          "execution_count": 51
        }
      ],
      "source": [
        "test(3)"
      ],
      "id": "6f704ec7-2bf7-436c-b4c9-b45b237053ee"
    },
    {
      "cell_type": "code",
      "execution_count": 52,
      "metadata": {
        "vscode": {
          "languageId": "python"
        },
        "id": "9d9f6ebb-28e1-4bf4-93c8-88ba40281c4d",
        "outputId": "3be3984d-759d-4e72-896f-286e10fd6b9e",
        "colab": {
          "base_uri": "https://localhost:8080/"
        }
      },
      "outputs": [
        {
          "output_type": "execute_result",
          "data": {
            "text/plain": [
              "['odd', 'even', 'odd', 'even', 'odd', 'even', 'odd', 'even', 'odd', 'even']"
            ]
          },
          "metadata": {},
          "execution_count": 52
        }
      ],
      "source": [
        "[test(a) for a in range(1,11)]"
      ],
      "id": "9d9f6ebb-28e1-4bf4-93c8-88ba40281c4d"
    },
    {
      "cell_type": "markdown",
      "metadata": {
        "id": "cbf39a4a-c6ba-483b-bf36-400267e2c449"
      },
      "source": [
        "# len함수\n",
        "\n",
        "`-` 0차원 자료형은 len함수가 동작하지 않음"
      ],
      "id": "cbf39a4a-c6ba-483b-bf36-400267e2c449"
    },
    {
      "cell_type": "code",
      "execution_count": null,
      "metadata": {
        "vscode": {
          "languageId": "python"
        },
        "id": "a08d5835-d3c2-4f4d-a280-8b061591881b"
      },
      "outputs": [],
      "source": [
        "a=1\n",
        "len(a)"
      ],
      "id": "a08d5835-d3c2-4f4d-a280-8b061591881b"
    },
    {
      "cell_type": "code",
      "execution_count": null,
      "metadata": {
        "vscode": {
          "languageId": "python"
        },
        "id": "8c73a184-eb11-4803-99fb-c9b3a8801798"
      },
      "outputs": [],
      "source": [
        "a=True\n",
        "len(a)"
      ],
      "id": "8c73a184-eb11-4803-99fb-c9b3a8801798"
    },
    {
      "cell_type": "code",
      "execution_count": null,
      "metadata": {
        "vscode": {
          "languageId": "python"
        },
        "id": "20571e9b-6bb5-40c0-8100-18d39e75a31b"
      },
      "outputs": [],
      "source": [
        "a=3.14\n",
        "len(a)"
      ],
      "id": "20571e9b-6bb5-40c0-8100-18d39e75a31b"
    },
    {
      "cell_type": "markdown",
      "metadata": {
        "id": "7b035304-f9a6-452f-baac-15d88dd314ae"
      },
      "source": [
        "> note: 이것이 어떠한 수학적인 의미를 가지거나 0차원의 본질적진리를\n",
        "> 뜻하는 것은 아님. R에서는 1,3.14,TRUE의 길이가 1로 존재함.\n",
        "\n",
        "`-` 1차원 자료형은 len함수가 동작"
      ],
      "id": "7b035304-f9a6-452f-baac-15d88dd314ae"
    },
    {
      "cell_type": "code",
      "execution_count": null,
      "metadata": {
        "vscode": {
          "languageId": "python"
        },
        "id": "2f10d555-f461-4b15-ab09-5c4b5a9228bd"
      },
      "outputs": [],
      "source": [
        "a='guebin'\n",
        "len(a)"
      ],
      "id": "2f10d555-f461-4b15-ab09-5c4b5a9228bd"
    },
    {
      "cell_type": "code",
      "execution_count": 53,
      "metadata": {
        "vscode": {
          "languageId": "python"
        },
        "id": "9582025c-ba32-41be-8189-e0737928f934",
        "outputId": "4a348f87-cc24-432e-be27-d48e8d6b2e93",
        "colab": {
          "base_uri": "https://localhost:8080/"
        }
      },
      "outputs": [
        {
          "output_type": "execute_result",
          "data": {
            "text/plain": [
              "6"
            ]
          },
          "metadata": {},
          "execution_count": 53
        }
      ],
      "source": [
        "a=[1,2,3,4,5,6]\n",
        "len(a)"
      ],
      "id": "9582025c-ba32-41be-8189-e0737928f934"
    },
    {
      "cell_type": "code",
      "execution_count": 54,
      "metadata": {
        "vscode": {
          "languageId": "python"
        },
        "id": "635deeca-7c45-414c-8c8e-c241909bd651",
        "outputId": "d2eb43b1-0018-42cc-99d5-83bea3db03fb",
        "colab": {
          "base_uri": "https://localhost:8080/"
        }
      },
      "outputs": [
        {
          "output_type": "execute_result",
          "data": {
            "text/plain": [
              "6"
            ]
          },
          "metadata": {},
          "execution_count": 54
        }
      ],
      "source": [
        "a=1,2,3,4,5,6\n",
        "len(a)"
      ],
      "id": "635deeca-7c45-414c-8c8e-c241909bd651"
    },
    {
      "cell_type": "code",
      "execution_count": 55,
      "metadata": {
        "vscode": {
          "languageId": "python"
        },
        "id": "210c3a9b-1837-4f59-83da-c4bb371195b7",
        "outputId": "b6d2acf4-e10b-4805-f071-a60824f5c982",
        "colab": {
          "base_uri": "https://localhost:8080/"
        }
      },
      "outputs": [
        {
          "output_type": "execute_result",
          "data": {
            "text/plain": [
              "10"
            ]
          },
          "metadata": {},
          "execution_count": 55
        }
      ],
      "source": [
        "a=range(10)\n",
        "len(a)"
      ],
      "id": "210c3a9b-1837-4f59-83da-c4bb371195b7"
    },
    {
      "cell_type": "markdown",
      "metadata": {
        "id": "86e3d469-fbf0-49bf-9d5e-7e069d27bdb3"
      },
      "source": [
        "`-` 길이가 1인 1차원 자료형과 0차원 자료형은 다른것임"
      ],
      "id": "86e3d469-fbf0-49bf-9d5e-7e069d27bdb3"
    },
    {
      "cell_type": "code",
      "execution_count": null,
      "metadata": {
        "vscode": {
          "languageId": "python"
        },
        "id": "fd4067fe-1319-4a54-a1a2-65a4f4099beb"
      },
      "outputs": [],
      "source": [
        "a='g'\n",
        "len(a)"
      ],
      "id": "fd4067fe-1319-4a54-a1a2-65a4f4099beb"
    },
    {
      "cell_type": "code",
      "execution_count": null,
      "metadata": {
        "vscode": {
          "languageId": "python"
        },
        "id": "dc7fdc25-b5fb-49dc-82ed-50768f58179c"
      },
      "outputs": [],
      "source": [
        "a=[1]\n",
        "len(a)"
      ],
      "id": "dc7fdc25-b5fb-49dc-82ed-50768f58179c"
    },
    {
      "cell_type": "code",
      "execution_count": null,
      "metadata": {
        "vscode": {
          "languageId": "python"
        },
        "id": "d9d22c90-bf62-4036-9398-c3ed78a21e0d"
      },
      "outputs": [],
      "source": [
        "a=(1,)\n",
        "len(a)"
      ],
      "id": "d9d22c90-bf62-4036-9398-c3ed78a21e0d"
    },
    {
      "cell_type": "code",
      "execution_count": null,
      "metadata": {
        "vscode": {
          "languageId": "python"
        },
        "id": "ce0b2577-d2ae-4a37-8bdb-b7eeb7a976f6"
      },
      "outputs": [],
      "source": [
        "a=range(1)\n",
        "len(a)"
      ],
      "id": "ce0b2577-d2ae-4a37-8bdb-b7eeb7a976f6"
    },
    {
      "cell_type": "markdown",
      "metadata": {
        "id": "392dcc00-3eb2-49d4-a827-aa9426084428"
      },
      "source": [
        "`-` 길이가 0인 1차원 자료형도 존재함"
      ],
      "id": "392dcc00-3eb2-49d4-a827-aa9426084428"
    },
    {
      "cell_type": "code",
      "execution_count": null,
      "metadata": {
        "vscode": {
          "languageId": "python"
        },
        "id": "956cdeff-c08a-4465-9e0d-429b9542604c"
      },
      "outputs": [],
      "source": [
        "a=''\n",
        "len(a)"
      ],
      "id": "956cdeff-c08a-4465-9e0d-429b9542604c"
    },
    {
      "cell_type": "code",
      "execution_count": null,
      "metadata": {
        "vscode": {
          "languageId": "python"
        },
        "id": "dfb2f9fd-e886-4f8a-abf4-a5061d2240a9"
      },
      "outputs": [],
      "source": [
        "a=[]\n",
        "len(a)"
      ],
      "id": "dfb2f9fd-e886-4f8a-abf4-a5061d2240a9"
    },
    {
      "cell_type": "code",
      "execution_count": null,
      "metadata": {
        "vscode": {
          "languageId": "python"
        },
        "id": "aff51d73-91e8-4092-9e2e-44f575e37ba5"
      },
      "outputs": [],
      "source": [
        "a=()\n",
        "len(a)"
      ],
      "id": "aff51d73-91e8-4092-9e2e-44f575e37ba5"
    },
    {
      "cell_type": "code",
      "execution_count": null,
      "metadata": {
        "vscode": {
          "languageId": "python"
        },
        "id": "e3749f6b-4ea5-41f9-a2d6-d2acbf0ede2a"
      },
      "outputs": [],
      "source": [
        "a=range(0)\n",
        "len(a)"
      ],
      "id": "e3749f6b-4ea5-41f9-a2d6-d2acbf0ede2a"
    },
    {
      "cell_type": "markdown",
      "metadata": {
        "id": "cd9189a4-0d19-4a1d-b56b-35bc041228a8"
      },
      "source": [
        "# str, list, tuple 비교\n",
        "\n",
        "`-` str, list, tuple은 모두 시퀀스형이라는 공통점이 있다. $\\to$ 원소의\n",
        "위치번호로 인덱싱이 가능"
      ],
      "id": "cd9189a4-0d19-4a1d-b56b-35bc041228a8"
    },
    {
      "cell_type": "code",
      "execution_count": null,
      "metadata": {
        "vscode": {
          "languageId": "python"
        },
        "id": "e0832c48-4d06-4058-95cf-6595e19fc312"
      },
      "outputs": [],
      "source": [
        "lst = [1,2,3,4]"
      ],
      "id": "e0832c48-4d06-4058-95cf-6595e19fc312"
    },
    {
      "cell_type": "code",
      "execution_count": null,
      "metadata": {
        "vscode": {
          "languageId": "python"
        },
        "id": "60217608-c2cb-43ad-b37a-7c16cf259a89"
      },
      "outputs": [],
      "source": [
        "lst[0] # 위치번호=0"
      ],
      "id": "60217608-c2cb-43ad-b37a-7c16cf259a89"
    },
    {
      "cell_type": "code",
      "execution_count": null,
      "metadata": {
        "vscode": {
          "languageId": "python"
        },
        "id": "602685e6-dde2-4c6a-bbf1-0b0b47fbf9e1"
      },
      "outputs": [],
      "source": [
        "lst[-1] # 위치번호=-1"
      ],
      "id": "602685e6-dde2-4c6a-bbf1-0b0b47fbf9e1"
    },
    {
      "cell_type": "markdown",
      "metadata": {
        "id": "1a086fcf-f47a-44fa-8860-adbfd1d2d5dd"
      },
      "source": [
        "`-` str, list, tuple은 차이점도 존재함. 잠깐 정리해보자.\n",
        "\n",
        "***시퀀스형의 카테고리***\n",
        "\n",
        "-   컨테니어형: list, tuple\n",
        "-   균일형: str\n",
        "-   가변형: list\n",
        "-   불변형: tuple, str\n",
        "\n",
        "***표로 정리하면***\n",
        "\n",
        "|        | 컨테니어형 | 균일형 |\n",
        "|:------:|:----------:|:------:|\n",
        "| 가변형 |    list    |   .    |\n",
        "| 불변형 |   tuple    |  str   |\n",
        "\n",
        "`-` 시퀀스형이 아닌 1차원 자료형도 있을까? (이원소의 위치번호로 인덱싱이\n",
        "불가능한 자료형\n",
        "\n",
        "# Quiz\n",
        "\n",
        "`ssh코드`: 1-2\n",
        "\n",
        "아래의 문자열을 고려하자."
      ],
      "id": "1a086fcf-f47a-44fa-8860-adbfd1d2d5dd"
    },
    {
      "cell_type": "code",
      "execution_count": 56,
      "metadata": {
        "vscode": {
          "languageId": "python"
        },
        "id": "ecde855e"
      },
      "outputs": [],
      "source": [
        "test_arr = 'ssh-rsa AAAAB3NzaC1yc2EAAAABIwAAAQEAklOUpkDHrfHY17SbrmTIpNLTGK9Tjom/BWDSUGPl+nafzlHDTYW7hdI4yZ5ew18JH4JW9jbhUFrviQzM7xlELEVf4h9lFX5QVkbPppSwg0cda3Pbv7kOdJ/MTyBlWXFCR+HAo3FXRitBqxiX1nKhXpHAZsMciLq8V6RjsNAQwdsdMFvSlVK/7XAt3FaoJoAsncM1Q9x5+3V0Ww68/eIFmb1zuUFljQJKprrX88XypNDvjYNby6vw/Pb0rwert/EnmZ+AW4OZPnTPI89ZPmVMLuayrD2cE86Z/il8b+gw3r3+1nKatmIkjn2so1d01QraTlMqVSsbxNrRFi9wrf+M7Q== schacon@mylaptop.local'"
      ],
      "id": "ecde855e"
    },
    {
      "cell_type": "markdown",
      "metadata": {
        "id": "06826f07-77e1-4c84-8ae5-5018ff30750c"
      },
      "source": [
        "`1`. 이 문자열에서 `index = 0,2,4,6,8,...` 에 해당하는 원소를 출력하는\n",
        "코드를 작성하라."
      ],
      "id": "06826f07-77e1-4c84-8ae5-5018ff30750c"
    },
    {
      "cell_type": "code",
      "execution_count": 57,
      "metadata": {
        "vscode": {
          "languageId": "python"
        },
        "id": "d56f5646",
        "outputId": "bf8e8aa8-c7ab-40b7-ef58-27cfa1653af7",
        "colab": {
          "base_uri": "https://localhost:8080/",
          "height": 54
        }
      },
      "outputs": [
        {
          "output_type": "execute_result",
          "data": {
            "text/plain": [
              "'shraAABNa1cEAAIAAEkOpDrH1SrTpLG9jmBDUP+azHTWhIy5w8HJ9bUriz7lLV49F5VbpSgcaPvkd/TBWFRHoFRtqi1KXHZMiqVRsAwsMvlK7A3aJAnMQx+VW6/Im1uFjJpr8XpDjNyv/bretEm+WOPTI9PVLar2E6/lbg331KtIj2od1rTMVsxrF9r+7= cao@yatplcl'"
            ],
            "application/vnd.google.colaboratory.intrinsic+json": {
              "type": "string"
            }
          },
          "metadata": {},
          "execution_count": 57
        }
      ],
      "source": [
        "test_arr[::2]# 출력결과는 아래와 같아야 한다."
      ],
      "id": "d56f5646"
    },
    {
      "cell_type": "markdown",
      "metadata": {
        "id": "b6ade6b6-728a-4b15-bb46-2807a1631750"
      },
      "source": [
        "`2`. 위 문자열을 뒤집은 문자열을 구하는 코드를 구현하라."
      ],
      "id": "b6ade6b6-728a-4b15-bb46-2807a1631750"
    },
    {
      "cell_type": "code",
      "execution_count": 58,
      "metadata": {
        "vscode": {
          "languageId": "python"
        },
        "id": "e590f7f4",
        "outputId": "6b78fcd7-7954-4273-ee31-d32467077b03",
        "colab": {
          "base_uri": "https://localhost:8080/",
          "height": 73
        }
      },
      "outputs": [
        {
          "output_type": "execute_result",
          "data": {
            "text/plain": [
              "'lacol.potpalym@nocahcs ==Q7M+frw9iFRrNxbsSVqMlTarQ10d1os2njkImtaKn1+3r3wg+b8li/Z68Ec2DryauLMVmPZ98IPTnPZO4WA+ZmnE/trewr0bP/wv6ybNYjvDNpyX88XrrpKJQjlFUuz1bmFIe/86wW0V3+5x9Q1McnsAoJoaF3tAX7/KVlSvFMdsdwQANsjR6V8qLicMsZAHpXhKn1XixqBtiRXF3oAH+RCFXWlByTM/JdOk7vbP3adc0gwSppPbkVQ5XFl9h4fVELElx7MzQivrFUhbj9WJ4HJ81we5Zy4Idh7WYTDHlzfan+lPGUSDWB/mojT9KGTLNpITmrbS71YHfrHDkpUOlkAEQAAAwIBAAAAE2cy1CazN3BAAAA asr-hss'"
            ],
            "application/vnd.google.colaboratory.intrinsic+json": {
              "type": "string"
            }
          },
          "metadata": {},
          "execution_count": 58
        }
      ],
      "source": [
        "test_arr[::-1]# 출력결과는 아래와 같아야 한다."
      ],
      "id": "e590f7f4"
    },
    {
      "cell_type": "markdown",
      "metadata": {
        "id": "14af35ca-02f2-4846-bd65-650750955e0c"
      },
      "source": [
        "------------------------------------------------------------------------\n",
        "\n",
        "`파이썬 프로그래밍 시험성적`: 3-4\n",
        "\n",
        "아래와 같은 dictionary가 있다고 가정하자."
      ],
      "id": "14af35ca-02f2-4846-bd65-650750955e0c"
    },
    {
      "cell_type": "code",
      "execution_count": 60,
      "metadata": {
        "vscode": {
          "languageId": "python"
        },
        "id": "5a7a2222"
      },
      "outputs": [],
      "source": [
        "dct={'202212377': {'att': 65, 'rep': 45, 'mid': 0, 'fin': 10},\n",
        "     '202212473': {'att': 95, 'rep': 30, 'mid': 60, 'fin': 10},\n",
        "     '202212310': {'att': 65, 'rep': 85, 'mid': 15, 'fin': 20},\n",
        "     '202212460': {'att': 55, 'rep': 35, 'mid': 35, 'fin': 5},\n",
        "     '202212320': {'att': 80, 'rep': 60, 'mid': 55, 'fin': 70},\n",
        "     '202212329': {'att': 75, 'rep': 40, 'mid': 75, 'fin': 85},\n",
        "     '202212408': {'att': 65, 'rep': 70, 'mid': 60, 'fin': 75},\n",
        "     '202212319': {'att': 60, 'rep': 25, 'mid': 20, 'fin': 35},\n",
        "     '202212348': {'att': 95, 'rep': 55, 'mid': 65, 'fin': 90},\n",
        "     '202212306': {'att': 90, 'rep': 25, 'mid': 95, 'fin': 50},\n",
        "     '202212308': {'att': 55, 'rep': 45, 'mid': 75, 'fin': 30},\n",
        "     '202212366': {'att': 95, 'rep': 60, 'mid': 25, 'fin': 55},\n",
        "     '202212367': {'att': 95, 'rep': 35, 'mid': 0, 'fin': 25},\n",
        "     '202212461': {'att': 50, 'rep': 55, 'mid': 90, 'fin': 45}}"
      ],
      "id": "5a7a2222"
    },
    {
      "cell_type": "markdown",
      "metadata": {
        "id": "8123afa8-4b4b-4bce-87ff-1d62d374fc21"
      },
      "source": [
        "여기에서 ‘202212377’ 등은 학번을, att는 출석점수, rep는 레포트점수,\n",
        "mid는 중간고사 점수, fin은 기말고사 점수를 의미한다.\n",
        "\n",
        "`3`. 학생들의 학번을 아래와 같은 방식으로 출력하는 코드를 작성하라."
      ],
      "id": "8123afa8-4b4b-4bce-87ff-1d62d374fc21"
    },
    {
      "cell_type": "code",
      "execution_count": 66,
      "metadata": {
        "vscode": {
          "languageId": "python"
        },
        "id": "b0bb4190",
        "outputId": "44c399f9-c295-4987-9743-3c0e9781bc54",
        "colab": {
          "base_uri": "https://localhost:8080/"
        }
      },
      "outputs": [
        {
          "output_type": "execute_result",
          "data": {
            "text/plain": [
              "['202212377',\n",
              " '202212473',\n",
              " '202212310',\n",
              " '202212460',\n",
              " '202212320',\n",
              " '202212329',\n",
              " '202212408',\n",
              " '202212319',\n",
              " '202212348',\n",
              " '202212306',\n",
              " '202212308',\n",
              " '202212366',\n",
              " '202212367',\n",
              " '202212461']"
            ]
          },
          "metadata": {},
          "execution_count": 66
        }
      ],
      "source": [
        "[i for i in dct]# 출력예시"
      ],
      "id": "b0bb4190"
    },
    {
      "cell_type": "markdown",
      "metadata": {
        "id": "493d4b7e-5da3-4c00-99c4-a59fb27a4fa5"
      },
      "source": [
        "`4`. 출석점수가 70점 이상인(`>=70`) 학생들의 학번을 출력하는 코드를\n",
        "작성하라."
      ],
      "id": "493d4b7e-5da3-4c00-99c4-a59fb27a4fa5"
    },
    {
      "cell_type": "code",
      "execution_count": 78,
      "metadata": {
        "vscode": {
          "languageId": "python"
        },
        "id": "8b0aa306",
        "outputId": "5aa9bf0d-fd60-4d64-9f25-17ba91e66d76",
        "colab": {
          "base_uri": "https://localhost:8080/"
        }
      },
      "outputs": [
        {
          "output_type": "stream",
          "name": "stdout",
          "text": [
            "65\n",
            "45\n",
            "0\n",
            "10\n",
            "95\n",
            "30\n",
            "60\n",
            "10\n",
            "65\n",
            "85\n",
            "15\n",
            "20\n",
            "55\n",
            "35\n",
            "35\n",
            "5\n",
            "80\n",
            "60\n",
            "55\n",
            "70\n",
            "75\n",
            "40\n",
            "75\n",
            "85\n",
            "65\n",
            "70\n",
            "60\n",
            "75\n",
            "60\n",
            "25\n",
            "20\n",
            "35\n",
            "95\n",
            "55\n",
            "65\n",
            "90\n",
            "90\n",
            "25\n",
            "95\n",
            "50\n",
            "55\n",
            "45\n",
            "75\n",
            "30\n",
            "95\n",
            "60\n",
            "25\n",
            "55\n",
            "95\n",
            "35\n",
            "0\n",
            "25\n",
            "50\n",
            "55\n",
            "90\n",
            "45\n"
          ]
        }
      ],
      "source": [
        "for val in dct.values():\n",
        "  for att in val.values() :\n",
        "    print(att)"
      ],
      "id": "8b0aa306"
    },
    {
      "cell_type": "markdown",
      "metadata": {
        "id": "07128207-e3f9-43be-beaf-acf2360f2600"
      },
      "source": [
        "------------------------------------------------------------------------\n",
        "\n",
        "`Oxford-III`: 5–10 //\n",
        "[reference](https://www.robots.ox.ac.uk/~vgg/data/pets/)\n",
        "\n",
        "아래는 이미지 파일명들이 저장된 string을 불러오는 코드이다."
      ],
      "id": "07128207-e3f9-43be-beaf-acf2360f2600"
    },
    {
      "cell_type": "code",
      "execution_count": null,
      "metadata": {
        "vscode": {
          "languageId": "python"
        },
        "id": "f209d7af"
      },
      "outputs": [],
      "source": [
        "import requests\n",
        "url = 'https://raw.githubusercontent.com/guebin/PP2023/main/posts/01_PythonBasic/Oxford-IIIT.txt'\n",
        "txt = requests.get(url).content.decode()"
      ],
      "id": "f209d7af"
    },
    {
      "cell_type": "markdown",
      "metadata": {
        "id": "e3f4389f-fbbb-42b6-a89a-d2b3fce31e6f"
      },
      "source": [
        "txt의 출력 일부를 나타내면 아래와 같다.\n",
        "\n",
        "``` default\n",
        "'Abyssinian_1.jpg\\nAbyssinian_10.jpg\\nAbyssinian_100.jpg\\nAbyssinian_100.mat\\nAbyssinian_101.jpg\\nAbyssinian_101.mat\\nAbyssinian_102.jpg\\nAbyssinian_102.mat\\nAbyssinian_103.jpg\\nAbyssinian_104.jpg\\nAbyssinian_105.jpg\\nAbyssinian_106.jpg\\nAbyssinian_107.jpg\\nAbyssinian_108.jpg\\nAbyssinian_109.jpg\\nAbyssinian_11.jpg\\nAbyssinian_110.jpg\\nAbyssinian_111.jpg\\nAbyssinian_112.jpg\\nAbyssinian_113.jpg\\nAbyssinian_114.jpg\\nAbyssinian_115.jpg\\nAbyssinian_116.jpg\\nAbyssinian_117.jpg\\nAbyssinian_118.jpg\\nAbyssinian_119.jpg\\nAbyssinian_12.jpg\\nAbyssinian_120.jpg\\nAbyssinian_121.jpg\\nAbyssinian_122.jpg\\nAbyssinian_123.jpg\\nAbyssinian_124.jpg\\nAbyssinian_125.jpg\\nAbyssinian_126.jpg\\nAbyssinian_127.jpg\\nAbyssinian_128.jpg\\nAbyssinian_129.jpg\\nAbyssinian_13.jpg\\nAbyssinian_130.jpg\\nAbyssinian_131.jpg\\nAbyssinian_132.jpg\\n .......\n",
        "```\n",
        "\n",
        "`5`. 각 파일명은 `\\n`으로 구분되어있다. 위의 스트링을 분해하여 아래와\n",
        "같은 리스트를 생성하고 `fname_list`에 저장하라.\n",
        "\n",
        "``` python\n",
        "# fname_list 의 출력결과는 아래와 같아야 한다.\n",
        "['Abyssinian_1.jpg','Abyssinian_10.jpg', ... ,'yorkshire_terrier_98.jpg', 'yorkshire_terrier_99.jpg']\n",
        "```\n",
        "\n",
        "`6`. 각 이미지파일명은 아래와 같은 규칙으로 저장되어 있다.\n",
        "\n",
        "-   파일명의 첫글자가 대문자이면 고양이를 의미하고 첫글자가 소문자이면\n",
        "    강아지를 의미한다.\n",
        "-   `_` 이전의 영문명은 고양이 혹은 강아지의 종(breed)을 의미한다.\n",
        "\n",
        "이미지 파일명이 입력으로 오면 강아지인지 고양이인지 판단하여 ‘cat’ or\n",
        "’dog’를 리턴하는 함수 `f`를 구현하라.\n",
        "\n",
        "(함수사용예시)"
      ],
      "id": "e3f4389f-fbbb-42b6-a89a-d2b3fce31e6f"
    },
    {
      "cell_type": "code",
      "execution_count": null,
      "metadata": {
        "vscode": {
          "languageId": "python"
        },
        "id": "18392ac6"
      },
      "outputs": [],
      "source": [
        "f('yorkshire_terrier_99.jpg')"
      ],
      "id": "18392ac6"
    },
    {
      "cell_type": "code",
      "execution_count": null,
      "metadata": {
        "vscode": {
          "languageId": "python"
        },
        "id": "7dc91635"
      },
      "outputs": [],
      "source": [
        "f('Abyssinian_1.jpg')"
      ],
      "id": "7dc91635"
    },
    {
      "cell_type": "markdown",
      "metadata": {
        "id": "c7e5f68b-2703-44b3-b633-8f78bdb124a9"
      },
      "source": [
        "`7`. 5의 결과로 나온 `fname_list`를 입력으로 하고 리스트의 각 원소가\n",
        "고양이를 의미하는 그림인지 강아지를 의미하는 그림인지 나타내는 리스트를\n",
        "만들어라.\n",
        "\n",
        "``` python\n",
        "## 입력예시\n",
        "['Abyssinian_1.jpg','Abyssinian_10.jpg',...,'yorkshire_terrier_98.jpg', 'yorkshire_terrier_99.jpg']\n",
        "\n",
        "## 출력예시\n",
        "['cat', 'cat', ... , 'dog', 'dog']\n",
        "```\n",
        "\n",
        "`8`. 강아지 그림과 고양이 그림이 각각 몇 장씩 포함되어 있는지 파악하는\n",
        "코드를 구현하라.\n",
        "\n",
        "**hint** 고양이 2403, 강아지 4990\n",
        "\n",
        "`9`. 포메라니안 종의 그림이 몇장있는지 파악하는 코드를 구현하라.\n",
        "\n",
        "**hint:** 포메라니안 그림은 파일명에 ‘pomeranian’ 을 포함한다."
      ],
      "id": "c7e5f68b-2703-44b3-b633-8f78bdb124a9"
    }
  ],
  "nbformat": 4,
  "nbformat_minor": 5,
  "metadata": {
    "kernelspec": {
      "name": "python3",
      "display_name": "Python 3 (ipykernel)",
      "language": "python"
    },
    "language_info": {
      "name": "python",
      "codemirror_mode": {
        "name": "ipython",
        "version": "3"
      },
      "file_extension": ".py",
      "mimetype": "text/x-python",
      "nbconvert_exporter": "python",
      "pygments_lexer": "ipython3",
      "version": "3.10.12"
    },
    "colab": {
      "provenance": []
    }
  }
}