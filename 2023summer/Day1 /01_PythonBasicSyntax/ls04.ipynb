{
  "cells": [
    {
      "cell_type": "markdown",
      "metadata": {
        "id": "view-in-github",
        "colab_type": "text"
      },
      "source": [
        "<a href=\"https://colab.research.google.com/github/simsang1l/python_workshop/blob/main/2023summer/Day1%20/01_PythonBasicSyntax/ls04.ipynb\" target=\"_parent\"><img src=\"https://colab.research.google.com/assets/colab-badge.svg\" alt=\"Open In Colab\"/></a>"
      ]
    },
    {
      "cell_type": "raw",
      "id": "b8f630de-ce8b-4217-b152-c7afe0de27ef",
      "metadata": {
        "tags": [],
        "id": "b8f630de-ce8b-4217-b152-c7afe0de27ef"
      },
      "source": [
        "---\n",
        "title: \"Lesson 04: 파이썬의 자료형 III (dict, set)\"\n",
        "author: \"최규빈\"\n",
        "date: \"06/24/2023\"\n",
        "---"
      ]
    },
    {
      "cell_type": "markdown",
      "id": "a510f1ea-e8f6-47b5-b5b5-3a8c4025e5a4",
      "metadata": {
        "id": "a510f1ea-e8f6-47b5-b5b5-3a8c4025e5a4"
      },
      "source": [
        "<a href=\"https://colab.research.google.com/github/guebin/PP2023SUM/blob/main/posts/Day1/01_PythonBasicSyntax/ls04.ipynb\"><img src=\"https://colab.research.google.com/assets/colab-badge.svg\" style=\"text-align: left\"></a>"
      ]
    },
    {
      "cell_type": "markdown",
      "id": "711794b5",
      "metadata": {
        "id": "711794b5"
      },
      "source": [
        "# 딕셔너리 기본내용"
      ]
    },
    {
      "cell_type": "markdown",
      "id": "1771edcd",
      "metadata": {
        "id": "1771edcd"
      },
      "source": [
        "## intro: str, list, tuple 정리"
      ]
    },
    {
      "cell_type": "markdown",
      "id": "4783ec51",
      "metadata": {
        "id": "4783ec51"
      },
      "source": [
        "`-` str, list, tuple은 모두 시퀀스형이라는 공통점이 있다. $\\to$ 원소의 위치번호로 인덱싱이 가능"
      ]
    },
    {
      "cell_type": "code",
      "execution_count": null,
      "id": "0a004a5c",
      "metadata": {
        "id": "0a004a5c"
      },
      "outputs": [],
      "source": [
        "lst = [1,2,3,4]"
      ]
    },
    {
      "cell_type": "code",
      "execution_count": null,
      "id": "d573fc0e",
      "metadata": {
        "id": "d573fc0e",
        "outputId": "e70b408f-ceef-4732-b23d-5daeeff60da7"
      },
      "outputs": [
        {
          "data": {
            "text/plain": [
              "1"
            ]
          },
          "metadata": {},
          "output_type": "display_data"
        }
      ],
      "source": [
        "lst[0] # 위치번호=0"
      ]
    },
    {
      "cell_type": "code",
      "execution_count": null,
      "id": "fc202bcb",
      "metadata": {
        "id": "fc202bcb",
        "outputId": "0976d6a4-4590-4237-ca8e-f437ce493523"
      },
      "outputs": [
        {
          "data": {
            "text/plain": [
              "4"
            ]
          },
          "metadata": {},
          "output_type": "display_data"
        }
      ],
      "source": [
        "lst[-1] # 위치번호=-1"
      ]
    },
    {
      "cell_type": "markdown",
      "id": "c043ea7a",
      "metadata": {
        "id": "c043ea7a"
      },
      "source": [
        "`-` str, list, tuple은 차이점도 존재함. 잠깐 정리해보자."
      ]
    },
    {
      "cell_type": "markdown",
      "id": "3140a9f0",
      "metadata": {
        "id": "3140a9f0"
      },
      "source": [
        "***시퀀스형의 카테고리***\n",
        "\n",
        "- 컨테니어형: list, tuple\n",
        "- 균일형: str\n",
        "- 가변형: list\n",
        "- 불변형: tuple, str"
      ]
    },
    {
      "cell_type": "markdown",
      "id": "5b3fea7c",
      "metadata": {
        "id": "5b3fea7c"
      },
      "source": [
        "***표로 정리하면***"
      ]
    },
    {
      "cell_type": "markdown",
      "id": "5c6dd104",
      "metadata": {
        "id": "5c6dd104"
      },
      "source": [
        "||컨테니어형|균일형|\n",
        "|:-:|:-:|:-:|\n",
        "|가변형|list|.|\n",
        "|불변형|tuple|str|"
      ]
    },
    {
      "cell_type": "markdown",
      "id": "90e53a82",
      "metadata": {
        "id": "90e53a82"
      },
      "source": [
        "`-` 시퀀스형이 아닌 1차원 자료형도 있을까? 원소의 위치번호로 인덱싱이 불가능한 자료형"
      ]
    },
    {
      "cell_type": "markdown",
      "id": "52b4bd9d",
      "metadata": {
        "id": "52b4bd9d"
      },
      "source": [
        "`-` 왜 이런게 필요할까?\n",
        "\n",
        "- 벡터에서 원소를 뽑는것은 정보의 모임에서 정보를 검색하는 것과 같다.\n",
        "- 정보를 `순서`대로 나열한뒤에 그 `순서`를 이용하여 검색하는 방법은 유용하다.\n",
        "- 하지만 경우에 따라서는 `키워드`를 기억해서 그 `키워드`를 바탕으로 정보에 접근하는 방법이 유용할 수 있다.  "
      ]
    },
    {
      "cell_type": "markdown",
      "id": "529fd2d2",
      "metadata": {
        "id": "529fd2d2"
      },
      "source": [
        "***카카오톡 대화내용검색***"
      ]
    },
    {
      "cell_type": "markdown",
      "id": "b27d3fe6",
      "metadata": {
        "id": "b27d3fe6"
      },
      "source": [
        "(상황1) `오늘아침`에 와이프가 `뭔가`를 카톡으로 부탁했었음. 그런데 그 `뭔가`가 기억안남."
      ]
    },
    {
      "cell_type": "markdown",
      "id": "f2092988",
      "metadata": {
        "id": "f2092988"
      },
      "source": [
        "(상황2) `개강전에` 동료교수와 함께 `저녁약속`을 카톡으로 잡았었음. 그런데 그게 언제인지 기억안남."
      ]
    },
    {
      "cell_type": "markdown",
      "id": "a4fb90c3",
      "metadata": {
        "id": "a4fb90c3"
      },
      "source": [
        "(상황3) `오늘아침` 동료교수와 함께 `점심약속`을 카톡으로 잡았었음. 그런데 그 장소가 기억나지 않음."
      ]
    },
    {
      "cell_type": "markdown",
      "id": "c80d6530",
      "metadata": {
        "id": "c80d6530"
      },
      "source": [
        "`-` 순서대로 정리된 자료를 검색할때는 시퀀스형이 유리하다. 그런데 키워드로 검색하고 싶을 경우는 딕셔너리 타입이 유리하다."
      ]
    },
    {
      "cell_type": "markdown",
      "id": "ce61094b",
      "metadata": {
        "id": "ce61094b"
      },
      "source": [
        "## 선언"
      ]
    },
    {
      "cell_type": "markdown",
      "id": "be7c928a",
      "metadata": {
        "id": "be7c928a"
      },
      "source": [
        "`-` 방법1: 가장 일반적"
      ]
    },
    {
      "cell_type": "code",
      "execution_count": null,
      "id": "82b8c4a1",
      "metadata": {
        "id": "82b8c4a1",
        "outputId": "cdea3c5b-5175-4b8b-c12a-178b1b998560"
      },
      "outputs": [
        {
          "data": {
            "text/plain": [
              "{'guebin': 49, 'hanni': 80}"
            ]
          },
          "metadata": {},
          "output_type": "display_data"
        }
      ],
      "source": [
        "dct = {'guebin':49, 'hanni':80}\n",
        "dct"
      ]
    },
    {
      "cell_type": "markdown",
      "id": "ee958112",
      "metadata": {
        "id": "ee958112"
      },
      "source": [
        "`-` 방법2: `dict()` 이용"
      ]
    },
    {
      "cell_type": "code",
      "execution_count": null,
      "id": "33c920f4",
      "metadata": {
        "id": "33c920f4",
        "outputId": "78ef3e75-6709-444a-e73c-f7d2cb66749b"
      },
      "outputs": [
        {
          "data": {
            "text/plain": [
              "{'guebin': 49, 'hanni': 80}"
            ]
          },
          "metadata": {},
          "output_type": "display_data"
        }
      ],
      "source": [
        "dct = dict(guebin=49, hanni=80)\n",
        "dct"
      ]
    },
    {
      "cell_type": "markdown",
      "id": "e3b70dda",
      "metadata": {
        "id": "e3b70dda"
      },
      "source": [
        "`-` 방법3: 중첩된 리스트를 만든 뒤에 형태변환"
      ]
    },
    {
      "cell_type": "code",
      "execution_count": null,
      "id": "2249d116",
      "metadata": {
        "id": "2249d116",
        "outputId": "8c87dace-3b85-42c1-d4de-7bed8c214510"
      },
      "outputs": [
        {
          "data": {
            "text/plain": [
              "[['guebin', 49], ['hanni', 80]]"
            ]
          },
          "metadata": {},
          "output_type": "display_data"
        }
      ],
      "source": [
        "_lst = [['guebin',49],['hanni',80]]\n",
        "_lst"
      ]
    },
    {
      "cell_type": "code",
      "execution_count": null,
      "id": "e96f955a",
      "metadata": {
        "id": "e96f955a",
        "outputId": "78d43abe-4efb-4115-b777-72ff522d5ebe"
      },
      "outputs": [
        {
          "data": {
            "text/plain": [
              "{'guebin': 49, 'hanni': 80}"
            ]
          },
          "metadata": {},
          "output_type": "display_data"
        }
      ],
      "source": [
        "dict(_lst)"
      ]
    },
    {
      "cell_type": "markdown",
      "id": "f87df070",
      "metadata": {
        "id": "f87df070"
      },
      "source": [
        "`-` 방법4: 중첩된 튜플을 만든 뒤에 형태변환"
      ]
    },
    {
      "cell_type": "code",
      "execution_count": null,
      "id": "efd283bf",
      "metadata": {
        "id": "efd283bf",
        "outputId": "8578ff1a-6a39-4f3b-edf2-0db5d4ebee3b"
      },
      "outputs": [
        {
          "data": {
            "text/plain": [
              "(('guebin', 49), ('hanni', 80))"
            ]
          },
          "metadata": {},
          "output_type": "display_data"
        }
      ],
      "source": [
        "_tpl = ('guebin',49), ('hanni',80)\n",
        "_tpl"
      ]
    },
    {
      "cell_type": "code",
      "execution_count": null,
      "id": "d0f6ea74",
      "metadata": {
        "id": "d0f6ea74",
        "outputId": "00d06d82-93a2-4d4b-e668-cc27418fdaf2"
      },
      "outputs": [
        {
          "data": {
            "text/plain": [
              "{'guebin': 49, 'hanni': 80}"
            ]
          },
          "metadata": {},
          "output_type": "display_data"
        }
      ],
      "source": [
        "dict(_tpl)"
      ]
    },
    {
      "cell_type": "markdown",
      "id": "6406c138",
      "metadata": {
        "id": "6406c138"
      },
      "source": [
        "## 원소추출"
      ]
    },
    {
      "cell_type": "markdown",
      "id": "d746d7a6",
      "metadata": {
        "id": "d746d7a6"
      },
      "source": [
        "`-` 원소의 위치로 추출할 수 없고, key로 추출해야 한다."
      ]
    },
    {
      "cell_type": "code",
      "execution_count": null,
      "id": "feecfeb1",
      "metadata": {
        "id": "feecfeb1",
        "outputId": "91222186-4d7f-4b33-e834-bc910f0537c2"
      },
      "outputs": [
        {
          "data": {
            "text/plain": [
              "{'guebin': 49, 'hanni': 80}"
            ]
          },
          "metadata": {},
          "output_type": "display_data"
        }
      ],
      "source": [
        "dct = {'guebin':49, 'hanni':80}\n",
        "dct"
      ]
    },
    {
      "cell_type": "markdown",
      "id": "020420ac",
      "metadata": {
        "id": "020420ac"
      },
      "source": [
        "guebin의 점수를 추출하고 싶다면?"
      ]
    },
    {
      "cell_type": "code",
      "execution_count": null,
      "id": "1f76b4d8",
      "metadata": {
        "id": "1f76b4d8",
        "outputId": "adcad05a-802b-4b6e-fc94-b29486bd9a19"
      },
      "outputs": [
        {
          "data": {
            "text/plain": [
              "49"
            ]
          },
          "metadata": {},
          "output_type": "display_data"
        }
      ],
      "source": [
        "dct['guebin']"
      ]
    },
    {
      "cell_type": "markdown",
      "id": "f4788069",
      "metadata": {
        "id": "f4788069"
      },
      "source": [
        "`-` 만약에 dict가 아니라 list로 정보를 저장했다면?"
      ]
    },
    {
      "cell_type": "markdown",
      "id": "7ee04e75",
      "metadata": {
        "id": "7ee04e75"
      },
      "source": [
        "(예제) 아래와 같은 리스트에서 guebin의 점수를 추출하고 싶다면?"
      ]
    },
    {
      "cell_type": "code",
      "execution_count": null,
      "id": "3f1c71dc",
      "metadata": {
        "id": "3f1c71dc",
        "outputId": "21de4996-6240-478e-f9b1-e603faedd54c"
      },
      "outputs": [
        {
          "data": {
            "text/plain": [
              "[['guebin', 49], ['hanni', 80]]"
            ]
          },
          "metadata": {},
          "output_type": "display_data"
        }
      ],
      "source": [
        "lst=[['guebin',49],['hanni',80]]\n",
        "lst"
      ]
    },
    {
      "cell_type": "markdown",
      "id": "bf31a10e",
      "metadata": {
        "id": "bf31a10e"
      },
      "source": [
        "(풀이1)"
      ]
    },
    {
      "cell_type": "code",
      "execution_count": null,
      "id": "203261fa",
      "metadata": {
        "id": "203261fa",
        "outputId": "dbcde9d5-2539-441e-f6aa-e41fa2230595"
      },
      "outputs": [
        {
          "data": {
            "text/plain": [
              "49"
            ]
          },
          "metadata": {},
          "output_type": "display_data"
        }
      ],
      "source": [
        "lst[0][1] # guebin의 점수를 출력하란 의미"
      ]
    },
    {
      "cell_type": "markdown",
      "id": "c14d1357",
      "metadata": {
        "id": "c14d1357"
      },
      "source": [
        "(풀이2) -- 진짜 최악"
      ]
    },
    {
      "cell_type": "code",
      "execution_count": null,
      "id": "8c795e13",
      "metadata": {
        "id": "8c795e13",
        "outputId": "bd79ec88-4979-42e8-8495-0e451acfb926"
      },
      "outputs": [
        {
          "data": {
            "text/plain": [
              "[49]"
            ]
          },
          "metadata": {},
          "output_type": "display_data"
        }
      ],
      "source": [
        "[lst[i][1] for i in range(len(lst)) if lst[i][0] == 'guebin']"
      ]
    },
    {
      "cell_type": "markdown",
      "id": "5d4f06a8",
      "metadata": {
        "id": "5d4f06a8"
      },
      "source": [
        "(풀이3) -- 덜 최악"
      ]
    },
    {
      "cell_type": "code",
      "execution_count": null,
      "id": "de98cd04",
      "metadata": {
        "id": "de98cd04",
        "outputId": "c7ca5acf-605f-47f8-83f2-38d59bf5460e"
      },
      "outputs": [
        {
          "data": {
            "text/plain": [
              "[49]"
            ]
          },
          "metadata": {},
          "output_type": "display_data"
        }
      ],
      "source": [
        "[score for name,score in lst if name == 'guebin']"
      ]
    },
    {
      "cell_type": "markdown",
      "id": "31d9424c",
      "metadata": {
        "id": "31d9424c"
      },
      "source": [
        "`-` 'guebin'의 점수를 추출하는 코드 비교"
      ]
    },
    {
      "cell_type": "code",
      "execution_count": null,
      "id": "adf59e59",
      "metadata": {
        "id": "adf59e59",
        "outputId": "0af7c093-97eb-44e1-978a-892785639bc6"
      },
      "outputs": [
        {
          "data": {
            "text/plain": [
              "49"
            ]
          },
          "metadata": {},
          "output_type": "display_data"
        }
      ],
      "source": [
        "dct['guebin'] # 코드1: 단순하고, 가독성있음"
      ]
    },
    {
      "cell_type": "code",
      "execution_count": null,
      "id": "d7605808",
      "metadata": {
        "id": "d7605808",
        "outputId": "935ec98f-0420-42b2-d5b2-c4a256a1fb82"
      },
      "outputs": [
        {
          "data": {
            "text/plain": [
              "49"
            ]
          },
          "metadata": {},
          "output_type": "display_data"
        }
      ],
      "source": [
        "lst[0][1] # 코드2: 단순하지만, 가독성이 있는건 아님"
      ]
    },
    {
      "cell_type": "code",
      "execution_count": null,
      "id": "8b08f88e",
      "metadata": {
        "id": "8b08f88e",
        "outputId": "a32c2df4-a16d-447f-f0f8-73d147dfcc32"
      },
      "outputs": [
        {
          "data": {
            "text/plain": [
              "[49]"
            ]
          },
          "metadata": {},
          "output_type": "display_data"
        }
      ],
      "source": [
        "[lst[i][1] for i in range(len(lst)) if lst[i][0] =='guebin'] # 코드3: 단순하지도 않고, 가독성도 없음."
      ]
    },
    {
      "cell_type": "code",
      "execution_count": null,
      "id": "8e07a60b",
      "metadata": {
        "id": "8e07a60b",
        "outputId": "3b0ff0f8-80aa-431f-f805-f7cf51ee1f7c"
      },
      "outputs": [
        {
          "data": {
            "text/plain": [
              "[49]"
            ]
          },
          "metadata": {},
          "output_type": "display_data"
        }
      ],
      "source": [
        "[score for name,score in lst if name=='guebin' ] # 코드4: 단순하지 않지만, 가독성은 있음"
      ]
    },
    {
      "cell_type": "markdown",
      "id": "34b479d1",
      "metadata": {
        "id": "34b479d1"
      },
      "source": [
        "## 원소추가, 변경, 삭제"
      ]
    },
    {
      "cell_type": "code",
      "execution_count": null,
      "id": "171ce1d9",
      "metadata": {
        "id": "171ce1d9",
        "outputId": "41ba172d-763d-4386-8356-3c5e96c929c0"
      },
      "outputs": [
        {
          "data": {
            "text/plain": [
              "{'guebin': 49, 'hanni': 80}"
            ]
          },
          "metadata": {},
          "output_type": "display_data"
        }
      ],
      "source": [
        "dct={'guebin':49, 'hanni':80}\n",
        "dct"
      ]
    },
    {
      "cell_type": "markdown",
      "id": "8068d725",
      "metadata": {
        "id": "8068d725"
      },
      "source": [
        "`-` 원소에 접근: guebin의 점수 출력"
      ]
    },
    {
      "cell_type": "code",
      "execution_count": null,
      "id": "abdfe838",
      "metadata": {
        "id": "abdfe838",
        "outputId": "d32c715b-d74e-4f58-dfac-6e45962a22eb"
      },
      "outputs": [
        {
          "data": {
            "text/plain": [
              "49"
            ]
          },
          "metadata": {},
          "output_type": "display_data"
        }
      ],
      "source": [
        "dct['guebin']"
      ]
    },
    {
      "cell_type": "markdown",
      "id": "a0e4bb22",
      "metadata": {
        "id": "a0e4bb22"
      },
      "source": [
        "`-` 추가: hynn학생의 점수를 추가"
      ]
    },
    {
      "cell_type": "code",
      "execution_count": null,
      "id": "84860ec5",
      "metadata": {
        "id": "84860ec5"
      },
      "outputs": [],
      "source": [
        "dct['hynn'] = 99"
      ]
    },
    {
      "cell_type": "code",
      "execution_count": null,
      "id": "24aded48",
      "metadata": {
        "id": "24aded48",
        "outputId": "61c6c670-0170-4fe5-9107-c6b37e9e8fb8"
      },
      "outputs": [
        {
          "data": {
            "text/plain": [
              "{'guebin': 49, 'hanni': 80, 'hynn': 99}"
            ]
          },
          "metadata": {},
          "output_type": "display_data"
        }
      ],
      "source": [
        "dct"
      ]
    },
    {
      "cell_type": "markdown",
      "id": "e4f841e2",
      "metadata": {
        "id": "e4f841e2"
      },
      "source": [
        "`-` 변경: hanni의 점수를 변경"
      ]
    },
    {
      "cell_type": "code",
      "execution_count": null,
      "id": "41211859",
      "metadata": {
        "id": "41211859"
      },
      "outputs": [],
      "source": [
        "dct['hanni'] = 100"
      ]
    },
    {
      "cell_type": "code",
      "execution_count": null,
      "id": "2732e570",
      "metadata": {
        "id": "2732e570",
        "outputId": "502fb46d-d24c-43e4-a1f6-bcf943faf67c"
      },
      "outputs": [
        {
          "data": {
            "text/plain": [
              "{'guebin': 49, 'hanni': 100, 'hynn': 99}"
            ]
          },
          "metadata": {},
          "output_type": "display_data"
        }
      ],
      "source": [
        "dct"
      ]
    },
    {
      "cell_type": "markdown",
      "id": "a88d7fed",
      "metadata": {
        "id": "a88d7fed"
      },
      "source": [
        "`-` 삭제"
      ]
    },
    {
      "cell_type": "markdown",
      "id": "56c2a7e7",
      "metadata": {
        "id": "56c2a7e7"
      },
      "source": [
        "(방법1)"
      ]
    },
    {
      "cell_type": "code",
      "execution_count": null,
      "id": "e8686af7",
      "metadata": {
        "id": "e8686af7",
        "outputId": "13aa2e5c-57a4-4309-fa7e-dac58eec5183"
      },
      "outputs": [
        {
          "data": {
            "text/plain": [
              "{'hanni': 80, 'hynn': 99}"
            ]
          },
          "metadata": {},
          "output_type": "display_data"
        }
      ],
      "source": [
        "dct={'guebin':49, 'hanni':80, 'hynn':99}\n",
        "del dct['guebin']\n",
        "dct"
      ]
    },
    {
      "cell_type": "markdown",
      "id": "9da033be",
      "metadata": {
        "id": "9da033be"
      },
      "source": [
        "(방법2)"
      ]
    },
    {
      "cell_type": "code",
      "execution_count": null,
      "id": "b5e9a1c3",
      "metadata": {
        "id": "b5e9a1c3",
        "outputId": "d278c456-1b0d-4fa6-820d-a7fa791667fb"
      },
      "outputs": [
        {
          "data": {
            "text/plain": [
              "49"
            ]
          },
          "metadata": {},
          "output_type": "display_data"
        }
      ],
      "source": [
        "dct={'guebin':49, 'hanni':80, 'hynn':99}\n",
        "dct.pop('guebin')"
      ]
    },
    {
      "cell_type": "code",
      "execution_count": null,
      "id": "01ed9212",
      "metadata": {
        "id": "01ed9212",
        "outputId": "d22a3945-108d-41b1-fc00-ef9741c5f263"
      },
      "outputs": [
        {
          "data": {
            "text/plain": [
              "{'hanni': 80, 'hynn': 99}"
            ]
          },
          "metadata": {},
          "output_type": "display_data"
        }
      ],
      "source": [
        "dct"
      ]
    },
    {
      "cell_type": "markdown",
      "id": "5bee4c32",
      "metadata": {
        "id": "5bee4c32"
      },
      "source": [
        "`-` 참고로 리스트였다면 이러한 삭제작업역시 비효율적이었을 것임"
      ]
    },
    {
      "cell_type": "code",
      "execution_count": null,
      "id": "a64ede40",
      "metadata": {
        "id": "a64ede40",
        "outputId": "f0e0c20d-2207-450f-d20d-1b563470c63f"
      },
      "outputs": [
        {
          "data": {
            "text/plain": [
              "[['guebin', 49], ['hanni', 80], ['hynn', 99]]"
            ]
          },
          "metadata": {},
          "output_type": "display_data"
        }
      ],
      "source": [
        "lst = [['guebin',49],['hanni',80],['hynn',99]]\n",
        "lst"
      ]
    },
    {
      "cell_type": "markdown",
      "id": "3031013d",
      "metadata": {
        "id": "3031013d"
      },
      "source": [
        "guebin의 점수를 삭제하려면?"
      ]
    },
    {
      "cell_type": "code",
      "execution_count": null,
      "id": "809e9372",
      "metadata": {
        "id": "809e9372",
        "outputId": "00950237-a629-4b8e-f4af-f94fc6bb3ca6"
      },
      "outputs": [
        {
          "data": {
            "text/plain": [
              "[['hanni', 80], ['hynn', 99]]"
            ]
          },
          "metadata": {},
          "output_type": "display_data"
        }
      ],
      "source": [
        "[[name,score] for name,score in lst if name != 'guebin']"
      ]
    },
    {
      "cell_type": "markdown",
      "id": "8376662d",
      "metadata": {
        "id": "8376662d"
      },
      "source": [
        "## 연산"
      ]
    },
    {
      "cell_type": "markdown",
      "id": "b91456b6",
      "metadata": {
        "id": "b91456b6"
      },
      "source": [
        "`-` 하나있어요.."
      ]
    },
    {
      "cell_type": "code",
      "execution_count": null,
      "id": "c6f4533c",
      "metadata": {
        "id": "c6f4533c",
        "outputId": "d2b4f6ec-10e6-4e6f-d59f-679283d381d4"
      },
      "outputs": [
        {
          "data": {
            "text/plain": [
              "{'guebin': 49, 'hanni': 80}"
            ]
          },
          "metadata": {},
          "output_type": "display_data"
        }
      ],
      "source": [
        "dct = {'guebin':49, 'hanni':80}\n",
        "dct"
      ]
    },
    {
      "cell_type": "code",
      "execution_count": null,
      "id": "31feebc8",
      "metadata": {
        "id": "31feebc8",
        "outputId": "3515276a-acd2-41ca-b7c6-b9309c9b00f0"
      },
      "outputs": [
        {
          "data": {
            "text/plain": [
              "True"
            ]
          },
          "metadata": {},
          "output_type": "display_data"
        }
      ],
      "source": [
        "'guebin' in dct"
      ]
    },
    {
      "cell_type": "code",
      "execution_count": null,
      "id": "ef7e8653",
      "metadata": {
        "id": "ef7e8653",
        "outputId": "5704fa0a-d5e2-42f7-e215-6dc20ea67e21"
      },
      "outputs": [
        {
          "data": {
            "text/plain": [
              "True"
            ]
          },
          "metadata": {},
          "output_type": "display_data"
        }
      ],
      "source": [
        "'hanni' in dct"
      ]
    },
    {
      "cell_type": "code",
      "execution_count": null,
      "id": "9a24c8e5",
      "metadata": {
        "id": "9a24c8e5",
        "outputId": "f4fa01b7-ce70-43f8-8fa0-1697d3ea2b4d"
      },
      "outputs": [
        {
          "data": {
            "text/plain": [
              "False"
            ]
          },
          "metadata": {},
          "output_type": "display_data"
        }
      ],
      "source": [
        "'hynn' in dct"
      ]
    },
    {
      "cell_type": "markdown",
      "id": "68f9b9ac",
      "metadata": {
        "id": "68f9b9ac"
      },
      "source": [
        "`-` in은 사실 다른자료형도 가능했음"
      ]
    },
    {
      "cell_type": "markdown",
      "id": "a128aad5",
      "metadata": {
        "id": "a128aad5"
      },
      "source": [
        "(관찰1)"
      ]
    },
    {
      "cell_type": "code",
      "execution_count": null,
      "id": "08545413",
      "metadata": {
        "id": "08545413",
        "outputId": "35cccdf2-df50-4f6b-de5d-c8dd1277e9cf"
      },
      "outputs": [
        {
          "data": {
            "text/plain": [
              "False"
            ]
          },
          "metadata": {},
          "output_type": "display_data"
        }
      ],
      "source": [
        "'a' in 'guebin'"
      ]
    },
    {
      "cell_type": "code",
      "execution_count": null,
      "id": "d4a0c835",
      "metadata": {
        "id": "d4a0c835",
        "outputId": "aabbbb63-19f5-4628-a30c-cb6d8cbef393"
      },
      "outputs": [
        {
          "data": {
            "text/plain": [
              "True"
            ]
          },
          "metadata": {},
          "output_type": "display_data"
        }
      ],
      "source": [
        "'b' in 'guebin'"
      ]
    },
    {
      "cell_type": "code",
      "execution_count": null,
      "id": "b1d1aed4",
      "metadata": {
        "id": "b1d1aed4",
        "outputId": "7bee9e50-2665-4416-ac62-1ca908983eb5"
      },
      "outputs": [
        {
          "data": {
            "text/plain": [
              "False"
            ]
          },
          "metadata": {},
          "output_type": "display_data"
        }
      ],
      "source": [
        "'c' in 'guebin'"
      ]
    },
    {
      "cell_type": "markdown",
      "id": "4c163b87",
      "metadata": {
        "id": "4c163b87"
      },
      "source": [
        "(관찰2)"
      ]
    },
    {
      "cell_type": "code",
      "execution_count": null,
      "id": "411a3af6",
      "metadata": {
        "id": "411a3af6",
        "outputId": "4cb7f029-fedb-4249-b3cb-8167a78b0d49"
      },
      "outputs": [
        {
          "data": {
            "text/plain": [
              "(1, 2, 3)"
            ]
          },
          "metadata": {},
          "output_type": "display_data"
        }
      ],
      "source": [
        "tpl = 1,2,3\n",
        "tpl"
      ]
    },
    {
      "cell_type": "code",
      "execution_count": null,
      "id": "7ac29a71",
      "metadata": {
        "id": "7ac29a71",
        "outputId": "bbcd0bb9-542b-4e53-d62b-5721021ad9d0"
      },
      "outputs": [
        {
          "data": {
            "text/plain": [
              "True"
            ]
          },
          "metadata": {},
          "output_type": "display_data"
        }
      ],
      "source": [
        "1 in tpl"
      ]
    },
    {
      "cell_type": "code",
      "execution_count": null,
      "id": "0388d08e",
      "metadata": {
        "id": "0388d08e",
        "outputId": "3b6e6d76-779e-4435-bbe8-b00b48050882"
      },
      "outputs": [
        {
          "data": {
            "text/plain": [
              "False"
            ]
          },
          "metadata": {},
          "output_type": "display_data"
        }
      ],
      "source": [
        "4 in tpl"
      ]
    },
    {
      "cell_type": "markdown",
      "id": "9c1a2398",
      "metadata": {
        "id": "9c1a2398"
      },
      "source": [
        "(관찰3)"
      ]
    },
    {
      "cell_type": "code",
      "execution_count": null,
      "id": "577d2248",
      "metadata": {
        "id": "577d2248",
        "outputId": "e2f6a201-eea4-4d37-81ba-45fd65fd7e44"
      },
      "outputs": [
        {
          "data": {
            "text/plain": [
              "[['guebin', 49], ['hanni', 80], ['hynn', 99]]"
            ]
          },
          "metadata": {},
          "output_type": "display_data"
        }
      ],
      "source": [
        "lst = [['guebin',49],['hanni',80],['hynn',99]]\n",
        "lst"
      ]
    },
    {
      "cell_type": "code",
      "execution_count": null,
      "id": "67be7517",
      "metadata": {
        "id": "67be7517",
        "outputId": "7f3275e2-032a-41e8-c34c-052b62a7b237"
      },
      "outputs": [
        {
          "data": {
            "text/plain": [
              "True"
            ]
          },
          "metadata": {},
          "output_type": "display_data"
        }
      ],
      "source": [
        "['guebin',49] in lst"
      ]
    },
    {
      "cell_type": "markdown",
      "id": "61e003af",
      "metadata": {
        "id": "61e003af"
      },
      "source": [
        "`-` in연산자가 dict형에 사용되면 key를 기준으로 True, False를 판단한다."
      ]
    },
    {
      "cell_type": "markdown",
      "id": "f506297f",
      "metadata": {
        "id": "f506297f"
      },
      "source": [
        "## 딕셔너리 특수기능"
      ]
    },
    {
      "cell_type": "markdown",
      "id": "9d988c64",
      "metadata": {
        "id": "9d988c64"
      },
      "source": [
        "**(pop)**"
      ]
    },
    {
      "cell_type": "code",
      "execution_count": null,
      "id": "b0224b8d",
      "metadata": {
        "id": "b0224b8d",
        "outputId": "619b45df-0e97-45ba-fcc7-864e1b1241d4"
      },
      "outputs": [
        {
          "data": {
            "text/plain": [
              "{'guebin': 49}"
            ]
          },
          "metadata": {},
          "output_type": "display_data"
        }
      ],
      "source": [
        "dct = {'guebin':49, 'hanni':80}\n",
        "dct.pop('hanni')\n",
        "dct"
      ]
    },
    {
      "cell_type": "markdown",
      "id": "7491fc71",
      "metadata": {
        "id": "7491fc71"
      },
      "source": [
        "**(get)**"
      ]
    },
    {
      "cell_type": "code",
      "execution_count": null,
      "id": "e37bec1e",
      "metadata": {
        "id": "e37bec1e",
        "outputId": "bf908cc7-f615-4bad-ccf9-2dc8a15c09b8"
      },
      "outputs": [
        {
          "data": {
            "text/plain": [
              "{'guebin': 49, 'hanni': 80}"
            ]
          },
          "metadata": {},
          "output_type": "display_data"
        }
      ],
      "source": [
        "dct = {'guebin':49, 'hanni':80}\n",
        "dct"
      ]
    },
    {
      "cell_type": "code",
      "execution_count": null,
      "id": "29820be9",
      "metadata": {
        "id": "29820be9",
        "outputId": "dcd5bb32-2163-4514-8b6b-7912b0176894"
      },
      "outputs": [
        {
          "data": {
            "text/plain": [
              "49"
            ]
          },
          "metadata": {},
          "output_type": "display_data"
        }
      ],
      "source": [
        "dct.get('guebin')"
      ]
    },
    {
      "cell_type": "markdown",
      "id": "aa5c5523",
      "metadata": {
        "id": "aa5c5523"
      },
      "source": [
        "아래와 같은 기능"
      ]
    },
    {
      "cell_type": "code",
      "execution_count": null,
      "id": "d33791fd",
      "metadata": {
        "id": "d33791fd",
        "outputId": "7e4c0b96-f1ce-45a8-a02d-703fb4c951cd"
      },
      "outputs": [
        {
          "data": {
            "text/plain": [
              "49"
            ]
          },
          "metadata": {},
          "output_type": "display_data"
        }
      ],
      "source": [
        "dct['guebin']"
      ]
    },
    {
      "cell_type": "markdown",
      "id": "9133ea5d",
      "metadata": {
        "id": "9133ea5d"
      },
      "source": [
        "미묘한 차이점이 존재함"
      ]
    },
    {
      "cell_type": "code",
      "execution_count": null,
      "id": "f1b3245e",
      "metadata": {
        "id": "f1b3245e",
        "outputId": "28248bcc-5e07-451b-fe41-e34bdc9f97c1"
      },
      "outputs": [
        {
          "ename": "KeyError",
          "evalue": "'hynn'",
          "output_type": "error",
          "traceback": [
            "\u001b[0;31m---------------------------------------------------------------------------\u001b[0m\n",
            "\u001b[0;31mKeyError\u001b[0m                                  Traceback (most recent call last)\n",
            "Cell \u001b[0;32mIn[151], line 1\u001b[0m\n",
            "\u001b[0;32m----> 1\u001b[0m \u001b[43mdct\u001b[49m\u001b[43m[\u001b[49m\u001b[38;5;124;43m'\u001b[39;49m\u001b[38;5;124;43mhynn\u001b[39;49m\u001b[38;5;124;43m'\u001b[39;49m\u001b[43m]\u001b[49m \u001b[38;5;66;03m# hynn이 없어서 키에러 출력, 그런 key는 없다.. \u001b[39;00m\n",
            "\n",
            "\u001b[0;31mKeyError\u001b[0m: 'hynn'"
          ]
        }
      ],
      "source": [
        "dct['hynn'] # hynn이 없어서 키에러 출력, 그런 key는 없다.."
      ]
    },
    {
      "cell_type": "code",
      "execution_count": null,
      "id": "d3a6c21b",
      "metadata": {
        "id": "d3a6c21b"
      },
      "outputs": [],
      "source": [
        "dct.get('hynn') # hynn이 없으면 아무것도 출력안함"
      ]
    },
    {
      "cell_type": "markdown",
      "id": "9a6e8bd4",
      "metadata": {
        "id": "9a6e8bd4"
      },
      "source": [
        "**(keys,values,items)**"
      ]
    },
    {
      "cell_type": "markdown",
      "id": "889dfe08",
      "metadata": {
        "id": "889dfe08"
      },
      "source": [
        "`-` .keys()는 딕셔너리의 키를 리턴한다.  "
      ]
    },
    {
      "cell_type": "code",
      "execution_count": null,
      "id": "8c1704ab",
      "metadata": {
        "id": "8c1704ab",
        "outputId": "9f018ed9-783d-4b3e-b7d0-c75064a8b6fc"
      },
      "outputs": [
        {
          "data": {
            "text/plain": [
              "{'guebin': 49, 'hanni': 80}"
            ]
          },
          "metadata": {},
          "output_type": "display_data"
        }
      ],
      "source": [
        "dct = {'guebin':49, 'hanni':80}\n",
        "dct"
      ]
    },
    {
      "cell_type": "code",
      "execution_count": null,
      "id": "9486d194",
      "metadata": {
        "id": "9486d194",
        "outputId": "4af7f3b5-2e29-4245-c1ad-ac4ef7557dd7"
      },
      "outputs": [
        {
          "data": {
            "text/plain": [
              "dict_keys(['guebin', 'hanni'])"
            ]
          },
          "metadata": {},
          "output_type": "display_data"
        }
      ],
      "source": [
        "_keys=dct.keys()\n",
        "_keys"
      ]
    },
    {
      "cell_type": "code",
      "execution_count": null,
      "id": "f9d4436d",
      "metadata": {
        "id": "f9d4436d",
        "outputId": "675ff78e-6a29-43c5-8eb1-59a0425b329c"
      },
      "outputs": [
        {
          "data": {
            "text/plain": [
              "dict_keys"
            ]
          },
          "metadata": {},
          "output_type": "display_data"
        }
      ],
      "source": [
        "type(_keys) # 리턴된 자료형은 이상한것임"
      ]
    },
    {
      "cell_type": "code",
      "execution_count": null,
      "id": "99fa6146",
      "metadata": {
        "id": "99fa6146",
        "outputId": "1a2e0c02-4948-40eb-eed9-3862284a989d"
      },
      "outputs": [
        {
          "data": {
            "text/plain": [
              "['guebin', 'hanni']"
            ]
          },
          "metadata": {},
          "output_type": "display_data"
        }
      ],
      "source": [
        "list(_keys) # 아무튼 그 이상한 자료형도 리스트화 가능"
      ]
    },
    {
      "cell_type": "markdown",
      "id": "4a67828e",
      "metadata": {
        "id": "4a67828e"
      },
      "source": [
        "`-` .values()는 딕셔너리의 값들을 리턴한다."
      ]
    },
    {
      "cell_type": "code",
      "execution_count": null,
      "id": "fc9a7692",
      "metadata": {
        "id": "fc9a7692",
        "outputId": "754fc52a-d956-4963-c968-0fe917073601"
      },
      "outputs": [
        {
          "data": {
            "text/plain": [
              "dict_values([49, 80])"
            ]
          },
          "metadata": {},
          "output_type": "display_data"
        }
      ],
      "source": [
        "_values = dct.values()\n",
        "_values"
      ]
    },
    {
      "cell_type": "code",
      "execution_count": null,
      "id": "7c26c3f7",
      "metadata": {
        "id": "7c26c3f7",
        "outputId": "50016d4d-9f8b-4835-abed-0081c93741a0"
      },
      "outputs": [
        {
          "data": {
            "text/plain": [
              "dict_values"
            ]
          },
          "metadata": {},
          "output_type": "display_data"
        }
      ],
      "source": [
        "type(_values)"
      ]
    },
    {
      "cell_type": "code",
      "execution_count": null,
      "id": "068516fa",
      "metadata": {
        "id": "068516fa",
        "outputId": "57fcd1b8-0c8b-4f87-94f1-92ae29856ee2"
      },
      "outputs": [
        {
          "data": {
            "text/plain": [
              "[49, 80]"
            ]
          },
          "metadata": {},
          "output_type": "display_data"
        }
      ],
      "source": [
        "list(_values)"
      ]
    },
    {
      "cell_type": "markdown",
      "id": "c8c36709",
      "metadata": {
        "id": "c8c36709"
      },
      "source": [
        "`-` .items()는 딕셔너리의 (키,값)을 리턴한다."
      ]
    },
    {
      "cell_type": "code",
      "execution_count": null,
      "id": "10b11b90",
      "metadata": {
        "id": "10b11b90",
        "outputId": "fcbefe89-3b66-4ee4-f3d1-420911a52840"
      },
      "outputs": [
        {
          "data": {
            "text/plain": [
              "dict_items([('guebin', 49), ('hanni', 80)])"
            ]
          },
          "metadata": {},
          "output_type": "display_data"
        }
      ],
      "source": [
        "_items = dct.items()\n",
        "_items"
      ]
    },
    {
      "cell_type": "code",
      "execution_count": null,
      "id": "f5827635",
      "metadata": {
        "id": "f5827635",
        "outputId": "8c8a317f-3d9a-467f-8284-2fe69a3fe9d0"
      },
      "outputs": [
        {
          "data": {
            "text/plain": [
              "dict_items"
            ]
          },
          "metadata": {},
          "output_type": "display_data"
        }
      ],
      "source": [
        "type(_items)"
      ]
    },
    {
      "cell_type": "code",
      "execution_count": null,
      "id": "da10cc8c",
      "metadata": {
        "id": "da10cc8c",
        "outputId": "3e341f6f-4e1d-4ada-bab3-f80b8f9c42c3"
      },
      "outputs": [
        {
          "data": {
            "text/plain": [
              "[('guebin', 49), ('hanni', 80)]"
            ]
          },
          "metadata": {},
          "output_type": "display_data"
        }
      ],
      "source": [
        "list(_items)"
      ]
    },
    {
      "cell_type": "markdown",
      "id": "5f42a7db",
      "metadata": {
        "id": "5f42a7db"
      },
      "source": [
        "## for문과 dict ($\\star$)"
      ]
    },
    {
      "cell_type": "code",
      "execution_count": null,
      "id": "b8cd6316",
      "metadata": {
        "id": "b8cd6316",
        "outputId": "fd72a8ac-a9f8-4463-8848-0b7195ec4ad6"
      },
      "outputs": [
        {
          "data": {
            "text/plain": [
              "{'guebin': 49, 'hanni': 80}"
            ]
          },
          "metadata": {},
          "output_type": "display_data"
        }
      ],
      "source": [
        "dct = {'guebin': 49, 'hanni': 80}\n",
        "dct"
      ]
    },
    {
      "cell_type": "markdown",
      "id": "03d12c58",
      "metadata": {
        "id": "03d12c58"
      },
      "source": [
        "(예시1)"
      ]
    },
    {
      "cell_type": "code",
      "execution_count": null,
      "id": "a77cdba7",
      "metadata": {
        "id": "a77cdba7",
        "outputId": "b9829d54-9707-475c-e2ed-411c98993302"
      },
      "outputs": [
        {
          "name": "stdout",
          "output_type": "stream",
          "text": [
            "guebin\n",
            "hanni\n"
          ]
        }
      ],
      "source": [
        "for k in dct.keys():\n",
        "    print(k)"
      ]
    },
    {
      "cell_type": "code",
      "execution_count": null,
      "id": "ad24d788",
      "metadata": {
        "id": "ad24d788",
        "outputId": "4ab6e4e1-d66f-4f98-caff-16ec04fefd18"
      },
      "outputs": [
        {
          "name": "stdout",
          "output_type": "stream",
          "text": [
            "guebin\n",
            "hanni\n"
          ]
        }
      ],
      "source": [
        "for k in dct:\n",
        "    print(k)"
      ]
    },
    {
      "cell_type": "markdown",
      "id": "d7843c9b",
      "metadata": {
        "id": "d7843c9b"
      },
      "source": [
        "- 딕셔너리 그자체도 for문에 넣을 수 있다.\n",
        "- k에는 value가 삭제되어 들어간다. (즉 key만)\n",
        "- 결과를 보면 dct 대신에 dct.keys()와 list(dct)를 넣었을때와 결과가 같다."
      ]
    },
    {
      "cell_type": "markdown",
      "id": "e0907189",
      "metadata": {
        "id": "e0907189"
      },
      "source": [
        "> Note: list(dct) 하면 key만 리턴된다."
      ]
    },
    {
      "cell_type": "markdown",
      "id": "3a372930",
      "metadata": {
        "id": "3a372930"
      },
      "source": [
        "(예시2)"
      ]
    },
    {
      "cell_type": "code",
      "execution_count": null,
      "id": "975b8241",
      "metadata": {
        "id": "975b8241",
        "outputId": "6f871d64-f81f-41d9-e6dd-72e5db7f1d3c"
      },
      "outputs": [
        {
          "name": "stdout",
          "output_type": "stream",
          "text": [
            "49\n",
            "80\n"
          ]
        }
      ],
      "source": [
        "for v in dct.values():\n",
        "    print(v)"
      ]
    },
    {
      "cell_type": "markdown",
      "id": "a5924261",
      "metadata": {
        "id": "a5924261"
      },
      "source": [
        "(예시3)"
      ]
    },
    {
      "cell_type": "code",
      "execution_count": null,
      "id": "94be34c8",
      "metadata": {
        "id": "94be34c8",
        "outputId": "ef5b46e0-b282-4e0c-be92-cf8e54cb148b"
      },
      "outputs": [
        {
          "name": "stdout",
          "output_type": "stream",
          "text": [
            "('guebin', 49)\n",
            "('hanni', 80)\n"
          ]
        }
      ],
      "source": [
        "for i in dct.items():\n",
        "    print(i)"
      ]
    },
    {
      "cell_type": "markdown",
      "id": "1cecfd95",
      "metadata": {
        "id": "1cecfd95"
      },
      "source": [
        "(예시4)"
      ]
    },
    {
      "cell_type": "code",
      "execution_count": null,
      "id": "4372add4",
      "metadata": {
        "id": "4372add4",
        "outputId": "5e3f8221-bae2-4a31-c80d-38a1f598639e"
      },
      "outputs": [
        {
          "name": "stdout",
          "output_type": "stream",
          "text": [
            "guebin 49\n",
            "hanni 80\n"
          ]
        }
      ],
      "source": [
        "for k,v in dct.items():\n",
        "    print(k,v)"
      ]
    },
    {
      "cell_type": "markdown",
      "id": "b522c1b2",
      "metadata": {
        "id": "b522c1b2"
      },
      "source": [
        "(예시5) -- {}의 중간고사 점수는 {}점 입니다."
      ]
    },
    {
      "cell_type": "code",
      "execution_count": null,
      "id": "7f00bc9c",
      "metadata": {
        "id": "7f00bc9c",
        "outputId": "dcf8c559-8d7f-4a9b-83d8-f077f2118961"
      },
      "outputs": [
        {
          "name": "stdout",
          "output_type": "stream",
          "text": [
            "guebin의 중간고사 점수는 49점 입니다.\n",
            "hanni의 중간고사 점수는 80점 입니다.\n"
          ]
        }
      ],
      "source": [
        "for name,score in dct.items():\n",
        "    print('{}의 중간고사 점수는 {}점 입니다.'.format(name,score))"
      ]
    },
    {
      "cell_type": "markdown",
      "id": "6258a1bf",
      "metadata": {
        "id": "6258a1bf"
      },
      "source": [
        "# 딕셔너리 고급내용 ($\\star$)"
      ]
    },
    {
      "cell_type": "markdown",
      "id": "bfeb12fb",
      "metadata": {
        "id": "bfeb12fb"
      },
      "source": [
        "## dict에서 key혹은 value만 뽑아내기"
      ]
    },
    {
      "cell_type": "markdown",
      "id": "59e0c34b",
      "metadata": {
        "id": "59e0c34b"
      },
      "source": [
        "`-` 예제: 아래의 dict에서 key만 뽑아내고 싶다."
      ]
    },
    {
      "cell_type": "code",
      "execution_count": null,
      "id": "56cdcfc3",
      "metadata": {
        "id": "56cdcfc3"
      },
      "outputs": [],
      "source": [
        "dct = {'guebin':49, 'hanni':80}"
      ]
    },
    {
      "cell_type": "markdown",
      "id": "49b57ccb",
      "metadata": {
        "id": "49b57ccb"
      },
      "source": [
        "(풀이1)"
      ]
    },
    {
      "cell_type": "code",
      "execution_count": null,
      "id": "af42e466",
      "metadata": {
        "id": "af42e466",
        "outputId": "7e0e4e88-7973-41fa-b5f8-8dd5a6024588"
      },
      "outputs": [
        {
          "data": {
            "text/plain": [
              "['guebin', 'hanni']"
            ]
          },
          "metadata": {},
          "output_type": "display_data"
        }
      ],
      "source": [
        "list(dct)"
      ]
    },
    {
      "cell_type": "markdown",
      "id": "10bff3a0",
      "metadata": {
        "id": "10bff3a0"
      },
      "source": [
        "(풀이2)"
      ]
    },
    {
      "cell_type": "code",
      "execution_count": null,
      "id": "12ac1fd1",
      "metadata": {
        "id": "12ac1fd1",
        "outputId": "873465b1-81eb-41f3-e0e5-09378a1d684c"
      },
      "outputs": [
        {
          "data": {
            "text/plain": [
              "['guebin', 'hanni']"
            ]
          },
          "metadata": {},
          "output_type": "display_data"
        }
      ],
      "source": [
        "list(dct.keys())"
      ]
    },
    {
      "cell_type": "markdown",
      "id": "3ebb804f",
      "metadata": {
        "id": "3ebb804f"
      },
      "source": [
        "(풀이3)"
      ]
    },
    {
      "cell_type": "code",
      "execution_count": null,
      "id": "238d9b6e",
      "metadata": {
        "id": "238d9b6e",
        "outputId": "ea19465f-6ffc-4b04-ae26-9733c4e488df"
      },
      "outputs": [
        {
          "data": {
            "text/plain": [
              "['guebin', 'hanni']"
            ]
          },
          "metadata": {},
          "output_type": "display_data"
        }
      ],
      "source": [
        "[k for k in dct]"
      ]
    },
    {
      "cell_type": "markdown",
      "id": "b159ebe5",
      "metadata": {
        "id": "b159ebe5"
      },
      "source": [
        "(풀이4)"
      ]
    },
    {
      "cell_type": "code",
      "execution_count": null,
      "id": "8cf4dd9f",
      "metadata": {
        "id": "8cf4dd9f",
        "outputId": "4026410b-e33a-4388-e174-9d285ddbf4bf"
      },
      "outputs": [
        {
          "data": {
            "text/plain": [
              "['guebin', 'hanni']"
            ]
          },
          "metadata": {},
          "output_type": "display_data"
        }
      ],
      "source": [
        "[k for k,v in dct.items()]"
      ]
    },
    {
      "cell_type": "markdown",
      "id": "6651f9b1",
      "metadata": {
        "id": "6651f9b1"
      },
      "source": [
        "`-` 예제: 아래의 dict에서 value만 뽑아내고 싶다."
      ]
    },
    {
      "cell_type": "code",
      "execution_count": null,
      "id": "3a3aa56c",
      "metadata": {
        "id": "3a3aa56c"
      },
      "outputs": [],
      "source": [
        "dct = {'guebin':49, 'hanni':80}"
      ]
    },
    {
      "cell_type": "markdown",
      "id": "ec9756bc",
      "metadata": {
        "id": "ec9756bc"
      },
      "source": [
        "(풀이1)"
      ]
    },
    {
      "cell_type": "code",
      "execution_count": null,
      "id": "1a4cb5ac",
      "metadata": {
        "id": "1a4cb5ac",
        "outputId": "1d3475d2-61d6-4210-8a80-6ffc5bf9d8bc"
      },
      "outputs": [
        {
          "data": {
            "text/plain": [
              "[49, 80]"
            ]
          },
          "metadata": {},
          "output_type": "display_data"
        }
      ],
      "source": [
        "list(dct.values())"
      ]
    },
    {
      "cell_type": "markdown",
      "id": "81c7a5c2",
      "metadata": {
        "id": "81c7a5c2"
      },
      "source": [
        "(풀이2)"
      ]
    },
    {
      "cell_type": "code",
      "execution_count": null,
      "id": "75002311",
      "metadata": {
        "id": "75002311",
        "outputId": "ec8e0297-b911-4062-daad-41acfb5ea54e"
      },
      "outputs": [
        {
          "data": {
            "text/plain": [
              "[49, 80]"
            ]
          },
          "metadata": {},
          "output_type": "display_data"
        }
      ],
      "source": [
        "[dct[k] for k in dct]"
      ]
    },
    {
      "cell_type": "markdown",
      "id": "75ab5903",
      "metadata": {
        "id": "75ab5903"
      },
      "source": [
        "(풀이3)"
      ]
    },
    {
      "cell_type": "code",
      "execution_count": null,
      "id": "9ecb534c",
      "metadata": {
        "id": "9ecb534c",
        "outputId": "1b90381b-f85d-40af-b10e-4394a0d5dffc"
      },
      "outputs": [
        {
          "data": {
            "text/plain": [
              "[49, 80]"
            ]
          },
          "metadata": {},
          "output_type": "display_data"
        }
      ],
      "source": [
        "[v for v in dct.values()]"
      ]
    },
    {
      "cell_type": "markdown",
      "id": "b73739ad",
      "metadata": {
        "id": "b73739ad"
      },
      "source": [
        "(풀이4)"
      ]
    },
    {
      "cell_type": "code",
      "execution_count": null,
      "id": "ce57ce22",
      "metadata": {
        "id": "ce57ce22",
        "outputId": "a7837fe0-937f-430f-bf64-61e666b60c1f"
      },
      "outputs": [
        {
          "data": {
            "text/plain": [
              "[49, 80]"
            ]
          },
          "metadata": {},
          "output_type": "display_data"
        }
      ],
      "source": [
        "[v for k,v in dct.items()]"
      ]
    },
    {
      "cell_type": "markdown",
      "id": "adc1f1db",
      "metadata": {
        "id": "adc1f1db"
      },
      "source": [
        "## key의 조건"
      ]
    },
    {
      "cell_type": "markdown",
      "id": "df4907e9",
      "metadata": {
        "id": "df4907e9"
      },
      "source": [
        "`-` 조건1: 키로 쓸 수 있는 자료형은 정해져 있다.\n",
        "\n",
        "- int O, float O, bool O, str O, list X, tuple O, dict X, set X"
      ]
    },
    {
      "cell_type": "markdown",
      "id": "add23070",
      "metadata": {
        "id": "add23070"
      },
      "source": [
        "(예시1) dict의 키로 int를 사용"
      ]
    },
    {
      "cell_type": "code",
      "execution_count": null,
      "id": "1a67adfe",
      "metadata": {
        "id": "1a67adfe",
        "outputId": "133f8312-d572-4547-840d-7f34a3587073"
      },
      "outputs": [
        {
          "data": {
            "text/plain": [
              "[1, 2, 3]"
            ]
          },
          "metadata": {},
          "output_type": "display_data"
        }
      ],
      "source": [
        "dct = {0:[1,2,3], 1:[2,3,4]}\n",
        "dct[0] # 인덱싱 하는거 같네?"
      ]
    },
    {
      "cell_type": "code",
      "execution_count": null,
      "id": "fd3ab1d5",
      "metadata": {
        "id": "fd3ab1d5",
        "outputId": "5942eda6-5390-43ca-8cb8-6addd1dd4f14"
      },
      "outputs": [
        {
          "ename": "KeyError",
          "evalue": "-1",
          "output_type": "error",
          "traceback": [
            "\u001b[0;31m---------------------------------------------------------------------------\u001b[0m\n",
            "\u001b[0;31mKeyError\u001b[0m                                  Traceback (most recent call last)\n",
            "Cell \u001b[0;32mIn[89], line 1\u001b[0m\n",
            "\u001b[0;32m----> 1\u001b[0m \u001b[43mdct\u001b[49m\u001b[43m[\u001b[49m\u001b[38;5;241;43m-\u001b[39;49m\u001b[38;5;241;43m1\u001b[39;49m\u001b[43m]\u001b[49m \u001b[38;5;66;03m# 속았지?\u001b[39;00m\n",
            "\n",
            "\u001b[0;31mKeyError\u001b[0m: -1"
          ]
        }
      ],
      "source": [
        "dct[-1] # 속았지?"
      ]
    },
    {
      "cell_type": "markdown",
      "id": "a0799086",
      "metadata": {
        "id": "a0799086"
      },
      "source": [
        "(예시2) dict의 키로 float을 사용 <-- 이렇게 쓰는 사람 본적이 없어요"
      ]
    },
    {
      "cell_type": "code",
      "execution_count": null,
      "id": "d8be4b1d",
      "metadata": {
        "id": "d8be4b1d",
        "outputId": "8f3531b6-0d5f-4eb9-a3a2-1821594ee984"
      },
      "outputs": [
        {
          "data": {
            "text/plain": [
              "'π'"
            ]
          },
          "metadata": {},
          "output_type": "display_data"
        }
      ],
      "source": [
        "dct = {3.14:'π', 2.178:'e'}\n",
        "dct[3.14]"
      ]
    },
    {
      "cell_type": "markdown",
      "id": "6e879900",
      "metadata": {
        "id": "6e879900"
      },
      "source": [
        "(예시3) dict의 키로 bool을 사용"
      ]
    },
    {
      "cell_type": "code",
      "execution_count": null,
      "id": "2e3dcb2a",
      "metadata": {
        "id": "2e3dcb2a",
        "outputId": "fe7ccf29-d19b-4e6d-b990-873440f765b3"
      },
      "outputs": [
        {
          "data": {
            "text/plain": [
              "{True: '참이다', False: '거짓이다.'}"
            ]
          },
          "metadata": {},
          "output_type": "display_data"
        }
      ],
      "source": [
        "dct = {True: '참이다', False: '거짓이다.'}\n",
        "dct"
      ]
    },
    {
      "cell_type": "code",
      "execution_count": null,
      "id": "2a4c4c3c",
      "metadata": {
        "id": "2a4c4c3c",
        "outputId": "8c37dac3-32b8-4a7a-c536-787820613e51"
      },
      "outputs": [
        {
          "data": {
            "text/plain": [
              "'참이다'"
            ]
          },
          "metadata": {},
          "output_type": "display_data"
        }
      ],
      "source": [
        "dct[1<2]"
      ]
    },
    {
      "cell_type": "markdown",
      "id": "9e6d6d06",
      "metadata": {
        "id": "9e6d6d06"
      },
      "source": [
        "(예시4) dict의 키로 str을 사용 ($\\star$)"
      ]
    },
    {
      "cell_type": "code",
      "execution_count": null,
      "id": "b4c5668d",
      "metadata": {
        "id": "b4c5668d",
        "outputId": "69f13ee7-2d4e-42bb-d23e-4e9328d892e2"
      },
      "outputs": [
        {
          "data": {
            "text/plain": [
              "[10, 20, 30, 30]"
            ]
          },
          "metadata": {},
          "output_type": "display_data"
        }
      ],
      "source": [
        "dct = {'guebin':[10,20,30,30], 'hanni':[10,20,25,40]}\n",
        "dct['guebin']"
      ]
    },
    {
      "cell_type": "markdown",
      "id": "45dcec22",
      "metadata": {
        "id": "45dcec22"
      },
      "source": [
        "(예시5) dict의 키로 list를 사용 $\\Rightarrow$ 불가능"
      ]
    },
    {
      "cell_type": "code",
      "execution_count": null,
      "id": "c61a7d03",
      "metadata": {
        "id": "c61a7d03",
        "outputId": "4fb1cd17-8358-4842-a4db-e6688a5e4e7c"
      },
      "outputs": [
        {
          "ename": "TypeError",
          "evalue": "unhashable type: 'list'",
          "output_type": "error",
          "traceback": [
            "\u001b[0;31m---------------------------------------------------------------------------\u001b[0m\n",
            "\u001b[0;31mTypeError\u001b[0m                                 Traceback (most recent call last)\n",
            "Cell \u001b[0;32mIn[24], line 1\u001b[0m\n",
            "\u001b[0;32m----> 1\u001b[0m dct \u001b[38;5;241m=\u001b[39m {[\u001b[38;5;241m10\u001b[39m,\u001b[38;5;241m20\u001b[39m,\u001b[38;5;241m30\u001b[39m,\u001b[38;5;241m40\u001b[39m]: \u001b[38;5;124m'\u001b[39m\u001b[38;5;124mguebin\u001b[39m\u001b[38;5;124m'\u001b[39m, [\u001b[38;5;241m10\u001b[39m,\u001b[38;5;241m20\u001b[39m,\u001b[38;5;241m25\u001b[39m,\u001b[38;5;241m40\u001b[39m]: \u001b[38;5;124m'\u001b[39m\u001b[38;5;124mhanni\u001b[39m\u001b[38;5;124m'\u001b[39m} \n",
            "\u001b[1;32m      2\u001b[0m dct\n",
            "\n",
            "\u001b[0;31mTypeError\u001b[0m: unhashable type: 'list'"
          ]
        }
      ],
      "source": [
        "dct = {[10,20,30,40]: 'guebin', [10,20,25,40]: 'hanni'}\n",
        "dct"
      ]
    },
    {
      "cell_type": "markdown",
      "id": "6b04be8c",
      "metadata": {
        "id": "6b04be8c"
      },
      "source": [
        "(예시6) dict의 키로 tuple 사용 ($\\star$)"
      ]
    },
    {
      "cell_type": "code",
      "execution_count": null,
      "id": "4b2a6fb7",
      "metadata": {
        "id": "4b2a6fb7",
        "outputId": "b18f0595-73ef-42df-e67d-aeafe498e5db"
      },
      "outputs": [
        {
          "data": {
            "text/plain": [
              "{(10, 20, 30, 40): 'guebin', (10, 20, 25, 40): 'hanni'}"
            ]
          },
          "metadata": {},
          "output_type": "display_data"
        }
      ],
      "source": [
        "dct = {(10,20,30,40): 'guebin', (10,20,25,40): 'hanni'}\n",
        "dct"
      ]
    },
    {
      "cell_type": "code",
      "execution_count": null,
      "id": "377ced44",
      "metadata": {
        "id": "377ced44",
        "outputId": "457e0f3b-0ff8-4224-b589-a5ec9bc9f84f"
      },
      "outputs": [
        {
          "data": {
            "text/plain": [
              "'guebin'"
            ]
          },
          "metadata": {},
          "output_type": "display_data"
        }
      ],
      "source": [
        "dct[(10,20,30,40)]"
      ]
    },
    {
      "cell_type": "code",
      "execution_count": null,
      "id": "16ee3422",
      "metadata": {
        "id": "16ee3422",
        "outputId": "bf069cdc-ee31-4af7-ab12-73d69279678f"
      },
      "outputs": [
        {
          "data": {
            "text/plain": [
              "'guebin'"
            ]
          },
          "metadata": {},
          "output_type": "display_data"
        }
      ],
      "source": [
        "dct[10,20,30,40]"
      ]
    },
    {
      "cell_type": "markdown",
      "id": "6e6574a0",
      "metadata": {
        "id": "6e6574a0"
      },
      "source": [
        "(예시7) dict의 키로 dict사용 $\\Rightarrow$ 불가능"
      ]
    },
    {
      "cell_type": "code",
      "execution_count": null,
      "id": "41bc98b6",
      "metadata": {
        "id": "41bc98b6",
        "outputId": "e6cf16dc-ae05-419b-a90b-823ba553d589"
      },
      "outputs": [
        {
          "ename": "TypeError",
          "evalue": "unhashable type: 'dict'",
          "output_type": "error",
          "traceback": [
            "\u001b[0;31m---------------------------------------------------------------------------\u001b[0m\n",
            "\u001b[0;31mTypeError\u001b[0m                                 Traceback (most recent call last)\n",
            "Cell \u001b[0;32mIn[35], line 1\u001b[0m\n",
            "\u001b[0;32m----> 1\u001b[0m dct \u001b[38;5;241m=\u001b[39m {{\u001b[38;5;241m0\u001b[39m:\u001b[38;5;241m1\u001b[39m}: \u001b[38;5;124m'\u001b[39m\u001b[38;5;124mguebin\u001b[39m\u001b[38;5;124m'\u001b[39m, {\u001b[38;5;241m1\u001b[39m:\u001b[38;5;241m2\u001b[39m}: \u001b[38;5;124m'\u001b[39m\u001b[38;5;124mhanni\u001b[39m\u001b[38;5;124m'\u001b[39m} \n",
            "\u001b[1;32m      2\u001b[0m dct\n",
            "\n",
            "\u001b[0;31mTypeError\u001b[0m: unhashable type: 'dict'"
          ]
        }
      ],
      "source": [
        "dct = {{0:1}: 'guebin', {1:2}: 'hanni'}\n",
        "dct"
      ]
    },
    {
      "cell_type": "markdown",
      "id": "3a626afe",
      "metadata": {
        "id": "3a626afe"
      },
      "source": [
        "(예시8) dict의 키로 set사용 $\\Rightarrow$ 불가능"
      ]
    },
    {
      "cell_type": "code",
      "execution_count": null,
      "id": "b6141cc1",
      "metadata": {
        "id": "b6141cc1",
        "outputId": "86bf37f1-f082-474a-82da-ad701781a691"
      },
      "outputs": [
        {
          "ename": "TypeError",
          "evalue": "unhashable type: 'set'",
          "output_type": "error",
          "traceback": [
            "\u001b[0;31m---------------------------------------------------------------------------\u001b[0m\n",
            "\u001b[0;31mTypeError\u001b[0m                                 Traceback (most recent call last)\n",
            "Cell \u001b[0;32mIn[36], line 1\u001b[0m\n",
            "\u001b[0;32m----> 1\u001b[0m dct \u001b[38;5;241m=\u001b[39m {{\u001b[38;5;124m'\u001b[39m\u001b[38;5;124m샌드위치\u001b[39m\u001b[38;5;124m'\u001b[39m,\u001b[38;5;124m'\u001b[39m\u001b[38;5;124m딸기우유\u001b[39m\u001b[38;5;124m'\u001b[39m}:\u001b[38;5;124m'\u001b[39m\u001b[38;5;124m점심\u001b[39m\u001b[38;5;124m'\u001b[39m, {\u001b[38;5;124m'\u001b[39m\u001b[38;5;124m불고기\u001b[39m\u001b[38;5;124m'\u001b[39m,\u001b[38;5;124m'\u001b[39m\u001b[38;5;124m된장찌개\u001b[39m\u001b[38;5;124m'\u001b[39m,\u001b[38;5;124m'\u001b[39m\u001b[38;5;124m김\u001b[39m\u001b[38;5;124m'\u001b[39m,\u001b[38;5;124m'\u001b[39m\u001b[38;5;124m콩자반\u001b[39m\u001b[38;5;124m'\u001b[39m}: \u001b[38;5;124m'\u001b[39m\u001b[38;5;124m저녁\u001b[39m\u001b[38;5;124m'\u001b[39m}\n",
            "\u001b[1;32m      2\u001b[0m dct\n",
            "\n",
            "\u001b[0;31mTypeError\u001b[0m: unhashable type: 'set'"
          ]
        }
      ],
      "source": [
        "dct = {{'샌드위치','딸기우유'}:'점심', {'불고기','된장찌개','김','콩자반'}: '저녁'}\n",
        "dct"
      ]
    },
    {
      "cell_type": "markdown",
      "id": "412a3743",
      "metadata": {
        "id": "412a3743"
      },
      "source": [
        "`-` 조건2: 키는 중복해서 쓸 수 없다."
      ]
    },
    {
      "cell_type": "markdown",
      "id": "fc860a0c",
      "metadata": {
        "id": "fc860a0c"
      },
      "source": [
        "(예시1)"
      ]
    },
    {
      "cell_type": "code",
      "execution_count": null,
      "id": "adb22e72",
      "metadata": {
        "id": "adb22e72",
        "outputId": "1d924d55-e29f-443f-feea-37ea03c0510f"
      },
      "outputs": [
        {
          "data": {
            "text/plain": [
              "{0: [3, 4, 5], 1: [2, 3, 4]}"
            ]
          },
          "metadata": {},
          "output_type": "display_data"
        }
      ],
      "source": [
        "dct = {0:[1,2,3], 1:[2,3,4], 0:[3,4,5]} # 이렇게 쓰지 마세요\n",
        "dct"
      ]
    },
    {
      "cell_type": "markdown",
      "id": "0c7db9e9",
      "metadata": {
        "id": "0c7db9e9"
      },
      "source": [
        "## value의 조건"
      ]
    },
    {
      "cell_type": "markdown",
      "id": "181eceb4",
      "metadata": {
        "id": "181eceb4"
      },
      "source": [
        "`-` 없다... $\\Rightarrow$ dict는 컨테이너형!!"
      ]
    },
    {
      "cell_type": "markdown",
      "id": "eacca262",
      "metadata": {
        "id": "eacca262"
      },
      "source": [
        "## 바꿔치기 (1)\n",
        "\n"
      ]
    },
    {
      "cell_type": "markdown",
      "id": "7894b708",
      "metadata": {
        "id": "7894b708"
      },
      "source": [
        "`-` 예제1: 아래와 같은 리스트가 있다고 하자."
      ]
    },
    {
      "cell_type": "code",
      "execution_count": null,
      "id": "41ffa621",
      "metadata": {
        "id": "41ffa621",
        "outputId": "d687bf3d-94d4-41f5-8132-826750286d6d"
      },
      "outputs": [
        {
          "data": {
            "text/plain": [
              "['a', 'b', 'c', 'd', 'a', 'b', 'c', 'd']"
            ]
          },
          "metadata": {},
          "output_type": "display_data"
        }
      ],
      "source": [
        "lst = list('abcd'*2)\n",
        "lst"
      ]
    },
    {
      "cell_type": "markdown",
      "id": "65241bdc",
      "metadata": {
        "id": "65241bdc"
      },
      "source": [
        "아래의 규칙에 의하여 lst의 각 원소의 값을 바꾸고 싶다고 하자. 이를 구현하는 코드를 작성하라."
      ]
    },
    {
      "cell_type": "markdown",
      "id": "fe336683",
      "metadata": {
        "id": "fe336683"
      },
      "source": [
        "|변환전|변환후|\n",
        "|:-:|:-:|\n",
        "|'a'|[1,0,0,0]|\n",
        "|'b'|[0,1,0,0]|\n",
        "|'c'|[0,0,1,0]|\n",
        "|'d'|[0,0,0,1]|"
      ]
    },
    {
      "cell_type": "markdown",
      "id": "5544c1b7",
      "metadata": {
        "id": "5544c1b7"
      },
      "source": [
        "hint: 아래의 dct를 이용할 것"
      ]
    },
    {
      "cell_type": "code",
      "execution_count": null,
      "id": "d3567e5f",
      "metadata": {
        "id": "d3567e5f",
        "outputId": "488b2b54-c7c1-4b72-b2d3-37c5e203bd78"
      },
      "outputs": [
        {
          "data": {
            "text/plain": [
              "['a', 'b', 'c', 'd', 'a', 'b', 'c', 'd']"
            ]
          },
          "metadata": {},
          "output_type": "display_data"
        }
      ],
      "source": [
        "lst = list('abcd'*2)\n",
        "lst"
      ]
    },
    {
      "cell_type": "code",
      "execution_count": null,
      "id": "adbd715d",
      "metadata": {
        "id": "adbd715d",
        "outputId": "f2bfab31-1dc8-4bf7-88bb-47dec353cee8"
      },
      "outputs": [
        {
          "data": {
            "text/plain": [
              "{'a': [1, 0, 0, 0], 'b': [0, 1, 0, 0], 'c': [0, 0, 1, 0], 'd': [0, 0, 0, 1]}"
            ]
          },
          "metadata": {},
          "output_type": "display_data"
        }
      ],
      "source": [
        "dct = {'a':[1,0,0,0], 'b':[0,1,0,0], 'c':[0,0,1,0], 'd':[0,0,0,1]}\n",
        "dct"
      ]
    },
    {
      "cell_type": "markdown",
      "id": "99178f64",
      "metadata": {
        "id": "99178f64"
      },
      "source": [
        "(풀이)"
      ]
    },
    {
      "cell_type": "code",
      "execution_count": null,
      "id": "384b66c9",
      "metadata": {
        "id": "384b66c9",
        "outputId": "6969e5d8-3e3d-434f-cc69-544c4a157f00"
      },
      "outputs": [
        {
          "data": {
            "text/plain": [
              "[[1, 0, 0, 0],\n",
              " [0, 1, 0, 0],\n",
              " [0, 0, 1, 0],\n",
              " [0, 0, 0, 1],\n",
              " [1, 0, 0, 0],\n",
              " [0, 1, 0, 0],\n",
              " [0, 0, 1, 0],\n",
              " [0, 0, 0, 1]]"
            ]
          },
          "metadata": {},
          "output_type": "display_data"
        }
      ],
      "source": [
        "[dct[x] for x in lst]"
      ]
    },
    {
      "cell_type": "markdown",
      "id": "bde5fffe",
      "metadata": {
        "id": "bde5fffe"
      },
      "source": [
        "`-` 예제2: 예제1을 역변환하라."
      ]
    },
    {
      "cell_type": "code",
      "execution_count": null,
      "id": "76d5db87",
      "metadata": {
        "id": "76d5db87"
      },
      "outputs": [],
      "source": [
        "dct = {'a':[1,0,0,0], 'b':[0,1,0,0], 'c':[0,0,1,0], 'd':[0,0,0,1]}"
      ]
    },
    {
      "cell_type": "code",
      "execution_count": null,
      "id": "a637e6c9",
      "metadata": {
        "id": "a637e6c9",
        "outputId": "564d50b4-099b-4100-8799-24d61acca2fa"
      },
      "outputs": [
        {
          "data": {
            "text/plain": [
              "[[1, 0, 0, 0],\n",
              " [0, 1, 0, 0],\n",
              " [0, 0, 1, 0],\n",
              " [0, 0, 0, 1],\n",
              " [1, 0, 0, 0],\n",
              " [0, 1, 0, 0],\n",
              " [0, 0, 1, 0],\n",
              " [0, 0, 0, 1]]"
            ]
          },
          "metadata": {},
          "output_type": "display_data"
        }
      ],
      "source": [
        "lst= [[1, 0, 0, 0],\n",
        "      [0, 1, 0, 0],\n",
        "      [0, 0, 1, 0],\n",
        "      [0, 0, 0, 1],\n",
        "      [1, 0, 0, 0],\n",
        "      [0, 1, 0, 0],\n",
        "      [0, 0, 1, 0],\n",
        "      [0, 0, 0, 1]]\n",
        "lst"
      ]
    },
    {
      "cell_type": "markdown",
      "id": "7ad49c63",
      "metadata": {
        "id": "7ad49c63"
      },
      "source": [
        "(풀이)"
      ]
    },
    {
      "cell_type": "code",
      "execution_count": null,
      "id": "36f7966e",
      "metadata": {
        "id": "36f7966e",
        "outputId": "e6a21979-e814-445d-d659-695ebca57bc7"
      },
      "outputs": [
        {
          "data": {
            "text/plain": [
              "['a', 'b', 'c', 'd', 'a', 'b', 'c', 'd']"
            ]
          },
          "metadata": {},
          "output_type": "display_data"
        }
      ],
      "source": [
        "[x for l in lst for x,y in dct.items() if y == l]"
      ]
    },
    {
      "cell_type": "markdown",
      "id": "460635ee",
      "metadata": {
        "id": "460635ee"
      },
      "source": [
        "## 바꿔치기 (2)"
      ]
    },
    {
      "cell_type": "markdown",
      "id": "bc01ac3f",
      "metadata": {
        "id": "bc01ac3f"
      },
      "source": [
        "`-` 예제1: 아래와 같은 리스트를 고려하자."
      ]
    },
    {
      "cell_type": "code",
      "execution_count": null,
      "id": "018e7986",
      "metadata": {
        "id": "018e7986"
      },
      "outputs": [],
      "source": [
        "lst = ['딸기','사과','바나나','딸기','사과','오토바이','자동차','버스','기차','오토바이','자동차']"
      ]
    },
    {
      "cell_type": "markdown",
      "id": "e6db2635",
      "metadata": {
        "id": "e6db2635"
      },
      "source": [
        "다음의 맵핑규칙에 따라서 위의 리스트의 원소를 바꾸어라."
      ]
    },
    {
      "cell_type": "markdown",
      "id": "11e9ea90",
      "metadata": {
        "id": "11e9ea90"
      },
      "source": [
        "|변환전|변환후|\n",
        "|:-:|:-:|\n",
        "|딸기|과일|\n",
        "|사과|과일|\n",
        "|바나나|과일|\n",
        "|오토바이|탈것|\n",
        "|자동차|탈것|\n",
        "|버스|탈것|\n",
        "|기차|탈것|"
      ]
    },
    {
      "cell_type": "markdown",
      "id": "ba8f14f7",
      "metadata": {
        "id": "ba8f14f7"
      },
      "source": [
        "(풀이)"
      ]
    },
    {
      "cell_type": "code",
      "execution_count": null,
      "id": "3b1443c0",
      "metadata": {
        "id": "3b1443c0",
        "outputId": "0de0e1b6-1a83-49c7-de6c-15a81f04f2e6"
      },
      "outputs": [
        {
          "data": {
            "text/plain": [
              "{'과일': ['딸기', '사과', '바나나'], '탈것': ['오토바이', '자동차', '버스', '기차']}"
            ]
          },
          "metadata": {},
          "output_type": "display_data"
        }
      ],
      "source": [
        "dct = {'과일':['딸기','사과','바나나'], '탈것':['오토바이','자동차','버스','기차']}\n",
        "dct"
      ]
    },
    {
      "cell_type": "code",
      "execution_count": null,
      "id": "166ef1e0",
      "metadata": {
        "id": "166ef1e0",
        "outputId": "492e83e2-6495-4ffe-94fc-4530ad12e1e8"
      },
      "outputs": [
        {
          "data": {
            "text/plain": [
              "['과일', '과일', '과일', '과일', '과일', '탈것', '탈것', '탈것', '탈것', '탈것', '탈것']"
            ]
          },
          "metadata": {},
          "output_type": "display_data"
        }
      ],
      "source": [
        "[x for l in lst for x,y in dct.items() if l in y]"
      ]
    },
    {
      "cell_type": "markdown",
      "id": "43163874",
      "metadata": {
        "id": "43163874"
      },
      "source": [
        "# 집합 기본내용"
      ]
    },
    {
      "cell_type": "markdown",
      "id": "4103f3c7",
      "metadata": {
        "id": "4103f3c7"
      },
      "source": [
        "## 선언"
      ]
    },
    {
      "cell_type": "code",
      "execution_count": null,
      "id": "2c0d3111",
      "metadata": {
        "id": "2c0d3111",
        "outputId": "1cb63683-c39b-4b5a-8d83-93c351c500a8"
      },
      "outputs": [
        {
          "data": {
            "text/plain": [
              "{'desktop', 'notebook'}"
            ]
          },
          "metadata": {},
          "output_type": "display_data"
        }
      ],
      "source": [
        "wishlist={'notebook','desktop'}\n",
        "wishlist"
      ]
    },
    {
      "cell_type": "markdown",
      "id": "96a32206",
      "metadata": {
        "id": "96a32206"
      },
      "source": [
        "## 원소추출"
      ]
    },
    {
      "cell_type": "markdown",
      "id": "452321fd",
      "metadata": {
        "id": "452321fd"
      },
      "source": [
        "`-` 일단 인덱스로는 못합니다."
      ]
    },
    {
      "cell_type": "code",
      "execution_count": null,
      "id": "6c4f7cc0",
      "metadata": {
        "id": "6c4f7cc0",
        "outputId": "17693425-139a-4253-b5f4-d7edcda1e7b7"
      },
      "outputs": [
        {
          "ename": "TypeError",
          "evalue": "'set' object is not subscriptable",
          "output_type": "error",
          "traceback": [
            "\u001b[0;31m---------------------------------------------------------------------------\u001b[0m\n",
            "\u001b[0;31mTypeError\u001b[0m                                 Traceback (most recent call last)\n",
            "Cell \u001b[0;32mIn[251], line 2\u001b[0m\n",
            "\u001b[1;32m      1\u001b[0m wishlist\u001b[38;5;241m=\u001b[39m{\u001b[38;5;124m'\u001b[39m\u001b[38;5;124mnotebook\u001b[39m\u001b[38;5;124m'\u001b[39m,\u001b[38;5;124m'\u001b[39m\u001b[38;5;124mdesktop\u001b[39m\u001b[38;5;124m'\u001b[39m}\n",
            "\u001b[0;32m----> 2\u001b[0m \u001b[43mwishlist\u001b[49m\u001b[43m[\u001b[49m\u001b[38;5;241;43m0\u001b[39;49m\u001b[43m]\u001b[49m\n",
            "\n",
            "\u001b[0;31mTypeError\u001b[0m: 'set' object is not subscriptable"
          ]
        }
      ],
      "source": [
        "wishlist={'notebook','desktop'}\n",
        "wishlist[0]"
      ]
    },
    {
      "cell_type": "markdown",
      "id": "837c99ea",
      "metadata": {
        "id": "837c99ea"
      },
      "source": [
        "`-` 딱히 하는 방법이 없어요.. 그리고 이걸 하는 의미가 없어요.. (원소에 접근해서 뭐하려고??)"
      ]
    },
    {
      "cell_type": "markdown",
      "id": "02305d46",
      "metadata": {
        "id": "02305d46"
      },
      "source": [
        "## 원소추가"
      ]
    },
    {
      "cell_type": "markdown",
      "id": "34ea1958",
      "metadata": {
        "id": "34ea1958"
      },
      "source": [
        "`-` 이건 의미가 있음"
      ]
    },
    {
      "cell_type": "code",
      "execution_count": null,
      "id": "152b1f83",
      "metadata": {
        "id": "152b1f83",
        "outputId": "766216e0-dfd1-4748-9735-922f347b5888"
      },
      "outputs": [
        {
          "data": {
            "text/plain": [
              "{'desktop', 'notebook'}"
            ]
          },
          "metadata": {},
          "output_type": "display_data"
        }
      ],
      "source": [
        "wishlist={'notebook','desktop'}\n",
        "wishlist"
      ]
    },
    {
      "cell_type": "code",
      "execution_count": null,
      "id": "7f47b3a2",
      "metadata": {
        "id": "7f47b3a2",
        "outputId": "cf013178-e20f-4700-d223-de6f0ccec2a0"
      },
      "outputs": [
        {
          "data": {
            "text/plain": [
              "{'desktop', 'ipad', 'notebook'}"
            ]
          },
          "metadata": {},
          "output_type": "display_data"
        }
      ],
      "source": [
        "wishlist.add('ipad')\n",
        "wishlist"
      ]
    },
    {
      "cell_type": "code",
      "execution_count": null,
      "id": "38f8ba25",
      "metadata": {
        "id": "38f8ba25",
        "outputId": "f67120a3-13be-4303-dfd8-4bddb3dcb69e"
      },
      "outputs": [
        {
          "data": {
            "text/plain": [
              "{'desktop', 'ipad', 'notebook'}"
            ]
          },
          "metadata": {},
          "output_type": "display_data"
        }
      ],
      "source": [
        "wishlist.add('notebook') # 이미 원소로 있는건 추가되지 않음.\n",
        "wishlist"
      ]
    },
    {
      "cell_type": "markdown",
      "id": "cec2ac71",
      "metadata": {
        "id": "cec2ac71"
      },
      "source": [
        "## 원소삭제"
      ]
    },
    {
      "cell_type": "code",
      "execution_count": null,
      "id": "88a4e681",
      "metadata": {
        "id": "88a4e681",
        "outputId": "525bbc62-578c-40a4-a07d-57b22a875707"
      },
      "outputs": [
        {
          "data": {
            "text/plain": [
              "{'desktop', 'ipad', 'notebook'}"
            ]
          },
          "metadata": {},
          "output_type": "display_data"
        }
      ],
      "source": [
        "wishlist={'desktop', 'ipad', 'notebook'}\n",
        "wishlist"
      ]
    },
    {
      "cell_type": "code",
      "execution_count": null,
      "id": "ae5e0bbf",
      "metadata": {
        "id": "ae5e0bbf"
      },
      "outputs": [],
      "source": [
        "wishlist.remove('notebook')"
      ]
    },
    {
      "cell_type": "code",
      "execution_count": null,
      "id": "768aa659",
      "metadata": {
        "id": "768aa659",
        "outputId": "c99740e2-8c1a-4f53-8aa8-38cb5bc8827f"
      },
      "outputs": [
        {
          "data": {
            "text/plain": [
              "{'desktop', 'ipad'}"
            ]
          },
          "metadata": {},
          "output_type": "display_data"
        }
      ],
      "source": [
        "wishlist"
      ]
    },
    {
      "cell_type": "markdown",
      "id": "1a5487f5",
      "metadata": {
        "id": "1a5487f5"
      },
      "source": [
        "## 연산"
      ]
    },
    {
      "cell_type": "markdown",
      "id": "70da8dde",
      "metadata": {
        "id": "70da8dde"
      },
      "source": [
        "`-` in 연산자  "
      ]
    },
    {
      "cell_type": "code",
      "execution_count": null,
      "id": "10d1708b",
      "metadata": {
        "id": "10d1708b",
        "outputId": "7c2b6fea-1256-4d4b-fcd8-8cec403340ab"
      },
      "outputs": [
        {
          "data": {
            "text/plain": [
              "{'desktop', 'ipad', 'notebook'}"
            ]
          },
          "metadata": {},
          "output_type": "display_data"
        }
      ],
      "source": [
        "wishlist={'desktop', 'ipad', 'notebook'}\n",
        "wishlist"
      ]
    },
    {
      "cell_type": "code",
      "execution_count": null,
      "id": "43077b1a",
      "metadata": {
        "id": "43077b1a",
        "outputId": "9c3b4d1f-3823-4882-ae02-99431e3ffce8"
      },
      "outputs": [
        {
          "data": {
            "text/plain": [
              "True"
            ]
          },
          "metadata": {},
          "output_type": "display_data"
        }
      ],
      "source": [
        "'notebook' in wishlist"
      ]
    },
    {
      "cell_type": "markdown",
      "id": "8168c73f",
      "metadata": {
        "id": "8168c73f"
      },
      "source": [
        "- 참고로 `in`연산자는 집합에서만 쓰는것은 아님"
      ]
    },
    {
      "cell_type": "markdown",
      "id": "9349e23d",
      "metadata": {
        "id": "9349e23d"
      },
      "source": [
        "`-` 합집합, 교집합, 차집합"
      ]
    },
    {
      "cell_type": "code",
      "execution_count": null,
      "id": "358ae9e0",
      "metadata": {
        "id": "358ae9e0"
      },
      "outputs": [],
      "source": [
        "day1 = {'notebook','desktop'}\n",
        "day2 = {'notebook','ipad'}"
      ]
    },
    {
      "cell_type": "code",
      "execution_count": null,
      "id": "f23defef",
      "metadata": {
        "id": "f23defef",
        "outputId": "31ae6ecd-1bbc-46e9-b0b9-fa611a80c154"
      },
      "outputs": [
        {
          "data": {
            "text/plain": [
              "{'desktop', 'ipad', 'notebook'}"
            ]
          },
          "metadata": {},
          "output_type": "display_data"
        }
      ],
      "source": [
        "day1 | day2 # 합집합"
      ]
    },
    {
      "cell_type": "code",
      "execution_count": null,
      "id": "788765a5",
      "metadata": {
        "id": "788765a5",
        "outputId": "00a63bd8-9297-498a-cce4-57ca2ae4263c"
      },
      "outputs": [
        {
          "data": {
            "text/plain": [
              "{'notebook'}"
            ]
          },
          "metadata": {},
          "output_type": "display_data"
        }
      ],
      "source": [
        "day1 & day2 # 교집합"
      ]
    },
    {
      "cell_type": "code",
      "execution_count": null,
      "id": "99361a25",
      "metadata": {
        "id": "99361a25",
        "outputId": "7fc31fc7-1261-4778-cf08-17780c22ee14"
      },
      "outputs": [
        {
          "data": {
            "text/plain": [
              "{'desktop'}"
            ]
          },
          "metadata": {},
          "output_type": "display_data"
        }
      ],
      "source": [
        "day1 - day2 # 차집합"
      ]
    },
    {
      "cell_type": "code",
      "execution_count": null,
      "id": "5a4e0fa2",
      "metadata": {
        "id": "5a4e0fa2",
        "outputId": "e0ee7bb5-eec2-423f-da61-b47a3ef03329"
      },
      "outputs": [
        {
          "data": {
            "text/plain": [
              "{'ipad'}"
            ]
          },
          "metadata": {},
          "output_type": "display_data"
        }
      ],
      "source": [
        "day2 - day1 # 차집합"
      ]
    },
    {
      "cell_type": "markdown",
      "id": "20b3f3e0",
      "metadata": {
        "id": "20b3f3e0"
      },
      "source": [
        "`-` 부분집합"
      ]
    },
    {
      "cell_type": "code",
      "execution_count": null,
      "id": "e9baf29b",
      "metadata": {
        "id": "e9baf29b"
      },
      "outputs": [],
      "source": [
        "day1 = {'notebook', 'desktop'}\n",
        "day2 = day1 | {'ipad'}"
      ]
    },
    {
      "cell_type": "code",
      "execution_count": null,
      "id": "ee507933",
      "metadata": {
        "id": "ee507933",
        "outputId": "62312e6e-e6e3-4846-b2ba-5d27a98612e6"
      },
      "outputs": [
        {
          "data": {
            "text/plain": [
              "True"
            ]
          },
          "metadata": {},
          "output_type": "display_data"
        }
      ],
      "source": [
        "day1 < day2  # day1는 day2의 부분집합인가?"
      ]
    },
    {
      "cell_type": "code",
      "execution_count": null,
      "id": "c86ab110",
      "metadata": {
        "id": "c86ab110",
        "outputId": "960ac59b-6c86-4115-d132-db93b8c36942"
      },
      "outputs": [
        {
          "data": {
            "text/plain": [
              "False"
            ]
          },
          "metadata": {},
          "output_type": "display_data"
        }
      ],
      "source": [
        "day2 < day1"
      ]
    },
    {
      "cell_type": "markdown",
      "id": "1f08066b",
      "metadata": {
        "id": "1f08066b"
      },
      "source": [
        "## 집합 특수기능"
      ]
    },
    {
      "cell_type": "markdown",
      "id": "c6c36400",
      "metadata": {
        "id": "c6c36400"
      },
      "source": [
        "`-` 합집합"
      ]
    },
    {
      "cell_type": "code",
      "execution_count": null,
      "id": "e04edb6f",
      "metadata": {
        "id": "e04edb6f"
      },
      "outputs": [],
      "source": [
        "day1 = {'notebook', 'desktop'}\n",
        "day2 = {'notebook','ipad'}"
      ]
    },
    {
      "cell_type": "code",
      "execution_count": null,
      "id": "71f52e73",
      "metadata": {
        "id": "71f52e73",
        "outputId": "d035c74d-7a7c-4b4e-fe15-a4645804ca45"
      },
      "outputs": [
        {
          "data": {
            "text/plain": [
              "{'desktop', 'ipad', 'notebook'}"
            ]
          },
          "metadata": {},
          "output_type": "display_data"
        }
      ],
      "source": [
        "day1.union(day2)"
      ]
    },
    {
      "cell_type": "markdown",
      "id": "cc4eafde",
      "metadata": {
        "id": "cc4eafde"
      },
      "source": [
        "`-` 나머지 메소드는 스스로 찾아보세요"
      ]
    },
    {
      "cell_type": "markdown",
      "id": "1a206e9c",
      "metadata": {
        "id": "1a206e9c"
      },
      "source": [
        "## for문과 set"
      ]
    },
    {
      "cell_type": "code",
      "execution_count": null,
      "id": "1392101f",
      "metadata": {
        "id": "1392101f"
      },
      "outputs": [],
      "source": [
        "day1 = {'notebook', 'desktop'}\n",
        "day2 = {'notebook', 'ipad'}"
      ]
    },
    {
      "cell_type": "code",
      "execution_count": null,
      "id": "e7e89236",
      "metadata": {
        "id": "e7e89236",
        "outputId": "316198ca-2375-42d7-ef75-804cb5b05d38"
      },
      "outputs": [
        {
          "name": "stdout",
          "output_type": "stream",
          "text": [
            "notebook\n",
            "ipad\n",
            "desktop\n"
          ]
        }
      ],
      "source": [
        "for i in day1|day2:\n",
        "    print(i)"
      ]
    },
    {
      "cell_type": "markdown",
      "id": "4d6bdd92",
      "metadata": {
        "id": "4d6bdd92"
      },
      "source": [
        "# 집합 고급내용"
      ]
    },
    {
      "cell_type": "markdown",
      "id": "980684d1",
      "metadata": {
        "id": "980684d1"
      },
      "source": [
        "## set 컴프리헨션"
      ]
    },
    {
      "cell_type": "markdown",
      "id": "728a5b92",
      "metadata": {
        "id": "728a5b92"
      },
      "source": [
        "`-` 예시1"
      ]
    },
    {
      "cell_type": "code",
      "execution_count": null,
      "id": "06371846",
      "metadata": {
        "id": "06371846",
        "outputId": "625a5b21-5cd7-42a8-b657-5470c7671e42"
      },
      "outputs": [
        {
          "data": {
            "text/plain": [
              "{1, 2, 3, 4, 5}"
            ]
          },
          "metadata": {},
          "output_type": "display_data"
        }
      ],
      "source": [
        "lst = [1,2,1,1,3,4,5]\n",
        "{l for l in lst}"
      ]
    },
    {
      "cell_type": "markdown",
      "id": "fac3a1c8",
      "metadata": {
        "id": "fac3a1c8"
      },
      "source": [
        "## 유니크한 원소"
      ]
    },
    {
      "cell_type": "markdown",
      "id": "06af022a",
      "metadata": {
        "id": "06af022a"
      },
      "source": [
        "`-` 예제1: 아래의 list는 모두 몇 종류의 문자로 이루어져 있는가?"
      ]
    },
    {
      "cell_type": "code",
      "execution_count": null,
      "id": "874db77e",
      "metadata": {
        "id": "874db77e"
      },
      "outputs": [],
      "source": [
        "lst=list('asdfasssdfdsasdfasdfasdfasdf')"
      ]
    },
    {
      "cell_type": "markdown",
      "id": "6f9d344c",
      "metadata": {
        "id": "6f9d344c"
      },
      "source": [
        "(풀이)"
      ]
    },
    {
      "cell_type": "code",
      "execution_count": null,
      "id": "6dccff65",
      "metadata": {
        "id": "6dccff65",
        "outputId": "29d0fe20-fdac-4693-da01-bbebe03a0772"
      },
      "outputs": [
        {
          "data": {
            "text/plain": [
              "{'a', 'd', 'f', 's'}"
            ]
          },
          "metadata": {},
          "output_type": "display_data"
        }
      ],
      "source": [
        "set(lst)"
      ]
    },
    {
      "cell_type": "code",
      "execution_count": null,
      "id": "9c8bd1df",
      "metadata": {
        "id": "9c8bd1df",
        "outputId": "5edc3c0b-c81e-4222-a713-e5526a18f90a"
      },
      "outputs": [
        {
          "data": {
            "text/plain": [
              "4"
            ]
          },
          "metadata": {},
          "output_type": "display_data"
        }
      ],
      "source": [
        "len(set(lst))"
      ]
    },
    {
      "cell_type": "markdown",
      "id": "a9f8be2d",
      "metadata": {
        "id": "a9f8be2d"
      },
      "source": [
        "`-` 예제2: 아래의 txt에서 어떠한 종류의 문자가 각각 몇번씩 사용되었는지 빈도를 구하는 코드를 작성하라."
      ]
    },
    {
      "cell_type": "code",
      "execution_count": null,
      "id": "45ab58ec",
      "metadata": {
        "id": "45ab58ec",
        "outputId": "0acb0b1c-c911-4d8e-82d1-0ad13305fb3b"
      },
      "outputs": [
        {
          "data": {
            "text/plain": [
              "'asdkflkjahsdlkjfhlaksglkjdhflkgjhlskdfjhglkajhsdlkfjhalsdkf'"
            ]
          },
          "metadata": {},
          "output_type": "display_data"
        }
      ],
      "source": [
        "txt = 'asdkflkjahsdlkjfhlaksglkjdhflkgjhlskdfjhglkajhsdlkfjhalsdkf'\n",
        "txt"
      ]
    },
    {
      "cell_type": "markdown",
      "id": "85254ddd",
      "metadata": {
        "id": "85254ddd"
      },
      "source": [
        "(풀이)"
      ]
    },
    {
      "cell_type": "code",
      "execution_count": null,
      "id": "47493e64",
      "metadata": {
        "id": "47493e64",
        "outputId": "4303accf-a142-47c0-9154-eedbfb6aed60"
      },
      "outputs": [
        {
          "data": {
            "text/plain": [
              "{'s': 6, 'a': 5, 'g': 3, 'k': 10, 'j': 7, 'h': 7, 'd': 6, 'l': 9, 'f': 6}"
            ]
          },
          "metadata": {},
          "output_type": "display_data"
        }
      ],
      "source": [
        "{k:list(txt).count(k) for k in set(txt)}"
      ]
    },
    {
      "cell_type": "markdown",
      "id": "34e6f172",
      "metadata": {
        "id": "34e6f172"
      },
      "source": [
        "# Quiz"
      ]
    },
    {
      "cell_type": "markdown",
      "id": "56a69b92",
      "metadata": {
        "id": "56a69b92"
      },
      "source": [
        "`1`. 아래와 같은 맵핑을 고려하자."
      ]
    },
    {
      "cell_type": "markdown",
      "id": "f7c6f37d",
      "metadata": {
        "id": "f7c6f37d"
      },
      "source": [
        "|문자|숫자|\n",
        "|:-:|:-:|\n",
        "|a|1|\n",
        "|b|0|"
      ]
    },
    {
      "cell_type": "markdown",
      "id": "6d937454",
      "metadata": {
        "id": "6d937454"
      },
      "source": [
        "이를 딕셔너리로 표현하면 아래와 같다."
      ]
    },
    {
      "cell_type": "code",
      "execution_count": 1,
      "id": "1462130a",
      "metadata": {
        "id": "1462130a"
      },
      "outputs": [],
      "source": [
        "dct = {'a':0, 'b':1}"
      ]
    },
    {
      "cell_type": "markdown",
      "id": "2646f672",
      "metadata": {
        "id": "2646f672"
      },
      "source": [
        "위 규칙에 따라서 아래의 리스트의 원소를 문자로 각각 변환하라."
      ]
    },
    {
      "cell_type": "code",
      "execution_count": 2,
      "id": "707619c1",
      "metadata": {
        "id": "707619c1"
      },
      "outputs": [],
      "source": [
        "lst = [1, 0, 1, 0, 1, 0, 1, 1, 1, 1, 0, 0, 1, 0, 1]"
      ]
    },
    {
      "cell_type": "markdown",
      "id": "a71127d1",
      "metadata": {
        "id": "a71127d1"
      },
      "source": [
        "```Python\n",
        "# 출력은 아래와 같아야 한다.\n",
        "['b', 'a', 'b', 'a', 'b', 'a', 'b', 'b', 'b', 'b', 'a', 'a', 'b', 'a', 'b']\n",
        "```"
      ]
    },
    {
      "cell_type": "code",
      "source": [
        "[k for i in lst for k, v in dct.items() if v == i]"
      ],
      "metadata": {
        "colab": {
          "base_uri": "https://localhost:8080/"
        },
        "id": "88DkMbLXX7Wc",
        "outputId": "733a48cc-9672-481e-d9a3-b991a83991d4"
      },
      "id": "88DkMbLXX7Wc",
      "execution_count": 5,
      "outputs": [
        {
          "output_type": "execute_result",
          "data": {
            "text/plain": [
              "['b', 'a', 'b', 'a', 'b', 'a', 'b', 'b', 'b', 'b', 'a', 'a', 'b', 'a', 'b']"
            ]
          },
          "metadata": {},
          "execution_count": 5
        }
      ]
    },
    {
      "cell_type": "markdown",
      "id": "9f8d42c7",
      "metadata": {
        "id": "9f8d42c7"
      },
      "source": [
        "`2`. 아래와 같은 맵핑을 고려하자."
      ]
    },
    {
      "cell_type": "markdown",
      "id": "f2cb7963",
      "metadata": {
        "id": "f2cb7963"
      },
      "source": [
        "|월|의미|\n",
        "|:-:|:-:|\n",
        "|1,2|겨울방학|\n",
        "|3,4,5,6|1학기|\n",
        "|7,8|여름방학|\n",
        "|9,10,11,12|2학기|"
      ]
    },
    {
      "cell_type": "markdown",
      "id": "04ec001a",
      "metadata": {
        "id": "04ec001a"
      },
      "source": [
        "이러한 규칙에 맞게 아래의 리스트를 적절한 문자열로 변환하라."
      ]
    },
    {
      "cell_type": "code",
      "execution_count": 6,
      "id": "91404712",
      "metadata": {
        "id": "91404712"
      },
      "outputs": [],
      "source": [
        "month = [1,2,2,3,4,5,6,7,8,9,9,10,11,12]"
      ]
    },
    {
      "cell_type": "code",
      "source": [
        "dct = {'겨울방학': [1, 2]\n",
        "       , '1학기': [3, 4, 5, 6]\n",
        "       , '여름방학': [7, 8]\n",
        "       , '2학기': [9, 10, 11, 12]}\n",
        "[k for m in month for k, v in dct.items() if m in v]"
      ],
      "metadata": {
        "colab": {
          "base_uri": "https://localhost:8080/"
        },
        "id": "ebNYN2upYqUT",
        "outputId": "7b9c2a98-79bb-44a8-d82a-7da25985e04e"
      },
      "id": "ebNYN2upYqUT",
      "execution_count": 8,
      "outputs": [
        {
          "output_type": "execute_result",
          "data": {
            "text/plain": [
              "['겨울방학',\n",
              " '겨울방학',\n",
              " '겨울방학',\n",
              " '1학기',\n",
              " '1학기',\n",
              " '1학기',\n",
              " '1학기',\n",
              " '여름방학',\n",
              " '여름방학',\n",
              " '2학기',\n",
              " '2학기',\n",
              " '2학기',\n",
              " '2학기',\n",
              " '2학기']"
            ]
          },
          "metadata": {},
          "execution_count": 8
        }
      ]
    },
    {
      "cell_type": "markdown",
      "id": "2290230c",
      "metadata": {
        "id": "2290230c"
      },
      "source": [
        "```Python\n",
        "## 출력은 아래와 같아야 한다.\n",
        "['겨울방학', '겨울방학', '겨울방학', '1학기', '1학기', '1학기', '1학기', '여름방학', '여름방학', '2학기', '2학기', '2학기', '2학기', '2학기']\n",
        "```"
      ]
    },
    {
      "cell_type": "markdown",
      "id": "ce0ad39f",
      "metadata": {
        "id": "ce0ad39f"
      },
      "source": [
        "`합성변환` 3-5."
      ]
    },
    {
      "cell_type": "markdown",
      "id": "5bc09d76",
      "metadata": {
        "id": "5bc09d76"
      },
      "source": [
        "아래와 같은 맵핑을 고려하자."
      ]
    },
    {
      "cell_type": "markdown",
      "id": "85a9ca93",
      "metadata": {
        "id": "85a9ca93"
      },
      "source": [
        "(규칙1)"
      ]
    },
    {
      "cell_type": "markdown",
      "id": "cd8e0262",
      "metadata": {
        "id": "cd8e0262"
      },
      "source": [
        "|문자|숫자|\n",
        "|:-:|:-:|\n",
        "|바나나|0|\n",
        "|사과|1|\n",
        "|오토바이|2|\n",
        "|자동차|3|\n",
        "|자전거|4|"
      ]
    },
    {
      "cell_type": "markdown",
      "id": "53334ccb",
      "metadata": {
        "id": "53334ccb"
      },
      "source": [
        "(규칙2)"
      ]
    },
    {
      "cell_type": "markdown",
      "id": "41aec9a8",
      "metadata": {
        "id": "41aec9a8"
      },
      "source": [
        "|아이템|카테고리|\n",
        "|:-:|:-:|\n",
        "|바나나|과일|\n",
        "|사과|과일|\n",
        "|오토바이|탈것|\n",
        "|자동차|탈것|\n",
        "|자전거|탈것|"
      ]
    },
    {
      "cell_type": "markdown",
      "id": "506e6f35",
      "metadata": {
        "id": "506e6f35"
      },
      "source": [
        "각각의 규칙을 나타내는 딕셔너리는 아래와 같이 선언되어있다고 하자."
      ]
    },
    {
      "cell_type": "code",
      "execution_count": 9,
      "id": "5a658452",
      "metadata": {
        "id": "5a658452"
      },
      "outputs": [],
      "source": [
        "dct1 = {'바나나':0, '사과':1, '오토바이':2, '자동차':3, '자전거':4}\n",
        "dct2 = {'과일':['바나나','사과'], '탈것':['오토바이','자동차','자전거']}"
      ]
    },
    {
      "cell_type": "markdown",
      "id": "2e17e967",
      "metadata": {
        "id": "2e17e967"
      },
      "source": [
        "`3`. 규칙1를 이용하여 아래와 같은 리스트를 변환하는 함수를 구현하고 그 함수를 `f`라 선언하라."
      ]
    },
    {
      "cell_type": "markdown",
      "id": "9ca97def",
      "metadata": {
        "id": "9ca97def"
      },
      "source": [
        "```Python\n",
        "# 입력\n",
        "[0,1,0,1,4]\n",
        "\n",
        "# 출력\n",
        "['바나나', '사과', '바나나', '사과', '자전거']\n",
        "```"
      ]
    },
    {
      "cell_type": "code",
      "source": [
        "x = [0, 1, 0, 1, 4]\n",
        "[k for i in x for k, v in dct1.items() if i == v]"
      ],
      "metadata": {
        "colab": {
          "base_uri": "https://localhost:8080/"
        },
        "id": "W1jLluxQjBje",
        "outputId": "f2e27498-b0ad-4889-cde5-ce0b2a22fad9"
      },
      "id": "W1jLluxQjBje",
      "execution_count": 10,
      "outputs": [
        {
          "output_type": "execute_result",
          "data": {
            "text/plain": [
              "['바나나', '사과', '바나나', '사과', '자전거']"
            ]
          },
          "metadata": {},
          "execution_count": 10
        }
      ]
    },
    {
      "cell_type": "markdown",
      "id": "0b1aefd4",
      "metadata": {
        "id": "0b1aefd4"
      },
      "source": [
        "(사용예시)"
      ]
    },
    {
      "cell_type": "code",
      "execution_count": null,
      "id": "1728f060",
      "metadata": {
        "id": "1728f060",
        "outputId": "566441af-2d96-46e9-8619-f34b6264464f"
      },
      "outputs": [
        {
          "data": {
            "text/plain": [
              "['바나나', '사과', '바나나', '사과', '자전거']"
            ]
          },
          "metadata": {},
          "output_type": "display_data"
        }
      ],
      "source": [
        "f([0,1,0,1,4])"
      ]
    },
    {
      "cell_type": "markdown",
      "id": "0c465494",
      "metadata": {
        "id": "0c465494"
      },
      "source": [
        "`4`. 규칙2를 이용하여 아래와 같이 리스트를 변환하는 함수를 구현하고 그 함수를 `g`라고 선언하라."
      ]
    },
    {
      "cell_type": "markdown",
      "id": "41ae4768",
      "metadata": {
        "id": "41ae4768"
      },
      "source": [
        "```Python\n",
        "# 입력\n",
        "['바나나','바나나','바나나','자동차']\n",
        "\n",
        "# 출력\n",
        "['과일','과일','과일','탈것']\n",
        "```"
      ]
    },
    {
      "cell_type": "code",
      "source": [
        "x = ['바나나','바나나','바나나','자동차']\n",
        "[k for i in x for k, v in dct2.items() if i in v]"
      ],
      "metadata": {
        "colab": {
          "base_uri": "https://localhost:8080/"
        },
        "id": "wDwbg5LbjTBf",
        "outputId": "62d82b77-f100-4afa-9416-9289c3977b12"
      },
      "id": "wDwbg5LbjTBf",
      "execution_count": 12,
      "outputs": [
        {
          "output_type": "execute_result",
          "data": {
            "text/plain": [
              "['과일', '과일', '과일', '탈것']"
            ]
          },
          "metadata": {},
          "execution_count": 12
        }
      ]
    },
    {
      "cell_type": "markdown",
      "id": "79da988d",
      "metadata": {
        "id": "79da988d"
      },
      "source": [
        "(사용예시)"
      ]
    },
    {
      "cell_type": "code",
      "execution_count": null,
      "id": "49bb0231",
      "metadata": {
        "id": "49bb0231",
        "outputId": "96dccd19-1d13-4d73-9b8a-f4f183fc3303"
      },
      "outputs": [
        {
          "data": {
            "text/plain": [
              "['과일', '과일', '과일', '탈것']"
            ]
          },
          "metadata": {},
          "output_type": "display_data"
        }
      ],
      "source": [
        "g(['바나나','바나나','바나나','자동차'])"
      ]
    },
    {
      "cell_type": "markdown",
      "id": "974c31f5",
      "metadata": {
        "id": "974c31f5"
      },
      "source": [
        "`5`. 규칙1-2를 이용하여 아래와 같은 숫자로 이루어진 입력을 '과일', '탈것' 중 하나로 바꾸는 코드를 구현하라."
      ]
    },
    {
      "cell_type": "markdown",
      "id": "fa51c3d5",
      "metadata": {
        "id": "fa51c3d5"
      },
      "source": [
        "```Python\n",
        "# 입력\n",
        "[0,1,0,1,3,4,2,2,3,4,1,0]\n",
        "\n",
        "# 출력\n",
        "['과일', '과일', '과일', '과일', '탈것', '탈것', '탈것', '탈것', '탈것', '탈것', '과일', '과일']\n",
        "```"
      ]
    },
    {
      "cell_type": "code",
      "source": [
        "x = [0,1,0,1,3,4,2,2,3,4,1,0]\n",
        "fruits = [k for i in x for k, v in dct1.items() if i == v]\n",
        "[k for i in fruits for k, v in dct2.items() if i in v]"
      ],
      "metadata": {
        "colab": {
          "base_uri": "https://localhost:8080/"
        },
        "id": "8rAARVwCoL_-",
        "outputId": "13290cb8-191c-4d7c-9cbb-b539801a0aac"
      },
      "id": "8rAARVwCoL_-",
      "execution_count": 14,
      "outputs": [
        {
          "output_type": "execute_result",
          "data": {
            "text/plain": [
              "['과일', '과일', '과일', '과일', '탈것', '탈것', '탈것', '탈것', '탈것', '탈것', '과일', '과일']"
            ]
          },
          "metadata": {},
          "execution_count": 14
        }
      ]
    },
    {
      "cell_type": "markdown",
      "id": "cc8c56ba",
      "metadata": {
        "id": "cc8c56ba"
      },
      "source": [
        "**hint** $g(f(x))$ 를 이용하라."
      ]
    },
    {
      "cell_type": "markdown",
      "id": "6f3621c1",
      "metadata": {
        "id": "6f3621c1"
      },
      "source": [
        "`Oxford-III`: 6--10 // [reference](https://www.robots.ox.ac.uk/~vgg/data/pets/)\n",
        "\n",
        "아래는 이미지 파일명들이 저장된 string을 불러오는 코드이다."
      ]
    },
    {
      "cell_type": "code",
      "execution_count": 15,
      "id": "39624242",
      "metadata": {
        "id": "39624242"
      },
      "outputs": [],
      "source": [
        "import requests\n",
        "url = 'https://raw.githubusercontent.com/guebin/PP2023/main/posts/01_PythonBasic/Oxford-IIIT.txt'\n",
        "txt = requests.get(url).content.decode()"
      ]
    },
    {
      "cell_type": "markdown",
      "id": "0c99c828",
      "metadata": {
        "id": "0c99c828"
      },
      "source": [
        "이미지파일이 저장된 형식은 아래와 같다.\n",
        "\n",
        "```\n",
        "Abyssinian_1.jpg\n",
        "British_Shorthair_129.jpg\n",
        "```"
      ]
    },
    {
      "cell_type": "markdown",
      "id": "82fd2f7b",
      "metadata": {
        "id": "82fd2f7b"
      },
      "source": [
        "**note**: `British_Shorthair`와 같이 종 이름 사이에 `_`가 들어있는 경우도 있음."
      ]
    },
    {
      "cell_type": "markdown",
      "id": "0a51a8c7",
      "metadata": {
        "id": "0a51a8c7"
      },
      "source": [
        "`6`. txt를 적당히 변환하여 아래와 같은 list를 만들어라."
      ]
    },
    {
      "cell_type": "code",
      "execution_count": null,
      "id": "a937c918",
      "metadata": {
        "id": "a937c918",
        "outputId": "adf72ef8-c9a7-4a41-f91b-260c9adc6ee4"
      },
      "outputs": [
        {
          "data": {
            "text/plain": [
              "(['Abyssinian',\n",
              "  'Abyssinian',\n",
              "  'Abyssinian',\n",
              "  'Abyssinian',\n",
              "  'Abyssinian',\n",
              "  'Abyssinian',\n",
              "  'Abyssinian',\n",
              "  'Abyssinian',\n",
              "  'Abyssinian',\n",
              "  'Abyssinian'],\n",
              " ['BritishShorthair',\n",
              "  'BritishShorthair',\n",
              "  'BritishShorthair',\n",
              "  'BritishShorthair',\n",
              "  'BritishShorthair',\n",
              "  'BritishShorthair',\n",
              "  'BritishShorthair',\n",
              "  'BritishShorthair',\n",
              "  'BritishShorthair',\n",
              "  'BritishShorthair'])"
            ]
          },
          "metadata": {},
          "output_type": "display_data"
        }
      ],
      "source": [
        "lst[:10],lst[810:820]"
      ]
    },
    {
      "cell_type": "markdown",
      "id": "d8a99abc",
      "metadata": {
        "id": "d8a99abc"
      },
      "source": [
        "**hint1**"
      ]
    },
    {
      "cell_type": "code",
      "execution_count": null,
      "id": "5e60fe6d",
      "metadata": {
        "id": "5e60fe6d",
        "outputId": "60b53aa5-bfdb-4baf-aa84-6f1a4f99eb51"
      },
      "outputs": [
        {
          "data": {
            "text/plain": [
              "['Abyssinian_1.jpg', 'Abyssinian_10.jpg']"
            ]
          },
          "metadata": {},
          "output_type": "display_data"
        }
      ],
      "source": [
        "'Abyssinian_1.jpg\\nAbyssinian_10.jpg'.split('\\n')"
      ]
    },
    {
      "cell_type": "markdown",
      "id": "8be1362f",
      "metadata": {
        "id": "8be1362f"
      },
      "source": [
        "**hint2**"
      ]
    },
    {
      "cell_type": "code",
      "execution_count": null,
      "id": "4e232868",
      "metadata": {
        "id": "4e232868",
        "outputId": "d0580d60-5278-4e33-c2a9-f8eaf2626392"
      },
      "outputs": [
        {
          "data": {
            "text/plain": [
              "'BritishShorthair'"
            ]
          },
          "metadata": {},
          "output_type": "display_data"
        }
      ],
      "source": [
        "''.join(['British', 'Shorthair'])"
      ]
    },
    {
      "cell_type": "code",
      "execution_count": null,
      "id": "338df9e9",
      "metadata": {
        "id": "338df9e9",
        "outputId": "be18355d-b3bf-4b4e-fde8-a6f8bac0debe"
      },
      "outputs": [
        {
          "data": {
            "text/plain": [
              "'Abyssinian'"
            ]
          },
          "metadata": {},
          "output_type": "display_data"
        }
      ],
      "source": [
        "''.join(['Abyssinian'])"
      ]
    },
    {
      "cell_type": "code",
      "source": [
        "lst = [''.join(i.split('_')[:-1]) for i in txt.split('\\n')]\n",
        "\n",
        "lst[10:20], lst[810:820]\n"
      ],
      "metadata": {
        "colab": {
          "base_uri": "https://localhost:8080/"
        },
        "id": "aSlHFIkRpnRo",
        "outputId": "5107bf6e-0ca4-47e2-c050-7fe204eccf26"
      },
      "id": "aSlHFIkRpnRo",
      "execution_count": 32,
      "outputs": [
        {
          "output_type": "execute_result",
          "data": {
            "text/plain": [
              "(['Abyssinian',\n",
              "  'Abyssinian',\n",
              "  'Abyssinian',\n",
              "  'Abyssinian',\n",
              "  'Abyssinian',\n",
              "  'Abyssinian',\n",
              "  'Abyssinian',\n",
              "  'Abyssinian',\n",
              "  'Abyssinian',\n",
              "  'Abyssinian'],\n",
              " ['BritishShorthair',\n",
              "  'BritishShorthair',\n",
              "  'BritishShorthair',\n",
              "  'BritishShorthair',\n",
              "  'BritishShorthair',\n",
              "  'BritishShorthair',\n",
              "  'BritishShorthair',\n",
              "  'BritishShorthair',\n",
              "  'BritishShorthair',\n",
              "  'BritishShorthair'])"
            ]
          },
          "metadata": {},
          "execution_count": 32
        }
      ]
    },
    {
      "cell_type": "markdown",
      "id": "f808babd",
      "metadata": {
        "id": "f808babd"
      },
      "source": [
        "`7`. 그림파일에는 총 몇가지 종류의 고양이와, 몇가지 종류의 강아지가 있는가?"
      ]
    },
    {
      "cell_type": "markdown",
      "id": "14d7e10e",
      "metadata": {
        "id": "14d7e10e"
      },
      "source": [
        "**note:** 고양이사진은 대문자로 시작하고, 강아지 사진은 소문자로 시작한다."
      ]
    },
    {
      "cell_type": "markdown",
      "id": "56b4a8e6",
      "metadata": {
        "id": "56b4a8e6"
      },
      "source": [
        "**note**: 12종의 고양이, 25종의 강아지가 있음"
      ]
    },
    {
      "cell_type": "markdown",
      "id": "d5746fe6",
      "metadata": {
        "id": "d5746fe6"
      },
      "source": [
        "(풀이)"
      ]
    },
    {
      "cell_type": "code",
      "execution_count": null,
      "id": "e5473d68",
      "metadata": {
        "id": "e5473d68",
        "outputId": "bba3634d-2892-42e2-bfb9-082939d36080"
      },
      "outputs": [
        {
          "data": {
            "text/plain": [
              "12"
            ]
          },
          "metadata": {},
          "output_type": "display_data"
        }
      ],
      "source": [
        "[s[0].isupper() for s in set(lst)].count(True) # 고양이 12"
      ]
    },
    {
      "cell_type": "code",
      "execution_count": null,
      "id": "12799628",
      "metadata": {
        "id": "12799628",
        "outputId": "dabf8c41-b76b-4a7e-ef2f-892b9ed2a429"
      },
      "outputs": [
        {
          "data": {
            "text/plain": [
              "25"
            ]
          },
          "metadata": {},
          "output_type": "display_data"
        }
      ],
      "source": [
        "[s[0].isupper() for s in set(lst)].count(False) # 강아지 25"
      ]
    },
    {
      "cell_type": "markdown",
      "id": "58e3a88e",
      "metadata": {
        "id": "58e3a88e"
      },
      "source": [
        "`8`. 아래는 1번의 결과로 얻어진 lst의 첫 10개의 원소와 마지막 10개의 원소이다."
      ]
    },
    {
      "cell_type": "code",
      "execution_count": 33,
      "id": "c0b60fdb",
      "metadata": {
        "id": "c0b60fdb",
        "outputId": "2f5276ef-af2f-463d-aeaa-aa495ac36b3e",
        "colab": {
          "base_uri": "https://localhost:8080/"
        }
      },
      "outputs": [
        {
          "output_type": "execute_result",
          "data": {
            "text/plain": [
              "(['Abyssinian',\n",
              "  'Abyssinian',\n",
              "  'Abyssinian',\n",
              "  'Abyssinian',\n",
              "  'Abyssinian',\n",
              "  'Abyssinian',\n",
              "  'Abyssinian',\n",
              "  'Abyssinian',\n",
              "  'Abyssinian',\n",
              "  'Abyssinian'],\n",
              " ['yorkshireterrier',\n",
              "  'yorkshireterrier',\n",
              "  'yorkshireterrier',\n",
              "  'yorkshireterrier',\n",
              "  'yorkshireterrier',\n",
              "  'yorkshireterrier',\n",
              "  'yorkshireterrier',\n",
              "  'yorkshireterrier',\n",
              "  'yorkshireterrier',\n",
              "  'yorkshireterrier'])"
            ]
          },
          "metadata": {},
          "execution_count": 33
        }
      ],
      "source": [
        "lst[:10], lst[-10:]"
      ]
    },
    {
      "cell_type": "markdown",
      "id": "af99d607",
      "metadata": {
        "id": "af99d607"
      },
      "source": [
        "적당한 변환을 정의하여 lst를 아래와 같이 바꾸어라."
      ]
    },
    {
      "cell_type": "code",
      "execution_count": null,
      "id": "d4940366",
      "metadata": {
        "id": "d4940366",
        "outputId": "5d3231f6-ddb4-4fc9-c3be-219d9c6404de"
      },
      "outputs": [
        {
          "data": {
            "text/plain": [
              "(['cat', 'cat', 'cat', 'cat', 'cat', 'cat', 'cat', 'cat', 'cat', 'cat'],\n",
              " ['dog', 'dog', 'dog', 'dog', 'dog', 'dog', 'dog', 'dog', 'dog', 'dog'])"
            ]
          },
          "metadata": {},
          "output_type": "display_data"
        }
      ],
      "source": [
        "lst2[:10], lst2[-10:] # 바뀐 lst"
      ]
    },
    {
      "cell_type": "code",
      "source": [
        "lst2 = ['cat' if i[0].isupper() else 'dog' for i in lst ]\n",
        "lst2[:10], lst2[-10:]"
      ],
      "metadata": {
        "colab": {
          "base_uri": "https://localhost:8080/"
        },
        "id": "nQf_MNwwrJ6B",
        "outputId": "c3dc1499-860a-4e2f-8ba4-6cc303b8bd22"
      },
      "id": "nQf_MNwwrJ6B",
      "execution_count": 43,
      "outputs": [
        {
          "output_type": "execute_result",
          "data": {
            "text/plain": [
              "(['cat', 'cat', 'cat', 'cat', 'cat', 'cat', 'cat', 'cat', 'cat', 'cat'],\n",
              " ['dog', 'dog', 'dog', 'dog', 'dog', 'dog', 'dog', 'dog', 'dog', 'dog'])"
            ]
          },
          "metadata": {},
          "execution_count": 43
        }
      ]
    },
    {
      "cell_type": "markdown",
      "id": "29ac4338",
      "metadata": {
        "id": "29ac4338"
      },
      "source": [
        "`9`. txt에는 강아지사진과 고양이사진이 모두 몇장씩 들어있는가?"
      ]
    },
    {
      "cell_type": "code",
      "execution_count": null,
      "id": "146cdb4e",
      "metadata": {
        "id": "146cdb4e",
        "outputId": "14f7bf7e-d0c2-4f4a-db64-9d3f4f29f7a7"
      },
      "outputs": [
        {
          "data": {
            "text/plain": [
              "{'dog': 4990, 'cat': 2403}"
            ]
          },
          "metadata": {},
          "output_type": "display_data"
        }
      ],
      "source": [
        "## 출력예시"
      ]
    },
    {
      "cell_type": "code",
      "source": [
        "{'dog': lst2.count('dog'), 'cat': lst2.count('cat')}"
      ],
      "metadata": {
        "colab": {
          "base_uri": "https://localhost:8080/"
        },
        "id": "JcnAdWCEs6f9",
        "outputId": "92f4af37-d151-4aa9-8138-adf0ec0ad413"
      },
      "id": "JcnAdWCEs6f9",
      "execution_count": 44,
      "outputs": [
        {
          "output_type": "execute_result",
          "data": {
            "text/plain": [
              "{'dog': 4990, 'cat': 2403}"
            ]
          },
          "metadata": {},
          "execution_count": 44
        }
      ]
    },
    {
      "cell_type": "markdown",
      "id": "031466eb",
      "metadata": {
        "id": "031466eb"
      },
      "source": [
        "`10`. txt에 각 종별로 몇장의 사진이 있는지 조사하라."
      ]
    },
    {
      "cell_type": "code",
      "execution_count": null,
      "id": "8f34758e",
      "metadata": {
        "id": "8f34758e",
        "outputId": "3d587c33-bac5-4111-ef85-479a337a76d7"
      },
      "outputs": [
        {
          "data": {
            "text/plain": [
              "{'beagle': 200,\n",
              " 'scottishterrier': 199,\n",
              " 'newfoundland': 200,\n",
              " 'Birman': 200,\n",
              " 'Bombay': 200,\n",
              " 'pug': 200,\n",
              " 'germanshorthaired': 200,\n",
              " 'samoyed': 200,\n",
              " 'Sphynx': 200,\n",
              " 'englishsetter': 200,\n",
              " 'Bengal': 200,\n",
              " 'MaineCoon': 200,\n",
              " 'Persian': 200,\n",
              " 'boxer': 200,\n",
              " 'staffordshirebullterrier': 191,\n",
              " 'Siamese': 200,\n",
              " 'bassethound': 200,\n",
              " 'wheatenterrier': 200,\n",
              " 'englishcockerspaniel': 200,\n",
              " 'Ragdoll': 200,\n",
              " 'yorkshireterrier': 200,\n",
              " 'EgyptianMau': 200,\n",
              " 'BritishShorthair': 200,\n",
              " 'keeshond': 200,\n",
              " 'RussianBlue': 200,\n",
              " 'saintbernard': 200,\n",
              " 'americanbulldog': 200,\n",
              " 'Abyssinian': 203,\n",
              " 'leonberger': 200,\n",
              " 'greatpyrenees': 200,\n",
              " 'japanesechin': 200,\n",
              " 'pomeranian': 200,\n",
              " 'chihuahua': 200,\n",
              " 'shibainu': 200,\n",
              " 'americanpitbullterrier': 200,\n",
              " 'miniaturepinscher': 200,\n",
              " 'havanese': 200}"
            ]
          },
          "metadata": {},
          "output_type": "display_data"
        }
      ],
      "source": [
        "## 출력예시"
      ]
    },
    {
      "cell_type": "code",
      "source": [
        "{i: lst.count(i) for i in set(lst)}"
      ],
      "metadata": {
        "colab": {
          "base_uri": "https://localhost:8080/"
        },
        "id": "JOmDDDZetFQI",
        "outputId": "65a9778d-1534-46d4-d161-e2e5d82e8831"
      },
      "id": "JOmDDDZetFQI",
      "execution_count": 47,
      "outputs": [
        {
          "output_type": "execute_result",
          "data": {
            "text/plain": [
              "{'Persian': 200,\n",
              " 'keeshond': 200,\n",
              " 'havanese': 200,\n",
              " 'germanshorthaired': 200,\n",
              " 'EgyptianMau': 200,\n",
              " 'Bombay': 200,\n",
              " 'beagle': 200,\n",
              " 'Siamese': 200,\n",
              " 'leonberger': 200,\n",
              " 'Bengal': 200,\n",
              " 'miniaturepinscher': 200,\n",
              " 'americanbulldog': 200,\n",
              " 'saintbernard': 200,\n",
              " 'Sphynx': 200,\n",
              " 'Abyssinian': 203,\n",
              " 'chihuahua': 200,\n",
              " 'shibainu': 200,\n",
              " 'yorkshireterrier': 200,\n",
              " 'Ragdoll': 200,\n",
              " 'boxer': 200,\n",
              " 'scottishterrier': 199,\n",
              " 'staffordshirebullterrier': 191,\n",
              " 'japanesechin': 200,\n",
              " 'englishsetter': 200,\n",
              " 'samoyed': 200,\n",
              " 'newfoundland': 200,\n",
              " 'RussianBlue': 200,\n",
              " 'bassethound': 200,\n",
              " 'wheatenterrier': 200,\n",
              " 'Birman': 200,\n",
              " 'americanpitbullterrier': 200,\n",
              " 'greatpyrenees': 200,\n",
              " 'englishcockerspaniel': 200,\n",
              " 'BritishShorthair': 200,\n",
              " 'pomeranian': 200,\n",
              " 'MaineCoon': 200,\n",
              " 'pug': 200}"
            ]
          },
          "metadata": {},
          "execution_count": 47
        }
      ]
    },
    {
      "cell_type": "code",
      "source": [],
      "metadata": {
        "id": "x6MFfJFNt0Jx"
      },
      "id": "x6MFfJFNt0Jx",
      "execution_count": null,
      "outputs": []
    }
  ],
  "metadata": {
    "kernelspec": {
      "display_name": "Python 3 (ipykernel)",
      "language": "python",
      "name": "python3"
    },
    "language_info": {
      "codemirror_mode": {
        "name": "ipython",
        "version": 3
      },
      "file_extension": ".py",
      "mimetype": "text/x-python",
      "name": "python",
      "nbconvert_exporter": "python",
      "pygments_lexer": "ipython3",
      "version": "3.10.12"
    },
    "colab": {
      "provenance": [],
      "include_colab_link": true
    }
  },
  "nbformat": 4,
  "nbformat_minor": 5
}