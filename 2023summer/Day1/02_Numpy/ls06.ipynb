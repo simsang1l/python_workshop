{
  "cells": [
    {
      "cell_type": "markdown",
      "metadata": {
        "id": "d99bac66-73ce-4779-8d64-f121f828655e"
      },
      "source": [
        "# Lesson 06: numpy 공부 3단계 ~ 4단계\n",
        "\n",
        "최규빈  \n",
        "2023-07-24\n",
        "\n",
        "<a href=\"https://colab.research.google.com/github/guebin/PP2023SUM/blob/main/posts/Day1/02_Numpy/ls07.ipynb\"><img src=\"https://colab.research.google.com/assets/colab-badge.svg\" style=\"text-align: left\"></a>\n",
        "\n",
        "# imports"
      ],
      "id": "d99bac66-73ce-4779-8d64-f121f828655e"
    },
    {
      "cell_type": "code",
      "execution_count": 2,
      "metadata": {
        "id": "c4a2c671-67bb-4247-93ee-12eaf3e8d3ae"
      },
      "outputs": [],
      "source": [
        "import numpy as np"
      ],
      "id": "c4a2c671-67bb-4247-93ee-12eaf3e8d3ae"
    },
    {
      "cell_type": "markdown",
      "metadata": {
        "id": "62ad3bb9-4c33-4a70-9926-7d5c732b3509"
      },
      "source": [
        "# 넘파이 공부 4단계\n",
        "\n",
        "`-` 목표: 넘파이의 axis를 이해하여 보자.\n",
        "\n",
        "## np.concatenate\n",
        "\n",
        "`-` 기본예제"
      ],
      "id": "62ad3bb9-4c33-4a70-9926-7d5c732b3509"
    },
    {
      "cell_type": "code",
      "execution_count": 3,
      "metadata": {
        "id": "7f5c3986-9b1d-4ae3-9b72-905d0077d8f0"
      },
      "outputs": [],
      "source": [
        "a=np.array([1,2])\n",
        "b=-a"
      ],
      "id": "7f5c3986-9b1d-4ae3-9b72-905d0077d8f0"
    },
    {
      "cell_type": "code",
      "execution_count": 4,
      "metadata": {
        "id": "8780358a-324d-47e8-b965-87b05007116d",
        "outputId": "c7caf906-94d0-42a3-fb38-4dd4a45bff3b",
        "colab": {
          "base_uri": "https://localhost:8080/"
        }
      },
      "outputs": [
        {
          "output_type": "execute_result",
          "data": {
            "text/plain": [
              "array([ 1,  2, -1, -2])"
            ]
          },
          "metadata": {},
          "execution_count": 4
        }
      ],
      "source": [
        "np.concatenate([a,b])"
      ],
      "id": "8780358a-324d-47e8-b965-87b05007116d"
    },
    {
      "cell_type": "markdown",
      "metadata": {
        "id": "2172f247-293f-4b4b-9597-d05145996516"
      },
      "source": [
        "`-` 응용"
      ],
      "id": "2172f247-293f-4b4b-9597-d05145996516"
    },
    {
      "cell_type": "code",
      "execution_count": 5,
      "metadata": {
        "id": "6ed1e58f-c53a-45f7-bef6-dbff8f7bf8ca"
      },
      "outputs": [],
      "source": [
        "a=np.array([1,2])\n",
        "b=-a\n",
        "c=np.array([3,4,5])"
      ],
      "id": "6ed1e58f-c53a-45f7-bef6-dbff8f7bf8ca"
    },
    {
      "cell_type": "code",
      "execution_count": 7,
      "metadata": {
        "id": "9c2e6f38-7b5c-4421-867c-56fef1015812",
        "outputId": "7f4e0c98-8b4a-4d51-ab20-9ad4505917db",
        "colab": {
          "base_uri": "https://localhost:8080/"
        }
      },
      "outputs": [
        {
          "output_type": "execute_result",
          "data": {
            "text/plain": [
              "array([ 1,  2, -1, -2,  3,  4,  5])"
            ]
          },
          "metadata": {},
          "execution_count": 7
        }
      ],
      "source": [
        "np.concatenate([a,b,c])"
      ],
      "id": "9c2e6f38-7b5c-4421-867c-56fef1015812"
    },
    {
      "cell_type": "markdown",
      "metadata": {
        "id": "56df2d0a-8f7b-49fa-aa91-92f1c9da7164"
      },
      "source": [
        "-   여기까진 딱히 칸캐터네이트의 메리트가 없어보임\n",
        "-   리스트였다면 a+b+c 하면 되는 기능이니까?\n",
        "\n",
        "`-` 2d array에 적용해보자."
      ],
      "id": "56df2d0a-8f7b-49fa-aa91-92f1c9da7164"
    },
    {
      "cell_type": "code",
      "execution_count": 8,
      "metadata": {
        "id": "531d1db9-ded8-42cc-aae0-4e024af5bcd4"
      },
      "outputs": [],
      "source": [
        "a=np.arange(4).reshape(2,2)\n",
        "b=-a"
      ],
      "id": "531d1db9-ded8-42cc-aae0-4e024af5bcd4"
    },
    {
      "cell_type": "code",
      "execution_count": 9,
      "metadata": {
        "id": "2d7ec281-20b8-4c48-9665-90ccce842cfe",
        "outputId": "da62a8fb-0168-4aa5-ec17-8835dbd6f563",
        "colab": {
          "base_uri": "https://localhost:8080/"
        }
      },
      "outputs": [
        {
          "output_type": "execute_result",
          "data": {
            "text/plain": [
              "array([[ 0,  1],\n",
              "       [ 2,  3],\n",
              "       [ 0, -1],\n",
              "       [-2, -3]])"
            ]
          },
          "metadata": {},
          "execution_count": 9
        }
      ],
      "source": [
        "np.concatenate([a,b])"
      ],
      "id": "2d7ec281-20b8-4c48-9665-90ccce842cfe"
    },
    {
      "cell_type": "markdown",
      "metadata": {
        "id": "4c1e88ad-2a22-4fe0-9eca-3be79a04cd7a"
      },
      "source": [
        "`-` 옆으로 붙일려면?"
      ],
      "id": "4c1e88ad-2a22-4fe0-9eca-3be79a04cd7a"
    },
    {
      "cell_type": "code",
      "execution_count": 11,
      "metadata": {
        "id": "8302a372-c5c6-4861-befb-cc0c40420baa",
        "outputId": "37bfaa9e-29aa-4473-f992-75fe8046a13b",
        "colab": {
          "base_uri": "https://localhost:8080/"
        }
      },
      "outputs": [
        {
          "output_type": "execute_result",
          "data": {
            "text/plain": [
              "array([[ 0,  1],\n",
              "       [ 2,  3],\n",
              "       [ 0, -1],\n",
              "       [-2, -3]])"
            ]
          },
          "metadata": {},
          "execution_count": 11
        }
      ],
      "source": [
        "np.concatenate([a,b],axis=1)"
      ],
      "id": "8302a372-c5c6-4861-befb-cc0c40420baa"
    },
    {
      "cell_type": "markdown",
      "metadata": {
        "id": "b54f7f4c-e66a-464f-9d2c-e4d0828b035a"
      },
      "source": [
        "`-` 위의 코드에서 axis=1 이 뭐지? axis=0,2 등을 치면 결과가 어떻게 될까?"
      ],
      "id": "b54f7f4c-e66a-464f-9d2c-e4d0828b035a"
    },
    {
      "cell_type": "code",
      "execution_count": null,
      "metadata": {
        "id": "bc5e516a-dcae-4a27-af2a-9f6a5c25b6fd"
      },
      "outputs": [],
      "source": [
        "np.concatenate([a,b],axis=0)"
      ],
      "id": "bc5e516a-dcae-4a27-af2a-9f6a5c25b6fd"
    },
    {
      "cell_type": "markdown",
      "metadata": {
        "id": "ca6eb9bf-0ba2-4482-a76f-2602e5a7f942"
      },
      "source": [
        "-   이건 그냥 np.concatenate(\\[a,b\\])와 같다.\n",
        "-   np.concatenate(\\[a,b\\])는 np.concatenate(\\[a,b\\],axis=0)의\n",
        "    생략버전이군?"
      ],
      "id": "ca6eb9bf-0ba2-4482-a76f-2602e5a7f942"
    },
    {
      "cell_type": "code",
      "execution_count": null,
      "metadata": {
        "id": "37d10b18-f9b8-4fcc-a7d6-99df849fb1c1"
      },
      "outputs": [],
      "source": [
        "np.concatenate([a,b],axis=2)"
      ],
      "id": "37d10b18-f9b8-4fcc-a7d6-99df849fb1c1"
    },
    {
      "cell_type": "markdown",
      "metadata": {
        "id": "6b23213c-bab4-42c5-b9b8-c5e61b821ea4"
      },
      "source": [
        "-   이런건 없다.\n",
        "\n",
        "`-` axis의 의미가 뭔지 궁금함. 좀 더 예제를 살펴보자."
      ],
      "id": "6b23213c-bab4-42c5-b9b8-c5e61b821ea4"
    },
    {
      "cell_type": "code",
      "execution_count": 12,
      "metadata": {
        "id": "edaca1f5-1204-4d46-afd2-989390fb8191",
        "outputId": "4da4c072-a5f0-483f-cf2c-10bd079eb844",
        "colab": {
          "base_uri": "https://localhost:8080/"
        }
      },
      "outputs": [
        {
          "output_type": "execute_result",
          "data": {
            "text/plain": [
              "array([[[ 0,  1,  2,  3],\n",
              "        [ 4,  5,  6,  7],\n",
              "        [ 8,  9, 10, 11]],\n",
              "\n",
              "       [[12, 13, 14, 15],\n",
              "        [16, 17, 18, 19],\n",
              "        [20, 21, 22, 23]]])"
            ]
          },
          "metadata": {},
          "execution_count": 12
        }
      ],
      "source": [
        "a=np.array(range(2*3*4)).reshape(2,3,4)\n",
        "a"
      ],
      "id": "edaca1f5-1204-4d46-afd2-989390fb8191"
    },
    {
      "cell_type": "code",
      "execution_count": 13,
      "metadata": {
        "id": "4698e4c5-7767-4a18-b873-cc1f343c0b63",
        "outputId": "d22997ae-14ed-477b-90f7-b6985ae6aa77",
        "colab": {
          "base_uri": "https://localhost:8080/"
        }
      },
      "outputs": [
        {
          "output_type": "execute_result",
          "data": {
            "text/plain": [
              "array([[[  0,  -1,  -2,  -3],\n",
              "        [ -4,  -5,  -6,  -7],\n",
              "        [ -8,  -9, -10, -11]],\n",
              "\n",
              "       [[-12, -13, -14, -15],\n",
              "        [-16, -17, -18, -19],\n",
              "        [-20, -21, -22, -23]]])"
            ]
          },
          "metadata": {},
          "execution_count": 13
        }
      ],
      "source": [
        "b=-a\n",
        "b"
      ],
      "id": "4698e4c5-7767-4a18-b873-cc1f343c0b63"
    },
    {
      "cell_type": "code",
      "execution_count": 14,
      "metadata": {
        "id": "1d95bf56-f92c-4667-9715-7d757434faa6",
        "outputId": "9d3e9947-f3f4-4899-a5ff-b80ad6ffdf7b",
        "colab": {
          "base_uri": "https://localhost:8080/"
        }
      },
      "outputs": [
        {
          "output_type": "execute_result",
          "data": {
            "text/plain": [
              "array([[[  0,   1,   2,   3],\n",
              "        [  4,   5,   6,   7],\n",
              "        [  8,   9,  10,  11]],\n",
              "\n",
              "       [[ 12,  13,  14,  15],\n",
              "        [ 16,  17,  18,  19],\n",
              "        [ 20,  21,  22,  23]],\n",
              "\n",
              "       [[  0,  -1,  -2,  -3],\n",
              "        [ -4,  -5,  -6,  -7],\n",
              "        [ -8,  -9, -10, -11]],\n",
              "\n",
              "       [[-12, -13, -14, -15],\n",
              "        [-16, -17, -18, -19],\n",
              "        [-20, -21, -22, -23]]])"
            ]
          },
          "metadata": {},
          "execution_count": 14
        }
      ],
      "source": [
        "np.concatenate([a,b],axis=0)"
      ],
      "id": "1d95bf56-f92c-4667-9715-7d757434faa6"
    },
    {
      "cell_type": "code",
      "execution_count": 15,
      "metadata": {
        "id": "623d87d6-3c0c-44b4-b5f3-ce7567cd396a",
        "outputId": "ca9c77b4-7566-41c2-f184-9cf01a5b856f",
        "colab": {
          "base_uri": "https://localhost:8080/"
        }
      },
      "outputs": [
        {
          "output_type": "execute_result",
          "data": {
            "text/plain": [
              "array([[[  0,   1,   2,   3],\n",
              "        [  4,   5,   6,   7],\n",
              "        [  8,   9,  10,  11],\n",
              "        [  0,  -1,  -2,  -3],\n",
              "        [ -4,  -5,  -6,  -7],\n",
              "        [ -8,  -9, -10, -11]],\n",
              "\n",
              "       [[ 12,  13,  14,  15],\n",
              "        [ 16,  17,  18,  19],\n",
              "        [ 20,  21,  22,  23],\n",
              "        [-12, -13, -14, -15],\n",
              "        [-16, -17, -18, -19],\n",
              "        [-20, -21, -22, -23]]])"
            ]
          },
          "metadata": {},
          "execution_count": 15
        }
      ],
      "source": [
        "np.concatenate([a,b],axis=1)"
      ],
      "id": "623d87d6-3c0c-44b4-b5f3-ce7567cd396a"
    },
    {
      "cell_type": "code",
      "execution_count": null,
      "metadata": {
        "id": "7db69480-7d80-4c62-ab4c-908b1e914113"
      },
      "outputs": [],
      "source": [
        "np.concatenate([a,b],axis=2)"
      ],
      "id": "7db69480-7d80-4c62-ab4c-908b1e914113"
    },
    {
      "cell_type": "markdown",
      "metadata": {
        "id": "9f5a5bca-6c5c-4abd-a977-060409479988"
      },
      "source": [
        "-   이번에는 axis=2까지 된다?"
      ],
      "id": "9f5a5bca-6c5c-4abd-a977-060409479988"
    },
    {
      "cell_type": "code",
      "execution_count": 16,
      "metadata": {
        "id": "8335898a-ccd3-48ea-b1ac-a9ed1436207f",
        "outputId": "54bfa5b6-6658-4c5a-fe86-1f847796b2a1",
        "colab": {
          "base_uri": "https://localhost:8080/",
          "height": 213
        }
      },
      "outputs": [
        {
          "output_type": "error",
          "ename": "AxisError",
          "evalue": "ignored",
          "traceback": [
            "\u001b[0;31m---------------------------------------------------------------------------\u001b[0m",
            "\u001b[0;31mAxisError\u001b[0m                                 Traceback (most recent call last)",
            "\u001b[0;32m<ipython-input-16-3170f70b5b97>\u001b[0m in \u001b[0;36m<cell line: 1>\u001b[0;34m()\u001b[0m\n\u001b[0;32m----> 1\u001b[0;31m \u001b[0mnp\u001b[0m\u001b[0;34m.\u001b[0m\u001b[0mconcatenate\u001b[0m\u001b[0;34m(\u001b[0m\u001b[0;34m[\u001b[0m\u001b[0ma\u001b[0m\u001b[0;34m,\u001b[0m\u001b[0mb\u001b[0m\u001b[0;34m]\u001b[0m\u001b[0;34m,\u001b[0m\u001b[0maxis\u001b[0m\u001b[0;34m=\u001b[0m\u001b[0;36m3\u001b[0m\u001b[0;34m)\u001b[0m\u001b[0;34m\u001b[0m\u001b[0;34m\u001b[0m\u001b[0m\n\u001b[0m",
            "\u001b[0;32m/usr/local/lib/python3.10/dist-packages/numpy/core/overrides.py\u001b[0m in \u001b[0;36mconcatenate\u001b[0;34m(*args, **kwargs)\u001b[0m\n",
            "\u001b[0;31mAxisError\u001b[0m: axis 3 is out of bounds for array of dimension 3"
          ]
        }
      ],
      "source": [
        "np.concatenate([a,b],axis=3)"
      ],
      "id": "8335898a-ccd3-48ea-b1ac-a9ed1436207f"
    },
    {
      "cell_type": "markdown",
      "metadata": {
        "id": "74260b58-c4d8-4421-8362-396d6f4b974a"
      },
      "source": [
        "-   axis=3까지는 안된다?\n",
        "\n",
        "`-` 뭔가 나름의 방식으로 합쳐지는데 원리가 뭘까?\n",
        "\n",
        "(분석1) np.concatenate(\\[a,b\\],axis=0)"
      ],
      "id": "74260b58-c4d8-4421-8362-396d6f4b974a"
    },
    {
      "cell_type": "code",
      "execution_count": null,
      "metadata": {
        "id": "5c143f84-ec3b-4baa-a586-7d821127ea41"
      },
      "outputs": [],
      "source": [
        "a=np.array(range(2*3*4)).reshape(2,3,4)\n",
        "b=-a"
      ],
      "id": "5c143f84-ec3b-4baa-a586-7d821127ea41"
    },
    {
      "cell_type": "code",
      "execution_count": null,
      "metadata": {
        "id": "7bea044d-9f8c-4450-a654-aa230e78c45b"
      },
      "outputs": [],
      "source": [
        "a.shape, b.shape, np.concatenate([a,b],axis=0).shape"
      ],
      "id": "7bea044d-9f8c-4450-a654-aa230e78c45b"
    },
    {
      "cell_type": "markdown",
      "metadata": {
        "id": "f70e9c50-5d06-401a-b697-0f44da9ce459"
      },
      "source": [
        "-   첫번째차원이 바뀌었다 =\\> 첫번째 축이 바뀌었다 =\\> axis=0 (파이썬은\n",
        "    0부터 시작하니까!)\n",
        "\n",
        "(분석2) np.concatenate(\\[a,b\\],axis=1)"
      ],
      "id": "f70e9c50-5d06-401a-b697-0f44da9ce459"
    },
    {
      "cell_type": "code",
      "execution_count": 17,
      "metadata": {
        "id": "ebdb2a12-7119-4386-bd8f-4009be840c9e"
      },
      "outputs": [],
      "source": [
        "a=np.array(range(2*3*4)).reshape(2,3,4)\n",
        "b=-a"
      ],
      "id": "ebdb2a12-7119-4386-bd8f-4009be840c9e"
    },
    {
      "cell_type": "code",
      "execution_count": 18,
      "metadata": {
        "id": "58d41012-d05e-4812-8206-7bde5d01f764",
        "outputId": "bc82e7d2-788b-4ed7-8703-cd7c28e33606",
        "colab": {
          "base_uri": "https://localhost:8080/"
        }
      },
      "outputs": [
        {
          "output_type": "execute_result",
          "data": {
            "text/plain": [
              "((2, 3, 4), (2, 3, 4), (2, 6, 4))"
            ]
          },
          "metadata": {},
          "execution_count": 18
        }
      ],
      "source": [
        "a.shape, b.shape, np.concatenate([a,b],axis=1).shape"
      ],
      "id": "58d41012-d05e-4812-8206-7bde5d01f764"
    },
    {
      "cell_type": "markdown",
      "metadata": {
        "id": "81e2f62e-21e1-401d-ba71-6f972e06615e"
      },
      "source": [
        "-   두번째차원이 바뀌었다 =\\> 두번째 축이 바뀌었다 =\\> axis=1\n",
        "\n",
        "(분석3) np.concatenate(\\[a,b\\],axis=2)"
      ],
      "id": "81e2f62e-21e1-401d-ba71-6f972e06615e"
    },
    {
      "cell_type": "code",
      "execution_count": 19,
      "metadata": {
        "id": "225caccb-6140-4943-9c2c-a505b67b0b8b"
      },
      "outputs": [],
      "source": [
        "a=np.array(range(2*3*4)).reshape(2,3,4)\n",
        "b=-a"
      ],
      "id": "225caccb-6140-4943-9c2c-a505b67b0b8b"
    },
    {
      "cell_type": "code",
      "execution_count": null,
      "metadata": {
        "id": "e4d12427-11e2-48b7-a2ba-4b00b274ebcf"
      },
      "outputs": [],
      "source": [
        "a.shape, b.shape, np.concatenate([a,b],axis=2).shape"
      ],
      "id": "e4d12427-11e2-48b7-a2ba-4b00b274ebcf"
    },
    {
      "cell_type": "markdown",
      "metadata": {
        "id": "9af34430-a9cf-466d-a2ba-cfcaf9c6a3c5"
      },
      "source": [
        "-   세번째차원이 바뀌었다 =\\> 세번째 축이 바뀌었다 =\\> axis=2\n",
        "\n",
        "(분석4) np.concatenate(\\[a,b\\],axis=3)"
      ],
      "id": "9af34430-a9cf-466d-a2ba-cfcaf9c6a3c5"
    },
    {
      "cell_type": "code",
      "execution_count": null,
      "metadata": {
        "id": "35357cff-31aa-4a22-8e76-32dbf6246788"
      },
      "outputs": [],
      "source": [
        "a=np.array(range(2*3*4)).reshape(2,3,4)\n",
        "b=-a"
      ],
      "id": "35357cff-31aa-4a22-8e76-32dbf6246788"
    },
    {
      "cell_type": "code",
      "execution_count": null,
      "metadata": {
        "id": "b5cecfdb-24ec-4952-928d-7bb4016c747f"
      },
      "outputs": [],
      "source": [
        "a.shape, b.shape, np.concatenate([a,b],axis=3).shape"
      ],
      "id": "b5cecfdb-24ec-4952-928d-7bb4016c747f"
    },
    {
      "cell_type": "markdown",
      "metadata": {
        "id": "05282fe5-074b-44de-b6af-c6530bc6978c"
      },
      "source": [
        "-   네번째차원이 없다 =\\> 네번째 축이 없다 =\\> axis=3으로 하면 에러가\n",
        "    난다.\n",
        "\n",
        "(보너스1)"
      ],
      "id": "05282fe5-074b-44de-b6af-c6530bc6978c"
    },
    {
      "cell_type": "code",
      "execution_count": null,
      "metadata": {
        "id": "e1dede62-9671-4980-8d7b-14419d5743b4"
      },
      "outputs": [],
      "source": [
        "a=np.array(range(2*3*4)).reshape(2,3,4)\n",
        "b=-a"
      ],
      "id": "e1dede62-9671-4980-8d7b-14419d5743b4"
    },
    {
      "cell_type": "code",
      "execution_count": null,
      "metadata": {
        "id": "3bcde92f-4b88-4786-8c71-026dbd7d1fa9"
      },
      "outputs": [],
      "source": [
        "np.concatenate([a,b],axis=-1)"
      ],
      "id": "3bcde92f-4b88-4786-8c71-026dbd7d1fa9"
    },
    {
      "cell_type": "code",
      "execution_count": null,
      "metadata": {
        "id": "1bcd4e0f-46e8-47e4-a614-cc5a3eef5890"
      },
      "outputs": [],
      "source": [
        "a.shape, b.shape, np.concatenate([a,b],axis=-1).shape"
      ],
      "id": "1bcd4e0f-46e8-47e4-a614-cc5a3eef5890"
    },
    {
      "cell_type": "markdown",
      "metadata": {
        "id": "853fde22-5367-4774-b367-6b872a0f756f"
      },
      "source": [
        "-   마지막 차원이 바뀌었다 =\\> 마지막 축이 바뀌었다 =\\> axis = -1\n",
        "\n",
        "(보너스2)"
      ],
      "id": "853fde22-5367-4774-b367-6b872a0f756f"
    },
    {
      "cell_type": "code",
      "execution_count": null,
      "metadata": {
        "id": "bf8315fd-a7d4-4deb-b516-b50995c46a3b"
      },
      "outputs": [],
      "source": [
        "a=np.array(range(2*3*4)).reshape(2,3,4)\n",
        "b=-a"
      ],
      "id": "bf8315fd-a7d4-4deb-b516-b50995c46a3b"
    },
    {
      "cell_type": "code",
      "execution_count": null,
      "metadata": {
        "id": "7cf8d7e1-33ae-4756-be14-3ec77dd88cf2"
      },
      "outputs": [],
      "source": [
        "np.concatenate([a,b],axis=-2)"
      ],
      "id": "7cf8d7e1-33ae-4756-be14-3ec77dd88cf2"
    },
    {
      "cell_type": "code",
      "execution_count": null,
      "metadata": {
        "id": "9c696517-a26f-4054-8e3c-b6b7991014e5"
      },
      "outputs": [],
      "source": [
        "a.shape, b.shape, np.concatenate([a,b],axis=-2).shape"
      ],
      "id": "9c696517-a26f-4054-8e3c-b6b7991014e5"
    },
    {
      "cell_type": "markdown",
      "metadata": {
        "id": "05805233-76e9-4df7-84ff-ae1e629e988a"
      },
      "source": [
        "-   마지막에서 2번째 차원이 바뀌었다 =\\> 마지막에서 2번째 축이 바뀌었다\n",
        "    =\\> axis = -2\n",
        "\n",
        "(보너스3)"
      ],
      "id": "05805233-76e9-4df7-84ff-ae1e629e988a"
    },
    {
      "cell_type": "code",
      "execution_count": null,
      "metadata": {
        "id": "ca02d56c-fd44-4da2-b080-fcb616a556b9"
      },
      "outputs": [],
      "source": [
        "a=np.array(range(2*3*4)).reshape(2,3,4)\n",
        "b=-a"
      ],
      "id": "ca02d56c-fd44-4da2-b080-fcb616a556b9"
    },
    {
      "cell_type": "code",
      "execution_count": null,
      "metadata": {
        "id": "def662c8-4ddc-4ae2-8a6e-c1ce4fd1238a"
      },
      "outputs": [],
      "source": [
        "np.concatenate([a,b],axis=-3)"
      ],
      "id": "def662c8-4ddc-4ae2-8a6e-c1ce4fd1238a"
    },
    {
      "cell_type": "code",
      "execution_count": null,
      "metadata": {
        "id": "88593722-3496-4799-bf8a-2a9cbb2e096c"
      },
      "outputs": [],
      "source": [
        "a.shape, b.shape, np.concatenate([a,b],axis=-3).shape"
      ],
      "id": "88593722-3496-4799-bf8a-2a9cbb2e096c"
    },
    {
      "cell_type": "markdown",
      "metadata": {
        "id": "0d1f2783-7cba-41f5-9492-896e22130043"
      },
      "source": [
        "-   마지막에서 3번째 차원이 바뀌었다 =\\> 마지막에서 3번째 축이 바뀌었다\n",
        "    =\\> axis = -3\n",
        "\n",
        "(보너스3)"
      ],
      "id": "0d1f2783-7cba-41f5-9492-896e22130043"
    },
    {
      "cell_type": "code",
      "execution_count": null,
      "metadata": {
        "id": "f8d9108c-6e3e-418b-a300-3dc59e8aa2a6"
      },
      "outputs": [],
      "source": [
        "a=np.array(range(2*3*4)).reshape(2,3,4)\n",
        "b=-a"
      ],
      "id": "f8d9108c-6e3e-418b-a300-3dc59e8aa2a6"
    },
    {
      "cell_type": "code",
      "execution_count": null,
      "metadata": {
        "id": "251abf15-45da-4514-b01a-f2c0b0e17e48"
      },
      "outputs": [],
      "source": [
        "np.concatenate([a,b],axis=-4)"
      ],
      "id": "251abf15-45da-4514-b01a-f2c0b0e17e48"
    },
    {
      "cell_type": "markdown",
      "metadata": {
        "id": "5599fb2b-f4f0-40da-8bce-a91a59a50e2e"
      },
      "source": [
        "-   마지막에서 4번째 차원은 없다 =\\> 마지막에서 4번째 축이 없다 =\\> axis\n",
        "    = -4는 에러가 난다.\n",
        "\n",
        "`-` 0차원은 축이 없으므로 concatenate를 쓸 수 없다."
      ],
      "id": "5599fb2b-f4f0-40da-8bce-a91a59a50e2e"
    },
    {
      "cell_type": "code",
      "execution_count": null,
      "metadata": {
        "id": "a4f849d2-1898-4028-92a4-d3e7b632d155"
      },
      "outputs": [],
      "source": [
        "a= np.array(1)\n",
        "b= np.array(-1)"
      ],
      "id": "a4f849d2-1898-4028-92a4-d3e7b632d155"
    },
    {
      "cell_type": "code",
      "execution_count": null,
      "metadata": {
        "id": "1a4b96f4-3d0e-4e15-bacc-1a41c93fb4b9"
      },
      "outputs": [],
      "source": [
        "a.shape, b.shape"
      ],
      "id": "1a4b96f4-3d0e-4e15-bacc-1a41c93fb4b9"
    },
    {
      "cell_type": "code",
      "execution_count": null,
      "metadata": {
        "id": "e3b5f961-ca20-4b86-851e-a16fa9aa015e"
      },
      "outputs": [],
      "source": [
        "np.concatenate([a,b])"
      ],
      "id": "e3b5f961-ca20-4b86-851e-a16fa9aa015e"
    },
    {
      "cell_type": "markdown",
      "metadata": {
        "id": "c7dae87d-4d0b-4a0e-bb7f-770164072f8b"
      },
      "source": [
        "`-` 꼭 a,b가 같은 차원일 필요는 없다."
      ],
      "id": "c7dae87d-4d0b-4a0e-bb7f-770164072f8b"
    },
    {
      "cell_type": "code",
      "execution_count": null,
      "metadata": {
        "id": "3ecea3e0-6599-4b32-9412-9d961025b333"
      },
      "outputs": [],
      "source": [
        "a=np.array(range(4)).reshape(2,2)\n",
        "b=np.array(range(2)).reshape(2,1)"
      ],
      "id": "3ecea3e0-6599-4b32-9412-9d961025b333"
    },
    {
      "cell_type": "code",
      "execution_count": null,
      "metadata": {
        "id": "1de31e29-c99d-4e59-91e3-407969ba3b23"
      },
      "outputs": [],
      "source": [
        "np.concatenate([a,b],axis=1)"
      ],
      "id": "1de31e29-c99d-4e59-91e3-407969ba3b23"
    },
    {
      "cell_type": "code",
      "execution_count": null,
      "metadata": {
        "id": "82c96966-caa0-4650-9393-6b73a8b08780"
      },
      "outputs": [],
      "source": [
        "a.shape, b.shape, np.concatenate([a,b],axis=1).shape"
      ],
      "id": "82c96966-caa0-4650-9393-6b73a8b08780"
    },
    {
      "cell_type": "markdown",
      "metadata": {
        "id": "f8163e7f-b68e-4b01-b8a9-9fc6b49b58c5"
      },
      "source": [
        "## np.stack\n",
        "\n",
        "`-` 혹시 아래가 가능할까?\n",
        "\n",
        "-   (3,) 결합 (3,) =\\> (3,2)"
      ],
      "id": "f8163e7f-b68e-4b01-b8a9-9fc6b49b58c5"
    },
    {
      "cell_type": "code",
      "execution_count": null,
      "metadata": {
        "id": "1b55334c-43a5-4f21-8a8f-00c1928cd826"
      },
      "outputs": [],
      "source": [
        "a=np.array([1,2,3])\n",
        "b=-a"
      ],
      "id": "1b55334c-43a5-4f21-8a8f-00c1928cd826"
    },
    {
      "cell_type": "code",
      "execution_count": null,
      "metadata": {
        "id": "2b3e598b-ba83-481e-ac48-d3a78b3f8b66"
      },
      "outputs": [],
      "source": [
        "a,b"
      ],
      "id": "2b3e598b-ba83-481e-ac48-d3a78b3f8b66"
    },
    {
      "cell_type": "code",
      "execution_count": null,
      "metadata": {
        "id": "738b106b-2d64-4f05-9eeb-26a6875d9bd8"
      },
      "outputs": [],
      "source": [
        "np.concatenate([a,b],axis=1)"
      ],
      "id": "738b106b-2d64-4f05-9eeb-26a6875d9bd8"
    },
    {
      "cell_type": "markdown",
      "metadata": {
        "id": "09a6c7fb-f7e0-4919-a6ff-d93526149ebf"
      },
      "source": [
        "-   불가능\n",
        "\n",
        "`-` 아래와 같이 하면 해결가능"
      ],
      "id": "09a6c7fb-f7e0-4919-a6ff-d93526149ebf"
    },
    {
      "cell_type": "code",
      "execution_count": null,
      "metadata": {
        "id": "e803f77b-2970-4955-a87d-d5658f8ec364"
      },
      "outputs": [],
      "source": [
        "a=np.array([1,2,3]).reshape(3,1)\n",
        "b=-a"
      ],
      "id": "e803f77b-2970-4955-a87d-d5658f8ec364"
    },
    {
      "cell_type": "code",
      "execution_count": null,
      "metadata": {
        "id": "afeeb4e3-7660-4d40-ae9b-896f5314b61e"
      },
      "outputs": [],
      "source": [
        "a,b"
      ],
      "id": "afeeb4e3-7660-4d40-ae9b-896f5314b61e"
    },
    {
      "cell_type": "code",
      "execution_count": null,
      "metadata": {
        "id": "e1dcb7ba-fc9c-4feb-8b75-068b3181eb2e"
      },
      "outputs": [],
      "source": [
        "np.concatenate([a,b],axis=1)"
      ],
      "id": "e1dcb7ba-fc9c-4feb-8b75-068b3181eb2e"
    },
    {
      "cell_type": "markdown",
      "metadata": {
        "id": "2565c90e-1e62-416b-9758-380c2b0cce15"
      },
      "source": [
        "-   분석: (3) (3) =\\> (3,1) (3,1) =\\> (3,1) concat (3,1)\n",
        "\n",
        "`-` 위의 과정을 줄여서 아래와 같이 할 수 있다."
      ],
      "id": "2565c90e-1e62-416b-9758-380c2b0cce15"
    },
    {
      "cell_type": "code",
      "execution_count": null,
      "metadata": {
        "id": "989920f1-1829-4507-ad3a-d5410f5d0e72"
      },
      "outputs": [],
      "source": [
        "a=np.array([1,2,3])\n",
        "b=-a"
      ],
      "id": "989920f1-1829-4507-ad3a-d5410f5d0e72"
    },
    {
      "cell_type": "code",
      "execution_count": null,
      "metadata": {
        "id": "7cc35aeb-2ee4-4b5b-9328-e800f0d17fb9"
      },
      "outputs": [],
      "source": [
        "np.stack([a,b],axis=1)"
      ],
      "id": "7cc35aeb-2ee4-4b5b-9328-e800f0d17fb9"
    },
    {
      "cell_type": "markdown",
      "metadata": {
        "id": "7b64a90d-31d4-4c7d-b24b-44a1393066fc"
      },
      "source": [
        "`-` 아래도 가능"
      ],
      "id": "7b64a90d-31d4-4c7d-b24b-44a1393066fc"
    },
    {
      "cell_type": "code",
      "execution_count": null,
      "metadata": {
        "id": "5d1a73cc-2a51-4094-98bc-c36e842e9d29"
      },
      "outputs": [],
      "source": [
        "np.stack([a,b],axis=0)"
      ],
      "id": "5d1a73cc-2a51-4094-98bc-c36e842e9d29"
    },
    {
      "cell_type": "markdown",
      "metadata": {
        "id": "5ed07eb0-774c-498d-84bb-e6acbe708c61"
      },
      "source": [
        "`-` 분석해보고 외우자\n",
        "\n",
        "(분석1)"
      ],
      "id": "5ed07eb0-774c-498d-84bb-e6acbe708c61"
    },
    {
      "cell_type": "code",
      "execution_count": null,
      "metadata": {
        "id": "34e06fb2-431c-43ba-b2d5-77dfab86b6e7"
      },
      "outputs": [],
      "source": [
        "a=np.array([1,2,3])\n",
        "b=-a"
      ],
      "id": "34e06fb2-431c-43ba-b2d5-77dfab86b6e7"
    },
    {
      "cell_type": "code",
      "execution_count": null,
      "metadata": {
        "id": "80821e3e-5bd9-4e09-8a83-972559116297"
      },
      "outputs": [],
      "source": [
        "a.shape, b.shape, np.stack([a,b],axis=0).shape"
      ],
      "id": "80821e3e-5bd9-4e09-8a83-972559116297"
    },
    {
      "cell_type": "markdown",
      "metadata": {
        "id": "ec6f529d-a403-404f-8fa9-0b2afdd116d2"
      },
      "source": [
        "-   1.  1.  =\\> 첫 위치에 축을 추가 (axis=0) =\\> (1,3) (1,3) =\\> (2,3)\n",
        "\n",
        "(분석2)"
      ],
      "id": "ec6f529d-a403-404f-8fa9-0b2afdd116d2"
    },
    {
      "cell_type": "code",
      "execution_count": null,
      "metadata": {
        "id": "7723dfa1-10dc-4df7-9eab-b25960cd0509"
      },
      "outputs": [],
      "source": [
        "a=np.array([1,2,3])\n",
        "b=-a"
      ],
      "id": "7723dfa1-10dc-4df7-9eab-b25960cd0509"
    },
    {
      "cell_type": "code",
      "execution_count": null,
      "metadata": {
        "id": "96ade04f-a96d-4a91-bd3d-5937703d8315"
      },
      "outputs": [],
      "source": [
        "a.shape, b.shape, np.stack([a,b],axis=1).shape"
      ],
      "id": "96ade04f-a96d-4a91-bd3d-5937703d8315"
    },
    {
      "cell_type": "markdown",
      "metadata": {
        "id": "6663b411-f3a1-4b44-820d-2da4fe741af6"
      },
      "source": [
        "-   1.  1.  =\\> 두 위치에 축을 추가 (axis=1) =\\> (3,1) (3,1) =\\> (3,2)\n",
        "\n",
        "`-` 고차원예제"
      ],
      "id": "6663b411-f3a1-4b44-820d-2da4fe741af6"
    },
    {
      "cell_type": "code",
      "execution_count": null,
      "metadata": {
        "id": "c7c6731b-4b9a-4889-9867-1be7cc9e5af0"
      },
      "outputs": [],
      "source": [
        "a=np.arange(3*4*5).reshape(3,4,5)\n",
        "b=-a"
      ],
      "id": "c7c6731b-4b9a-4889-9867-1be7cc9e5af0"
    },
    {
      "cell_type": "code",
      "execution_count": null,
      "metadata": {
        "id": "159d59df-120f-47da-9fc1-7022bed0b91e"
      },
      "outputs": [],
      "source": [
        "a.shape, b.shape"
      ],
      "id": "159d59df-120f-47da-9fc1-7022bed0b91e"
    },
    {
      "cell_type": "code",
      "execution_count": null,
      "metadata": {
        "id": "f0c1e5af-56eb-4730-a32a-fa0ecfd18e0e"
      },
      "outputs": [],
      "source": [
        "np.stack([a,b],axis=0).shape # (3,4,5) => (1,3,4,5) // 첫 위치에 축이 추가되고 스택"
      ],
      "id": "f0c1e5af-56eb-4730-a32a-fa0ecfd18e0e"
    },
    {
      "cell_type": "code",
      "execution_count": null,
      "metadata": {
        "id": "33579e71-71ae-4a80-872a-4740767142b9"
      },
      "outputs": [],
      "source": [
        "np.stack([a,b],axis=1).shape # (3,4,5) => (3,1,4,5) // 두번째 위치에 축이 추가되고 스택"
      ],
      "id": "33579e71-71ae-4a80-872a-4740767142b9"
    },
    {
      "cell_type": "code",
      "execution_count": null,
      "metadata": {
        "id": "837cb344-9432-4585-a343-c435c868bd8c"
      },
      "outputs": [],
      "source": [
        "np.stack([a,b],axis=2).shape # (3,4,5) => (3,4,1,5) // 세번째 위치에 축이 추가되고 스택"
      ],
      "id": "837cb344-9432-4585-a343-c435c868bd8c"
    },
    {
      "cell_type": "code",
      "execution_count": null,
      "metadata": {
        "id": "dd3c5d3a-28c5-4b9f-ad75-6753d9dfce9e"
      },
      "outputs": [],
      "source": [
        "np.stack([a,b],axis=3).shape # (3,4,5) => (3,4,5,1) // 네번째 위치에 축이 추가되고 스택"
      ],
      "id": "dd3c5d3a-28c5-4b9f-ad75-6753d9dfce9e"
    },
    {
      "cell_type": "code",
      "execution_count": null,
      "metadata": {
        "id": "338b3cc3-3be8-4895-be29-cc83194f0666"
      },
      "outputs": [],
      "source": [
        "np.stack([a,b],axis=-1).shape # axis=-1 <=> axis=3"
      ],
      "id": "338b3cc3-3be8-4895-be29-cc83194f0666"
    },
    {
      "cell_type": "code",
      "execution_count": null,
      "metadata": {
        "id": "a2451178-1d8f-4cc3-b449-f71909163bca"
      },
      "outputs": [],
      "source": [
        "np.stack([a,b],axis=-2).shape # axis=-2 <=> axis=2"
      ],
      "id": "a2451178-1d8f-4cc3-b449-f71909163bca"
    },
    {
      "cell_type": "markdown",
      "metadata": {
        "id": "f0555206-e210-452b-878f-8ce5a96a7da9"
      },
      "source": [
        "***np.concatenate*** 는 축의 총 갯수를 유지하면서 결합, ***np.stack***은\n",
        "축의 갯수를 하나 증가시키면서 결합\n",
        "\n",
        "## sum\n",
        "\n",
        "`-` 1차원"
      ],
      "id": "f0555206-e210-452b-878f-8ce5a96a7da9"
    },
    {
      "cell_type": "code",
      "execution_count": null,
      "metadata": {
        "id": "83099798-4678-4fa7-882b-15fd9bf548fc"
      },
      "outputs": [],
      "source": [
        "a = np.array([1,2,3])\n",
        "a"
      ],
      "id": "83099798-4678-4fa7-882b-15fd9bf548fc"
    },
    {
      "cell_type": "code",
      "execution_count": null,
      "metadata": {
        "id": "013cc74d-bff8-468c-814c-038db4c4e9a5"
      },
      "outputs": [],
      "source": [
        "a.sum()"
      ],
      "id": "013cc74d-bff8-468c-814c-038db4c4e9a5"
    },
    {
      "cell_type": "code",
      "execution_count": null,
      "metadata": {
        "id": "7e9c6443-4789-45f7-a3c0-e8e2a684a0b5"
      },
      "outputs": [],
      "source": [
        "a.sum(axis=0)"
      ],
      "id": "7e9c6443-4789-45f7-a3c0-e8e2a684a0b5"
    },
    {
      "cell_type": "markdown",
      "metadata": {
        "id": "0d70c9f7-3034-44ee-85ac-8f4a1bf3633f"
      },
      "source": [
        "`-` 2차원"
      ],
      "id": "0d70c9f7-3034-44ee-85ac-8f4a1bf3633f"
    },
    {
      "cell_type": "code",
      "execution_count": null,
      "metadata": {
        "id": "bc77d601-5384-41fd-ae3f-f7977eff0b8a"
      },
      "outputs": [],
      "source": [
        "a=np.array(range(6)).reshape(2,3)\n",
        "a"
      ],
      "id": "bc77d601-5384-41fd-ae3f-f7977eff0b8a"
    },
    {
      "cell_type": "code",
      "execution_count": null,
      "metadata": {
        "id": "ff773f35-a3c9-4a2b-b634-c10677d766aa"
      },
      "outputs": [],
      "source": [
        "a.sum() # 전체합"
      ],
      "id": "ff773f35-a3c9-4a2b-b634-c10677d766aa"
    },
    {
      "cell_type": "code",
      "execution_count": null,
      "metadata": {
        "id": "882a94a3-b201-4737-96d6-165fc5b40ef6"
      },
      "outputs": [],
      "source": [
        "a.sum(axis=0)"
      ],
      "id": "882a94a3-b201-4737-96d6-165fc5b40ef6"
    },
    {
      "cell_type": "code",
      "execution_count": null,
      "metadata": {
        "id": "4d12bc83-d5b4-4863-8564-1ea48416ca79"
      },
      "outputs": [],
      "source": [
        "a.sum(axis=1)"
      ],
      "id": "4d12bc83-d5b4-4863-8564-1ea48416ca79"
    },
    {
      "cell_type": "markdown",
      "metadata": {
        "id": "f83ea124-10c7-409e-812f-89dea9af35b9"
      },
      "source": [
        "`-` 2차원 결과 분석"
      ],
      "id": "f83ea124-10c7-409e-812f-89dea9af35b9"
    },
    {
      "cell_type": "code",
      "execution_count": null,
      "metadata": {
        "id": "00d0c4e8-1852-48ac-a1aa-995e5a6f0a60"
      },
      "outputs": [],
      "source": [
        "a.shape, a.sum(axis=0).shape"
      ],
      "id": "00d0c4e8-1852-48ac-a1aa-995e5a6f0a60"
    },
    {
      "cell_type": "markdown",
      "metadata": {
        "id": "3fb54ac1-d255-4943-9468-54f578200337"
      },
      "source": [
        "-   첫번째 축이 삭제됨 =\\> axis=0"
      ],
      "id": "3fb54ac1-d255-4943-9468-54f578200337"
    },
    {
      "cell_type": "code",
      "execution_count": null,
      "metadata": {
        "id": "d88b697e-610f-40a0-88e0-ee6dc78a2af6"
      },
      "outputs": [],
      "source": [
        "a.shape, a.sum(axis=1).shape"
      ],
      "id": "d88b697e-610f-40a0-88e0-ee6dc78a2af6"
    },
    {
      "cell_type": "markdown",
      "metadata": {
        "id": "b974c8e3-e5cb-41f1-8cff-0496ffc0b2e2"
      },
      "source": [
        "-   두번째 축이 삭제됨 =\\> axis=1\n",
        "\n",
        "`-` 연습"
      ],
      "id": "b974c8e3-e5cb-41f1-8cff-0496ffc0b2e2"
    },
    {
      "cell_type": "code",
      "execution_count": null,
      "metadata": {
        "id": "9557ef8a-a606-41f1-97b7-93f7e1c07ec2"
      },
      "outputs": [],
      "source": [
        "a=np.array(range(10)).reshape(5,2)\n",
        "a"
      ],
      "id": "9557ef8a-a606-41f1-97b7-93f7e1c07ec2"
    },
    {
      "cell_type": "markdown",
      "metadata": {
        "id": "c78b95be-6416-4a88-befc-c3e667024efd"
      },
      "source": [
        "(문제1) 1열의 합, 2열의 합을 계산하고 싶다면?\n",
        "\n",
        "(풀이) 차원이 (5,2) =\\> (2,) 로 나와야 한다. (그럼 첫번째 축이\n",
        "삭제되어야 하네?)"
      ],
      "id": "c78b95be-6416-4a88-befc-c3e667024efd"
    },
    {
      "cell_type": "code",
      "execution_count": null,
      "metadata": {
        "id": "c1104e8d-665d-4765-b1d3-9a882e4aaa34"
      },
      "outputs": [],
      "source": [
        "a.sum(axis=0)"
      ],
      "id": "c1104e8d-665d-4765-b1d3-9a882e4aaa34"
    },
    {
      "cell_type": "markdown",
      "metadata": {
        "id": "cc69290d-9ca0-4d2b-a69b-67665f0af9c4"
      },
      "source": [
        "(문제2) 1행의 합, 2행의 합, … , 5행의 합을 계산하고 싶다면?\n",
        "\n",
        "(풀이) 차원이 (5,2) =\\> (5,)로 나와야 한다. (그럼 두번째 축이 삭제되어야\n",
        "하네?)"
      ],
      "id": "cc69290d-9ca0-4d2b-a69b-67665f0af9c4"
    },
    {
      "cell_type": "code",
      "execution_count": null,
      "metadata": {
        "id": "ad5aa245-5892-49e0-8fc7-a97dd2b6fed0"
      },
      "outputs": [],
      "source": [
        "a.sum(axis=1)"
      ],
      "id": "ad5aa245-5892-49e0-8fc7-a97dd2b6fed0"
    },
    {
      "cell_type": "markdown",
      "metadata": {
        "id": "9702ef3c-8115-4293-9e5b-cfa44ff48143"
      },
      "source": [
        "(문제3) a의 모든원소의 합을 계산하고 싶다면?\n",
        "\n",
        "(풀이) 차원이 (5,2) =\\> () 로 나와야 한다. (첫번째축, 두번째축이 모두\n",
        "삭제되어야 하네?)"
      ],
      "id": "9702ef3c-8115-4293-9e5b-cfa44ff48143"
    },
    {
      "cell_type": "code",
      "execution_count": null,
      "metadata": {
        "id": "fa77efad-75f3-45dc-88fb-8649abce8520"
      },
      "outputs": [],
      "source": [
        "a.sum(axis=(0,1))"
      ],
      "id": "fa77efad-75f3-45dc-88fb-8649abce8520"
    },
    {
      "cell_type": "code",
      "execution_count": null,
      "metadata": {
        "id": "be5f8f2c-09b6-45ec-ae2f-c15bc3549b96"
      },
      "outputs": [],
      "source": [
        "a.sum() # 즉 a.sum(axis=(0,1))이 디폴트값임"
      ],
      "id": "be5f8f2c-09b6-45ec-ae2f-c15bc3549b96"
    },
    {
      "cell_type": "markdown",
      "metadata": {
        "id": "20c3cee8-4453-4a75-bdbd-31f3da221d1d"
      },
      "source": [
        "## mean, max, min\n",
        "\n",
        "`-` 모두 sum이랑 유사한 논리"
      ],
      "id": "20c3cee8-4453-4a75-bdbd-31f3da221d1d"
    },
    {
      "cell_type": "code",
      "execution_count": null,
      "metadata": {
        "id": "e4ae2cb5-85ff-4bf4-9c51-61b0ace3a8b1"
      },
      "outputs": [],
      "source": [
        "a=np.array(range(10)).reshape(5,2)\n",
        "a"
      ],
      "id": "e4ae2cb5-85ff-4bf4-9c51-61b0ace3a8b1"
    },
    {
      "cell_type": "code",
      "execution_count": null,
      "metadata": {
        "id": "9bfce9a6-83b8-48c9-b941-8fe20dc04f93"
      },
      "outputs": [],
      "source": [
        "a.mean(axis=0), a.std(axis=0), a.max(axis=0), a.min(axis=0), a.prod(axis=0)"
      ],
      "id": "9bfce9a6-83b8-48c9-b941-8fe20dc04f93"
    },
    {
      "cell_type": "code",
      "execution_count": null,
      "metadata": {
        "id": "87ca0c91-e3bb-4dc2-a958-8a5c8a4ebda3"
      },
      "outputs": [],
      "source": [
        "a.mean(axis=1), a.std(axis=1), a.max(axis=1), a.min(axis=1), a.prod(axis=1)"
      ],
      "id": "87ca0c91-e3bb-4dc2-a958-8a5c8a4ebda3"
    },
    {
      "cell_type": "markdown",
      "metadata": {
        "id": "7ec7a849-886c-4d92-9d5a-b2fecd93ce32"
      },
      "source": [
        "## argmax, argmin\n",
        "\n",
        "`-` 1차원"
      ],
      "id": "7ec7a849-886c-4d92-9d5a-b2fecd93ce32"
    },
    {
      "cell_type": "code",
      "execution_count": null,
      "metadata": {
        "id": "0e0c4638-84f5-4ddc-8f04-4e3214112d89"
      },
      "outputs": [],
      "source": [
        "a= np.array([1,-2,3,10,4])\n",
        "a"
      ],
      "id": "0e0c4638-84f5-4ddc-8f04-4e3214112d89"
    },
    {
      "cell_type": "code",
      "execution_count": null,
      "metadata": {
        "id": "780c6853-a969-474c-aaaf-5f5e38034e2b"
      },
      "outputs": [],
      "source": [
        "a.argmax() # 가장 큰 값이 위치한 원소의 인덱스를 리턴"
      ],
      "id": "780c6853-a969-474c-aaaf-5f5e38034e2b"
    },
    {
      "cell_type": "code",
      "execution_count": null,
      "metadata": {
        "id": "d69aacc7-e73a-4a1a-a876-505be107f57d"
      },
      "outputs": [],
      "source": [
        "a.argmin() # 가장 작은 값이 위치한 원소의 인덱스를 리턴"
      ],
      "id": "d69aacc7-e73a-4a1a-a876-505be107f57d"
    },
    {
      "cell_type": "markdown",
      "metadata": {
        "id": "e926324a-58db-494b-83b0-446abafa5f7f"
      },
      "source": [
        "`-` 2차원"
      ],
      "id": "e926324a-58db-494b-83b0-446abafa5f7f"
    },
    {
      "cell_type": "code",
      "execution_count": null,
      "metadata": {
        "id": "7de08fc3-7320-4784-9b67-888354b47511"
      },
      "outputs": [],
      "source": [
        "np.random.seed(43052)\n",
        "a=np.random.randn(4*5).reshape(4,5)\n",
        "a"
      ],
      "id": "7de08fc3-7320-4784-9b67-888354b47511"
    },
    {
      "cell_type": "code",
      "execution_count": null,
      "metadata": {
        "id": "1b9f6e67-a3cb-49a3-8533-694a53cc527f"
      },
      "outputs": [],
      "source": [
        "a.argmin(), a.min()"
      ],
      "id": "1b9f6e67-a3cb-49a3-8533-694a53cc527f"
    },
    {
      "cell_type": "code",
      "execution_count": null,
      "metadata": {
        "id": "6dc37e88-88b9-473c-ab18-bf915924c453"
      },
      "outputs": [],
      "source": [
        "a.argmax(), a.max()"
      ],
      "id": "6dc37e88-88b9-473c-ab18-bf915924c453"
    },
    {
      "cell_type": "code",
      "execution_count": null,
      "metadata": {
        "id": "65b50b52-8100-4356-9885-fecd6d533bdf"
      },
      "outputs": [],
      "source": [
        "a.argmin(axis=0), a.argmin(axis=1)"
      ],
      "id": "65b50b52-8100-4356-9885-fecd6d533bdf"
    },
    {
      "cell_type": "code",
      "execution_count": null,
      "metadata": {
        "id": "61fa4732-1d44-493f-b83c-ad960c296432"
      },
      "outputs": [],
      "source": [
        "a.argmax(axis=0), a.argmax(axis=1)"
      ],
      "id": "61fa4732-1d44-493f-b83c-ad960c296432"
    },
    {
      "cell_type": "markdown",
      "metadata": {
        "id": "935334b1-9c94-487e-abac-8de75d8fd5b7"
      },
      "source": [
        "## cumsum, cumprod\n",
        "\n",
        "`-` 1차원"
      ],
      "id": "935334b1-9c94-487e-abac-8de75d8fd5b7"
    },
    {
      "cell_type": "code",
      "execution_count": null,
      "metadata": {
        "id": "b86cea88-5814-4daa-91b7-926b6bc8ba2e"
      },
      "outputs": [],
      "source": [
        "a=np.array([1,2,3,4])\n",
        "a"
      ],
      "id": "b86cea88-5814-4daa-91b7-926b6bc8ba2e"
    },
    {
      "cell_type": "code",
      "execution_count": null,
      "metadata": {
        "id": "c92c7c0d-25a8-48f5-aca4-55ad0166310f"
      },
      "outputs": [],
      "source": [
        "a.cumsum()"
      ],
      "id": "c92c7c0d-25a8-48f5-aca4-55ad0166310f"
    },
    {
      "cell_type": "code",
      "execution_count": null,
      "metadata": {
        "id": "56773406-0d82-456a-ada8-1ee178cb693d"
      },
      "outputs": [],
      "source": [
        "a.cumprod()"
      ],
      "id": "56773406-0d82-456a-ada8-1ee178cb693d"
    },
    {
      "cell_type": "markdown",
      "metadata": {
        "id": "d4c35f47-dbb8-4df0-9a3c-304434d07ad9"
      },
      "source": [
        "`-` 2차원"
      ],
      "id": "d4c35f47-dbb8-4df0-9a3c-304434d07ad9"
    },
    {
      "cell_type": "code",
      "execution_count": null,
      "metadata": {
        "id": "13aafce9-b550-4d41-916e-8a3127715daf"
      },
      "outputs": [],
      "source": [
        "a=np.array(range(3*4)).reshape(3,4)\n",
        "a"
      ],
      "id": "13aafce9-b550-4d41-916e-8a3127715daf"
    },
    {
      "cell_type": "code",
      "execution_count": null,
      "metadata": {
        "id": "682187e7-572a-4886-8e97-195feb86b216"
      },
      "outputs": [],
      "source": [
        "a.cumsum(axis=0), a.cumsum(axis=1)"
      ],
      "id": "682187e7-572a-4886-8e97-195feb86b216"
    },
    {
      "cell_type": "code",
      "execution_count": null,
      "metadata": {
        "id": "21f6cbf2-3666-4614-97cb-37f36c35a9f8"
      },
      "outputs": [],
      "source": [
        "a.cumprod(axis=0), a.cumprod(axis=1)"
      ],
      "id": "21f6cbf2-3666-4614-97cb-37f36c35a9f8"
    },
    {
      "cell_type": "markdown",
      "metadata": {
        "id": "6f3090b5-276f-44dd-8534-958ba785e06b"
      },
      "source": [
        "# Quiz\n",
        "\n",
        "`1` – `6`. a,b가 아래와 같이 주어졌다고 하자."
      ],
      "id": "6f3090b5-276f-44dd-8534-958ba785e06b"
    },
    {
      "cell_type": "code",
      "execution_count": null,
      "metadata": {
        "id": "46b9ca1f"
      },
      "outputs": [],
      "source": [
        "a=np.array([1]*10)\n",
        "b=np.array([2]*10)"
      ],
      "id": "46b9ca1f"
    },
    {
      "cell_type": "markdown",
      "metadata": {
        "id": "25e64cda-7492-4ee0-8335-86f1358738cb"
      },
      "source": [
        "`1`. a,b와 np.concatenate를 이용하여 아래와 같은 배열을 만들어라.\n",
        "\n",
        "    array([1, 1, 1, 1, 1, 1, 1, 1, 1, 1, 2, 2, 2, 2, 2, 2, 2, 2, 2, 2])\n",
        "\n",
        "`2`. a,b와 np.concatenate를 이용하여 아래와 같은 배열을 만들어라."
      ],
      "id": "25e64cda-7492-4ee0-8335-86f1358738cb"
    },
    {
      "cell_type": "code",
      "execution_count": null,
      "metadata": {
        "id": "bc7f8c1a"
      },
      "outputs": [],
      "source": [
        "a=np.array([1]*10)\n",
        "b=np.array([2]*10)"
      ],
      "id": "bc7f8c1a"
    },
    {
      "cell_type": "markdown",
      "metadata": {
        "id": "ac4a9b77-8a0c-4bdd-b9cc-7d2c74552750"
      },
      "source": [
        "    array([[1],\n",
        "           [1],\n",
        "           [1],\n",
        "           [1],\n",
        "           [1],\n",
        "           [1],\n",
        "           [1],\n",
        "           [1],\n",
        "           [1],\n",
        "           [1],\n",
        "           [2],\n",
        "           [2],\n",
        "           [2],\n",
        "           [2],\n",
        "           [2],\n",
        "           [2],\n",
        "           [2],\n",
        "           [2],\n",
        "           [2],\n",
        "           [2]])\n",
        "\n",
        "`3`. a,b와 np.concatenate를 이용하여 아래와 같은 배열을 만들어라.\n",
        "\n",
        "    array([[1, 1, 1, 1, 1, 1, 1, 1, 1, 1],\n",
        "           [2, 2, 2, 2, 2, 2, 2, 2, 2, 2]]\n",
        "\n",
        "`4`. a,b와 np.concatenate를 이용하여 아래와 같은 배열을 만들어라.\n",
        "\n",
        "    array([[1, 2],\n",
        "           [1, 2],\n",
        "           [1, 2],\n",
        "           [1, 2],\n",
        "           [1, 2],\n",
        "           [1, 2],\n",
        "           [1, 2],\n",
        "           [1, 2],\n",
        "           [1, 2],\n",
        "           [1, 2]])\n",
        "\n",
        "`5`. a,b와 np.stack을 이용하여 아래와 같은 배열을 만들어라.\n",
        "\n",
        "    array([[1, 1, 1, 1, 1, 1, 1, 1, 1, 1],\n",
        "           [2, 2, 2, 2, 2, 2, 2, 2, 2, 2]]\n",
        "\n",
        "`6`. a,b와 np.stack을 이용하여 아래와 같은 배열을 만들어라.\n",
        "\n",
        "    array([[1, 2],\n",
        "           [1, 2],\n",
        "           [1, 2],\n",
        "           [1, 2],\n",
        "           [1, 2],\n",
        "           [1, 2],\n",
        "           [1, 2],\n",
        "           [1, 2],\n",
        "           [1, 2],\n",
        "           [1, 2]])\n",
        "\n",
        "**`7`–`8`**\n",
        "\n",
        "아래와 같은 매트릭스를 생성하라."
      ],
      "id": "ac4a9b77-8a0c-4bdd-b9cc-7d2c74552750"
    },
    {
      "cell_type": "code",
      "execution_count": null,
      "metadata": {
        "id": "732d1860"
      },
      "outputs": [],
      "source": [
        "np.random.seed(43052)\n",
        "a=np.random.randn(10000).reshape(100,100)\n",
        "a"
      ],
      "id": "732d1860"
    },
    {
      "cell_type": "markdown",
      "metadata": {
        "id": "9b1933e3-9b7d-43da-a091-2ff6e9faa0a8"
      },
      "source": [
        "`7`. 각 행의 합을 구하라. 즉 1행의 합, 2행의 합, … 100행의 합을\n",
        "계산하라.\n",
        "\n",
        "-   1행의합 = 0.38342049 + 1.0841745 + … + 1.18701443\n",
        "\n",
        "`8`. 각 열의 평균을 구하라. 즉 1열의 평균, 2열의 평균, … , 100열의\n",
        "평균을 계산하라."
      ],
      "id": "9b1933e3-9b7d-43da-a091-2ff6e9faa0a8"
    }
  ],
  "nbformat": 4,
  "nbformat_minor": 5,
  "metadata": {
    "kernelspec": {
      "name": "python3",
      "display_name": "Python 3 (ipykernel)",
      "language": "python"
    },
    "language_info": {
      "name": "python",
      "codemirror_mode": {
        "name": "ipython",
        "version": "3"
      },
      "file_extension": ".py",
      "mimetype": "text/x-python",
      "nbconvert_exporter": "python",
      "pygments_lexer": "ipython3",
      "version": "3.10.12"
    },
    "colab": {
      "provenance": []
    }
  }
}