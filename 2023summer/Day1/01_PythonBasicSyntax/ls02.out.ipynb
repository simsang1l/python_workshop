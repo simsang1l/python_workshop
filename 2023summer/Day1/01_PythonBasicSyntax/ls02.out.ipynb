{
  "cells": [
    {
      "cell_type": "markdown",
      "metadata": {
        "id": "42527767-0fa9-4584-b41c-8e4f03ac09a7"
      },
      "source": [
        "# Lesson 02: 파이썬의 자료형 II (list, tuple)\n",
        "\n",
        "최규빈  \n",
        "2023-06-24\n",
        "\n",
        "<a href=\"https://colab.research.google.com/github/guebin/PP2023SUM/blob/main/posts/Day1/01_PythonBasicSyntax/ls02.ipynb\"><img src=\"https://colab.research.google.com/assets/colab-badge.svg\" style=\"text-align: left\"></a>\n",
        "\n",
        "# list\n",
        "\n",
        "## 선언\n",
        "\n",
        "`-` 리스트의 선언"
      ],
      "id": "42527767-0fa9-4584-b41c-8e4f03ac09a7"
    },
    {
      "cell_type": "code",
      "execution_count": 1,
      "metadata": {
        "vscode": {
          "languageId": "python"
        },
        "id": "9f3b17b8-4f97-47c0-a2d5-7993409423b8",
        "outputId": "cbdb7027-7032-4138-a6f2-baa3a0c43118",
        "colab": {
          "base_uri": "https://localhost:8080/"
        }
      },
      "outputs": [
        {
          "output_type": "execute_result",
          "data": {
            "text/plain": [
              "[11, 22]"
            ]
          },
          "metadata": {},
          "execution_count": 1
        }
      ],
      "source": [
        "a=[11,22]\n",
        "a"
      ],
      "id": "9f3b17b8-4f97-47c0-a2d5-7993409423b8"
    },
    {
      "cell_type": "code",
      "execution_count": 2,
      "metadata": {
        "vscode": {
          "languageId": "python"
        },
        "id": "2ef4c156-aecb-4f0b-a020-7e65113dd0dc",
        "outputId": "ae3c3aec-adef-4d4d-9f5d-45f30063fad3",
        "colab": {
          "base_uri": "https://localhost:8080/"
        }
      },
      "outputs": [
        {
          "output_type": "execute_result",
          "data": {
            "text/plain": [
              "list"
            ]
          },
          "metadata": {},
          "execution_count": 2
        }
      ],
      "source": [
        "type(a)"
      ],
      "id": "2ef4c156-aecb-4f0b-a020-7e65113dd0dc"
    },
    {
      "cell_type": "markdown",
      "metadata": {
        "id": "7d6fb6ba-f279-4303-a0ac-7c772eb782ec"
      },
      "source": [
        "`-` 비어있는 리스트의 선언"
      ],
      "id": "7d6fb6ba-f279-4303-a0ac-7c772eb782ec"
    },
    {
      "cell_type": "code",
      "execution_count": null,
      "metadata": {
        "vscode": {
          "languageId": "python"
        },
        "id": "a38b1c1a-c9f6-46f6-b8ce-fb48569c72fd"
      },
      "outputs": [],
      "source": [
        "a=[11] # 방법1\n",
        "a"
      ],
      "id": "a38b1c1a-c9f6-46f6-b8ce-fb48569c72fd"
    },
    {
      "cell_type": "code",
      "execution_count": null,
      "metadata": {
        "vscode": {
          "languageId": "python"
        },
        "id": "c13f945c-bc35-4de4-abf2-e50dcfa74b2b"
      },
      "outputs": [],
      "source": [
        "len(a)"
      ],
      "id": "c13f945c-bc35-4de4-abf2-e50dcfa74b2b"
    },
    {
      "cell_type": "code",
      "execution_count": null,
      "metadata": {
        "vscode": {
          "languageId": "python"
        },
        "id": "a2384d5a-75ea-45cd-bd52-0cd28f1c4c0b"
      },
      "outputs": [],
      "source": [
        "a=11"
      ],
      "id": "a2384d5a-75ea-45cd-bd52-0cd28f1c4c0b"
    },
    {
      "cell_type": "code",
      "execution_count": null,
      "metadata": {
        "vscode": {
          "languageId": "python"
        },
        "id": "e8f5c680-6947-4537-b2f4-6d518418c130"
      },
      "outputs": [],
      "source": [
        "a=list() # 방법2\n",
        "a"
      ],
      "id": "e8f5c680-6947-4537-b2f4-6d518418c130"
    },
    {
      "cell_type": "markdown",
      "metadata": {
        "id": "1ba15a75-a21a-445d-8f1c-a5d115b143bc"
      },
      "source": [
        "## 연산\n",
        "\n",
        "`-` 더하기연산"
      ],
      "id": "1ba15a75-a21a-445d-8f1c-a5d115b143bc"
    },
    {
      "cell_type": "code",
      "execution_count": 3,
      "metadata": {
        "vscode": {
          "languageId": "python"
        },
        "id": "79d6bd44-21d2-4274-b283-a5df2d39db6b"
      },
      "outputs": [],
      "source": [
        "a=[11,12]\n",
        "b=[12,13]"
      ],
      "id": "79d6bd44-21d2-4274-b283-a5df2d39db6b"
    },
    {
      "cell_type": "code",
      "execution_count": 4,
      "metadata": {
        "vscode": {
          "languageId": "python"
        },
        "id": "80c3f98b-57e3-462b-a93d-62cf260a9e9d",
        "outputId": "69e289d5-953b-44fc-dab0-bbf7e70e7c90",
        "colab": {
          "base_uri": "https://localhost:8080/"
        }
      },
      "outputs": [
        {
          "output_type": "execute_result",
          "data": {
            "text/plain": [
              "[11, 12]"
            ]
          },
          "metadata": {},
          "execution_count": 4
        }
      ],
      "source": [
        "a"
      ],
      "id": "80c3f98b-57e3-462b-a93d-62cf260a9e9d"
    },
    {
      "cell_type": "code",
      "execution_count": 5,
      "metadata": {
        "vscode": {
          "languageId": "python"
        },
        "id": "fd675de2-6ddc-4a4d-bfc3-4455007ae42c",
        "outputId": "52b2fbf3-0488-47fe-da70-497d70cbf7d4",
        "colab": {
          "base_uri": "https://localhost:8080/"
        }
      },
      "outputs": [
        {
          "output_type": "execute_result",
          "data": {
            "text/plain": [
              "[12, 13]"
            ]
          },
          "metadata": {},
          "execution_count": 5
        }
      ],
      "source": [
        "b"
      ],
      "id": "fd675de2-6ddc-4a4d-bfc3-4455007ae42c"
    },
    {
      "cell_type": "code",
      "execution_count": 6,
      "metadata": {
        "vscode": {
          "languageId": "python"
        },
        "id": "5efc9f01-63d4-46ce-a6be-5c31be1891d9",
        "outputId": "eea1c8e3-3c59-4653-fb66-cae4165ae714",
        "colab": {
          "base_uri": "https://localhost:8080/"
        }
      },
      "outputs": [
        {
          "output_type": "execute_result",
          "data": {
            "text/plain": [
              "[11, 12, 12, 13]"
            ]
          },
          "metadata": {},
          "execution_count": 6
        }
      ],
      "source": [
        "a+b"
      ],
      "id": "5efc9f01-63d4-46ce-a6be-5c31be1891d9"
    },
    {
      "cell_type": "markdown",
      "metadata": {
        "id": "ddba59b2-ddbd-4675-a5c7-b8f484521fbc"
      },
      "source": [
        "-   우리의 예상과 다른 결과가 나옴 $\\to$ 파이썬은 R처럼 자체적으로 좋은\n",
        "    계산기능을 내장하고 있지 않음.\n",
        "\n",
        "`-` 브로드캐스팅과 같이 R에서는 당연히 가능했던 기능을 사용할 수 없음."
      ],
      "id": "ddba59b2-ddbd-4675-a5c7-b8f484521fbc"
    },
    {
      "cell_type": "code",
      "execution_count": 7,
      "metadata": {
        "vscode": {
          "languageId": "python"
        },
        "id": "27de908e-8426-4d4a-bead-43702510b0d8",
        "outputId": "721502a8-fe0c-4f39-eca9-a8848ab73c68",
        "colab": {
          "base_uri": "https://localhost:8080/",
          "height": 213
        }
      },
      "outputs": [
        {
          "output_type": "error",
          "ename": "TypeError",
          "evalue": "ignored",
          "traceback": [
            "\u001b[0;31m---------------------------------------------------------------------------\u001b[0m",
            "\u001b[0;31mTypeError\u001b[0m                                 Traceback (most recent call last)",
            "\u001b[0;32m<ipython-input-7-f97f3a6cc695>\u001b[0m in \u001b[0;36m<cell line: 3>\u001b[0;34m()\u001b[0m\n\u001b[1;32m      1\u001b[0m \u001b[0ma\u001b[0m\u001b[0;34m=\u001b[0m\u001b[0;34m[\u001b[0m\u001b[0;36m1\u001b[0m\u001b[0;34m,\u001b[0m\u001b[0;36m2\u001b[0m\u001b[0;34m,\u001b[0m\u001b[0;36m3\u001b[0m\u001b[0;34m]\u001b[0m\u001b[0;34m\u001b[0m\u001b[0;34m\u001b[0m\u001b[0m\n\u001b[1;32m      2\u001b[0m \u001b[0mb\u001b[0m\u001b[0;34m=\u001b[0m\u001b[0;36m1\u001b[0m\u001b[0;34m\u001b[0m\u001b[0;34m\u001b[0m\u001b[0m\n\u001b[0;32m----> 3\u001b[0;31m \u001b[0ma\u001b[0m\u001b[0;34m+\u001b[0m\u001b[0mb\u001b[0m\u001b[0;34m\u001b[0m\u001b[0;34m\u001b[0m\u001b[0m\n\u001b[0m",
            "\u001b[0;31mTypeError\u001b[0m: can only concatenate list (not \"int\") to list"
          ]
        }
      ],
      "source": [
        "a=[1,2,3]\n",
        "b=1\n",
        "a+b"
      ],
      "id": "27de908e-8426-4d4a-bead-43702510b0d8"
    },
    {
      "cell_type": "markdown",
      "metadata": {
        "id": "f741dab3-91e0-4c14-aed3-b6176a249567"
      },
      "source": [
        "`-` 뺄셈은 정의되지 않음"
      ],
      "id": "f741dab3-91e0-4c14-aed3-b6176a249567"
    },
    {
      "cell_type": "code",
      "execution_count": 8,
      "metadata": {
        "vscode": {
          "languageId": "python"
        },
        "id": "722b5559-7e5c-4636-8e99-359efddf6bba",
        "outputId": "176c9348-254f-40c5-e90f-49d35d7f7b43",
        "colab": {
          "base_uri": "https://localhost:8080/",
          "height": 213
        }
      },
      "outputs": [
        {
          "output_type": "error",
          "ename": "TypeError",
          "evalue": "ignored",
          "traceback": [
            "\u001b[0;31m---------------------------------------------------------------------------\u001b[0m",
            "\u001b[0;31mTypeError\u001b[0m                                 Traceback (most recent call last)",
            "\u001b[0;32m<ipython-input-8-cd618bb9880e>\u001b[0m in \u001b[0;36m<cell line: 3>\u001b[0;34m()\u001b[0m\n\u001b[1;32m      1\u001b[0m \u001b[0ma\u001b[0m\u001b[0;34m=\u001b[0m\u001b[0;34m[\u001b[0m\u001b[0;36m1\u001b[0m\u001b[0;34m,\u001b[0m\u001b[0;36m2\u001b[0m\u001b[0;34m]\u001b[0m\u001b[0;34m\u001b[0m\u001b[0;34m\u001b[0m\u001b[0m\n\u001b[1;32m      2\u001b[0m \u001b[0mb\u001b[0m\u001b[0;34m=\u001b[0m\u001b[0;34m[\u001b[0m\u001b[0;36m1\u001b[0m\u001b[0;34m,\u001b[0m\u001b[0;36m2\u001b[0m\u001b[0;34m]\u001b[0m\u001b[0;34m\u001b[0m\u001b[0;34m\u001b[0m\u001b[0m\n\u001b[0;32m----> 3\u001b[0;31m \u001b[0ma\u001b[0m\u001b[0;34m-\u001b[0m\u001b[0mb\u001b[0m\u001b[0;34m\u001b[0m\u001b[0;34m\u001b[0m\u001b[0m\n\u001b[0m",
            "\u001b[0;31mTypeError\u001b[0m: unsupported operand type(s) for -: 'list' and 'list'"
          ]
        }
      ],
      "source": [
        "a=[1,2]\n",
        "b=[1,2]\n",
        "a-b"
      ],
      "id": "722b5559-7e5c-4636-8e99-359efddf6bba"
    },
    {
      "cell_type": "markdown",
      "metadata": {
        "id": "922f76fe-3d81-4c30-8fe4-13c1e823bebf"
      },
      "source": [
        "`-` 곱하기는 정의가능"
      ],
      "id": "922f76fe-3d81-4c30-8fe4-13c1e823bebf"
    },
    {
      "cell_type": "code",
      "execution_count": 9,
      "metadata": {
        "vscode": {
          "languageId": "python"
        },
        "id": "e46da257-9da2-4ecc-ae68-10e14e471ce4"
      },
      "outputs": [],
      "source": [
        "a=[1,2]"
      ],
      "id": "e46da257-9da2-4ecc-ae68-10e14e471ce4"
    },
    {
      "cell_type": "code",
      "execution_count": 10,
      "metadata": {
        "vscode": {
          "languageId": "python"
        },
        "id": "00ef7fe8-0f16-4aff-8d92-1b4c565058f9",
        "outputId": "0898eca7-35d6-41ab-f867-c2f36febcc4a",
        "colab": {
          "base_uri": "https://localhost:8080/"
        }
      },
      "outputs": [
        {
          "output_type": "execute_result",
          "data": {
            "text/plain": [
              "[1, 2, 1, 2]"
            ]
          },
          "metadata": {},
          "execution_count": 10
        }
      ],
      "source": [
        "2*a # a+a"
      ],
      "id": "00ef7fe8-0f16-4aff-8d92-1b4c565058f9"
    },
    {
      "cell_type": "markdown",
      "metadata": {
        "id": "e6133e48-f096-4d51-963f-1104afbcaabd"
      },
      "source": [
        "`-` 나눗셈은 정의되지 않음"
      ],
      "id": "e6133e48-f096-4d51-963f-1104afbcaabd"
    },
    {
      "cell_type": "code",
      "execution_count": 11,
      "metadata": {
        "vscode": {
          "languageId": "python"
        },
        "id": "f583bdb6-776b-42d5-815e-97a462038547",
        "outputId": "b88007dd-c465-44e7-9a80-a8f21ac3acc5",
        "colab": {
          "base_uri": "https://localhost:8080/",
          "height": 194
        }
      },
      "outputs": [
        {
          "output_type": "error",
          "ename": "TypeError",
          "evalue": "ignored",
          "traceback": [
            "\u001b[0;31m---------------------------------------------------------------------------\u001b[0m",
            "\u001b[0;31mTypeError\u001b[0m                                 Traceback (most recent call last)",
            "\u001b[0;32m<ipython-input-11-03c77d421a54>\u001b[0m in \u001b[0;36m<cell line: 2>\u001b[0;34m()\u001b[0m\n\u001b[1;32m      1\u001b[0m \u001b[0ma\u001b[0m\u001b[0;34m=\u001b[0m\u001b[0;34m[\u001b[0m\u001b[0;36m1\u001b[0m\u001b[0;34m,\u001b[0m\u001b[0;36m2\u001b[0m\u001b[0;34m,\u001b[0m\u001b[0;36m1\u001b[0m\u001b[0;34m,\u001b[0m\u001b[0;36m2\u001b[0m\u001b[0;34m]\u001b[0m\u001b[0;34m\u001b[0m\u001b[0;34m\u001b[0m\u001b[0m\n\u001b[0;32m----> 2\u001b[0;31m \u001b[0ma\u001b[0m\u001b[0;34m/\u001b[0m\u001b[0;36m2\u001b[0m\u001b[0;34m\u001b[0m\u001b[0;34m\u001b[0m\u001b[0m\n\u001b[0m",
            "\u001b[0;31mTypeError\u001b[0m: unsupported operand type(s) for /: 'list' and 'int'"
          ]
        }
      ],
      "source": [
        "a=[1,2,1,2]\n",
        "a/2"
      ],
      "id": "f583bdb6-776b-42d5-815e-97a462038547"
    },
    {
      "cell_type": "markdown",
      "metadata": {
        "id": "72cade34-99a0-4219-ab78-053b90a22290"
      },
      "source": [
        "`-` 더하기와 곱하기는 원소의 추가와 반복추가를 의미하지만 그렇다고 해서\n",
        "뺄셈과 나눗셈이 원소의 삭제를 의미하는것은 아님"
      ],
      "id": "72cade34-99a0-4219-ab78-053b90a22290"
    },
    {
      "cell_type": "code",
      "execution_count": 12,
      "metadata": {
        "vscode": {
          "languageId": "python"
        },
        "id": "d640d22f-a528-444c-8825-85e95094ec89",
        "outputId": "7ba3889c-0cba-4996-a27b-b242753c525e",
        "colab": {
          "base_uri": "https://localhost:8080/",
          "height": 194
        }
      },
      "outputs": [
        {
          "output_type": "error",
          "ename": "TypeError",
          "evalue": "ignored",
          "traceback": [
            "\u001b[0;31m---------------------------------------------------------------------------\u001b[0m",
            "\u001b[0;31mTypeError\u001b[0m                                 Traceback (most recent call last)",
            "\u001b[0;32m<ipython-input-12-fa2e7932eaa0>\u001b[0m in \u001b[0;36m<cell line: 2>\u001b[0;34m()\u001b[0m\n\u001b[1;32m      1\u001b[0m \u001b[0ma\u001b[0m\u001b[0;34m=\u001b[0m\u001b[0;34m[\u001b[0m\u001b[0;36m1\u001b[0m\u001b[0;34m,\u001b[0m\u001b[0;36m2\u001b[0m\u001b[0;34m,\u001b[0m\u001b[0;36m3\u001b[0m\u001b[0;34m]\u001b[0m\u001b[0;34m\u001b[0m\u001b[0;34m\u001b[0m\u001b[0m\n\u001b[0;32m----> 2\u001b[0;31m \u001b[0ma\u001b[0m\u001b[0;34m-\u001b[0m\u001b[0;34m[\u001b[0m\u001b[0;36m3\u001b[0m\u001b[0;34m]\u001b[0m \u001b[0;31m# 이런건 없다\u001b[0m\u001b[0;34m\u001b[0m\u001b[0;34m\u001b[0m\u001b[0m\n\u001b[0m",
            "\u001b[0;31mTypeError\u001b[0m: unsupported operand type(s) for -: 'list' and 'list'"
          ]
        }
      ],
      "source": [
        "a=[1,2,3]\n",
        "a-[3] # 이런건 없다"
      ],
      "id": "d640d22f-a528-444c-8825-85e95094ec89"
    },
    {
      "cell_type": "code",
      "execution_count": 13,
      "metadata": {
        "vscode": {
          "languageId": "python"
        },
        "id": "93d3f645-d153-4dbf-92a1-78d192d0dfa6",
        "outputId": "e72e1fc3-9b86-4b31-9e10-0ae9c187056a",
        "colab": {
          "base_uri": "https://localhost:8080/",
          "height": 194
        }
      },
      "outputs": [
        {
          "output_type": "error",
          "ename": "TypeError",
          "evalue": "ignored",
          "traceback": [
            "\u001b[0;31m---------------------------------------------------------------------------\u001b[0m",
            "\u001b[0;31mTypeError\u001b[0m                                 Traceback (most recent call last)",
            "\u001b[0;32m<ipython-input-13-7a249ee87588>\u001b[0m in \u001b[0;36m<cell line: 2>\u001b[0;34m()\u001b[0m\n\u001b[1;32m      1\u001b[0m \u001b[0ma\u001b[0m\u001b[0;34m=\u001b[0m\u001b[0;34m[\u001b[0m\u001b[0;36m1\u001b[0m\u001b[0;34m,\u001b[0m\u001b[0;36m2\u001b[0m\u001b[0;34m,\u001b[0m\u001b[0;36m1\u001b[0m\u001b[0;34m,\u001b[0m\u001b[0;36m2\u001b[0m\u001b[0;34m,\u001b[0m\u001b[0;36m1\u001b[0m\u001b[0;34m,\u001b[0m\u001b[0;36m2\u001b[0m\u001b[0;34m]\u001b[0m\u001b[0;34m\u001b[0m\u001b[0;34m\u001b[0m\u001b[0m\n\u001b[0;32m----> 2\u001b[0;31m \u001b[0ma\u001b[0m\u001b[0;34m/\u001b[0m\u001b[0;36m3\u001b[0m \u001b[0;31m# 이런건 없다\u001b[0m\u001b[0;34m\u001b[0m\u001b[0;34m\u001b[0m\u001b[0m\n\u001b[0m",
            "\u001b[0;31mTypeError\u001b[0m: unsupported operand type(s) for /: 'list' and 'int'"
          ]
        }
      ],
      "source": [
        "a=[1,2,1,2,1,2]\n",
        "a/3 # 이런건 없다"
      ],
      "id": "93d3f645-d153-4dbf-92a1-78d192d0dfa6"
    },
    {
      "cell_type": "markdown",
      "metadata": {
        "id": "6bc31b54-829d-430b-8b4b-7d235e68aecf"
      },
      "source": [
        "`-` 더하기와 곱하기가 원소의 추가와 반복추가를 의미하여 편리할때도\n",
        "있긴하지만, 우리는 산술적인 `+`, `*` 를 원하는 경우도 있다. 이럴 경우는\n",
        "어떻게 할 수 있을까?\n",
        "\n",
        "(예제)"
      ],
      "id": "6bc31b54-829d-430b-8b4b-7d235e68aecf"
    },
    {
      "cell_type": "code",
      "execution_count": 14,
      "metadata": {
        "vscode": {
          "languageId": "python"
        },
        "id": "899102b7-43bd-47e5-a004-adec448d6bc1"
      },
      "outputs": [],
      "source": [
        "a=[1,2]\n",
        "b=[3,4]"
      ],
      "id": "899102b7-43bd-47e5-a004-adec448d6bc1"
    },
    {
      "cell_type": "markdown",
      "metadata": {
        "id": "1b7c9751-875c-402d-872c-04c6f0284fad"
      },
      "source": [
        "a+b = \\[4,6\\] 이 되도록 하려면?\n",
        "\n",
        "(풀이1)"
      ],
      "id": "1b7c9751-875c-402d-872c-04c6f0284fad"
    },
    {
      "cell_type": "code",
      "execution_count": 15,
      "metadata": {
        "vscode": {
          "languageId": "python"
        },
        "id": "8c8ca5b6-5b12-4ce9-b8f8-fddb49fc4cb0",
        "outputId": "df390410-f406-4cee-afa2-96f36be6178c",
        "colab": {
          "base_uri": "https://localhost:8080/"
        }
      },
      "outputs": [
        {
          "output_type": "execute_result",
          "data": {
            "text/plain": [
              "4"
            ]
          },
          "metadata": {},
          "execution_count": 15
        }
      ],
      "source": [
        "a[0]+b[0] # a의 첫번째 원소를 추출, b의 첫번째 원소를 추출, 둘을 더함"
      ],
      "id": "8c8ca5b6-5b12-4ce9-b8f8-fddb49fc4cb0"
    },
    {
      "cell_type": "code",
      "execution_count": 16,
      "metadata": {
        "vscode": {
          "languageId": "python"
        },
        "id": "4fb152aa-6fb8-4ded-8e7a-7bc1322a9fa6",
        "outputId": "4a0fcea7-711f-4069-e76b-cc808299379b",
        "colab": {
          "base_uri": "https://localhost:8080/"
        }
      },
      "outputs": [
        {
          "output_type": "execute_result",
          "data": {
            "text/plain": [
              "6"
            ]
          },
          "metadata": {},
          "execution_count": 16
        }
      ],
      "source": [
        "a[1]+b[1] # a의 두번째 원소를 추출, b의 두번째 원소를 추출, 둘을 더함"
      ],
      "id": "4fb152aa-6fb8-4ded-8e7a-7bc1322a9fa6"
    },
    {
      "cell_type": "code",
      "execution_count": 17,
      "metadata": {
        "vscode": {
          "languageId": "python"
        },
        "id": "4e4295d8-7c85-402f-ada1-3da02d80dc80",
        "outputId": "d6db32bc-7f02-417f-edad-156e57ae824f",
        "colab": {
          "base_uri": "https://localhost:8080/"
        }
      },
      "outputs": [
        {
          "output_type": "execute_result",
          "data": {
            "text/plain": [
              "[4, 6]"
            ]
          },
          "metadata": {},
          "execution_count": 17
        }
      ],
      "source": [
        "[a[0]+b[0],a[1]+b[1]]"
      ],
      "id": "4e4295d8-7c85-402f-ada1-3da02d80dc80"
    },
    {
      "cell_type": "markdown",
      "metadata": {
        "id": "19e1f351-7dbe-42e8-abbd-2001a02479d0"
      },
      "source": [
        "풀이가 가능한 이유? a,b는 리스트이지만 a\\[0\\], a\\[1\\], b\\[0\\], b\\[1\\] 은\n",
        "각각 인트형임. 인트형은 + 연산이 가능했음.\n",
        "\n",
        "(풀이2)\n",
        "\n",
        "numpy 패키지 (파이썬의 여러 수치연산들을 담당하는 라이브러리)\n",
        "\n",
        "-   이러한 벡터연산은 누구나 필요로 하는 연산임.\n",
        "-   내가 아니더라도 누군가가 프로그램화 해놓았을 것임.\n",
        "-   그 누군가가 자신이 만든 코드를 잘 정리하여 무료로 배포했을 수도\n",
        "    있음. (패키지를 배포한다고 표현)\n",
        "-   그 패키지를 우리는 가져와서 설치한뒤 사용하기만 하면된다.\n",
        "\n",
        "패키지를 설치하는 방법 (코랩은 이미 설치되어 있음)\n",
        "\n",
        "-   `!pip install numpy` \\# 최신버전을 설치함\n",
        "-   `!conda install -c conda-forge numpy -y` \\# 안전한 버전을 설치함\n",
        "\n",
        "설치된 패키지를 사용하는 방법\n",
        "\n",
        "-   `import numpy` 한뒤에 `numpy.??`로 기능을 사용\n",
        "-   `import numpy as np` 한뒤에 `np.??`로 기능을 사용"
      ],
      "id": "19e1f351-7dbe-42e8-abbd-2001a02479d0"
    },
    {
      "cell_type": "code",
      "execution_count": 18,
      "metadata": {
        "vscode": {
          "languageId": "python"
        },
        "id": "bb738051-bf3d-4bfe-b400-8229e3d58d6d"
      },
      "outputs": [],
      "source": [
        "import numpy ## 설치한패키지를 쓰겠다고 선언함"
      ],
      "id": "bb738051-bf3d-4bfe-b400-8229e3d58d6d"
    },
    {
      "cell_type": "code",
      "execution_count": 19,
      "metadata": {
        "vscode": {
          "languageId": "python"
        },
        "id": "d7037a7b-4f87-4cd9-853a-54a11abb0329"
      },
      "outputs": [],
      "source": [
        "a=[1,2]\n",
        "b=[3,4]"
      ],
      "id": "d7037a7b-4f87-4cd9-853a-54a11abb0329"
    },
    {
      "cell_type": "code",
      "execution_count": 20,
      "metadata": {
        "vscode": {
          "languageId": "python"
        },
        "id": "688f9c81-34a5-4901-97c6-a4ab1bc47c50"
      },
      "outputs": [],
      "source": [
        "aa=numpy.array(a)\n",
        "bb=numpy.array(b)\n",
        "# aa,bb는 리스트가 아니라 넘파이 어레이,\n",
        "# numpy.array()는 numpy패키지에서 제공하는 array함수를 쓰겠다는 의미."
      ],
      "id": "688f9c81-34a5-4901-97c6-a4ab1bc47c50"
    },
    {
      "cell_type": "code",
      "execution_count": 21,
      "metadata": {
        "vscode": {
          "languageId": "python"
        },
        "id": "2161f70f-aa36-4605-8042-39f153c34590",
        "outputId": "9576bf99-bf9e-4a31-fadd-dc397e5eb888",
        "colab": {
          "base_uri": "https://localhost:8080/"
        }
      },
      "outputs": [
        {
          "output_type": "execute_result",
          "data": {
            "text/plain": [
              "array([4, 6])"
            ]
          },
          "metadata": {},
          "execution_count": 21
        }
      ],
      "source": [
        "aa+bb"
      ],
      "id": "2161f70f-aa36-4605-8042-39f153c34590"
    },
    {
      "cell_type": "markdown",
      "metadata": {
        "id": "ebf8cd92-ee47-4835-86ab-6cd6bb9de7c7"
      },
      "source": [
        "이런것도 가능"
      ],
      "id": "ebf8cd92-ee47-4835-86ab-6cd6bb9de7c7"
    },
    {
      "cell_type": "code",
      "execution_count": 22,
      "metadata": {
        "vscode": {
          "languageId": "python"
        },
        "id": "fcf21c49-af56-42fe-987f-a80e71d8be67",
        "outputId": "a8fe8b4e-afed-4109-acba-6cc98971c0ad",
        "colab": {
          "base_uri": "https://localhost:8080/"
        }
      },
      "outputs": [
        {
          "output_type": "execute_result",
          "data": {
            "text/plain": [
              "array([2, 4])"
            ]
          },
          "metadata": {},
          "execution_count": 22
        }
      ],
      "source": [
        "2*aa"
      ],
      "id": "fcf21c49-af56-42fe-987f-a80e71d8be67"
    },
    {
      "cell_type": "code",
      "execution_count": 23,
      "metadata": {
        "vscode": {
          "languageId": "python"
        },
        "id": "99892da4-1fe7-4576-98be-cd6c3ef75d7a",
        "outputId": "96f789b3-cc43-43b5-d78b-3eda8cbad2f4",
        "colab": {
          "base_uri": "https://localhost:8080/"
        }
      },
      "outputs": [
        {
          "output_type": "execute_result",
          "data": {
            "text/plain": [
              "array([3, 5])"
            ]
          },
          "metadata": {},
          "execution_count": 23
        }
      ],
      "source": [
        "2*aa+1"
      ],
      "id": "99892da4-1fe7-4576-98be-cd6c3ef75d7a"
    },
    {
      "cell_type": "code",
      "execution_count": 24,
      "metadata": {
        "vscode": {
          "languageId": "python"
        },
        "id": "f0f44281-b11b-4082-9d3d-2b3e7e9705d4",
        "outputId": "678d44e2-5cbf-4681-aaf8-2a15c5f77b82",
        "colab": {
          "base_uri": "https://localhost:8080/"
        }
      },
      "outputs": [
        {
          "output_type": "execute_result",
          "data": {
            "text/plain": [
              "array([6, 9])"
            ]
          },
          "metadata": {},
          "execution_count": 24
        }
      ],
      "source": [
        "2*aa+1+bb"
      ],
      "id": "f0f44281-b11b-4082-9d3d-2b3e7e9705d4"
    },
    {
      "cell_type": "markdown",
      "metadata": {
        "id": "322e5661-abfa-4cfc-96b2-31a4e91fbad9"
      },
      "source": [
        "(풀이3)"
      ],
      "id": "322e5661-abfa-4cfc-96b2-31a4e91fbad9"
    },
    {
      "cell_type": "code",
      "execution_count": 25,
      "metadata": {
        "vscode": {
          "languageId": "python"
        },
        "id": "ba2ac7bc-9326-4065-9afc-037c5c4b1fc4"
      },
      "outputs": [],
      "source": [
        "import numpy as np ## 설치한 numpy라는 패키지를 쓰겠음. 그런데 numpy말고 np라는 이름으로 쓰겠음"
      ],
      "id": "ba2ac7bc-9326-4065-9afc-037c5c4b1fc4"
    },
    {
      "cell_type": "code",
      "execution_count": 26,
      "metadata": {
        "vscode": {
          "languageId": "python"
        },
        "id": "a6f7c498-1459-4223-9f24-962bfceeede8",
        "outputId": "0231e192-40c0-4280-bca4-35bcbf36134e",
        "colab": {
          "base_uri": "https://localhost:8080/"
        }
      },
      "outputs": [
        {
          "output_type": "execute_result",
          "data": {
            "text/plain": [
              "array([1, 2])"
            ]
          },
          "metadata": {},
          "execution_count": 26
        }
      ],
      "source": [
        "np.array(a)"
      ],
      "id": "a6f7c498-1459-4223-9f24-962bfceeede8"
    },
    {
      "cell_type": "code",
      "execution_count": 27,
      "metadata": {
        "vscode": {
          "languageId": "python"
        },
        "id": "4d0a6c56-c3db-429f-b004-64324ff55119",
        "outputId": "6c7b3043-daeb-4019-e5e2-fa28bdb30ac4",
        "colab": {
          "base_uri": "https://localhost:8080/"
        }
      },
      "outputs": [
        {
          "output_type": "execute_result",
          "data": {
            "text/plain": [
              "array([4, 6])"
            ]
          },
          "metadata": {},
          "execution_count": 27
        }
      ],
      "source": [
        "a=[1,2]\n",
        "b=[3,4]\n",
        "np.array(a)+np.array(b)"
      ],
      "id": "4d0a6c56-c3db-429f-b004-64324ff55119"
    },
    {
      "cell_type": "markdown",
      "metadata": {
        "id": "75a07a94-3bdc-492b-8183-7ce9e0c44f3a"
      },
      "source": [
        "## 인덱싱\n",
        "\n",
        "`-` str형과 동일한 방식"
      ],
      "id": "75a07a94-3bdc-492b-8183-7ce9e0c44f3a"
    },
    {
      "cell_type": "code",
      "execution_count": 28,
      "metadata": {
        "vscode": {
          "languageId": "python"
        },
        "id": "cf8a0de8-3802-4d63-84d9-6c4bc341d486"
      },
      "outputs": [],
      "source": [
        "a=[11,22,33,44,55] # 0 -4 -3 -2 -1"
      ],
      "id": "cf8a0de8-3802-4d63-84d9-6c4bc341d486"
    },
    {
      "cell_type": "code",
      "execution_count": 29,
      "metadata": {
        "vscode": {
          "languageId": "python"
        },
        "id": "76d0ba13-6dd5-4950-adc7-6df970d3f832",
        "outputId": "da76e0ee-50e9-49c8-e6fd-78c16bab01f4",
        "colab": {
          "base_uri": "https://localhost:8080/"
        }
      },
      "outputs": [
        {
          "output_type": "execute_result",
          "data": {
            "text/plain": [
              "[44, 55]"
            ]
          },
          "metadata": {},
          "execution_count": 29
        }
      ],
      "source": [
        "a[-2:] # 끝의 2개의 원소를 뽑음"
      ],
      "id": "76d0ba13-6dd5-4950-adc7-6df970d3f832"
    },
    {
      "cell_type": "markdown",
      "metadata": {
        "id": "7e784586-a67b-4016-ade1-9df4f2fb04e4"
      },
      "source": [
        "## list 고급\n",
        "\n",
        "### 리스트는 컨테이너형 객체이다.\n",
        "\n",
        "`-` 리스트의 원소는 int, float 따위만 가능한 것이 아니다. (리스트는\n",
        "컨테이너형 객체이므로)"
      ],
      "id": "7e784586-a67b-4016-ade1-9df4f2fb04e4"
    },
    {
      "cell_type": "code",
      "execution_count": 30,
      "metadata": {
        "vscode": {
          "languageId": "python"
        },
        "id": "5232ac18-5f23-481a-b67d-fe7d07260389"
      },
      "outputs": [],
      "source": [
        "lst = [1,3.14,True,'a',[1,2],\n",
        "       (1,2),{'name':'iu','age':27},{1,2,3}]"
      ],
      "id": "5232ac18-5f23-481a-b67d-fe7d07260389"
    },
    {
      "cell_type": "code",
      "execution_count": 31,
      "metadata": {
        "vscode": {
          "languageId": "python"
        },
        "id": "8876bcad-c1f2-4196-8301-fba060f29d52",
        "outputId": "e84f3277-119d-420b-d619-b7dffa86f16a",
        "colab": {
          "base_uri": "https://localhost:8080/"
        }
      },
      "outputs": [
        {
          "output_type": "execute_result",
          "data": {
            "text/plain": [
              "[1, 3.14, True, 'a', [1, 2], (1, 2), {'name': 'iu', 'age': 27}, {1, 2, 3}]"
            ]
          },
          "metadata": {},
          "execution_count": 31
        }
      ],
      "source": [
        "lst"
      ],
      "id": "8876bcad-c1f2-4196-8301-fba060f29d52"
    },
    {
      "cell_type": "markdown",
      "metadata": {
        "id": "ca58481d-e3be-48f3-89f6-2724e641313e"
      },
      "source": [
        "각 원소의 타입을 알아보자."
      ],
      "id": "ca58481d-e3be-48f3-89f6-2724e641313e"
    },
    {
      "cell_type": "code",
      "execution_count": 32,
      "metadata": {
        "vscode": {
          "languageId": "python"
        },
        "id": "195edf90-bdcc-4056-92c1-a6b0f101b791",
        "outputId": "d17b7b73-7980-407a-c5a6-141f9ccdb50a",
        "colab": {
          "base_uri": "https://localhost:8080/"
        }
      },
      "outputs": [
        {
          "output_type": "execute_result",
          "data": {
            "text/plain": [
              "int"
            ]
          },
          "metadata": {},
          "execution_count": 32
        }
      ],
      "source": [
        "type(lst[0])"
      ],
      "id": "195edf90-bdcc-4056-92c1-a6b0f101b791"
    },
    {
      "cell_type": "code",
      "execution_count": 33,
      "metadata": {
        "vscode": {
          "languageId": "python"
        },
        "id": "f0d21aa3-17d8-4d91-8c6e-4c5be0310886",
        "outputId": "0a340071-1f86-4c27-8fce-7cc13bb8e5a2",
        "colab": {
          "base_uri": "https://localhost:8080/"
        }
      },
      "outputs": [
        {
          "output_type": "execute_result",
          "data": {
            "text/plain": [
              "float"
            ]
          },
          "metadata": {},
          "execution_count": 33
        }
      ],
      "source": [
        "type(lst[1])"
      ],
      "id": "f0d21aa3-17d8-4d91-8c6e-4c5be0310886"
    },
    {
      "cell_type": "code",
      "execution_count": 34,
      "metadata": {
        "vscode": {
          "languageId": "python"
        },
        "id": "7f15299c-bc44-425f-9fdb-ba2ea88c57ba",
        "outputId": "fe9646a6-543d-45cf-801d-f45acfbf1e55",
        "colab": {
          "base_uri": "https://localhost:8080/"
        }
      },
      "outputs": [
        {
          "output_type": "execute_result",
          "data": {
            "text/plain": [
              "bool"
            ]
          },
          "metadata": {},
          "execution_count": 34
        }
      ],
      "source": [
        "type(lst[2])"
      ],
      "id": "7f15299c-bc44-425f-9fdb-ba2ea88c57ba"
    },
    {
      "cell_type": "code",
      "execution_count": 35,
      "metadata": {
        "vscode": {
          "languageId": "python"
        },
        "id": "04d1407a-134c-497d-9bff-1f6328463958",
        "outputId": "c20a85c2-731f-46b2-a9fd-ab23d6065e83",
        "colab": {
          "base_uri": "https://localhost:8080/"
        }
      },
      "outputs": [
        {
          "output_type": "execute_result",
          "data": {
            "text/plain": [
              "str"
            ]
          },
          "metadata": {},
          "execution_count": 35
        }
      ],
      "source": [
        "type(lst[3])"
      ],
      "id": "04d1407a-134c-497d-9bff-1f6328463958"
    },
    {
      "cell_type": "code",
      "execution_count": 36,
      "metadata": {
        "vscode": {
          "languageId": "python"
        },
        "id": "251f8901-35e2-49d3-bcc9-8df687c398d6",
        "outputId": "73dc9d8f-aacf-4aeb-ea1e-f4fc0558d721",
        "colab": {
          "base_uri": "https://localhost:8080/"
        }
      },
      "outputs": [
        {
          "output_type": "execute_result",
          "data": {
            "text/plain": [
              "list"
            ]
          },
          "metadata": {},
          "execution_count": 36
        }
      ],
      "source": [
        "type(lst[4])"
      ],
      "id": "251f8901-35e2-49d3-bcc9-8df687c398d6"
    },
    {
      "cell_type": "code",
      "execution_count": 37,
      "metadata": {
        "vscode": {
          "languageId": "python"
        },
        "id": "fc6e51bd-ef7d-4fdf-b83a-b68dbd8e2ca4",
        "outputId": "cde0278d-1c28-42da-aacf-2ef50418edac",
        "colab": {
          "base_uri": "https://localhost:8080/"
        }
      },
      "outputs": [
        {
          "output_type": "execute_result",
          "data": {
            "text/plain": [
              "tuple"
            ]
          },
          "metadata": {},
          "execution_count": 37
        }
      ],
      "source": [
        "type(lst[5])"
      ],
      "id": "fc6e51bd-ef7d-4fdf-b83a-b68dbd8e2ca4"
    },
    {
      "cell_type": "code",
      "execution_count": 38,
      "metadata": {
        "vscode": {
          "languageId": "python"
        },
        "id": "7bf25447-277b-4ecd-a0c2-11ca62978eb5",
        "outputId": "da2b5965-600a-440d-e719-00cfeb0d0753",
        "colab": {
          "base_uri": "https://localhost:8080/"
        }
      },
      "outputs": [
        {
          "output_type": "execute_result",
          "data": {
            "text/plain": [
              "dict"
            ]
          },
          "metadata": {},
          "execution_count": 38
        }
      ],
      "source": [
        "type(lst[6])"
      ],
      "id": "7bf25447-277b-4ecd-a0c2-11ca62978eb5"
    },
    {
      "cell_type": "code",
      "execution_count": 39,
      "metadata": {
        "vscode": {
          "languageId": "python"
        },
        "id": "f5de5bed-9f2c-45a3-a999-6c6a6b603751",
        "outputId": "e21371ed-e04c-4c2b-a827-47cccf64a558",
        "colab": {
          "base_uri": "https://localhost:8080/"
        }
      },
      "outputs": [
        {
          "output_type": "execute_result",
          "data": {
            "text/plain": [
              "set"
            ]
          },
          "metadata": {},
          "execution_count": 39
        }
      ],
      "source": [
        "type(lst[7])"
      ],
      "id": "f5de5bed-9f2c-45a3-a999-6c6a6b603751"
    },
    {
      "cell_type": "markdown",
      "metadata": {
        "id": "484bb637-2fd2-43a0-bb5a-b4a26769357f"
      },
      "source": [
        "`-` str은 컨테이너형이 아니다."
      ],
      "id": "484bb637-2fd2-43a0-bb5a-b4a26769357f"
    },
    {
      "cell_type": "code",
      "execution_count": 40,
      "metadata": {
        "vscode": {
          "languageId": "python"
        },
        "id": "e4ae066a-74c4-48f9-908b-41e92ac5cdf4",
        "outputId": "edaf63a7-8ac4-42f0-8bcc-45e3a566b0e5",
        "colab": {
          "base_uri": "https://localhost:8080/",
          "height": 36
        }
      },
      "outputs": [
        {
          "output_type": "execute_result",
          "data": {
            "text/plain": [
              "'c'"
            ],
            "application/vnd.google.colaboratory.intrinsic+json": {
              "type": "string"
            }
          },
          "metadata": {},
          "execution_count": 40
        }
      ],
      "source": [
        "'abcd'[2]"
      ],
      "id": "e4ae066a-74c4-48f9-908b-41e92ac5cdf4"
    },
    {
      "cell_type": "markdown",
      "metadata": {
        "id": "d0643ff7-af51-47b8-9e18-f4ba017fc81c"
      },
      "source": [
        "-   str의 모든 원소는 문자임\n",
        "\n",
        "### 리스트는 가변형 객체이다.\n",
        "\n",
        "#### 리스트의 원소 수정\n",
        "\n",
        "`-` 리스트의 원소를 수정할 수 있다. (리스트는 가변객체이므로)"
      ],
      "id": "d0643ff7-af51-47b8-9e18-f4ba017fc81c"
    },
    {
      "cell_type": "code",
      "execution_count": 41,
      "metadata": {
        "vscode": {
          "languageId": "python"
        },
        "id": "fc9f6aa4-3683-4165-b558-89e26d6fcd77",
        "outputId": "d5f22be8-f6d5-4761-8e2c-411db86d9ef7",
        "colab": {
          "base_uri": "https://localhost:8080/"
        }
      },
      "outputs": [
        {
          "output_type": "execute_result",
          "data": {
            "text/plain": [
              "[11, 22, 33]"
            ]
          },
          "metadata": {},
          "execution_count": 41
        }
      ],
      "source": [
        "a=[11,22,33]\n",
        "a"
      ],
      "id": "fc9f6aa4-3683-4165-b558-89e26d6fcd77"
    },
    {
      "cell_type": "code",
      "execution_count": 42,
      "metadata": {
        "vscode": {
          "languageId": "python"
        },
        "id": "a77fcc83-b574-47ca-97e0-60d96c5368ba",
        "outputId": "30c598e1-2b82-4f86-8540-a8e9b5d747b4",
        "colab": {
          "base_uri": "https://localhost:8080/"
        }
      },
      "outputs": [
        {
          "output_type": "execute_result",
          "data": {
            "text/plain": [
              "11"
            ]
          },
          "metadata": {},
          "execution_count": 42
        }
      ],
      "source": [
        "a[0]"
      ],
      "id": "a77fcc83-b574-47ca-97e0-60d96c5368ba"
    },
    {
      "cell_type": "code",
      "execution_count": 43,
      "metadata": {
        "vscode": {
          "languageId": "python"
        },
        "id": "c3d183ad-f215-42e7-8135-985c19cebce6"
      },
      "outputs": [],
      "source": [
        "a[0]=111"
      ],
      "id": "c3d183ad-f215-42e7-8135-985c19cebce6"
    },
    {
      "cell_type": "code",
      "execution_count": 44,
      "metadata": {
        "vscode": {
          "languageId": "python"
        },
        "id": "a11b4638-e8f2-4672-888c-e17ec6ed4c56",
        "outputId": "e54c0d82-c63f-4031-918d-3a624dc49ce6",
        "colab": {
          "base_uri": "https://localhost:8080/"
        }
      },
      "outputs": [
        {
          "output_type": "execute_result",
          "data": {
            "text/plain": [
              "[111, 22, 33]"
            ]
          },
          "metadata": {},
          "execution_count": 44
        }
      ],
      "source": [
        "a"
      ],
      "id": "a11b4638-e8f2-4672-888c-e17ec6ed4c56"
    },
    {
      "cell_type": "markdown",
      "metadata": {
        "id": "6a9935ca-8f52-4583-ab0b-bd81e4790c10"
      },
      "source": [
        "`-` 원소수정은 당연한 기능같은데 이것이 불가능한 경우도 있다.\n",
        "\n",
        "(가능한경우)"
      ],
      "id": "6a9935ca-8f52-4583-ab0b-bd81e4790c10"
    },
    {
      "cell_type": "code",
      "execution_count": 45,
      "metadata": {
        "vscode": {
          "languageId": "python"
        },
        "id": "4e512f30-0d0e-4521-b7f8-3c3502d8b45d",
        "outputId": "bb5706ab-d7b2-4fd9-b0f6-7a6d74e714cf",
        "colab": {
          "base_uri": "https://localhost:8080/"
        }
      },
      "outputs": [
        {
          "output_type": "execute_result",
          "data": {
            "text/plain": [
              "['g', 'u', 'e', 'b', 'i', 'n']"
            ]
          },
          "metadata": {},
          "execution_count": 45
        }
      ],
      "source": [
        "a=['g','u','e','b','i','n']\n",
        "a"
      ],
      "id": "4e512f30-0d0e-4521-b7f8-3c3502d8b45d"
    },
    {
      "cell_type": "code",
      "execution_count": 46,
      "metadata": {
        "vscode": {
          "languageId": "python"
        },
        "id": "78913261-4417-4475-a12b-2ecda95a11da",
        "outputId": "5989f358-62db-4ecf-f6ac-dad6a58a4f25",
        "colab": {
          "base_uri": "https://localhost:8080/",
          "height": 36
        }
      },
      "outputs": [
        {
          "output_type": "execute_result",
          "data": {
            "text/plain": [
              "'g'"
            ],
            "application/vnd.google.colaboratory.intrinsic+json": {
              "type": "string"
            }
          },
          "metadata": {},
          "execution_count": 46
        }
      ],
      "source": [
        "a[0]"
      ],
      "id": "78913261-4417-4475-a12b-2ecda95a11da"
    },
    {
      "cell_type": "code",
      "execution_count": 47,
      "metadata": {
        "vscode": {
          "languageId": "python"
        },
        "id": "d521469d-6bd5-44a5-824b-2c734690a0bb"
      },
      "outputs": [],
      "source": [
        "a[0]='G'"
      ],
      "id": "d521469d-6bd5-44a5-824b-2c734690a0bb"
    },
    {
      "cell_type": "code",
      "execution_count": 48,
      "metadata": {
        "vscode": {
          "languageId": "python"
        },
        "id": "f6741217-3566-487b-8389-4b06fb9f7846",
        "outputId": "31aaa07d-5130-49f9-a4d3-07128f449107",
        "colab": {
          "base_uri": "https://localhost:8080/"
        }
      },
      "outputs": [
        {
          "output_type": "execute_result",
          "data": {
            "text/plain": [
              "['G', 'u', 'e', 'b', 'i', 'n']"
            ]
          },
          "metadata": {},
          "execution_count": 48
        }
      ],
      "source": [
        "a"
      ],
      "id": "f6741217-3566-487b-8389-4b06fb9f7846"
    },
    {
      "cell_type": "markdown",
      "metadata": {
        "id": "2f25b2c1-7b10-4627-998b-9da7849cd438"
      },
      "source": [
        "(불가능한경우)"
      ],
      "id": "2f25b2c1-7b10-4627-998b-9da7849cd438"
    },
    {
      "cell_type": "code",
      "execution_count": 49,
      "metadata": {
        "vscode": {
          "languageId": "python"
        },
        "id": "69de5b4b-303f-4fbf-97d2-2ea057efb763",
        "outputId": "e50df0c6-c478-468f-8554-053c0b773736",
        "colab": {
          "base_uri": "https://localhost:8080/",
          "height": 36
        }
      },
      "outputs": [
        {
          "output_type": "execute_result",
          "data": {
            "text/plain": [
              "'guebin'"
            ],
            "application/vnd.google.colaboratory.intrinsic+json": {
              "type": "string"
            }
          },
          "metadata": {},
          "execution_count": 49
        }
      ],
      "source": [
        "a='guebin'\n",
        "a"
      ],
      "id": "69de5b4b-303f-4fbf-97d2-2ea057efb763"
    },
    {
      "cell_type": "code",
      "execution_count": 50,
      "metadata": {
        "vscode": {
          "languageId": "python"
        },
        "id": "292791ee-bebb-4638-a3d1-91f2534898e7",
        "outputId": "78ae6bff-34a2-4ecd-9cd2-cef376f07ccb",
        "colab": {
          "base_uri": "https://localhost:8080/"
        }
      },
      "outputs": [
        {
          "output_type": "execute_result",
          "data": {
            "text/plain": [
              "str"
            ]
          },
          "metadata": {},
          "execution_count": 50
        }
      ],
      "source": [
        "type(a)"
      ],
      "id": "292791ee-bebb-4638-a3d1-91f2534898e7"
    },
    {
      "cell_type": "code",
      "execution_count": 51,
      "metadata": {
        "vscode": {
          "languageId": "python"
        },
        "id": "c89fd5c0-09d1-44df-8fdd-5e30cf7737f9",
        "outputId": "d3e35a3b-5268-4399-88a9-ba351f75ce4b",
        "colab": {
          "base_uri": "https://localhost:8080/",
          "height": 36
        }
      },
      "outputs": [
        {
          "output_type": "execute_result",
          "data": {
            "text/plain": [
              "'g'"
            ],
            "application/vnd.google.colaboratory.intrinsic+json": {
              "type": "string"
            }
          },
          "metadata": {},
          "execution_count": 51
        }
      ],
      "source": [
        "a[0]"
      ],
      "id": "c89fd5c0-09d1-44df-8fdd-5e30cf7737f9"
    },
    {
      "cell_type": "code",
      "execution_count": 52,
      "metadata": {
        "vscode": {
          "languageId": "python"
        },
        "id": "11047950-3bea-47cd-b4c6-067aea25f90e",
        "outputId": "dc0401d8-3cd6-4cef-e83f-be2dd7890393",
        "colab": {
          "base_uri": "https://localhost:8080/",
          "height": 176
        }
      },
      "outputs": [
        {
          "output_type": "error",
          "ename": "TypeError",
          "evalue": "ignored",
          "traceback": [
            "\u001b[0;31m---------------------------------------------------------------------------\u001b[0m",
            "\u001b[0;31mTypeError\u001b[0m                                 Traceback (most recent call last)",
            "\u001b[0;32m<ipython-input-52-82066f6e0399>\u001b[0m in \u001b[0;36m<cell line: 1>\u001b[0;34m()\u001b[0m\n\u001b[0;32m----> 1\u001b[0;31m \u001b[0ma\u001b[0m\u001b[0;34m[\u001b[0m\u001b[0;36m0\u001b[0m\u001b[0;34m]\u001b[0m\u001b[0;34m=\u001b[0m\u001b[0;34m'G'\u001b[0m\u001b[0;34m\u001b[0m\u001b[0;34m\u001b[0m\u001b[0m\n\u001b[0m",
            "\u001b[0;31mTypeError\u001b[0m: 'str' object does not support item assignment"
          ]
        }
      ],
      "source": [
        "a[0]='G'"
      ],
      "id": "11047950-3bea-47cd-b4c6-067aea25f90e"
    },
    {
      "cell_type": "markdown",
      "metadata": {
        "id": "d5b3b59e-7478-46cf-99d6-f4e4d8b9b9e8"
      },
      "source": [
        "#### 리스트의 원소 삭제\n",
        "\n",
        "(예제)\n",
        "\n",
        "아래와 같이 문자로 된 리스트를 선언하자."
      ],
      "id": "d5b3b59e-7478-46cf-99d6-f4e4d8b9b9e8"
    },
    {
      "cell_type": "code",
      "execution_count": 53,
      "metadata": {
        "vscode": {
          "languageId": "python"
        },
        "id": "f9570ff3-37ea-4239-8d19-26da3daf4831",
        "outputId": "7705a0ff-9f41-4327-db1d-a54e0d2b6b77",
        "colab": {
          "base_uri": "https://localhost:8080/"
        }
      },
      "outputs": [
        {
          "output_type": "execute_result",
          "data": {
            "text/plain": [
              "['g', 'u', 'e', 'b', 'i', 'n']"
            ]
          },
          "metadata": {},
          "execution_count": 53
        }
      ],
      "source": [
        "a=['g','u','e','b','i','n']\n",
        "a"
      ],
      "id": "f9570ff3-37ea-4239-8d19-26da3daf4831"
    },
    {
      "cell_type": "markdown",
      "metadata": {
        "id": "726e22f2-5828-414f-9529-298890c5bf03"
      },
      "source": [
        "사실 더 쉽게 선언할 수 있음"
      ],
      "id": "726e22f2-5828-414f-9529-298890c5bf03"
    },
    {
      "cell_type": "code",
      "execution_count": 57,
      "metadata": {
        "vscode": {
          "languageId": "python"
        },
        "id": "cccdef08-6317-4a82-9c1f-f87cf59fb8f7",
        "outputId": "b2bfffda-9c6f-4de2-ef2d-7be25477e764",
        "colab": {
          "base_uri": "https://localhost:8080/"
        }
      },
      "outputs": [
        {
          "output_type": "execute_result",
          "data": {
            "text/plain": [
              "['g', 'u', 'e', 'b', 'i', 'n']"
            ]
          },
          "metadata": {},
          "execution_count": 57
        }
      ],
      "source": [
        "a= 'guebin' # string으로 a를 선언\n",
        "a= list(a) # list(a)를 통하여 str을 ㅣist로 변환 -> 그 결과를 a에 다시 저장\n",
        "a"
      ],
      "id": "cccdef08-6317-4a82-9c1f-f87cf59fb8f7"
    },
    {
      "cell_type": "code",
      "source": [
        "a = ' '.join(a)\n",
        "\n",
        "a"
      ],
      "metadata": {
        "id": "98HHcWBJuJhA",
        "outputId": "b61e5011-ff15-4a29-c07a-3ae7d3baebb4",
        "colab": {
          "base_uri": "https://localhost:8080/",
          "height": 36
        }
      },
      "id": "98HHcWBJuJhA",
      "execution_count": 61,
      "outputs": [
        {
          "output_type": "execute_result",
          "data": {
            "text/plain": [
              "'g   u   e   b   i   n'"
            ],
            "application/vnd.google.colaboratory.intrinsic+json": {
              "type": "string"
            }
          },
          "metadata": {},
          "execution_count": 61
        }
      ]
    },
    {
      "cell_type": "markdown",
      "metadata": {
        "id": "920909d9-075a-4ff5-abf6-93b5e8b61e30"
      },
      "source": [
        "첫번째 원소를 삭제하고 싶다면?"
      ],
      "id": "920909d9-075a-4ff5-abf6-93b5e8b61e30"
    },
    {
      "cell_type": "code",
      "execution_count": null,
      "metadata": {
        "vscode": {
          "languageId": "python"
        },
        "id": "486a250d-982a-4b1a-a664-943f2dd0ae02"
      },
      "outputs": [],
      "source": [
        "del a[0]"
      ],
      "id": "486a250d-982a-4b1a-a664-943f2dd0ae02"
    },
    {
      "cell_type": "code",
      "execution_count": null,
      "metadata": {
        "vscode": {
          "languageId": "python"
        },
        "id": "79a7c837-7322-4c26-b3c7-90a78968ed07"
      },
      "outputs": [],
      "source": [
        "a"
      ],
      "id": "79a7c837-7322-4c26-b3c7-90a78968ed07"
    },
    {
      "cell_type": "markdown",
      "metadata": {
        "id": "f53645ed-f691-4334-9926-3a426519864e"
      },
      "source": [
        "이 상태에서 다시 첫번쨰 원소를 삭제한다면?"
      ],
      "id": "f53645ed-f691-4334-9926-3a426519864e"
    },
    {
      "cell_type": "code",
      "execution_count": null,
      "metadata": {
        "vscode": {
          "languageId": "python"
        },
        "id": "a8d6b8e1-7385-4965-b7f4-a534bac13eb4"
      },
      "outputs": [],
      "source": [
        "del a[0]"
      ],
      "id": "a8d6b8e1-7385-4965-b7f4-a534bac13eb4"
    },
    {
      "cell_type": "code",
      "execution_count": null,
      "metadata": {
        "vscode": {
          "languageId": "python"
        },
        "id": "2f200f80-d5b4-4be2-ae37-724bbffe7128"
      },
      "outputs": [],
      "source": [
        "a"
      ],
      "id": "2f200f80-d5b4-4be2-ae37-724bbffe7128"
    },
    {
      "cell_type": "markdown",
      "metadata": {
        "id": "abe4528e-f3b4-4c10-a438-e7c83036c315"
      },
      "source": [
        "#### 리스트의 원소 추가\n",
        "\n",
        "(예제) 비어있는 리스트를 만들고 원소 0,1,2를 차례로 추가하여 보자.\n",
        "\n",
        "(풀이1)"
      ],
      "id": "abe4528e-f3b4-4c10-a438-e7c83036c315"
    },
    {
      "cell_type": "code",
      "execution_count": 62,
      "metadata": {
        "vscode": {
          "languageId": "python"
        },
        "id": "d61cf09a-0f9f-4f94-8a3c-95b173e13442",
        "outputId": "a4ea4804-6756-4418-8e4c-4e7371bd1764",
        "colab": {
          "base_uri": "https://localhost:8080/"
        }
      },
      "outputs": [
        {
          "output_type": "execute_result",
          "data": {
            "text/plain": [
              "[]"
            ]
          },
          "metadata": {},
          "execution_count": 62
        }
      ],
      "source": [
        "a=[]\n",
        "a"
      ],
      "id": "d61cf09a-0f9f-4f94-8a3c-95b173e13442"
    },
    {
      "cell_type": "code",
      "execution_count": 63,
      "metadata": {
        "vscode": {
          "languageId": "python"
        },
        "id": "831767cc-3efc-42e6-a6da-53c81092d6fc",
        "outputId": "72278c6e-ae96-4d0c-e184-57ada7fcfa7a",
        "colab": {
          "base_uri": "https://localhost:8080/"
        }
      },
      "outputs": [
        {
          "output_type": "execute_result",
          "data": {
            "text/plain": [
              "[0]"
            ]
          },
          "metadata": {},
          "execution_count": 63
        }
      ],
      "source": [
        "a= a + [0]\n",
        "a"
      ],
      "id": "831767cc-3efc-42e6-a6da-53c81092d6fc"
    },
    {
      "cell_type": "code",
      "execution_count": 64,
      "metadata": {
        "vscode": {
          "languageId": "python"
        },
        "id": "594b7449-3906-4937-a2be-72e5543439c0",
        "outputId": "70cc2f98-e959-424c-e51a-17ba64062ace",
        "colab": {
          "base_uri": "https://localhost:8080/"
        }
      },
      "outputs": [
        {
          "output_type": "execute_result",
          "data": {
            "text/plain": [
              "[0, 1]"
            ]
          },
          "metadata": {},
          "execution_count": 64
        }
      ],
      "source": [
        "a= a + [1]\n",
        "a"
      ],
      "id": "594b7449-3906-4937-a2be-72e5543439c0"
    },
    {
      "cell_type": "code",
      "execution_count": 65,
      "metadata": {
        "vscode": {
          "languageId": "python"
        },
        "id": "85d5cddb-c5cd-40a1-8858-01c38a18f2ff",
        "outputId": "fab657bd-294b-43e9-81d4-8d420c6ba214",
        "colab": {
          "base_uri": "https://localhost:8080/"
        }
      },
      "outputs": [
        {
          "output_type": "execute_result",
          "data": {
            "text/plain": [
              "[0, 1, 2]"
            ]
          },
          "metadata": {},
          "execution_count": 65
        }
      ],
      "source": [
        "a= a + [2]\n",
        "a"
      ],
      "id": "85d5cddb-c5cd-40a1-8858-01c38a18f2ff"
    },
    {
      "cell_type": "markdown",
      "metadata": {
        "id": "46e7c8f4-2a91-4bb6-be29-05dfb383bd04"
      },
      "source": [
        "(풀이2)"
      ],
      "id": "46e7c8f4-2a91-4bb6-be29-05dfb383bd04"
    },
    {
      "cell_type": "code",
      "execution_count": 66,
      "metadata": {
        "vscode": {
          "languageId": "python"
        },
        "id": "f7069317-fe32-4d42-a1b5-4b499d8c6fb8",
        "outputId": "019d31a5-4319-4d52-e0fc-164156e12468",
        "colab": {
          "base_uri": "https://localhost:8080/"
        }
      },
      "outputs": [
        {
          "output_type": "execute_result",
          "data": {
            "text/plain": [
              "[]"
            ]
          },
          "metadata": {},
          "execution_count": 66
        }
      ],
      "source": [
        "a=[]\n",
        "a"
      ],
      "id": "f7069317-fe32-4d42-a1b5-4b499d8c6fb8"
    },
    {
      "cell_type": "code",
      "execution_count": 67,
      "metadata": {
        "vscode": {
          "languageId": "python"
        },
        "id": "d043530b-1f4c-4b5c-8db6-1b1b16073d25",
        "outputId": "a2f1c356-6955-4c38-f75e-11cfbaa966dd",
        "colab": {
          "base_uri": "https://localhost:8080/"
        }
      },
      "outputs": [
        {
          "output_type": "execute_result",
          "data": {
            "text/plain": [
              "[0]"
            ]
          },
          "metadata": {},
          "execution_count": 67
        }
      ],
      "source": [
        "a += [0]\n",
        "a"
      ],
      "id": "d043530b-1f4c-4b5c-8db6-1b1b16073d25"
    },
    {
      "cell_type": "code",
      "execution_count": 68,
      "metadata": {
        "vscode": {
          "languageId": "python"
        },
        "id": "66ec8ed6-5319-4bb5-940b-00d728dc5083",
        "outputId": "cbc34393-142f-40e8-8acf-35fecd6d7d90",
        "colab": {
          "base_uri": "https://localhost:8080/"
        }
      },
      "outputs": [
        {
          "output_type": "execute_result",
          "data": {
            "text/plain": [
              "[0, 1]"
            ]
          },
          "metadata": {},
          "execution_count": 68
        }
      ],
      "source": [
        "a += [1]\n",
        "a"
      ],
      "id": "66ec8ed6-5319-4bb5-940b-00d728dc5083"
    },
    {
      "cell_type": "code",
      "execution_count": 69,
      "metadata": {
        "vscode": {
          "languageId": "python"
        },
        "id": "d40e1a11-2e5b-4a28-ac4e-d529e059b461",
        "outputId": "27fbf3c8-a5b1-40d7-8422-d12094880d4a",
        "colab": {
          "base_uri": "https://localhost:8080/"
        }
      },
      "outputs": [
        {
          "output_type": "execute_result",
          "data": {
            "text/plain": [
              "[0, 1, 2]"
            ]
          },
          "metadata": {},
          "execution_count": 69
        }
      ],
      "source": [
        "a += [2]\n",
        "a"
      ],
      "id": "d40e1a11-2e5b-4a28-ac4e-d529e059b461"
    },
    {
      "cell_type": "markdown",
      "metadata": {
        "id": "bc2224c9-96f1-47aa-a792-450fa08ba671"
      },
      "source": [
        "-   암기법: 중복되는 변수를 지우고 연산자의 순서를 바꾼다.\n",
        "\n",
        "(풀이3) 리스트 특화기능(=메소드)를 이용"
      ],
      "id": "bc2224c9-96f1-47aa-a792-450fa08ba671"
    },
    {
      "cell_type": "code",
      "execution_count": 70,
      "metadata": {
        "vscode": {
          "languageId": "python"
        },
        "id": "2f126016-75de-4a6c-9e86-d99b129e44e2",
        "outputId": "30344eed-cb14-4bb8-803e-92e12a02e6b0",
        "colab": {
          "base_uri": "https://localhost:8080/"
        }
      },
      "outputs": [
        {
          "output_type": "execute_result",
          "data": {
            "text/plain": [
              "[]"
            ]
          },
          "metadata": {},
          "execution_count": 70
        }
      ],
      "source": [
        "a=[]\n",
        "a"
      ],
      "id": "2f126016-75de-4a6c-9e86-d99b129e44e2"
    },
    {
      "cell_type": "code",
      "execution_count": 71,
      "metadata": {
        "vscode": {
          "languageId": "python"
        },
        "id": "fe3e9657-dd8e-4bba-a3c6-6a584da00f38",
        "outputId": "ebbc29a5-2d27-4db8-82eb-2596ef2e4fa4",
        "colab": {
          "base_uri": "https://localhost:8080/"
        }
      },
      "outputs": [
        {
          "output_type": "execute_result",
          "data": {
            "text/plain": [
              "[0]"
            ]
          },
          "metadata": {},
          "execution_count": 71
        }
      ],
      "source": [
        "a.append(0)\n",
        "a"
      ],
      "id": "fe3e9657-dd8e-4bba-a3c6-6a584da00f38"
    },
    {
      "cell_type": "code",
      "execution_count": 72,
      "metadata": {
        "vscode": {
          "languageId": "python"
        },
        "id": "0df5b8c5-69bb-42c8-9625-ef6c6ea40381",
        "outputId": "ec9d8e6a-f217-40cf-e72f-40a928f1d18a",
        "colab": {
          "base_uri": "https://localhost:8080/"
        }
      },
      "outputs": [
        {
          "output_type": "execute_result",
          "data": {
            "text/plain": [
              "[0, 1]"
            ]
          },
          "metadata": {},
          "execution_count": 72
        }
      ],
      "source": [
        "a.append(1)\n",
        "a"
      ],
      "id": "0df5b8c5-69bb-42c8-9625-ef6c6ea40381"
    },
    {
      "cell_type": "code",
      "execution_count": 73,
      "metadata": {
        "vscode": {
          "languageId": "python"
        },
        "id": "38c29cd4-a278-4f3d-a364-9f75d04e6380",
        "outputId": "3c6a00c8-4841-4475-e8e8-30f7e0940386",
        "colab": {
          "base_uri": "https://localhost:8080/"
        }
      },
      "outputs": [
        {
          "output_type": "execute_result",
          "data": {
            "text/plain": [
              "[0, 1, 2]"
            ]
          },
          "metadata": {},
          "execution_count": 73
        }
      ],
      "source": [
        "a.append(2)\n",
        "a"
      ],
      "id": "38c29cd4-a278-4f3d-a364-9f75d04e6380"
    },
    {
      "cell_type": "markdown",
      "metadata": {
        "id": "cd801286-e033-4ff6-9648-73091c95a278"
      },
      "source": [
        "`-` `a+[4]`와 `a.append(4)`의 차이점은?\n",
        "\n",
        "(관찰1)"
      ],
      "id": "cd801286-e033-4ff6-9648-73091c95a278"
    },
    {
      "cell_type": "code",
      "execution_count": 74,
      "metadata": {
        "vscode": {
          "languageId": "python"
        },
        "id": "52eb1d51-f837-408d-b37c-cabe0ab90f04",
        "outputId": "be3d8633-7dba-4d36-bec1-0e29099e23d0",
        "colab": {
          "base_uri": "https://localhost:8080/"
        }
      },
      "outputs": [
        {
          "output_type": "execute_result",
          "data": {
            "text/plain": [
              "[1, 2, 3, 4]"
            ]
          },
          "metadata": {},
          "execution_count": 74
        }
      ],
      "source": [
        "a=[1,2,3]\n",
        "a+[4] ## 리스트 a와 리스트 [4]의 연산결과를 알려줘"
      ],
      "id": "52eb1d51-f837-408d-b37c-cabe0ab90f04"
    },
    {
      "cell_type": "code",
      "execution_count": 75,
      "metadata": {
        "vscode": {
          "languageId": "python"
        },
        "id": "d837aa40-6737-46c9-8770-c76fa3b6db08",
        "outputId": "d91b3631-c004-4f5f-c89e-4325e6cda4b5",
        "colab": {
          "base_uri": "https://localhost:8080/"
        }
      },
      "outputs": [
        {
          "output_type": "execute_result",
          "data": {
            "text/plain": [
              "[1, 2, 3]"
            ]
          },
          "metadata": {},
          "execution_count": 75
        }
      ],
      "source": [
        "a ## a는 그대로임. 변화없음"
      ],
      "id": "d837aa40-6737-46c9-8770-c76fa3b6db08"
    },
    {
      "cell_type": "markdown",
      "metadata": {
        "id": "39408cf3-4fb0-4200-9e71-7cf90cdda61d"
      },
      "source": [
        "(관찰2)"
      ],
      "id": "39408cf3-4fb0-4200-9e71-7cf90cdda61d"
    },
    {
      "cell_type": "code",
      "execution_count": null,
      "metadata": {
        "vscode": {
          "languageId": "python"
        },
        "id": "aa25fb89-7a7d-4471-9b69-c62c2915f6ae"
      },
      "outputs": [],
      "source": [
        "a=[1,2,3]\n",
        "a.append(4)"
      ],
      "id": "aa25fb89-7a7d-4471-9b69-c62c2915f6ae"
    },
    {
      "cell_type": "code",
      "execution_count": null,
      "metadata": {
        "vscode": {
          "languageId": "python"
        },
        "id": "5cc35555-2bd8-4f1e-a079-9ce07c621eb6"
      },
      "outputs": [],
      "source": [
        "a ## a자체가 변화함"
      ],
      "id": "5cc35555-2bd8-4f1e-a079-9ce07c621eb6"
    },
    {
      "cell_type": "markdown",
      "metadata": {
        "id": "d99d8c43-3b1e-4a47-9529-096f692a6256"
      },
      "source": [
        "비슷해보이지만 굉장히 미묘한 차이가 있음\n",
        "\n",
        "`a.append(4)`: `a`에 4를 append하라 $\\to$ `a`가 변함\n",
        "\n",
        "`a+[4]`: `a`와 4를 연산하라\n",
        "\n",
        "## list 특수기능\n",
        "\n",
        "**(append)**"
      ],
      "id": "d99d8c43-3b1e-4a47-9529-096f692a6256"
    },
    {
      "cell_type": "code",
      "execution_count": 76,
      "metadata": {
        "vscode": {
          "languageId": "python"
        },
        "id": "3851b578-23dd-4755-9b11-e8dfd8065916"
      },
      "outputs": [],
      "source": [
        "a=[1,2,3,4]\n",
        "a.append?"
      ],
      "id": "3851b578-23dd-4755-9b11-e8dfd8065916"
    },
    {
      "cell_type": "code",
      "execution_count": 77,
      "metadata": {
        "vscode": {
          "languageId": "python"
        },
        "id": "8980d784-d929-4226-92fa-8d1db6726996",
        "outputId": "8f59aae3-7e06-4986-957f-408fb05ae158",
        "colab": {
          "base_uri": "https://localhost:8080/"
        }
      },
      "outputs": [
        {
          "output_type": "execute_result",
          "data": {
            "text/plain": [
              "[1, 2, 3, 4, 5]"
            ]
          },
          "metadata": {},
          "execution_count": 77
        }
      ],
      "source": [
        "a.append(5)\n",
        "a"
      ],
      "id": "8980d784-d929-4226-92fa-8d1db6726996"
    },
    {
      "cell_type": "markdown",
      "metadata": {
        "id": "38be7c8e-a8a6-4f5a-9c5d-28ddda9f160b"
      },
      "source": [
        "**(clear)**"
      ],
      "id": "38be7c8e-a8a6-4f5a-9c5d-28ddda9f160b"
    },
    {
      "cell_type": "code",
      "execution_count": 78,
      "metadata": {
        "vscode": {
          "languageId": "python"
        },
        "id": "1bf65ba0-48f8-47bf-b679-4597e656a475"
      },
      "outputs": [],
      "source": [
        "a=[1,2,3,4]\n",
        "a.clear?"
      ],
      "id": "1bf65ba0-48f8-47bf-b679-4597e656a475"
    },
    {
      "cell_type": "code",
      "execution_count": 79,
      "metadata": {
        "vscode": {
          "languageId": "python"
        },
        "id": "e1d8f438-e0c3-4b7c-bb5d-7f114caf68d7",
        "outputId": "b27aa987-5ba1-4138-836d-4cc0942cbb7e",
        "colab": {
          "base_uri": "https://localhost:8080/"
        }
      },
      "outputs": [
        {
          "output_type": "execute_result",
          "data": {
            "text/plain": [
              "[]"
            ]
          },
          "metadata": {},
          "execution_count": 79
        }
      ],
      "source": [
        "a.clear()\n",
        "a"
      ],
      "id": "e1d8f438-e0c3-4b7c-bb5d-7f114caf68d7"
    },
    {
      "cell_type": "markdown",
      "metadata": {
        "id": "3770988e-f57b-4761-8610-902cba81d740"
      },
      "source": [
        "**(copy)**"
      ],
      "id": "3770988e-f57b-4761-8610-902cba81d740"
    },
    {
      "cell_type": "code",
      "execution_count": 80,
      "metadata": {
        "vscode": {
          "languageId": "python"
        },
        "id": "8128859f-f56b-41fe-989c-90dc371b3291"
      },
      "outputs": [],
      "source": [
        "a=[1,2,3,4]\n",
        "a.copy?"
      ],
      "id": "8128859f-f56b-41fe-989c-90dc371b3291"
    },
    {
      "cell_type": "code",
      "execution_count": 81,
      "metadata": {
        "vscode": {
          "languageId": "python"
        },
        "id": "24453be5-f6fb-46ae-b3f7-a580d211bbea",
        "outputId": "40f79020-06e0-4a5d-cc64-57a9c81223ac",
        "colab": {
          "base_uri": "https://localhost:8080/"
        }
      },
      "outputs": [
        {
          "output_type": "execute_result",
          "data": {
            "text/plain": [
              "[1, 2, 3, 4]"
            ]
          },
          "metadata": {},
          "execution_count": 81
        }
      ],
      "source": [
        "b=a.copy()\n",
        "b"
      ],
      "id": "24453be5-f6fb-46ae-b3f7-a580d211bbea"
    },
    {
      "cell_type": "markdown",
      "metadata": {
        "id": "4b1cf30d-e413-4b53-a52e-2454a60eff0d"
      },
      "source": [
        "**(count)**"
      ],
      "id": "4b1cf30d-e413-4b53-a52e-2454a60eff0d"
    },
    {
      "cell_type": "code",
      "execution_count": 82,
      "metadata": {
        "vscode": {
          "languageId": "python"
        },
        "id": "aaa9ba0a-b161-4bde-9070-ff6915c58407"
      },
      "outputs": [],
      "source": [
        "a=[1,1,2,3,3,4,4,4]\n",
        "a.count?"
      ],
      "id": "aaa9ba0a-b161-4bde-9070-ff6915c58407"
    },
    {
      "cell_type": "code",
      "execution_count": 83,
      "metadata": {
        "vscode": {
          "languageId": "python"
        },
        "id": "9029bb3b-d51e-4efe-ae53-b0f08a1b818a",
        "outputId": "4762bb7a-f744-491b-cdbb-17932be30277",
        "colab": {
          "base_uri": "https://localhost:8080/"
        }
      },
      "outputs": [
        {
          "output_type": "execute_result",
          "data": {
            "text/plain": [
              "2"
            ]
          },
          "metadata": {},
          "execution_count": 83
        }
      ],
      "source": [
        "a.count(1)"
      ],
      "id": "9029bb3b-d51e-4efe-ae53-b0f08a1b818a"
    },
    {
      "cell_type": "code",
      "execution_count": 84,
      "metadata": {
        "vscode": {
          "languageId": "python"
        },
        "id": "67124330-87eb-45d3-aae2-800d8c0616a9",
        "outputId": "205d75af-b2a9-4cfc-e6ea-4d4ec14a59e3",
        "colab": {
          "base_uri": "https://localhost:8080/"
        }
      },
      "outputs": [
        {
          "output_type": "execute_result",
          "data": {
            "text/plain": [
              "1"
            ]
          },
          "metadata": {},
          "execution_count": 84
        }
      ],
      "source": [
        "a.count(2)"
      ],
      "id": "67124330-87eb-45d3-aae2-800d8c0616a9"
    },
    {
      "cell_type": "code",
      "execution_count": 85,
      "metadata": {
        "vscode": {
          "languageId": "python"
        },
        "id": "3573e548-2bea-4499-8272-30be98c9863f",
        "outputId": "7d655941-8d29-4a14-da60-4bcdc38c0164",
        "colab": {
          "base_uri": "https://localhost:8080/"
        }
      },
      "outputs": [
        {
          "output_type": "execute_result",
          "data": {
            "text/plain": [
              "2"
            ]
          },
          "metadata": {},
          "execution_count": 85
        }
      ],
      "source": [
        "a.count(3)"
      ],
      "id": "3573e548-2bea-4499-8272-30be98c9863f"
    },
    {
      "cell_type": "code",
      "execution_count": 86,
      "metadata": {
        "vscode": {
          "languageId": "python"
        },
        "id": "826194d3-6949-4d50-98ee-24441272dca7",
        "outputId": "be11b774-888a-48a2-c174-c2c2029e02f9",
        "colab": {
          "base_uri": "https://localhost:8080/"
        }
      },
      "outputs": [
        {
          "output_type": "execute_result",
          "data": {
            "text/plain": [
              "3"
            ]
          },
          "metadata": {},
          "execution_count": 86
        }
      ],
      "source": [
        "a.count(4)"
      ],
      "id": "826194d3-6949-4d50-98ee-24441272dca7"
    },
    {
      "cell_type": "markdown",
      "metadata": {
        "id": "cc45701a-a7b6-41aa-903e-4d83aca4c338"
      },
      "source": [
        "**(extend)**"
      ],
      "id": "cc45701a-a7b6-41aa-903e-4d83aca4c338"
    },
    {
      "cell_type": "code",
      "execution_count": 87,
      "metadata": {
        "vscode": {
          "languageId": "python"
        },
        "id": "069f7a74-6913-447d-b8c2-6b51d7951d75"
      },
      "outputs": [],
      "source": [
        "a=[1,2,3,4]\n",
        "b=[-1,-2,-3,-4]"
      ],
      "id": "069f7a74-6913-447d-b8c2-6b51d7951d75"
    },
    {
      "cell_type": "code",
      "execution_count": 88,
      "metadata": {
        "vscode": {
          "languageId": "python"
        },
        "id": "60708d1e-2097-4f55-a971-56e2438a2190",
        "outputId": "95ad5685-1a6c-4831-9a96-8a594e9b9a9d",
        "colab": {
          "base_uri": "https://localhost:8080/"
        }
      },
      "outputs": [
        {
          "output_type": "execute_result",
          "data": {
            "text/plain": [
              "[1, 2, 3, 4, -1, -2, -3, -4]"
            ]
          },
          "metadata": {},
          "execution_count": 88
        }
      ],
      "source": [
        "a.extend(b)\n",
        "a"
      ],
      "id": "60708d1e-2097-4f55-a971-56e2438a2190"
    },
    {
      "cell_type": "code",
      "execution_count": 89,
      "metadata": {
        "vscode": {
          "languageId": "python"
        },
        "id": "46015c7c-ef06-4d14-be57-bb480effe1c8"
      },
      "outputs": [],
      "source": [
        "a=[1,2,3,4]\n",
        "b=[-1,-2,-3,-4]"
      ],
      "id": "46015c7c-ef06-4d14-be57-bb480effe1c8"
    },
    {
      "cell_type": "code",
      "execution_count": 90,
      "metadata": {
        "vscode": {
          "languageId": "python"
        },
        "id": "3868229a-46a5-4259-8ded-c4d568561bb2"
      },
      "outputs": [],
      "source": [
        "a.append(b)"
      ],
      "id": "3868229a-46a5-4259-8ded-c4d568561bb2"
    },
    {
      "cell_type": "code",
      "execution_count": 91,
      "metadata": {
        "vscode": {
          "languageId": "python"
        },
        "id": "3d0a4c67-0178-4393-b82a-9b1eb207d990",
        "outputId": "cc328741-67fc-4b8d-def8-52c0a8e537f6",
        "colab": {
          "base_uri": "https://localhost:8080/"
        }
      },
      "outputs": [
        {
          "output_type": "execute_result",
          "data": {
            "text/plain": [
              "[1, 2, 3, 4, [-1, -2, -3, -4]]"
            ]
          },
          "metadata": {},
          "execution_count": 91
        }
      ],
      "source": [
        "a"
      ],
      "id": "3d0a4c67-0178-4393-b82a-9b1eb207d990"
    },
    {
      "cell_type": "markdown",
      "metadata": {
        "id": "3f24b09b-79f5-4de3-9e7c-12f0a63f352b"
      },
      "source": [
        "**(index)**"
      ],
      "id": "3f24b09b-79f5-4de3-9e7c-12f0a63f352b"
    },
    {
      "cell_type": "code",
      "execution_count": 92,
      "metadata": {
        "vscode": {
          "languageId": "python"
        },
        "id": "8b890c76-162b-4120-93ac-5966f9a696dc"
      },
      "outputs": [],
      "source": [
        "a=[11,22,'a',True, 22,'a']\n",
        "a.index?"
      ],
      "id": "8b890c76-162b-4120-93ac-5966f9a696dc"
    },
    {
      "cell_type": "code",
      "execution_count": 93,
      "metadata": {
        "vscode": {
          "languageId": "python"
        },
        "id": "87b97700-b21f-45ee-9505-1a67ad5f09a0",
        "outputId": "bd7c5738-c0a2-4963-c686-6d138965658e",
        "colab": {
          "base_uri": "https://localhost:8080/"
        }
      },
      "outputs": [
        {
          "output_type": "execute_result",
          "data": {
            "text/plain": [
              "0"
            ]
          },
          "metadata": {},
          "execution_count": 93
        }
      ],
      "source": [
        "a.index(11)"
      ],
      "id": "87b97700-b21f-45ee-9505-1a67ad5f09a0"
    },
    {
      "cell_type": "code",
      "execution_count": 94,
      "metadata": {
        "vscode": {
          "languageId": "python"
        },
        "id": "b35a2757-358d-4b06-847e-3246e6071b25",
        "outputId": "4ef45923-fc7a-4332-daba-9862d362b560",
        "colab": {
          "base_uri": "https://localhost:8080/"
        }
      },
      "outputs": [
        {
          "output_type": "execute_result",
          "data": {
            "text/plain": [
              "1"
            ]
          },
          "metadata": {},
          "execution_count": 94
        }
      ],
      "source": [
        "a.index(22)"
      ],
      "id": "b35a2757-358d-4b06-847e-3246e6071b25"
    },
    {
      "cell_type": "code",
      "execution_count": 95,
      "metadata": {
        "vscode": {
          "languageId": "python"
        },
        "id": "ef6df1f9-8050-49c9-8173-db246c18f038",
        "outputId": "70247902-92d7-4213-cf1a-5ce4d636fed2",
        "colab": {
          "base_uri": "https://localhost:8080/"
        }
      },
      "outputs": [
        {
          "output_type": "execute_result",
          "data": {
            "text/plain": [
              "2"
            ]
          },
          "metadata": {},
          "execution_count": 95
        }
      ],
      "source": [
        "a.index('a')"
      ],
      "id": "ef6df1f9-8050-49c9-8173-db246c18f038"
    },
    {
      "cell_type": "code",
      "execution_count": 96,
      "metadata": {
        "vscode": {
          "languageId": "python"
        },
        "id": "88688402-8cd2-4860-8b7a-7b76e85e3f76",
        "outputId": "112d7f4b-b124-46f3-f584-da166dae66a2",
        "colab": {
          "base_uri": "https://localhost:8080/"
        }
      },
      "outputs": [
        {
          "output_type": "execute_result",
          "data": {
            "text/plain": [
              "3"
            ]
          },
          "metadata": {},
          "execution_count": 96
        }
      ],
      "source": [
        "a.index(True)"
      ],
      "id": "88688402-8cd2-4860-8b7a-7b76e85e3f76"
    },
    {
      "cell_type": "markdown",
      "metadata": {
        "id": "142e1c56-8731-4521-b37e-bca3f36ef3b1"
      },
      "source": [
        "**(insert)**"
      ],
      "id": "142e1c56-8731-4521-b37e-bca3f36ef3b1"
    },
    {
      "cell_type": "code",
      "execution_count": 97,
      "metadata": {
        "vscode": {
          "languageId": "python"
        },
        "id": "e10e36f8-072d-4a05-9d88-8e2492b46507"
      },
      "outputs": [],
      "source": [
        "a=[1,2,3]\n",
        "a.insert?"
      ],
      "id": "e10e36f8-072d-4a05-9d88-8e2492b46507"
    },
    {
      "cell_type": "code",
      "execution_count": 98,
      "metadata": {
        "vscode": {
          "languageId": "python"
        },
        "id": "bdfacd70-6de1-4da4-b970-bbe3d7c9c282",
        "outputId": "c16d79b7-a188-4e4b-ff44-0d6cfb9fd5e7",
        "colab": {
          "base_uri": "https://localhost:8080/"
        }
      },
      "outputs": [
        {
          "output_type": "execute_result",
          "data": {
            "text/plain": [
              "[1, 88, 2, 3]"
            ]
          },
          "metadata": {},
          "execution_count": 98
        }
      ],
      "source": [
        "a.insert(1,88)\n",
        "a"
      ],
      "id": "bdfacd70-6de1-4da4-b970-bbe3d7c9c282"
    },
    {
      "cell_type": "markdown",
      "metadata": {
        "id": "ab35c6ca-78bd-49f1-87d7-39725055fa25"
      },
      "source": [
        "**(pop)**"
      ],
      "id": "ab35c6ca-78bd-49f1-87d7-39725055fa25"
    },
    {
      "cell_type": "code",
      "execution_count": 99,
      "metadata": {
        "vscode": {
          "languageId": "python"
        },
        "id": "3528b269-7de0-4b9c-b2da-876df6b48447"
      },
      "outputs": [],
      "source": [
        "a=['a',1,2,'d']\n",
        "a.pop?"
      ],
      "id": "3528b269-7de0-4b9c-b2da-876df6b48447"
    },
    {
      "cell_type": "code",
      "execution_count": 100,
      "metadata": {
        "vscode": {
          "languageId": "python"
        },
        "id": "0121e8ea-a7a2-47b5-ad64-4cbf471b0cbe",
        "outputId": "f6a7e49b-93d5-4af7-f96a-e9687b96de16",
        "colab": {
          "base_uri": "https://localhost:8080/",
          "height": 36
        }
      },
      "outputs": [
        {
          "output_type": "execute_result",
          "data": {
            "text/plain": [
              "'d'"
            ],
            "application/vnd.google.colaboratory.intrinsic+json": {
              "type": "string"
            }
          },
          "metadata": {},
          "execution_count": 100
        }
      ],
      "source": [
        "a.pop() # index=-1 이므로 마지막원소가 나타남"
      ],
      "id": "0121e8ea-a7a2-47b5-ad64-4cbf471b0cbe"
    },
    {
      "cell_type": "code",
      "execution_count": 101,
      "metadata": {
        "vscode": {
          "languageId": "python"
        },
        "id": "d9d7be83-5f74-450b-be5c-851849d7f343",
        "outputId": "955d3f94-37e0-425d-92cb-086adfcecbd9",
        "colab": {
          "base_uri": "https://localhost:8080/"
        }
      },
      "outputs": [
        {
          "output_type": "execute_result",
          "data": {
            "text/plain": [
              "['a', 1, 2]"
            ]
          },
          "metadata": {},
          "execution_count": 101
        }
      ],
      "source": [
        "a # a는 마지막 원소가 사라진 상태"
      ],
      "id": "d9d7be83-5f74-450b-be5c-851849d7f343"
    },
    {
      "cell_type": "code",
      "execution_count": 102,
      "metadata": {
        "vscode": {
          "languageId": "python"
        },
        "id": "25aa58d3-1b46-45fe-a6a5-ae60035b0368",
        "outputId": "f5a094cc-654e-471d-ef14-7aa56fdbc601",
        "colab": {
          "base_uri": "https://localhost:8080/",
          "height": 36
        }
      },
      "outputs": [
        {
          "output_type": "execute_result",
          "data": {
            "text/plain": [
              "'a'"
            ],
            "application/vnd.google.colaboratory.intrinsic+json": {
              "type": "string"
            }
          },
          "metadata": {},
          "execution_count": 102
        }
      ],
      "source": [
        "a.pop(0) # index=0 이므로 첫번쨰 원소가 나타남"
      ],
      "id": "25aa58d3-1b46-45fe-a6a5-ae60035b0368"
    },
    {
      "cell_type": "code",
      "execution_count": 103,
      "metadata": {
        "vscode": {
          "languageId": "python"
        },
        "id": "f2e489cd-856d-4f31-a44b-648729fde9fa",
        "outputId": "55124711-19c2-4b39-a274-79959aef1fa2",
        "colab": {
          "base_uri": "https://localhost:8080/"
        }
      },
      "outputs": [
        {
          "output_type": "execute_result",
          "data": {
            "text/plain": [
              "[1, 2]"
            ]
          },
          "metadata": {},
          "execution_count": 103
        }
      ],
      "source": [
        "a # a에는 첫번째 원소가 사라진 상태"
      ],
      "id": "f2e489cd-856d-4f31-a44b-648729fde9fa"
    },
    {
      "cell_type": "markdown",
      "metadata": {
        "id": "f7ee6081-5dc8-40a1-a337-a173ffc0363e"
      },
      "source": [
        "**(remove)**"
      ],
      "id": "f7ee6081-5dc8-40a1-a337-a173ffc0363e"
    },
    {
      "cell_type": "code",
      "execution_count": 104,
      "metadata": {
        "vscode": {
          "languageId": "python"
        },
        "id": "96103ab2-113f-4b17-afb6-eda220b8e3e8"
      },
      "outputs": [],
      "source": [
        "a=['a',2,3,'d']\n",
        "a.remove?"
      ],
      "id": "96103ab2-113f-4b17-afb6-eda220b8e3e8"
    },
    {
      "cell_type": "code",
      "execution_count": 105,
      "metadata": {
        "vscode": {
          "languageId": "python"
        },
        "id": "0f5bbdbc-7538-4f77-af89-5e0566d64c0c"
      },
      "outputs": [],
      "source": [
        "a.remove('d')"
      ],
      "id": "0f5bbdbc-7538-4f77-af89-5e0566d64c0c"
    },
    {
      "cell_type": "code",
      "execution_count": 106,
      "metadata": {
        "vscode": {
          "languageId": "python"
        },
        "id": "aa6de459-bb5c-4ac9-b950-133a2ab6914f",
        "outputId": "0b7fe515-62df-4e60-8056-30577c10e25d",
        "colab": {
          "base_uri": "https://localhost:8080/"
        }
      },
      "outputs": [
        {
          "output_type": "execute_result",
          "data": {
            "text/plain": [
              "['a', 2, 3]"
            ]
          },
          "metadata": {},
          "execution_count": 106
        }
      ],
      "source": [
        "a"
      ],
      "id": "aa6de459-bb5c-4ac9-b950-133a2ab6914f"
    },
    {
      "cell_type": "code",
      "execution_count": 107,
      "metadata": {
        "vscode": {
          "languageId": "python"
        },
        "id": "5a878a34-e3f4-4cc5-b2ec-56b3fa5b8b9d"
      },
      "outputs": [],
      "source": [
        "a.remove('a')"
      ],
      "id": "5a878a34-e3f4-4cc5-b2ec-56b3fa5b8b9d"
    },
    {
      "cell_type": "code",
      "execution_count": 108,
      "metadata": {
        "vscode": {
          "languageId": "python"
        },
        "id": "1db057c1-8567-427e-8cd0-0a5569cafc52",
        "outputId": "0edf3bdc-11fe-42f4-8231-1dc588774be0",
        "colab": {
          "base_uri": "https://localhost:8080/"
        }
      },
      "outputs": [
        {
          "output_type": "execute_result",
          "data": {
            "text/plain": [
              "[2, 3]"
            ]
          },
          "metadata": {},
          "execution_count": 108
        }
      ],
      "source": [
        "a"
      ],
      "id": "1db057c1-8567-427e-8cd0-0a5569cafc52"
    },
    {
      "cell_type": "markdown",
      "metadata": {
        "id": "2595843e-caae-4811-9963-753647e90958"
      },
      "source": [
        "**(reverse)**"
      ],
      "id": "2595843e-caae-4811-9963-753647e90958"
    },
    {
      "cell_type": "code",
      "execution_count": 109,
      "metadata": {
        "vscode": {
          "languageId": "python"
        },
        "id": "d2845a7d-0ed6-40ef-b377-abd20ec460b2"
      },
      "outputs": [],
      "source": [
        "a=[1,2,3,4]\n",
        "a.reverse?"
      ],
      "id": "d2845a7d-0ed6-40ef-b377-abd20ec460b2"
    },
    {
      "cell_type": "code",
      "execution_count": 110,
      "metadata": {
        "vscode": {
          "languageId": "python"
        },
        "id": "6c51b8d5-9dc8-435c-a263-a551daaff75e",
        "outputId": "74ff90e5-7d6a-4586-d426-0bb9ed7185e2",
        "colab": {
          "base_uri": "https://localhost:8080/"
        }
      },
      "outputs": [
        {
          "output_type": "execute_result",
          "data": {
            "text/plain": [
              "[4, 3, 2, 1]"
            ]
          },
          "metadata": {},
          "execution_count": 110
        }
      ],
      "source": [
        "a.reverse()\n",
        "a"
      ],
      "id": "6c51b8d5-9dc8-435c-a263-a551daaff75e"
    },
    {
      "cell_type": "markdown",
      "metadata": {
        "id": "84a59d0d-13c2-4848-9ec9-28ddb85ad963"
      },
      "source": [
        "**(sort)**"
      ],
      "id": "84a59d0d-13c2-4848-9ec9-28ddb85ad963"
    },
    {
      "cell_type": "code",
      "execution_count": 111,
      "metadata": {
        "vscode": {
          "languageId": "python"
        },
        "id": "c30c02bb-d39b-4da0-8ab7-17044a15acb8"
      },
      "outputs": [],
      "source": [
        "a=[1,3,2,4]\n",
        "a.sort?"
      ],
      "id": "c30c02bb-d39b-4da0-8ab7-17044a15acb8"
    },
    {
      "cell_type": "code",
      "execution_count": 112,
      "metadata": {
        "vscode": {
          "languageId": "python"
        },
        "id": "753e6d97-7235-4005-9289-4e15cfc428f6",
        "outputId": "54c9669b-bac9-4339-9395-76c8cbf0c26d",
        "colab": {
          "base_uri": "https://localhost:8080/"
        }
      },
      "outputs": [
        {
          "output_type": "execute_result",
          "data": {
            "text/plain": [
              "[1, 2, 3, 4]"
            ]
          },
          "metadata": {},
          "execution_count": 112
        }
      ],
      "source": [
        "a.sort()\n",
        "a"
      ],
      "id": "753e6d97-7235-4005-9289-4e15cfc428f6"
    },
    {
      "cell_type": "markdown",
      "metadata": {
        "id": "92dc670b-a031-4886-891a-0d449b84aadb"
      },
      "source": [
        "(다른예제들)"
      ],
      "id": "92dc670b-a031-4886-891a-0d449b84aadb"
    },
    {
      "cell_type": "code",
      "execution_count": 113,
      "metadata": {
        "vscode": {
          "languageId": "python"
        },
        "id": "1924cbc9-1831-41b3-9f44-70fa19e5ac8f",
        "outputId": "d1078db9-08d7-4396-da48-0a79a1863af4",
        "colab": {
          "base_uri": "https://localhost:8080/"
        }
      },
      "outputs": [
        {
          "output_type": "execute_result",
          "data": {
            "text/plain": [
              "['g', 'u', 'e', 'b', 'i', 'n']"
            ]
          },
          "metadata": {},
          "execution_count": 113
        }
      ],
      "source": [
        "a=list('guebin')\n",
        "a"
      ],
      "id": "1924cbc9-1831-41b3-9f44-70fa19e5ac8f"
    },
    {
      "cell_type": "code",
      "execution_count": 114,
      "metadata": {
        "vscode": {
          "languageId": "python"
        },
        "id": "a295fc81-5af0-4b14-8a39-1b59267fce95",
        "outputId": "af5c96c8-6151-4aa6-cb7d-4f649871d2d2",
        "colab": {
          "base_uri": "https://localhost:8080/"
        }
      },
      "outputs": [
        {
          "output_type": "execute_result",
          "data": {
            "text/plain": [
              "['b', 'e', 'g', 'i', 'n', 'u']"
            ]
          },
          "metadata": {},
          "execution_count": 114
        }
      ],
      "source": [
        "a.sort()\n",
        "a"
      ],
      "id": "a295fc81-5af0-4b14-8a39-1b59267fce95"
    },
    {
      "cell_type": "code",
      "execution_count": 115,
      "metadata": {
        "vscode": {
          "languageId": "python"
        },
        "id": "391d1e90-8b24-4f3d-9730-2fef01fd48c2",
        "outputId": "048279b6-5f05-4a9e-f026-2a4e32ccea8c",
        "colab": {
          "base_uri": "https://localhost:8080/"
        }
      },
      "outputs": [
        {
          "output_type": "execute_result",
          "data": {
            "text/plain": [
              "['u', 'n', 'i', 'g', 'e', 'b']"
            ]
          },
          "metadata": {},
          "execution_count": 115
        }
      ],
      "source": [
        "a.sort(reverse=True)\n",
        "a"
      ],
      "id": "391d1e90-8b24-4f3d-9730-2fef01fd48c2"
    },
    {
      "cell_type": "markdown",
      "metadata": {
        "id": "0b25c7c2-43ec-4af5-9260-2dd6911fc650"
      },
      "source": [
        "## 중첩 리스트"
      ],
      "id": "0b25c7c2-43ec-4af5-9260-2dd6911fc650"
    },
    {
      "cell_type": "code",
      "execution_count": 116,
      "metadata": {
        "vscode": {
          "languageId": "python"
        },
        "id": "936ecd8b-e124-4e88-9225-18b860b1dfce",
        "outputId": "38f684cb-ef74-4098-efa1-271ccdafb055",
        "colab": {
          "base_uri": "https://localhost:8080/"
        }
      },
      "outputs": [
        {
          "output_type": "execute_result",
          "data": {
            "text/plain": [
              "[[1, 2, 3], [4, 5, 6], [7, 8, 9]]"
            ]
          },
          "metadata": {},
          "execution_count": 116
        }
      ],
      "source": [
        "A=[[1,2,3],[4,5,6],[7,8,9]]\n",
        "A"
      ],
      "id": "936ecd8b-e124-4e88-9225-18b860b1dfce"
    },
    {
      "cell_type": "code",
      "execution_count": null,
      "metadata": {
        "vscode": {
          "languageId": "python"
        },
        "id": "28fbe186-b866-49c5-bae7-dff285fd184e"
      },
      "outputs": [],
      "source": [
        "A[0][1]"
      ],
      "id": "28fbe186-b866-49c5-bae7-dff285fd184e"
    },
    {
      "cell_type": "markdown",
      "metadata": {
        "id": "fa701b26-08e9-4f6a-9f86-79f90fbb7722"
      },
      "source": [
        "`-` A는 아래와 같은 매트릭스로 이해할 수 있다\n",
        "\n",
        "\\$"
      ],
      "id": "fa701b26-08e9-4f6a-9f86-79f90fbb7722"
    },
    {
      "cell_type": "raw",
      "metadata": {
        "raw_mimetype": "tex",
        "id": "1d2a184d-1b27-4c3b-98f5-c98f81e98c4b"
      },
      "source": [
        "\\begin{bmatrix}\n",
        "1 & 2 & 3 \\\\\n",
        "4 & 5 & 6 \\\\\n",
        "7 & 8 & 9\n",
        "\\end{bmatrix}"
      ],
      "id": "1d2a184d-1b27-4c3b-98f5-c98f81e98c4b"
    },
    {
      "cell_type": "markdown",
      "metadata": {
        "id": "15a754e1-3654-4214-ba85-b1c6aa322436"
      },
      "source": [
        "\\$\n",
        "\n",
        "`-` A에서 (2,1)의 원소를 뽑고싶다 = 4를 뽑고싶다"
      ],
      "id": "15a754e1-3654-4214-ba85-b1c6aa322436"
    },
    {
      "cell_type": "code",
      "execution_count": null,
      "metadata": {
        "vscode": {
          "languageId": "python"
        },
        "id": "f62f9541-d4ba-458b-ad53-41afbe2fd51f"
      },
      "outputs": [],
      "source": [
        "A[1,0]"
      ],
      "id": "f62f9541-d4ba-458b-ad53-41afbe2fd51f"
    },
    {
      "cell_type": "markdown",
      "metadata": {
        "id": "4a710dc8-7959-4f7d-9664-f0b9de6fe411"
      },
      "source": [
        "-   실패"
      ],
      "id": "4a710dc8-7959-4f7d-9664-f0b9de6fe411"
    },
    {
      "cell_type": "code",
      "execution_count": null,
      "metadata": {
        "vscode": {
          "languageId": "python"
        },
        "id": "105a9512-bab8-41cc-b458-0e855c9cdfd6"
      },
      "outputs": [],
      "source": [
        "A[1][0]"
      ],
      "id": "105a9512-bab8-41cc-b458-0e855c9cdfd6"
    },
    {
      "cell_type": "markdown",
      "metadata": {
        "id": "f54097ab-63af-40b8-9dd3-e3566df075be"
      },
      "source": [
        "-   성공\n",
        "\n",
        "`-` 성공의 이유를 분석해보자."
      ],
      "id": "f54097ab-63af-40b8-9dd3-e3566df075be"
    },
    {
      "cell_type": "code",
      "execution_count": null,
      "metadata": {
        "vscode": {
          "languageId": "python"
        },
        "id": "bc638816-5389-4573-9663-c781d320500f"
      },
      "outputs": [],
      "source": [
        "A"
      ],
      "id": "bc638816-5389-4573-9663-c781d320500f"
    },
    {
      "cell_type": "code",
      "execution_count": null,
      "metadata": {
        "vscode": {
          "languageId": "python"
        },
        "id": "099eb138-870a-45d3-8c3d-0511ceaa6242"
      },
      "outputs": [],
      "source": [
        "A[1]"
      ],
      "id": "099eb138-870a-45d3-8c3d-0511ceaa6242"
    },
    {
      "cell_type": "code",
      "execution_count": null,
      "metadata": {
        "vscode": {
          "languageId": "python"
        },
        "id": "48c5563e-9ff8-4cb2-b2e9-839b4fcd7fdb"
      },
      "outputs": [],
      "source": [
        "A[1][0]"
      ],
      "id": "48c5563e-9ff8-4cb2-b2e9-839b4fcd7fdb"
    },
    {
      "cell_type": "markdown",
      "metadata": {
        "id": "144448e1-977c-4328-ae36-f218cdd380ec"
      },
      "source": [
        "`-` 매트릭스는 아니지만 매트릭스 같음! - 1차원 배열을 다차원 배열로\n",
        "확장할 수 있는 기본 아이디어를 제공함\n",
        "\n",
        "## 리스트 컴프리헨션($\\star\\star\\star$)\n",
        "\n",
        "`-` 리스트 컴프리헨션을 이해하기 전에 for문에 대하여 알아보자.\n",
        "\n",
        "\\[예비학습\\] `for`문 벼락치기\n",
        "\n",
        "프로그램안에서 반복해서 무엇인가를 하고싶다 $\\to$ for"
      ],
      "id": "144448e1-977c-4328-ae36-f218cdd380ec"
    },
    {
      "cell_type": "code",
      "execution_count": null,
      "metadata": {
        "vscode": {
          "languageId": "python"
        },
        "id": "440401fc-afd3-4906-8d61-7ccce56e0540",
        "outputId": "b7d12794-b4fa-4aad-9a9e-c30ea74a296b"
      },
      "outputs": [
        {
          "output_type": "stream",
          "name": "stdout",
          "text": [
            "0\n",
            "1\n",
            "2\n",
            "3"
          ]
        }
      ],
      "source": [
        "for i in [0,1,2,3]: ## 반복실행계획\n",
        "    print(i) ## 반복실행할내용, 탭을이용하여 들여쓰기해야한다."
      ],
      "id": "440401fc-afd3-4906-8d61-7ccce56e0540"
    },
    {
      "cell_type": "markdown",
      "metadata": {
        "id": "99f79d4e-d12f-4c54-94c0-f6775263de47"
      },
      "source": [
        "(예제) 1,2,3,4의 합을 for문을 이용하여 구해보자."
      ],
      "id": "99f79d4e-d12f-4c54-94c0-f6775263de47"
    },
    {
      "cell_type": "code",
      "execution_count": null,
      "metadata": {
        "vscode": {
          "languageId": "python"
        },
        "id": "c79afa09-03ee-4e8a-8e17-f6bdf10dde07"
      },
      "outputs": [],
      "source": [
        "_sum = 0\n",
        "for i in [1,2,3,4]:\n",
        "    _sum = _sum + i"
      ],
      "id": "c79afa09-03ee-4e8a-8e17-f6bdf10dde07"
    },
    {
      "cell_type": "code",
      "execution_count": null,
      "metadata": {
        "vscode": {
          "languageId": "python"
        },
        "id": "358a52f8-f5e5-48f4-bcbe-3a02a38fa4dd"
      },
      "outputs": [],
      "source": [
        "_sum = 0\n",
        "i=1\n",
        "_sum = _sum + i ## 1 <= 0+1\n",
        "i=2\n",
        "_sum = _sum + i ## 3 <= 1+2\n",
        "i=3\n",
        "_sum = _sum + i ## 6 <= 3+3\n",
        "i=4\n",
        "_sum = _sum + i ## 10 <= 6+4"
      ],
      "id": "358a52f8-f5e5-48f4-bcbe-3a02a38fa4dd"
    },
    {
      "cell_type": "code",
      "execution_count": null,
      "metadata": {
        "vscode": {
          "languageId": "python"
        },
        "id": "5c552ef2-9144-4482-b3f6-09ade20ae1cc"
      },
      "outputs": [],
      "source": [
        "_sum"
      ],
      "id": "5c552ef2-9144-4482-b3f6-09ade20ae1cc"
    },
    {
      "cell_type": "markdown",
      "metadata": {
        "id": "37014622-6c52-4389-be33-853f524ce584"
      },
      "source": [
        "예비학습끝\n",
        "\n",
        "`-` 예제: $2^0, 2^1, 2^2, 2^3$를 원소로 가지는 리스트를 생성하라.\n",
        "\n",
        "(풀이1) 직접입력"
      ],
      "id": "37014622-6c52-4389-be33-853f524ce584"
    },
    {
      "cell_type": "code",
      "execution_count": null,
      "metadata": {
        "vscode": {
          "languageId": "python"
        },
        "id": "12aa1a7b-a1cc-486c-9b2b-f6f6c20df411"
      },
      "outputs": [],
      "source": [
        "x= [2**0, 2**1, 2**2, 2**3]\n",
        "x"
      ],
      "id": "12aa1a7b-a1cc-486c-9b2b-f6f6c20df411"
    },
    {
      "cell_type": "markdown",
      "metadata": {
        "id": "ae97dace-48ef-46c5-a051-87b54346943c"
      },
      "source": [
        "(풀이2) for문을 이용함"
      ],
      "id": "ae97dace-48ef-46c5-a051-87b54346943c"
    },
    {
      "cell_type": "code",
      "execution_count": null,
      "metadata": {
        "vscode": {
          "languageId": "python"
        },
        "id": "d611cdc0-3698-4dc2-a833-5b7e49d04f3a"
      },
      "outputs": [],
      "source": [
        "x=[]\n",
        "for i in [0,1,2,3]:\n",
        "    x.append(2**i)"
      ],
      "id": "d611cdc0-3698-4dc2-a833-5b7e49d04f3a"
    },
    {
      "cell_type": "code",
      "execution_count": null,
      "metadata": {
        "vscode": {
          "languageId": "python"
        },
        "id": "bf944224-bfa7-4577-98d5-c2b51e5a8294"
      },
      "outputs": [],
      "source": [
        "x"
      ],
      "id": "bf944224-bfa7-4577-98d5-c2b51e5a8294"
    },
    {
      "cell_type": "markdown",
      "metadata": {
        "id": "d238fbc4-938f-477c-9b05-675fde6944a8"
      },
      "source": [
        "(풀이3) for문을 이용함"
      ],
      "id": "d238fbc4-938f-477c-9b05-675fde6944a8"
    },
    {
      "cell_type": "code",
      "execution_count": null,
      "metadata": {
        "vscode": {
          "languageId": "python"
        },
        "id": "ae2f99cf-4508-4199-b992-58f711d82094"
      },
      "outputs": [],
      "source": [
        "x=[]\n",
        "for i in [0,1,2,3]:\n",
        "    x = x+[2**i]"
      ],
      "id": "ae2f99cf-4508-4199-b992-58f711d82094"
    },
    {
      "cell_type": "code",
      "execution_count": null,
      "metadata": {
        "vscode": {
          "languageId": "python"
        },
        "id": "b83b880b-da25-4a02-8056-113511b1214d"
      },
      "outputs": [],
      "source": [
        "x"
      ],
      "id": "b83b880b-da25-4a02-8056-113511b1214d"
    },
    {
      "cell_type": "markdown",
      "metadata": {
        "id": "8fa44150-d97a-4432-ad0e-b8e59027367e"
      },
      "source": [
        "(풀이4) for문을 이용함"
      ],
      "id": "8fa44150-d97a-4432-ad0e-b8e59027367e"
    },
    {
      "cell_type": "code",
      "execution_count": null,
      "metadata": {
        "vscode": {
          "languageId": "python"
        },
        "id": "38d1b044-ab76-49f9-8616-5b247b46945c"
      },
      "outputs": [],
      "source": [
        "x=[]\n",
        "for i in [0,1,2,3]:\n",
        "    x += [2**i]"
      ],
      "id": "38d1b044-ab76-49f9-8616-5b247b46945c"
    },
    {
      "cell_type": "code",
      "execution_count": null,
      "metadata": {
        "vscode": {
          "languageId": "python"
        },
        "id": "9f25a95e-5c05-40f8-bdd8-39cddc3bead7"
      },
      "outputs": [],
      "source": [
        "x"
      ],
      "id": "9f25a95e-5c05-40f8-bdd8-39cddc3bead7"
    },
    {
      "cell_type": "markdown",
      "metadata": {
        "id": "ba3593e2-cbf0-4654-ae81-9523e04a5f50"
      },
      "source": [
        "(풀이5) 리스트컴프리헨션을 이용한 풀이"
      ],
      "id": "ba3593e2-cbf0-4654-ae81-9523e04a5f50"
    },
    {
      "cell_type": "code",
      "execution_count": null,
      "metadata": {
        "vscode": {
          "languageId": "python"
        },
        "id": "42f802ab-3e0d-4b6b-a67b-010b83ed293d"
      },
      "outputs": [],
      "source": [
        "x= [2**i for i in [0,1,2,3]]\n",
        "x"
      ],
      "id": "42f802ab-3e0d-4b6b-a67b-010b83ed293d"
    },
    {
      "cell_type": "markdown",
      "metadata": {
        "id": "8f0be546-5f66-410e-ae4d-f3bbf673264c"
      },
      "source": [
        "`-` 리스트컴프리헨션의 문법 암기방법\n",
        "\n",
        "-   집합에서 조건제시법을 연상\n",
        "-   $\\{2^0,2^1,2^2,2^3\\}=\\{2^i: \\text{ for } i = 0,1,2,3 \\}$\n",
        "\n",
        "`-` 리스트컴프리헨션이란?\n",
        "\n",
        "-   리스트를 매우 효율적으로 만드는 테크닉\n",
        "-   for문에 비하여 가지고 있는 장점: (1) 코드가 간결하다 (2) 빠르다\n",
        "\n",
        "`-` 예제: 리스트 컴프리헨션을 이용하여 아래와 같은 리스트를 만들어라."
      ],
      "id": "8f0be546-5f66-410e-ae4d-f3bbf673264c"
    },
    {
      "cell_type": "code",
      "execution_count": null,
      "metadata": {
        "vscode": {
          "languageId": "python"
        },
        "id": "682dbdbc-84de-4e2c-9427-d9a84de2e9d1"
      },
      "outputs": [],
      "source": [
        "['SSSS','PPPP','AAAA','MMMM']"
      ],
      "id": "682dbdbc-84de-4e2c-9427-d9a84de2e9d1"
    },
    {
      "cell_type": "markdown",
      "metadata": {
        "id": "a7453b65-09b8-48c1-bada-5abe2ac1bec0"
      },
      "source": [
        "(풀이)"
      ],
      "id": "a7453b65-09b8-48c1-bada-5abe2ac1bec0"
    },
    {
      "cell_type": "code",
      "execution_count": null,
      "metadata": {
        "vscode": {
          "languageId": "python"
        },
        "id": "45b3faee-0d0b-46d5-a237-130da1907230"
      },
      "outputs": [],
      "source": [
        "[i*4 for i in 'SPAM']"
      ],
      "id": "45b3faee-0d0b-46d5-a237-130da1907230"
    },
    {
      "cell_type": "markdown",
      "metadata": {
        "id": "8ac6875e-94b4-436f-9fca-6fd887c4eb99"
      },
      "source": [
        "`-` 예제: 리스트컴프리헨션을 이용하여 아래와 같은 리스트를 만들어라."
      ],
      "id": "8ac6875e-94b4-436f-9fca-6fd887c4eb99"
    },
    {
      "cell_type": "code",
      "execution_count": null,
      "metadata": {
        "vscode": {
          "languageId": "python"
        },
        "id": "e666cacd-b6fe-4f4d-a062-82b17bff36ef"
      },
      "outputs": [],
      "source": [
        "['X1','X2','X3','Y1','Y2','Y3']"
      ],
      "id": "e666cacd-b6fe-4f4d-a062-82b17bff36ef"
    },
    {
      "cell_type": "markdown",
      "metadata": {
        "id": "a521f371-10a3-4c18-b7d4-d6715ff451ed"
      },
      "source": [
        "(풀이)"
      ],
      "id": "a521f371-10a3-4c18-b7d4-d6715ff451ed"
    },
    {
      "cell_type": "code",
      "execution_count": 127,
      "metadata": {
        "vscode": {
          "languageId": "python"
        },
        "id": "39f6611e-0c60-4325-b547-223ada911fa0",
        "outputId": "b970c3ce-3231-43d3-9e0c-4813077f1c16",
        "colab": {
          "base_uri": "https://localhost:8080/"
        }
      },
      "outputs": [
        {
          "output_type": "execute_result",
          "data": {
            "text/plain": [
              "['X1', 'X2', 'X3', 'Y1', 'Y2', 'Y3']"
            ]
          },
          "metadata": {},
          "execution_count": 127
        }
      ],
      "source": [
        "[i+j for i in 'XY' for j in '123']"
      ],
      "id": "39f6611e-0c60-4325-b547-223ada911fa0"
    },
    {
      "cell_type": "markdown",
      "metadata": {
        "id": "768d0cb3-de79-458d-8474-361673ff3dd3"
      },
      "source": [
        "`-` 예제: 리스트컴프리헨션을 이용하여 통계1,…,통계5,수학1,…,수학5를\n",
        "만들어라.\n",
        "\n",
        "(풀이)"
      ],
      "id": "768d0cb3-de79-458d-8474-361673ff3dd3"
    },
    {
      "cell_type": "code",
      "execution_count": null,
      "metadata": {
        "vscode": {
          "languageId": "python"
        },
        "id": "9edab9ac-872d-44b7-a179-b1ff651a889e"
      },
      "outputs": [],
      "source": [
        "[x+y for x in ['stat','math'] for y in '12345']"
      ],
      "id": "9edab9ac-872d-44b7-a179-b1ff651a889e"
    },
    {
      "cell_type": "markdown",
      "metadata": {
        "id": "6f2ec3b0-66cb-4389-bdf5-db60098f3cd5"
      },
      "source": [
        "-   $\\{xy : x \\in \\{{\\tt stat},{\\tt math}\\}, y \\in \\{1,2,3,4,5\\} \\}$\n",
        "\n",
        "(다른풀이) 참고로 for문을 쓰면 좀 복잡해진다."
      ],
      "id": "6f2ec3b0-66cb-4389-bdf5-db60098f3cd5"
    },
    {
      "cell_type": "code",
      "execution_count": null,
      "metadata": {
        "vscode": {
          "languageId": "python"
        },
        "id": "9ce3fb96-444b-4da4-b1ec-b753350046da"
      },
      "outputs": [],
      "source": [
        "_lst = []\n",
        "for x in ['stat','math']:\n",
        "    for y in '12345':\n",
        "        _lst = _lst + [x+y]"
      ],
      "id": "9ce3fb96-444b-4da4-b1ec-b753350046da"
    },
    {
      "cell_type": "code",
      "execution_count": null,
      "metadata": {
        "vscode": {
          "languageId": "python"
        },
        "id": "767473d9-c321-439e-84e9-c00f6dc0cda3"
      },
      "outputs": [],
      "source": [
        "_lst"
      ],
      "id": "767473d9-c321-439e-84e9-c00f6dc0cda3"
    },
    {
      "cell_type": "markdown",
      "metadata": {
        "id": "8db66ee7-0f64-4a66-9457-348070079545"
      },
      "source": [
        "`-` 예제: ’jbnu’를 이용하여 아래와 같은 리스트를 만들어라.\n",
        "(리스트컴프리헨션을 이용할것)"
      ],
      "id": "8db66ee7-0f64-4a66-9457-348070079545"
    },
    {
      "cell_type": "code",
      "execution_count": null,
      "metadata": {
        "vscode": {
          "languageId": "python"
        },
        "id": "57312414-7aed-4212-a989-94e824ed5e89"
      },
      "outputs": [],
      "source": [
        "['j','b','n','u']"
      ],
      "id": "57312414-7aed-4212-a989-94e824ed5e89"
    },
    {
      "cell_type": "markdown",
      "metadata": {
        "id": "3bfc89b7-7287-48c5-8c88-36d3cd2c7499"
      },
      "source": [
        "(다른풀이) 아래와 같이 풀면 된다는것은 알고 있음"
      ],
      "id": "3bfc89b7-7287-48c5-8c88-36d3cd2c7499"
    },
    {
      "cell_type": "code",
      "execution_count": null,
      "metadata": {
        "vscode": {
          "languageId": "python"
        },
        "id": "fa284b60-d845-4150-a8e7-4ffff6770b8c"
      },
      "outputs": [],
      "source": [
        "list('jbnu')"
      ],
      "id": "fa284b60-d845-4150-a8e7-4ffff6770b8c"
    },
    {
      "cell_type": "markdown",
      "metadata": {
        "id": "e7d02331-14c3-4d9a-8fe0-121db019bb39"
      },
      "source": [
        "(풀이)"
      ],
      "id": "e7d02331-14c3-4d9a-8fe0-121db019bb39"
    },
    {
      "cell_type": "code",
      "execution_count": null,
      "metadata": {
        "vscode": {
          "languageId": "python"
        },
        "id": "558105d6-00a7-4704-89bc-6764b0749fc7"
      },
      "outputs": [],
      "source": [
        "[x for x in 'jbnu']"
      ],
      "id": "558105d6-00a7-4704-89bc-6764b0749fc7"
    },
    {
      "cell_type": "markdown",
      "metadata": {
        "id": "99d20892-85e4-4eac-8a68-cabcdbc52577"
      },
      "source": [
        "`-` 예제: x에는 무엇이 있을까?\n",
        "\n",
        "(경우1)"
      ],
      "id": "99d20892-85e4-4eac-8a68-cabcdbc52577"
    },
    {
      "cell_type": "code",
      "execution_count": null,
      "metadata": {
        "vscode": {
          "languageId": "python"
        },
        "id": "802dc660-68b4-4153-97f4-a5043b6bc1b6"
      },
      "outputs": [],
      "source": [
        "x=1\n",
        "lst = []\n",
        "for x in 'jbnu':\n",
        "    lst = lst + [x]\n",
        "lst"
      ],
      "id": "802dc660-68b4-4153-97f4-a5043b6bc1b6"
    },
    {
      "cell_type": "code",
      "execution_count": null,
      "metadata": {
        "vscode": {
          "languageId": "python"
        },
        "id": "538428eb-b5a6-45b3-b8ee-f8c31bb454fa"
      },
      "outputs": [],
      "source": [
        "x"
      ],
      "id": "538428eb-b5a6-45b3-b8ee-f8c31bb454fa"
    },
    {
      "cell_type": "markdown",
      "metadata": {
        "id": "bd33c652-38ec-497e-b119-d35a96bf6f41"
      },
      "source": [
        "(경우2)"
      ],
      "id": "bd33c652-38ec-497e-b119-d35a96bf6f41"
    },
    {
      "cell_type": "code",
      "execution_count": null,
      "metadata": {
        "vscode": {
          "languageId": "python"
        },
        "id": "ce6ad313-564f-483f-a88d-3897a0ba9cad"
      },
      "outputs": [],
      "source": [
        "x=1\n",
        "lst = [x for x in 'jbnu']\n",
        "lst"
      ],
      "id": "ce6ad313-564f-483f-a88d-3897a0ba9cad"
    },
    {
      "cell_type": "code",
      "execution_count": null,
      "metadata": {
        "vscode": {
          "languageId": "python"
        },
        "id": "cf7e503a-9361-4ac5-943b-b981d728b765"
      },
      "outputs": [],
      "source": [
        "x"
      ],
      "id": "cf7e503a-9361-4ac5-943b-b981d728b765"
    },
    {
      "cell_type": "markdown",
      "metadata": {
        "id": "49df2033-00c7-4d3f-8884-2afc423ba70b"
      },
      "source": [
        "-   진짜 미묘하게 다르죠?\n",
        "\n",
        "`-` 예제: \\[X1,X2,X3,…,X100\\]와 같은 리스트를 만들어보라.\n",
        "\n",
        "(풀이)"
      ],
      "id": "49df2033-00c7-4d3f-8884-2afc423ba70b"
    },
    {
      "cell_type": "code",
      "execution_count": 128,
      "metadata": {
        "vscode": {
          "languageId": "python"
        },
        "id": "1d74be6e-96e6-45ad-8627-7dfd6a5a5066",
        "outputId": "d0645af0-b623-4a6d-a5ec-9113c81a64c8",
        "colab": {
          "base_uri": "https://localhost:8080/"
        }
      },
      "outputs": [
        {
          "output_type": "execute_result",
          "data": {
            "text/plain": [
              "['X1', 'X2', 'X3', 'X4']"
            ]
          },
          "metadata": {},
          "execution_count": 128
        }
      ],
      "source": [
        "['X'+str(i) for i in [1,2,3,4]] ## 이걸 4까지가 아니라 100까지 써야함"
      ],
      "id": "1d74be6e-96e6-45ad-8627-7dfd6a5a5066"
    },
    {
      "cell_type": "code",
      "execution_count": null,
      "metadata": {
        "vscode": {
          "languageId": "python"
        },
        "id": "72e01988-8635-446c-9346-eb0ab4643813"
      },
      "outputs": [],
      "source": [
        "['X'+str(i) for i in range(1, 101)]"
      ],
      "id": "72e01988-8635-446c-9346-eb0ab4643813"
    },
    {
      "cell_type": "markdown",
      "metadata": {
        "id": "5f053e57-05f3-4d9a-989d-31360781113d"
      },
      "source": [
        "\\[예비학습\\]"
      ],
      "id": "5f053e57-05f3-4d9a-989d-31360781113d"
    },
    {
      "cell_type": "code",
      "execution_count": null,
      "metadata": {
        "vscode": {
          "languageId": "python"
        },
        "id": "5760c2c3-3322-4afc-819d-8bcaaacafea7"
      },
      "outputs": [],
      "source": [
        "range(0,10)"
      ],
      "id": "5760c2c3-3322-4afc-819d-8bcaaacafea7"
    },
    {
      "cell_type": "markdown",
      "metadata": {
        "id": "8cc62c43-b39f-4caf-b6ff-fa801f83c249"
      },
      "source": [
        "-   이게뭐야?"
      ],
      "id": "8cc62c43-b39f-4caf-b6ff-fa801f83c249"
    },
    {
      "cell_type": "code",
      "execution_count": null,
      "metadata": {
        "vscode": {
          "languageId": "python"
        },
        "id": "ed9711e3-1898-4ffc-955c-047cff342e6e"
      },
      "outputs": [],
      "source": [
        "_tmp = range(0,10)\n",
        "_tmp?"
      ],
      "id": "ed9711e3-1898-4ffc-955c-047cff342e6e"
    },
    {
      "cell_type": "markdown",
      "metadata": {
        "id": "2c790bbd-9b9b-4d2f-9be2-130e8784354d"
      },
      "source": [
        "-   우리가 아는 범위에서는 모르겠음.. 이런게 있나보다 하고 넘어가야\n",
        "    하겠음"
      ],
      "id": "2c790bbd-9b9b-4d2f-9be2-130e8784354d"
    },
    {
      "cell_type": "code",
      "execution_count": null,
      "metadata": {
        "vscode": {
          "languageId": "python"
        },
        "id": "721081d5-689f-4265-8d59-073990250541"
      },
      "outputs": [],
      "source": [
        "list(range(0,10)) # 0을 포함, 10을 미포함"
      ],
      "id": "721081d5-689f-4265-8d59-073990250541"
    },
    {
      "cell_type": "markdown",
      "metadata": {
        "id": "33e88e2a-90b5-41a7-b956-295f74e5f90b"
      },
      "source": [
        "-   이게 중요한것임. range(0,10)를 리스트화시키면 \\[0,1,2,…,9\\] 와 같은\n",
        "    리스트를 얻을 수 있음."
      ],
      "id": "33e88e2a-90b5-41a7-b956-295f74e5f90b"
    },
    {
      "cell_type": "code",
      "execution_count": null,
      "metadata": {
        "vscode": {
          "languageId": "python"
        },
        "id": "942e79c0-c819-4be5-8ad8-b14c65e28c28"
      },
      "outputs": [],
      "source": [
        "list(range(10)) # 0은 생략가능"
      ],
      "id": "942e79c0-c819-4be5-8ad8-b14c65e28c28"
    },
    {
      "cell_type": "code",
      "execution_count": null,
      "metadata": {
        "vscode": {
          "languageId": "python"
        },
        "id": "ae8c59be-dcde-47e3-89a4-9ff87958d044"
      },
      "outputs": [],
      "source": [
        "list(range(2,10)) # 2는 포함, 10은 미포함"
      ],
      "id": "ae8c59be-dcde-47e3-89a4-9ff87958d044"
    },
    {
      "cell_type": "code",
      "execution_count": null,
      "metadata": {
        "vscode": {
          "languageId": "python"
        },
        "id": "127b7538-190d-49cf-916c-b0f108fae7ab"
      },
      "outputs": [],
      "source": [
        "list(range(1,10,2)) # 2는 포함, 10은 미포함"
      ],
      "id": "127b7538-190d-49cf-916c-b0f108fae7ab"
    },
    {
      "cell_type": "markdown",
      "metadata": {
        "id": "0c627b36-e4ea-4688-ad9d-785e4f175400"
      },
      "source": [
        "예비학습 끝"
      ],
      "id": "0c627b36-e4ea-4688-ad9d-785e4f175400"
    },
    {
      "cell_type": "code",
      "execution_count": null,
      "metadata": {
        "vscode": {
          "languageId": "python"
        },
        "id": "9b8a596f-8301-46a7-ae06-4db31422b2c7"
      },
      "outputs": [],
      "source": [
        "['X'+str(i) for i in list(range(1,13))] ## 출력결과가 너무 기니까 101대신에 13으로 변경"
      ],
      "id": "9b8a596f-8301-46a7-ae06-4db31422b2c7"
    },
    {
      "cell_type": "markdown",
      "metadata": {
        "id": "02e78c92-f46e-48f8-93b1-47689dfa5b13"
      },
      "source": [
        "(아래와 같은 풀이도 가능)"
      ],
      "id": "02e78c92-f46e-48f8-93b1-47689dfa5b13"
    },
    {
      "cell_type": "code",
      "execution_count": null,
      "metadata": {
        "vscode": {
          "languageId": "python"
        },
        "id": "9551979c-09bf-436d-8271-cca911654587"
      },
      "outputs": [],
      "source": [
        "['X'+str(i) for i in range(1,13)] ## 출력결과가 너무 기니까 101대신에 13으로 변경"
      ],
      "id": "9551979c-09bf-436d-8271-cca911654587"
    },
    {
      "cell_type": "markdown",
      "metadata": {
        "id": "6ba618bd-24b9-4790-8206-3b00fa122e78"
      },
      "source": [
        "(딴생각) 생각해보니까 for문 뒤에 올 수 있는것이 무엇인지 생각하는것도\n",
        "흥미로울듯"
      ],
      "id": "6ba618bd-24b9-4790-8206-3b00fa122e78"
    },
    {
      "cell_type": "code",
      "execution_count": null,
      "metadata": {
        "vscode": {
          "languageId": "python"
        },
        "id": "5ca9eb77-e4b1-4642-b56d-d8e92a4f8ade",
        "outputId": "6cf64308-0aa5-40d6-d7f1-70504aabcc20"
      },
      "outputs": [
        {
          "output_type": "stream",
          "name": "stdout",
          "text": [
            "1\n",
            "2\n",
            "3\n",
            "4"
          ]
        }
      ],
      "source": [
        "for i in '1234':\n",
        "    print(i)"
      ],
      "id": "5ca9eb77-e4b1-4642-b56d-d8e92a4f8ade"
    },
    {
      "cell_type": "code",
      "execution_count": null,
      "metadata": {
        "vscode": {
          "languageId": "python"
        },
        "id": "28b2a7d3-1da8-4010-b236-e6a29fd8201c",
        "outputId": "7fd49774-9008-41e7-cf69-828c1d6b542a"
      },
      "outputs": [
        {
          "output_type": "stream",
          "name": "stdout",
          "text": [
            "1\n",
            "2\n",
            "3\n",
            "4"
          ]
        }
      ],
      "source": [
        "for i in [1,2,3,4]:\n",
        "    print(i)"
      ],
      "id": "28b2a7d3-1da8-4010-b236-e6a29fd8201c"
    },
    {
      "cell_type": "code",
      "execution_count": null,
      "metadata": {
        "vscode": {
          "languageId": "python"
        },
        "id": "3c9c23ee-7174-4419-902a-393063e5ed46",
        "outputId": "1e7a18ea-91de-4bc1-b93c-73ad1b8339e8"
      },
      "outputs": [
        {
          "output_type": "stream",
          "name": "stdout",
          "text": [
            "1\n",
            "2\n",
            "3\n",
            "4"
          ]
        }
      ],
      "source": [
        "for i in (1,2,3,4): # (1,2,3,4)는 튜플\n",
        "    print(i)"
      ],
      "id": "3c9c23ee-7174-4419-902a-393063e5ed46"
    },
    {
      "cell_type": "code",
      "execution_count": null,
      "metadata": {
        "vscode": {
          "languageId": "python"
        },
        "id": "720185de-c15d-4bf7-a78a-ae5f66c09b1c",
        "outputId": "aa5a9671-ed19-434b-f492-f57ffbcc7133"
      },
      "outputs": [
        {
          "output_type": "stream",
          "name": "stdout",
          "text": [
            "1\n",
            "2\n",
            "3\n",
            "4"
          ]
        }
      ],
      "source": [
        "for i in {1,2,3,4}: # {1,2,3,4}는 set\n",
        "    print(i)"
      ],
      "id": "720185de-c15d-4bf7-a78a-ae5f66c09b1c"
    },
    {
      "cell_type": "code",
      "execution_count": 131,
      "metadata": {
        "vscode": {
          "languageId": "python"
        },
        "id": "738a9f95-b98a-4950-be9d-fa3f63ca2d71",
        "outputId": "9b454bb2-e9ea-45fe-cbc1-bf83903acc5a",
        "colab": {
          "base_uri": "https://localhost:8080/"
        }
      },
      "outputs": [
        {
          "output_type": "stream",
          "name": "stdout",
          "text": [
            "name\n",
            "age\n"
          ]
        }
      ],
      "source": [
        "for i in {'name':'iu','age':28}: #{'name':'iu','age':28} 는 딕셔너리\n",
        "    print(i)"
      ],
      "id": "738a9f95-b98a-4950-be9d-fa3f63ca2d71"
    },
    {
      "cell_type": "code",
      "execution_count": 132,
      "metadata": {
        "vscode": {
          "languageId": "python"
        },
        "id": "ef8e44dc-5db2-41b7-aa1f-f0d42392e5e6",
        "outputId": "1168ad6c-5ddc-44ac-a035-83fdd2cfa493",
        "colab": {
          "base_uri": "https://localhost:8080/"
        }
      },
      "outputs": [
        {
          "output_type": "stream",
          "name": "stdout",
          "text": [
            "1\n",
            "2\n",
            "3\n",
            "4\n"
          ]
        }
      ],
      "source": [
        "for i in range(1,5):\n",
        "    print(i)"
      ],
      "id": "ef8e44dc-5db2-41b7-aa1f-f0d42392e5e6"
    },
    {
      "cell_type": "markdown",
      "metadata": {
        "id": "2bfcfb4d-ba78-49e4-9e29-d4fd708fcb28"
      },
      "source": [
        "# tuple\n",
        "\n",
        "## 리스트 vs 튜플\n",
        "\n",
        "`-` 컨테이너형타입이라는 점, 그리고 연산 및 인덱싱을 하는 방법은\n",
        "리스트와 같음\n",
        "\n",
        "-   차이점1: \\[\\] 대신에 ()를 사용한다.\n",
        "-   차이점2: 불변형이다. (원소의 값을 바꿀 수 없음)\n",
        "-   차이점3: 하나의 원소를 선언할 때는 (1,)와 같이 해야 한다.\n",
        "-   차이점4: 의미가 명확할때는 튜플의 ()를 생략가능하다.\n",
        "\n",
        "`-` 컨테이너형이라는 것이 무슨의미?"
      ],
      "id": "2bfcfb4d-ba78-49e4-9e29-d4fd708fcb28"
    },
    {
      "cell_type": "code",
      "execution_count": null,
      "metadata": {
        "vscode": {
          "languageId": "python"
        },
        "id": "be653adc-efdb-4688-ac73-d7aeb4dc9341"
      },
      "outputs": [],
      "source": [
        "a=(4,6,'pencil', 3.2+4.6j, [3,4])"
      ],
      "id": "be653adc-efdb-4688-ac73-d7aeb4dc9341"
    },
    {
      "cell_type": "code",
      "execution_count": null,
      "metadata": {
        "vscode": {
          "languageId": "python"
        },
        "id": "8791af85-4a26-4c99-b62c-b94b36ae856e"
      },
      "outputs": [],
      "source": [
        "type(a[2])"
      ],
      "id": "8791af85-4a26-4c99-b62c-b94b36ae856e"
    },
    {
      "cell_type": "code",
      "execution_count": null,
      "metadata": {
        "vscode": {
          "languageId": "python"
        },
        "id": "229495fc-6a95-4609-af61-c6357810890e"
      },
      "outputs": [],
      "source": [
        "type(a[3])"
      ],
      "id": "229495fc-6a95-4609-af61-c6357810890e"
    },
    {
      "cell_type": "markdown",
      "metadata": {
        "id": "aebb0d04-bc6c-451c-88b0-4c0829c9b5ed"
      },
      "source": [
        "`-` 불변형이라는 것은 무슨의미?"
      ],
      "id": "aebb0d04-bc6c-451c-88b0-4c0829c9b5ed"
    },
    {
      "cell_type": "code",
      "execution_count": null,
      "metadata": {
        "vscode": {
          "languageId": "python"
        },
        "id": "32765cd4-20af-4181-a688-49aa1467c046"
      },
      "outputs": [],
      "source": [
        "a[2] = 'Pencil'"
      ],
      "id": "32765cd4-20af-4181-a688-49aa1467c046"
    },
    {
      "cell_type": "markdown",
      "metadata": {
        "id": "5c8721d4-948c-4c5d-a9e0-ebf856df2ded"
      },
      "source": [
        "참고로 a를 튜플이 아니라 리스트로 선언하면 값이 잘 바뀐다."
      ],
      "id": "5c8721d4-948c-4c5d-a9e0-ebf856df2ded"
    },
    {
      "cell_type": "code",
      "execution_count": null,
      "metadata": {
        "vscode": {
          "languageId": "python"
        },
        "id": "05e6dca5-0814-462a-923c-879efa9f5491"
      },
      "outputs": [],
      "source": [
        "a=[4,6,'pencil', 3.2+4.6j, [3,4]]"
      ],
      "id": "05e6dca5-0814-462a-923c-879efa9f5491"
    },
    {
      "cell_type": "code",
      "execution_count": null,
      "metadata": {
        "vscode": {
          "languageId": "python"
        },
        "id": "5c12b691-564a-45de-8ac8-0392930fac2b"
      },
      "outputs": [],
      "source": [
        "a[2]"
      ],
      "id": "5c12b691-564a-45de-8ac8-0392930fac2b"
    },
    {
      "cell_type": "code",
      "execution_count": null,
      "metadata": {
        "vscode": {
          "languageId": "python"
        },
        "id": "e2238787-bebc-4724-938f-6d0ae403d261"
      },
      "outputs": [],
      "source": [
        "a[2]='Pencil'"
      ],
      "id": "e2238787-bebc-4724-938f-6d0ae403d261"
    },
    {
      "cell_type": "code",
      "execution_count": null,
      "metadata": {
        "vscode": {
          "languageId": "python"
        },
        "id": "98e63720-6bf2-43e6-b3a7-c248a5b3319f"
      },
      "outputs": [],
      "source": [
        "a"
      ],
      "id": "98e63720-6bf2-43e6-b3a7-c248a5b3319f"
    },
    {
      "cell_type": "markdown",
      "metadata": {
        "id": "f8661488-53cd-438f-819e-8f0f91ef2ddf"
      },
      "source": [
        "`-` 하나의 원소로 이루어진 튜플을 만들때는 쉼표를 붙여야 함."
      ],
      "id": "f8661488-53cd-438f-819e-8f0f91ef2ddf"
    },
    {
      "cell_type": "code",
      "execution_count": null,
      "metadata": {
        "vscode": {
          "languageId": "python"
        },
        "id": "358692de-8c86-492e-baee-eee02251a3f3"
      },
      "outputs": [],
      "source": [
        "[1]+[2,3,4]"
      ],
      "id": "358692de-8c86-492e-baee-eee02251a3f3"
    },
    {
      "cell_type": "code",
      "execution_count": null,
      "metadata": {
        "vscode": {
          "languageId": "python"
        },
        "id": "549648b8-1645-4d60-9d49-a38d3adf6d3e"
      },
      "outputs": [],
      "source": [
        "(1,)+(2,3,4)"
      ],
      "id": "549648b8-1645-4d60-9d49-a38d3adf6d3e"
    },
    {
      "cell_type": "markdown",
      "metadata": {
        "id": "b6a6f04e-2973-4804-b1c1-85cf2dc9cb8e"
      },
      "source": [
        "`-` 리스트와 중요한 차이점! 의미가 명확할때 튜플의 괄호는 생략가능하다.\n",
        "(이게 중요합니다)"
      ],
      "id": "b6a6f04e-2973-4804-b1c1-85cf2dc9cb8e"
    },
    {
      "cell_type": "code",
      "execution_count": null,
      "metadata": {
        "vscode": {
          "languageId": "python"
        },
        "id": "60ac57f1-a1a8-4ea2-b3f1-9ac30324e7b3"
      },
      "outputs": [],
      "source": [
        "a=1,2\n",
        "a"
      ],
      "id": "60ac57f1-a1a8-4ea2-b3f1-9ac30324e7b3"
    },
    {
      "cell_type": "markdown",
      "metadata": {
        "id": "90759884-8554-44f5-87d8-6fd0929776f9"
      },
      "source": [
        "의미가 명확할때 생략해야함"
      ],
      "id": "90759884-8554-44f5-87d8-6fd0929776f9"
    },
    {
      "cell_type": "code",
      "execution_count": 117,
      "metadata": {
        "vscode": {
          "languageId": "python"
        },
        "id": "ddae135f-5406-4a4c-804a-463ce1116693",
        "outputId": "fa10c104-7a07-4e50-bfc9-4c904d1c81bb",
        "colab": {
          "base_uri": "https://localhost:8080/"
        }
      },
      "outputs": [
        {
          "output_type": "execute_result",
          "data": {
            "text/plain": [
              "(1, 5, 4, 5)"
            ]
          },
          "metadata": {},
          "execution_count": 117
        }
      ],
      "source": [
        "1,2 + 3,4,5"
      ],
      "id": "ddae135f-5406-4a4c-804a-463ce1116693"
    },
    {
      "cell_type": "code",
      "execution_count": 118,
      "metadata": {
        "vscode": {
          "languageId": "python"
        },
        "id": "0c8736c7-20c5-47ab-86a9-7f5e019762ae",
        "outputId": "8238465e-f79e-4874-87b4-3fa80debfb34",
        "colab": {
          "base_uri": "https://localhost:8080/"
        }
      },
      "outputs": [
        {
          "output_type": "execute_result",
          "data": {
            "text/plain": [
              "(1, 2, 3, 4, 5)"
            ]
          },
          "metadata": {},
          "execution_count": 118
        }
      ],
      "source": [
        "(1,2) + (3,4,5)"
      ],
      "id": "0c8736c7-20c5-47ab-86a9-7f5e019762ae"
    },
    {
      "cell_type": "markdown",
      "metadata": {
        "id": "6ad0fb34-1df5-4c26-a569-c923e9f23615"
      },
      "source": [
        "## 선언\n",
        "\n",
        "`-` 소괄호를 이용"
      ],
      "id": "6ad0fb34-1df5-4c26-a569-c923e9f23615"
    },
    {
      "cell_type": "code",
      "execution_count": null,
      "metadata": {
        "vscode": {
          "languageId": "python"
        },
        "id": "6abf839f-6508-4cdd-b206-81d60a9b7e51"
      },
      "outputs": [],
      "source": [
        "a=(1,2,3)\n",
        "a"
      ],
      "id": "6abf839f-6508-4cdd-b206-81d60a9b7e51"
    },
    {
      "cell_type": "code",
      "execution_count": null,
      "metadata": {
        "vscode": {
          "languageId": "python"
        },
        "id": "f1e3ef43-ff9b-4d48-9abd-9a32a3282436"
      },
      "outputs": [],
      "source": [
        "type(a)"
      ],
      "id": "f1e3ef43-ff9b-4d48-9abd-9a32a3282436"
    },
    {
      "cell_type": "markdown",
      "metadata": {
        "id": "5e54d7eb-3613-46ba-ae46-e006fbb52049"
      },
      "source": [
        "`-` 생략가능하다는 점이 포인트"
      ],
      "id": "5e54d7eb-3613-46ba-ae46-e006fbb52049"
    },
    {
      "cell_type": "code",
      "execution_count": 119,
      "metadata": {
        "vscode": {
          "languageId": "python"
        },
        "id": "0d75df34-45a1-4e7a-aa47-d54140399fb5",
        "outputId": "ff203e57-845a-489f-f183-a8687594be54",
        "colab": {
          "base_uri": "https://localhost:8080/"
        }
      },
      "outputs": [
        {
          "output_type": "execute_result",
          "data": {
            "text/plain": [
              "(1, 2, 3)"
            ]
          },
          "metadata": {},
          "execution_count": 119
        }
      ],
      "source": [
        "a=1,2,3\n",
        "a"
      ],
      "id": "0d75df34-45a1-4e7a-aa47-d54140399fb5"
    },
    {
      "cell_type": "code",
      "execution_count": 120,
      "metadata": {
        "vscode": {
          "languageId": "python"
        },
        "id": "7c19b5ab-583b-4bbc-83bb-7fb42ea8f7b3",
        "outputId": "8f81c0e3-2628-4530-e8fb-8ebfcd738cdf",
        "colab": {
          "base_uri": "https://localhost:8080/"
        }
      },
      "outputs": [
        {
          "output_type": "execute_result",
          "data": {
            "text/plain": [
              "tuple"
            ]
          },
          "metadata": {},
          "execution_count": 120
        }
      ],
      "source": [
        "type(a)"
      ],
      "id": "7c19b5ab-583b-4bbc-83bb-7fb42ea8f7b3"
    },
    {
      "cell_type": "markdown",
      "metadata": {
        "id": "cdbdbf74-766d-4aaa-a523-ec0b30a59a58"
      },
      "source": [
        "`-` 원소가 하나인 튜플을 만들고 싶다면?"
      ],
      "id": "cdbdbf74-766d-4aaa-a523-ec0b30a59a58"
    },
    {
      "cell_type": "code",
      "execution_count": 121,
      "metadata": {
        "vscode": {
          "languageId": "python"
        },
        "id": "c03564b6-0bbe-4025-91c2-a04ba8b57677",
        "outputId": "0ab16444-49ea-4bfd-b9d3-ced54b437402",
        "colab": {
          "base_uri": "https://localhost:8080/"
        }
      },
      "outputs": [
        {
          "output_type": "execute_result",
          "data": {
            "text/plain": [
              "(1,)"
            ]
          },
          "metadata": {},
          "execution_count": 121
        }
      ],
      "source": [
        "a=(1,)\n",
        "a"
      ],
      "id": "c03564b6-0bbe-4025-91c2-a04ba8b57677"
    },
    {
      "cell_type": "markdown",
      "metadata": {
        "id": "7281f3d7-2a31-4516-b471-0be8e86739ef"
      },
      "source": [
        "## 연산\n",
        "\n",
        "`-` 리스트와 동일"
      ],
      "id": "7281f3d7-2a31-4516-b471-0be8e86739ef"
    },
    {
      "cell_type": "code",
      "execution_count": 123,
      "metadata": {
        "vscode": {
          "languageId": "python"
        },
        "id": "737f61f9-65e8-4565-a9f9-8c461df799e5",
        "outputId": "ded13b41-d9c3-4c19-a5f2-87b17f2c56e4",
        "colab": {
          "base_uri": "https://localhost:8080/"
        }
      },
      "outputs": [
        {
          "output_type": "execute_result",
          "data": {
            "text/plain": [
              "(1, 2, 3, 4, 5)"
            ]
          },
          "metadata": {},
          "execution_count": 123
        }
      ],
      "source": [
        "(1,2)+(3,4,5)"
      ],
      "id": "737f61f9-65e8-4565-a9f9-8c461df799e5"
    },
    {
      "cell_type": "code",
      "execution_count": 122,
      "metadata": {
        "vscode": {
          "languageId": "python"
        },
        "id": "3de368a7-ef39-4236-8fff-cf4b7cc7cc98",
        "outputId": "aa026ec3-e8b7-4deb-d3db-e4f89cd39f2c",
        "colab": {
          "base_uri": "https://localhost:8080/"
        }
      },
      "outputs": [
        {
          "output_type": "execute_result",
          "data": {
            "text/plain": [
              "(1, 2, 1, 2)"
            ]
          },
          "metadata": {},
          "execution_count": 122
        }
      ],
      "source": [
        "(1,2)*2"
      ],
      "id": "3de368a7-ef39-4236-8fff-cf4b7cc7cc98"
    },
    {
      "cell_type": "markdown",
      "metadata": {
        "id": "41344270-5cf1-4a5b-9392-037bad125a70"
      },
      "source": [
        "## 인덱싱\n",
        "\n",
        "`-` 리스트와 동일"
      ],
      "id": "41344270-5cf1-4a5b-9392-037bad125a70"
    },
    {
      "cell_type": "code",
      "execution_count": 124,
      "metadata": {
        "vscode": {
          "languageId": "python"
        },
        "id": "63725038-b81e-4cb3-b134-f12d8852bd5c",
        "outputId": "4be318eb-897c-4d64-98d8-d4226f16f3a2",
        "colab": {
          "base_uri": "https://localhost:8080/"
        }
      },
      "outputs": [
        {
          "output_type": "execute_result",
          "data": {
            "text/plain": [
              "(1, 2, 3, -4, -5)"
            ]
          },
          "metadata": {},
          "execution_count": 124
        }
      ],
      "source": [
        "a=(1,2,3,-4,-5)\n",
        "a"
      ],
      "id": "63725038-b81e-4cb3-b134-f12d8852bd5c"
    },
    {
      "cell_type": "code",
      "execution_count": 125,
      "metadata": {
        "vscode": {
          "languageId": "python"
        },
        "id": "74feb684-4d23-4703-9ced-64aa66735c76",
        "outputId": "09443246-ca1b-403a-b1bd-5e66d4db9bc4",
        "colab": {
          "base_uri": "https://localhost:8080/"
        }
      },
      "outputs": [
        {
          "output_type": "execute_result",
          "data": {
            "text/plain": [
              "-5"
            ]
          },
          "metadata": {},
          "execution_count": 125
        }
      ],
      "source": [
        "a[-1]"
      ],
      "id": "74feb684-4d23-4703-9ced-64aa66735c76"
    },
    {
      "cell_type": "code",
      "execution_count": 126,
      "metadata": {
        "vscode": {
          "languageId": "python"
        },
        "id": "828f829f-d441-488a-bf1d-3b0c4224b0a2",
        "outputId": "e95404d7-2b93-4246-d3aa-08fdf19c8cf8",
        "colab": {
          "base_uri": "https://localhost:8080/"
        }
      },
      "outputs": [
        {
          "output_type": "execute_result",
          "data": {
            "text/plain": [
              "(3, -4, -5)"
            ]
          },
          "metadata": {},
          "execution_count": 126
        }
      ],
      "source": [
        "a[-3:]"
      ],
      "id": "828f829f-d441-488a-bf1d-3b0c4224b0a2"
    },
    {
      "cell_type": "markdown",
      "metadata": {
        "id": "f95473a6-5b1b-4fbd-ad7d-55266ecd2f07"
      },
      "source": [
        "# Quiz\n",
        "\n",
        "`1`. 길이가 0인 리스트를 만들어라. (비어있는 리스트를 만들어라)\n",
        "\n",
        "`2`. 다음의 실행값 중 가장 큰 숫자가 나오는 보기를 골라라. (에러가 나는\n",
        "코드는 정답에서 제외함)\n",
        "\n",
        "``` python\n",
        "(a) len(3.14)\n",
        "(b) len([3.14])\n",
        "(c) len('3.14')\n",
        "```\n",
        "\n",
        "`3`. 리스트자료형의 `+`와 `*` 연산을 이용하여 아래와 같은 list를\n",
        "생성하라."
      ],
      "id": "f95473a6-5b1b-4fbd-ad7d-55266ecd2f07"
    },
    {
      "cell_type": "code",
      "execution_count": null,
      "metadata": {
        "id": "194688b5-bd81-493c-96ad-ef6c122f66fb"
      },
      "outputs": [],
      "source": [
        "[1, 2, 2, 3, 3, 3, 4, 4, 4, 4, 5, 5, 5, 5, 5]"
      ],
      "id": "194688b5-bd81-493c-96ad-ef6c122f66fb"
    },
    {
      "cell_type": "code",
      "source": [
        "a = []\n",
        "print(a)\n",
        "a += [1] * 1\n",
        "a += [2] * 2\n",
        "a += [3] * 3\n",
        "a += [4] * 4\n",
        "a += [5] * 5\n",
        "a"
      ],
      "metadata": {
        "id": "N1Ysmal3LRrJ",
        "outputId": "dace5a5c-b1bb-4d79-d992-50d480feaa15",
        "colab": {
          "base_uri": "https://localhost:8080/"
        }
      },
      "id": "N1Ysmal3LRrJ",
      "execution_count": 134,
      "outputs": [
        {
          "output_type": "stream",
          "name": "stdout",
          "text": [
            "[]\n"
          ]
        },
        {
          "output_type": "execute_result",
          "data": {
            "text/plain": [
              "[1, 2, 2, 3, 3, 3, 4, 4, 4, 4, 5, 5, 5, 5, 5]"
            ]
          },
          "metadata": {},
          "execution_count": 134
        }
      ]
    },
    {
      "cell_type": "markdown",
      "metadata": {
        "id": "54d1f35a-cd3d-4c1f-af3d-dff2c6363887"
      },
      "source": [
        "**hint:** 아래의 코드를 관찰해보세요"
      ],
      "id": "54d1f35a-cd3d-4c1f-af3d-dff2c6363887"
    },
    {
      "cell_type": "code",
      "execution_count": null,
      "metadata": {
        "id": "ef211e3f-833f-42dd-a64d-5471fd08ab63"
      },
      "outputs": [],
      "source": [
        "[1]*1+[2]*2"
      ],
      "id": "ef211e3f-833f-42dd-a64d-5471fd08ab63"
    },
    {
      "cell_type": "markdown",
      "metadata": {
        "id": "153aaf96-325e-454b-937b-66afc604e6aa"
      },
      "source": [
        "------------------------------------------------------------------------\n",
        "\n",
        "`4`. 아래의 코드를 관찰하고, `sum()`의 기능을 유추하라."
      ],
      "id": "153aaf96-325e-454b-937b-66afc604e6aa"
    },
    {
      "cell_type": "code",
      "execution_count": 135,
      "metadata": {
        "id": "9eb20961-a36b-40a6-845a-cc443a1cff6a",
        "outputId": "8c57dea6-c4c3-4ca2-f6c9-a0f2a42e9ed0",
        "colab": {
          "base_uri": "https://localhost:8080/"
        }
      },
      "outputs": [
        {
          "output_type": "execute_result",
          "data": {
            "text/plain": [
              "2"
            ]
          },
          "metadata": {},
          "execution_count": 135
        }
      ],
      "source": [
        "sum([1,0,1,0])"
      ],
      "id": "9eb20961-a36b-40a6-845a-cc443a1cff6a"
    },
    {
      "cell_type": "code",
      "execution_count": 136,
      "metadata": {
        "id": "4758b134-787e-43c5-a837-7da6e350ad51",
        "outputId": "01af69c7-24fe-4d82-d407-6940e8ff3f2f",
        "colab": {
          "base_uri": "https://localhost:8080/"
        }
      },
      "outputs": [
        {
          "output_type": "execute_result",
          "data": {
            "text/plain": [
              "2"
            ]
          },
          "metadata": {},
          "execution_count": 136
        }
      ],
      "source": [
        "sum([True,False,True,False])"
      ],
      "id": "4758b134-787e-43c5-a837-7da6e350ad51"
    },
    {
      "cell_type": "code",
      "source": [],
      "metadata": {
        "id": "xycBhgodL9TQ"
      },
      "id": "xycBhgodL9TQ",
      "execution_count": null,
      "outputs": []
    },
    {
      "cell_type": "markdown",
      "metadata": {
        "id": "df1fd690-cc74-4fe8-841b-cf7ba5fd6257"
      },
      "source": [
        "`5`. 다음과 같은 리스트를 고려하자."
      ],
      "id": "df1fd690-cc74-4fe8-841b-cf7ba5fd6257"
    },
    {
      "cell_type": "code",
      "execution_count": 155,
      "metadata": {
        "id": "adcd5393-fc44-4a27-8d08-a43842609925",
        "outputId": "c9e1f1fa-2e04-4716-a00c-a5a9c7a6bc7a",
        "colab": {
          "base_uri": "https://localhost:8080/"
        }
      },
      "outputs": [
        {
          "output_type": "execute_result",
          "data": {
            "text/plain": [
              "[80, 60, 80, 90, 55, 85, 95, 100, 35, 70, 75, 65, 95]"
            ]
          },
          "metadata": {},
          "execution_count": 155
        }
      ],
      "source": [
        "x = [80,60,80,90,55,85,95,100,35,70,75,65,95]\n",
        "x"
      ],
      "id": "adcd5393-fc44-4a27-8d08-a43842609925"
    },
    {
      "cell_type": "code",
      "source": [
        "# 5번 풀기\n",
        "sum([xi > 80 for xi in x])"
      ],
      "metadata": {
        "id": "28_kd6nWMkrl",
        "outputId": "8b543e91-94ce-4616-c1e0-a78d36d0b9b8",
        "colab": {
          "base_uri": "https://localhost:8080/"
        }
      },
      "id": "28_kd6nWMkrl",
      "execution_count": 157,
      "outputs": [
        {
          "output_type": "execute_result",
          "data": {
            "text/plain": [
              "5"
            ]
          },
          "metadata": {},
          "execution_count": 157
        }
      ]
    },
    {
      "cell_type": "markdown",
      "metadata": {
        "id": "f024ba25-8d33-4366-b99a-d3f1c1d8dc11"
      },
      "source": [
        "이를 수식으로 표현하면 아래와 같다.\n",
        "\n",
        "${\\bf x} = [x_1,\\dots,x_{13}]=[80,60,80,90,55,85,95,100,35,70,75,65,95]$\n",
        "\n",
        "리스트의 원소중 “$x_i>80$” 의 조건을 만족하는 원소는 모두 몇개인가?\n",
        "\n",
        "**hint:** 리스트컴프리헨션과 `sum()`함수를 이용할 것\n",
        "\n",
        "------------------------------------------------------------------------\n",
        "\n",
        "`6`. 다음과 같은 리스트를 고려하자."
      ],
      "id": "f024ba25-8d33-4366-b99a-d3f1c1d8dc11"
    },
    {
      "cell_type": "code",
      "execution_count": null,
      "metadata": {
        "id": "a99056e4-5e81-484a-b2cf-24d7a294a25e"
      },
      "outputs": [],
      "source": [
        "['A','B','C','D','A','A','B','A','F','C','C','C','A']"
      ],
      "id": "a99056e4-5e81-484a-b2cf-24d7a294a25e"
    },
    {
      "cell_type": "code",
      "source": [
        "a = ['A','B','C','D','A','A','B','A','F','C','C','C','A']\n",
        "a.count('A'), a.count('B')"
      ],
      "metadata": {
        "id": "xMJflhB1MMZR",
        "outputId": "46be99e0-e7a5-43c6-e623-d2a4aa364c9b",
        "colab": {
          "base_uri": "https://localhost:8080/"
        }
      },
      "id": "xMJflhB1MMZR",
      "execution_count": 138,
      "outputs": [
        {
          "output_type": "execute_result",
          "data": {
            "text/plain": [
              "(5, 2)"
            ]
          },
          "metadata": {},
          "execution_count": 138
        }
      ]
    },
    {
      "cell_type": "markdown",
      "metadata": {
        "id": "e68d6978-c4aa-4bcb-a3e9-a740d4328608"
      },
      "source": [
        "이 리스트에서 ‘A’ 혹은 ’B’의 숫자는 모두 몇개인가?\n",
        "\n",
        "**hint:** 아래를 관찰"
      ],
      "id": "e68d6978-c4aa-4bcb-a3e9-a740d4328608"
    },
    {
      "cell_type": "code",
      "execution_count": null,
      "metadata": {
        "id": "f9ee06e3-ac32-4198-8b16-9d45c7c74351"
      },
      "outputs": [],
      "source": [
        "'A' < 'C'"
      ],
      "id": "f9ee06e3-ac32-4198-8b16-9d45c7c74351"
    },
    {
      "cell_type": "code",
      "execution_count": null,
      "metadata": {
        "id": "141f1f7d-707c-4d3e-9cdd-9f27105b08f5"
      },
      "outputs": [],
      "source": [
        "'B' < 'C'"
      ],
      "id": "141f1f7d-707c-4d3e-9cdd-9f27105b08f5"
    },
    {
      "cell_type": "markdown",
      "metadata": {
        "id": "d7804cfe-0c2e-49ff-a833-93ff8547cc37"
      },
      "source": [
        "`7`. 아래와 같은 리스트가 있다고 하자.\n",
        "\n",
        "${\\bf x} = [1,2,1,5,6,2,4,7]$\n",
        "\n",
        "${\\bf y} = [3,2,4,1,2,5,6,7]$\n",
        "\n",
        "이러한 벡터를 파이썬에서 표현하기 위해서 아래와 같은 리스트를 만들었다고\n",
        "하자."
      ],
      "id": "d7804cfe-0c2e-49ff-a833-93ff8547cc37"
    },
    {
      "cell_type": "code",
      "execution_count": 158,
      "metadata": {
        "id": "c59afbb4-7ae7-4e88-9dd3-c6a5d0f4f638"
      },
      "outputs": [],
      "source": [
        "x=[1,2,1,5,6,2,4,7]\n",
        "y=[3,2,4,1,2,5,6,7]"
      ],
      "id": "c59afbb4-7ae7-4e88-9dd3-c6a5d0f4f638"
    },
    {
      "cell_type": "markdown",
      "metadata": {
        "id": "53af01e8-1d02-40d9-9e93-c2278db43c68"
      },
      "source": [
        "리스트컴프리헨션을 이용하여\n",
        "\n",
        "$${\\bf z}=[x_1^2+y_1^2, \\dots, x_{8}^2+y_{8}^2]=[x_i^2+y_i^2: \\text{for $i = 1,2,3,\\dots,8$}]$$\n",
        "\n",
        "와 같은 리스트를 생성하라.\n",
        "\n",
        "`8`. 아래와 같은 문자열이 있다고 하자."
      ],
      "id": "53af01e8-1d02-40d9-9e93-c2278db43c68"
    },
    {
      "cell_type": "code",
      "source": [
        "[x[i]**2 + y[i]**2 for i in range(8)]"
      ],
      "metadata": {
        "id": "tupywX-ENp-K",
        "outputId": "3dc6cd53-94a9-44c0-b93e-029952c96a08",
        "colab": {
          "base_uri": "https://localhost:8080/"
        }
      },
      "id": "tupywX-ENp-K",
      "execution_count": 160,
      "outputs": [
        {
          "output_type": "execute_result",
          "data": {
            "text/plain": [
              "[10, 8, 17, 26, 40, 29, 52, 98]"
            ]
          },
          "metadata": {},
          "execution_count": 160
        }
      ]
    },
    {
      "cell_type": "code",
      "execution_count": 149,
      "metadata": {
        "id": "feed680f-a484-493c-a0aa-802956b086fb"
      },
      "outputs": [],
      "source": [
        "test_arr = 'ssh-rsa AAAAB3NzaC1yc2EAAAABIwAAAQEAklOUpkDHrfHY17SbrmTIpNLTGK9Tjom/BWDSUGPl+nafzlHDTYW7hdI4yZ5ew18JH4JW9jbhUFrviQzM7xlELEVf4h9lFX5QVkbPppSwg0cda3Pbv7kOdJ/MTyBlWXFCR+HAo3FXRitBqxiX1nKhXpHAZsMciLq8V6RjsNAQwdsdMFvSlVK/7XAt3FaoJoAsncM1Q9x5+3V0Ww68/eIFmb1zuUFljQJKprrX88XypNDvjYNby6vw/Pb0rwert/EnmZ+AW4OZPnTPI89ZPmVMLuayrD2cE86Z/il8b+gw3r3+1nKatmIkjn2so1d01QraTlMqVSsbxNrRFi9wrf+M7Q== schacon@mylaptop.local'"
      ],
      "id": "feed680f-a484-493c-a0aa-802956b086fb"
    },
    {
      "cell_type": "code",
      "source": [
        "sum([s.isupper() for s in test_arr])"
      ],
      "metadata": {
        "id": "uZ7b7ucvOGFc",
        "outputId": "50b60b47-4b5d-458a-e2b6-36b2ac2c882e",
        "colab": {
          "base_uri": "https://localhost:8080/"
        }
      },
      "id": "uZ7b7ucvOGFc",
      "execution_count": 162,
      "outputs": [
        {
          "output_type": "execute_result",
          "data": {
            "text/plain": [
              "155"
            ]
          },
          "metadata": {},
          "execution_count": 162
        }
      ]
    },
    {
      "cell_type": "markdown",
      "metadata": {
        "id": "6af52ce3-f74b-4307-8471-7de11bb78722"
      },
      "source": [
        "이 문자열에서 대문자의 수를 count하라.\n",
        "\n",
        "`9`. 리스트컴프리헨션을 이용하여 아래와 같은 리스트를 생성하라.\n",
        "\n",
        "    ['a',\n",
        "     'aa',\n",
        "     'aaa',\n",
        "     'aaaa',\n",
        "     'aaaaa',\n",
        "     'aaaaaa',\n",
        "     'aaaaaaa',\n",
        "     'aaaaaaaa',\n",
        "     'aaaaaaaaa',\n",
        "     'aaaaaaaaaa'] <- a가 10개있음\n",
        "\n",
        "`10`. 아래와 같은 list가 있다고 하자."
      ],
      "id": "6af52ce3-f74b-4307-8471-7de11bb78722"
    },
    {
      "cell_type": "code",
      "source": [
        "['a'*i for i in range(1, 11)]"
      ],
      "metadata": {
        "id": "jMvvNXUIPMe2",
        "outputId": "25ed85db-d5ca-46c8-8ec7-6bcff9db12f7",
        "colab": {
          "base_uri": "https://localhost:8080/"
        }
      },
      "id": "jMvvNXUIPMe2",
      "execution_count": 163,
      "outputs": [
        {
          "output_type": "execute_result",
          "data": {
            "text/plain": [
              "['a',\n",
              " 'aa',\n",
              " 'aaa',\n",
              " 'aaaa',\n",
              " 'aaaaa',\n",
              " 'aaaaaa',\n",
              " 'aaaaaaa',\n",
              " 'aaaaaaaa',\n",
              " 'aaaaaaaaa',\n",
              " 'aaaaaaaaaa']"
            ]
          },
          "metadata": {},
          "execution_count": 163
        }
      ]
    },
    {
      "cell_type": "code",
      "execution_count": 166,
      "metadata": {
        "id": "22b943d8-5ca4-4b7d-a0bd-60fab8cbb02d"
      },
      "outputs": [],
      "source": [
        "test_lst = [['g',1],['u',5],['e',2],['b',8],['i',2],['n',9]]"
      ],
      "id": "22b943d8-5ca4-4b7d-a0bd-60fab8cbb02d"
    },
    {
      "cell_type": "markdown",
      "metadata": {
        "id": "a5df1105-f02a-4488-898f-1f9757ec9b89"
      },
      "source": [
        "`test_lst`와 리스트컴프리헨션을 이용하여 아래를 출력하는 코드를\n",
        "구현하라. (2022년 파이썬입문 중간고사 1-(9) 참고)"
      ],
      "id": "a5df1105-f02a-4488-898f-1f9757ec9b89"
    },
    {
      "cell_type": "code",
      "source": [
        "[x*y for x, y in test_lst]"
      ],
      "metadata": {
        "id": "BV5gTwUGPY_u",
        "outputId": "5ac420e8-03ca-409b-c831-f0a78fd17578",
        "colab": {
          "base_uri": "https://localhost:8080/"
        }
      },
      "id": "BV5gTwUGPY_u",
      "execution_count": 175,
      "outputs": [
        {
          "output_type": "execute_result",
          "data": {
            "text/plain": [
              "['g', 'uuuuu', 'ee', 'bbbbbbbb', 'ii', 'nnnnnnnnn']"
            ]
          },
          "metadata": {},
          "execution_count": 175
        }
      ]
    },
    {
      "cell_type": "code",
      "execution_count": null,
      "metadata": {
        "id": "18e0d542-8f95-4309-a2f6-5192b31e43d5"
      },
      "outputs": [],
      "source": [
        "['g', 'uuuuu', 'ee', 'bbbbbbbb', 'ii', 'nnnnnnnnn']"
      ],
      "id": "18e0d542-8f95-4309-a2f6-5192b31e43d5"
    },
    {
      "cell_type": "markdown",
      "metadata": {
        "id": "1170621c-1b5c-4452-a3b0-7f6bc67a7f24"
      },
      "source": [
        "`11`. 아래와 같은 list를 생성하라.\n",
        "\n",
        "``` python\n",
        "[1,2,2,3,3,3]\n",
        "```\n",
        "\n",
        "`12`. 아래와 같은 리스트를 관찰하라."
      ],
      "id": "1170621c-1b5c-4452-a3b0-7f6bc67a7f24"
    },
    {
      "cell_type": "code",
      "execution_count": null,
      "metadata": {
        "id": "ec4a54c3-c76a-45e5-b1a4-de6d3733f291"
      },
      "outputs": [],
      "source": [
        "lst = ['2022/09/21','2022/10/30','2022/12/25','2023/01/01','2023/01/31','2023/03/20']"
      ],
      "id": "ec4a54c3-c76a-45e5-b1a4-de6d3733f291"
    },
    {
      "cell_type": "markdown",
      "metadata": {
        "id": "f2d97d69-392f-4d50-b582-0397e8a782d4"
      },
      "source": [
        "이러한 리스트를 아래와 같은 리스트로 변환하는 코드를 작성하라."
      ],
      "id": "f2d97d69-392f-4d50-b582-0397e8a782d4"
    },
    {
      "cell_type": "code",
      "execution_count": null,
      "metadata": {
        "id": "f642fb72-eb1d-4727-ac3d-d10afa2c367d"
      },
      "outputs": [],
      "source": [
        "['2022-09-21', '2022-10-30', '2022-12-25', '2023-01-01', '2023-01-31', '2023-03-20']"
      ],
      "id": "f642fb72-eb1d-4727-ac3d-d10afa2c367d"
    },
    {
      "cell_type": "markdown",
      "metadata": {
        "id": "6009ca67-91af-4d5b-bcf9-3b9dacf75584"
      },
      "source": [
        "**hint: string의 `.replace()`기능과 리스트 컴프리헨션의 응용**\n",
        "\n",
        "`13`. 아래와 같은 문자열을 고려하라."
      ],
      "id": "6009ca67-91af-4d5b-bcf9-3b9dacf75584"
    },
    {
      "cell_type": "code",
      "execution_count": null,
      "metadata": {
        "id": "688271ac-ac89-4c52-9f09-cb6ddbeafe5f"
      },
      "outputs": [],
      "source": [
        "'2021. 01. 05.'"
      ],
      "id": "688271ac-ac89-4c52-9f09-cb6ddbeafe5f"
    },
    {
      "cell_type": "markdown",
      "metadata": {
        "id": "3d5088f3-02f6-48cc-abb3-b9bc25eba397"
      },
      "source": [
        "띄어쓰기를 제거하는 코드를 구현하라. 즉 출력결과가 아래와 같도록 만드는\n",
        "코드를 구현하라."
      ],
      "id": "3d5088f3-02f6-48cc-abb3-b9bc25eba397"
    },
    {
      "cell_type": "code",
      "execution_count": null,
      "metadata": {
        "id": "0d787029-986a-47c9-bb16-957cc45aa805"
      },
      "outputs": [],
      "source": [
        "'2021.01.05'"
      ],
      "id": "0d787029-986a-47c9-bb16-957cc45aa805"
    },
    {
      "cell_type": "markdown",
      "metadata": {
        "id": "7449b29b-0b71-4683-b16b-8a346dc36983"
      },
      "source": [
        "**hint**: 아래코드 관찰"
      ],
      "id": "7449b29b-0b71-4683-b16b-8a346dc36983"
    },
    {
      "cell_type": "code",
      "execution_count": null,
      "metadata": {
        "id": "72269a1f-267d-4161-a66d-4af2f2f9aaba"
      },
      "outputs": [],
      "source": [
        "'asdf'.replace('a','')"
      ],
      "id": "72269a1f-267d-4161-a66d-4af2f2f9aaba"
    },
    {
      "cell_type": "markdown",
      "metadata": {
        "id": "f4cc090e-67e2-4273-b312-39abdb31f308"
      },
      "source": [
        "------------------------------------------------------------------------\n",
        "\n",
        "`14`. 아래의 코드를 관찰하라."
      ],
      "id": "f4cc090e-67e2-4273-b312-39abdb31f308"
    },
    {
      "cell_type": "code",
      "execution_count": null,
      "metadata": {
        "id": "245a108b-0e78-4f25-b0a4-2b92561d6bd3"
      },
      "outputs": [],
      "source": [
        "'-'.join(['2022','01','05'])"
      ],
      "id": "245a108b-0e78-4f25-b0a4-2b92561d6bd3"
    },
    {
      "cell_type": "code",
      "execution_count": null,
      "metadata": {
        "id": "1d9c1b2c-9f0d-42bf-86d0-95c00667de2e"
      },
      "outputs": [],
      "source": [
        "'.'.join(['2022','01','05'])"
      ],
      "id": "1d9c1b2c-9f0d-42bf-86d0-95c00667de2e"
    },
    {
      "cell_type": "markdown",
      "metadata": {
        "id": "58b6ba5c-4734-4c0b-8fa7-c81f23805c86"
      },
      "source": [
        "ChatGPT를 이용하여 이 코드가 의미하는 내용을 유추하라.\n",
        "\n",
        "`15`. 아래와 같이 하나의 특수문자로 이루어진 리스트를 고려하자."
      ],
      "id": "58b6ba5c-4734-4c0b-8fa7-c81f23805c86"
    },
    {
      "cell_type": "code",
      "execution_count": null,
      "metadata": {
        "id": "5eddf369-f500-4e8d-97e1-fd126dd393cc"
      },
      "outputs": [],
      "source": [
        "block = ['■']"
      ],
      "id": "5eddf369-f500-4e8d-97e1-fd126dd393cc"
    },
    {
      "cell_type": "markdown",
      "metadata": {
        "id": "f1abdf71-7c2a-4f42-a3cb-ea8a8b8540a0"
      },
      "source": [
        "이를 이용하여 아래와 같은 결과를 출력하라."
      ],
      "id": "f1abdf71-7c2a-4f42-a3cb-ea8a8b8540a0"
    },
    {
      "cell_type": "code",
      "execution_count": null,
      "metadata": {
        "id": "347489a5-6f75-4854-851f-5f4f3b124491"
      },
      "outputs": [],
      "source": [
        "'■-■-■-■-■-■-■-■-■-■' # 여기에서 '■'는 모두 10개 있음"
      ],
      "id": "347489a5-6f75-4854-851f-5f4f3b124491"
    },
    {
      "cell_type": "markdown",
      "metadata": {
        "id": "596bd975-15a3-477c-a807-df58210484c2"
      },
      "source": [
        "**hint:** join을 이용할 것\n",
        "\n",
        "`16`. 아래의 실행결과를 되돌리는 코드를 작성하라."
      ],
      "id": "596bd975-15a3-477c-a807-df58210484c2"
    },
    {
      "cell_type": "code",
      "execution_count": null,
      "metadata": {
        "id": "6d57c8cb-db86-4f1e-b829-3e069d5e4851"
      },
      "outputs": [],
      "source": [
        "'2023-03-22'.split('-')"
      ],
      "id": "6d57c8cb-db86-4f1e-b829-3e069d5e4851"
    },
    {
      "cell_type": "markdown",
      "metadata": {
        "id": "9dffe064-5236-4bc7-8826-6cd70ef00db5"
      },
      "source": [
        "즉 아래와 같은 리스트를"
      ],
      "id": "9dffe064-5236-4bc7-8826-6cd70ef00db5"
    },
    {
      "cell_type": "code",
      "execution_count": null,
      "metadata": {
        "id": "790a091c-0729-4019-96fa-8798a55aa112"
      },
      "outputs": [],
      "source": [
        "['2023', '03', '22']"
      ],
      "id": "790a091c-0729-4019-96fa-8798a55aa112"
    },
    {
      "cell_type": "markdown",
      "metadata": {
        "id": "2088c0a7-ffe0-4954-8cc8-feb141d7af61"
      },
      "source": [
        "아래의 string으로 바꾸는 코드를 작성하라."
      ],
      "id": "2088c0a7-ffe0-4954-8cc8-feb141d7af61"
    },
    {
      "cell_type": "code",
      "execution_count": null,
      "metadata": {
        "id": "8fb6cb34-2af1-4ee6-9318-bf426cfc3ebe"
      },
      "outputs": [],
      "source": [
        "'2023-03-22'"
      ],
      "id": "8fb6cb34-2af1-4ee6-9318-bf426cfc3ebe"
    },
    {
      "cell_type": "markdown",
      "metadata": {
        "id": "67dbab77-319e-4382-8b5d-629e784c2ac4"
      },
      "source": [
        "**hint:** join을 이용할 것\n",
        "\n",
        "------------------------------------------------------------------------\n",
        "\n",
        "`17`. 길이가 1인 튜플을 만들어 자신의 학번을 저장하라. 길이가 1인 튜플을\n",
        "만들어 자신의 영문이름을 저장하라. 두 튜플을 + 연산자로 합쳐아래와 같은\n",
        "출력결과를 얻어라. 최종 결과는 예를들면 아래와 같아야 한다."
      ],
      "id": "67dbab77-319e-4382-8b5d-629e784c2ac4"
    },
    {
      "cell_type": "code",
      "execution_count": null,
      "metadata": {
        "id": "7e3aea17-ebd3-448c-a97e-dae5f6b93f50"
      },
      "outputs": [],
      "source": [
        "('2021-43052', 'GuebinChoi')"
      ],
      "id": "7e3aea17-ebd3-448c-a97e-dae5f6b93f50"
    },
    {
      "cell_type": "markdown",
      "metadata": {
        "id": "febba0f5-396f-407b-8928-9dd508750229"
      },
      "source": [
        "------------------------------------------------------------------------\n",
        "\n",
        "아래는 파이썬프로그래밍 수강생들의 학번, 이름, 출석점수, 과제점수,\n",
        "중간고사점수, 기말고사점수를 저장한 중첩리스트이다."
      ],
      "id": "febba0f5-396f-407b-8928-9dd508750229"
    },
    {
      "cell_type": "code",
      "execution_count": 177,
      "metadata": {
        "id": "645b3a31-8581-4b2a-bc91-145f13a78c89",
        "outputId": "ff35e1db-1915-469f-b476-75b9fe0049eb",
        "colab": {
          "base_uri": "https://localhost:8080/"
        }
      },
      "outputs": [
        {
          "output_type": "execute_result",
          "data": {
            "text/plain": [
              "[['2021-43052', 'GuebinChoi', 5, 10, 20, 25],\n",
              " ['2019-12342', 'Heung-min Son', 10, 15, 30, 15],\n",
              " ['2018-32234', 'hynn', 7, 20, 30, 15],\n",
              " ['2022-42323', 'Minji', 8, 20, 20, 35],\n",
              " ['2023-55342', 'Hanni', 7, 20, 30, 35],\n",
              " ['2022-46624', 'Danielle', 3, 15, 30, 40],\n",
              " ['2022-11239', 'Haerin', 10, 20, 30, 40],\n",
              " ['2022-32114', 'Hyein', 10, 20, 20, 35]]"
            ]
          },
          "metadata": {},
          "execution_count": 177
        }
      ],
      "source": [
        "lst = [['2021-43052', 'GuebinChoi', 5, 10, 20, 25],\n",
        "       ['2019-12342', 'Heung-min Son', 10, 15, 30, 15],\n",
        "       ['2018-32234', 'hynn', 7, 20, 30, 15],\n",
        "       ['2022-42323', 'Minji', 8, 20, 20, 35],\n",
        "       ['2023-55342', 'Hanni', 7, 20, 30, 35],\n",
        "       ['2022-46624', 'Danielle', 3, 15, 30, 40],\n",
        "       ['2022-11239', 'Haerin', 10, 20, 30, 40],\n",
        "       ['2022-32114', 'Hyein', 10, 20, 20, 35]]\n",
        "lst"
      ],
      "id": "645b3a31-8581-4b2a-bc91-145f13a78c89"
    },
    {
      "cell_type": "code",
      "source": [
        "# 18\n",
        "len(lst)"
      ],
      "metadata": {
        "id": "rtvxkKZUQje-",
        "outputId": "93587a92-7b18-46b2-ee24-d1c58917099b",
        "colab": {
          "base_uri": "https://localhost:8080/"
        }
      },
      "id": "rtvxkKZUQje-",
      "execution_count": 178,
      "outputs": [
        {
          "output_type": "execute_result",
          "data": {
            "text/plain": [
              "8"
            ]
          },
          "metadata": {},
          "execution_count": 178
        }
      ]
    },
    {
      "cell_type": "code",
      "source": [
        "# 19\n",
        "sum([l[2]<7 for l in lst])"
      ],
      "metadata": {
        "id": "mgOpAoAMQrAR",
        "outputId": "1803d808-f731-4617-b622-9f14b436e1a0",
        "colab": {
          "base_uri": "https://localhost:8080/"
        }
      },
      "id": "mgOpAoAMQrAR",
      "execution_count": 179,
      "outputs": [
        {
          "output_type": "execute_result",
          "data": {
            "text/plain": [
              "2"
            ]
          },
          "metadata": {},
          "execution_count": 179
        }
      ]
    },
    {
      "cell_type": "code",
      "source": [
        "# 20\n",
        "sum([l[2] + l[3] < 21 for l in lst])"
      ],
      "metadata": {
        "id": "B2eUoNV0Q1g4",
        "outputId": "c4e55f45-2699-4b33-fda4-a84485e0f4e2",
        "colab": {
          "base_uri": "https://localhost:8080/"
        }
      },
      "id": "B2eUoNV0Q1g4",
      "execution_count": 180,
      "outputs": [
        {
          "output_type": "execute_result",
          "data": {
            "text/plain": [
              "2"
            ]
          },
          "metadata": {},
          "execution_count": 180
        }
      ]
    },
    {
      "cell_type": "code",
      "source": [
        "# 21\n",
        "[[l[1], l[0], l[2], l[3], l[4], l[5]] for l in lst]"
      ],
      "metadata": {
        "id": "DUR00prCQ-te",
        "outputId": "f0bd60e9-0f01-447a-a44b-b66981004f91",
        "colab": {
          "base_uri": "https://localhost:8080/"
        }
      },
      "id": "DUR00prCQ-te",
      "execution_count": 181,
      "outputs": [
        {
          "output_type": "execute_result",
          "data": {
            "text/plain": [
              "[['GuebinChoi', '2021-43052', 5, 10, 20, 25],\n",
              " ['Heung-min Son', '2019-12342', 10, 15, 30, 15],\n",
              " ['hynn', '2018-32234', 7, 20, 30, 15],\n",
              " ['Minji', '2022-42323', 8, 20, 20, 35],\n",
              " ['Hanni', '2023-55342', 7, 20, 30, 35],\n",
              " ['Danielle', '2022-46624', 3, 15, 30, 40],\n",
              " ['Haerin', '2022-11239', 10, 20, 30, 40],\n",
              " ['Hyein', '2022-32114', 10, 20, 20, 35]]"
            ]
          },
          "metadata": {},
          "execution_count": 181
        }
      ]
    },
    {
      "cell_type": "markdown",
      "metadata": {
        "id": "77bd737d-b267-40c1-9220-11d1f9c5561e"
      },
      "source": [
        "`18`. 파이썬프로그래밍 수강생의 수는 모두 몇명인가?\n",
        "\n",
        "`19`. 전북대학교 지침에 따라 출석점수가 7보다 작은 학생은 (즉\n",
        "`출석점수 < 7` 일 경우) F학점을 부여하게 되어있다. 이 기준에 따르면 F를\n",
        "받는 학생은 모두 몇명인가?\n",
        "\n",
        "`20`. 파이썬프로그래밍 수업의 경우 `출석+레포트 < 21` 일 경우 F학점을\n",
        "부여한다고 한다. 이 기준에 따르면 F를 받는 학생은 모두 몇명인가?\n",
        "\n",
        "`21`. 리스트의 정렬순서를 \\[학번, 이름, …, 기말고사점수\\] 가 아니라\n",
        "\\[이름, 학번, … , 기말고사점수\\] 와 같이 되도록 변경하는 코드를\n",
        "작성하라.\n",
        "\n",
        "(출력예시)"
      ],
      "id": "77bd737d-b267-40c1-9220-11d1f9c5561e"
    },
    {
      "cell_type": "code",
      "execution_count": null,
      "metadata": {
        "id": "04c26c9d-2d21-4248-bc86-bd20948c99d1"
      },
      "outputs": [],
      "source": [
        "[[name,studentid,*rest] for studentid, name, *rest in lst]"
      ],
      "id": "04c26c9d-2d21-4248-bc86-bd20948c99d1"
    },
    {
      "cell_type": "markdown",
      "metadata": {
        "id": "c6bb4f86-1d8e-4270-8c5e-49e823d154be"
      },
      "source": [
        "------------------------------------------------------------------------\n",
        "\n",
        "다음은 인터넷에서 긁어온 어떠한 텍스트이다."
      ],
      "id": "c6bb4f86-1d8e-4270-8c5e-49e823d154be"
    },
    {
      "cell_type": "code",
      "execution_count": 182,
      "metadata": {
        "id": "7c42b774-6a59-4f6f-9fe9-35806682aca8"
      },
      "outputs": [],
      "source": [
        "text = \"국내뿐 아니라 해외 인기도 심상치 않다. 2023년 1월 18일 'Ditto'가 빌보드 핫 100에 96위로 진입했다. 이는 K-pop 역사상 데뷔후 최단 빌보드 Hot 100 차트 입성 기록이다. 다른 뮤지션들이 보통 데뷔 후 수년간 쌓아온 팬덤을 기반으로 빌보드에 입성한데 비해, 뉴진스의 기록은 이례적인 것으로 평가받고 있다. 또한 'OMG'가 빌보드 핫 100에 91위로 진입한 동시에 'Ditto'는 85위로 순위가 상승, 핫 100 주간차트에 두 곡을 올려놓았다. K-Pop 역사상 이 차트에 두 곡 이상을 진입시킨 아티스트는 방탄소년단과 블랙핑크가 유일하다. 'Ditto'는 1월 셋째주 기준, 빌보드뿐만 아니라 영국 오피셜 싱글 차트 '톱 100'에 2주 연속 진입하기도 했다.\""
      ],
      "id": "7c42b774-6a59-4f6f-9fe9-35806682aca8"
    },
    {
      "cell_type": "code",
      "source": [
        "# 22\n",
        "lst = text.split('. ')\n",
        "len(lst)"
      ],
      "metadata": {
        "id": "-n5xZzB7RUQ0",
        "outputId": "dba02050-f325-46c6-86ed-29dd2eab62b2",
        "colab": {
          "base_uri": "https://localhost:8080/"
        }
      },
      "id": "-n5xZzB7RUQ0",
      "execution_count": 186,
      "outputs": [
        {
          "output_type": "execute_result",
          "data": {
            "text/plain": [
              "7"
            ]
          },
          "metadata": {},
          "execution_count": 186
        }
      ]
    },
    {
      "cell_type": "code",
      "source": [
        "# 23\n",
        "lst = text.replace('. ', '.').split('.')\n",
        "\n",
        "[len(s.split(' ')) for s in lst ]"
      ],
      "metadata": {
        "id": "N2IVu29wRhcp",
        "outputId": "e03328f7-ddfc-4d13-a056-1c311e27b38f",
        "colab": {
          "base_uri": "https://localhost:8080/"
        }
      },
      "id": "N2IVu29wRhcp",
      "execution_count": 193,
      "outputs": [
        {
          "output_type": "execute_result",
          "data": {
            "text/plain": [
              "[6, 9, 11, 18, 18, 12, 16, 1]"
            ]
          },
          "metadata": {},
          "execution_count": 193
        }
      ]
    },
    {
      "cell_type": "code",
      "source": [
        "# 24\n",
        "sum(['100' in s for s in lst])"
      ],
      "metadata": {
        "id": "F-ZmamnJSgzt",
        "outputId": "7fe8dd82-24f2-4b85-e958-22791f1046a7",
        "colab": {
          "base_uri": "https://localhost:8080/"
        }
      },
      "id": "F-ZmamnJSgzt",
      "execution_count": 195,
      "outputs": [
        {
          "output_type": "execute_result",
          "data": {
            "text/plain": [
              "4"
            ]
          },
          "metadata": {},
          "execution_count": 195
        }
      ]
    },
    {
      "cell_type": "markdown",
      "metadata": {
        "id": "87d94762-78c9-448f-8473-524fc3dfcc47"
      },
      "source": [
        "`22`. text는 총 몇개의 문장으로 이루어져 있는가?\n",
        "\n",
        "**hint:** 이 텍스트의 문장은 모두 `.`로 끝난다.\n",
        "\n",
        "`23`. 각 문장은 몇개의 단어로 이루어져 있는가?\n",
        "\n",
        "**hint:** 각 단어는 공백으로 구분된다.\n",
        "\n",
        "`24`. `100`이라는 단어가 포함된 문장은 모두 몇 개 인가?\n",
        "\n",
        "**hint:** 아래의 코드를 관찰"
      ],
      "id": "87d94762-78c9-448f-8473-524fc3dfcc47"
    },
    {
      "cell_type": "code",
      "execution_count": null,
      "metadata": {
        "id": "0fcadeea-7e76-4c1c-8c21-05fc21ba0c6a"
      },
      "outputs": [],
      "source": [
        "'a' in 'abcd'"
      ],
      "id": "0fcadeea-7e76-4c1c-8c21-05fc21ba0c6a"
    }
  ],
  "nbformat": 4,
  "nbformat_minor": 5,
  "metadata": {
    "kernelspec": {
      "name": "python3",
      "display_name": "Python 3 (ipykernel)",
      "language": "python"
    },
    "language_info": {
      "name": "python",
      "codemirror_mode": {
        "name": "ipython",
        "version": "3"
      },
      "file_extension": ".py",
      "mimetype": "text/x-python",
      "nbconvert_exporter": "python",
      "pygments_lexer": "ipython3",
      "version": "3.10.12"
    },
    "colab": {
      "provenance": []
    }
  }
}