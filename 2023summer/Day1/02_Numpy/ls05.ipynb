{
  "cells": [
    {
      "cell_type": "markdown",
      "metadata": {
        "id": "view-in-github",
        "colab_type": "text"
      },
      "source": [
        "<a href=\"https://colab.research.google.com/github/simsang1l/python_workshop/blob/main/2023summer/Day1/02_Numpy%20/ls05.ipynb\" target=\"_parent\"><img src=\"https://colab.research.google.com/assets/colab-badge.svg\" alt=\"Open In Colab\"/></a>"
      ]
    },
    {
      "cell_type": "markdown",
      "metadata": {
        "id": "2c91c022-76ef-47da-9d49-fed7c69d105b"
      },
      "source": [
        "# Lesson 05: numpy 공부 1단계 ~ 2단계\n",
        "\n",
        "최규빈  \n",
        "2023-07-24\n",
        "\n",
        "<a href=\"https://colab.research.google.com/simsang1l/python_workshop/blob/main/2023summer/Day1/02_Numpy/ls05.ipynb\"><img src=\"https://colab.research.google.com/assets/colab-badge.svg\" style=\"text-align: left\"></a>\n",
        "\n",
        "# import"
      ],
      "id": "2c91c022-76ef-47da-9d49-fed7c69d105b"
    },
    {
      "cell_type": "code",
      "execution_count": 3,
      "metadata": {
        "id": "8adbbe65-da8c-4f20-ab65-6301e6e1bfc1"
      },
      "outputs": [],
      "source": [
        "import numpy as np"
      ],
      "id": "8adbbe65-da8c-4f20-ab65-6301e6e1bfc1"
    },
    {
      "cell_type": "markdown",
      "metadata": {
        "id": "933dd8b1-16b6-4c27-a290-e55ddb0db495"
      },
      "source": [
        "# 넘파이 공부 1단계\n",
        "\n",
        "## 선언"
      ],
      "id": "933dd8b1-16b6-4c27-a290-e55ddb0db495"
    },
    {
      "cell_type": "code",
      "execution_count": null,
      "metadata": {
        "id": "2fab2a6e-e024-41b7-96e2-4ab023fa312a"
      },
      "outputs": [],
      "source": [
        "a=np.array([1,2,3]) # list를 만들고 ndarray화 시킴\n",
        "l=[1,2,3]"
      ],
      "id": "2fab2a6e-e024-41b7-96e2-4ab023fa312a"
    },
    {
      "cell_type": "markdown",
      "metadata": {
        "id": "a4346d58-e0d7-4466-a77f-da0990402730"
      },
      "source": [
        "#### 기본연산 브로드캐스팅"
      ],
      "id": "a4346d58-e0d7-4466-a77f-da0990402730"
    },
    {
      "cell_type": "code",
      "execution_count": null,
      "metadata": {
        "id": "8c94ee51-e9b5-4838-9ee8-df1eaa8bff56"
      },
      "outputs": [],
      "source": [
        "a+1 ## [1,2,3] + 1 = [2,3,4]"
      ],
      "id": "8c94ee51-e9b5-4838-9ee8-df1eaa8bff56"
    },
    {
      "cell_type": "code",
      "execution_count": null,
      "metadata": {
        "id": "4185b316-27a9-4ab7-9399-1dc8f87f3d6b"
      },
      "outputs": [],
      "source": [
        "l+1"
      ],
      "id": "4185b316-27a9-4ab7-9399-1dc8f87f3d6b"
    },
    {
      "cell_type": "code",
      "execution_count": null,
      "metadata": {
        "id": "26aa79d2-8959-4c95-bbd6-5106b14b8b27"
      },
      "outputs": [],
      "source": [
        "a*2"
      ],
      "id": "26aa79d2-8959-4c95-bbd6-5106b14b8b27"
    },
    {
      "cell_type": "code",
      "execution_count": null,
      "metadata": {
        "id": "d760dcfa-c674-44fc-b4ea-3774ebcf34c7"
      },
      "outputs": [],
      "source": [
        "l*2"
      ],
      "id": "d760dcfa-c674-44fc-b4ea-3774ebcf34c7"
    },
    {
      "cell_type": "code",
      "execution_count": null,
      "metadata": {
        "id": "b2cc457b-b667-4d7f-8bd1-e5959f6396c6"
      },
      "outputs": [],
      "source": [
        "a/2"
      ],
      "id": "b2cc457b-b667-4d7f-8bd1-e5959f6396c6"
    },
    {
      "cell_type": "code",
      "execution_count": null,
      "metadata": {
        "id": "f3a14c42-5c51-435d-b48d-36c07bcf62b6"
      },
      "outputs": [],
      "source": [
        "l/2"
      ],
      "id": "f3a14c42-5c51-435d-b48d-36c07bcf62b6"
    },
    {
      "cell_type": "code",
      "execution_count": null,
      "metadata": {
        "id": "76ca10c8-e5d4-4f3d-b997-eee258b00a65"
      },
      "outputs": [],
      "source": [
        "a**2"
      ],
      "id": "76ca10c8-e5d4-4f3d-b997-eee258b00a65"
    },
    {
      "cell_type": "code",
      "execution_count": null,
      "metadata": {
        "id": "01eb01cc-fa6e-43cd-ba1f-a8fe806ebe9f"
      },
      "outputs": [],
      "source": [
        "l**2"
      ],
      "id": "01eb01cc-fa6e-43cd-ba1f-a8fe806ebe9f"
    },
    {
      "cell_type": "code",
      "execution_count": null,
      "metadata": {
        "id": "d6e2a52b-92e0-4ee8-95b2-afb4b24bf4cf"
      },
      "outputs": [],
      "source": [
        "a%2 # %2 = 2로 나눈 나머지를 리턴 a=[1,2,3]"
      ],
      "id": "d6e2a52b-92e0-4ee8-95b2-afb4b24bf4cf"
    },
    {
      "cell_type": "code",
      "execution_count": null,
      "metadata": {
        "id": "a6f885f4-10f7-412b-8b4a-29781a0f0ddf"
      },
      "outputs": [],
      "source": [
        "l%2"
      ],
      "id": "a6f885f4-10f7-412b-8b4a-29781a0f0ddf"
    },
    {
      "cell_type": "markdown",
      "metadata": {
        "id": "31186056-2f07-4954-a402-b119d51ff713"
      },
      "source": [
        "## 기타수학연산지원"
      ],
      "id": "31186056-2f07-4954-a402-b119d51ff713"
    },
    {
      "cell_type": "code",
      "execution_count": null,
      "metadata": {
        "id": "5cfd3ab5-d6fa-4fd0-9489-2d40d4e08a1f"
      },
      "outputs": [],
      "source": [
        "np.sqrt(a), np.sqrt(l)"
      ],
      "id": "5cfd3ab5-d6fa-4fd0-9489-2d40d4e08a1f"
    },
    {
      "cell_type": "code",
      "execution_count": null,
      "metadata": {
        "id": "a89b7818-4db4-487d-9af9-6035295ab9ac"
      },
      "outputs": [],
      "source": [
        "np.log(a), np.log(l)"
      ],
      "id": "a89b7818-4db4-487d-9af9-6035295ab9ac"
    },
    {
      "cell_type": "code",
      "execution_count": null,
      "metadata": {
        "id": "cd1a21de-eac3-4b34-98a6-5c7541788a13"
      },
      "outputs": [],
      "source": [
        "np.exp(a), np.exp(l)"
      ],
      "id": "cd1a21de-eac3-4b34-98a6-5c7541788a13"
    },
    {
      "cell_type": "code",
      "execution_count": null,
      "metadata": {
        "id": "d01340e5-c6c7-409a-a379-1d5f51915379"
      },
      "outputs": [],
      "source": [
        "np.sin(a), np.sin(l)"
      ],
      "id": "d01340e5-c6c7-409a-a379-1d5f51915379"
    },
    {
      "cell_type": "markdown",
      "metadata": {
        "id": "6a34a6a0-4ce4-4aa2-b50c-bdd970efb7af"
      },
      "source": [
        "# 넘파이 공부 2단계\n",
        "\n",
        "## 인덱싱 1차원\n",
        "\n",
        "`-` 선언"
      ],
      "id": "6a34a6a0-4ce4-4aa2-b50c-bdd970efb7af"
    },
    {
      "cell_type": "code",
      "execution_count": null,
      "metadata": {
        "id": "c861c6e5-d139-4e0e-a455-039979ac9321"
      },
      "outputs": [],
      "source": [
        "l=[11,22,33,44,55,66]\n",
        "a=np.array(l)"
      ],
      "id": "c861c6e5-d139-4e0e-a455-039979ac9321"
    },
    {
      "cell_type": "markdown",
      "metadata": {
        "id": "68cb4fb0-22c0-49d8-847e-df289f6a93c5"
      },
      "source": [
        "`-` 인덱스로 접근"
      ],
      "id": "68cb4fb0-22c0-49d8-847e-df289f6a93c5"
    },
    {
      "cell_type": "code",
      "execution_count": null,
      "metadata": {
        "id": "5938ed7f-c289-41b9-a1df-b2e824f3d654"
      },
      "outputs": [],
      "source": [
        "l[0],l[1],l[2],l[3],l[-2],l[-1]"
      ],
      "id": "5938ed7f-c289-41b9-a1df-b2e824f3d654"
    },
    {
      "cell_type": "code",
      "execution_count": null,
      "metadata": {
        "id": "1b4c447d-005e-49a1-8a8f-3badc2077bc6"
      },
      "outputs": [],
      "source": [
        "a[0],a[1],a[2],a[3],a[-2],a[-1]"
      ],
      "id": "1b4c447d-005e-49a1-8a8f-3badc2077bc6"
    },
    {
      "cell_type": "markdown",
      "metadata": {
        "id": "98abe347-bf92-4aea-9fa5-0bef0db3f308"
      },
      "source": [
        "`-` `:` 이용 (슬라이싱)"
      ],
      "id": "98abe347-bf92-4aea-9fa5-0bef0db3f308"
    },
    {
      "cell_type": "code",
      "execution_count": null,
      "metadata": {
        "id": "cdc3ee19-9257-479e-bf45-f01d5e7ffc8f"
      },
      "outputs": [],
      "source": [
        "l[2:4] # index 2에서 시작, index 4는 포함하지 않음"
      ],
      "id": "cdc3ee19-9257-479e-bf45-f01d5e7ffc8f"
    },
    {
      "cell_type": "code",
      "execution_count": null,
      "metadata": {
        "id": "0288a120-cad8-4ce9-8100-417c5811e3d1"
      },
      "outputs": [],
      "source": [
        "a[2:4]"
      ],
      "id": "0288a120-cad8-4ce9-8100-417c5811e3d1"
    },
    {
      "cell_type": "markdown",
      "metadata": {
        "id": "d22ed9ad-0987-4eae-a961-52152004ebea"
      },
      "source": [
        "`-` 정수배열에 의한 인덱싱"
      ],
      "id": "d22ed9ad-0987-4eae-a961-52152004ebea"
    },
    {
      "cell_type": "code",
      "execution_count": null,
      "metadata": {
        "id": "11e47e31-2fab-46b2-a6cb-122a9cb56a00"
      },
      "outputs": [],
      "source": [
        "a"
      ],
      "id": "11e47e31-2fab-46b2-a6cb-122a9cb56a00"
    },
    {
      "cell_type": "code",
      "execution_count": null,
      "metadata": {
        "id": "7c91dd7d-2bc8-4561-a67e-a8f9f42636bd"
      },
      "outputs": [],
      "source": [
        "a[[0,2,4]] # index=0, index=2, index=4 에 해당하는 원소를 뽑고 싶다"
      ],
      "id": "7c91dd7d-2bc8-4561-a67e-a8f9f42636bd"
    },
    {
      "cell_type": "code",
      "execution_count": null,
      "metadata": {
        "id": "b8afb3ad-8076-4f05-93a7-7c52aad55a3c"
      },
      "outputs": [],
      "source": [
        "l[[0,2,4]] # 리스트는 불가능"
      ],
      "id": "b8afb3ad-8076-4f05-93a7-7c52aad55a3c"
    },
    {
      "cell_type": "markdown",
      "metadata": {
        "id": "a6498b8c-aef6-4ae8-9c7d-1dce43e97327"
      },
      "source": [
        "`-` 부울값에 의한 인덱싱"
      ],
      "id": "a6498b8c-aef6-4ae8-9c7d-1dce43e97327"
    },
    {
      "cell_type": "code",
      "execution_count": null,
      "metadata": {
        "id": "402ca51a-ab66-420f-832d-2816d67b54f0"
      },
      "outputs": [],
      "source": [
        "a"
      ],
      "id": "402ca51a-ab66-420f-832d-2816d67b54f0"
    },
    {
      "cell_type": "code",
      "execution_count": null,
      "metadata": {
        "id": "727617b3-1310-452e-9fe0-8379aa427845"
      },
      "outputs": [],
      "source": [
        "a[[True,False,True,False,True,False]]"
      ],
      "id": "727617b3-1310-452e-9fe0-8379aa427845"
    },
    {
      "cell_type": "markdown",
      "metadata": {
        "id": "3074fa29-da1c-49aa-983b-0c38c688a14f"
      },
      "source": [
        "응용하면?"
      ],
      "id": "3074fa29-da1c-49aa-983b-0c38c688a14f"
    },
    {
      "cell_type": "code",
      "execution_count": null,
      "metadata": {
        "id": "b6aaf4ce-c5a1-4cdf-bc80-51696ffd5d79"
      },
      "outputs": [],
      "source": [
        "a < 33"
      ],
      "id": "b6aaf4ce-c5a1-4cdf-bc80-51696ffd5d79"
    },
    {
      "cell_type": "code",
      "execution_count": null,
      "metadata": {
        "id": "17289e20-3b6d-4350-bf3c-43c6ffdee09e"
      },
      "outputs": [],
      "source": [
        "a[a<33]"
      ],
      "id": "17289e20-3b6d-4350-bf3c-43c6ffdee09e"
    },
    {
      "cell_type": "markdown",
      "metadata": {
        "id": "0af92f9c-5e1f-4936-bb31-1dd3f2ee2270"
      },
      "source": [
        "리스트는 불가능"
      ],
      "id": "0af92f9c-5e1f-4936-bb31-1dd3f2ee2270"
    },
    {
      "cell_type": "code",
      "execution_count": null,
      "metadata": {
        "id": "2c596997-7960-4595-8495-52ff8baff998"
      },
      "outputs": [],
      "source": [
        "l<33 # 여기에서부터 불가능"
      ],
      "id": "2c596997-7960-4595-8495-52ff8baff998"
    },
    {
      "cell_type": "code",
      "execution_count": null,
      "metadata": {
        "id": "a3afa138-ebf2-4155-a4c8-e39b7dcd9ad0"
      },
      "outputs": [],
      "source": [
        "l[[True,False,True,False,True,False]] # 이것도 불가능"
      ],
      "id": "a3afa138-ebf2-4155-a4c8-e39b7dcd9ad0"
    },
    {
      "cell_type": "markdown",
      "metadata": {
        "id": "e996959c-e311-4fc6-9511-6380b5ac6e6a"
      },
      "source": [
        "## 인덱싱 2차원\n",
        "\n",
        "`-` 중첩리스트와 2차원 np.array 선언"
      ],
      "id": "e996959c-e311-4fc6-9511-6380b5ac6e6a"
    },
    {
      "cell_type": "code",
      "execution_count": null,
      "metadata": {
        "id": "7331f59b-c1af-4c99-9e77-dbad1859db53"
      },
      "outputs": [],
      "source": [
        "A = [[1,2,3,4],[-1,-2,-3,-4],[5,6,7,8],[-5,-6,-7,-8]]\n",
        "A2 = np.array(A)"
      ],
      "id": "7331f59b-c1af-4c99-9e77-dbad1859db53"
    },
    {
      "cell_type": "code",
      "execution_count": null,
      "metadata": {
        "id": "85d7f756-b844-44c8-8503-8609a890ebd7"
      },
      "outputs": [],
      "source": [
        "A2"
      ],
      "id": "85d7f756-b844-44c8-8503-8609a890ebd7"
    },
    {
      "cell_type": "code",
      "execution_count": null,
      "metadata": {
        "id": "366e82df-8d76-48e8-8d38-02e36dc3c4fb"
      },
      "outputs": [],
      "source": [
        "A"
      ],
      "id": "366e82df-8d76-48e8-8d38-02e36dc3c4fb"
    },
    {
      "cell_type": "markdown",
      "metadata": {
        "id": "e5529e2c-38fe-41c2-bed4-7f20088ba418"
      },
      "source": [
        "`-` A의 원소 인덱싱"
      ],
      "id": "e5529e2c-38fe-41c2-bed4-7f20088ba418"
    },
    {
      "cell_type": "code",
      "execution_count": null,
      "metadata": {
        "id": "f0ead1ae-fed3-47d3-b272-127bf2fa24ac"
      },
      "outputs": [],
      "source": [
        "A[0][0] # (1,1)의 원소"
      ],
      "id": "f0ead1ae-fed3-47d3-b272-127bf2fa24ac"
    },
    {
      "cell_type": "code",
      "execution_count": null,
      "metadata": {
        "id": "d3aeb65c-1899-4f26-b53b-06f16fc211d9"
      },
      "outputs": [],
      "source": [
        "A[1][2] # (2,3)의 원소"
      ],
      "id": "d3aeb65c-1899-4f26-b53b-06f16fc211d9"
    },
    {
      "cell_type": "code",
      "execution_count": null,
      "metadata": {
        "id": "77f60a6c-1e66-4f9b-ad0f-1306242f1920"
      },
      "outputs": [],
      "source": [
        "A[-1][0] # (4,1)의 원소"
      ],
      "id": "77f60a6c-1e66-4f9b-ad0f-1306242f1920"
    },
    {
      "cell_type": "markdown",
      "metadata": {
        "id": "69867103-daa7-44e0-8db0-378f8ba4065e"
      },
      "source": [
        "`-` A2의 원소 인덱싱"
      ],
      "id": "69867103-daa7-44e0-8db0-378f8ba4065e"
    },
    {
      "cell_type": "code",
      "execution_count": null,
      "metadata": {
        "tags": [],
        "id": "336c2274-24cf-4876-a74c-831ab2dfd772"
      },
      "outputs": [],
      "source": [
        "A2[0][0] # (1,1)의 원소"
      ],
      "id": "336c2274-24cf-4876-a74c-831ab2dfd772"
    },
    {
      "cell_type": "code",
      "execution_count": null,
      "metadata": {
        "id": "369bcfd3-57e0-47b1-873a-0e40f5d0c2f1"
      },
      "outputs": [],
      "source": [
        "A2[1][2] # (2,3)의 원소"
      ],
      "id": "369bcfd3-57e0-47b1-873a-0e40f5d0c2f1"
    },
    {
      "cell_type": "code",
      "execution_count": null,
      "metadata": {
        "id": "5fd4f7c6-cfcd-42fb-8376-e3f1fe1de9c1"
      },
      "outputs": [],
      "source": [
        "A2[-1][0] # (4,1)의 원소"
      ],
      "id": "5fd4f7c6-cfcd-42fb-8376-e3f1fe1de9c1"
    },
    {
      "cell_type": "markdown",
      "metadata": {
        "id": "51e880f1-1640-4f67-897c-32e045bb06ac"
      },
      "source": [
        "`-` A2에서만 되는 기술 (넘파이에서 제시하는 신기술, R에서는 기본적으로\n",
        "쓰던것, 이중list는 불가능)"
      ],
      "id": "51e880f1-1640-4f67-897c-32e045bb06ac"
    },
    {
      "cell_type": "code",
      "execution_count": null,
      "metadata": {
        "tags": [],
        "id": "e02143a9-2d30-44ec-920c-a511c5bc3b1f"
      },
      "outputs": [],
      "source": [
        "A2[0,0] # (1,1)의 원소"
      ],
      "id": "e02143a9-2d30-44ec-920c-a511c5bc3b1f"
    },
    {
      "cell_type": "code",
      "execution_count": null,
      "metadata": {
        "id": "45f7e56b-cc06-4d92-b0c3-988d43acdbd5"
      },
      "outputs": [],
      "source": [
        "A2[1,2] # (2,3)의 원소"
      ],
      "id": "45f7e56b-cc06-4d92-b0c3-988d43acdbd5"
    },
    {
      "cell_type": "code",
      "execution_count": null,
      "metadata": {
        "id": "909078ec-c2c0-46aa-a229-d986284b2e70"
      },
      "outputs": [],
      "source": [
        "A2[-1,0] # (4,1)의 원소"
      ],
      "id": "909078ec-c2c0-46aa-a229-d986284b2e70"
    },
    {
      "cell_type": "markdown",
      "metadata": {
        "id": "cca6a31b-afd6-4129-94bd-6dda019f721c"
      },
      "source": [
        "`-` 정수배열에 의한 인덱싱 & 슬라이싱!"
      ],
      "id": "cca6a31b-afd6-4129-94bd-6dda019f721c"
    },
    {
      "cell_type": "code",
      "execution_count": null,
      "metadata": {
        "id": "59a2221a-4a22-453d-a00a-8df58dad8f7f"
      },
      "outputs": [],
      "source": [
        "A2"
      ],
      "id": "59a2221a-4a22-453d-a00a-8df58dad8f7f"
    },
    {
      "cell_type": "code",
      "execution_count": null,
      "metadata": {
        "id": "c029d84f-8d2d-4da0-935e-f56bc73c0ed2"
      },
      "outputs": [],
      "source": [
        "A2[0,0:2] # 1행1열, 1행2열"
      ],
      "id": "c029d84f-8d2d-4da0-935e-f56bc73c0ed2"
    },
    {
      "cell_type": "code",
      "execution_count": null,
      "metadata": {
        "id": "d60a1858-d5cd-4562-b8f7-06067d59801d"
      },
      "outputs": [],
      "source": [
        "A2[0,:] # 1행"
      ],
      "id": "d60a1858-d5cd-4562-b8f7-06067d59801d"
    },
    {
      "cell_type": "code",
      "execution_count": null,
      "metadata": {
        "id": "abd02229-fee6-4851-bb44-2794d8052dd3"
      },
      "outputs": [],
      "source": [
        "A2[0] # 1행"
      ],
      "id": "abd02229-fee6-4851-bb44-2794d8052dd3"
    },
    {
      "cell_type": "code",
      "execution_count": null,
      "metadata": {
        "id": "ac91a63f-3a34-4cc3-819c-dd63159011d4"
      },
      "outputs": [],
      "source": [
        "A2[[0,2],:] # 1행, 3행"
      ],
      "id": "ac91a63f-3a34-4cc3-819c-dd63159011d4"
    },
    {
      "cell_type": "code",
      "execution_count": null,
      "metadata": {
        "id": "1c266c0a-ed43-4bd7-8cfe-0a489795b4e6"
      },
      "outputs": [],
      "source": [
        "A2[[0,2]] # 1행, 3행"
      ],
      "id": "1c266c0a-ed43-4bd7-8cfe-0a489795b4e6"
    },
    {
      "cell_type": "code",
      "execution_count": null,
      "metadata": {
        "id": "1bf0ad5d-83af-4cad-9cdf-60a1b72232db"
      },
      "outputs": [],
      "source": [
        "A2[:,0] # 1열"
      ],
      "id": "1bf0ad5d-83af-4cad-9cdf-60a1b72232db"
    },
    {
      "cell_type": "code",
      "execution_count": null,
      "metadata": {
        "id": "69c14f70-49e5-4d13-8f70-345510023961"
      },
      "outputs": [],
      "source": [
        "A2[:,[0]] # 1열"
      ],
      "id": "69c14f70-49e5-4d13-8f70-345510023961"
    },
    {
      "cell_type": "code",
      "execution_count": null,
      "metadata": {
        "id": "52dcf8c6-1a96-4b99-803f-24ed0eaed1e2"
      },
      "outputs": [],
      "source": [
        "A2[:,[0,2]] # 1열, 3열"
      ],
      "id": "52dcf8c6-1a96-4b99-803f-24ed0eaed1e2"
    },
    {
      "cell_type": "code",
      "execution_count": null,
      "metadata": {
        "id": "81d666b9-196e-4838-964d-107119867df7"
      },
      "outputs": [],
      "source": [
        "A2[0:2,[0,2]] # 1행~2행 //  1열,3열"
      ],
      "id": "81d666b9-196e-4838-964d-107119867df7"
    },
    {
      "cell_type": "markdown",
      "metadata": {
        "id": "03ee8e7a-8ce6-444e-b687-14bbb74f457c"
      },
      "source": [
        "## 1차원 배열의 선언\n",
        "\n",
        "`-` 리스트나 튜플을 선언하고 형변환"
      ],
      "id": "03ee8e7a-8ce6-444e-b687-14bbb74f457c"
    },
    {
      "cell_type": "code",
      "execution_count": null,
      "metadata": {
        "id": "3de506da-1bac-4022-8666-2867fe205aef"
      },
      "outputs": [],
      "source": [
        "np.array((1,2,3)) # 튜플->넘파이어레이"
      ],
      "id": "3de506da-1bac-4022-8666-2867fe205aef"
    },
    {
      "cell_type": "code",
      "execution_count": null,
      "metadata": {
        "id": "669f3058-244c-4fe4-934f-25342d735c78"
      },
      "outputs": [],
      "source": [
        "np.array([1,2,3]) # 리스트 ->넘파이어레이"
      ],
      "id": "669f3058-244c-4fe4-934f-25342d735c78"
    },
    {
      "cell_type": "markdown",
      "metadata": {
        "id": "cc1c9a90-02d1-415c-8567-9471d48241e2"
      },
      "source": [
        "`-` range()를 이용해서 선언하고 형변환"
      ],
      "id": "cc1c9a90-02d1-415c-8567-9471d48241e2"
    },
    {
      "cell_type": "code",
      "execution_count": null,
      "metadata": {
        "id": "616b8bfb-b9d4-4ae5-936c-cfaa6f577ab1"
      },
      "outputs": [],
      "source": [
        "np.array(range(10)) # range(10) -> 넘파이어레이"
      ],
      "id": "616b8bfb-b9d4-4ae5-936c-cfaa6f577ab1"
    },
    {
      "cell_type": "markdown",
      "metadata": {
        "id": "cf545687-b97f-4558-b80e-ba750d3c98ff"
      },
      "source": [
        "`-` np.zeros, np.ones"
      ],
      "id": "cf545687-b97f-4558-b80e-ba750d3c98ff"
    },
    {
      "cell_type": "code",
      "execution_count": null,
      "metadata": {
        "id": "ac3774ab-6f17-4b94-a68b-ae712290f53d"
      },
      "outputs": [],
      "source": [
        "np.zeros(3)"
      ],
      "id": "ac3774ab-6f17-4b94-a68b-ae712290f53d"
    },
    {
      "cell_type": "code",
      "execution_count": null,
      "metadata": {
        "id": "fe38e90b-920d-4e29-b43e-0d889e3266c1"
      },
      "outputs": [],
      "source": [
        "np.ones(4)"
      ],
      "id": "fe38e90b-920d-4e29-b43e-0d889e3266c1"
    },
    {
      "cell_type": "markdown",
      "metadata": {
        "id": "3f818958-12df-495a-8a12-4ff1142b382d"
      },
      "source": [
        "`-` np.linspace"
      ],
      "id": "3f818958-12df-495a-8a12-4ff1142b382d"
    },
    {
      "cell_type": "code",
      "execution_count": null,
      "metadata": {
        "id": "16dfe855-350d-4534-a6d7-ce0179cf6a6f"
      },
      "outputs": [],
      "source": [
        "np.linspace(0,1,12) # 0에서 시작하고 1에서 끝남 (양끝점 모두 포함)"
      ],
      "id": "16dfe855-350d-4534-a6d7-ce0179cf6a6f"
    },
    {
      "cell_type": "code",
      "execution_count": null,
      "metadata": {
        "id": "718ae69c-69e1-4d76-b48f-2a3d85f3b853"
      },
      "outputs": [],
      "source": [
        "len(np.linspace(0,1,12)) # 길이는 12"
      ],
      "id": "718ae69c-69e1-4d76-b48f-2a3d85f3b853"
    },
    {
      "cell_type": "markdown",
      "metadata": {
        "id": "33f86178-d1a4-42bc-a066-9c8be80714e9"
      },
      "source": [
        "`-` np.arange"
      ],
      "id": "33f86178-d1a4-42bc-a066-9c8be80714e9"
    },
    {
      "cell_type": "code",
      "execution_count": null,
      "metadata": {
        "id": "6d2de2ee-ecc8-409a-b958-a2bda810537a"
      },
      "outputs": [],
      "source": [
        "np.arange(5) # np.array(range(5))"
      ],
      "id": "6d2de2ee-ecc8-409a-b958-a2bda810537a"
    },
    {
      "cell_type": "code",
      "execution_count": null,
      "metadata": {
        "id": "96a13589-3084-4502-8a15-6ec9c6ecca36"
      },
      "outputs": [],
      "source": [
        "np.arange(1,6) # np.array(range(1,6))"
      ],
      "id": "96a13589-3084-4502-8a15-6ec9c6ecca36"
    },
    {
      "cell_type": "markdown",
      "metadata": {
        "id": "4f499085-16bb-490a-be79-7097f7cd2345"
      },
      "source": [
        "## reshape\n",
        "\n",
        "`-` reshape: ndarray의 특수한 기능"
      ],
      "id": "4f499085-16bb-490a-be79-7097f7cd2345"
    },
    {
      "cell_type": "code",
      "execution_count": null,
      "metadata": {
        "id": "4731e325-ab66-4463-a754-e46af4b78345"
      },
      "outputs": [],
      "source": [
        "a=np.array([11,22,33,44,55,66])\n",
        "a ## 길이가 6인 벡터"
      ],
      "id": "4731e325-ab66-4463-a754-e46af4b78345"
    },
    {
      "cell_type": "code",
      "execution_count": null,
      "metadata": {
        "id": "dc0791b2-2774-45cc-bee8-e66b08a843b6"
      },
      "outputs": [],
      "source": [
        "a.reshape(2,3) ## (2,3) matrix 라고 생각해도 무방"
      ],
      "id": "dc0791b2-2774-45cc-bee8-e66b08a843b6"
    },
    {
      "cell_type": "markdown",
      "metadata": {
        "id": "d6ae1115-8a06-4248-9f16-59002e9a18fd"
      },
      "source": [
        "note: reshape은 a자체를 변화시키는것은 아님"
      ],
      "id": "d6ae1115-8a06-4248-9f16-59002e9a18fd"
    },
    {
      "cell_type": "code",
      "execution_count": null,
      "metadata": {
        "id": "3d1b3d98-bed1-49ca-aba0-aa028b9a0a1a"
      },
      "outputs": [],
      "source": [
        "a # a는 그대로 있음"
      ],
      "id": "3d1b3d98-bed1-49ca-aba0-aa028b9a0a1a"
    },
    {
      "cell_type": "code",
      "execution_count": null,
      "metadata": {
        "id": "21e92247-3bad-4dbd-b90b-575a4882b77e"
      },
      "outputs": [],
      "source": [
        "b= a.reshape(2,3) # a를 reshape한 결과를 b에 저장\n",
        "b"
      ],
      "id": "21e92247-3bad-4dbd-b90b-575a4882b77e"
    },
    {
      "cell_type": "code",
      "execution_count": null,
      "metadata": {
        "id": "9d7a19da-c4f9-4780-9c45-8ed12ae468e2"
      },
      "outputs": [],
      "source": [
        "a # a는 여전히 그대로 있음"
      ],
      "id": "9d7a19da-c4f9-4780-9c45-8ed12ae468e2"
    },
    {
      "cell_type": "markdown",
      "metadata": {
        "id": "bcca1e22-3081-469f-bd92-a7e45a1e5997"
      },
      "source": [
        "`-` 다시 b를 a처럼 바꾸고 싶다"
      ],
      "id": "bcca1e22-3081-469f-bd92-a7e45a1e5997"
    },
    {
      "cell_type": "code",
      "execution_count": null,
      "metadata": {
        "id": "bcacae02-f02c-4d7d-aeda-bc1b19c8e88b"
      },
      "outputs": [],
      "source": [
        "b"
      ],
      "id": "bcacae02-f02c-4d7d-aeda-bc1b19c8e88b"
    },
    {
      "cell_type": "code",
      "execution_count": null,
      "metadata": {
        "id": "5af9b148-56be-471a-939a-c968307f9a61"
      },
      "outputs": [],
      "source": [
        "b.reshape(6) # b는 (2,3) matrix , 그런데 이것을 길이가 6인 벡터로 만들고 싶다."
      ],
      "id": "5af9b148-56be-471a-939a-c968307f9a61"
    },
    {
      "cell_type": "markdown",
      "metadata": {
        "id": "719bd905-995c-4d39-b6cf-788ca9796985"
      },
      "source": [
        "`-` reshape with -1"
      ],
      "id": "719bd905-995c-4d39-b6cf-788ca9796985"
    },
    {
      "cell_type": "code",
      "execution_count": null,
      "metadata": {
        "id": "9403d743-e9ae-4a21-917e-1fcc2ab8fe43"
      },
      "outputs": [],
      "source": [
        "a=np.arange(24) # np.array(range(24))\n",
        "a"
      ],
      "id": "9403d743-e9ae-4a21-917e-1fcc2ab8fe43"
    },
    {
      "cell_type": "code",
      "execution_count": null,
      "metadata": {
        "id": "96eaef8b-4785-42b9-b501-3a7c76a0eb6c"
      },
      "outputs": [],
      "source": [
        "a.reshape(2,-1)"
      ],
      "id": "96eaef8b-4785-42b9-b501-3a7c76a0eb6c"
    },
    {
      "cell_type": "code",
      "execution_count": null,
      "metadata": {
        "id": "0b2a2e78-87cb-4d72-bfda-d45452fa706c"
      },
      "outputs": [],
      "source": [
        "a.reshape(3,-1)"
      ],
      "id": "0b2a2e78-87cb-4d72-bfda-d45452fa706c"
    },
    {
      "cell_type": "code",
      "execution_count": null,
      "metadata": {
        "id": "0c0e19df-d09e-4134-ae05-fcf4682d7c2c"
      },
      "outputs": [],
      "source": [
        "a.reshape(4,-1)"
      ],
      "id": "0c0e19df-d09e-4134-ae05-fcf4682d7c2c"
    },
    {
      "cell_type": "code",
      "execution_count": null,
      "metadata": {
        "id": "69b2d2d5-74c3-401c-bf52-5ab1a8e55c8d"
      },
      "outputs": [],
      "source": [
        "a.reshape(5,-1)"
      ],
      "id": "69b2d2d5-74c3-401c-bf52-5ab1a8e55c8d"
    },
    {
      "cell_type": "code",
      "execution_count": null,
      "metadata": {
        "id": "b207ba94-c3b1-4737-97d2-ef0a94f4177b"
      },
      "outputs": [],
      "source": [
        "a.reshape(6,-1)"
      ],
      "id": "b207ba94-c3b1-4737-97d2-ef0a94f4177b"
    },
    {
      "cell_type": "code",
      "execution_count": null,
      "metadata": {
        "id": "1ae36f11-6d1c-4db0-8dd5-09de802896ef"
      },
      "outputs": [],
      "source": [
        "a.reshape(7,-1)"
      ],
      "id": "1ae36f11-6d1c-4db0-8dd5-09de802896ef"
    },
    {
      "cell_type": "code",
      "execution_count": null,
      "metadata": {
        "id": "46efedd9-26f4-4e39-b4d7-ef83e86f9ea6"
      },
      "outputs": [],
      "source": [
        "a.reshape(8,-1)"
      ],
      "id": "46efedd9-26f4-4e39-b4d7-ef83e86f9ea6"
    },
    {
      "cell_type": "code",
      "execution_count": null,
      "metadata": {
        "id": "90c353ed-911d-4be1-a63e-38f3f30d72dc"
      },
      "outputs": [],
      "source": [
        "a.reshape(12,-1)"
      ],
      "id": "90c353ed-911d-4be1-a63e-38f3f30d72dc"
    },
    {
      "cell_type": "code",
      "execution_count": null,
      "metadata": {
        "id": "d4ea5808-dbc6-4f35-89fd-05863c87d1f3"
      },
      "outputs": [],
      "source": [
        "b= a.reshape(12,-1)\n",
        "b"
      ],
      "id": "d4ea5808-dbc6-4f35-89fd-05863c87d1f3"
    },
    {
      "cell_type": "code",
      "execution_count": null,
      "metadata": {
        "id": "004a3421-e410-4341-b41d-86362ff76959"
      },
      "outputs": [],
      "source": [
        "b.reshape(-1) # b를 다시 길이가 24인 벡터로!"
      ],
      "id": "004a3421-e410-4341-b41d-86362ff76959"
    },
    {
      "cell_type": "markdown",
      "metadata": {
        "id": "5eb51323-6448-45cf-b46c-3b8361e51799"
      },
      "source": [
        "## 2차원 배열의 선언"
      ],
      "id": "5eb51323-6448-45cf-b46c-3b8361e51799"
    },
    {
      "cell_type": "code",
      "execution_count": null,
      "metadata": {
        "id": "3da3c67b-30b7-4cf1-872e-d310ea4055e1"
      },
      "outputs": [],
      "source": [
        "np.zeros((3,3))"
      ],
      "id": "3da3c67b-30b7-4cf1-872e-d310ea4055e1"
    },
    {
      "cell_type": "code",
      "execution_count": null,
      "metadata": {
        "id": "73c8e7f2-61f7-4325-b002-d4cbcef6bdf7"
      },
      "outputs": [],
      "source": [
        "np.ones((3,3))"
      ],
      "id": "73c8e7f2-61f7-4325-b002-d4cbcef6bdf7"
    },
    {
      "cell_type": "code",
      "execution_count": null,
      "metadata": {
        "id": "299f35b3-aabc-40e5-b15f-82fd4f2b4575"
      },
      "outputs": [],
      "source": [
        "np.eye(3)"
      ],
      "id": "299f35b3-aabc-40e5-b15f-82fd4f2b4575"
    },
    {
      "cell_type": "code",
      "execution_count": null,
      "metadata": {
        "id": "cfef5c30-b3ef-4587-9354-35820bef735f"
      },
      "outputs": [],
      "source": [
        "np.diag([1,2,3,-1])"
      ],
      "id": "cfef5c30-b3ef-4587-9354-35820bef735f"
    },
    {
      "cell_type": "markdown",
      "metadata": {
        "id": "024c2dbf-290c-4392-95dc-2bb0e0b5348f"
      },
      "source": [
        "## 랜덤으로 배열 생성"
      ],
      "id": "024c2dbf-290c-4392-95dc-2bb0e0b5348f"
    },
    {
      "cell_type": "code",
      "execution_count": null,
      "metadata": {
        "id": "9b77680f-93dd-4dbf-81ca-61e0c6a9b389"
      },
      "outputs": [],
      "source": [
        "np.random.randn(10) # 표쥰정규분포에서 10개를 뽑음"
      ],
      "id": "9b77680f-93dd-4dbf-81ca-61e0c6a9b389"
    },
    {
      "cell_type": "code",
      "execution_count": null,
      "metadata": {
        "id": "95492076-4b69-474c-b22b-73a3376af346"
      },
      "outputs": [],
      "source": [
        "np.random.rand(10) # 0~1사이에서 10개를 뽑음"
      ],
      "id": "95492076-4b69-474c-b22b-73a3376af346"
    },
    {
      "cell_type": "code",
      "execution_count": null,
      "metadata": {
        "id": "f633f72b-1b63-44d2-aef9-91e36fbba440"
      },
      "outputs": [],
      "source": [
        "np.random.randn(4).reshape(2,2) # 표준정규분포에서 4개를 뽑고 (2,2) ndarray로 형태변환"
      ],
      "id": "f633f72b-1b63-44d2-aef9-91e36fbba440"
    },
    {
      "cell_type": "code",
      "execution_count": null,
      "metadata": {
        "id": "ffe8f40d-18bc-4b08-817b-f03413e48cbc"
      },
      "outputs": [],
      "source": [
        "np.random.rand(4).reshape(2,2) # 0~1 4개를 뽑고 (2,2) ndarray로 형태변환"
      ],
      "id": "ffe8f40d-18bc-4b08-817b-f03413e48cbc"
    },
    {
      "cell_type": "markdown",
      "metadata": {
        "id": "339d1558-3b5a-44b6-85ac-5813c15fc1e2"
      },
      "source": [
        "## 행렬관련기능"
      ],
      "id": "339d1558-3b5a-44b6-85ac-5813c15fc1e2"
    },
    {
      "cell_type": "code",
      "execution_count": null,
      "metadata": {
        "id": "642c8453-3cae-410c-a5db-b87bb5f5a4b7"
      },
      "outputs": [],
      "source": [
        "A=np.arange(4).reshape(2,2)\n",
        "A"
      ],
      "id": "642c8453-3cae-410c-a5db-b87bb5f5a4b7"
    },
    {
      "cell_type": "code",
      "execution_count": null,
      "metadata": {
        "id": "6f6f4580-bf90-42be-9638-163bb8a761df"
      },
      "outputs": [],
      "source": [
        "A.T # .T는 전치행렬을 구해줌"
      ],
      "id": "6f6f4580-bf90-42be-9638-163bb8a761df"
    },
    {
      "cell_type": "code",
      "execution_count": null,
      "metadata": {
        "id": "f1ad1530-4df0-49ee-af18-460fac01f585"
      },
      "outputs": [],
      "source": [
        "np.linalg.inv(A) # np.linalg.inv는 역행렬을 구해주는 함수"
      ],
      "id": "f1ad1530-4df0-49ee-af18-460fac01f585"
    },
    {
      "cell_type": "code",
      "execution_count": null,
      "metadata": {
        "id": "4e90a130-c711-49c5-9d30-2399bacac8e4"
      },
      "outputs": [],
      "source": [
        "A @ np.linalg.inv(A) # @는 행렬곱을 수행"
      ],
      "id": "4e90a130-c711-49c5-9d30-2399bacac8e4"
    },
    {
      "cell_type": "markdown",
      "metadata": {
        "id": "4d05deb2-3f23-45f3-80a9-e1481da9e817"
      },
      "source": [
        "## 차원\n",
        "\n",
        "`-` 넘파이배열의 차원은 .shape 으로 확인가능\n",
        "\n",
        "`-` 아래는 모두 미묘하게 다르다."
      ],
      "id": "4d05deb2-3f23-45f3-80a9-e1481da9e817"
    },
    {
      "cell_type": "code",
      "execution_count": null,
      "metadata": {
        "id": "57d6ca91"
      },
      "outputs": [],
      "source": [
        "a=np.array(3.14) # 스칼라, 0d array\n",
        "a, a.shape"
      ],
      "id": "57d6ca91"
    },
    {
      "cell_type": "code",
      "execution_count": null,
      "metadata": {
        "id": "8ccda569"
      },
      "outputs": [],
      "source": [
        "a=np.array([3.14]) # 벡터, 1d array\n",
        "a, a.shape"
      ],
      "id": "8ccda569"
    },
    {
      "cell_type": "code",
      "execution_count": null,
      "metadata": {
        "id": "cd793e3a"
      },
      "outputs": [],
      "source": [
        "a=np.array([[3.14]]) # 매트릭스, 2d array\n",
        "a, a.shape"
      ],
      "id": "cd793e3a"
    },
    {
      "cell_type": "code",
      "execution_count": null,
      "metadata": {
        "id": "573f62ea"
      },
      "outputs": [],
      "source": [
        "a=np.array([[[3.14]]]) # 텐서, 3d array\n",
        "a, a.shape"
      ],
      "id": "573f62ea"
    },
    {
      "cell_type": "markdown",
      "source": [
        "# Quiz"
      ],
      "metadata": {
        "id": "jiZtSKryKJPR"
      },
      "id": "jiZtSKryKJPR"
    },
    {
      "cell_type": "markdown",
      "source": [
        "`1`. shape이 ()인 numpy array를 만들어라. (즉 차원이 0인 np.array를\n",
        "만들어라)"
      ],
      "metadata": {
        "id": "FWVGGUHwJmlW"
      },
      "id": "FWVGGUHwJmlW"
    },
    {
      "cell_type": "code",
      "source": [
        "a= np.array(0)\n",
        "a.shape"
      ],
      "metadata": {
        "colab": {
          "base_uri": "https://localhost:8080/"
        },
        "id": "vlS-pN77Jn3Z",
        "outputId": "919b1629-c000-45a0-a743-8209a5c3f71e"
      },
      "id": "vlS-pN77Jn3Z",
      "execution_count": 2,
      "outputs": [
        {
          "output_type": "execute_result",
          "data": {
            "text/plain": [
              "()"
            ]
          },
          "metadata": {},
          "execution_count": 2
        }
      ]
    },
    {
      "cell_type": "markdown",
      "source": [
        "`2` a의 모든 원소에 1을 더하는 코드를 작성하라. (numpy를 이용할것)\n",
        "\n",
        "``` python\n",
        "a=[1,3,2,5,-3,3,8,2,3,1]\n",
        "```"
      ],
      "metadata": {
        "id": "ZpRzst9yKFgu"
      },
      "id": "ZpRzst9yKFgu"
    },
    {
      "cell_type": "code",
      "source": [
        "a=[1,3,2,5,-3,3,8,2,3,1]\n",
        "np.array(a) + 1"
      ],
      "metadata": {
        "colab": {
          "base_uri": "https://localhost:8080/"
        },
        "id": "j9eJdzPsKMqy",
        "outputId": "dfdf3674-6888-4e2b-f720-3051f9f2f890"
      },
      "id": "j9eJdzPsKMqy",
      "execution_count": 5,
      "outputs": [
        {
          "output_type": "execute_result",
          "data": {
            "text/plain": [
              "array([ 2,  4,  3,  6, -2,  4,  9,  3,  4,  2])"
            ]
          },
          "metadata": {},
          "execution_count": 5
        }
      ]
    },
    {
      "cell_type": "markdown",
      "source": [
        "`3` 아래와 같은 수열을 생생성하라.\n",
        "\n",
        "    0,1,2,3,4,5,...,99\n",
        "\n",
        "위의 수열에서 1,4,7,10,13,… 번째의 원소를 뽑아서 아래와 같은 수열을\n",
        "만들어라. (첫번째 원소는 0이다)\n",
        "\n",
        "    0,3,6,9,12,...,93,96,99"
      ],
      "metadata": {
        "id": "KQQBHSKqKY_1"
      },
      "id": "KQQBHSKqKY_1"
    },
    {
      "cell_type": "code",
      "source": [
        "x = np.array(range(100))\n",
        "x\n",
        "\n",
        "x[::3]"
      ],
      "metadata": {
        "colab": {
          "base_uri": "https://localhost:8080/"
        },
        "id": "lzoOOua1Kakf",
        "outputId": "d975404e-465f-4c80-e4a0-287e11b91112"
      },
      "id": "lzoOOua1Kakf",
      "execution_count": 5,
      "outputs": [
        {
          "output_type": "execute_result",
          "data": {
            "text/plain": [
              "array([ 0,  3,  6,  9, 12, 15, 18, 21, 24, 27, 30, 33, 36, 39, 42, 45, 48,\n",
              "       51, 54, 57, 60, 63, 66, 69, 72, 75, 78, 81, 84, 87, 90, 93, 96, 99])"
            ]
          },
          "metadata": {},
          "execution_count": 5
        }
      ]
    },
    {
      "cell_type": "markdown",
      "source": [
        "`4`. shape이 (5,5)인 단위행렬을 만들어라."
      ],
      "metadata": {
        "id": "Xe4cspKWn40a"
      },
      "id": "Xe4cspKWn40a"
    },
    {
      "cell_type": "code",
      "source": [
        "np.eye(5)"
      ],
      "metadata": {
        "colab": {
          "base_uri": "https://localhost:8080/"
        },
        "id": "7XXN-bXTn4XA",
        "outputId": "baf8e94c-472e-4642-d342-dc28b2b529ff"
      },
      "id": "7XXN-bXTn4XA",
      "execution_count": 6,
      "outputs": [
        {
          "output_type": "execute_result",
          "data": {
            "text/plain": [
              "array([[1., 0., 0., 0., 0.],\n",
              "       [0., 1., 0., 0., 0.],\n",
              "       [0., 0., 1., 0., 0.],\n",
              "       [0., 0., 0., 1., 0.],\n",
              "       [0., 0., 0., 0., 1.]])"
            ]
          },
          "metadata": {},
          "execution_count": 6
        }
      ]
    },
    {
      "cell_type": "markdown",
      "source": [
        "`5`. numpy를 이용하여 아래의 역행렬을 구하라.\n",
        "\n",
        "$$\\begin{bmatrix}\n",
        "1&  0 \\\\\n",
        "0&  3\n",
        "\\end{bmatrix}$$"
      ],
      "metadata": {
        "id": "7QaaooNHoXt9"
      },
      "id": "7QaaooNHoXt9"
    },
    {
      "cell_type": "code",
      "source": [
        "x = np.array([[1, 0], [0, 3]])\n",
        "print(x)\n",
        "x2 = np.linalg.inv(x)\n",
        "print(x2)\n",
        "\n",
        "# 역행렬 검증\n",
        "# 원 행렬과 역행렬을 내적(행렬곱)을 구하면 단위행렬이 나옴\n",
        "np.dot(x, x2)"
      ],
      "metadata": {
        "colab": {
          "base_uri": "https://localhost:8080/"
        },
        "id": "A3pVYse6oZLI",
        "outputId": "97c4e384-e115-4d5e-f847-3cd71cde3727"
      },
      "id": "A3pVYse6oZLI",
      "execution_count": 9,
      "outputs": [
        {
          "output_type": "stream",
          "name": "stdout",
          "text": [
            "[[1 0]\n",
            " [0 3]]\n",
            "[[1.         0.        ]\n",
            " [0.         0.33333333]]\n"
          ]
        },
        {
          "output_type": "execute_result",
          "data": {
            "text/plain": [
              "array([[1., 0.],\n",
              "       [0., 1.]])"
            ]
          },
          "metadata": {},
          "execution_count": 9
        }
      ]
    },
    {
      "cell_type": "markdown",
      "source": [
        "`6`. 본인의 생년월일로 랜덤시드를 설정하고 표준정규분포에서 1000개의\n",
        "난수를 생성하라.\n",
        "\n",
        "``` python\n",
        "# 생년월일이 21년 07월 06일 이라면 아래와 같이 시드설정\n",
        "np.random.seed(20210706)\n",
        "```"
      ],
      "metadata": {
        "id": "atwSjLdPp0BE"
      },
      "id": "atwSjLdPp0BE"
    },
    {
      "cell_type": "code",
      "source": [
        "np.random.seed(20210706)\n",
        "x = np.random.randn(1000)"
      ],
      "metadata": {
        "id": "8M2DGxjrp1dj"
      },
      "id": "8M2DGxjrp1dj",
      "execution_count": 13,
      "outputs": []
    },
    {
      "cell_type": "markdown",
      "source": [
        "`7`. `6`의 결과로 나온 1000개의 난수중 1.96보다 크거나 -1.96보다 작은\n",
        "작은값은 모두 몇개인가?"
      ],
      "metadata": {
        "id": "dRPrWG6CulA4"
      },
      "id": "dRPrWG6CulA4"
    },
    {
      "cell_type": "code",
      "source": [
        "sum([i <= -1.96 or i >= 1.96 for i in x])"
      ],
      "metadata": {
        "colab": {
          "base_uri": "https://localhost:8080/"
        },
        "id": "wyDIvJCdumP5",
        "outputId": "97d16000-4c2c-4466-9b3e-fe7c6e78a1ce"
      },
      "id": "wyDIvJCdumP5",
      "execution_count": 16,
      "outputs": [
        {
          "output_type": "execute_result",
          "data": {
            "text/plain": [
              "42"
            ]
          },
          "metadata": {},
          "execution_count": 16
        }
      ]
    },
    {
      "cell_type": "markdown",
      "metadata": {
        "id": "3927fc0d-f85f-46c3-9255-b0c04ed6c7c5"
      },
      "source": [
        "`8`. 아래와 같은 배열을 선언하라."
      ],
      "id": "3927fc0d-f85f-46c3-9255-b0c04ed6c7c5"
    },
    {
      "cell_type": "code",
      "execution_count": 23,
      "metadata": {
        "id": "5c52e3d3",
        "colab": {
          "base_uri": "https://localhost:8080/"
        },
        "outputId": "238d4b2c-2d0b-4619-be92-f552f7c644fb"
      },
      "outputs": [
        {
          "output_type": "execute_result",
          "data": {
            "text/plain": [
              "array([[ 0,  1,  2,  3],\n",
              "       [ 4,  5,  6,  7],\n",
              "       [ 8,  9, 10, 11]])"
            ]
          },
          "metadata": {},
          "execution_count": 23
        }
      ],
      "source": [
        "a=np.arange(12).reshape(3,4)\n",
        "a"
      ],
      "id": "5c52e3d3"
    },
    {
      "cell_type": "markdown",
      "metadata": {
        "id": "83abc4b0-871e-45ba-9eef-a7a320fc5975"
      },
      "source": [
        "차원의 수를 유지하면서 1열을 추출하는 코드를 작성하라. 즉 결과가 아래와\n",
        "같이 나오도록 하라.\n",
        "\n",
        "    array([[0],\n",
        "           [4],\n",
        "           [8]])"
      ],
      "id": "83abc4b0-871e-45ba-9eef-a7a320fc5975"
    },
    {
      "cell_type": "code",
      "source": [
        "print(a[:,[0]])\n",
        "print(a[:, 0:1])"
      ],
      "metadata": {
        "colab": {
          "base_uri": "https://localhost:8080/"
        },
        "id": "I-VXTbJJ8evX",
        "outputId": "727d679c-75c8-4468-dd9f-2edb59c022b0"
      },
      "id": "I-VXTbJJ8evX",
      "execution_count": 29,
      "outputs": [
        {
          "output_type": "stream",
          "name": "stdout",
          "text": [
            "[[0]\n",
            " [4]\n",
            " [8]]\n",
            "[[0]\n",
            " [4]\n",
            " [8]]\n"
          ]
        }
      ]
    },
    {
      "cell_type": "markdown",
      "source": [
        "`9`. 아래의 코드를 관찰하라."
      ],
      "metadata": {
        "id": "-Or0WFpMwQqw"
      },
      "id": "-Or0WFpMwQqw"
    },
    {
      "cell_type": "code",
      "execution_count": 30,
      "metadata": {
        "id": "8010f35a"
      },
      "outputs": [],
      "source": [
        "np.random.seed(43052)\n",
        "a=np.random.randint(low=20,high=25,size=(10,10))"
      ],
      "id": "8010f35a"
    },
    {
      "cell_type": "markdown",
      "metadata": {
        "id": "ede801bc-f35a-4440-be7b-5fa5cb356242"
      },
      "source": [
        "a에서 20,21,22는 각각 몇개씩 있는가?\n",
        "\n",
        "**note** 공부를 위하여 `np.random.randint()`의 기능을 chatGPT등으로\n",
        "확인해 볼 것"
      ],
      "id": "ede801bc-f35a-4440-be7b-5fa5cb356242"
    },
    {
      "cell_type": "code",
      "source": [
        "(a == 20).sum(), (a == 21).sum(), (a == 22).sum()"
      ],
      "metadata": {
        "colab": {
          "base_uri": "https://localhost:8080/"
        },
        "id": "FcyBsOH29Ojx",
        "outputId": "4c452ff1-9257-4c2b-fe32-86f0b0aefa4b"
      },
      "id": "FcyBsOH29Ojx",
      "execution_count": 36,
      "outputs": [
        {
          "output_type": "execute_result",
          "data": {
            "text/plain": [
              "(17, 20, 19)"
            ]
          },
          "metadata": {},
          "execution_count": 36
        }
      ]
    },
    {
      "cell_type": "markdown",
      "source": [
        "`10`. 아래의 코드를 관찰하라."
      ],
      "metadata": {
        "id": "YiT8D6iywUg6"
      },
      "id": "YiT8D6iywUg6"
    },
    {
      "cell_type": "code",
      "execution_count": 37,
      "metadata": {
        "id": "7af40b08",
        "colab": {
          "base_uri": "https://localhost:8080/"
        },
        "outputId": "d3acb6f7-eea3-4ac4-f6e7-06313288ee2a"
      },
      "outputs": [
        {
          "output_type": "execute_result",
          "data": {
            "text/plain": [
              "[[True, False, False, False, False],\n",
              " [False, True, False, False, False],\n",
              " [False, False, True, False, False],\n",
              " [False, False, False, True, False],\n",
              " [False, False, False, False, True]]"
            ]
          },
          "metadata": {},
          "execution_count": 37
        }
      ],
      "source": [
        "lst = [[i==j for i in range(5)] for j in range(5)]\n",
        "lst"
      ],
      "id": "7af40b08"
    },
    {
      "cell_type": "markdown",
      "metadata": {
        "id": "85695a5c-17fc-485b-8504-cec1355bb202"
      },
      "source": [
        "lst를 이용하여 shape이 (5,5)인 단위행렬을 만들어라."
      ],
      "id": "85695a5c-17fc-485b-8504-cec1355bb202"
    },
    {
      "cell_type": "code",
      "execution_count": 44,
      "metadata": {
        "id": "6fffe136",
        "colab": {
          "base_uri": "https://localhost:8080/"
        },
        "outputId": "6e3b33e9-dbf5-41c7-ec28-eab29c1064c2"
      },
      "outputs": [
        {
          "output_type": "execute_result",
          "data": {
            "text/plain": [
              "array([[1, 0, 0, 0, 0],\n",
              "       [0, 1, 0, 0, 0],\n",
              "       [0, 0, 1, 0, 0],\n",
              "       [0, 0, 0, 1, 0],\n",
              "       [0, 0, 0, 0, 1]])"
            ]
          },
          "metadata": {},
          "execution_count": 44
        }
      ],
      "source": [
        "# 출력결과는 아래와 같이 나와야 한다."
      ],
      "id": "6fffe136"
    },
    {
      "cell_type": "code",
      "source": [
        "np.array([[i == j for i in range(5)] for j in range(5)])*1"
      ],
      "metadata": {
        "colab": {
          "base_uri": "https://localhost:8080/"
        },
        "id": "WurgT0VK-8_s",
        "outputId": "a77cebd9-080f-47a3-8c98-998a6d2203db"
      },
      "id": "WurgT0VK-8_s",
      "execution_count": 48,
      "outputs": [
        {
          "output_type": "execute_result",
          "data": {
            "text/plain": [
              "array([[1, 0, 0, 0, 0],\n",
              "       [0, 1, 0, 0, 0],\n",
              "       [0, 0, 1, 0, 0],\n",
              "       [0, 0, 0, 1, 0],\n",
              "       [0, 0, 0, 0, 1]])"
            ]
          },
          "metadata": {},
          "execution_count": 48
        }
      ]
    },
    {
      "cell_type": "markdown",
      "metadata": {
        "id": "c7d45f2c-09a4-40b0-954b-8eeaec80f668"
      },
      "source": [
        "`12`. 적당한 코드를 이용하여 아래와 같은 리스트를 생성하라."
      ],
      "id": "c7d45f2c-09a4-40b0-954b-8eeaec80f668"
    },
    {
      "cell_type": "code",
      "execution_count": 49,
      "metadata": {
        "id": "39b1f1c4",
        "colab": {
          "base_uri": "https://localhost:8080/"
        },
        "outputId": "7fbd8efd-f8c5-4c51-922d-804a79b7d867"
      },
      "outputs": [
        {
          "output_type": "execute_result",
          "data": {
            "text/plain": [
              "[[0, 1, 2, 3, 4],\n",
              " [1, 2, 3, 4, 5],\n",
              " [2, 3, 4, 5, 6],\n",
              " [3, 4, 5, 6, 7],\n",
              " [4, 5, 6, 7, 8]]"
            ]
          },
          "metadata": {},
          "execution_count": 49
        }
      ],
      "source": [
        "lst"
      ],
      "id": "39b1f1c4"
    },
    {
      "cell_type": "code",
      "source": [
        "lst = [[i + j for i in range(5)] for j in range(5)]\n",
        "lst"
      ],
      "metadata": {
        "colab": {
          "base_uri": "https://localhost:8080/"
        },
        "id": "tG2FKCMKAPW1",
        "outputId": "070bf2bb-7b9c-4301-ca4b-e76181b3175e"
      },
      "id": "tG2FKCMKAPW1",
      "execution_count": 51,
      "outputs": [
        {
          "output_type": "execute_result",
          "data": {
            "text/plain": [
              "[[0, 1, 2, 3, 4],\n",
              " [1, 2, 3, 4, 5],\n",
              " [2, 3, 4, 5, 6],\n",
              " [3, 4, 5, 6, 7],\n",
              " [4, 5, 6, 7, 8]]"
            ]
          },
          "metadata": {},
          "execution_count": 51
        }
      ]
    },
    {
      "cell_type": "markdown",
      "metadata": {
        "id": "46e3a2ef-3695-41b8-b3c7-7f9ab6d8a1dc"
      },
      "source": [
        "이를 이용하여 아래와 같은 행렬을 선언하라."
      ],
      "id": "46e3a2ef-3695-41b8-b3c7-7f9ab6d8a1dc"
    },
    {
      "cell_type": "code",
      "execution_count": null,
      "metadata": {
        "id": "ca3fb698"
      },
      "outputs": [],
      "source": [
        "arr"
      ],
      "id": "ca3fb698"
    },
    {
      "cell_type": "code",
      "source": [
        "np.array(lst)"
      ],
      "metadata": {
        "colab": {
          "base_uri": "https://localhost:8080/"
        },
        "id": "9xuSwyMyAg9y",
        "outputId": "22d66766-99e1-46e1-9e43-cc311f7ba5c3"
      },
      "id": "9xuSwyMyAg9y",
      "execution_count": 52,
      "outputs": [
        {
          "output_type": "execute_result",
          "data": {
            "text/plain": [
              "array([[0, 1, 2, 3, 4],\n",
              "       [1, 2, 3, 4, 5],\n",
              "       [2, 3, 4, 5, 6],\n",
              "       [3, 4, 5, 6, 7],\n",
              "       [4, 5, 6, 7, 8]])"
            ]
          },
          "metadata": {},
          "execution_count": 52
        }
      ]
    },
    {
      "cell_type": "markdown",
      "metadata": {
        "id": "0b7a6cf5-4980-4fe0-a2b8-7cb3ba5501c2"
      },
      "source": [
        "`13`. 적당한 코드를 이용하여 아래와 같은 행렬을 선언하라."
      ],
      "id": "0b7a6cf5-4980-4fe0-a2b8-7cb3ba5501c2"
    },
    {
      "cell_type": "code",
      "execution_count": 53,
      "metadata": {
        "id": "5e9d53b4",
        "colab": {
          "base_uri": "https://localhost:8080/"
        },
        "outputId": "741fc25d-ca0b-4777-f476-aab427fb52e2"
      },
      "outputs": [
        {
          "output_type": "execute_result",
          "data": {
            "text/plain": [
              "array([[1, 1, 0, 0, 0, 0, 0, 0, 0, 0],\n",
              "       [1, 1, 1, 0, 0, 0, 0, 0, 0, 0],\n",
              "       [0, 1, 1, 1, 0, 0, 0, 0, 0, 0],\n",
              "       [0, 0, 1, 1, 1, 0, 0, 0, 0, 0],\n",
              "       [0, 0, 0, 1, 1, 1, 0, 0, 0, 0],\n",
              "       [0, 0, 0, 0, 1, 1, 1, 0, 0, 0],\n",
              "       [0, 0, 0, 0, 0, 1, 1, 1, 0, 0],\n",
              "       [0, 0, 0, 0, 0, 0, 1, 1, 1, 0],\n",
              "       [0, 0, 0, 0, 0, 0, 0, 1, 1, 1],\n",
              "       [0, 0, 0, 0, 0, 0, 0, 0, 1, 1]])"
            ]
          },
          "metadata": {},
          "execution_count": 53
        }
      ],
      "source": [
        "# 출력결과는 아래와 같아야 한다."
      ],
      "id": "5e9d53b4"
    },
    {
      "cell_type": "code",
      "source": [
        "# 10x10 zero matrix를 생성합니다.\n",
        "result = np.zeros((10,10))\n",
        "\n",
        "# 대각선 방향으로 1을 채웁니다.\n",
        "np.fill_diagonal(result, 1)\n",
        "\n",
        "# 위와 아래의 대각선 방향으로 1을 채웁니다.\n",
        "np.fill_diagonal(result[1:], 1)\n",
        "np.fill_diagonal(result[:, 1:], 1)\n",
        "\n",
        "print(result)\n",
        "np.array([[abs(i-j)<2 for i in range(10)] for j in range(10)])*1"
      ],
      "metadata": {
        "colab": {
          "base_uri": "https://localhost:8080/"
        },
        "id": "G0upr3RKAj-3",
        "outputId": "9cf6370e-8ca2-4195-9d6d-c0d574d39c26"
      },
      "id": "G0upr3RKAj-3",
      "execution_count": 57,
      "outputs": [
        {
          "output_type": "stream",
          "name": "stdout",
          "text": [
            "[[1. 1. 0. 0. 0. 0. 0. 0. 0. 0.]\n",
            " [1. 1. 1. 0. 0. 0. 0. 0. 0. 0.]\n",
            " [0. 1. 1. 1. 0. 0. 0. 0. 0. 0.]\n",
            " [0. 0. 1. 1. 1. 0. 0. 0. 0. 0.]\n",
            " [0. 0. 0. 1. 1. 1. 0. 0. 0. 0.]\n",
            " [0. 0. 0. 0. 1. 1. 1. 0. 0. 0.]\n",
            " [0. 0. 0. 0. 0. 1. 1. 1. 0. 0.]\n",
            " [0. 0. 0. 0. 0. 0. 1. 1. 1. 0.]\n",
            " [0. 0. 0. 0. 0. 0. 0. 1. 1. 1.]\n",
            " [0. 0. 0. 0. 0. 0. 0. 0. 1. 1.]]\n"
          ]
        },
        {
          "output_type": "execute_result",
          "data": {
            "text/plain": [
              "array([[1, 1, 0, 0, 0, 0, 0, 0, 0, 0],\n",
              "       [1, 1, 1, 0, 0, 0, 0, 0, 0, 0],\n",
              "       [0, 1, 1, 1, 0, 0, 0, 0, 0, 0],\n",
              "       [0, 0, 1, 1, 1, 0, 0, 0, 0, 0],\n",
              "       [0, 0, 0, 1, 1, 1, 0, 0, 0, 0],\n",
              "       [0, 0, 0, 0, 1, 1, 1, 0, 0, 0],\n",
              "       [0, 0, 0, 0, 0, 1, 1, 1, 0, 0],\n",
              "       [0, 0, 0, 0, 0, 0, 1, 1, 1, 0],\n",
              "       [0, 0, 0, 0, 0, 0, 0, 1, 1, 1],\n",
              "       [0, 0, 0, 0, 0, 0, 0, 0, 1, 1]])"
            ]
          },
          "metadata": {},
          "execution_count": 57
        }
      ]
    },
    {
      "cell_type": "markdown",
      "metadata": {
        "id": "b2914733-dbd5-48af-bd77-64334d08563a"
      },
      "source": [
        "`14`. 성공확률이 45%인 시행을 100번 반복하여 성공하면 True, 실패하면\n",
        "False를 기록하는 난수열을 생성하라.\n",
        "\n",
        "**hint:**"
      ],
      "id": "b2914733-dbd5-48af-bd77-64334d08563a"
    },
    {
      "cell_type": "code",
      "execution_count": 58,
      "metadata": {
        "id": "cc0063d3",
        "colab": {
          "base_uri": "https://localhost:8080/"
        },
        "outputId": "eda9be66-ef4c-4cc7-d097-8585af1ff1bc"
      },
      "outputs": [
        {
          "output_type": "execute_result",
          "data": {
            "text/plain": [
              "0.5953173368481477"
            ]
          },
          "metadata": {},
          "execution_count": 58
        }
      ],
      "source": [
        "np.random.rand() # 0~1사이의 값이 임의로 생성"
      ],
      "id": "cc0063d3"
    },
    {
      "cell_type": "code",
      "execution_count": 59,
      "metadata": {
        "id": "321e7b9b",
        "colab": {
          "base_uri": "https://localhost:8080/"
        },
        "outputId": "7d1c1b74-eb4a-4c5d-a9c9-2384d334b088"
      },
      "outputs": [
        {
          "output_type": "execute_result",
          "data": {
            "text/plain": [
              "False"
            ]
          },
          "metadata": {},
          "execution_count": 59
        }
      ],
      "source": [
        "np.random.rand() < 0.45 # 0~1사이에 랜덤으로 생성된 값이 0.45보다 작다면 True를 리턴"
      ],
      "id": "321e7b9b"
    },
    {
      "cell_type": "code",
      "source": [
        "np.random.rand(100)<0.45"
      ],
      "metadata": {
        "colab": {
          "base_uri": "https://localhost:8080/"
        },
        "id": "fApLN4o5CYC-",
        "outputId": "fd07d983-4185-436d-a254-16958a613c07"
      },
      "id": "fApLN4o5CYC-",
      "execution_count": 60,
      "outputs": [
        {
          "output_type": "execute_result",
          "data": {
            "text/plain": [
              "array([False, False,  True, False, False,  True, False,  True, False,\n",
              "        True, False, False, False, False,  True,  True,  True, False,\n",
              "       False, False, False, False,  True,  True,  True,  True, False,\n",
              "       False,  True,  True, False,  True,  True,  True, False, False,\n",
              "       False, False,  True, False, False, False, False,  True,  True,\n",
              "       False, False, False,  True,  True, False,  True, False, False,\n",
              "        True,  True, False,  True, False, False, False, False, False,\n",
              "        True, False, False,  True, False, False, False,  True, False,\n",
              "       False,  True,  True,  True, False, False,  True,  True, False,\n",
              "       False,  True,  True,  True,  True,  True,  True, False, False,\n",
              "       False,  True, False, False,  True,  True, False, False, False,\n",
              "        True])"
            ]
          },
          "metadata": {},
          "execution_count": 60
        }
      ]
    },
    {
      "cell_type": "code",
      "source": [],
      "metadata": {
        "id": "2JOKJzJfCuEV"
      },
      "id": "2JOKJzJfCuEV",
      "execution_count": null,
      "outputs": []
    }
  ],
  "nbformat": 4,
  "nbformat_minor": 5,
  "metadata": {
    "kernelspec": {
      "name": "python3",
      "display_name": "Python 3 (ipykernel)",
      "language": "python"
    },
    "language_info": {
      "name": "python",
      "codemirror_mode": {
        "name": "ipython",
        "version": "3"
      },
      "file_extension": ".py",
      "mimetype": "text/x-python",
      "nbconvert_exporter": "python",
      "pygments_lexer": "ipython3",
      "version": "3.10.12"
    },
    "colab": {
      "provenance": [],
      "include_colab_link": true
    }
  }
}
