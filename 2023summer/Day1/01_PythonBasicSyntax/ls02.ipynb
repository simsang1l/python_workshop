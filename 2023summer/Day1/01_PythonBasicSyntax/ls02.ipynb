{
  "cells": [
    {
      "cell_type": "markdown",
      "metadata": {
        "id": "view-in-github",
        "colab_type": "text"
      },
      "source": [
        "<a href=\"https://colab.research.google.com/github/simsang1l/python_workshop/blob/main/2023summer/Day1/01_PythonBasicSyntax/ls02.ipynb\" target=\"_parent\"><img src=\"https://colab.research.google.com/assets/colab-badge.svg\" alt=\"Open In Colab\"/></a>"
      ]
    },
    {
      "cell_type": "raw",
      "id": "b3584f84-6d27-4f1f-b39e-09c2a7b0c909",
      "metadata": {
        "id": "b3584f84-6d27-4f1f-b39e-09c2a7b0c909"
      },
      "source": [
        "---\n",
        "title: \"Lesson 02: 파이썬의 자료형 II (list, tuple)\"\n",
        "author: \"최규빈\"\n",
        "date: \"06/24/2023\"\n",
        "---"
      ]
    },
    {
      "cell_type": "markdown",
      "id": "2993911b-d373-4b74-9672-a75e8c0dc0f7",
      "metadata": {
        "id": "2993911b-d373-4b74-9672-a75e8c0dc0f7"
      },
      "source": [
        "<a href=\"https://colab.research.google.com/github/guebin/PP2023SUM/blob/main/posts/Day1/01_PythonBasicSyntax/ls02.ipynb\"><img src=\"https://colab.research.google.com/assets/colab-badge.svg\" style=\"text-align: left\"></a>"
      ]
    },
    {
      "cell_type": "markdown",
      "id": "76fe5d82-bca7-411e-a562-4ed407f0f043",
      "metadata": {
        "id": "76fe5d82-bca7-411e-a562-4ed407f0f043"
      },
      "source": [
        "# list"
      ]
    },
    {
      "cell_type": "markdown",
      "id": "9754b921-7a34-4553-beb5-ad2d9fe7caa0",
      "metadata": {
        "id": "9754b921-7a34-4553-beb5-ad2d9fe7caa0"
      },
      "source": [
        "## 선언"
      ]
    },
    {
      "cell_type": "markdown",
      "id": "55720afe-c8e1-4df5-9ba8-b48fefcb16a0",
      "metadata": {
        "id": "55720afe-c8e1-4df5-9ba8-b48fefcb16a0"
      },
      "source": [
        "`-` 리스트의 선언"
      ]
    },
    {
      "cell_type": "code",
      "execution_count": null,
      "id": "9f3b17b8-4f97-47c0-a2d5-7993409423b8",
      "metadata": {
        "vscode": {
          "languageId": "python"
        },
        "id": "9f3b17b8-4f97-47c0-a2d5-7993409423b8",
        "outputId": "eae60ad9-ec36-41e5-9ffb-350577aa8137"
      },
      "outputs": [
        {
          "data": {
            "text/plain": [
              "[11, 22]"
            ]
          },
          "execution_count": 8,
          "metadata": {},
          "output_type": "execute_result"
        }
      ],
      "source": [
        "a=[11,22]\n",
        "a"
      ]
    },
    {
      "cell_type": "code",
      "execution_count": null,
      "id": "2ef4c156-aecb-4f0b-a020-7e65113dd0dc",
      "metadata": {
        "vscode": {
          "languageId": "python"
        },
        "id": "2ef4c156-aecb-4f0b-a020-7e65113dd0dc",
        "outputId": "3db92b85-da55-44fb-9006-cd6b6906e050"
      },
      "outputs": [
        {
          "data": {
            "text/plain": [
              "list"
            ]
          },
          "execution_count": 9,
          "metadata": {},
          "output_type": "execute_result"
        }
      ],
      "source": [
        "type(a)"
      ]
    },
    {
      "cell_type": "markdown",
      "id": "062a19ae-6f6f-425a-b0ba-dffb85ca9ba5",
      "metadata": {
        "id": "062a19ae-6f6f-425a-b0ba-dffb85ca9ba5"
      },
      "source": [
        "`-` 비어있는 리스트의 선언"
      ]
    },
    {
      "cell_type": "code",
      "execution_count": null,
      "id": "a38b1c1a-c9f6-46f6-b8ce-fb48569c72fd",
      "metadata": {
        "vscode": {
          "languageId": "python"
        },
        "id": "a38b1c1a-c9f6-46f6-b8ce-fb48569c72fd",
        "outputId": "8c591d23-3bdc-4f9e-b87f-295c6c0222dd"
      },
      "outputs": [
        {
          "data": {
            "text/plain": [
              "[11]"
            ]
          },
          "execution_count": 13,
          "metadata": {},
          "output_type": "execute_result"
        }
      ],
      "source": [
        "a=[11] # 방법1\n",
        "a"
      ]
    },
    {
      "cell_type": "code",
      "execution_count": null,
      "id": "c13f945c-bc35-4de4-abf2-e50dcfa74b2b",
      "metadata": {
        "vscode": {
          "languageId": "python"
        },
        "id": "c13f945c-bc35-4de4-abf2-e50dcfa74b2b",
        "outputId": "2838fceb-8e67-4753-9a26-9d56f6189d77"
      },
      "outputs": [
        {
          "data": {
            "text/plain": [
              "1"
            ]
          },
          "execution_count": 14,
          "metadata": {},
          "output_type": "execute_result"
        }
      ],
      "source": [
        "len(a)"
      ]
    },
    {
      "cell_type": "code",
      "execution_count": null,
      "id": "a2384d5a-75ea-45cd-bd52-0cd28f1c4c0b",
      "metadata": {
        "vscode": {
          "languageId": "python"
        },
        "id": "a2384d5a-75ea-45cd-bd52-0cd28f1c4c0b"
      },
      "outputs": [],
      "source": [
        "a=11"
      ]
    },
    {
      "cell_type": "code",
      "execution_count": null,
      "id": "e8f5c680-6947-4537-b2f4-6d518418c130",
      "metadata": {
        "vscode": {
          "languageId": "python"
        },
        "id": "e8f5c680-6947-4537-b2f4-6d518418c130",
        "outputId": "cffe659c-f12d-4c09-f476-e8669f3353e4"
      },
      "outputs": [
        {
          "data": {
            "text/plain": [
              "[]"
            ]
          },
          "execution_count": 4,
          "metadata": {},
          "output_type": "execute_result"
        }
      ],
      "source": [
        "a=list() # 방법2\n",
        "a"
      ]
    },
    {
      "cell_type": "markdown",
      "id": "7be6f3de-3ac0-4a38-b2a9-5f4ece70b0ab",
      "metadata": {
        "id": "7be6f3de-3ac0-4a38-b2a9-5f4ece70b0ab"
      },
      "source": [
        "## 연산"
      ]
    },
    {
      "cell_type": "markdown",
      "id": "1bfdd34c-e669-4a91-82e3-c4b7050ad775",
      "metadata": {
        "id": "1bfdd34c-e669-4a91-82e3-c4b7050ad775"
      },
      "source": [
        "`-` 더하기연산"
      ]
    },
    {
      "cell_type": "code",
      "execution_count": null,
      "id": "79d6bd44-21d2-4274-b283-a5df2d39db6b",
      "metadata": {
        "vscode": {
          "languageId": "python"
        },
        "id": "79d6bd44-21d2-4274-b283-a5df2d39db6b"
      },
      "outputs": [],
      "source": [
        "a=[11,12]\n",
        "b=[12,13]"
      ]
    },
    {
      "cell_type": "code",
      "execution_count": null,
      "id": "80c3f98b-57e3-462b-a93d-62cf260a9e9d",
      "metadata": {
        "vscode": {
          "languageId": "python"
        },
        "id": "80c3f98b-57e3-462b-a93d-62cf260a9e9d",
        "outputId": "3e7f029d-7371-4e29-c42a-e18dd16c6f31"
      },
      "outputs": [
        {
          "data": {
            "text/plain": [
              "[11, 12]"
            ]
          },
          "execution_count": 6,
          "metadata": {},
          "output_type": "execute_result"
        }
      ],
      "source": [
        "a"
      ]
    },
    {
      "cell_type": "code",
      "execution_count": null,
      "id": "fd675de2-6ddc-4a4d-bfc3-4455007ae42c",
      "metadata": {
        "vscode": {
          "languageId": "python"
        },
        "id": "fd675de2-6ddc-4a4d-bfc3-4455007ae42c",
        "outputId": "6ee54894-9cc8-4392-d5fd-cc0772453f03"
      },
      "outputs": [
        {
          "data": {
            "text/plain": [
              "[12, 13]"
            ]
          },
          "execution_count": 7,
          "metadata": {},
          "output_type": "execute_result"
        }
      ],
      "source": [
        "b"
      ]
    },
    {
      "cell_type": "code",
      "execution_count": null,
      "id": "5efc9f01-63d4-46ce-a6be-5c31be1891d9",
      "metadata": {
        "vscode": {
          "languageId": "python"
        },
        "id": "5efc9f01-63d4-46ce-a6be-5c31be1891d9",
        "outputId": "d43c9e3b-be95-4de2-f0ca-691fa49ea54c"
      },
      "outputs": [
        {
          "data": {
            "text/plain": [
              "[11, 12, 12, 13]"
            ]
          },
          "execution_count": 8,
          "metadata": {},
          "output_type": "execute_result"
        }
      ],
      "source": [
        "a+b"
      ]
    },
    {
      "cell_type": "markdown",
      "id": "73066420-7dba-4d6c-ac57-b19061dc4674",
      "metadata": {
        "id": "73066420-7dba-4d6c-ac57-b19061dc4674"
      },
      "source": [
        "- 우리의 예상과 다른 결과가 나옴 $\\to$ 파이썬은 R처럼 자체적으로 좋은 계산기능을 내장하고 있지 않음."
      ]
    },
    {
      "cell_type": "markdown",
      "id": "4a521283-c855-40d4-811c-922d4bbd6edf",
      "metadata": {
        "id": "4a521283-c855-40d4-811c-922d4bbd6edf"
      },
      "source": [
        "`-` 브로드캐스팅과 같이 R에서는 당연히 가능했던 기능을 사용할 수 없음."
      ]
    },
    {
      "cell_type": "code",
      "execution_count": null,
      "id": "27de908e-8426-4d4a-bead-43702510b0d8",
      "metadata": {
        "vscode": {
          "languageId": "python"
        },
        "id": "27de908e-8426-4d4a-bead-43702510b0d8",
        "outputId": "ed3839d3-56ba-48c8-88bd-092e4237249c"
      },
      "outputs": [
        {
          "ename": "TypeError",
          "evalue": "can only concatenate list (not \"int\") to list",
          "output_type": "error",
          "traceback": [
            "\u001b[0;31m---------------------------------------------------------------------------\u001b[0m",
            "\u001b[0;31mTypeError\u001b[0m                                 Traceback (most recent call last)",
            "\u001b[0;32m<ipython-input-19-f97f3a6cc695>\u001b[0m in \u001b[0;36m<module>\u001b[0;34m\u001b[0m\n\u001b[1;32m      1\u001b[0m \u001b[0ma\u001b[0m\u001b[0;34m=\u001b[0m\u001b[0;34m[\u001b[0m\u001b[0;36m1\u001b[0m\u001b[0;34m,\u001b[0m\u001b[0;36m2\u001b[0m\u001b[0;34m,\u001b[0m\u001b[0;36m3\u001b[0m\u001b[0;34m]\u001b[0m\u001b[0;34m\u001b[0m\u001b[0;34m\u001b[0m\u001b[0m\n\u001b[1;32m      2\u001b[0m \u001b[0mb\u001b[0m\u001b[0;34m=\u001b[0m\u001b[0;36m1\u001b[0m\u001b[0;34m\u001b[0m\u001b[0;34m\u001b[0m\u001b[0m\n\u001b[0;32m----> 3\u001b[0;31m \u001b[0ma\u001b[0m\u001b[0;34m+\u001b[0m\u001b[0mb\u001b[0m\u001b[0;34m\u001b[0m\u001b[0;34m\u001b[0m\u001b[0m\n\u001b[0m",
            "\u001b[0;31mTypeError\u001b[0m: can only concatenate list (not \"int\") to list"
          ]
        }
      ],
      "source": [
        "a=[1,2,3]\n",
        "b=1\n",
        "a+b"
      ]
    },
    {
      "cell_type": "markdown",
      "id": "e0bac089-3eb4-495b-946f-4e39d8cf2c15",
      "metadata": {
        "id": "e0bac089-3eb4-495b-946f-4e39d8cf2c15"
      },
      "source": [
        "`-` 뺄셈은 정의되지 않음"
      ]
    },
    {
      "cell_type": "code",
      "execution_count": null,
      "id": "722b5559-7e5c-4636-8e99-359efddf6bba",
      "metadata": {
        "vscode": {
          "languageId": "python"
        },
        "id": "722b5559-7e5c-4636-8e99-359efddf6bba",
        "outputId": "3d064a47-5e3f-4b91-eb5f-8a544b62c58e"
      },
      "outputs": [
        {
          "ename": "TypeError",
          "evalue": "unsupported operand type(s) for -: 'list' and 'list'",
          "output_type": "error",
          "traceback": [
            "\u001b[0;31m---------------------------------------------------------------------------\u001b[0m",
            "\u001b[0;31mTypeError\u001b[0m                                 Traceback (most recent call last)",
            "\u001b[0;32m<ipython-input-20-cd618bb9880e>\u001b[0m in \u001b[0;36m<module>\u001b[0;34m\u001b[0m\n\u001b[1;32m      1\u001b[0m \u001b[0ma\u001b[0m\u001b[0;34m=\u001b[0m\u001b[0;34m[\u001b[0m\u001b[0;36m1\u001b[0m\u001b[0;34m,\u001b[0m\u001b[0;36m2\u001b[0m\u001b[0;34m]\u001b[0m\u001b[0;34m\u001b[0m\u001b[0;34m\u001b[0m\u001b[0m\n\u001b[1;32m      2\u001b[0m \u001b[0mb\u001b[0m\u001b[0;34m=\u001b[0m\u001b[0;34m[\u001b[0m\u001b[0;36m1\u001b[0m\u001b[0;34m,\u001b[0m\u001b[0;36m2\u001b[0m\u001b[0;34m]\u001b[0m\u001b[0;34m\u001b[0m\u001b[0;34m\u001b[0m\u001b[0m\n\u001b[0;32m----> 3\u001b[0;31m \u001b[0ma\u001b[0m\u001b[0;34m-\u001b[0m\u001b[0mb\u001b[0m\u001b[0;34m\u001b[0m\u001b[0;34m\u001b[0m\u001b[0m\n\u001b[0m",
            "\u001b[0;31mTypeError\u001b[0m: unsupported operand type(s) for -: 'list' and 'list'"
          ]
        }
      ],
      "source": [
        "a=[1,2]\n",
        "b=[1,2]\n",
        "a-b"
      ]
    },
    {
      "cell_type": "markdown",
      "id": "9869592a-4580-4a47-9241-ba90b7f129b0",
      "metadata": {
        "id": "9869592a-4580-4a47-9241-ba90b7f129b0"
      },
      "source": [
        "`-` 곱하기는 정의가능"
      ]
    },
    {
      "cell_type": "code",
      "execution_count": null,
      "id": "e46da257-9da2-4ecc-ae68-10e14e471ce4",
      "metadata": {
        "vscode": {
          "languageId": "python"
        },
        "id": "e46da257-9da2-4ecc-ae68-10e14e471ce4"
      },
      "outputs": [],
      "source": [
        "a=[1,2]"
      ]
    },
    {
      "cell_type": "code",
      "execution_count": null,
      "id": "00ef7fe8-0f16-4aff-8d92-1b4c565058f9",
      "metadata": {
        "vscode": {
          "languageId": "python"
        },
        "id": "00ef7fe8-0f16-4aff-8d92-1b4c565058f9",
        "outputId": "f4c32820-e13f-447f-876b-cc505b1fcf59"
      },
      "outputs": [
        {
          "data": {
            "text/plain": [
              "[1, 2, 1, 2]"
            ]
          },
          "execution_count": 12,
          "metadata": {},
          "output_type": "execute_result"
        }
      ],
      "source": [
        "2*a # a+a"
      ]
    },
    {
      "cell_type": "markdown",
      "id": "7e9e7c6c-982e-4bbf-94d2-f0743d7b439f",
      "metadata": {
        "id": "7e9e7c6c-982e-4bbf-94d2-f0743d7b439f"
      },
      "source": [
        "`-` 나눗셈은 정의되지 않음"
      ]
    },
    {
      "cell_type": "code",
      "execution_count": null,
      "id": "f583bdb6-776b-42d5-815e-97a462038547",
      "metadata": {
        "vscode": {
          "languageId": "python"
        },
        "id": "f583bdb6-776b-42d5-815e-97a462038547",
        "outputId": "e02c93d1-42d5-42e1-a51f-45eda89d7ab1"
      },
      "outputs": [
        {
          "ename": "TypeError",
          "evalue": "unsupported operand type(s) for /: 'list' and 'int'",
          "output_type": "error",
          "traceback": [
            "\u001b[0;31m---------------------------------------------------------------------------\u001b[0m",
            "\u001b[0;31mTypeError\u001b[0m                                 Traceback (most recent call last)",
            "Input \u001b[0;32mIn [13]\u001b[0m, in \u001b[0;36m<module>\u001b[0;34m\u001b[0m\n\u001b[1;32m      1\u001b[0m a\u001b[38;5;241m=\u001b[39m[\u001b[38;5;241m1\u001b[39m,\u001b[38;5;241m2\u001b[39m,\u001b[38;5;241m1\u001b[39m,\u001b[38;5;241m2\u001b[39m]\n\u001b[0;32m----> 2\u001b[0m \u001b[43ma\u001b[49m\u001b[38;5;241;43m/\u001b[39;49m\u001b[38;5;241;43m2\u001b[39;49m\n",
            "\u001b[0;31mTypeError\u001b[0m: unsupported operand type(s) for /: 'list' and 'int'"
          ]
        }
      ],
      "source": [
        "a=[1,2,1,2]\n",
        "a/2"
      ]
    },
    {
      "cell_type": "markdown",
      "id": "c14ca13c-520c-4936-87ca-acbd3e77a304",
      "metadata": {
        "id": "c14ca13c-520c-4936-87ca-acbd3e77a304"
      },
      "source": [
        "`-` 더하기와 곱하기는 원소의 추가와 반복추가를 의미하지만 그렇다고 해서 뺄셈과 나눗셈이 원소의 삭제를 의미하는것은 아님"
      ]
    },
    {
      "cell_type": "code",
      "execution_count": null,
      "id": "d640d22f-a528-444c-8825-85e95094ec89",
      "metadata": {
        "vscode": {
          "languageId": "python"
        },
        "id": "d640d22f-a528-444c-8825-85e95094ec89",
        "outputId": "b35ca9b3-366b-4fd4-c16a-08a2474891cf"
      },
      "outputs": [
        {
          "ename": "TypeError",
          "evalue": "unsupported operand type(s) for -: 'list' and 'list'",
          "output_type": "error",
          "traceback": [
            "\u001b[0;31m---------------------------------------------------------------------------\u001b[0m",
            "\u001b[0;31mTypeError\u001b[0m                                 Traceback (most recent call last)",
            "Input \u001b[0;32mIn [14]\u001b[0m, in \u001b[0;36m<module>\u001b[0;34m\u001b[0m\n\u001b[1;32m      1\u001b[0m a\u001b[38;5;241m=\u001b[39m[\u001b[38;5;241m1\u001b[39m,\u001b[38;5;241m2\u001b[39m,\u001b[38;5;241m3\u001b[39m]\n\u001b[0;32m----> 2\u001b[0m \u001b[43ma\u001b[49m\u001b[38;5;241;43m-\u001b[39;49m\u001b[43m[\u001b[49m\u001b[38;5;241;43m3\u001b[39;49m\u001b[43m]\u001b[49m\n",
            "\u001b[0;31mTypeError\u001b[0m: unsupported operand type(s) for -: 'list' and 'list'"
          ]
        }
      ],
      "source": [
        "a=[1,2,3]\n",
        "a-[3] # 이런건 없다"
      ]
    },
    {
      "cell_type": "code",
      "execution_count": null,
      "id": "93d3f645-d153-4dbf-92a1-78d192d0dfa6",
      "metadata": {
        "vscode": {
          "languageId": "python"
        },
        "id": "93d3f645-d153-4dbf-92a1-78d192d0dfa6",
        "outputId": "2be2eb7d-1998-40d1-c2c9-5be41e64a785"
      },
      "outputs": [
        {
          "ename": "TypeError",
          "evalue": "unsupported operand type(s) for /: 'list' and 'int'",
          "output_type": "error",
          "traceback": [
            "\u001b[0;31m---------------------------------------------------------------------------\u001b[0m",
            "\u001b[0;31mTypeError\u001b[0m                                 Traceback (most recent call last)",
            "Input \u001b[0;32mIn [15]\u001b[0m, in \u001b[0;36m<module>\u001b[0;34m\u001b[0m\n\u001b[1;32m      1\u001b[0m a\u001b[38;5;241m=\u001b[39m[\u001b[38;5;241m1\u001b[39m,\u001b[38;5;241m2\u001b[39m,\u001b[38;5;241m1\u001b[39m,\u001b[38;5;241m2\u001b[39m,\u001b[38;5;241m1\u001b[39m,\u001b[38;5;241m2\u001b[39m]\n\u001b[0;32m----> 2\u001b[0m \u001b[43ma\u001b[49m\u001b[38;5;241;43m/\u001b[39;49m\u001b[38;5;241;43m3\u001b[39;49m\n",
            "\u001b[0;31mTypeError\u001b[0m: unsupported operand type(s) for /: 'list' and 'int'"
          ]
        }
      ],
      "source": [
        "a=[1,2,1,2,1,2]\n",
        "a/3 # 이런건 없다"
      ]
    },
    {
      "cell_type": "markdown",
      "id": "dcdbd772-1102-45a5-a81d-3cdcbb2f012e",
      "metadata": {
        "id": "dcdbd772-1102-45a5-a81d-3cdcbb2f012e"
      },
      "source": [
        "`-` 더하기와 곱하기가 원소의 추가와 반복추가를 의미하여 편리할때도 있긴하지만, 우리는 산술적인 `+`, `*` 를 원하는 경우도 있다. 이럴 경우는 어떻게 할 수 있을까?"
      ]
    },
    {
      "cell_type": "markdown",
      "id": "987202be-5a9f-4451-9eb7-9180d103719c",
      "metadata": {
        "id": "987202be-5a9f-4451-9eb7-9180d103719c"
      },
      "source": [
        "(예제)"
      ]
    },
    {
      "cell_type": "code",
      "execution_count": null,
      "id": "899102b7-43bd-47e5-a004-adec448d6bc1",
      "metadata": {
        "vscode": {
          "languageId": "python"
        },
        "id": "899102b7-43bd-47e5-a004-adec448d6bc1"
      },
      "outputs": [],
      "source": [
        "a=[1,2]\n",
        "b=[3,4]"
      ]
    },
    {
      "cell_type": "markdown",
      "id": "8f6314f9-719e-4db3-9c11-ad49c5e33fc7",
      "metadata": {
        "id": "8f6314f9-719e-4db3-9c11-ad49c5e33fc7"
      },
      "source": [
        "a+b = [4,6] 이 되도록 하려면?"
      ]
    },
    {
      "cell_type": "markdown",
      "id": "6ba51abf-5293-49a4-b948-bfe9d524a2dd",
      "metadata": {
        "id": "6ba51abf-5293-49a4-b948-bfe9d524a2dd"
      },
      "source": [
        "(풀이1)"
      ]
    },
    {
      "cell_type": "code",
      "execution_count": null,
      "id": "8c8ca5b6-5b12-4ce9-b8f8-fddb49fc4cb0",
      "metadata": {
        "vscode": {
          "languageId": "python"
        },
        "id": "8c8ca5b6-5b12-4ce9-b8f8-fddb49fc4cb0",
        "outputId": "44d978ce-6ba8-4a1d-e71a-020b78bb88e1"
      },
      "outputs": [
        {
          "data": {
            "text/plain": [
              "4"
            ]
          },
          "execution_count": 67,
          "metadata": {},
          "output_type": "execute_result"
        }
      ],
      "source": [
        "a[0]+b[0] # a의 첫번째 원소를 추출, b의 첫번째 원소를 추출, 둘을 더함"
      ]
    },
    {
      "cell_type": "code",
      "execution_count": null,
      "id": "4fb152aa-6fb8-4ded-8e7a-7bc1322a9fa6",
      "metadata": {
        "vscode": {
          "languageId": "python"
        },
        "id": "4fb152aa-6fb8-4ded-8e7a-7bc1322a9fa6",
        "outputId": "9cb45876-0a92-4c45-d63d-b163b1f7e5fe"
      },
      "outputs": [
        {
          "data": {
            "text/plain": [
              "6"
            ]
          },
          "execution_count": 18,
          "metadata": {},
          "output_type": "execute_result"
        }
      ],
      "source": [
        "a[1]+b[1] # a의 두번째 원소를 추출, b의 두번째 원소를 추출, 둘을 더함"
      ]
    },
    {
      "cell_type": "code",
      "execution_count": null,
      "id": "4e4295d8-7c85-402f-ada1-3da02d80dc80",
      "metadata": {
        "vscode": {
          "languageId": "python"
        },
        "id": "4e4295d8-7c85-402f-ada1-3da02d80dc80",
        "outputId": "0c9181f3-ca9e-43a4-940e-df5e3a2929d3"
      },
      "outputs": [
        {
          "data": {
            "text/plain": [
              "[4, 6]"
            ]
          },
          "execution_count": 19,
          "metadata": {},
          "output_type": "execute_result"
        }
      ],
      "source": [
        "[a[0]+b[0],a[1]+b[1]]"
      ]
    },
    {
      "cell_type": "markdown",
      "id": "1e5e20ce-0c7a-44be-856e-2183787e5fd3",
      "metadata": {
        "id": "1e5e20ce-0c7a-44be-856e-2183787e5fd3"
      },
      "source": [
        "풀이가 가능한 이유? a,b는 리스트이지만 a[0], a[1], b[0], b[1] 은 각각 인트형임. 인트형은 + 연산이 가능했음."
      ]
    },
    {
      "cell_type": "markdown",
      "id": "a3aeed12-dced-4b66-bfa5-5bc09be43a66",
      "metadata": {
        "id": "a3aeed12-dced-4b66-bfa5-5bc09be43a66"
      },
      "source": [
        "(풀이2)"
      ]
    },
    {
      "cell_type": "markdown",
      "id": "ecd604f8-a8fe-47a5-aef3-c17ab23ad14d",
      "metadata": {
        "id": "ecd604f8-a8fe-47a5-aef3-c17ab23ad14d"
      },
      "source": [
        "numpy 패키지 (파이썬의 여러 수치연산들을 담당하는 라이브러리)\n",
        "\n",
        "- 이러한 벡터연산은 누구나 필요로 하는 연산임.\n",
        "- 내가 아니더라도 누군가가 프로그램화 해놓았을 것임.\n",
        "- 그 누군가가 자신이 만든 코드를 잘 정리하여 무료로 배포했을 수도 있음. (패키지를 배포한다고 표현)\n",
        "- 그 패키지를 우리는 가져와서 설치한뒤 사용하기만 하면된다.\n",
        "\n",
        "패키지를 설치하는 방법 (코랩은 이미 설치되어 있음)\n",
        "\n",
        "- `!pip install numpy` # 최신버전을 설치함\n",
        "- `!conda install -c conda-forge numpy -y` # 안전한 버전을 설치함\n",
        "\n",
        "설치된 패키지를 사용하는 방법\n",
        "\n",
        "- `import numpy` 한뒤에 `numpy.??`로 기능을 사용\n",
        "- `import numpy as np` 한뒤에 `np.??`로 기능을 사용"
      ]
    },
    {
      "cell_type": "code",
      "execution_count": null,
      "id": "bb738051-bf3d-4bfe-b400-8229e3d58d6d",
      "metadata": {
        "vscode": {
          "languageId": "python"
        },
        "id": "bb738051-bf3d-4bfe-b400-8229e3d58d6d"
      },
      "outputs": [],
      "source": [
        "import numpy ## 설치한패키지를 쓰겠다고 선언함"
      ]
    },
    {
      "cell_type": "code",
      "execution_count": null,
      "id": "d7037a7b-4f87-4cd9-853a-54a11abb0329",
      "metadata": {
        "vscode": {
          "languageId": "python"
        },
        "id": "d7037a7b-4f87-4cd9-853a-54a11abb0329"
      },
      "outputs": [],
      "source": [
        "a=[1,2]\n",
        "b=[3,4]"
      ]
    },
    {
      "cell_type": "code",
      "execution_count": null,
      "id": "688f9c81-34a5-4901-97c6-a4ab1bc47c50",
      "metadata": {
        "vscode": {
          "languageId": "python"
        },
        "id": "688f9c81-34a5-4901-97c6-a4ab1bc47c50"
      },
      "outputs": [],
      "source": [
        "aa=numpy.array(a)\n",
        "bb=numpy.array(b)\n",
        "# aa,bb는 리스트가 아니라 넘파이 어레이,\n",
        "# numpy.array()는 numpy패키지에서 제공하는 array함수를 쓰겠다는 의미."
      ]
    },
    {
      "cell_type": "code",
      "execution_count": null,
      "id": "2161f70f-aa36-4605-8042-39f153c34590",
      "metadata": {
        "vscode": {
          "languageId": "python"
        },
        "id": "2161f70f-aa36-4605-8042-39f153c34590",
        "outputId": "6701f49e-5ec5-429d-eed6-7e0e19e800cf"
      },
      "outputs": [
        {
          "data": {
            "text/plain": [
              "array([4, 6])"
            ]
          },
          "execution_count": 52,
          "metadata": {},
          "output_type": "execute_result"
        }
      ],
      "source": [
        "aa+bb"
      ]
    },
    {
      "cell_type": "markdown",
      "id": "9ef18b70-7cd3-4a2f-b7f3-7edb6a1cb77a",
      "metadata": {
        "id": "9ef18b70-7cd3-4a2f-b7f3-7edb6a1cb77a"
      },
      "source": [
        "이런것도 가능"
      ]
    },
    {
      "cell_type": "code",
      "execution_count": null,
      "id": "fcf21c49-af56-42fe-987f-a80e71d8be67",
      "metadata": {
        "vscode": {
          "languageId": "python"
        },
        "id": "fcf21c49-af56-42fe-987f-a80e71d8be67",
        "outputId": "0d1fc5a6-9364-408a-cad0-3edeab1f667c"
      },
      "outputs": [
        {
          "data": {
            "text/plain": [
              "array([2, 4])"
            ]
          },
          "execution_count": 55,
          "metadata": {},
          "output_type": "execute_result"
        }
      ],
      "source": [
        "2*aa"
      ]
    },
    {
      "cell_type": "code",
      "execution_count": null,
      "id": "99892da4-1fe7-4576-98be-cd6c3ef75d7a",
      "metadata": {
        "vscode": {
          "languageId": "python"
        },
        "id": "99892da4-1fe7-4576-98be-cd6c3ef75d7a",
        "outputId": "2b80d117-56ee-4afc-cebd-a9cce4f50ae5"
      },
      "outputs": [
        {
          "data": {
            "text/plain": [
              "array([3, 5])"
            ]
          },
          "execution_count": 57,
          "metadata": {},
          "output_type": "execute_result"
        }
      ],
      "source": [
        "2*aa+1"
      ]
    },
    {
      "cell_type": "code",
      "execution_count": null,
      "id": "f0f44281-b11b-4082-9d3d-2b3e7e9705d4",
      "metadata": {
        "vscode": {
          "languageId": "python"
        },
        "id": "f0f44281-b11b-4082-9d3d-2b3e7e9705d4",
        "outputId": "d274f459-b638-4fb7-d8f7-eb743d4caae2"
      },
      "outputs": [
        {
          "data": {
            "text/plain": [
              "array([6, 9])"
            ]
          },
          "execution_count": 59,
          "metadata": {},
          "output_type": "execute_result"
        }
      ],
      "source": [
        "2*aa+1+bb"
      ]
    },
    {
      "cell_type": "markdown",
      "id": "0ed049d8-703d-405c-8d02-07ea0e73c79b",
      "metadata": {
        "id": "0ed049d8-703d-405c-8d02-07ea0e73c79b"
      },
      "source": [
        "(풀이3)"
      ]
    },
    {
      "cell_type": "code",
      "execution_count": null,
      "id": "ba2ac7bc-9326-4065-9afc-037c5c4b1fc4",
      "metadata": {
        "vscode": {
          "languageId": "python"
        },
        "id": "ba2ac7bc-9326-4065-9afc-037c5c4b1fc4"
      },
      "outputs": [],
      "source": [
        "import numpy as np ## 설치한 numpy라는 패키지를 쓰겠음. 그런데 numpy말고 np라는 이름으로 쓰겠음"
      ]
    },
    {
      "cell_type": "code",
      "execution_count": null,
      "id": "a6f7c498-1459-4223-9f24-962bfceeede8",
      "metadata": {
        "vscode": {
          "languageId": "python"
        },
        "id": "a6f7c498-1459-4223-9f24-962bfceeede8",
        "outputId": "28bc2da6-2395-42a3-fd42-c7544b71c85d"
      },
      "outputs": [
        {
          "data": {
            "text/plain": [
              "array([1, 2])"
            ]
          },
          "execution_count": 51,
          "metadata": {},
          "output_type": "execute_result"
        }
      ],
      "source": [
        "np.array(a)"
      ]
    },
    {
      "cell_type": "code",
      "execution_count": null,
      "id": "4d0a6c56-c3db-429f-b004-64324ff55119",
      "metadata": {
        "vscode": {
          "languageId": "python"
        },
        "id": "4d0a6c56-c3db-429f-b004-64324ff55119",
        "outputId": "9f14def8-d2a5-4a25-ffb4-063a7f3b9011"
      },
      "outputs": [
        {
          "data": {
            "text/plain": [
              "array([4, 6])"
            ]
          },
          "execution_count": 52,
          "metadata": {},
          "output_type": "execute_result"
        }
      ],
      "source": [
        "a=[1,2]\n",
        "b=[3,4]\n",
        "np.array(a)+np.array(b)"
      ]
    },
    {
      "cell_type": "markdown",
      "id": "14076fd2-bf20-4741-9682-8721d8de46db",
      "metadata": {
        "id": "14076fd2-bf20-4741-9682-8721d8de46db"
      },
      "source": [
        "## 인덱싱"
      ]
    },
    {
      "cell_type": "markdown",
      "id": "90aed8fc-bee7-4fd7-b75f-401d1373079b",
      "metadata": {
        "id": "90aed8fc-bee7-4fd7-b75f-401d1373079b"
      },
      "source": [
        "`-` str형과 동일한 방식"
      ]
    },
    {
      "cell_type": "code",
      "execution_count": null,
      "id": "cf8a0de8-3802-4d63-84d9-6c4bc341d486",
      "metadata": {
        "vscode": {
          "languageId": "python"
        },
        "id": "cf8a0de8-3802-4d63-84d9-6c4bc341d486"
      },
      "outputs": [],
      "source": [
        "a=[11,22,33,44,55] # 0 -4 -3 -2 -1"
      ]
    },
    {
      "cell_type": "code",
      "execution_count": null,
      "id": "76d0ba13-6dd5-4950-adc7-6df970d3f832",
      "metadata": {
        "vscode": {
          "languageId": "python"
        },
        "id": "76d0ba13-6dd5-4950-adc7-6df970d3f832",
        "outputId": "dfbaf353-9957-4f69-cdcc-257b8813ce89"
      },
      "outputs": [
        {
          "data": {
            "text/plain": [
              "[44, 55]"
            ]
          },
          "execution_count": 76,
          "metadata": {},
          "output_type": "execute_result"
        }
      ],
      "source": [
        "a[-2:] # 끝의 2개의 원소를 뽑음"
      ]
    },
    {
      "cell_type": "markdown",
      "id": "9a085da0-b29a-4d87-bdeb-a7ccf3eae492",
      "metadata": {
        "id": "9a085da0-b29a-4d87-bdeb-a7ccf3eae492"
      },
      "source": [
        "## list 고급"
      ]
    },
    {
      "cell_type": "markdown",
      "id": "246c2370-d0b3-41cc-8725-cc271f3ef3f8",
      "metadata": {
        "id": "246c2370-d0b3-41cc-8725-cc271f3ef3f8"
      },
      "source": [
        "### 리스트는 컨테이너형 객체이다."
      ]
    },
    {
      "cell_type": "markdown",
      "id": "2953eaf4-cace-43b2-a965-5460bc3bb731",
      "metadata": {
        "id": "2953eaf4-cace-43b2-a965-5460bc3bb731"
      },
      "source": [
        "`-` 리스트의 원소는 int, float 따위만 가능한 것이 아니다. (리스트는 컨테이너형 객체이므로)"
      ]
    },
    {
      "cell_type": "code",
      "execution_count": null,
      "id": "5232ac18-5f23-481a-b67d-fe7d07260389",
      "metadata": {
        "vscode": {
          "languageId": "python"
        },
        "id": "5232ac18-5f23-481a-b67d-fe7d07260389"
      },
      "outputs": [],
      "source": [
        "lst = [1,3.14,True,'a',[1,2],\n",
        "       (1,2),{'name':'iu','age':27},{1,2,3}]"
      ]
    },
    {
      "cell_type": "code",
      "execution_count": null,
      "id": "8876bcad-c1f2-4196-8301-fba060f29d52",
      "metadata": {
        "vscode": {
          "languageId": "python"
        },
        "id": "8876bcad-c1f2-4196-8301-fba060f29d52",
        "outputId": "d3aa12a2-013f-4fe6-f713-d46c8ea30f8d"
      },
      "outputs": [
        {
          "data": {
            "text/plain": [
              "[1, 3.14, True, 'a', [1, 2], (1, 2), {'name': 'iu', 'age': 27}, {1, 2, 3}]"
            ]
          },
          "execution_count": 55,
          "metadata": {},
          "output_type": "execute_result"
        }
      ],
      "source": [
        "lst"
      ]
    },
    {
      "cell_type": "markdown",
      "id": "d0a9185d-a269-4276-bf5d-8ddc54579e80",
      "metadata": {
        "id": "d0a9185d-a269-4276-bf5d-8ddc54579e80"
      },
      "source": [
        "각 원소의 타입을 알아보자."
      ]
    },
    {
      "cell_type": "code",
      "execution_count": null,
      "id": "195edf90-bdcc-4056-92c1-a6b0f101b791",
      "metadata": {
        "vscode": {
          "languageId": "python"
        },
        "id": "195edf90-bdcc-4056-92c1-a6b0f101b791",
        "outputId": "fd22fa7b-7003-42a5-a837-a1257ab5fd6f"
      },
      "outputs": [
        {
          "data": {
            "text/plain": [
              "int"
            ]
          },
          "execution_count": 80,
          "metadata": {},
          "output_type": "execute_result"
        }
      ],
      "source": [
        "type(lst[0])"
      ]
    },
    {
      "cell_type": "code",
      "execution_count": null,
      "id": "f0d21aa3-17d8-4d91-8c6e-4c5be0310886",
      "metadata": {
        "vscode": {
          "languageId": "python"
        },
        "id": "f0d21aa3-17d8-4d91-8c6e-4c5be0310886",
        "outputId": "06bb2282-51be-4e53-fbc8-ee99d2ad841a"
      },
      "outputs": [
        {
          "data": {
            "text/plain": [
              "float"
            ]
          },
          "execution_count": 81,
          "metadata": {},
          "output_type": "execute_result"
        }
      ],
      "source": [
        "type(lst[1])"
      ]
    },
    {
      "cell_type": "code",
      "execution_count": null,
      "id": "7f15299c-bc44-425f-9fdb-ba2ea88c57ba",
      "metadata": {
        "vscode": {
          "languageId": "python"
        },
        "id": "7f15299c-bc44-425f-9fdb-ba2ea88c57ba",
        "outputId": "29aef578-d6d9-420e-985c-8ae210349b44"
      },
      "outputs": [
        {
          "data": {
            "text/plain": [
              "bool"
            ]
          },
          "execution_count": 82,
          "metadata": {},
          "output_type": "execute_result"
        }
      ],
      "source": [
        "type(lst[2])"
      ]
    },
    {
      "cell_type": "code",
      "execution_count": null,
      "id": "04d1407a-134c-497d-9bff-1f6328463958",
      "metadata": {
        "vscode": {
          "languageId": "python"
        },
        "id": "04d1407a-134c-497d-9bff-1f6328463958",
        "outputId": "79d94a80-e5a7-4519-cb62-f74e54f79e51"
      },
      "outputs": [
        {
          "data": {
            "text/plain": [
              "str"
            ]
          },
          "execution_count": 83,
          "metadata": {},
          "output_type": "execute_result"
        }
      ],
      "source": [
        "type(lst[3])"
      ]
    },
    {
      "cell_type": "code",
      "execution_count": null,
      "id": "251f8901-35e2-49d3-bcc9-8df687c398d6",
      "metadata": {
        "vscode": {
          "languageId": "python"
        },
        "id": "251f8901-35e2-49d3-bcc9-8df687c398d6",
        "outputId": "98fe42a9-b098-4ede-d1e1-6d22bcd8ddc8"
      },
      "outputs": [
        {
          "data": {
            "text/plain": [
              "list"
            ]
          },
          "execution_count": 84,
          "metadata": {},
          "output_type": "execute_result"
        }
      ],
      "source": [
        "type(lst[4])"
      ]
    },
    {
      "cell_type": "code",
      "execution_count": null,
      "id": "fc6e51bd-ef7d-4fdf-b83a-b68dbd8e2ca4",
      "metadata": {
        "vscode": {
          "languageId": "python"
        },
        "id": "fc6e51bd-ef7d-4fdf-b83a-b68dbd8e2ca4",
        "outputId": "a517f8fe-7434-4c5d-9bc2-8b0115c7bfca"
      },
      "outputs": [
        {
          "data": {
            "text/plain": [
              "tuple"
            ]
          },
          "execution_count": 85,
          "metadata": {},
          "output_type": "execute_result"
        }
      ],
      "source": [
        "type(lst[5])"
      ]
    },
    {
      "cell_type": "code",
      "execution_count": null,
      "id": "7bf25447-277b-4ecd-a0c2-11ca62978eb5",
      "metadata": {
        "vscode": {
          "languageId": "python"
        },
        "id": "7bf25447-277b-4ecd-a0c2-11ca62978eb5",
        "outputId": "ea92c481-ca86-40ac-8fc5-f7443b2ec519"
      },
      "outputs": [
        {
          "data": {
            "text/plain": [
              "dict"
            ]
          },
          "execution_count": 86,
          "metadata": {},
          "output_type": "execute_result"
        }
      ],
      "source": [
        "type(lst[6])"
      ]
    },
    {
      "cell_type": "code",
      "execution_count": null,
      "id": "f5de5bed-9f2c-45a3-a999-6c6a6b603751",
      "metadata": {
        "vscode": {
          "languageId": "python"
        },
        "id": "f5de5bed-9f2c-45a3-a999-6c6a6b603751",
        "outputId": "97890d5c-1549-444f-91fc-84d5367de0f7"
      },
      "outputs": [
        {
          "data": {
            "text/plain": [
              "set"
            ]
          },
          "execution_count": 87,
          "metadata": {},
          "output_type": "execute_result"
        }
      ],
      "source": [
        "type(lst[7])"
      ]
    },
    {
      "cell_type": "markdown",
      "id": "1c737603-2249-48c7-a7a7-88ef3ea4ab60",
      "metadata": {
        "id": "1c737603-2249-48c7-a7a7-88ef3ea4ab60"
      },
      "source": [
        "`-` str은 컨테이너형이 아니다."
      ]
    },
    {
      "cell_type": "code",
      "execution_count": null,
      "id": "e4ae066a-74c4-48f9-908b-41e92ac5cdf4",
      "metadata": {
        "vscode": {
          "languageId": "python"
        },
        "id": "e4ae066a-74c4-48f9-908b-41e92ac5cdf4",
        "outputId": "53535511-6e01-42ec-a7c9-0d131925cfec"
      },
      "outputs": [
        {
          "data": {
            "text/plain": [
              "'c'"
            ]
          },
          "execution_count": 57,
          "metadata": {},
          "output_type": "execute_result"
        }
      ],
      "source": [
        "'abcd'[2]"
      ]
    },
    {
      "cell_type": "markdown",
      "id": "0545ab41-c41e-4119-ba3e-30e55020cbf0",
      "metadata": {
        "id": "0545ab41-c41e-4119-ba3e-30e55020cbf0"
      },
      "source": [
        "- str의 모든 원소는 문자임"
      ]
    },
    {
      "cell_type": "markdown",
      "id": "33e8701e-d649-49a1-844e-24ab7f6be8d2",
      "metadata": {
        "id": "33e8701e-d649-49a1-844e-24ab7f6be8d2"
      },
      "source": [
        "### 리스트는 가변형 객체이다."
      ]
    },
    {
      "cell_type": "markdown",
      "id": "74dab46f-8d9f-47ff-be6e-8e941f216335",
      "metadata": {
        "id": "74dab46f-8d9f-47ff-be6e-8e941f216335"
      },
      "source": [
        "#### 리스트의 원소 수정"
      ]
    },
    {
      "cell_type": "markdown",
      "id": "63610a43-1040-4c30-a5a5-480bc997cd22",
      "metadata": {
        "id": "63610a43-1040-4c30-a5a5-480bc997cd22"
      },
      "source": [
        "`-` 리스트의 원소를 수정할 수 있다. (리스트는 가변객체이므로)"
      ]
    },
    {
      "cell_type": "code",
      "execution_count": null,
      "id": "fc9f6aa4-3683-4165-b558-89e26d6fcd77",
      "metadata": {
        "vscode": {
          "languageId": "python"
        },
        "id": "fc9f6aa4-3683-4165-b558-89e26d6fcd77",
        "outputId": "9ac5f9e4-1dd1-43ff-c140-61d16e29322f"
      },
      "outputs": [
        {
          "data": {
            "text/plain": [
              "[11, 22, 33]"
            ]
          },
          "execution_count": 58,
          "metadata": {},
          "output_type": "execute_result"
        }
      ],
      "source": [
        "a=[11,22,33]\n",
        "a"
      ]
    },
    {
      "cell_type": "code",
      "execution_count": null,
      "id": "a77fcc83-b574-47ca-97e0-60d96c5368ba",
      "metadata": {
        "vscode": {
          "languageId": "python"
        },
        "id": "a77fcc83-b574-47ca-97e0-60d96c5368ba",
        "outputId": "bfdbf86d-20b7-4074-8332-d431d761a5b7"
      },
      "outputs": [
        {
          "data": {
            "text/plain": [
              "11"
            ]
          },
          "execution_count": 97,
          "metadata": {},
          "output_type": "execute_result"
        }
      ],
      "source": [
        "a[0]"
      ]
    },
    {
      "cell_type": "code",
      "execution_count": null,
      "id": "c3d183ad-f215-42e7-8135-985c19cebce6",
      "metadata": {
        "vscode": {
          "languageId": "python"
        },
        "id": "c3d183ad-f215-42e7-8135-985c19cebce6"
      },
      "outputs": [],
      "source": [
        "a[0]=111"
      ]
    },
    {
      "cell_type": "code",
      "execution_count": null,
      "id": "a11b4638-e8f2-4672-888c-e17ec6ed4c56",
      "metadata": {
        "vscode": {
          "languageId": "python"
        },
        "id": "a11b4638-e8f2-4672-888c-e17ec6ed4c56",
        "outputId": "c8653b7f-a20d-47bf-d983-e253699f9e18"
      },
      "outputs": [
        {
          "data": {
            "text/plain": [
              "[111, 22, 33]"
            ]
          },
          "execution_count": 99,
          "metadata": {},
          "output_type": "execute_result"
        }
      ],
      "source": [
        "a"
      ]
    },
    {
      "cell_type": "markdown",
      "id": "770512a1-a404-471e-939e-3a26d15b174e",
      "metadata": {
        "id": "770512a1-a404-471e-939e-3a26d15b174e"
      },
      "source": [
        "`-` 원소수정은 당연한 기능같은데 이것이 불가능한 경우도 있다."
      ]
    },
    {
      "cell_type": "markdown",
      "id": "f5d7847b-3029-460d-a09f-2b28cbb83de6",
      "metadata": {
        "id": "f5d7847b-3029-460d-a09f-2b28cbb83de6"
      },
      "source": [
        "(가능한경우)"
      ]
    },
    {
      "cell_type": "code",
      "execution_count": null,
      "id": "4e512f30-0d0e-4521-b7f8-3c3502d8b45d",
      "metadata": {
        "vscode": {
          "languageId": "python"
        },
        "id": "4e512f30-0d0e-4521-b7f8-3c3502d8b45d",
        "outputId": "bcfb02bf-706b-4078-8b72-6b3de7783406"
      },
      "outputs": [
        {
          "data": {
            "text/plain": [
              "['g', 'u', 'e', 'b', 'i', 'n']"
            ]
          },
          "execution_count": 59,
          "metadata": {},
          "output_type": "execute_result"
        }
      ],
      "source": [
        "a=['g','u','e','b','i','n']\n",
        "a"
      ]
    },
    {
      "cell_type": "code",
      "execution_count": null,
      "id": "78913261-4417-4475-a12b-2ecda95a11da",
      "metadata": {
        "vscode": {
          "languageId": "python"
        },
        "id": "78913261-4417-4475-a12b-2ecda95a11da",
        "outputId": "98062763-c60f-4129-ddcf-3dc259617919"
      },
      "outputs": [
        {
          "data": {
            "text/plain": [
              "'g'"
            ]
          },
          "execution_count": 104,
          "metadata": {},
          "output_type": "execute_result"
        }
      ],
      "source": [
        "a[0]"
      ]
    },
    {
      "cell_type": "code",
      "execution_count": null,
      "id": "d521469d-6bd5-44a5-824b-2c734690a0bb",
      "metadata": {
        "vscode": {
          "languageId": "python"
        },
        "id": "d521469d-6bd5-44a5-824b-2c734690a0bb"
      },
      "outputs": [],
      "source": [
        "a[0]='G'"
      ]
    },
    {
      "cell_type": "code",
      "execution_count": null,
      "id": "f6741217-3566-487b-8389-4b06fb9f7846",
      "metadata": {
        "vscode": {
          "languageId": "python"
        },
        "id": "f6741217-3566-487b-8389-4b06fb9f7846",
        "outputId": "0ebaa63a-7c36-4e63-ae20-adc4f087e1e3"
      },
      "outputs": [
        {
          "data": {
            "text/plain": [
              "['G', 'u', 'e', 'b', 'i', 'n']"
            ]
          },
          "execution_count": 106,
          "metadata": {},
          "output_type": "execute_result"
        }
      ],
      "source": [
        "a"
      ]
    },
    {
      "cell_type": "markdown",
      "id": "39580fde-0955-469b-931e-5a44a2e62545",
      "metadata": {
        "id": "39580fde-0955-469b-931e-5a44a2e62545"
      },
      "source": [
        "(불가능한경우)"
      ]
    },
    {
      "cell_type": "code",
      "execution_count": null,
      "id": "69de5b4b-303f-4fbf-97d2-2ea057efb763",
      "metadata": {
        "vscode": {
          "languageId": "python"
        },
        "id": "69de5b4b-303f-4fbf-97d2-2ea057efb763",
        "outputId": "c367635c-e9c7-4ec1-b3c6-d884d4081e26"
      },
      "outputs": [
        {
          "data": {
            "text/plain": [
              "'guebin'"
            ]
          },
          "execution_count": 65,
          "metadata": {},
          "output_type": "execute_result"
        }
      ],
      "source": [
        "a='guebin'\n",
        "a"
      ]
    },
    {
      "cell_type": "code",
      "execution_count": null,
      "id": "292791ee-bebb-4638-a3d1-91f2534898e7",
      "metadata": {
        "vscode": {
          "languageId": "python"
        },
        "id": "292791ee-bebb-4638-a3d1-91f2534898e7",
        "outputId": "a11f2d6a-6c23-4505-fb6e-5bc9725570b8"
      },
      "outputs": [
        {
          "data": {
            "text/plain": [
              "str"
            ]
          },
          "execution_count": 66,
          "metadata": {},
          "output_type": "execute_result"
        }
      ],
      "source": [
        "type(a)"
      ]
    },
    {
      "cell_type": "code",
      "execution_count": null,
      "id": "c89fd5c0-09d1-44df-8fdd-5e30cf7737f9",
      "metadata": {
        "vscode": {
          "languageId": "python"
        },
        "id": "c89fd5c0-09d1-44df-8fdd-5e30cf7737f9",
        "outputId": "3f801712-767d-49db-d392-b1253d746b44"
      },
      "outputs": [
        {
          "data": {
            "text/plain": [
              "'g'"
            ]
          },
          "execution_count": 67,
          "metadata": {},
          "output_type": "execute_result"
        }
      ],
      "source": [
        "a[0]"
      ]
    },
    {
      "cell_type": "code",
      "execution_count": null,
      "id": "11047950-3bea-47cd-b4c6-067aea25f90e",
      "metadata": {
        "vscode": {
          "languageId": "python"
        },
        "id": "11047950-3bea-47cd-b4c6-067aea25f90e",
        "outputId": "fe0ff3d6-4ecd-430d-ef62-eb5468d769b5"
      },
      "outputs": [
        {
          "ename": "TypeError",
          "evalue": "'str' object does not support item assignment",
          "output_type": "error",
          "traceback": [
            "\u001b[0;31m---------------------------------------------------------------------------\u001b[0m",
            "\u001b[0;31mTypeError\u001b[0m                                 Traceback (most recent call last)",
            "\u001b[0;32m<ipython-input-68-82066f6e0399>\u001b[0m in \u001b[0;36m<module>\u001b[0;34m\u001b[0m\n\u001b[0;32m----> 1\u001b[0;31m \u001b[0ma\u001b[0m\u001b[0;34m[\u001b[0m\u001b[0;36m0\u001b[0m\u001b[0;34m]\u001b[0m\u001b[0;34m=\u001b[0m\u001b[0;34m'G'\u001b[0m\u001b[0;34m\u001b[0m\u001b[0;34m\u001b[0m\u001b[0m\n\u001b[0m",
            "\u001b[0;31mTypeError\u001b[0m: 'str' object does not support item assignment"
          ]
        }
      ],
      "source": [
        "a[0]='G'"
      ]
    },
    {
      "cell_type": "markdown",
      "id": "e20996be-c5e4-4c93-9f04-054cdebca8be",
      "metadata": {
        "id": "e20996be-c5e4-4c93-9f04-054cdebca8be"
      },
      "source": [
        "#### 리스트의 원소 삭제"
      ]
    },
    {
      "cell_type": "markdown",
      "id": "d3c90d2f-e513-4ae1-918a-104431c26325",
      "metadata": {
        "id": "d3c90d2f-e513-4ae1-918a-104431c26325"
      },
      "source": [
        "(예제)"
      ]
    },
    {
      "cell_type": "markdown",
      "id": "fa12f06b-9948-4bd9-b156-7043eeb10ad9",
      "metadata": {
        "id": "fa12f06b-9948-4bd9-b156-7043eeb10ad9"
      },
      "source": [
        "아래와 같이 문자로 된 리스트를 선언하자."
      ]
    },
    {
      "cell_type": "code",
      "execution_count": null,
      "id": "f9570ff3-37ea-4239-8d19-26da3daf4831",
      "metadata": {
        "vscode": {
          "languageId": "python"
        },
        "id": "f9570ff3-37ea-4239-8d19-26da3daf4831",
        "outputId": "868052ca-2cd4-4097-94ea-56c3db7e15ed"
      },
      "outputs": [
        {
          "data": {
            "text/plain": [
              "['g', 'u', 'e', 'b', 'i', 'n']"
            ]
          },
          "execution_count": 118,
          "metadata": {},
          "output_type": "execute_result"
        }
      ],
      "source": [
        "a=['g','u','e','b','i','n']\n",
        "a"
      ]
    },
    {
      "cell_type": "markdown",
      "id": "2bf99be3-820c-4c3e-9ac5-2932e5262eaf",
      "metadata": {
        "id": "2bf99be3-820c-4c3e-9ac5-2932e5262eaf"
      },
      "source": [
        "사실 더 쉽게 선언할 수 있음"
      ]
    },
    {
      "cell_type": "code",
      "execution_count": null,
      "id": "cccdef08-6317-4a82-9c1f-f87cf59fb8f7",
      "metadata": {
        "vscode": {
          "languageId": "python"
        },
        "id": "cccdef08-6317-4a82-9c1f-f87cf59fb8f7",
        "outputId": "d7fc598f-6d6d-4208-cde6-f90eb78a6c1a"
      },
      "outputs": [
        {
          "data": {
            "text/plain": [
              "['g', 'u', 'e', 'b', 'i', 'n']"
            ]
          },
          "execution_count": 120,
          "metadata": {},
          "output_type": "execute_result"
        }
      ],
      "source": [
        "a= 'guebin' # string으로 a를 선언\n",
        "a= list(a) # list(a)를 통하여 str을 ㅣist로 변환 -> 그 결과를 a에 다시 저장\n",
        "a"
      ]
    },
    {
      "cell_type": "markdown",
      "id": "b1dbedef-9abd-4fe1-a817-f57562ba737a",
      "metadata": {
        "id": "b1dbedef-9abd-4fe1-a817-f57562ba737a"
      },
      "source": [
        "첫번째 원소를 삭제하고 싶다면?"
      ]
    },
    {
      "cell_type": "code",
      "execution_count": null,
      "id": "486a250d-982a-4b1a-a664-943f2dd0ae02",
      "metadata": {
        "vscode": {
          "languageId": "python"
        },
        "id": "486a250d-982a-4b1a-a664-943f2dd0ae02"
      },
      "outputs": [],
      "source": [
        "del a[0]"
      ]
    },
    {
      "cell_type": "code",
      "execution_count": null,
      "id": "79a7c837-7322-4c26-b3c7-90a78968ed07",
      "metadata": {
        "vscode": {
          "languageId": "python"
        },
        "id": "79a7c837-7322-4c26-b3c7-90a78968ed07",
        "outputId": "5315b59b-e1e8-43a7-c066-9cb4afaf3201"
      },
      "outputs": [
        {
          "data": {
            "text/plain": [
              "['u', 'e', 'b', 'i', 'n']"
            ]
          },
          "execution_count": 122,
          "metadata": {},
          "output_type": "execute_result"
        }
      ],
      "source": [
        "a"
      ]
    },
    {
      "cell_type": "markdown",
      "id": "07932971-62eb-44c9-9fed-92a282283753",
      "metadata": {
        "id": "07932971-62eb-44c9-9fed-92a282283753"
      },
      "source": [
        "이 상태에서 다시 첫번쨰 원소를 삭제한다면?"
      ]
    },
    {
      "cell_type": "code",
      "execution_count": null,
      "id": "a8d6b8e1-7385-4965-b7f4-a534bac13eb4",
      "metadata": {
        "vscode": {
          "languageId": "python"
        },
        "id": "a8d6b8e1-7385-4965-b7f4-a534bac13eb4"
      },
      "outputs": [],
      "source": [
        "del a[0]"
      ]
    },
    {
      "cell_type": "code",
      "execution_count": null,
      "id": "2f200f80-d5b4-4be2-ae37-724bbffe7128",
      "metadata": {
        "vscode": {
          "languageId": "python"
        },
        "id": "2f200f80-d5b4-4be2-ae37-724bbffe7128",
        "outputId": "d0f140d3-f74e-4a3b-880a-7b60a1b11445"
      },
      "outputs": [
        {
          "data": {
            "text/plain": [
              "['e', 'b', 'i', 'n']"
            ]
          },
          "execution_count": 124,
          "metadata": {},
          "output_type": "execute_result"
        }
      ],
      "source": [
        "a"
      ]
    },
    {
      "cell_type": "markdown",
      "id": "b24be2ef-26be-42bd-8eda-b35ad8770760",
      "metadata": {
        "id": "b24be2ef-26be-42bd-8eda-b35ad8770760"
      },
      "source": [
        "#### 리스트의 원소 추가"
      ]
    },
    {
      "cell_type": "markdown",
      "id": "a82c07eb-0e06-466f-b9e1-323a2b755aa3",
      "metadata": {
        "id": "a82c07eb-0e06-466f-b9e1-323a2b755aa3"
      },
      "source": [
        "(예제) 비어있는 리스트를 만들고 원소 0,1,2를 차례로 추가하여 보자."
      ]
    },
    {
      "cell_type": "markdown",
      "id": "059febf6-0802-4c95-8906-35250d86e64a",
      "metadata": {
        "id": "059febf6-0802-4c95-8906-35250d86e64a"
      },
      "source": [
        "(풀이1)"
      ]
    },
    {
      "cell_type": "code",
      "execution_count": null,
      "id": "d61cf09a-0f9f-4f94-8a3c-95b173e13442",
      "metadata": {
        "vscode": {
          "languageId": "python"
        },
        "id": "d61cf09a-0f9f-4f94-8a3c-95b173e13442",
        "outputId": "c0501452-0bdc-4949-c7f8-10096646f4e6"
      },
      "outputs": [
        {
          "data": {
            "text/plain": [
              "[]"
            ]
          },
          "execution_count": 130,
          "metadata": {},
          "output_type": "execute_result"
        }
      ],
      "source": [
        "a=[]\n",
        "a"
      ]
    },
    {
      "cell_type": "code",
      "execution_count": null,
      "id": "831767cc-3efc-42e6-a6da-53c81092d6fc",
      "metadata": {
        "vscode": {
          "languageId": "python"
        },
        "id": "831767cc-3efc-42e6-a6da-53c81092d6fc",
        "outputId": "72811ae9-0f94-416a-a8d4-05ad13728582"
      },
      "outputs": [
        {
          "data": {
            "text/plain": [
              "[0]"
            ]
          },
          "execution_count": 131,
          "metadata": {},
          "output_type": "execute_result"
        }
      ],
      "source": [
        "a= a + [0]\n",
        "a"
      ]
    },
    {
      "cell_type": "code",
      "execution_count": null,
      "id": "594b7449-3906-4937-a2be-72e5543439c0",
      "metadata": {
        "vscode": {
          "languageId": "python"
        },
        "id": "594b7449-3906-4937-a2be-72e5543439c0",
        "outputId": "eaff5b22-6e5b-473f-a452-61d6b4dc6dd0"
      },
      "outputs": [
        {
          "data": {
            "text/plain": [
              "[0, 1]"
            ]
          },
          "execution_count": 132,
          "metadata": {},
          "output_type": "execute_result"
        }
      ],
      "source": [
        "a= a + [1]\n",
        "a"
      ]
    },
    {
      "cell_type": "code",
      "execution_count": null,
      "id": "85d5cddb-c5cd-40a1-8858-01c38a18f2ff",
      "metadata": {
        "vscode": {
          "languageId": "python"
        },
        "id": "85d5cddb-c5cd-40a1-8858-01c38a18f2ff",
        "outputId": "9712f880-1b4c-4965-b909-16c49067a588"
      },
      "outputs": [
        {
          "data": {
            "text/plain": [
              "[0, 1, 2]"
            ]
          },
          "execution_count": 133,
          "metadata": {},
          "output_type": "execute_result"
        }
      ],
      "source": [
        "a= a + [2]\n",
        "a"
      ]
    },
    {
      "cell_type": "markdown",
      "id": "b0de7b75-94d1-47a5-9f51-6a20c262aff4",
      "metadata": {
        "id": "b0de7b75-94d1-47a5-9f51-6a20c262aff4"
      },
      "source": [
        "(풀이2)"
      ]
    },
    {
      "cell_type": "code",
      "execution_count": null,
      "id": "f7069317-fe32-4d42-a1b5-4b499d8c6fb8",
      "metadata": {
        "vscode": {
          "languageId": "python"
        },
        "id": "f7069317-fe32-4d42-a1b5-4b499d8c6fb8",
        "outputId": "7d3d5935-8e91-4313-a043-4c912e7abe99"
      },
      "outputs": [
        {
          "data": {
            "text/plain": [
              "[]"
            ]
          },
          "execution_count": 74,
          "metadata": {},
          "output_type": "execute_result"
        }
      ],
      "source": [
        "a=[]\n",
        "a"
      ]
    },
    {
      "cell_type": "code",
      "execution_count": null,
      "id": "d043530b-1f4c-4b5c-8db6-1b1b16073d25",
      "metadata": {
        "vscode": {
          "languageId": "python"
        },
        "id": "d043530b-1f4c-4b5c-8db6-1b1b16073d25",
        "outputId": "d00b70cd-d2c7-434b-95a5-c5cdcbad0840"
      },
      "outputs": [
        {
          "data": {
            "text/plain": [
              "[0]"
            ]
          },
          "execution_count": 75,
          "metadata": {},
          "output_type": "execute_result"
        }
      ],
      "source": [
        "a += [0]\n",
        "a"
      ]
    },
    {
      "cell_type": "code",
      "execution_count": null,
      "id": "66ec8ed6-5319-4bb5-940b-00d728dc5083",
      "metadata": {
        "vscode": {
          "languageId": "python"
        },
        "id": "66ec8ed6-5319-4bb5-940b-00d728dc5083",
        "outputId": "b65c4080-2641-4c3c-c5d8-762afbe695f4"
      },
      "outputs": [
        {
          "data": {
            "text/plain": [
              "[0, 1]"
            ]
          },
          "execution_count": 76,
          "metadata": {},
          "output_type": "execute_result"
        }
      ],
      "source": [
        "a += [1]\n",
        "a"
      ]
    },
    {
      "cell_type": "code",
      "execution_count": null,
      "id": "d40e1a11-2e5b-4a28-ac4e-d529e059b461",
      "metadata": {
        "vscode": {
          "languageId": "python"
        },
        "id": "d40e1a11-2e5b-4a28-ac4e-d529e059b461",
        "outputId": "2f80f053-789f-4cbd-e465-57e8865a4e06"
      },
      "outputs": [
        {
          "data": {
            "text/plain": [
              "[0, 1, 2]"
            ]
          },
          "execution_count": 77,
          "metadata": {},
          "output_type": "execute_result"
        }
      ],
      "source": [
        "a += [2]\n",
        "a"
      ]
    },
    {
      "cell_type": "markdown",
      "id": "7c83b3ec-165f-4323-96aa-8496a777479d",
      "metadata": {
        "id": "7c83b3ec-165f-4323-96aa-8496a777479d"
      },
      "source": [
        "- 암기법: 중복되는 변수를 지우고 연산자의 순서를 바꾼다."
      ]
    },
    {
      "cell_type": "markdown",
      "id": "8c1fda0d-44e2-46a3-8285-0e40a4c89d30",
      "metadata": {
        "id": "8c1fda0d-44e2-46a3-8285-0e40a4c89d30"
      },
      "source": [
        "(풀이3) 리스트 특화기능(=메소드)를 이용"
      ]
    },
    {
      "cell_type": "code",
      "execution_count": null,
      "id": "2f126016-75de-4a6c-9e86-d99b129e44e2",
      "metadata": {
        "vscode": {
          "languageId": "python"
        },
        "id": "2f126016-75de-4a6c-9e86-d99b129e44e2",
        "outputId": "9a3f5a5d-ab5f-45c0-dbfd-3e97204a1433"
      },
      "outputs": [
        {
          "data": {
            "text/plain": [
              "[]"
            ]
          },
          "execution_count": 78,
          "metadata": {},
          "output_type": "execute_result"
        }
      ],
      "source": [
        "a=[]\n",
        "a"
      ]
    },
    {
      "cell_type": "code",
      "execution_count": null,
      "id": "fe3e9657-dd8e-4bba-a3c6-6a584da00f38",
      "metadata": {
        "vscode": {
          "languageId": "python"
        },
        "id": "fe3e9657-dd8e-4bba-a3c6-6a584da00f38",
        "outputId": "9be97364-f9a5-4f2d-8927-95cab7c20305"
      },
      "outputs": [
        {
          "data": {
            "text/plain": [
              "[0]"
            ]
          },
          "execution_count": 146,
          "metadata": {},
          "output_type": "execute_result"
        }
      ],
      "source": [
        "a.append(0)\n",
        "a"
      ]
    },
    {
      "cell_type": "code",
      "execution_count": null,
      "id": "0df5b8c5-69bb-42c8-9625-ef6c6ea40381",
      "metadata": {
        "vscode": {
          "languageId": "python"
        },
        "id": "0df5b8c5-69bb-42c8-9625-ef6c6ea40381",
        "outputId": "fe101232-6838-45fb-d1f2-5b90e32926f2"
      },
      "outputs": [
        {
          "data": {
            "text/plain": [
              "[0, 1]"
            ]
          },
          "execution_count": 147,
          "metadata": {},
          "output_type": "execute_result"
        }
      ],
      "source": [
        "a.append(1)\n",
        "a"
      ]
    },
    {
      "cell_type": "code",
      "execution_count": null,
      "id": "38c29cd4-a278-4f3d-a364-9f75d04e6380",
      "metadata": {
        "vscode": {
          "languageId": "python"
        },
        "id": "38c29cd4-a278-4f3d-a364-9f75d04e6380",
        "outputId": "adaf57bf-d18d-4b9e-fdb4-dc4f52919da8"
      },
      "outputs": [
        {
          "data": {
            "text/plain": [
              "[0, 1, 2]"
            ]
          },
          "execution_count": 148,
          "metadata": {},
          "output_type": "execute_result"
        }
      ],
      "source": [
        "a.append(2)\n",
        "a"
      ]
    },
    {
      "cell_type": "markdown",
      "id": "496d10df-b492-4d7f-a175-96f9297eb459",
      "metadata": {
        "id": "496d10df-b492-4d7f-a175-96f9297eb459"
      },
      "source": [
        "`-` `a+[4]`와 `a.append(4)`의 차이점은?"
      ]
    },
    {
      "cell_type": "markdown",
      "id": "7f1710e9-b739-477f-9de3-52d1ffa24003",
      "metadata": {
        "id": "7f1710e9-b739-477f-9de3-52d1ffa24003"
      },
      "source": [
        "(관찰1)"
      ]
    },
    {
      "cell_type": "code",
      "execution_count": null,
      "id": "52eb1d51-f837-408d-b37c-cabe0ab90f04",
      "metadata": {
        "vscode": {
          "languageId": "python"
        },
        "id": "52eb1d51-f837-408d-b37c-cabe0ab90f04",
        "outputId": "14e9a4a0-35a5-4940-c110-04837cb080f9"
      },
      "outputs": [
        {
          "data": {
            "text/plain": [
              "[1, 2, 3, 4]"
            ]
          },
          "execution_count": 149,
          "metadata": {},
          "output_type": "execute_result"
        }
      ],
      "source": [
        "a=[1,2,3]\n",
        "a+[4] ## 리스트 a와 리스트 [4]의 연산결과를 알려줘"
      ]
    },
    {
      "cell_type": "code",
      "execution_count": null,
      "id": "d837aa40-6737-46c9-8770-c76fa3b6db08",
      "metadata": {
        "vscode": {
          "languageId": "python"
        },
        "id": "d837aa40-6737-46c9-8770-c76fa3b6db08",
        "outputId": "5ec61650-5ed9-4791-dcae-57d96e779707"
      },
      "outputs": [
        {
          "data": {
            "text/plain": [
              "[1, 2, 3]"
            ]
          },
          "execution_count": 151,
          "metadata": {},
          "output_type": "execute_result"
        }
      ],
      "source": [
        "a ## a는 그대로임. 변화없음"
      ]
    },
    {
      "cell_type": "markdown",
      "id": "fb5d380f-b909-49b9-b1fa-9bc0c81b025a",
      "metadata": {
        "id": "fb5d380f-b909-49b9-b1fa-9bc0c81b025a"
      },
      "source": [
        "(관찰2)"
      ]
    },
    {
      "cell_type": "code",
      "execution_count": null,
      "id": "aa25fb89-7a7d-4471-9b69-c62c2915f6ae",
      "metadata": {
        "vscode": {
          "languageId": "python"
        },
        "id": "aa25fb89-7a7d-4471-9b69-c62c2915f6ae"
      },
      "outputs": [],
      "source": [
        "a=[1,2,3]\n",
        "a.append(4)"
      ]
    },
    {
      "cell_type": "code",
      "execution_count": null,
      "id": "5cc35555-2bd8-4f1e-a079-9ce07c621eb6",
      "metadata": {
        "vscode": {
          "languageId": "python"
        },
        "id": "5cc35555-2bd8-4f1e-a079-9ce07c621eb6",
        "outputId": "362a7d62-cdf6-4ef2-99eb-80bacfe7f6c8"
      },
      "outputs": [
        {
          "data": {
            "text/plain": [
              "[1, 2, 3, 4]"
            ]
          },
          "execution_count": 154,
          "metadata": {},
          "output_type": "execute_result"
        }
      ],
      "source": [
        "a ## a자체가 변화함"
      ]
    },
    {
      "cell_type": "markdown",
      "id": "96390f87-a6ba-4b53-a2ee-03fad235621a",
      "metadata": {
        "id": "96390f87-a6ba-4b53-a2ee-03fad235621a"
      },
      "source": [
        "비슷해보이지만 굉장히 미묘한 차이가 있음"
      ]
    },
    {
      "cell_type": "markdown",
      "id": "707585e6-165e-437c-b2a9-e6d7e1937280",
      "metadata": {
        "id": "707585e6-165e-437c-b2a9-e6d7e1937280"
      },
      "source": [
        "`a.append(4)`: `a`에 4를 append하라 $\\to$ `a`가 변함\n",
        "\n",
        "`a+[4]`: `a`와 4를 연산하라"
      ]
    },
    {
      "cell_type": "markdown",
      "id": "e92b0433-e019-4b92-9fc4-8ad2f57e9f1a",
      "metadata": {
        "id": "e92b0433-e019-4b92-9fc4-8ad2f57e9f1a"
      },
      "source": [
        "## list 특수기능"
      ]
    },
    {
      "cell_type": "markdown",
      "id": "aacb04bf-3705-443d-8ad1-8f5cc22fc20b",
      "metadata": {
        "id": "aacb04bf-3705-443d-8ad1-8f5cc22fc20b"
      },
      "source": [
        "**(append)**"
      ]
    },
    {
      "cell_type": "code",
      "execution_count": null,
      "id": "3851b578-23dd-4755-9b11-e8dfd8065916",
      "metadata": {
        "vscode": {
          "languageId": "python"
        },
        "id": "3851b578-23dd-4755-9b11-e8dfd8065916",
        "outputId": "cbb2518f-87a6-4036-ba1c-aa66829e10f7"
      },
      "outputs": [
        {
          "data": {
            "text/plain": [
              "\u001b[0;31mSignature:\u001b[0m \u001b[0ma\u001b[0m\u001b[0;34m.\u001b[0m\u001b[0mappend\u001b[0m\u001b[0;34m(\u001b[0m\u001b[0mobject\u001b[0m\u001b[0;34m,\u001b[0m \u001b[0;34m/\u001b[0m\u001b[0;34m)\u001b[0m\u001b[0;34m\u001b[0m\u001b[0;34m\u001b[0m\u001b[0m\n",
              "\u001b[0;31mDocstring:\u001b[0m Append object to the end of the list.\n",
              "\u001b[0;31mType:\u001b[0m      builtin_function_or_method\n"
            ]
          },
          "metadata": {},
          "output_type": "display_data"
        }
      ],
      "source": [
        "a=[1,2,3,4]\n",
        "a.append?"
      ]
    },
    {
      "cell_type": "code",
      "execution_count": null,
      "id": "8980d784-d929-4226-92fa-8d1db6726996",
      "metadata": {
        "vscode": {
          "languageId": "python"
        },
        "id": "8980d784-d929-4226-92fa-8d1db6726996",
        "outputId": "77aebacc-214b-4633-fdfa-420951ebe975"
      },
      "outputs": [
        {
          "data": {
            "text/plain": [
              "[1, 2, 3, 4, 5]"
            ]
          },
          "execution_count": 163,
          "metadata": {},
          "output_type": "execute_result"
        }
      ],
      "source": [
        "a.append(5)\n",
        "a"
      ]
    },
    {
      "cell_type": "markdown",
      "id": "0e114e16-ffac-40ee-a93f-4054d95c451b",
      "metadata": {
        "id": "0e114e16-ffac-40ee-a93f-4054d95c451b"
      },
      "source": [
        "**(clear)**"
      ]
    },
    {
      "cell_type": "code",
      "execution_count": null,
      "id": "1bf65ba0-48f8-47bf-b679-4597e656a475",
      "metadata": {
        "vscode": {
          "languageId": "python"
        },
        "id": "1bf65ba0-48f8-47bf-b679-4597e656a475",
        "outputId": "17bd67ff-6444-473c-972b-2f806854eb7b"
      },
      "outputs": [
        {
          "data": {
            "text/plain": [
              "\u001b[0;31mSignature:\u001b[0m \u001b[0ma\u001b[0m\u001b[0;34m.\u001b[0m\u001b[0mclear\u001b[0m\u001b[0;34m(\u001b[0m\u001b[0;34m)\u001b[0m\u001b[0;34m\u001b[0m\u001b[0;34m\u001b[0m\u001b[0m\n",
              "\u001b[0;31mDocstring:\u001b[0m Remove all items from list.\n",
              "\u001b[0;31mType:\u001b[0m      builtin_function_or_method\n"
            ]
          },
          "metadata": {},
          "output_type": "display_data"
        }
      ],
      "source": [
        "a=[1,2,3,4]\n",
        "a.clear?"
      ]
    },
    {
      "cell_type": "code",
      "execution_count": null,
      "id": "e1d8f438-e0c3-4b7c-bb5d-7f114caf68d7",
      "metadata": {
        "vscode": {
          "languageId": "python"
        },
        "id": "e1d8f438-e0c3-4b7c-bb5d-7f114caf68d7",
        "outputId": "2a459c3a-501a-4dd0-c063-69eccd2da79f"
      },
      "outputs": [
        {
          "data": {
            "text/plain": [
              "[]"
            ]
          },
          "execution_count": 168,
          "metadata": {},
          "output_type": "execute_result"
        }
      ],
      "source": [
        "a.clear()\n",
        "a"
      ]
    },
    {
      "cell_type": "markdown",
      "id": "a4903cc4-ffa3-422d-b958-191f929a5e13",
      "metadata": {
        "id": "a4903cc4-ffa3-422d-b958-191f929a5e13"
      },
      "source": [
        "**(copy)**"
      ]
    },
    {
      "cell_type": "code",
      "execution_count": null,
      "id": "8128859f-f56b-41fe-989c-90dc371b3291",
      "metadata": {
        "vscode": {
          "languageId": "python"
        },
        "id": "8128859f-f56b-41fe-989c-90dc371b3291",
        "outputId": "a679220e-1de7-4229-89df-07ffdd9554eb"
      },
      "outputs": [
        {
          "data": {
            "text/plain": [
              "\u001b[0;31mSignature:\u001b[0m \u001b[0ma\u001b[0m\u001b[0;34m.\u001b[0m\u001b[0mcopy\u001b[0m\u001b[0;34m(\u001b[0m\u001b[0;34m)\u001b[0m\u001b[0;34m\u001b[0m\u001b[0;34m\u001b[0m\u001b[0m\n",
              "\u001b[0;31mDocstring:\u001b[0m Return a shallow copy of the list.\n",
              "\u001b[0;31mType:\u001b[0m      builtin_function_or_method\n"
            ]
          },
          "metadata": {},
          "output_type": "display_data"
        }
      ],
      "source": [
        "a=[1,2,3,4]\n",
        "a.copy?"
      ]
    },
    {
      "cell_type": "code",
      "execution_count": null,
      "id": "24453be5-f6fb-46ae-b3f7-a580d211bbea",
      "metadata": {
        "vscode": {
          "languageId": "python"
        },
        "id": "24453be5-f6fb-46ae-b3f7-a580d211bbea",
        "outputId": "c1dc28a2-cf5a-4640-a78e-722cf4e5cf05"
      },
      "outputs": [
        {
          "data": {
            "text/plain": [
              "[1, 2, 3, 4]"
            ]
          },
          "execution_count": 171,
          "metadata": {},
          "output_type": "execute_result"
        }
      ],
      "source": [
        "b=a.copy()\n",
        "b"
      ]
    },
    {
      "cell_type": "markdown",
      "id": "933139e9-b791-4fd6-bfd9-26f62471d86e",
      "metadata": {
        "id": "933139e9-b791-4fd6-bfd9-26f62471d86e"
      },
      "source": [
        "**(count)**"
      ]
    },
    {
      "cell_type": "code",
      "execution_count": null,
      "id": "aaa9ba0a-b161-4bde-9070-ff6915c58407",
      "metadata": {
        "vscode": {
          "languageId": "python"
        },
        "id": "aaa9ba0a-b161-4bde-9070-ff6915c58407",
        "outputId": "a522ec7f-22c9-4da9-c3f3-26c3e74e3f68"
      },
      "outputs": [
        {
          "data": {
            "text/plain": [
              "\u001b[0;31mSignature:\u001b[0m \u001b[0ma\u001b[0m\u001b[0;34m.\u001b[0m\u001b[0mcount\u001b[0m\u001b[0;34m(\u001b[0m\u001b[0mvalue\u001b[0m\u001b[0;34m,\u001b[0m \u001b[0;34m/\u001b[0m\u001b[0;34m)\u001b[0m\u001b[0;34m\u001b[0m\u001b[0;34m\u001b[0m\u001b[0m\n",
              "\u001b[0;31mDocstring:\u001b[0m Return number of occurrences of value.\n",
              "\u001b[0;31mType:\u001b[0m      builtin_function_or_method\n"
            ]
          },
          "metadata": {},
          "output_type": "display_data"
        }
      ],
      "source": [
        "a=[1,1,2,3,3,4,4,4]\n",
        "a.count?"
      ]
    },
    {
      "cell_type": "code",
      "execution_count": null,
      "id": "9029bb3b-d51e-4efe-ae53-b0f08a1b818a",
      "metadata": {
        "vscode": {
          "languageId": "python"
        },
        "id": "9029bb3b-d51e-4efe-ae53-b0f08a1b818a",
        "outputId": "0bf0d6ec-ab50-4d16-d638-beb989e16e68"
      },
      "outputs": [
        {
          "data": {
            "text/plain": [
              "2"
            ]
          },
          "execution_count": 181,
          "metadata": {},
          "output_type": "execute_result"
        }
      ],
      "source": [
        "a.count(1)"
      ]
    },
    {
      "cell_type": "code",
      "execution_count": null,
      "id": "67124330-87eb-45d3-aae2-800d8c0616a9",
      "metadata": {
        "vscode": {
          "languageId": "python"
        },
        "id": "67124330-87eb-45d3-aae2-800d8c0616a9",
        "outputId": "ec9cdee9-dec0-4673-991a-e035600ec9ec"
      },
      "outputs": [
        {
          "data": {
            "text/plain": [
              "1"
            ]
          },
          "execution_count": 182,
          "metadata": {},
          "output_type": "execute_result"
        }
      ],
      "source": [
        "a.count(2)"
      ]
    },
    {
      "cell_type": "code",
      "execution_count": null,
      "id": "3573e548-2bea-4499-8272-30be98c9863f",
      "metadata": {
        "vscode": {
          "languageId": "python"
        },
        "id": "3573e548-2bea-4499-8272-30be98c9863f",
        "outputId": "998372c3-1aac-41f4-973a-619e4537741c"
      },
      "outputs": [
        {
          "data": {
            "text/plain": [
              "2"
            ]
          },
          "execution_count": 183,
          "metadata": {},
          "output_type": "execute_result"
        }
      ],
      "source": [
        "a.count(3)"
      ]
    },
    {
      "cell_type": "code",
      "execution_count": null,
      "id": "826194d3-6949-4d50-98ee-24441272dca7",
      "metadata": {
        "vscode": {
          "languageId": "python"
        },
        "id": "826194d3-6949-4d50-98ee-24441272dca7",
        "outputId": "e0e67cd2-3192-492c-95ec-adbef614d135"
      },
      "outputs": [
        {
          "data": {
            "text/plain": [
              "3"
            ]
          },
          "execution_count": 184,
          "metadata": {},
          "output_type": "execute_result"
        }
      ],
      "source": [
        "a.count(4)"
      ]
    },
    {
      "cell_type": "markdown",
      "id": "7b8f8205-a82b-4c8f-bb75-5cde72bc4cba",
      "metadata": {
        "id": "7b8f8205-a82b-4c8f-bb75-5cde72bc4cba"
      },
      "source": [
        "**(extend)**"
      ]
    },
    {
      "cell_type": "code",
      "execution_count": null,
      "id": "069f7a74-6913-447d-b8c2-6b51d7951d75",
      "metadata": {
        "vscode": {
          "languageId": "python"
        },
        "id": "069f7a74-6913-447d-b8c2-6b51d7951d75"
      },
      "outputs": [],
      "source": [
        "a=[1,2,3,4]\n",
        "b=[-1,-2,-3,-4]"
      ]
    },
    {
      "cell_type": "code",
      "execution_count": null,
      "id": "60708d1e-2097-4f55-a971-56e2438a2190",
      "metadata": {
        "vscode": {
          "languageId": "python"
        },
        "id": "60708d1e-2097-4f55-a971-56e2438a2190",
        "outputId": "8c0d1505-fc01-4bf6-8344-d121024d316b"
      },
      "outputs": [
        {
          "data": {
            "text/plain": [
              "[1, 2, 3, 4, -1, -2, -3, -4]"
            ]
          },
          "execution_count": 199,
          "metadata": {},
          "output_type": "execute_result"
        }
      ],
      "source": [
        "a.extend(b)\n",
        "a"
      ]
    },
    {
      "cell_type": "code",
      "execution_count": null,
      "id": "46015c7c-ef06-4d14-be57-bb480effe1c8",
      "metadata": {
        "vscode": {
          "languageId": "python"
        },
        "id": "46015c7c-ef06-4d14-be57-bb480effe1c8"
      },
      "outputs": [],
      "source": [
        "a=[1,2,3,4]\n",
        "b=[-1,-2,-3,-4]"
      ]
    },
    {
      "cell_type": "code",
      "execution_count": null,
      "id": "3868229a-46a5-4259-8ded-c4d568561bb2",
      "metadata": {
        "vscode": {
          "languageId": "python"
        },
        "id": "3868229a-46a5-4259-8ded-c4d568561bb2"
      },
      "outputs": [],
      "source": [
        "a.append(b)"
      ]
    },
    {
      "cell_type": "code",
      "execution_count": null,
      "id": "3d0a4c67-0178-4393-b82a-9b1eb207d990",
      "metadata": {
        "vscode": {
          "languageId": "python"
        },
        "id": "3d0a4c67-0178-4393-b82a-9b1eb207d990",
        "outputId": "6aace0d8-60b9-4093-cc65-e62f108c0b94"
      },
      "outputs": [
        {
          "data": {
            "text/plain": [
              "[1, 2, 3, 4, [-1, -2, -3, -4]]"
            ]
          },
          "execution_count": 202,
          "metadata": {},
          "output_type": "execute_result"
        }
      ],
      "source": [
        "a"
      ]
    },
    {
      "cell_type": "markdown",
      "id": "709a098a-15c3-481b-968d-266b1fb93556",
      "metadata": {
        "id": "709a098a-15c3-481b-968d-266b1fb93556"
      },
      "source": [
        "**(index)**"
      ]
    },
    {
      "cell_type": "code",
      "execution_count": null,
      "id": "8b890c76-162b-4120-93ac-5966f9a696dc",
      "metadata": {
        "vscode": {
          "languageId": "python"
        },
        "id": "8b890c76-162b-4120-93ac-5966f9a696dc",
        "outputId": "4da0349c-fb3f-4266-a432-810cd80a3497"
      },
      "outputs": [
        {
          "data": {
            "text/plain": [
              "\u001b[0;31mSignature:\u001b[0m \u001b[0ma\u001b[0m\u001b[0;34m.\u001b[0m\u001b[0mindex\u001b[0m\u001b[0;34m(\u001b[0m\u001b[0mvalue\u001b[0m\u001b[0;34m,\u001b[0m \u001b[0mstart\u001b[0m\u001b[0;34m=\u001b[0m\u001b[0;36m0\u001b[0m\u001b[0;34m,\u001b[0m \u001b[0mstop\u001b[0m\u001b[0;34m=\u001b[0m\u001b[0;36m9223372036854775807\u001b[0m\u001b[0;34m,\u001b[0m \u001b[0;34m/\u001b[0m\u001b[0;34m)\u001b[0m\u001b[0;34m\u001b[0m\u001b[0;34m\u001b[0m\u001b[0m\n",
              "\u001b[0;31mDocstring:\u001b[0m\n",
              "Return first index of value.\n",
              "\n",
              "Raises ValueError if the value is not present.\n",
              "\u001b[0;31mType:\u001b[0m      builtin_function_or_method\n"
            ]
          },
          "metadata": {},
          "output_type": "display_data"
        }
      ],
      "source": [
        "a=[11,22,'a',True, 22,'a']\n",
        "a.index?"
      ]
    },
    {
      "cell_type": "code",
      "execution_count": null,
      "id": "87b97700-b21f-45ee-9505-1a67ad5f09a0",
      "metadata": {
        "vscode": {
          "languageId": "python"
        },
        "id": "87b97700-b21f-45ee-9505-1a67ad5f09a0",
        "outputId": "9b66010e-3b94-43ab-ffea-3fa2d9573f62"
      },
      "outputs": [
        {
          "data": {
            "text/plain": [
              "0"
            ]
          },
          "execution_count": 237,
          "metadata": {},
          "output_type": "execute_result"
        }
      ],
      "source": [
        "a.index(11)"
      ]
    },
    {
      "cell_type": "code",
      "execution_count": null,
      "id": "b35a2757-358d-4b06-847e-3246e6071b25",
      "metadata": {
        "vscode": {
          "languageId": "python"
        },
        "id": "b35a2757-358d-4b06-847e-3246e6071b25",
        "outputId": "db963163-bd98-4408-f75c-2a33e7880302"
      },
      "outputs": [
        {
          "data": {
            "text/plain": [
              "1"
            ]
          },
          "execution_count": 238,
          "metadata": {},
          "output_type": "execute_result"
        }
      ],
      "source": [
        "a.index(22)"
      ]
    },
    {
      "cell_type": "code",
      "execution_count": null,
      "id": "ef6df1f9-8050-49c9-8173-db246c18f038",
      "metadata": {
        "vscode": {
          "languageId": "python"
        },
        "id": "ef6df1f9-8050-49c9-8173-db246c18f038",
        "outputId": "fa216868-e8ae-49e1-d863-008f001c57b2"
      },
      "outputs": [
        {
          "data": {
            "text/plain": [
              "2"
            ]
          },
          "execution_count": 239,
          "metadata": {},
          "output_type": "execute_result"
        }
      ],
      "source": [
        "a.index('a')"
      ]
    },
    {
      "cell_type": "code",
      "execution_count": null,
      "id": "88688402-8cd2-4860-8b7a-7b76e85e3f76",
      "metadata": {
        "vscode": {
          "languageId": "python"
        },
        "id": "88688402-8cd2-4860-8b7a-7b76e85e3f76",
        "outputId": "f9ea2dde-9822-442a-d25f-dcfb6137f567"
      },
      "outputs": [
        {
          "data": {
            "text/plain": [
              "3"
            ]
          },
          "execution_count": 240,
          "metadata": {},
          "output_type": "execute_result"
        }
      ],
      "source": [
        "a.index(True)"
      ]
    },
    {
      "cell_type": "markdown",
      "id": "e2860207-f15c-417b-88ae-329364439de3",
      "metadata": {
        "id": "e2860207-f15c-417b-88ae-329364439de3"
      },
      "source": [
        "**(insert)**"
      ]
    },
    {
      "cell_type": "code",
      "execution_count": null,
      "id": "e10e36f8-072d-4a05-9d88-8e2492b46507",
      "metadata": {
        "vscode": {
          "languageId": "python"
        },
        "id": "e10e36f8-072d-4a05-9d88-8e2492b46507",
        "outputId": "2ea811e2-ad62-4090-d687-cd782c2f6740"
      },
      "outputs": [
        {
          "data": {
            "text/plain": [
              "\u001b[0;31mSignature:\u001b[0m \u001b[0ma\u001b[0m\u001b[0;34m.\u001b[0m\u001b[0minsert\u001b[0m\u001b[0;34m(\u001b[0m\u001b[0mindex\u001b[0m\u001b[0;34m,\u001b[0m \u001b[0mobject\u001b[0m\u001b[0;34m,\u001b[0m \u001b[0;34m/\u001b[0m\u001b[0;34m)\u001b[0m\u001b[0;34m\u001b[0m\u001b[0;34m\u001b[0m\u001b[0m\n",
              "\u001b[0;31mDocstring:\u001b[0m Insert object before index.\n",
              "\u001b[0;31mType:\u001b[0m      builtin_function_or_method\n"
            ]
          },
          "metadata": {},
          "output_type": "display_data"
        }
      ],
      "source": [
        "a=[1,2,3]\n",
        "a.insert?"
      ]
    },
    {
      "cell_type": "code",
      "execution_count": null,
      "id": "bdfacd70-6de1-4da4-b970-bbe3d7c9c282",
      "metadata": {
        "vscode": {
          "languageId": "python"
        },
        "id": "bdfacd70-6de1-4da4-b970-bbe3d7c9c282",
        "outputId": "45a6c246-d87a-4cff-91b6-3afab6ffa092"
      },
      "outputs": [
        {
          "data": {
            "text/plain": [
              "[1, 88, 2, 3]"
            ]
          },
          "execution_count": 243,
          "metadata": {},
          "output_type": "execute_result"
        }
      ],
      "source": [
        "a.insert(1,88)\n",
        "a"
      ]
    },
    {
      "cell_type": "markdown",
      "id": "ce1e431d-dd04-45a1-8ac8-49813ca76f70",
      "metadata": {
        "id": "ce1e431d-dd04-45a1-8ac8-49813ca76f70"
      },
      "source": [
        "**(pop)**"
      ]
    },
    {
      "cell_type": "code",
      "execution_count": null,
      "id": "3528b269-7de0-4b9c-b2da-876df6b48447",
      "metadata": {
        "vscode": {
          "languageId": "python"
        },
        "id": "3528b269-7de0-4b9c-b2da-876df6b48447",
        "outputId": "dfb077d3-c8e2-47ee-ae06-5086beadd553"
      },
      "outputs": [
        {
          "data": {
            "text/plain": [
              "\u001b[0;31mSignature:\u001b[0m \u001b[0ma\u001b[0m\u001b[0;34m.\u001b[0m\u001b[0mpop\u001b[0m\u001b[0;34m(\u001b[0m\u001b[0mindex\u001b[0m\u001b[0;34m=\u001b[0m\u001b[0;34m-\u001b[0m\u001b[0;36m1\u001b[0m\u001b[0;34m,\u001b[0m \u001b[0;34m/\u001b[0m\u001b[0;34m)\u001b[0m\u001b[0;34m\u001b[0m\u001b[0;34m\u001b[0m\u001b[0m\n",
              "\u001b[0;31mDocstring:\u001b[0m\n",
              "Remove and return item at index (default last).\n",
              "\n",
              "Raises IndexError if list is empty or index is out of range.\n",
              "\u001b[0;31mType:\u001b[0m      builtin_function_or_method\n"
            ]
          },
          "metadata": {},
          "output_type": "display_data"
        }
      ],
      "source": [
        "a=['a',1,2,'d']\n",
        "a.pop?"
      ]
    },
    {
      "cell_type": "code",
      "execution_count": null,
      "id": "0121e8ea-a7a2-47b5-ad64-4cbf471b0cbe",
      "metadata": {
        "vscode": {
          "languageId": "python"
        },
        "id": "0121e8ea-a7a2-47b5-ad64-4cbf471b0cbe",
        "outputId": "7b1f73d2-6beb-4339-ae10-a6d3303f5e11"
      },
      "outputs": [
        {
          "data": {
            "text/plain": [
              "'d'"
            ]
          },
          "execution_count": 251,
          "metadata": {},
          "output_type": "execute_result"
        }
      ],
      "source": [
        "a.pop() # index=-1 이므로 마지막원소가 나타남"
      ]
    },
    {
      "cell_type": "code",
      "execution_count": null,
      "id": "d9d7be83-5f74-450b-be5c-851849d7f343",
      "metadata": {
        "vscode": {
          "languageId": "python"
        },
        "id": "d9d7be83-5f74-450b-be5c-851849d7f343",
        "outputId": "26326370-70f8-4b61-c890-cbe9d7aa7ed0"
      },
      "outputs": [
        {
          "data": {
            "text/plain": [
              "['a', 1, 2]"
            ]
          },
          "execution_count": 252,
          "metadata": {},
          "output_type": "execute_result"
        }
      ],
      "source": [
        "a # a는 마지막 원소가 사라진 상태"
      ]
    },
    {
      "cell_type": "code",
      "execution_count": null,
      "id": "25aa58d3-1b46-45fe-a6a5-ae60035b0368",
      "metadata": {
        "vscode": {
          "languageId": "python"
        },
        "id": "25aa58d3-1b46-45fe-a6a5-ae60035b0368",
        "outputId": "18a94b12-6679-453e-f52e-c9d0864f77c8"
      },
      "outputs": [
        {
          "data": {
            "text/plain": [
              "'a'"
            ]
          },
          "execution_count": 253,
          "metadata": {},
          "output_type": "execute_result"
        }
      ],
      "source": [
        "a.pop(0) # index=0 이므로 첫번쨰 원소가 나타남"
      ]
    },
    {
      "cell_type": "code",
      "execution_count": null,
      "id": "f2e489cd-856d-4f31-a44b-648729fde9fa",
      "metadata": {
        "vscode": {
          "languageId": "python"
        },
        "id": "f2e489cd-856d-4f31-a44b-648729fde9fa",
        "outputId": "840d54ad-5657-47ea-e17b-266fa4c56de0"
      },
      "outputs": [
        {
          "data": {
            "text/plain": [
              "[1, 2]"
            ]
          },
          "execution_count": 254,
          "metadata": {},
          "output_type": "execute_result"
        }
      ],
      "source": [
        "a # a에는 첫번째 원소가 사라진 상태"
      ]
    },
    {
      "cell_type": "markdown",
      "id": "704a2fa6-3d58-4bb6-a375-e34f055a491b",
      "metadata": {
        "id": "704a2fa6-3d58-4bb6-a375-e34f055a491b"
      },
      "source": [
        "**(remove)**"
      ]
    },
    {
      "cell_type": "code",
      "execution_count": null,
      "id": "96103ab2-113f-4b17-afb6-eda220b8e3e8",
      "metadata": {
        "vscode": {
          "languageId": "python"
        },
        "id": "96103ab2-113f-4b17-afb6-eda220b8e3e8",
        "outputId": "62a27bd5-c4e7-482c-8120-b63c56a58537"
      },
      "outputs": [
        {
          "data": {
            "text/plain": [
              "\u001b[0;31mSignature:\u001b[0m \u001b[0ma\u001b[0m\u001b[0;34m.\u001b[0m\u001b[0mremove\u001b[0m\u001b[0;34m(\u001b[0m\u001b[0mvalue\u001b[0m\u001b[0;34m,\u001b[0m \u001b[0;34m/\u001b[0m\u001b[0;34m)\u001b[0m\u001b[0;34m\u001b[0m\u001b[0;34m\u001b[0m\u001b[0m\n",
              "\u001b[0;31mDocstring:\u001b[0m\n",
              "Remove first occurrence of value.\n",
              "\n",
              "Raises ValueError if the value is not present.\n",
              "\u001b[0;31mType:\u001b[0m      builtin_function_or_method\n"
            ]
          },
          "metadata": {},
          "output_type": "display_data"
        }
      ],
      "source": [
        "a=['a',2,3,'d']\n",
        "a.remove?"
      ]
    },
    {
      "cell_type": "code",
      "execution_count": null,
      "id": "0f5bbdbc-7538-4f77-af89-5e0566d64c0c",
      "metadata": {
        "vscode": {
          "languageId": "python"
        },
        "id": "0f5bbdbc-7538-4f77-af89-5e0566d64c0c"
      },
      "outputs": [],
      "source": [
        "a.remove('d')"
      ]
    },
    {
      "cell_type": "code",
      "execution_count": null,
      "id": "aa6de459-bb5c-4ac9-b950-133a2ab6914f",
      "metadata": {
        "vscode": {
          "languageId": "python"
        },
        "id": "aa6de459-bb5c-4ac9-b950-133a2ab6914f",
        "outputId": "aab2477f-7fab-4328-ce6f-28b1046d16e8"
      },
      "outputs": [
        {
          "data": {
            "text/plain": [
              "['a', 2, 3]"
            ]
          },
          "execution_count": 257,
          "metadata": {},
          "output_type": "execute_result"
        }
      ],
      "source": [
        "a"
      ]
    },
    {
      "cell_type": "code",
      "execution_count": null,
      "id": "5a878a34-e3f4-4cc5-b2ec-56b3fa5b8b9d",
      "metadata": {
        "vscode": {
          "languageId": "python"
        },
        "id": "5a878a34-e3f4-4cc5-b2ec-56b3fa5b8b9d"
      },
      "outputs": [],
      "source": [
        "a.remove('a')"
      ]
    },
    {
      "cell_type": "code",
      "execution_count": null,
      "id": "1db057c1-8567-427e-8cd0-0a5569cafc52",
      "metadata": {
        "vscode": {
          "languageId": "python"
        },
        "id": "1db057c1-8567-427e-8cd0-0a5569cafc52",
        "outputId": "a133e2e8-7fb0-485f-c833-8862e4583f32"
      },
      "outputs": [
        {
          "data": {
            "text/plain": [
              "[2, 3]"
            ]
          },
          "execution_count": 260,
          "metadata": {},
          "output_type": "execute_result"
        }
      ],
      "source": [
        "a"
      ]
    },
    {
      "cell_type": "markdown",
      "id": "0e44773f-8792-4a96-b18d-5736f4a891e1",
      "metadata": {
        "id": "0e44773f-8792-4a96-b18d-5736f4a891e1"
      },
      "source": [
        "**(reverse)**"
      ]
    },
    {
      "cell_type": "code",
      "execution_count": null,
      "id": "d2845a7d-0ed6-40ef-b377-abd20ec460b2",
      "metadata": {
        "vscode": {
          "languageId": "python"
        },
        "id": "d2845a7d-0ed6-40ef-b377-abd20ec460b2",
        "outputId": "a19a1c86-e080-4236-b54f-1f1cca008d8c"
      },
      "outputs": [
        {
          "data": {
            "text/plain": [
              "\u001b[0;31mSignature:\u001b[0m \u001b[0ma\u001b[0m\u001b[0;34m.\u001b[0m\u001b[0mreverse\u001b[0m\u001b[0;34m(\u001b[0m\u001b[0;34m)\u001b[0m\u001b[0;34m\u001b[0m\u001b[0;34m\u001b[0m\u001b[0m\n",
              "\u001b[0;31mDocstring:\u001b[0m Reverse *IN PLACE*.\n",
              "\u001b[0;31mType:\u001b[0m      builtin_function_or_method\n"
            ]
          },
          "metadata": {},
          "output_type": "display_data"
        }
      ],
      "source": [
        "a=[1,2,3,4]\n",
        "a.reverse?"
      ]
    },
    {
      "cell_type": "code",
      "execution_count": null,
      "id": "6c51b8d5-9dc8-435c-a263-a551daaff75e",
      "metadata": {
        "vscode": {
          "languageId": "python"
        },
        "id": "6c51b8d5-9dc8-435c-a263-a551daaff75e",
        "outputId": "082c535a-d14e-4476-a033-0c7422fe752f"
      },
      "outputs": [
        {
          "data": {
            "text/plain": [
              "[4, 3, 2, 1]"
            ]
          },
          "execution_count": 263,
          "metadata": {},
          "output_type": "execute_result"
        }
      ],
      "source": [
        "a.reverse()\n",
        "a"
      ]
    },
    {
      "cell_type": "markdown",
      "id": "2afb83d8-0c48-446f-8669-d26a95957216",
      "metadata": {
        "id": "2afb83d8-0c48-446f-8669-d26a95957216"
      },
      "source": [
        "**(sort)**"
      ]
    },
    {
      "cell_type": "code",
      "execution_count": null,
      "id": "c30c02bb-d39b-4da0-8ab7-17044a15acb8",
      "metadata": {
        "vscode": {
          "languageId": "python"
        },
        "id": "c30c02bb-d39b-4da0-8ab7-17044a15acb8",
        "outputId": "e87c361b-9656-47fb-9895-a631fab70c88"
      },
      "outputs": [
        {
          "data": {
            "text/plain": [
              "\u001b[0;31mSignature:\u001b[0m \u001b[0ma\u001b[0m\u001b[0;34m.\u001b[0m\u001b[0msort\u001b[0m\u001b[0;34m(\u001b[0m\u001b[0;34m*\u001b[0m\u001b[0;34m,\u001b[0m \u001b[0mkey\u001b[0m\u001b[0;34m=\u001b[0m\u001b[0;32mNone\u001b[0m\u001b[0;34m,\u001b[0m \u001b[0mreverse\u001b[0m\u001b[0;34m=\u001b[0m\u001b[0;32mFalse\u001b[0m\u001b[0;34m)\u001b[0m\u001b[0;34m\u001b[0m\u001b[0;34m\u001b[0m\u001b[0m\n",
              "\u001b[0;31mDocstring:\u001b[0m\n",
              "Sort the list in ascending order and return None.\n",
              "\n",
              "The sort is in-place (i.e. the list itself is modified) and stable (i.e. the\n",
              "order of two equal elements is maintained).\n",
              "\n",
              "If a key function is given, apply it once to each list item and sort them,\n",
              "ascending or descending, according to their function values.\n",
              "\n",
              "The reverse flag can be set to sort in descending order.\n",
              "\u001b[0;31mType:\u001b[0m      builtin_function_or_method\n"
            ]
          },
          "metadata": {},
          "output_type": "display_data"
        }
      ],
      "source": [
        "a=[1,3,2,4]\n",
        "a.sort?"
      ]
    },
    {
      "cell_type": "code",
      "execution_count": null,
      "id": "753e6d97-7235-4005-9289-4e15cfc428f6",
      "metadata": {
        "vscode": {
          "languageId": "python"
        },
        "id": "753e6d97-7235-4005-9289-4e15cfc428f6",
        "outputId": "7165f8d0-80a7-45d7-cebc-1cd46d8ad190"
      },
      "outputs": [
        {
          "data": {
            "text/plain": [
              "[1, 2, 3, 4]"
            ]
          },
          "execution_count": 266,
          "metadata": {},
          "output_type": "execute_result"
        }
      ],
      "source": [
        "a.sort()\n",
        "a"
      ]
    },
    {
      "cell_type": "markdown",
      "id": "5e95806e-816a-422e-90e8-9c75a3688356",
      "metadata": {
        "id": "5e95806e-816a-422e-90e8-9c75a3688356"
      },
      "source": [
        "(다른예제들)"
      ]
    },
    {
      "cell_type": "code",
      "execution_count": null,
      "id": "1924cbc9-1831-41b3-9f44-70fa19e5ac8f",
      "metadata": {
        "vscode": {
          "languageId": "python"
        },
        "id": "1924cbc9-1831-41b3-9f44-70fa19e5ac8f",
        "outputId": "5cb7ad18-0ed9-447e-acad-c66f10796d66"
      },
      "outputs": [
        {
          "data": {
            "text/plain": [
              "['g', 'u', 'e', 'b', 'i', 'n']"
            ]
          },
          "execution_count": 271,
          "metadata": {},
          "output_type": "execute_result"
        }
      ],
      "source": [
        "a=list('guebin')\n",
        "a"
      ]
    },
    {
      "cell_type": "code",
      "execution_count": null,
      "id": "a295fc81-5af0-4b14-8a39-1b59267fce95",
      "metadata": {
        "vscode": {
          "languageId": "python"
        },
        "id": "a295fc81-5af0-4b14-8a39-1b59267fce95",
        "outputId": "5320cd41-95ef-4037-c9c8-583413394f6c"
      },
      "outputs": [
        {
          "data": {
            "text/plain": [
              "['b', 'e', 'g', 'i', 'n', 'u']"
            ]
          },
          "execution_count": 272,
          "metadata": {},
          "output_type": "execute_result"
        }
      ],
      "source": [
        "a.sort()\n",
        "a"
      ]
    },
    {
      "cell_type": "code",
      "execution_count": null,
      "id": "391d1e90-8b24-4f3d-9730-2fef01fd48c2",
      "metadata": {
        "vscode": {
          "languageId": "python"
        },
        "id": "391d1e90-8b24-4f3d-9730-2fef01fd48c2",
        "outputId": "44b0d7a7-d05a-4b53-bea2-146531773528"
      },
      "outputs": [
        {
          "data": {
            "text/plain": [
              "['u', 'n', 'i', 'g', 'e', 'b']"
            ]
          },
          "execution_count": 274,
          "metadata": {},
          "output_type": "execute_result"
        }
      ],
      "source": [
        "a.sort(reverse=True)\n",
        "a"
      ]
    },
    {
      "cell_type": "markdown",
      "id": "bf0e6535-7353-49fe-8970-d77ff3b21e7b",
      "metadata": {
        "id": "bf0e6535-7353-49fe-8970-d77ff3b21e7b"
      },
      "source": [
        "## 중첩 리스트"
      ]
    },
    {
      "cell_type": "code",
      "execution_count": null,
      "id": "936ecd8b-e124-4e88-9225-18b860b1dfce",
      "metadata": {
        "vscode": {
          "languageId": "python"
        },
        "id": "936ecd8b-e124-4e88-9225-18b860b1dfce",
        "outputId": "f57a5ab1-b058-490f-8e8a-4d6b30f03937"
      },
      "outputs": [
        {
          "data": {
            "text/plain": [
              "[[1, 2, 3], [4, 5, 6], [7, 8, 9]]"
            ]
          },
          "execution_count": 79,
          "metadata": {},
          "output_type": "execute_result"
        }
      ],
      "source": [
        "A=[[1,2,3],[4,5,6],[7,8,9]]\n",
        "A"
      ]
    },
    {
      "cell_type": "code",
      "execution_count": null,
      "id": "28fbe186-b866-49c5-bae7-dff285fd184e",
      "metadata": {
        "vscode": {
          "languageId": "python"
        },
        "id": "28fbe186-b866-49c5-bae7-dff285fd184e",
        "outputId": "ce251a30-91ef-4ba3-e2a8-16ae5f266b09"
      },
      "outputs": [
        {
          "data": {
            "text/plain": [
              "8"
            ]
          },
          "execution_count": 87,
          "metadata": {},
          "output_type": "execute_result"
        }
      ],
      "source": [
        "A[0][1]"
      ]
    },
    {
      "cell_type": "markdown",
      "id": "517f9e35-9b2f-4f2c-a504-86180753a4a5",
      "metadata": {
        "id": "517f9e35-9b2f-4f2c-a504-86180753a4a5"
      },
      "source": [
        "`-` A는 아래와 같은 매트릭스로 이해할 수 있다"
      ]
    },
    {
      "cell_type": "markdown",
      "id": "0c648b4c-94c6-463e-8b2e-d495348b6ede",
      "metadata": {
        "id": "0c648b4c-94c6-463e-8b2e-d495348b6ede"
      },
      "source": [
        "$\n",
        "\\bf{A}=\\begin{bmatrix}\n",
        "1 & 2 & 3 \\\\\n",
        "4 & 5 & 6 \\\\\n",
        "7 & 8 & 9\n",
        "\\end{bmatrix}\n",
        "$"
      ]
    },
    {
      "cell_type": "markdown",
      "id": "1e3ab439-97c9-4679-a6a3-094d6f36afa5",
      "metadata": {
        "id": "1e3ab439-97c9-4679-a6a3-094d6f36afa5"
      },
      "source": [
        "`-` A에서 (2,1)의 원소를 뽑고싶다 = 4를 뽑고싶다"
      ]
    },
    {
      "cell_type": "code",
      "execution_count": null,
      "id": "f62f9541-d4ba-458b-ad53-41afbe2fd51f",
      "metadata": {
        "vscode": {
          "languageId": "python"
        },
        "id": "f62f9541-d4ba-458b-ad53-41afbe2fd51f",
        "outputId": "752f9a09-640a-4f09-95e5-6b2214f3fc85"
      },
      "outputs": [
        {
          "ename": "TypeError",
          "evalue": "list indices must be integers or slices, not tuple",
          "output_type": "error",
          "traceback": [
            "\u001b[0;31m---------------------------------------------------------------------------\u001b[0m",
            "\u001b[0;31mTypeError\u001b[0m                                 Traceback (most recent call last)",
            "\u001b[0;32m<ipython-input-93-47a191d8cd3a>\u001b[0m in \u001b[0;36m<module>\u001b[0;34m\u001b[0m\n\u001b[0;32m----> 1\u001b[0;31m \u001b[0mA\u001b[0m\u001b[0;34m[\u001b[0m\u001b[0;36m1\u001b[0m\u001b[0;34m,\u001b[0m\u001b[0;36m0\u001b[0m\u001b[0;34m]\u001b[0m\u001b[0;34m\u001b[0m\u001b[0;34m\u001b[0m\u001b[0m\n\u001b[0m",
            "\u001b[0;31mTypeError\u001b[0m: list indices must be integers or slices, not tuple"
          ]
        }
      ],
      "source": [
        "A[1,0]"
      ]
    },
    {
      "cell_type": "markdown",
      "id": "deb960f5-d634-48a7-b3b6-79a002b0967c",
      "metadata": {
        "id": "deb960f5-d634-48a7-b3b6-79a002b0967c"
      },
      "source": [
        "- 실패"
      ]
    },
    {
      "cell_type": "code",
      "execution_count": null,
      "id": "105a9512-bab8-41cc-b458-0e855c9cdfd6",
      "metadata": {
        "vscode": {
          "languageId": "python"
        },
        "id": "105a9512-bab8-41cc-b458-0e855c9cdfd6",
        "outputId": "f3893c09-c3f8-4c38-f08d-137033c04e03"
      },
      "outputs": [
        {
          "data": {
            "text/plain": [
              "4"
            ]
          },
          "execution_count": 278,
          "metadata": {},
          "output_type": "execute_result"
        }
      ],
      "source": [
        "A[1][0]"
      ]
    },
    {
      "cell_type": "markdown",
      "id": "586546f6-8a0a-4510-961f-d54b6cdb838c",
      "metadata": {
        "id": "586546f6-8a0a-4510-961f-d54b6cdb838c"
      },
      "source": [
        "- 성공"
      ]
    },
    {
      "cell_type": "markdown",
      "id": "46e3ca99-7c27-4617-817c-abf761b5e43a",
      "metadata": {
        "id": "46e3ca99-7c27-4617-817c-abf761b5e43a"
      },
      "source": [
        "`-` 성공의 이유를 분석해보자."
      ]
    },
    {
      "cell_type": "code",
      "execution_count": null,
      "id": "bc638816-5389-4573-9663-c781d320500f",
      "metadata": {
        "vscode": {
          "languageId": "python"
        },
        "id": "bc638816-5389-4573-9663-c781d320500f",
        "outputId": "4df257d7-5cec-4ca6-86a6-219578b918e7"
      },
      "outputs": [
        {
          "data": {
            "text/plain": [
              "[[1, 2, 3], [4, 5, 6], [7, 8, 9]]"
            ]
          },
          "execution_count": 285,
          "metadata": {},
          "output_type": "execute_result"
        }
      ],
      "source": [
        "A"
      ]
    },
    {
      "cell_type": "code",
      "execution_count": null,
      "id": "099eb138-870a-45d3-8c3d-0511ceaa6242",
      "metadata": {
        "vscode": {
          "languageId": "python"
        },
        "id": "099eb138-870a-45d3-8c3d-0511ceaa6242",
        "outputId": "05ea6e93-7a35-48bc-8a49-de70cd4011a6"
      },
      "outputs": [
        {
          "data": {
            "text/plain": [
              "[4, 5, 6]"
            ]
          },
          "execution_count": 286,
          "metadata": {},
          "output_type": "execute_result"
        }
      ],
      "source": [
        "A[1]"
      ]
    },
    {
      "cell_type": "code",
      "execution_count": null,
      "id": "48c5563e-9ff8-4cb2-b2e9-839b4fcd7fdb",
      "metadata": {
        "vscode": {
          "languageId": "python"
        },
        "id": "48c5563e-9ff8-4cb2-b2e9-839b4fcd7fdb",
        "outputId": "468b1214-ed17-4af4-a687-3a25a67cd293"
      },
      "outputs": [
        {
          "data": {
            "text/plain": [
              "4"
            ]
          },
          "execution_count": 287,
          "metadata": {},
          "output_type": "execute_result"
        }
      ],
      "source": [
        "A[1][0]"
      ]
    },
    {
      "cell_type": "markdown",
      "id": "3df34ab1-e975-41a2-ac39-9047921dd484",
      "metadata": {
        "id": "3df34ab1-e975-41a2-ac39-9047921dd484"
      },
      "source": [
        "`-` 매트릭스는 아니지만 매트릭스 같음!\n",
        "- 1차원 배열을 다차원 배열로 확장할 수 있는 기본 아이디어를 제공함"
      ]
    },
    {
      "cell_type": "markdown",
      "id": "44d92aaa-8779-4bc1-8fe1-7a7b8c50f3cc",
      "metadata": {
        "id": "44d92aaa-8779-4bc1-8fe1-7a7b8c50f3cc"
      },
      "source": [
        "## 리스트 컴프리헨션($\\star\\star\\star$)"
      ]
    },
    {
      "cell_type": "markdown",
      "id": "8c984379-7d0c-41d2-9456-9140a73ffe5b",
      "metadata": {
        "id": "8c984379-7d0c-41d2-9456-9140a73ffe5b"
      },
      "source": [
        "`-` 리스트 컴프리헨션을 이해하기 전에 for문에 대하여 알아보자."
      ]
    },
    {
      "cell_type": "markdown",
      "id": "2966be2c-ffb6-46b5-bb3e-866d7d0fb97d",
      "metadata": {
        "id": "2966be2c-ffb6-46b5-bb3e-866d7d0fb97d"
      },
      "source": [
        "[예비학습] `for`문 벼락치기"
      ]
    },
    {
      "cell_type": "markdown",
      "id": "3ae70834-61a6-40c5-aeda-851aa3a38580",
      "metadata": {
        "id": "3ae70834-61a6-40c5-aeda-851aa3a38580"
      },
      "source": [
        "프로그램안에서 반복해서 무엇인가를 하고싶다 $\\to$ for"
      ]
    },
    {
      "cell_type": "code",
      "execution_count": null,
      "id": "440401fc-afd3-4906-8d61-7ccce56e0540",
      "metadata": {
        "vscode": {
          "languageId": "python"
        },
        "id": "440401fc-afd3-4906-8d61-7ccce56e0540",
        "outputId": "9fc3f648-b1a7-45a9-98b2-81f3c5390bc2"
      },
      "outputs": [
        {
          "name": "stdout",
          "output_type": "stream",
          "text": [
            "0\n",
            "1\n",
            "2\n",
            "3\n"
          ]
        }
      ],
      "source": [
        "for i in [0,1,2,3]: ## 반복실행계획\n",
        "    print(i) ## 반복실행할내용, 탭을이용하여 들여쓰기해야한다."
      ]
    },
    {
      "cell_type": "markdown",
      "id": "23de774b-cc51-453b-a20a-41a9d1c18724",
      "metadata": {
        "id": "23de774b-cc51-453b-a20a-41a9d1c18724"
      },
      "source": [
        "(예제) 1,2,3,4의 합을 for문을 이용하여 구해보자."
      ]
    },
    {
      "cell_type": "code",
      "execution_count": null,
      "id": "c79afa09-03ee-4e8a-8e17-f6bdf10dde07",
      "metadata": {
        "vscode": {
          "languageId": "python"
        },
        "id": "c79afa09-03ee-4e8a-8e17-f6bdf10dde07"
      },
      "outputs": [],
      "source": [
        "_sum = 0\n",
        "for i in [1,2,3,4]:\n",
        "    _sum = _sum + i"
      ]
    },
    {
      "cell_type": "code",
      "execution_count": null,
      "id": "358a52f8-f5e5-48f4-bcbe-3a02a38fa4dd",
      "metadata": {
        "vscode": {
          "languageId": "python"
        },
        "id": "358a52f8-f5e5-48f4-bcbe-3a02a38fa4dd"
      },
      "outputs": [],
      "source": [
        "_sum = 0\n",
        "i=1\n",
        "_sum = _sum + i ## 1 <= 0+1\n",
        "i=2\n",
        "_sum = _sum + i ## 3 <= 1+2\n",
        "i=3\n",
        "_sum = _sum + i ## 6 <= 3+3\n",
        "i=4\n",
        "_sum = _sum + i ## 10 <= 6+4"
      ]
    },
    {
      "cell_type": "code",
      "execution_count": null,
      "id": "5c552ef2-9144-4482-b3f6-09ade20ae1cc",
      "metadata": {
        "vscode": {
          "languageId": "python"
        },
        "id": "5c552ef2-9144-4482-b3f6-09ade20ae1cc",
        "outputId": "e201d70b-b327-4cfa-a867-a6eeae9fd11e"
      },
      "outputs": [
        {
          "data": {
            "text/plain": [
              "10"
            ]
          },
          "execution_count": 365,
          "metadata": {},
          "output_type": "execute_result"
        }
      ],
      "source": [
        "_sum"
      ]
    },
    {
      "cell_type": "markdown",
      "id": "94c794e4-0d5a-49f6-a80e-c1d20a4ae356",
      "metadata": {
        "id": "94c794e4-0d5a-49f6-a80e-c1d20a4ae356"
      },
      "source": [
        "예비학습끝"
      ]
    },
    {
      "cell_type": "markdown",
      "id": "66d7b05e-965d-420b-ac7b-a60cff26fc8d",
      "metadata": {
        "id": "66d7b05e-965d-420b-ac7b-a60cff26fc8d"
      },
      "source": [
        "`-` 예제: $2^0, 2^1, 2^2, 2^3$를 원소로 가지는 리스트를 생성하라."
      ]
    },
    {
      "cell_type": "markdown",
      "id": "da6586ba-8a72-42aa-a5af-c9edbd096441",
      "metadata": {
        "id": "da6586ba-8a72-42aa-a5af-c9edbd096441"
      },
      "source": [
        "(풀이1) 직접입력"
      ]
    },
    {
      "cell_type": "code",
      "execution_count": null,
      "id": "12aa1a7b-a1cc-486c-9b2b-f6f6c20df411",
      "metadata": {
        "vscode": {
          "languageId": "python"
        },
        "id": "12aa1a7b-a1cc-486c-9b2b-f6f6c20df411",
        "outputId": "c0922e1a-2877-427f-c38e-ed6efcd4572b"
      },
      "outputs": [
        {
          "data": {
            "text/plain": [
              "[1, 2, 4, 8]"
            ]
          },
          "execution_count": 119,
          "metadata": {},
          "output_type": "execute_result"
        }
      ],
      "source": [
        "x= [2**0, 2**1, 2**2, 2**3]\n",
        "x"
      ]
    },
    {
      "cell_type": "markdown",
      "id": "09956323-e920-477e-af17-397b8065c176",
      "metadata": {
        "id": "09956323-e920-477e-af17-397b8065c176"
      },
      "source": [
        "(풀이2) for문을 이용함"
      ]
    },
    {
      "cell_type": "code",
      "execution_count": null,
      "id": "d611cdc0-3698-4dc2-a833-5b7e49d04f3a",
      "metadata": {
        "vscode": {
          "languageId": "python"
        },
        "id": "d611cdc0-3698-4dc2-a833-5b7e49d04f3a"
      },
      "outputs": [],
      "source": [
        "x=[]\n",
        "for i in [0,1,2,3]:\n",
        "    x.append(2**i)"
      ]
    },
    {
      "cell_type": "code",
      "execution_count": null,
      "id": "bf944224-bfa7-4577-98d5-c2b51e5a8294",
      "metadata": {
        "vscode": {
          "languageId": "python"
        },
        "id": "bf944224-bfa7-4577-98d5-c2b51e5a8294",
        "outputId": "5d3aa3f5-53d0-4447-a7ba-c446efb09c20"
      },
      "outputs": [
        {
          "data": {
            "text/plain": [
              "[1, 2, 4, 8]"
            ]
          },
          "execution_count": 130,
          "metadata": {},
          "output_type": "execute_result"
        }
      ],
      "source": [
        "x"
      ]
    },
    {
      "cell_type": "markdown",
      "id": "252ba2c5-4106-4cd0-a21a-e37584588c5d",
      "metadata": {
        "id": "252ba2c5-4106-4cd0-a21a-e37584588c5d"
      },
      "source": [
        "(풀이3) for문을 이용함"
      ]
    },
    {
      "cell_type": "code",
      "execution_count": null,
      "id": "ae2f99cf-4508-4199-b992-58f711d82094",
      "metadata": {
        "vscode": {
          "languageId": "python"
        },
        "id": "ae2f99cf-4508-4199-b992-58f711d82094"
      },
      "outputs": [],
      "source": [
        "x=[]\n",
        "for i in [0,1,2,3]:\n",
        "    x = x+[2**i]"
      ]
    },
    {
      "cell_type": "code",
      "execution_count": null,
      "id": "b83b880b-da25-4a02-8056-113511b1214d",
      "metadata": {
        "vscode": {
          "languageId": "python"
        },
        "id": "b83b880b-da25-4a02-8056-113511b1214d",
        "outputId": "76b39285-1e5b-49c3-dc0a-3d6cfeb57440"
      },
      "outputs": [
        {
          "data": {
            "text/plain": [
              "[1, 2, 4, 8]"
            ]
          },
          "execution_count": 132,
          "metadata": {},
          "output_type": "execute_result"
        }
      ],
      "source": [
        "x"
      ]
    },
    {
      "cell_type": "markdown",
      "id": "8ea4ae81-c168-46d5-b440-efe414c105be",
      "metadata": {
        "id": "8ea4ae81-c168-46d5-b440-efe414c105be"
      },
      "source": [
        "(풀이4) for문을 이용함"
      ]
    },
    {
      "cell_type": "code",
      "execution_count": null,
      "id": "38d1b044-ab76-49f9-8616-5b247b46945c",
      "metadata": {
        "vscode": {
          "languageId": "python"
        },
        "id": "38d1b044-ab76-49f9-8616-5b247b46945c"
      },
      "outputs": [],
      "source": [
        "x=[]\n",
        "for i in [0,1,2,3]:\n",
        "    x += [2**i]"
      ]
    },
    {
      "cell_type": "code",
      "execution_count": null,
      "id": "9f25a95e-5c05-40f8-bdd8-39cddc3bead7",
      "metadata": {
        "vscode": {
          "languageId": "python"
        },
        "id": "9f25a95e-5c05-40f8-bdd8-39cddc3bead7",
        "outputId": "d9415df6-8f5a-47de-9b6d-02db85430232"
      },
      "outputs": [
        {
          "data": {
            "text/plain": [
              "[1, 2, 4, 8]"
            ]
          },
          "execution_count": 134,
          "metadata": {},
          "output_type": "execute_result"
        }
      ],
      "source": [
        "x"
      ]
    },
    {
      "cell_type": "markdown",
      "id": "c91dc6bd-ab44-400d-89e6-92172e4cba7a",
      "metadata": {
        "id": "c91dc6bd-ab44-400d-89e6-92172e4cba7a"
      },
      "source": [
        "(풀이5) 리스트컴프리헨션을 이용한 풀이"
      ]
    },
    {
      "cell_type": "code",
      "execution_count": null,
      "id": "42f802ab-3e0d-4b6b-a67b-010b83ed293d",
      "metadata": {
        "vscode": {
          "languageId": "python"
        },
        "id": "42f802ab-3e0d-4b6b-a67b-010b83ed293d",
        "outputId": "c7e96caf-4c44-40cf-f302-bc9d4c4079e0"
      },
      "outputs": [
        {
          "data": {
            "text/plain": [
              "[1, 2, 4, 8]"
            ]
          },
          "execution_count": 139,
          "metadata": {},
          "output_type": "execute_result"
        }
      ],
      "source": [
        "x= [2**i for i in [0,1,2,3]]\n",
        "x"
      ]
    },
    {
      "cell_type": "markdown",
      "id": "cd57da08-f9e1-4273-b321-064d084f0bd8",
      "metadata": {
        "id": "cd57da08-f9e1-4273-b321-064d084f0bd8"
      },
      "source": [
        "`-` 리스트컴프리헨션의 문법 암기방법\n",
        "\n",
        "- 집합에서 조건제시법을 연상\n",
        "- $\\{2^0,2^1,2^2,2^3\\}=\\{2^i: \\text{ for } i = 0,1,2,3 \\}$"
      ]
    },
    {
      "cell_type": "markdown",
      "id": "89f71dee-807f-433c-9f6b-83cd873b2694",
      "metadata": {
        "id": "89f71dee-807f-433c-9f6b-83cd873b2694"
      },
      "source": [
        "`-` 리스트컴프리헨션이란?\n",
        "\n",
        "- 리스트를 매우 효율적으로 만드는 테크닉\n",
        "- for문에 비하여 가지고 있는 장점: (1) 코드가 간결하다 (2) 빠르다"
      ]
    },
    {
      "cell_type": "markdown",
      "id": "23d33a16-25b4-4fc0-8029-3a15233719e4",
      "metadata": {
        "id": "23d33a16-25b4-4fc0-8029-3a15233719e4"
      },
      "source": [
        "`-` 예제: 리스트 컴프리헨션을 이용하여 아래와 같은 리스트를 만들어라."
      ]
    },
    {
      "cell_type": "code",
      "execution_count": null,
      "id": "682dbdbc-84de-4e2c-9427-d9a84de2e9d1",
      "metadata": {
        "vscode": {
          "languageId": "python"
        },
        "id": "682dbdbc-84de-4e2c-9427-d9a84de2e9d1",
        "outputId": "8888990b-87ac-459f-a17f-c6d2edca70a1"
      },
      "outputs": [
        {
          "data": {
            "text/plain": [
              "['SSSS', 'PPPP', 'AAAA', 'MMMM']"
            ]
          },
          "execution_count": 396,
          "metadata": {},
          "output_type": "execute_result"
        }
      ],
      "source": [
        "['SSSS','PPPP','AAAA','MMMM']"
      ]
    },
    {
      "cell_type": "markdown",
      "id": "62a3762a-46d3-4ad9-83f9-2d38e25d7412",
      "metadata": {
        "id": "62a3762a-46d3-4ad9-83f9-2d38e25d7412"
      },
      "source": [
        "(풀이)"
      ]
    },
    {
      "cell_type": "code",
      "execution_count": null,
      "id": "45b3faee-0d0b-46d5-a237-130da1907230",
      "metadata": {
        "vscode": {
          "languageId": "python"
        },
        "id": "45b3faee-0d0b-46d5-a237-130da1907230",
        "outputId": "5518f6c9-debc-419b-a60c-fb75fedbc8d7"
      },
      "outputs": [
        {
          "data": {
            "text/plain": [
              "['SSSS', 'PPPP', 'AAAA', 'MMMM']"
            ]
          },
          "execution_count": 397,
          "metadata": {},
          "output_type": "execute_result"
        }
      ],
      "source": [
        "[i*4 for i in 'SPAM']"
      ]
    },
    {
      "cell_type": "markdown",
      "id": "0b0d2868-b6fa-4253-ab2a-84a59e3750be",
      "metadata": {
        "id": "0b0d2868-b6fa-4253-ab2a-84a59e3750be"
      },
      "source": [
        "`-` 예제: 리스트컴프리헨션을 이용하여 아래와 같은 리스트를 만들어라."
      ]
    },
    {
      "cell_type": "code",
      "execution_count": null,
      "id": "e666cacd-b6fe-4f4d-a062-82b17bff36ef",
      "metadata": {
        "vscode": {
          "languageId": "python"
        },
        "id": "e666cacd-b6fe-4f4d-a062-82b17bff36ef",
        "outputId": "8f18137a-95cf-4d86-ca8b-fdc06a8aff7a"
      },
      "outputs": [
        {
          "data": {
            "text/plain": [
              "['X1', 'X2', 'X3', 'Y1', 'Y2', 'Y3']"
            ]
          },
          "execution_count": 401,
          "metadata": {},
          "output_type": "execute_result"
        }
      ],
      "source": [
        "['X1','X2','X3','Y1','Y2','Y3']"
      ]
    },
    {
      "cell_type": "markdown",
      "id": "b27bd235-d54b-407b-a9a6-0e872e6e0474",
      "metadata": {
        "id": "b27bd235-d54b-407b-a9a6-0e872e6e0474"
      },
      "source": [
        "(풀이)"
      ]
    },
    {
      "cell_type": "code",
      "execution_count": null,
      "id": "39f6611e-0c60-4325-b547-223ada911fa0",
      "metadata": {
        "vscode": {
          "languageId": "python"
        },
        "id": "39f6611e-0c60-4325-b547-223ada911fa0",
        "outputId": "6c88644d-9d9e-4a3d-a2e9-52d95394665f"
      },
      "outputs": [
        {
          "data": {
            "text/plain": [
              "['X1', 'X2', 'X3', 'Y1', 'Y2', 'Y3']"
            ]
          },
          "execution_count": 405,
          "metadata": {},
          "output_type": "execute_result"
        }
      ],
      "source": [
        "[i+j for i in 'XY' for j in '123']"
      ]
    },
    {
      "cell_type": "markdown",
      "id": "8cf364bd-9178-47d9-a6f0-898c1ec609d2",
      "metadata": {
        "id": "8cf364bd-9178-47d9-a6f0-898c1ec609d2"
      },
      "source": [
        "`-` 예제: 리스트컴프리헨션을 이용하여 통계1,...,통계5,수학1,...,수학5를 만들어라."
      ]
    },
    {
      "cell_type": "markdown",
      "id": "d002edb6-04bf-48c8-9bc6-990fda504bbc",
      "metadata": {
        "id": "d002edb6-04bf-48c8-9bc6-990fda504bbc"
      },
      "source": [
        "(풀이)"
      ]
    },
    {
      "cell_type": "code",
      "execution_count": null,
      "id": "9edab9ac-872d-44b7-a179-b1ff651a889e",
      "metadata": {
        "vscode": {
          "languageId": "python"
        },
        "id": "9edab9ac-872d-44b7-a179-b1ff651a889e",
        "outputId": "05d1b384-6b93-4f76-c9b8-1004fcf3d02c"
      },
      "outputs": [
        {
          "data": {
            "text/plain": [
              "['stat1',\n",
              " 'stat2',\n",
              " 'stat3',\n",
              " 'stat4',\n",
              " 'stat5',\n",
              " 'math1',\n",
              " 'math2',\n",
              " 'math3',\n",
              " 'math4',\n",
              " 'math5']"
            ]
          },
          "execution_count": 407,
          "metadata": {},
          "output_type": "execute_result"
        }
      ],
      "source": [
        "[x+y for x in ['stat','math'] for y in '12345']"
      ]
    },
    {
      "cell_type": "markdown",
      "id": "350f9a91-cc18-4d1d-9d9d-d13cba3060b7",
      "metadata": {
        "id": "350f9a91-cc18-4d1d-9d9d-d13cba3060b7"
      },
      "source": [
        "- $\\{xy : x \\in \\{{\\tt stat},{\\tt math}\\}, y \\in \\{1,2,3,4,5\\} \\}$"
      ]
    },
    {
      "cell_type": "markdown",
      "id": "3c55d81b-d0cd-4751-aca4-e78af8aa1eec",
      "metadata": {
        "id": "3c55d81b-d0cd-4751-aca4-e78af8aa1eec"
      },
      "source": [
        "(다른풀이) 참고로 for문을 쓰면 좀 복잡해진다."
      ]
    },
    {
      "cell_type": "code",
      "execution_count": null,
      "id": "9ce3fb96-444b-4da4-b1ec-b753350046da",
      "metadata": {
        "vscode": {
          "languageId": "python"
        },
        "id": "9ce3fb96-444b-4da4-b1ec-b753350046da"
      },
      "outputs": [],
      "source": [
        "_lst = []\n",
        "for x in ['stat','math']:\n",
        "    for y in '12345':\n",
        "        _lst = _lst + [x+y]"
      ]
    },
    {
      "cell_type": "code",
      "execution_count": null,
      "id": "767473d9-c321-439e-84e9-c00f6dc0cda3",
      "metadata": {
        "vscode": {
          "languageId": "python"
        },
        "id": "767473d9-c321-439e-84e9-c00f6dc0cda3",
        "outputId": "781697f7-083e-4dfd-9f4b-afabe066722b"
      },
      "outputs": [
        {
          "data": {
            "text/plain": [
              "['stat1',\n",
              " 'stat2',\n",
              " 'stat3',\n",
              " 'stat4',\n",
              " 'stat5',\n",
              " 'math1',\n",
              " 'math2',\n",
              " 'math3',\n",
              " 'math4',\n",
              " 'math5']"
            ]
          },
          "execution_count": 410,
          "metadata": {},
          "output_type": "execute_result"
        }
      ],
      "source": [
        "_lst"
      ]
    },
    {
      "cell_type": "markdown",
      "id": "fbbe4921-9961-46a9-bc6c-3f5ac818f161",
      "metadata": {
        "id": "fbbe4921-9961-46a9-bc6c-3f5ac818f161"
      },
      "source": [
        "`-` 예제: 'jbnu'를 이용하여 아래와 같은 리스트를 만들어라. (리스트컴프리헨션을 이용할것)"
      ]
    },
    {
      "cell_type": "code",
      "execution_count": null,
      "id": "57312414-7aed-4212-a989-94e824ed5e89",
      "metadata": {
        "vscode": {
          "languageId": "python"
        },
        "id": "57312414-7aed-4212-a989-94e824ed5e89",
        "outputId": "1a98b353-caf2-46c5-e26d-be3b7168d1bb"
      },
      "outputs": [
        {
          "data": {
            "text/plain": [
              "['j', 'b', 'n', 'u']"
            ]
          },
          "execution_count": 152,
          "metadata": {},
          "output_type": "execute_result"
        }
      ],
      "source": [
        "['j','b','n','u']"
      ]
    },
    {
      "cell_type": "markdown",
      "id": "e912de54-5319-44f1-a7a7-c004889f82f4",
      "metadata": {
        "id": "e912de54-5319-44f1-a7a7-c004889f82f4"
      },
      "source": [
        "(다른풀이) 아래와 같이 풀면 된다는것은 알고 있음  "
      ]
    },
    {
      "cell_type": "code",
      "execution_count": null,
      "id": "fa284b60-d845-4150-a8e7-4ffff6770b8c",
      "metadata": {
        "vscode": {
          "languageId": "python"
        },
        "id": "fa284b60-d845-4150-a8e7-4ffff6770b8c",
        "outputId": "9eb147b4-7148-4e73-c9da-93d872901f21"
      },
      "outputs": [
        {
          "data": {
            "text/plain": [
              "['j', 'b', 'n', 'u']"
            ]
          },
          "execution_count": 415,
          "metadata": {},
          "output_type": "execute_result"
        }
      ],
      "source": [
        "list('jbnu')"
      ]
    },
    {
      "cell_type": "markdown",
      "id": "dc1c6d10-5856-4c25-b104-a5ce25d01458",
      "metadata": {
        "id": "dc1c6d10-5856-4c25-b104-a5ce25d01458"
      },
      "source": [
        "(풀이)"
      ]
    },
    {
      "cell_type": "code",
      "execution_count": null,
      "id": "558105d6-00a7-4704-89bc-6764b0749fc7",
      "metadata": {
        "vscode": {
          "languageId": "python"
        },
        "id": "558105d6-00a7-4704-89bc-6764b0749fc7",
        "outputId": "d0be000f-efcc-4b79-e0f6-5185b0400422"
      },
      "outputs": [
        {
          "data": {
            "text/plain": [
              "['j', 'b', 'n', 'u']"
            ]
          },
          "execution_count": 418,
          "metadata": {},
          "output_type": "execute_result"
        }
      ],
      "source": [
        "[x for x in 'jbnu']"
      ]
    },
    {
      "cell_type": "markdown",
      "id": "e4395cc2-e08e-491f-927b-0965054eed4f",
      "metadata": {
        "id": "e4395cc2-e08e-491f-927b-0965054eed4f"
      },
      "source": [
        "`-` 예제: x에는 무엇이 있을까?"
      ]
    },
    {
      "cell_type": "markdown",
      "id": "d71a7ed7-ad6f-42a0-9211-b817887f25d7",
      "metadata": {
        "id": "d71a7ed7-ad6f-42a0-9211-b817887f25d7"
      },
      "source": [
        "(경우1)"
      ]
    },
    {
      "cell_type": "code",
      "execution_count": null,
      "id": "802dc660-68b4-4153-97f4-a5043b6bc1b6",
      "metadata": {
        "vscode": {
          "languageId": "python"
        },
        "id": "802dc660-68b4-4153-97f4-a5043b6bc1b6",
        "outputId": "c91fbb0b-deb0-4c30-ef3c-effbd71240d5"
      },
      "outputs": [
        {
          "data": {
            "text/plain": [
              "['j', 'b', 'n', 'u']"
            ]
          },
          "execution_count": 423,
          "metadata": {},
          "output_type": "execute_result"
        }
      ],
      "source": [
        "x=1\n",
        "lst = []\n",
        "for x in 'jbnu':\n",
        "    lst = lst + [x]\n",
        "lst"
      ]
    },
    {
      "cell_type": "code",
      "execution_count": null,
      "id": "538428eb-b5a6-45b3-b8ee-f8c31bb454fa",
      "metadata": {
        "vscode": {
          "languageId": "python"
        },
        "id": "538428eb-b5a6-45b3-b8ee-f8c31bb454fa",
        "outputId": "05d029ec-9440-4e90-e203-c80f51b28d04"
      },
      "outputs": [
        {
          "data": {
            "text/plain": [
              "'u'"
            ]
          },
          "execution_count": 424,
          "metadata": {},
          "output_type": "execute_result"
        }
      ],
      "source": [
        "x"
      ]
    },
    {
      "cell_type": "markdown",
      "id": "d7855537-ca25-4977-a859-236b42e097d7",
      "metadata": {
        "id": "d7855537-ca25-4977-a859-236b42e097d7"
      },
      "source": [
        "(경우2)"
      ]
    },
    {
      "cell_type": "code",
      "execution_count": null,
      "id": "ce6ad313-564f-483f-a88d-3897a0ba9cad",
      "metadata": {
        "vscode": {
          "languageId": "python"
        },
        "id": "ce6ad313-564f-483f-a88d-3897a0ba9cad",
        "outputId": "4a06c590-a66b-4280-bf1b-e48af55eaab7"
      },
      "outputs": [
        {
          "data": {
            "text/plain": [
              "['j', 'b', 'n', 'u']"
            ]
          },
          "execution_count": 425,
          "metadata": {},
          "output_type": "execute_result"
        }
      ],
      "source": [
        "x=1\n",
        "lst = [x for x in 'jbnu']\n",
        "lst"
      ]
    },
    {
      "cell_type": "code",
      "execution_count": null,
      "id": "cf7e503a-9361-4ac5-943b-b981d728b765",
      "metadata": {
        "vscode": {
          "languageId": "python"
        },
        "id": "cf7e503a-9361-4ac5-943b-b981d728b765",
        "outputId": "9e7c7aa8-6fea-4d38-b148-89adc2978322"
      },
      "outputs": [
        {
          "data": {
            "text/plain": [
              "1"
            ]
          },
          "execution_count": 426,
          "metadata": {},
          "output_type": "execute_result"
        }
      ],
      "source": [
        "x"
      ]
    },
    {
      "cell_type": "markdown",
      "id": "fced42e1-f1fa-4c26-a9f5-9b43a49bd3e2",
      "metadata": {
        "id": "fced42e1-f1fa-4c26-a9f5-9b43a49bd3e2"
      },
      "source": [
        "- 진짜 미묘하게 다르죠?"
      ]
    },
    {
      "cell_type": "markdown",
      "id": "2db4127f-7afe-44a3-8696-cf59978f83aa",
      "metadata": {
        "id": "2db4127f-7afe-44a3-8696-cf59978f83aa"
      },
      "source": [
        "`-` 예제: [X1,X2,X3,...,X100]와 같은 리스트를 만들어보라."
      ]
    },
    {
      "cell_type": "markdown",
      "id": "c03085f7-b14c-43c6-aa21-ce0b34ba9674",
      "metadata": {
        "id": "c03085f7-b14c-43c6-aa21-ce0b34ba9674"
      },
      "source": [
        "(풀이)"
      ]
    },
    {
      "cell_type": "code",
      "execution_count": null,
      "id": "1d74be6e-96e6-45ad-8627-7dfd6a5a5066",
      "metadata": {
        "vscode": {
          "languageId": "python"
        },
        "id": "1d74be6e-96e6-45ad-8627-7dfd6a5a5066",
        "outputId": "90e0f4bf-07ed-44bc-f18e-29c2f53ed620"
      },
      "outputs": [
        {
          "data": {
            "text/plain": [
              "['X1', 'X2', 'X3', 'X4']"
            ]
          },
          "execution_count": 431,
          "metadata": {},
          "output_type": "execute_result"
        }
      ],
      "source": [
        "['X'+str(i) for i in [1,2,3,4]] ## 이걸 4까지가 아니라 100까지 써야함"
      ]
    },
    {
      "cell_type": "code",
      "execution_count": null,
      "id": "72e01988-8635-446c-9346-eb0ab4643813",
      "metadata": {
        "vscode": {
          "languageId": "python"
        },
        "id": "72e01988-8635-446c-9346-eb0ab4643813",
        "outputId": "f20163a3-26bb-4265-ce2f-0cd7856e148f"
      },
      "outputs": [
        {
          "ename": "SyntaxError",
          "evalue": "invalid syntax (<ipython-input-432-4555f37f5468>, line 1)",
          "output_type": "error",
          "traceback": [
            "\u001b[0;36m  Input \u001b[0;32mIn [432]\u001b[0;36m\u001b[0m\n\u001b[0;31m    ['X'+str(i) for i in 1:100]\u001b[0m\n\u001b[0m                          ^\u001b[0m\n\u001b[0;31mSyntaxError\u001b[0m\u001b[0;31m:\u001b[0m invalid syntax\n"
          ]
        }
      ],
      "source": [
        "['X'+str(i) for i in 1:100]"
      ]
    },
    {
      "cell_type": "markdown",
      "id": "8778980f-25b2-49bd-b0e7-063756b0fa51",
      "metadata": {
        "id": "8778980f-25b2-49bd-b0e7-063756b0fa51"
      },
      "source": [
        "[예비학습]"
      ]
    },
    {
      "cell_type": "code",
      "execution_count": null,
      "id": "5760c2c3-3322-4afc-819d-8bcaaacafea7",
      "metadata": {
        "vscode": {
          "languageId": "python"
        },
        "id": "5760c2c3-3322-4afc-819d-8bcaaacafea7",
        "outputId": "28ad3d65-07a0-43c3-c4e8-d551da22cbb4"
      },
      "outputs": [
        {
          "data": {
            "text/plain": [
              "range(0, 10)"
            ]
          },
          "execution_count": 434,
          "metadata": {},
          "output_type": "execute_result"
        }
      ],
      "source": [
        "range(0,10)"
      ]
    },
    {
      "cell_type": "markdown",
      "id": "982fec9c-36cd-4083-a711-7f495e42ac57",
      "metadata": {
        "id": "982fec9c-36cd-4083-a711-7f495e42ac57"
      },
      "source": [
        "- 이게뭐야?"
      ]
    },
    {
      "cell_type": "code",
      "execution_count": null,
      "id": "ed9711e3-1898-4ffc-955c-047cff342e6e",
      "metadata": {
        "vscode": {
          "languageId": "python"
        },
        "id": "ed9711e3-1898-4ffc-955c-047cff342e6e",
        "outputId": "c44a887b-e105-4a23-f82f-b5d9731d43e5"
      },
      "outputs": [
        {
          "data": {
            "text/plain": [
              "\u001b[0;31mType:\u001b[0m        range\n",
              "\u001b[0;31mString form:\u001b[0m range(0, 10)\n",
              "\u001b[0;31mLength:\u001b[0m      10\n",
              "\u001b[0;31mDocstring:\u001b[0m  \n",
              "range(stop) -> range object\n",
              "range(start, stop[, step]) -> range object\n",
              "\n",
              "Return an object that produces a sequence of integers from start (inclusive)\n",
              "to stop (exclusive) by step.  range(i, j) produces i, i+1, i+2, ..., j-1.\n",
              "start defaults to 0, and stop is omitted!  range(4) produces 0, 1, 2, 3.\n",
              "These are exactly the valid indices for a list of 4 elements.\n",
              "When step is given, it specifies the increment (or decrement).\n"
            ]
          },
          "metadata": {},
          "output_type": "display_data"
        }
      ],
      "source": [
        "_tmp = range(0,10)\n",
        "_tmp?"
      ]
    },
    {
      "cell_type": "markdown",
      "id": "b0d7df3d-e6c9-49f9-b35f-8a2dc6365100",
      "metadata": {
        "id": "b0d7df3d-e6c9-49f9-b35f-8a2dc6365100"
      },
      "source": [
        "- 우리가 아는 범위에서는 모르겠음.. 이런게 있나보다 하고 넘어가야 하겠음"
      ]
    },
    {
      "cell_type": "code",
      "execution_count": null,
      "id": "721081d5-689f-4265-8d59-073990250541",
      "metadata": {
        "vscode": {
          "languageId": "python"
        },
        "id": "721081d5-689f-4265-8d59-073990250541",
        "outputId": "c72a36bd-facc-4484-fff7-1e41937185bd"
      },
      "outputs": [
        {
          "data": {
            "text/plain": [
              "[0, 1, 2, 3, 4, 5, 6, 7, 8, 9]"
            ]
          },
          "execution_count": 448,
          "metadata": {},
          "output_type": "execute_result"
        }
      ],
      "source": [
        "list(range(0,10)) # 0을 포함, 10을 미포함"
      ]
    },
    {
      "cell_type": "markdown",
      "id": "fdfc1032-6fe7-40cc-ba13-03cbe752b6e8",
      "metadata": {
        "id": "fdfc1032-6fe7-40cc-ba13-03cbe752b6e8"
      },
      "source": [
        "- 이게 중요한것임. range(0,10)를 리스트화시키면 [0,1,2,...,9] 와 같은 리스트를 얻을 수 있음.  "
      ]
    },
    {
      "cell_type": "code",
      "execution_count": null,
      "id": "942e79c0-c819-4be5-8ad8-b14c65e28c28",
      "metadata": {
        "vscode": {
          "languageId": "python"
        },
        "id": "942e79c0-c819-4be5-8ad8-b14c65e28c28",
        "outputId": "9a25926a-b1ac-46ac-c20e-55eee21f5d7d"
      },
      "outputs": [
        {
          "data": {
            "text/plain": [
              "[0, 1, 2, 3, 4, 5, 6, 7, 8, 9]"
            ]
          },
          "execution_count": 453,
          "metadata": {},
          "output_type": "execute_result"
        }
      ],
      "source": [
        "list(range(10)) # 0은 생략가능"
      ]
    },
    {
      "cell_type": "code",
      "execution_count": null,
      "id": "ae8c59be-dcde-47e3-89a4-9ff87958d044",
      "metadata": {
        "vscode": {
          "languageId": "python"
        },
        "id": "ae8c59be-dcde-47e3-89a4-9ff87958d044",
        "outputId": "8ad01277-00ce-4b51-f9d1-42666ab2c1e2"
      },
      "outputs": [
        {
          "data": {
            "text/plain": [
              "[2, 3, 4, 5, 6, 7, 8, 9]"
            ]
          },
          "execution_count": 452,
          "metadata": {},
          "output_type": "execute_result"
        }
      ],
      "source": [
        "list(range(2,10)) # 2는 포함, 10은 미포함"
      ]
    },
    {
      "cell_type": "code",
      "execution_count": null,
      "id": "127b7538-190d-49cf-916c-b0f108fae7ab",
      "metadata": {
        "vscode": {
          "languageId": "python"
        },
        "id": "127b7538-190d-49cf-916c-b0f108fae7ab",
        "outputId": "896bfd60-a6b9-45fc-800c-6d20f228060b"
      },
      "outputs": [
        {
          "data": {
            "text/plain": [
              "[1, 3, 5, 7, 9]"
            ]
          },
          "execution_count": 455,
          "metadata": {},
          "output_type": "execute_result"
        }
      ],
      "source": [
        "list(range(1,10,2)) # 2는 포함, 10은 미포함"
      ]
    },
    {
      "cell_type": "markdown",
      "id": "40c6114a-d834-4fb1-897c-a2964f42ca4e",
      "metadata": {
        "id": "40c6114a-d834-4fb1-897c-a2964f42ca4e"
      },
      "source": [
        "예비학습 끝"
      ]
    },
    {
      "cell_type": "code",
      "execution_count": null,
      "id": "9b8a596f-8301-46a7-ae06-4db31422b2c7",
      "metadata": {
        "vscode": {
          "languageId": "python"
        },
        "id": "9b8a596f-8301-46a7-ae06-4db31422b2c7",
        "outputId": "01456954-fc81-4fa7-f7c9-b767895639a7"
      },
      "outputs": [
        {
          "data": {
            "text/plain": [
              "['X1', 'X2', 'X3', 'X4', 'X5', 'X6', 'X7', 'X8', 'X9', 'X10', 'X11', 'X12']"
            ]
          },
          "execution_count": 460,
          "metadata": {},
          "output_type": "execute_result"
        }
      ],
      "source": [
        "['X'+str(i) for i in list(range(1,13))] ## 출력결과가 너무 기니까 101대신에 13으로 변경"
      ]
    },
    {
      "cell_type": "markdown",
      "id": "43e1def6-53eb-414b-b2f8-cd8806254cc6",
      "metadata": {
        "id": "43e1def6-53eb-414b-b2f8-cd8806254cc6"
      },
      "source": [
        "(아래와 같은 풀이도 가능)"
      ]
    },
    {
      "cell_type": "code",
      "execution_count": null,
      "id": "9551979c-09bf-436d-8271-cca911654587",
      "metadata": {
        "vscode": {
          "languageId": "python"
        },
        "id": "9551979c-09bf-436d-8271-cca911654587",
        "outputId": "b68fc23b-3c2f-436e-e5d6-438d04c103f4"
      },
      "outputs": [
        {
          "data": {
            "text/plain": [
              "['X1', 'X2', 'X3', 'X4', 'X5', 'X6', 'X7', 'X8', 'X9', 'X10', 'X11', 'X12']"
            ]
          },
          "execution_count": 466,
          "metadata": {},
          "output_type": "execute_result"
        }
      ],
      "source": [
        "['X'+str(i) for i in range(1,13)] ## 출력결과가 너무 기니까 101대신에 13으로 변경"
      ]
    },
    {
      "cell_type": "markdown",
      "id": "7704cec8-388f-4572-abf0-c4b35ac3e3a5",
      "metadata": {
        "id": "7704cec8-388f-4572-abf0-c4b35ac3e3a5"
      },
      "source": [
        "(딴생각) 생각해보니까 for문 뒤에 올 수 있는것이 무엇인지 생각하는것도 흥미로울듯"
      ]
    },
    {
      "cell_type": "code",
      "execution_count": null,
      "id": "5ca9eb77-e4b1-4642-b56d-d8e92a4f8ade",
      "metadata": {
        "vscode": {
          "languageId": "python"
        },
        "id": "5ca9eb77-e4b1-4642-b56d-d8e92a4f8ade",
        "outputId": "ab158b44-1f13-4777-9581-f5cfa50da6c5"
      },
      "outputs": [
        {
          "name": "stdout",
          "output_type": "stream",
          "text": [
            "1\n",
            "2\n",
            "3\n",
            "4\n"
          ]
        }
      ],
      "source": [
        "for i in '1234':\n",
        "    print(i)"
      ]
    },
    {
      "cell_type": "code",
      "execution_count": null,
      "id": "28b2a7d3-1da8-4010-b236-e6a29fd8201c",
      "metadata": {
        "vscode": {
          "languageId": "python"
        },
        "id": "28b2a7d3-1da8-4010-b236-e6a29fd8201c",
        "outputId": "66c58bf2-27a4-442f-fba2-668e949f9ef0"
      },
      "outputs": [
        {
          "name": "stdout",
          "output_type": "stream",
          "text": [
            "1\n",
            "2\n",
            "3\n",
            "4\n"
          ]
        }
      ],
      "source": [
        "for i in [1,2,3,4]:\n",
        "    print(i)"
      ]
    },
    {
      "cell_type": "code",
      "execution_count": null,
      "id": "3c9c23ee-7174-4419-902a-393063e5ed46",
      "metadata": {
        "vscode": {
          "languageId": "python"
        },
        "id": "3c9c23ee-7174-4419-902a-393063e5ed46",
        "outputId": "b3537bdc-56b9-4277-addb-165e3cd4c1ff"
      },
      "outputs": [
        {
          "name": "stdout",
          "output_type": "stream",
          "text": [
            "1\n",
            "2\n",
            "3\n",
            "4\n"
          ]
        }
      ],
      "source": [
        "for i in (1,2,3,4): # (1,2,3,4)는 튜플\n",
        "    print(i)"
      ]
    },
    {
      "cell_type": "code",
      "execution_count": null,
      "id": "720185de-c15d-4bf7-a78a-ae5f66c09b1c",
      "metadata": {
        "vscode": {
          "languageId": "python"
        },
        "id": "720185de-c15d-4bf7-a78a-ae5f66c09b1c",
        "outputId": "8afcfb71-8803-4cc0-bce7-9426e7e6a7a4"
      },
      "outputs": [
        {
          "name": "stdout",
          "output_type": "stream",
          "text": [
            "1\n",
            "2\n",
            "3\n",
            "4\n"
          ]
        }
      ],
      "source": [
        "for i in {1,2,3,4}: # {1,2,3,4}는 set\n",
        "    print(i)"
      ]
    },
    {
      "cell_type": "code",
      "execution_count": null,
      "id": "738a9f95-b98a-4950-be9d-fa3f63ca2d71",
      "metadata": {
        "vscode": {
          "languageId": "python"
        },
        "id": "738a9f95-b98a-4950-be9d-fa3f63ca2d71",
        "outputId": "71506815-2ed4-4ff5-81db-108521038df5"
      },
      "outputs": [
        {
          "name": "stdout",
          "output_type": "stream",
          "text": [
            "name\n",
            "age\n"
          ]
        }
      ],
      "source": [
        "for i in {'name':'iu','age':28}: #{'name':'iu','age':28} 는 딕셔너리\n",
        "    print(i)"
      ]
    },
    {
      "cell_type": "code",
      "execution_count": null,
      "id": "ef8e44dc-5db2-41b7-aa1f-f0d42392e5e6",
      "metadata": {
        "vscode": {
          "languageId": "python"
        },
        "id": "ef8e44dc-5db2-41b7-aa1f-f0d42392e5e6",
        "outputId": "b390ed75-bc14-42c8-fb66-c58d11c77f02"
      },
      "outputs": [
        {
          "name": "stdout",
          "output_type": "stream",
          "text": [
            "1\n",
            "2\n",
            "3\n",
            "4\n"
          ]
        }
      ],
      "source": [
        "for i in range(1,5):\n",
        "    print(i)"
      ]
    },
    {
      "cell_type": "markdown",
      "id": "a28a3141-167e-45a9-89a1-312d099aeb84",
      "metadata": {
        "id": "a28a3141-167e-45a9-89a1-312d099aeb84"
      },
      "source": [
        "# tuple"
      ]
    },
    {
      "cell_type": "markdown",
      "id": "d988bc45-d43e-42c5-b930-f524811e1058",
      "metadata": {
        "id": "d988bc45-d43e-42c5-b930-f524811e1058"
      },
      "source": [
        "## 리스트 vs 튜플"
      ]
    },
    {
      "cell_type": "markdown",
      "id": "23648f11-7b81-49ba-9efc-74e38004ed00",
      "metadata": {
        "id": "23648f11-7b81-49ba-9efc-74e38004ed00"
      },
      "source": [
        "`-` 컨테이너형타입이라는 점, 그리고 연산 및 인덱싱을 하는 방법은 리스트와 같음\n",
        "\n",
        "- 차이점1: [] 대신에 ()를 사용한다.\n",
        "- 차이점2: 불변형이다. (원소의 값을 바꿀 수 없음)\n",
        "- 차이점3: 하나의 원소를 선언할 때는 (1,)와 같이 해야 한다.\n",
        "- 차이점4: 의미가 명확할때는 튜플의 ()를 생략가능하다."
      ]
    },
    {
      "cell_type": "markdown",
      "id": "78a952e6-06da-409b-9ed3-19484b3da7a3",
      "metadata": {
        "id": "78a952e6-06da-409b-9ed3-19484b3da7a3"
      },
      "source": [
        "`-` 컨테이너형이라는 것이 무슨의미?"
      ]
    },
    {
      "cell_type": "code",
      "execution_count": null,
      "id": "be653adc-efdb-4688-ac73-d7aeb4dc9341",
      "metadata": {
        "vscode": {
          "languageId": "python"
        },
        "id": "be653adc-efdb-4688-ac73-d7aeb4dc9341"
      },
      "outputs": [],
      "source": [
        "a=(4,6,'pencil', 3.2+4.6j, [3,4])"
      ]
    },
    {
      "cell_type": "code",
      "execution_count": null,
      "id": "8791af85-4a26-4c99-b62c-b94b36ae856e",
      "metadata": {
        "vscode": {
          "languageId": "python"
        },
        "id": "8791af85-4a26-4c99-b62c-b94b36ae856e",
        "outputId": "82d9dacd-0a30-4d3f-f46e-82b0fe0c1749"
      },
      "outputs": [
        {
          "data": {
            "text/plain": [
              "str"
            ]
          },
          "execution_count": 184,
          "metadata": {},
          "output_type": "execute_result"
        }
      ],
      "source": [
        "type(a[2])"
      ]
    },
    {
      "cell_type": "code",
      "execution_count": null,
      "id": "229495fc-6a95-4609-af61-c6357810890e",
      "metadata": {
        "vscode": {
          "languageId": "python"
        },
        "id": "229495fc-6a95-4609-af61-c6357810890e",
        "outputId": "0ccf85bb-f688-45e3-b53d-a74f4cf8ce1c"
      },
      "outputs": [
        {
          "data": {
            "text/plain": [
              "complex"
            ]
          },
          "execution_count": 185,
          "metadata": {},
          "output_type": "execute_result"
        }
      ],
      "source": [
        "type(a[3])"
      ]
    },
    {
      "cell_type": "markdown",
      "id": "6c590aaf-a1cb-42b1-a443-1585117780d6",
      "metadata": {
        "id": "6c590aaf-a1cb-42b1-a443-1585117780d6"
      },
      "source": [
        "`-` 불변형이라는 것은 무슨의미?"
      ]
    },
    {
      "cell_type": "code",
      "execution_count": null,
      "id": "32765cd4-20af-4181-a688-49aa1467c046",
      "metadata": {
        "vscode": {
          "languageId": "python"
        },
        "id": "32765cd4-20af-4181-a688-49aa1467c046",
        "outputId": "d5808786-8a68-4caa-bb90-0f178f4f9a5a"
      },
      "outputs": [
        {
          "ename": "TypeError",
          "evalue": "'tuple' object does not support item assignment",
          "output_type": "error",
          "traceback": [
            "\u001b[0;31m---------------------------------------------------------------------------\u001b[0m",
            "\u001b[0;31mTypeError\u001b[0m                                 Traceback (most recent call last)",
            "\u001b[0;32m<ipython-input-189-228b9b5f00fd>\u001b[0m in \u001b[0;36m<module>\u001b[0;34m\u001b[0m\n\u001b[0;32m----> 1\u001b[0;31m \u001b[0ma\u001b[0m\u001b[0;34m[\u001b[0m\u001b[0;36m2\u001b[0m\u001b[0;34m]\u001b[0m \u001b[0;34m=\u001b[0m \u001b[0;34m'Pencil'\u001b[0m\u001b[0;34m\u001b[0m\u001b[0;34m\u001b[0m\u001b[0m\n\u001b[0m",
            "\u001b[0;31mTypeError\u001b[0m: 'tuple' object does not support item assignment"
          ]
        }
      ],
      "source": [
        "a[2] = 'Pencil'"
      ]
    },
    {
      "cell_type": "markdown",
      "id": "ed69992d-6181-4f92-8c32-ee299bd457fd",
      "metadata": {
        "id": "ed69992d-6181-4f92-8c32-ee299bd457fd"
      },
      "source": [
        "참고로 a를 튜플이 아니라 리스트로 선언하면 값이 잘 바뀐다."
      ]
    },
    {
      "cell_type": "code",
      "execution_count": null,
      "id": "05e6dca5-0814-462a-923c-879efa9f5491",
      "metadata": {
        "vscode": {
          "languageId": "python"
        },
        "id": "05e6dca5-0814-462a-923c-879efa9f5491"
      },
      "outputs": [],
      "source": [
        "a=[4,6,'pencil', 3.2+4.6j, [3,4]]"
      ]
    },
    {
      "cell_type": "code",
      "execution_count": null,
      "id": "5c12b691-564a-45de-8ac8-0392930fac2b",
      "metadata": {
        "vscode": {
          "languageId": "python"
        },
        "id": "5c12b691-564a-45de-8ac8-0392930fac2b",
        "outputId": "2b3f07da-9cc4-432d-b875-13c1391b046e"
      },
      "outputs": [
        {
          "data": {
            "text/plain": [
              "'pencil'"
            ]
          },
          "execution_count": 15,
          "metadata": {},
          "output_type": "execute_result"
        }
      ],
      "source": [
        "a[2]"
      ]
    },
    {
      "cell_type": "code",
      "execution_count": null,
      "id": "e2238787-bebc-4724-938f-6d0ae403d261",
      "metadata": {
        "vscode": {
          "languageId": "python"
        },
        "id": "e2238787-bebc-4724-938f-6d0ae403d261"
      },
      "outputs": [],
      "source": [
        "a[2]='Pencil'"
      ]
    },
    {
      "cell_type": "code",
      "execution_count": null,
      "id": "98e63720-6bf2-43e6-b3a7-c248a5b3319f",
      "metadata": {
        "vscode": {
          "languageId": "python"
        },
        "id": "98e63720-6bf2-43e6-b3a7-c248a5b3319f",
        "outputId": "6fae5397-ad7f-4a27-b6a6-7f33799d1144"
      },
      "outputs": [
        {
          "data": {
            "text/plain": [
              "[4, 6, 'Pencil', (3.2+4.6j), [3, 4]]"
            ]
          },
          "execution_count": 17,
          "metadata": {},
          "output_type": "execute_result"
        }
      ],
      "source": [
        "a"
      ]
    },
    {
      "cell_type": "markdown",
      "id": "5dfaae0c-a5b3-4caa-8ca1-844c6380bfc0",
      "metadata": {
        "id": "5dfaae0c-a5b3-4caa-8ca1-844c6380bfc0"
      },
      "source": [
        "`-` 하나의 원소로 이루어진 튜플을 만들때는 쉼표를 붙여야 함."
      ]
    },
    {
      "cell_type": "code",
      "execution_count": null,
      "id": "358692de-8c86-492e-baee-eee02251a3f3",
      "metadata": {
        "vscode": {
          "languageId": "python"
        },
        "id": "358692de-8c86-492e-baee-eee02251a3f3",
        "outputId": "e8632be6-2931-4484-90c8-a72416127a19"
      },
      "outputs": [
        {
          "data": {
            "text/plain": [
              "[1, 2, 3, 4]"
            ]
          },
          "execution_count": 20,
          "metadata": {},
          "output_type": "execute_result"
        }
      ],
      "source": [
        "[1]+[2,3,4]"
      ]
    },
    {
      "cell_type": "code",
      "execution_count": null,
      "id": "549648b8-1645-4d60-9d49-a38d3adf6d3e",
      "metadata": {
        "vscode": {
          "languageId": "python"
        },
        "id": "549648b8-1645-4d60-9d49-a38d3adf6d3e",
        "outputId": "0d783bd2-4877-4478-bfc8-91960a5a1852"
      },
      "outputs": [
        {
          "data": {
            "text/plain": [
              "(1, 2, 3, 4)"
            ]
          },
          "execution_count": 193,
          "metadata": {},
          "output_type": "execute_result"
        }
      ],
      "source": [
        "(1,)+(2,3,4)"
      ]
    },
    {
      "cell_type": "markdown",
      "id": "23e16ea9-98a9-4020-ae61-1f4a32059b30",
      "metadata": {
        "id": "23e16ea9-98a9-4020-ae61-1f4a32059b30"
      },
      "source": [
        "`-` 리스트와 중요한 차이점! 의미가 명확할때 튜플의 괄호는 생략가능하다. (이게 중요합니다)"
      ]
    },
    {
      "cell_type": "code",
      "execution_count": null,
      "id": "60ac57f1-a1a8-4ea2-b3f1-9ac30324e7b3",
      "metadata": {
        "vscode": {
          "languageId": "python"
        },
        "id": "60ac57f1-a1a8-4ea2-b3f1-9ac30324e7b3",
        "outputId": "d61b78fc-8c92-4e93-d49c-a9e4b16f4375"
      },
      "outputs": [
        {
          "data": {
            "text/plain": [
              "(1, 2)"
            ]
          },
          "execution_count": 194,
          "metadata": {},
          "output_type": "execute_result"
        }
      ],
      "source": [
        "a=1,2\n",
        "a"
      ]
    },
    {
      "cell_type": "markdown",
      "id": "88d10a39-9862-499b-848d-7377b309125b",
      "metadata": {
        "id": "88d10a39-9862-499b-848d-7377b309125b"
      },
      "source": [
        "의미가 명확할때 생략해야함"
      ]
    },
    {
      "cell_type": "code",
      "execution_count": null,
      "id": "ddae135f-5406-4a4c-804a-463ce1116693",
      "metadata": {
        "vscode": {
          "languageId": "python"
        },
        "id": "ddae135f-5406-4a4c-804a-463ce1116693",
        "outputId": "11c9923b-4664-4eb6-b9c0-6553e68d8303"
      },
      "outputs": [
        {
          "data": {
            "text/plain": [
              "(1, 5, 4, 5)"
            ]
          },
          "execution_count": 196,
          "metadata": {},
          "output_type": "execute_result"
        }
      ],
      "source": [
        "1,2 + 3,4,5"
      ]
    },
    {
      "cell_type": "code",
      "execution_count": null,
      "id": "0c8736c7-20c5-47ab-86a9-7f5e019762ae",
      "metadata": {
        "vscode": {
          "languageId": "python"
        },
        "id": "0c8736c7-20c5-47ab-86a9-7f5e019762ae",
        "outputId": "cbcd85dd-3b04-4e0e-e6d8-6f6d54bb557b"
      },
      "outputs": [
        {
          "data": {
            "text/plain": [
              "(1, 2, 3, 4, 5)"
            ]
          },
          "execution_count": 34,
          "metadata": {},
          "output_type": "execute_result"
        }
      ],
      "source": [
        "(1,2) + (3,4,5)"
      ]
    },
    {
      "cell_type": "markdown",
      "id": "bee1dadc-8472-4da6-9899-fce98886a56b",
      "metadata": {
        "id": "bee1dadc-8472-4da6-9899-fce98886a56b"
      },
      "source": [
        "## 선언"
      ]
    },
    {
      "cell_type": "markdown",
      "id": "51467d27-0224-489e-b747-f514767ab906",
      "metadata": {
        "id": "51467d27-0224-489e-b747-f514767ab906"
      },
      "source": [
        "`-` 소괄호를 이용"
      ]
    },
    {
      "cell_type": "code",
      "execution_count": null,
      "id": "6abf839f-6508-4cdd-b206-81d60a9b7e51",
      "metadata": {
        "vscode": {
          "languageId": "python"
        },
        "id": "6abf839f-6508-4cdd-b206-81d60a9b7e51",
        "outputId": "4e5d974d-0472-4f58-d2c3-ba826405b274"
      },
      "outputs": [
        {
          "data": {
            "text/plain": [
              "(1, 2, 3)"
            ]
          },
          "execution_count": 35,
          "metadata": {},
          "output_type": "execute_result"
        }
      ],
      "source": [
        "a=(1,2,3)\n",
        "a"
      ]
    },
    {
      "cell_type": "code",
      "execution_count": null,
      "id": "f1e3ef43-ff9b-4d48-9abd-9a32a3282436",
      "metadata": {
        "vscode": {
          "languageId": "python"
        },
        "id": "f1e3ef43-ff9b-4d48-9abd-9a32a3282436",
        "outputId": "f6380573-4d56-4ae4-cef6-f5c54d684a95"
      },
      "outputs": [
        {
          "data": {
            "text/plain": [
              "tuple"
            ]
          },
          "execution_count": 36,
          "metadata": {},
          "output_type": "execute_result"
        }
      ],
      "source": [
        "type(a)"
      ]
    },
    {
      "cell_type": "markdown",
      "id": "cdcd82c2-74bd-4e83-9aad-37c564625769",
      "metadata": {
        "id": "cdcd82c2-74bd-4e83-9aad-37c564625769"
      },
      "source": [
        "`-` 생략가능하다는 점이 포인트"
      ]
    },
    {
      "cell_type": "code",
      "execution_count": null,
      "id": "0d75df34-45a1-4e7a-aa47-d54140399fb5",
      "metadata": {
        "vscode": {
          "languageId": "python"
        },
        "id": "0d75df34-45a1-4e7a-aa47-d54140399fb5",
        "outputId": "162339b1-fcc0-4b42-fc0d-7cb6ee090f4e"
      },
      "outputs": [
        {
          "data": {
            "text/plain": [
              "(1, 2, 3)"
            ]
          },
          "execution_count": 37,
          "metadata": {},
          "output_type": "execute_result"
        }
      ],
      "source": [
        "a=1,2,3\n",
        "a"
      ]
    },
    {
      "cell_type": "code",
      "execution_count": null,
      "id": "7c19b5ab-583b-4bbc-83bb-7fb42ea8f7b3",
      "metadata": {
        "vscode": {
          "languageId": "python"
        },
        "id": "7c19b5ab-583b-4bbc-83bb-7fb42ea8f7b3",
        "outputId": "2c1eab38-9807-4d68-9ec0-395c5a7a435e"
      },
      "outputs": [
        {
          "data": {
            "text/plain": [
              "tuple"
            ]
          },
          "execution_count": 38,
          "metadata": {},
          "output_type": "execute_result"
        }
      ],
      "source": [
        "type(a)"
      ]
    },
    {
      "cell_type": "markdown",
      "id": "8a1c37b7-0c7d-478e-8c65-c776bfcef29e",
      "metadata": {
        "id": "8a1c37b7-0c7d-478e-8c65-c776bfcef29e"
      },
      "source": [
        "`-` 원소가 하나인 튜플을 만들고 싶다면?"
      ]
    },
    {
      "cell_type": "code",
      "execution_count": null,
      "id": "c03564b6-0bbe-4025-91c2-a04ba8b57677",
      "metadata": {
        "vscode": {
          "languageId": "python"
        },
        "id": "c03564b6-0bbe-4025-91c2-a04ba8b57677",
        "outputId": "c26c544f-567e-406a-cca7-6e263288b52c"
      },
      "outputs": [
        {
          "data": {
            "text/plain": [
              "(1,)"
            ]
          },
          "execution_count": 39,
          "metadata": {},
          "output_type": "execute_result"
        }
      ],
      "source": [
        "a=(1,)\n",
        "a"
      ]
    },
    {
      "cell_type": "markdown",
      "id": "ce369bdc-299f-449f-acde-ea0c4d5bd172",
      "metadata": {
        "id": "ce369bdc-299f-449f-acde-ea0c4d5bd172"
      },
      "source": [
        "## 연산"
      ]
    },
    {
      "cell_type": "markdown",
      "id": "51b21df1-e84f-4f6e-8588-ad38ed0bb696",
      "metadata": {
        "id": "51b21df1-e84f-4f6e-8588-ad38ed0bb696"
      },
      "source": [
        "`-` 리스트와 동일"
      ]
    },
    {
      "cell_type": "code",
      "execution_count": null,
      "id": "737f61f9-65e8-4565-a9f9-8c461df799e5",
      "metadata": {
        "vscode": {
          "languageId": "python"
        },
        "id": "737f61f9-65e8-4565-a9f9-8c461df799e5",
        "outputId": "3babf59b-11ef-49cb-b886-a64262c7ddbc"
      },
      "outputs": [
        {
          "data": {
            "text/plain": [
              "(1, 2, 3, 4, 5)"
            ]
          },
          "execution_count": 40,
          "metadata": {},
          "output_type": "execute_result"
        }
      ],
      "source": [
        "(1,2)+(3,4,5)"
      ]
    },
    {
      "cell_type": "code",
      "execution_count": null,
      "id": "3de368a7-ef39-4236-8fff-cf4b7cc7cc98",
      "metadata": {
        "vscode": {
          "languageId": "python"
        },
        "id": "3de368a7-ef39-4236-8fff-cf4b7cc7cc98",
        "outputId": "98a1e358-cc44-4c07-a080-40dc6cc587bf"
      },
      "outputs": [
        {
          "data": {
            "text/plain": [
              "(1, 2, 1, 2)"
            ]
          },
          "execution_count": 41,
          "metadata": {},
          "output_type": "execute_result"
        }
      ],
      "source": [
        "(1,2)*2"
      ]
    },
    {
      "cell_type": "markdown",
      "id": "8d534dc5-93f4-4cca-9ab9-d870fa637e3b",
      "metadata": {
        "id": "8d534dc5-93f4-4cca-9ab9-d870fa637e3b"
      },
      "source": [
        "## 인덱싱"
      ]
    },
    {
      "cell_type": "markdown",
      "id": "7091476d-864e-4264-9606-f3483401336c",
      "metadata": {
        "id": "7091476d-864e-4264-9606-f3483401336c"
      },
      "source": [
        "`-` 리스트와 동일"
      ]
    },
    {
      "cell_type": "code",
      "execution_count": null,
      "id": "63725038-b81e-4cb3-b134-f12d8852bd5c",
      "metadata": {
        "vscode": {
          "languageId": "python"
        },
        "id": "63725038-b81e-4cb3-b134-f12d8852bd5c",
        "outputId": "6a3a8ba5-6741-464a-b35c-91caeebb8e1a"
      },
      "outputs": [
        {
          "data": {
            "text/plain": [
              "(1, 2, 3, -4, -5)"
            ]
          },
          "execution_count": 42,
          "metadata": {},
          "output_type": "execute_result"
        }
      ],
      "source": [
        "a=(1,2,3,-4,-5)\n",
        "a"
      ]
    },
    {
      "cell_type": "code",
      "execution_count": null,
      "id": "74feb684-4d23-4703-9ced-64aa66735c76",
      "metadata": {
        "vscode": {
          "languageId": "python"
        },
        "id": "74feb684-4d23-4703-9ced-64aa66735c76",
        "outputId": "21156afb-7c74-471a-a2ef-aa37308b3290"
      },
      "outputs": [
        {
          "data": {
            "text/plain": [
              "-5"
            ]
          },
          "execution_count": 43,
          "metadata": {},
          "output_type": "execute_result"
        }
      ],
      "source": [
        "a[-1]"
      ]
    },
    {
      "cell_type": "code",
      "execution_count": null,
      "id": "828f829f-d441-488a-bf1d-3b0c4224b0a2",
      "metadata": {
        "vscode": {
          "languageId": "python"
        },
        "id": "828f829f-d441-488a-bf1d-3b0c4224b0a2",
        "outputId": "57da70e5-4a7c-4e74-c40d-5f229f8b5a82"
      },
      "outputs": [
        {
          "data": {
            "text/plain": [
              "(3, -4, -5)"
            ]
          },
          "execution_count": 44,
          "metadata": {},
          "output_type": "execute_result"
        }
      ],
      "source": [
        "a[-3:]"
      ]
    },
    {
      "cell_type": "markdown",
      "id": "bd39e21a-289d-4b5d-87da-73fef0d30ba4",
      "metadata": {
        "id": "bd39e21a-289d-4b5d-87da-73fef0d30ba4"
      },
      "source": [
        "# Quiz"
      ]
    },
    {
      "cell_type": "markdown",
      "id": "977cb6e2-7c26-479b-aa02-50826d6ba60a",
      "metadata": {
        "id": "977cb6e2-7c26-479b-aa02-50826d6ba60a"
      },
      "source": [
        "`1`. 길이가 0인 리스트를 만들어라. (비어있는 리스트를 만들어라)"
      ]
    },
    {
      "cell_type": "markdown",
      "id": "b9eda19b-26e8-46d4-9b6f-ac588872d1c2",
      "metadata": {
        "id": "b9eda19b-26e8-46d4-9b6f-ac588872d1c2"
      },
      "source": [
        "`2`. 다음의 실행값 중 가장 큰 숫자가 나오는 보기를 골라라. (에러가 나는 코드는 정답에서 제외함)\n",
        "\n",
        "```Python\n",
        "(a) len(3.14)\n",
        "(b) len([3.14])\n",
        "(c) len('3.14')\n",
        "```"
      ]
    },
    {
      "cell_type": "markdown",
      "id": "d4b08016-58bf-41c1-8c4d-8ba25003938b",
      "metadata": {
        "id": "d4b08016-58bf-41c1-8c4d-8ba25003938b"
      },
      "source": [
        "`3`. 리스트자료형의 `+`와 `*` 연산을 이용하여 아래와 같은 list를 생성하라."
      ]
    },
    {
      "cell_type": "code",
      "execution_count": null,
      "id": "194688b5-bd81-493c-96ad-ef6c122f66fb",
      "metadata": {
        "id": "194688b5-bd81-493c-96ad-ef6c122f66fb",
        "outputId": "5eabd748-4e2b-4f13-b815-794b7689a1c2"
      },
      "outputs": [
        {
          "data": {
            "text/plain": [
              "[1, 2, 2, 3, 3, 3, 4, 4, 4, 4, 5, 5, 5, 5, 5]"
            ]
          },
          "execution_count": 30,
          "metadata": {},
          "output_type": "execute_result"
        }
      ],
      "source": [
        "[1, 2, 2, 3, 3, 3, 4, 4, 4, 4, 5, 5, 5, 5, 5]"
      ]
    },
    {
      "cell_type": "markdown",
      "id": "d79a34f8-bbdd-4e53-91ef-5144d9e41405",
      "metadata": {
        "id": "d79a34f8-bbdd-4e53-91ef-5144d9e41405"
      },
      "source": [
        "**hint:** 아래의 코드를 관찰해보세요"
      ]
    },
    {
      "cell_type": "code",
      "execution_count": null,
      "id": "ef211e3f-833f-42dd-a64d-5471fd08ab63",
      "metadata": {
        "id": "ef211e3f-833f-42dd-a64d-5471fd08ab63",
        "outputId": "32462685-6695-4351-c2c0-086b4ddb097e"
      },
      "outputs": [
        {
          "data": {
            "text/plain": [
              "[1, 2, 2]"
            ]
          },
          "execution_count": 10,
          "metadata": {},
          "output_type": "execute_result"
        }
      ],
      "source": [
        "[1]*1+[2]*2"
      ]
    },
    {
      "cell_type": "markdown",
      "id": "747049c3-54b0-403a-be7d-dabab2740baf",
      "metadata": {
        "id": "747049c3-54b0-403a-be7d-dabab2740baf"
      },
      "source": [
        "---"
      ]
    },
    {
      "cell_type": "markdown",
      "id": "c4c57449-1582-47bb-b41e-59dd2aad6c5c",
      "metadata": {
        "id": "c4c57449-1582-47bb-b41e-59dd2aad6c5c"
      },
      "source": [
        "`4`. 아래의 코드를 관찰하고, `sum()`의 기능을 유추하라."
      ]
    },
    {
      "cell_type": "code",
      "execution_count": null,
      "id": "9eb20961-a36b-40a6-845a-cc443a1cff6a",
      "metadata": {
        "id": "9eb20961-a36b-40a6-845a-cc443a1cff6a",
        "outputId": "f81c68bf-ef3b-47c6-9cfa-3034eb79a39c"
      },
      "outputs": [
        {
          "data": {
            "text/plain": [
              "2"
            ]
          },
          "execution_count": 252,
          "metadata": {},
          "output_type": "execute_result"
        }
      ],
      "source": [
        "sum([1,0,1,0])"
      ]
    },
    {
      "cell_type": "code",
      "execution_count": null,
      "id": "4758b134-787e-43c5-a837-7da6e350ad51",
      "metadata": {
        "id": "4758b134-787e-43c5-a837-7da6e350ad51",
        "outputId": "4bd97358-99ac-4227-e565-fc935cf2f054"
      },
      "outputs": [
        {
          "data": {
            "text/plain": [
              "2"
            ]
          },
          "execution_count": 253,
          "metadata": {},
          "output_type": "execute_result"
        }
      ],
      "source": [
        "sum([True,False,True,False])"
      ]
    },
    {
      "cell_type": "markdown",
      "id": "76c93a8e-cb47-4fc8-a88c-8ab357023f55",
      "metadata": {
        "id": "76c93a8e-cb47-4fc8-a88c-8ab357023f55"
      },
      "source": [
        "`5`. 다음과 같은 리스트를 고려하자."
      ]
    },
    {
      "cell_type": "code",
      "execution_count": null,
      "id": "adcd5393-fc44-4a27-8d08-a43842609925",
      "metadata": {
        "id": "adcd5393-fc44-4a27-8d08-a43842609925",
        "outputId": "b248f3ba-7ac5-431a-d7b1-70521c3ab528"
      },
      "outputs": [
        {
          "data": {
            "text/plain": [
              "[80, 60, 80, 90, 55, 85, 95, 100, 35, 70, 75, 65, 95]"
            ]
          },
          "execution_count": 77,
          "metadata": {},
          "output_type": "execute_result"
        }
      ],
      "source": [
        "x = [80,60,80,90,55,85,95,100,35,70,75,65,95]\n",
        "x"
      ]
    },
    {
      "cell_type": "markdown",
      "id": "d67445d9-e87a-439b-a51d-d8437f5e2655",
      "metadata": {
        "id": "d67445d9-e87a-439b-a51d-d8437f5e2655"
      },
      "source": [
        "이를 수식으로 표현하면 아래와 같다."
      ]
    },
    {
      "cell_type": "markdown",
      "id": "01bda6cb-99c5-4e9b-aac3-43abc9e8f294",
      "metadata": {
        "id": "01bda6cb-99c5-4e9b-aac3-43abc9e8f294"
      },
      "source": [
        "${\\bf x} = [x_1,\\dots,x_{13}]=[80,60,80,90,55,85,95,100,35,70,75,65,95]$"
      ]
    },
    {
      "cell_type": "markdown",
      "id": "15d14c46-3dcd-405c-8aac-353bad15afc3",
      "metadata": {
        "id": "15d14c46-3dcd-405c-8aac-353bad15afc3"
      },
      "source": [
        "리스트의 원소중 \"$x_i>80$\" 의 조건을 만족하는 원소는 모두 몇개인가?"
      ]
    },
    {
      "cell_type": "markdown",
      "id": "4c55e574-9b7e-4ac8-8b2b-e5dc398d6bf7",
      "metadata": {
        "id": "4c55e574-9b7e-4ac8-8b2b-e5dc398d6bf7"
      },
      "source": [
        "**hint:** 리스트컴프리헨션과 `sum()`함수를 이용할 것"
      ]
    },
    {
      "cell_type": "markdown",
      "id": "9dfa470c-f3cd-45d3-9816-ac7ab7017217",
      "metadata": {
        "id": "9dfa470c-f3cd-45d3-9816-ac7ab7017217"
      },
      "source": [
        "---"
      ]
    },
    {
      "cell_type": "markdown",
      "id": "d42a09f3-da22-4052-96a4-a540632484a3",
      "metadata": {
        "id": "d42a09f3-da22-4052-96a4-a540632484a3"
      },
      "source": [
        "`6`. 다음과 같은 리스트를 고려하자."
      ]
    },
    {
      "cell_type": "code",
      "execution_count": null,
      "id": "a99056e4-5e81-484a-b2cf-24d7a294a25e",
      "metadata": {
        "id": "a99056e4-5e81-484a-b2cf-24d7a294a25e",
        "outputId": "5a4b6ee1-ffb8-4e68-c4a3-1d7d830aaa2b"
      },
      "outputs": [
        {
          "data": {
            "text/plain": [
              "['A', 'B', 'C', 'D', 'A', 'A', 'B', 'A', 'F', 'C', 'C', 'C', 'A']"
            ]
          },
          "execution_count": 72,
          "metadata": {},
          "output_type": "execute_result"
        }
      ],
      "source": [
        "['A','B','C','D','A','A','B','A','F','C','C','C','A']"
      ]
    },
    {
      "cell_type": "markdown",
      "id": "9c5a48ea-dd19-4d99-8945-929162c6ebe4",
      "metadata": {
        "id": "9c5a48ea-dd19-4d99-8945-929162c6ebe4"
      },
      "source": [
        "이 리스트에서 'A' 혹은 'B'의 숫자는 모두 몇개인가?"
      ]
    },
    {
      "cell_type": "markdown",
      "id": "9d187790-546d-499f-a5db-85006df406aa",
      "metadata": {
        "id": "9d187790-546d-499f-a5db-85006df406aa"
      },
      "source": [
        "**hint:** 아래를 관찰"
      ]
    },
    {
      "cell_type": "code",
      "execution_count": null,
      "id": "f9ee06e3-ac32-4198-8b16-9d45c7c74351",
      "metadata": {
        "id": "f9ee06e3-ac32-4198-8b16-9d45c7c74351",
        "outputId": "027f814e-754b-4252-813a-975fc9ad8b6e"
      },
      "outputs": [
        {
          "data": {
            "text/plain": [
              "True"
            ]
          },
          "execution_count": 259,
          "metadata": {},
          "output_type": "execute_result"
        }
      ],
      "source": [
        "'A' < 'C'"
      ]
    },
    {
      "cell_type": "code",
      "execution_count": null,
      "id": "141f1f7d-707c-4d3e-9cdd-9f27105b08f5",
      "metadata": {
        "id": "141f1f7d-707c-4d3e-9cdd-9f27105b08f5",
        "outputId": "6b40b0f8-ddf7-4eff-8ed3-15e858b09d29"
      },
      "outputs": [
        {
          "data": {
            "text/plain": [
              "True"
            ]
          },
          "execution_count": 10,
          "metadata": {},
          "output_type": "execute_result"
        }
      ],
      "source": [
        "'B' < 'C'"
      ]
    },
    {
      "cell_type": "markdown",
      "id": "68273fa5-0224-495c-9c06-5d1ae69b0dde",
      "metadata": {
        "id": "68273fa5-0224-495c-9c06-5d1ae69b0dde"
      },
      "source": [
        "`7`. 아래와 같은 리스트가 있다고 하자."
      ]
    },
    {
      "cell_type": "markdown",
      "id": "3f103830-1462-4d81-8ea4-5bb910f2ad64",
      "metadata": {
        "id": "3f103830-1462-4d81-8ea4-5bb910f2ad64"
      },
      "source": [
        "${\\bf x} = [1,2,1,5,6,2,4,7]$\n",
        "\n",
        "${\\bf y} = [3,2,4,1,2,5,6,7]$"
      ]
    },
    {
      "cell_type": "markdown",
      "id": "5a7a55cc-2e1c-4390-81d1-5cb42d5e0403",
      "metadata": {
        "id": "5a7a55cc-2e1c-4390-81d1-5cb42d5e0403"
      },
      "source": [
        "이러한 벡터를 파이썬에서 표현하기 위해서 아래와 같은 리스트를 만들었다고 하자."
      ]
    },
    {
      "cell_type": "code",
      "execution_count": null,
      "id": "c59afbb4-7ae7-4e88-9dd3-c6a5d0f4f638",
      "metadata": {
        "id": "c59afbb4-7ae7-4e88-9dd3-c6a5d0f4f638"
      },
      "outputs": [],
      "source": [
        "x=[1,2,1,5,6,2,4,7]\n",
        "y=[3,2,4,1,2,5,6,7]"
      ]
    },
    {
      "cell_type": "markdown",
      "id": "e94ea9d4-8b01-4d97-97ed-8822ef69824e",
      "metadata": {
        "id": "e94ea9d4-8b01-4d97-97ed-8822ef69824e"
      },
      "source": [
        "리스트컴프리헨션을 이용하여\n",
        "\n",
        "$${\\bf z}=[x_1^2+y_1^2, \\dots, x_{8}^2+y_{8}^2]=[x_i^2+y_i^2: \\text{for $i = 1,2,3,\\dots,8$}]$$\n",
        "\n",
        "와 같은 리스트를 생성하라."
      ]
    },
    {
      "cell_type": "markdown",
      "id": "2712de8f-26db-4971-97ba-8a777a5ec4b7",
      "metadata": {
        "id": "2712de8f-26db-4971-97ba-8a777a5ec4b7"
      },
      "source": [
        "`8`. 아래와 같은 문자열이 있다고 하자."
      ]
    },
    {
      "cell_type": "code",
      "execution_count": null,
      "id": "feed680f-a484-493c-a0aa-802956b086fb",
      "metadata": {
        "id": "feed680f-a484-493c-a0aa-802956b086fb"
      },
      "outputs": [],
      "source": [
        "test_arr = 'ssh-rsa AAAAB3NzaC1yc2EAAAABIwAAAQEAklOUpkDHrfHY17SbrmTIpNLTGK9Tjom/BWDSUGPl+nafzlHDTYW7hdI4yZ5ew18JH4JW9jbhUFrviQzM7xlELEVf4h9lFX5QVkbPppSwg0cda3Pbv7kOdJ/MTyBlWXFCR+HAo3FXRitBqxiX1nKhXpHAZsMciLq8V6RjsNAQwdsdMFvSlVK/7XAt3FaoJoAsncM1Q9x5+3V0Ww68/eIFmb1zuUFljQJKprrX88XypNDvjYNby6vw/Pb0rwert/EnmZ+AW4OZPnTPI89ZPmVMLuayrD2cE86Z/il8b+gw3r3+1nKatmIkjn2so1d01QraTlMqVSsbxNrRFi9wrf+M7Q== schacon@mylaptop.local'"
      ]
    },
    {
      "cell_type": "markdown",
      "id": "deee0689-2383-4da6-91c5-5daa70696d6f",
      "metadata": {
        "id": "deee0689-2383-4da6-91c5-5daa70696d6f"
      },
      "source": [
        "이 문자열에서 대문자의 수를 count하라."
      ]
    },
    {
      "cell_type": "markdown",
      "id": "8734b1c5-5be5-4ecb-84e8-b2f0bb431c2e",
      "metadata": {
        "id": "8734b1c5-5be5-4ecb-84e8-b2f0bb431c2e"
      },
      "source": [
        "`9`. 리스트컴프리헨션을 이용하여 아래와 같은 리스트를 생성하라."
      ]
    },
    {
      "cell_type": "markdown",
      "id": "4dcd29d3-08f7-4e5c-aac5-9e8fbe58d766",
      "metadata": {
        "id": "4dcd29d3-08f7-4e5c-aac5-9e8fbe58d766"
      },
      "source": [
        "```\n",
        "['a',\n",
        " 'aa',\n",
        " 'aaa',\n",
        " 'aaaa',\n",
        " 'aaaaa',\n",
        " 'aaaaaa',\n",
        " 'aaaaaaa',\n",
        " 'aaaaaaaa',\n",
        " 'aaaaaaaaa',\n",
        " 'aaaaaaaaaa'] <- a가 10개있음\n",
        "```"
      ]
    },
    {
      "cell_type": "markdown",
      "id": "54348886-8f55-4d4a-b2de-67d04ab15bc0",
      "metadata": {
        "id": "54348886-8f55-4d4a-b2de-67d04ab15bc0"
      },
      "source": [
        "`10`. 아래와 같은 list가 있다고 하자."
      ]
    },
    {
      "cell_type": "code",
      "execution_count": null,
      "id": "22b943d8-5ca4-4b7d-a0bd-60fab8cbb02d",
      "metadata": {
        "id": "22b943d8-5ca4-4b7d-a0bd-60fab8cbb02d"
      },
      "outputs": [],
      "source": [
        "test_lst = [['g',1],['u',5],['e',2],['b',8],['i',2],['n',9]]"
      ]
    },
    {
      "cell_type": "markdown",
      "id": "2c36fd29-1f91-4df0-adc0-d6fc9c953c6d",
      "metadata": {
        "id": "2c36fd29-1f91-4df0-adc0-d6fc9c953c6d"
      },
      "source": [
        "`test_lst`와 리스트컴프리헨션을 이용하여 아래를 출력하는 코드를 구현하라. (2022년 파이썬입문 중간고사 1-(9) 참고)"
      ]
    },
    {
      "cell_type": "code",
      "execution_count": null,
      "id": "18e0d542-8f95-4309-a2f6-5192b31e43d5",
      "metadata": {
        "id": "18e0d542-8f95-4309-a2f6-5192b31e43d5",
        "outputId": "b9cfa0bf-1884-49d8-8b7a-cb1b9b5e194f"
      },
      "outputs": [
        {
          "data": {
            "text/plain": [
              "['g', 'uuuuu', 'ee', 'bbbbbbbb', 'ii', 'nnnnnnnnn']"
            ]
          },
          "execution_count": 7,
          "metadata": {},
          "output_type": "execute_result"
        }
      ],
      "source": [
        "['g', 'uuuuu', 'ee', 'bbbbbbbb', 'ii', 'nnnnnnnnn']"
      ]
    },
    {
      "cell_type": "markdown",
      "id": "867f83e4-c240-4cc2-8ce3-915cd31170ef",
      "metadata": {
        "id": "867f83e4-c240-4cc2-8ce3-915cd31170ef"
      },
      "source": [
        "`11`. 아래와 같은 list를 생성하라.\n",
        "\n",
        "```Python\n",
        "[1,2,2,3,3,3]\n",
        "```"
      ]
    },
    {
      "cell_type": "markdown",
      "id": "3f7a4bba-1eba-4fca-a0c3-3e03b3f33f47",
      "metadata": {
        "id": "3f7a4bba-1eba-4fca-a0c3-3e03b3f33f47"
      },
      "source": [
        "`12`. 아래와 같은 리스트를 관찰하라."
      ]
    },
    {
      "cell_type": "code",
      "execution_count": null,
      "id": "ec4a54c3-c76a-45e5-b1a4-de6d3733f291",
      "metadata": {
        "id": "ec4a54c3-c76a-45e5-b1a4-de6d3733f291"
      },
      "outputs": [],
      "source": [
        "lst = ['2022/09/21','2022/10/30','2022/12/25','2023/01/01','2023/01/31','2023/03/20']"
      ]
    },
    {
      "cell_type": "markdown",
      "id": "609762af-7927-4cb3-8970-ef033f16dfd6",
      "metadata": {
        "id": "609762af-7927-4cb3-8970-ef033f16dfd6"
      },
      "source": [
        "이러한 리스트를 아래와 같은 리스트로 변환하는 코드를 작성하라."
      ]
    },
    {
      "cell_type": "code",
      "source": [
        "[i.replace('/', '-') for i in lst]"
      ],
      "metadata": {
        "id": "3fG-3DV1RCLx",
        "outputId": "362dff87-3fee-4cb3-b010-68f12287c55f",
        "colab": {
          "base_uri": "https://localhost:8080/"
        }
      },
      "id": "3fG-3DV1RCLx",
      "execution_count": null,
      "outputs": [
        {
          "output_type": "execute_result",
          "data": {
            "text/plain": [
              "['2022-09-21',\n",
              " '2022-10-30',\n",
              " '2022-12-25',\n",
              " '2023-01-01',\n",
              " '2023-01-31',\n",
              " '2023-03-20']"
            ]
          },
          "metadata": {},
          "execution_count": 3
        }
      ]
    },
    {
      "cell_type": "code",
      "execution_count": null,
      "id": "f642fb72-eb1d-4727-ac3d-d10afa2c367d",
      "metadata": {
        "id": "f642fb72-eb1d-4727-ac3d-d10afa2c367d",
        "outputId": "c4486bea-4bfb-4567-fe05-24571f0fcbcc"
      },
      "outputs": [
        {
          "data": {
            "text/plain": [
              "['2022-09-21',\n",
              " '2022-10-30',\n",
              " '2022-12-25',\n",
              " '2023-01-01',\n",
              " '2023-01-31',\n",
              " '2023-03-20']"
            ]
          },
          "execution_count": 9,
          "metadata": {},
          "output_type": "execute_result"
        }
      ],
      "source": [
        "['2022-09-21', '2022-10-30', '2022-12-25', '2023-01-01', '2023-01-31', '2023-03-20']"
      ]
    },
    {
      "cell_type": "markdown",
      "id": "1c988a96-3809-435e-88a9-dc9581aab924",
      "metadata": {
        "id": "1c988a96-3809-435e-88a9-dc9581aab924"
      },
      "source": [
        "**hint: string의 `.replace()`기능과 리스트 컴프리헨션의 응용**"
      ]
    },
    {
      "cell_type": "markdown",
      "id": "27768907-b205-4528-aa8d-dde44a39cb87",
      "metadata": {
        "id": "27768907-b205-4528-aa8d-dde44a39cb87"
      },
      "source": [
        "`13`. 아래와 같은 문자열을 고려하라."
      ]
    },
    {
      "cell_type": "code",
      "execution_count": null,
      "id": "688271ac-ac89-4c52-9f09-cb6ddbeafe5f",
      "metadata": {
        "id": "688271ac-ac89-4c52-9f09-cb6ddbeafe5f",
        "outputId": "49f1c4d0-48be-488e-f28c-05255a67996d"
      },
      "outputs": [
        {
          "data": {
            "text/plain": [
              "'2021. 01. 05.'"
            ]
          },
          "execution_count": 165,
          "metadata": {},
          "output_type": "execute_result"
        }
      ],
      "source": [
        "'2021. 01. 05.'"
      ]
    },
    {
      "cell_type": "markdown",
      "id": "e68322bd-c14b-440c-b6e6-90c2f0362189",
      "metadata": {
        "id": "e68322bd-c14b-440c-b6e6-90c2f0362189"
      },
      "source": [
        "띄어쓰기를 제거하는 코드를 구현하라. 즉 출력결과가 아래와 같도록 만드는 코드를 구현하라."
      ]
    },
    {
      "cell_type": "code",
      "source": [
        "'2021. 01. 05.'[:-1].replace(' ', '')"
      ],
      "metadata": {
        "id": "Ek3LPerORTJg",
        "outputId": "42cb0a72-316e-4ad8-b8c5-28e8dae94692",
        "colab": {
          "base_uri": "https://localhost:8080/",
          "height": 35
        }
      },
      "id": "Ek3LPerORTJg",
      "execution_count": null,
      "outputs": [
        {
          "output_type": "execute_result",
          "data": {
            "text/plain": [
              "'2021.01.05'"
            ],
            "application/vnd.google.colaboratory.intrinsic+json": {
              "type": "string"
            }
          },
          "metadata": {},
          "execution_count": 6
        }
      ]
    },
    {
      "cell_type": "code",
      "execution_count": null,
      "id": "0d787029-986a-47c9-bb16-957cc45aa805",
      "metadata": {
        "id": "0d787029-986a-47c9-bb16-957cc45aa805",
        "outputId": "c3c6d514-4df7-46ff-bb30-93166a2c231a"
      },
      "outputs": [
        {
          "data": {
            "text/plain": [
              "'2021.01.05'"
            ]
          },
          "execution_count": 166,
          "metadata": {},
          "output_type": "execute_result"
        }
      ],
      "source": [
        "'2021.01.05'"
      ]
    },
    {
      "cell_type": "markdown",
      "id": "ea711a8d-a940-4e77-8efe-620d26c44553",
      "metadata": {
        "id": "ea711a8d-a940-4e77-8efe-620d26c44553"
      },
      "source": [
        "**hint**: 아래코드 관찰"
      ]
    },
    {
      "cell_type": "code",
      "execution_count": null,
      "id": "72269a1f-267d-4161-a66d-4af2f2f9aaba",
      "metadata": {
        "id": "72269a1f-267d-4161-a66d-4af2f2f9aaba",
        "outputId": "60db52bf-08b4-446e-b246-42cee03d2b41"
      },
      "outputs": [
        {
          "data": {
            "text/plain": [
              "'sdf'"
            ]
          },
          "execution_count": 167,
          "metadata": {},
          "output_type": "execute_result"
        }
      ],
      "source": [
        "'asdf'.replace('a','')"
      ]
    },
    {
      "cell_type": "markdown",
      "id": "9f8f5e43-9bad-4889-9767-9881fac2de78",
      "metadata": {
        "id": "9f8f5e43-9bad-4889-9767-9881fac2de78"
      },
      "source": [
        "---"
      ]
    },
    {
      "cell_type": "markdown",
      "id": "74424646-5489-4b4f-b9f2-57efcb5b77e7",
      "metadata": {
        "id": "74424646-5489-4b4f-b9f2-57efcb5b77e7"
      },
      "source": [
        "`14`. 아래의 코드를 관찰하라."
      ]
    },
    {
      "cell_type": "code",
      "execution_count": null,
      "id": "245a108b-0e78-4f25-b0a4-2b92561d6bd3",
      "metadata": {
        "id": "245a108b-0e78-4f25-b0a4-2b92561d6bd3",
        "outputId": "8f84c8ae-f805-4565-9ec4-599c28bbf450"
      },
      "outputs": [
        {
          "data": {
            "text/plain": [
              "'2022-01-05'"
            ]
          },
          "execution_count": 168,
          "metadata": {},
          "output_type": "execute_result"
        }
      ],
      "source": [
        "'-'.join(['2022','01','05'])"
      ]
    },
    {
      "cell_type": "code",
      "execution_count": null,
      "id": "1d9c1b2c-9f0d-42bf-86d0-95c00667de2e",
      "metadata": {
        "id": "1d9c1b2c-9f0d-42bf-86d0-95c00667de2e",
        "outputId": "aa25318c-4b07-4438-ca6a-cf8dc7ff1207"
      },
      "outputs": [
        {
          "data": {
            "text/plain": [
              "'2022.01.05'"
            ]
          },
          "execution_count": 169,
          "metadata": {},
          "output_type": "execute_result"
        }
      ],
      "source": [
        "'.'.join(['2022','01','05'])"
      ]
    },
    {
      "cell_type": "markdown",
      "id": "d0080722-f428-49e5-aec1-28571b92f37a",
      "metadata": {
        "id": "d0080722-f428-49e5-aec1-28571b92f37a"
      },
      "source": [
        "ChatGPT를 이용하여 이 코드가 의미하는 내용을 유추하라."
      ]
    },
    {
      "cell_type": "markdown",
      "id": "d7ab2a50-a0db-47b5-b191-9baf35dc67a1",
      "metadata": {
        "id": "d7ab2a50-a0db-47b5-b191-9baf35dc67a1"
      },
      "source": [
        "`15`. 아래와 같이 하나의 특수문자로 이루어진 리스트를 고려하자."
      ]
    },
    {
      "cell_type": "code",
      "execution_count": null,
      "id": "5eddf369-f500-4e8d-97e1-fd126dd393cc",
      "metadata": {
        "id": "5eddf369-f500-4e8d-97e1-fd126dd393cc"
      },
      "outputs": [],
      "source": [
        "block = ['■']"
      ]
    },
    {
      "cell_type": "markdown",
      "id": "0685af2c-c97f-4e9d-9f0b-09ad4a5d55d8",
      "metadata": {
        "id": "0685af2c-c97f-4e9d-9f0b-09ad4a5d55d8"
      },
      "source": [
        "이를 이용하여 아래와 같은 결과를 출력하라."
      ]
    },
    {
      "cell_type": "code",
      "source": [
        "'-'.join(block*10)"
      ],
      "metadata": {
        "id": "Ns2w2SWJR6Lh",
        "outputId": "fbdeb214-8fbc-4bef-d0f3-32f48d29c798",
        "colab": {
          "base_uri": "https://localhost:8080/",
          "height": 35
        }
      },
      "id": "Ns2w2SWJR6Lh",
      "execution_count": null,
      "outputs": [
        {
          "output_type": "execute_result",
          "data": {
            "text/plain": [
              "'■-■-■-■-■-■-■-■-■-■'"
            ],
            "application/vnd.google.colaboratory.intrinsic+json": {
              "type": "string"
            }
          },
          "metadata": {},
          "execution_count": 9
        }
      ]
    },
    {
      "cell_type": "code",
      "execution_count": null,
      "id": "347489a5-6f75-4854-851f-5f4f3b124491",
      "metadata": {
        "id": "347489a5-6f75-4854-851f-5f4f3b124491",
        "outputId": "de82a85d-8a9e-4398-e0e1-b7051f0b22eb"
      },
      "outputs": [
        {
          "data": {
            "text/plain": [
              "'■-■-■-■-■-■-■-■-■-■'"
            ]
          },
          "execution_count": 55,
          "metadata": {},
          "output_type": "execute_result"
        }
      ],
      "source": [
        "'■-■-■-■-■-■-■-■-■-■' # 여기에서 '■'는 모두 10개 있음"
      ]
    },
    {
      "cell_type": "markdown",
      "id": "3e792f2c-b8dc-425c-99eb-6de08a13ef37",
      "metadata": {
        "id": "3e792f2c-b8dc-425c-99eb-6de08a13ef37"
      },
      "source": [
        "**hint:** join을 이용할 것"
      ]
    },
    {
      "cell_type": "markdown",
      "id": "8ce641c2-4399-40d1-b6aa-a4a70a9222ce",
      "metadata": {
        "id": "8ce641c2-4399-40d1-b6aa-a4a70a9222ce"
      },
      "source": [
        "`16`. 아래의 실행결과를 되돌리는 코드를 작성하라."
      ]
    },
    {
      "cell_type": "code",
      "execution_count": null,
      "id": "6d57c8cb-db86-4f1e-b829-3e069d5e4851",
      "metadata": {
        "id": "6d57c8cb-db86-4f1e-b829-3e069d5e4851",
        "outputId": "ec648c5c-7125-4f9b-9f05-31af3947be50",
        "colab": {
          "base_uri": "https://localhost:8080/"
        }
      },
      "outputs": [
        {
          "output_type": "execute_result",
          "data": {
            "text/plain": [
              "['2023', '03', '22']"
            ]
          },
          "metadata": {},
          "execution_count": 10
        }
      ],
      "source": [
        "'2023-03-22'.split('-')"
      ]
    },
    {
      "cell_type": "markdown",
      "id": "97fcb53b-8d51-4a09-a8d2-71bd020873e3",
      "metadata": {
        "id": "97fcb53b-8d51-4a09-a8d2-71bd020873e3"
      },
      "source": [
        "즉 아래와 같은 리스트를"
      ]
    },
    {
      "cell_type": "code",
      "execution_count": null,
      "id": "790a091c-0729-4019-96fa-8798a55aa112",
      "metadata": {
        "id": "790a091c-0729-4019-96fa-8798a55aa112",
        "outputId": "f95b5fbd-906a-44d8-de6a-42548c267ff7"
      },
      "outputs": [
        {
          "data": {
            "text/plain": [
              "['2023', '03', '22']"
            ]
          },
          "execution_count": 12,
          "metadata": {},
          "output_type": "execute_result"
        }
      ],
      "source": [
        "['2023', '03', '22']"
      ]
    },
    {
      "cell_type": "markdown",
      "id": "648b2846-260c-45ca-bff3-8a3069259320",
      "metadata": {
        "id": "648b2846-260c-45ca-bff3-8a3069259320"
      },
      "source": [
        "아래의 string으로 바꾸는 코드를 작성하라."
      ]
    },
    {
      "cell_type": "code",
      "execution_count": null,
      "id": "8fb6cb34-2af1-4ee6-9318-bf426cfc3ebe",
      "metadata": {
        "id": "8fb6cb34-2af1-4ee6-9318-bf426cfc3ebe",
        "outputId": "eea6883a-8c1d-4436-81c8-bbf9a11ed282"
      },
      "outputs": [
        {
          "data": {
            "text/plain": [
              "'2023-03-22'"
            ]
          },
          "execution_count": 14,
          "metadata": {},
          "output_type": "execute_result"
        }
      ],
      "source": [
        "'2023-03-22'"
      ]
    },
    {
      "cell_type": "markdown",
      "id": "92398263-273b-4079-8dd6-fa44a164d468",
      "metadata": {
        "id": "92398263-273b-4079-8dd6-fa44a164d468"
      },
      "source": [
        "**hint:** join을 이용할 것"
      ]
    },
    {
      "cell_type": "markdown",
      "id": "5366dd68-2dd7-4c76-863d-0e3391357474",
      "metadata": {
        "id": "5366dd68-2dd7-4c76-863d-0e3391357474"
      },
      "source": [
        "---"
      ]
    },
    {
      "cell_type": "markdown",
      "id": "8d7c95a7-c814-41e1-b099-1e5b646234ea",
      "metadata": {
        "id": "8d7c95a7-c814-41e1-b099-1e5b646234ea"
      },
      "source": [
        "`17`. 길이가 1인 튜플을 만들어 자신의 학번을 저장하라. 길이가 1인 튜플을 만들어 자신의 영문이름을 저장하라. 두 튜플을 + 연산자로 합쳐아래와 같은 출력결과를 얻어라. 최종 결과는 예를들면 아래와 같아야 한다."
      ]
    },
    {
      "cell_type": "code",
      "execution_count": null,
      "id": "7e3aea17-ebd3-448c-a97e-dae5f6b93f50",
      "metadata": {
        "id": "7e3aea17-ebd3-448c-a97e-dae5f6b93f50",
        "outputId": "ef97c58f-f22f-4cb6-8eef-e5ede2dc6c02",
        "colab": {
          "base_uri": "https://localhost:8080/"
        }
      },
      "outputs": [
        {
          "output_type": "execute_result",
          "data": {
            "text/plain": [
              "('2021-43052', 'GuebinChoi')"
            ]
          },
          "metadata": {},
          "execution_count": 11
        }
      ],
      "source": [
        "('2021-43052', 'GuebinChoi')"
      ]
    },
    {
      "cell_type": "code",
      "source": [
        "a = ('2021-43052',)\n",
        "b = ('GuebinChoi', )\n",
        "a + b"
      ],
      "metadata": {
        "id": "5CMy1-ihSNUZ",
        "outputId": "f2d18ba5-f211-4c01-d9b2-9996b3309cf9",
        "colab": {
          "base_uri": "https://localhost:8080/"
        }
      },
      "id": "5CMy1-ihSNUZ",
      "execution_count": null,
      "outputs": [
        {
          "output_type": "execute_result",
          "data": {
            "text/plain": [
              "('2021-43052', 'GuebinChoi')"
            ]
          },
          "metadata": {},
          "execution_count": 12
        }
      ]
    },
    {
      "cell_type": "markdown",
      "id": "13b7955b-fc5b-4654-b83c-f457ad16c353",
      "metadata": {
        "id": "13b7955b-fc5b-4654-b83c-f457ad16c353"
      },
      "source": [
        "---"
      ]
    },
    {
      "cell_type": "markdown",
      "id": "16312445-dbc6-4c45-9310-eb7b776cb6e5",
      "metadata": {
        "id": "16312445-dbc6-4c45-9310-eb7b776cb6e5"
      },
      "source": [
        "아래는 파이썬프로그래밍 수강생들의 학번, 이름, 출석점수, 과제점수, 중간고사점수, 기말고사점수를 저장한 중첩리스트이다."
      ]
    },
    {
      "cell_type": "code",
      "execution_count": null,
      "id": "645b3a31-8581-4b2a-bc91-145f13a78c89",
      "metadata": {
        "id": "645b3a31-8581-4b2a-bc91-145f13a78c89",
        "outputId": "f215a259-745e-4129-8484-4b9fc6023ce8",
        "colab": {
          "base_uri": "https://localhost:8080/"
        }
      },
      "outputs": [
        {
          "output_type": "execute_result",
          "data": {
            "text/plain": [
              "[['2021-43052', 'GuebinChoi', 5, 10, 20, 25],\n",
              " ['2019-12342', 'Heung-min Son', 10, 15, 30, 15],\n",
              " ['2018-32234', 'hynn', 7, 20, 30, 15],\n",
              " ['2022-42323', 'Minji', 8, 20, 20, 35],\n",
              " ['2023-55342', 'Hanni', 7, 20, 30, 35],\n",
              " ['2022-46624', 'Danielle', 3, 15, 30, 40],\n",
              " ['2022-11239', 'Haerin', 10, 20, 30, 40],\n",
              " ['2022-32114', 'Hyein', 10, 20, 20, 35]]"
            ]
          },
          "metadata": {},
          "execution_count": 13
        }
      ],
      "source": [
        "lst = [['2021-43052', 'GuebinChoi', 5, 10, 20, 25],\n",
        "       ['2019-12342', 'Heung-min Son', 10, 15, 30, 15],\n",
        "       ['2018-32234', 'hynn', 7, 20, 30, 15],\n",
        "       ['2022-42323', 'Minji', 8, 20, 20, 35],\n",
        "       ['2023-55342', 'Hanni', 7, 20, 30, 35],\n",
        "       ['2022-46624', 'Danielle', 3, 15, 30, 40],\n",
        "       ['2022-11239', 'Haerin', 10, 20, 30, 40],\n",
        "       ['2022-32114', 'Hyein', 10, 20, 20, 35]]\n",
        "lst"
      ]
    },
    {
      "cell_type": "code",
      "source": [
        "# 18\n",
        "len(lst)"
      ],
      "metadata": {
        "id": "PsKu0v6pSXue",
        "outputId": "cf8f3011-d37c-4ccf-9bf2-1d9c7e5a525d",
        "colab": {
          "base_uri": "https://localhost:8080/"
        }
      },
      "id": "PsKu0v6pSXue",
      "execution_count": null,
      "outputs": [
        {
          "output_type": "execute_result",
          "data": {
            "text/plain": [
              "8"
            ]
          },
          "metadata": {},
          "execution_count": 14
        }
      ]
    },
    {
      "cell_type": "code",
      "source": [
        "# 19\n",
        "ll = [lst[i][2] < 7 for i in range(len(lst))]\n",
        "sum(ll)"
      ],
      "metadata": {
        "id": "n37tVrUVSeWR",
        "outputId": "b3e8cb59-9e50-4d9c-9888-5c5eb5e81e3f",
        "colab": {
          "base_uri": "https://localhost:8080/"
        }
      },
      "id": "n37tVrUVSeWR",
      "execution_count": null,
      "outputs": [
        {
          "output_type": "execute_result",
          "data": {
            "text/plain": [
              "2"
            ]
          },
          "metadata": {},
          "execution_count": 17
        }
      ]
    },
    {
      "cell_type": "code",
      "source": [
        "# 20\n",
        "sum([lst[i][2] + lst[i][3] < 21 for i in range(len(lst))])"
      ],
      "metadata": {
        "id": "LMU0mf3US2Q2",
        "outputId": "db5f4761-6414-427a-d6e9-34295531e746",
        "colab": {
          "base_uri": "https://localhost:8080/"
        }
      },
      "id": "LMU0mf3US2Q2",
      "execution_count": null,
      "outputs": [
        {
          "output_type": "execute_result",
          "data": {
            "text/plain": [
              "2"
            ]
          },
          "metadata": {},
          "execution_count": 19
        }
      ]
    },
    {
      "cell_type": "code",
      "source": [
        "# 21\n",
        "[[name, id, *_]for id, name, *_ in lst]"
      ],
      "metadata": {
        "id": "ptBNdjCFTC6X",
        "outputId": "c063331e-fbfa-4a19-beed-97eea5ccddb3",
        "colab": {
          "base_uri": "https://localhost:8080/"
        }
      },
      "id": "ptBNdjCFTC6X",
      "execution_count": null,
      "outputs": [
        {
          "output_type": "execute_result",
          "data": {
            "text/plain": [
              "[['GuebinChoi', '2021-43052', 5, 10, 20, 25],\n",
              " ['Heung-min Son', '2019-12342', 10, 15, 30, 15],\n",
              " ['hynn', '2018-32234', 7, 20, 30, 15],\n",
              " ['Minji', '2022-42323', 8, 20, 20, 35],\n",
              " ['Hanni', '2023-55342', 7, 20, 30, 35],\n",
              " ['Danielle', '2022-46624', 3, 15, 30, 40],\n",
              " ['Haerin', '2022-11239', 10, 20, 30, 40],\n",
              " ['Hyein', '2022-32114', 10, 20, 20, 35]]"
            ]
          },
          "metadata": {},
          "execution_count": 20
        }
      ]
    },
    {
      "cell_type": "markdown",
      "id": "b31f4551-5d44-4cf9-89f1-456ca2c4abd4",
      "metadata": {
        "id": "b31f4551-5d44-4cf9-89f1-456ca2c4abd4"
      },
      "source": [
        "`18`. 파이썬프로그래밍 수강생의 수는 모두 몇명인가?"
      ]
    },
    {
      "cell_type": "markdown",
      "id": "40f5811a-eeb8-4123-9ea7-561244c51b96",
      "metadata": {
        "id": "40f5811a-eeb8-4123-9ea7-561244c51b96"
      },
      "source": [
        "`19`. 전북대학교 지침에 따라 출석점수가 7보다 작은 학생은 (즉 `출석점수 < 7` 일 경우) F학점을 부여하게 되어있다. 이 기준에 따르면 F를 받는 학생은 모두 몇명인가?"
      ]
    },
    {
      "cell_type": "markdown",
      "id": "8a76e688-dd05-4edc-ac5b-18fe35a04a0e",
      "metadata": {
        "id": "8a76e688-dd05-4edc-ac5b-18fe35a04a0e"
      },
      "source": [
        "`20`. 파이썬프로그래밍 수업의 경우 `출석+레포트 < 21` 일 경우 F학점을 부여한다고 한다. 이 기준에 따르면 F를 받는 학생은 모두 몇명인가?"
      ]
    },
    {
      "cell_type": "markdown",
      "id": "ea59ba2b-d054-4239-96d1-14ef587f9d5f",
      "metadata": {
        "id": "ea59ba2b-d054-4239-96d1-14ef587f9d5f"
      },
      "source": [
        "`21`. 리스트의 정렬순서를 [학번, 이름, ..., 기말고사점수] 가 아니라 [이름, 학번, ... , 기말고사점수] 와 같이 되도록 변경하는 코드를 작성하라."
      ]
    },
    {
      "cell_type": "markdown",
      "id": "861488be-f2fa-4cc7-8b4c-14abdde0113f",
      "metadata": {
        "id": "861488be-f2fa-4cc7-8b4c-14abdde0113f"
      },
      "source": [
        "(출력예시)"
      ]
    },
    {
      "cell_type": "code",
      "execution_count": null,
      "id": "04c26c9d-2d21-4248-bc86-bd20948c99d1",
      "metadata": {
        "id": "04c26c9d-2d21-4248-bc86-bd20948c99d1",
        "outputId": "c0f781ab-49e7-4460-fa71-77adfca2503e"
      },
      "outputs": [
        {
          "data": {
            "text/plain": [
              "[['GuebinChoi', '2021-43052', 5, 10, 20, 25],\n",
              " ['Heung-min Son', '2019-12342', 10, 15, 30, 15],\n",
              " ['hynn', '2018-32234', 7, 20, 30, 15],\n",
              " ['Minji', '2022-42323', 8, 20, 20, 35],\n",
              " ['Hanni', '2023-55342', 7, 20, 30, 35],\n",
              " ['Danielle', '2022-46624', 3, 15, 30, 40],\n",
              " ['Haerin', '2022-11239', 10, 20, 30, 40],\n",
              " ['Hyein', '2022-32114', 10, 20, 20, 35]]"
            ]
          },
          "execution_count": 22,
          "metadata": {},
          "output_type": "execute_result"
        }
      ],
      "source": [
        "[[name,studentid,*rest] for studentid, name, *rest in lst]"
      ]
    },
    {
      "cell_type": "markdown",
      "id": "d7681002-2437-4440-90d4-02a940bd595a",
      "metadata": {
        "id": "d7681002-2437-4440-90d4-02a940bd595a"
      },
      "source": [
        "---"
      ]
    },
    {
      "cell_type": "markdown",
      "id": "c82769e8-4756-4128-9b44-5c637cd55463",
      "metadata": {
        "id": "c82769e8-4756-4128-9b44-5c637cd55463"
      },
      "source": [
        "다음은 인터넷에서 긁어온 어떠한 텍스트이다."
      ]
    },
    {
      "cell_type": "code",
      "execution_count": 2,
      "id": "7c42b774-6a59-4f6f-9fe9-35806682aca8",
      "metadata": {
        "id": "7c42b774-6a59-4f6f-9fe9-35806682aca8"
      },
      "outputs": [],
      "source": [
        "text = \"국내뿐 아니라 해외 인기도 심상치 않다. 2023년 1월 18일 'Ditto'가 빌보드 핫 100에 96위로 진입했다. 이는 K-pop 역사상 데뷔후 최단 빌보드 Hot 100 차트 입성 기록이다. 다른 뮤지션들이 보통 데뷔 후 수년간 쌓아온 팬덤을 기반으로 빌보드에 입성한데 비해, 뉴진스의 기록은 이례적인 것으로 평가받고 있다. 또한 'OMG'가 빌보드 핫 100에 91위로 진입한 동시에 'Ditto'는 85위로 순위가 상승, 핫 100 주간차트에 두 곡을 올려놓았다. K-Pop 역사상 이 차트에 두 곡 이상을 진입시킨 아티스트는 방탄소년단과 블랙핑크가 유일하다. 'Ditto'는 1월 셋째주 기준, 빌보드뿐만 아니라 영국 오피셜 싱글 차트 '톱 100'에 2주 연속 진입하기도 했다.\""
      ]
    },
    {
      "cell_type": "code",
      "source": [
        "# 22\n",
        "len(text.split('. '))"
      ],
      "metadata": {
        "colab": {
          "base_uri": "https://localhost:8080/"
        },
        "id": "mSRLOnpWT8LX",
        "outputId": "09364c68-9804-4380-b35b-0b4266b0137e"
      },
      "id": "mSRLOnpWT8LX",
      "execution_count": 5,
      "outputs": [
        {
          "output_type": "execute_result",
          "data": {
            "text/plain": [
              "7"
            ]
          },
          "metadata": {},
          "execution_count": 5
        }
      ]
    },
    {
      "cell_type": "code",
      "source": [
        "# 23\n",
        "[len(i.split(' ')) for i in text.replace('. ', '.').split('.')]"
      ],
      "metadata": {
        "colab": {
          "base_uri": "https://localhost:8080/"
        },
        "id": "OXuWiRTbUNOq",
        "outputId": "99faa7df-238c-4c26-e749-26f4ad6c1486"
      },
      "id": "OXuWiRTbUNOq",
      "execution_count": 14,
      "outputs": [
        {
          "output_type": "execute_result",
          "data": {
            "text/plain": [
              "[6, 9, 11, 18, 18, 12, 16, 1]"
            ]
          },
          "metadata": {},
          "execution_count": 14
        }
      ]
    },
    {
      "cell_type": "code",
      "source": [
        "# 24\n",
        "sum(['100' in i for i in text.replace('. ', '.').split('.')])"
      ],
      "metadata": {
        "colab": {
          "base_uri": "https://localhost:8080/"
        },
        "id": "tZ4DxRHyVyMR",
        "outputId": "8de1b9ea-bb21-43e9-c765-6ee6c39eaf6f"
      },
      "id": "tZ4DxRHyVyMR",
      "execution_count": 16,
      "outputs": [
        {
          "output_type": "execute_result",
          "data": {
            "text/plain": [
              "4"
            ]
          },
          "metadata": {},
          "execution_count": 16
        }
      ]
    },
    {
      "cell_type": "markdown",
      "id": "e5df15cf-a906-4ca6-b749-09cdc931edd3",
      "metadata": {
        "id": "e5df15cf-a906-4ca6-b749-09cdc931edd3"
      },
      "source": [
        "`22`. text는 총 몇개의 문장으로 이루어져 있는가?"
      ]
    },
    {
      "cell_type": "markdown",
      "id": "3ba8f37f-db0b-4835-b6fd-12ae9f690961",
      "metadata": {
        "id": "3ba8f37f-db0b-4835-b6fd-12ae9f690961"
      },
      "source": [
        "**hint:** 이 텍스트의 문장은 모두 `.`로 끝난다."
      ]
    },
    {
      "cell_type": "markdown",
      "id": "a6124a05-cd37-4517-9ba3-8fe9b1e03025",
      "metadata": {
        "id": "a6124a05-cd37-4517-9ba3-8fe9b1e03025"
      },
      "source": [
        "`23`. 각 문장은 몇개의 단어로 이루어져 있는가?"
      ]
    },
    {
      "cell_type": "markdown",
      "id": "b59ffd6c-0c41-4445-89fe-efe6bd6eebd4",
      "metadata": {
        "id": "b59ffd6c-0c41-4445-89fe-efe6bd6eebd4"
      },
      "source": [
        "**hint:** 각 단어는 공백으로 구분된다."
      ]
    },
    {
      "cell_type": "markdown",
      "id": "3593a414-f1ca-4785-9f1d-fa814978fc8a",
      "metadata": {
        "id": "3593a414-f1ca-4785-9f1d-fa814978fc8a"
      },
      "source": [
        "`24`. `100`이라는 단어가 포함된 문장은 모두 몇 개 인가?"
      ]
    },
    {
      "cell_type": "markdown",
      "id": "06c5a52b-3e9f-44b5-af63-2bdee67512f6",
      "metadata": {
        "id": "06c5a52b-3e9f-44b5-af63-2bdee67512f6"
      },
      "source": [
        "**hint:** 아래의 코드를 관찰"
      ]
    },
    {
      "cell_type": "code",
      "execution_count": null,
      "id": "0fcadeea-7e76-4c1c-8c21-05fc21ba0c6a",
      "metadata": {
        "id": "0fcadeea-7e76-4c1c-8c21-05fc21ba0c6a",
        "outputId": "4b7c736c-30b5-4e48-83d9-fc4b45a0a61b"
      },
      "outputs": [
        {
          "data": {
            "text/plain": [
              "True"
            ]
          },
          "execution_count": 61,
          "metadata": {},
          "output_type": "execute_result"
        }
      ],
      "source": [
        "'a' in 'abcd'"
      ]
    }
  ],
  "metadata": {
    "kernelspec": {
      "display_name": "Python 3 (ipykernel)",
      "language": "python",
      "name": "python3"
    },
    "language_info": {
      "codemirror_mode": {
        "name": "ipython",
        "version": 3
      },
      "file_extension": ".py",
      "mimetype": "text/x-python",
      "name": "python",
      "nbconvert_exporter": "python",
      "pygments_lexer": "ipython3",
      "version": "3.10.12"
    },
    "colab": {
      "provenance": [],
      "include_colab_link": true
    }
  },
  "nbformat": 4,
  "nbformat_minor": 5
}