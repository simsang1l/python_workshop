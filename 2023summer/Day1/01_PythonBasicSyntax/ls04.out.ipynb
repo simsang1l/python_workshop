{
  "cells": [
    {
      "cell_type": "markdown",
      "metadata": {
        "id": "014aa1fc-ca8e-4a02-bcbf-c88bfbd07029"
      },
      "source": [
        "# Lesson 04: 파이썬의 자료형 III (dict, set)\n",
        "\n",
        "최규빈  \n",
        "2023-06-24\n",
        "\n",
        "<a href=\"https://colab.research.google.com/github/guebin/PP2023SUM/blob/main/posts/Day1/01_PythonBasicSyntax/ls04.ipynb\"><img src=\"https://colab.research.google.com/assets/colab-badge.svg\" style=\"text-align: left\"></a>\n",
        "\n",
        "# 딕셔너리 기본내용\n",
        "\n",
        "## intro: str, list, tuple 정리\n",
        "\n",
        "`-` str, list, tuple은 모두 시퀀스형이라는 공통점이 있다. $\\to$ 원소의\n",
        "위치번호로 인덱싱이 가능"
      ],
      "id": "014aa1fc-ca8e-4a02-bcbf-c88bfbd07029"
    },
    {
      "cell_type": "code",
      "execution_count": null,
      "metadata": {
        "id": "0a004a5c"
      },
      "outputs": [],
      "source": [
        "lst = [1,2,3,4]"
      ],
      "id": "0a004a5c"
    },
    {
      "cell_type": "code",
      "execution_count": null,
      "metadata": {
        "id": "d573fc0e"
      },
      "outputs": [],
      "source": [
        "lst[0] # 위치번호=0"
      ],
      "id": "d573fc0e"
    },
    {
      "cell_type": "code",
      "execution_count": null,
      "metadata": {
        "id": "fc202bcb"
      },
      "outputs": [],
      "source": [
        "lst[-1] # 위치번호=-1"
      ],
      "id": "fc202bcb"
    },
    {
      "cell_type": "markdown",
      "metadata": {
        "id": "e199813c-f250-49e2-b348-6c432cba3c1d"
      },
      "source": [
        "`-` str, list, tuple은 차이점도 존재함. 잠깐 정리해보자.\n",
        "\n",
        "***시퀀스형의 카테고리***\n",
        "\n",
        "-   컨테니어형: list, tuple\n",
        "-   균일형: str\n",
        "-   가변형: list\n",
        "-   불변형: tuple, str\n",
        "\n",
        "***표로 정리하면***\n",
        "\n",
        "|        | 컨테니어형 | 균일형 |\n",
        "|:------:|:----------:|:------:|\n",
        "| 가변형 |    list    |   .    |\n",
        "| 불변형 |   tuple    |  str   |\n",
        "\n",
        "`-` 시퀀스형이 아닌 1차원 자료형도 있을까? 원소의 위치번호로 인덱싱이\n",
        "불가능한 자료형\n",
        "\n",
        "`-` 왜 이런게 필요할까?\n",
        "\n",
        "-   벡터에서 원소를 뽑는것은 정보의 모임에서 정보를 검색하는 것과 같다.\n",
        "-   정보를 `순서`대로 나열한뒤에 그 `순서`를 이용하여 검색하는 방법은\n",
        "    유용하다.\n",
        "-   하지만 경우에 따라서는 `키워드`를 기억해서 그 `키워드`를 바탕으로\n",
        "    정보에 접근하는 방법이 유용할 수 있다.\n",
        "\n",
        "***카카오톡 대화내용검색***\n",
        "\n",
        "(상황1) `오늘아침`에 와이프가 `뭔가`를 카톡으로 부탁했었음. 그런데 그\n",
        "`뭔가`가 기억안남.\n",
        "\n",
        "(상황2) `개강전에` 동료교수와 함께 `저녁약속`을 카톡으로 잡았었음.\n",
        "그런데 그게 언제인지 기억안남.\n",
        "\n",
        "(상황3) `오늘아침` 동료교수와 함께 `점심약속`을 카톡으로 잡았었음.\n",
        "그런데 그 장소가 기억나지 않음.\n",
        "\n",
        "`-` 순서대로 정리된 자료를 검색할때는 시퀀스형이 유리하다. 그런데\n",
        "키워드로 검색하고 싶을 경우는 딕셔너리 타입이 유리하다.\n",
        "\n",
        "## 선언\n",
        "\n",
        "`-` 방법1: 가장 일반적"
      ],
      "id": "e199813c-f250-49e2-b348-6c432cba3c1d"
    },
    {
      "cell_type": "code",
      "execution_count": null,
      "metadata": {
        "id": "82b8c4a1"
      },
      "outputs": [],
      "source": [
        "dct = {'guebin':49, 'hanni':80}\n",
        "dct"
      ],
      "id": "82b8c4a1"
    },
    {
      "cell_type": "markdown",
      "metadata": {
        "id": "b636998f-59e7-4965-8999-79900d83600a"
      },
      "source": [
        "`-` 방법2: `dict()` 이용"
      ],
      "id": "b636998f-59e7-4965-8999-79900d83600a"
    },
    {
      "cell_type": "code",
      "execution_count": null,
      "metadata": {
        "id": "33c920f4"
      },
      "outputs": [],
      "source": [
        "dct = dict(guebin=49, hanni=80)\n",
        "dct"
      ],
      "id": "33c920f4"
    },
    {
      "cell_type": "markdown",
      "metadata": {
        "id": "4a399c25-211c-4e27-bc42-6d784a1cdd42"
      },
      "source": [
        "`-` 방법3: 중첩된 리스트를 만든 뒤에 형태변환"
      ],
      "id": "4a399c25-211c-4e27-bc42-6d784a1cdd42"
    },
    {
      "cell_type": "code",
      "execution_count": 1,
      "metadata": {
        "id": "2249d116",
        "outputId": "269a5af3-6eb2-442e-e857-d3c36dab0e50",
        "colab": {
          "base_uri": "https://localhost:8080/"
        }
      },
      "outputs": [
        {
          "output_type": "execute_result",
          "data": {
            "text/plain": [
              "[['guebin', 49], ['hanni', 80]]"
            ]
          },
          "metadata": {},
          "execution_count": 1
        }
      ],
      "source": [
        "_lst = [['guebin',49],['hanni',80]]\n",
        "_lst"
      ],
      "id": "2249d116"
    },
    {
      "cell_type": "code",
      "execution_count": 4,
      "metadata": {
        "id": "e96f955a",
        "outputId": "963af68f-a825-41ff-8c28-1c273dc5d1e7",
        "colab": {
          "base_uri": "https://localhost:8080/"
        }
      },
      "outputs": [
        {
          "output_type": "execute_result",
          "data": {
            "text/plain": [
              "{'guebin': 49, 'hanni': 80}"
            ]
          },
          "metadata": {},
          "execution_count": 4
        }
      ],
      "source": [
        "dict(_lst)"
      ],
      "id": "e96f955a"
    },
    {
      "cell_type": "markdown",
      "metadata": {
        "id": "6ce71ff6-eef3-493e-a032-dbb4fb83d49f"
      },
      "source": [
        "`-` 방법4: 중첩된 튜플을 만든 뒤에 형태변환"
      ],
      "id": "6ce71ff6-eef3-493e-a032-dbb4fb83d49f"
    },
    {
      "cell_type": "code",
      "execution_count": 2,
      "metadata": {
        "id": "efd283bf",
        "outputId": "b735f059-ac49-4e9b-d08e-315a1bd3685e",
        "colab": {
          "base_uri": "https://localhost:8080/"
        }
      },
      "outputs": [
        {
          "output_type": "execute_result",
          "data": {
            "text/plain": [
              "(('guebin', 49), ('hanni', 80))"
            ]
          },
          "metadata": {},
          "execution_count": 2
        }
      ],
      "source": [
        "_tpl = ('guebin',49), ('hanni',80)\n",
        "_tpl"
      ],
      "id": "efd283bf"
    },
    {
      "cell_type": "code",
      "execution_count": 3,
      "metadata": {
        "id": "d0f6ea74",
        "outputId": "3fae2c52-7af0-486c-a599-ffd290166587",
        "colab": {
          "base_uri": "https://localhost:8080/"
        }
      },
      "outputs": [
        {
          "output_type": "execute_result",
          "data": {
            "text/plain": [
              "{'guebin': 49, 'hanni': 80}"
            ]
          },
          "metadata": {},
          "execution_count": 3
        }
      ],
      "source": [
        "dict(_tpl)"
      ],
      "id": "d0f6ea74"
    },
    {
      "cell_type": "markdown",
      "metadata": {
        "id": "44d135e8-c9d3-458f-a5a9-99362eaa3783"
      },
      "source": [
        "## 원소추출\n",
        "\n",
        "`-` 원소의 위치로 추출할 수 없고, key로 추출해야 한다."
      ],
      "id": "44d135e8-c9d3-458f-a5a9-99362eaa3783"
    },
    {
      "cell_type": "code",
      "execution_count": null,
      "metadata": {
        "id": "feecfeb1"
      },
      "outputs": [],
      "source": [
        "dct = {'guebin':49, 'hanni':80}\n",
        "dct"
      ],
      "id": "feecfeb1"
    },
    {
      "cell_type": "markdown",
      "metadata": {
        "id": "a451f40c-c968-4a99-a480-6a3064150322"
      },
      "source": [
        "guebin의 점수를 추출하고 싶다면?"
      ],
      "id": "a451f40c-c968-4a99-a480-6a3064150322"
    },
    {
      "cell_type": "code",
      "execution_count": null,
      "metadata": {
        "id": "1f76b4d8"
      },
      "outputs": [],
      "source": [
        "dct['guebin']"
      ],
      "id": "1f76b4d8"
    },
    {
      "cell_type": "markdown",
      "metadata": {
        "id": "a56e043b-8386-4a0b-b15b-c15de089a611"
      },
      "source": [
        "`-` 만약에 dict가 아니라 list로 정보를 저장했다면?\n",
        "\n",
        "(예제) 아래와 같은 리스트에서 guebin의 점수를 추출하고 싶다면?"
      ],
      "id": "a56e043b-8386-4a0b-b15b-c15de089a611"
    },
    {
      "cell_type": "code",
      "execution_count": null,
      "metadata": {
        "id": "3f1c71dc"
      },
      "outputs": [],
      "source": [
        "lst=[['guebin',49],['hanni',80]]\n",
        "lst"
      ],
      "id": "3f1c71dc"
    },
    {
      "cell_type": "markdown",
      "metadata": {
        "id": "e453c993-5eb6-4a37-8083-566376601aea"
      },
      "source": [
        "(풀이1)"
      ],
      "id": "e453c993-5eb6-4a37-8083-566376601aea"
    },
    {
      "cell_type": "code",
      "execution_count": null,
      "metadata": {
        "id": "203261fa"
      },
      "outputs": [],
      "source": [
        "lst[0][1] # guebin의 점수를 출력하란 의미"
      ],
      "id": "203261fa"
    },
    {
      "cell_type": "markdown",
      "metadata": {
        "id": "e6dcab0e-1dbd-4528-9808-6b40c0abcd53"
      },
      "source": [
        "(풀이2) – 진짜 최악"
      ],
      "id": "e6dcab0e-1dbd-4528-9808-6b40c0abcd53"
    },
    {
      "cell_type": "code",
      "execution_count": null,
      "metadata": {
        "id": "8c795e13"
      },
      "outputs": [],
      "source": [
        "[lst[i][1] for i in range(len(lst)) if lst[i][0] == 'guebin']"
      ],
      "id": "8c795e13"
    },
    {
      "cell_type": "markdown",
      "metadata": {
        "id": "1717ddf9-cb0f-4f92-9139-735af1270c2b"
      },
      "source": [
        "(풀이3) – 덜 최악"
      ],
      "id": "1717ddf9-cb0f-4f92-9139-735af1270c2b"
    },
    {
      "cell_type": "code",
      "execution_count": null,
      "metadata": {
        "id": "de98cd04"
      },
      "outputs": [],
      "source": [
        "[score for name,score in lst if name == 'guebin']"
      ],
      "id": "de98cd04"
    },
    {
      "cell_type": "markdown",
      "metadata": {
        "id": "366ba56f-a092-4f09-9eef-d80c56530db6"
      },
      "source": [
        "`-` ’guebin’의 점수를 추출하는 코드 비교"
      ],
      "id": "366ba56f-a092-4f09-9eef-d80c56530db6"
    },
    {
      "cell_type": "code",
      "execution_count": null,
      "metadata": {
        "id": "adf59e59"
      },
      "outputs": [],
      "source": [
        "dct['guebin'] # 코드1: 단순하고, 가독성있음"
      ],
      "id": "adf59e59"
    },
    {
      "cell_type": "code",
      "execution_count": null,
      "metadata": {
        "id": "d7605808"
      },
      "outputs": [],
      "source": [
        "lst[0][1] # 코드2: 단순하지만, 가독성이 있는건 아님"
      ],
      "id": "d7605808"
    },
    {
      "cell_type": "code",
      "execution_count": null,
      "metadata": {
        "id": "8b08f88e"
      },
      "outputs": [],
      "source": [
        "[lst[i][1] for i in range(len(lst)) if lst[i][0] =='guebin'] # 코드3: 단순하지도 않고, 가독성도 없음."
      ],
      "id": "8b08f88e"
    },
    {
      "cell_type": "code",
      "execution_count": null,
      "metadata": {
        "id": "8e07a60b"
      },
      "outputs": [],
      "source": [
        "[score for name,score in lst if name=='guebin' ] # 코드4: 단순하지 않지만, 가독성은 있음"
      ],
      "id": "8e07a60b"
    },
    {
      "cell_type": "markdown",
      "metadata": {
        "id": "16ee0ec8-c26a-4690-a8cc-72bf4b6df908"
      },
      "source": [
        "## 원소추가, 변경, 삭제"
      ],
      "id": "16ee0ec8-c26a-4690-a8cc-72bf4b6df908"
    },
    {
      "cell_type": "code",
      "execution_count": null,
      "metadata": {
        "id": "171ce1d9"
      },
      "outputs": [],
      "source": [
        "dct={'guebin':49, 'hanni':80}\n",
        "dct"
      ],
      "id": "171ce1d9"
    },
    {
      "cell_type": "markdown",
      "metadata": {
        "id": "f3670fa3-1fe9-4fb3-8f22-efa37f75860c"
      },
      "source": [
        "`-` 원소에 접근: guebin의 점수 출력"
      ],
      "id": "f3670fa3-1fe9-4fb3-8f22-efa37f75860c"
    },
    {
      "cell_type": "code",
      "execution_count": null,
      "metadata": {
        "id": "abdfe838"
      },
      "outputs": [],
      "source": [
        "dct['guebin']"
      ],
      "id": "abdfe838"
    },
    {
      "cell_type": "markdown",
      "metadata": {
        "id": "475b098c-71f4-42cd-8042-9dc8ed704d77"
      },
      "source": [
        "`-` 추가: hynn학생의 점수를 추가"
      ],
      "id": "475b098c-71f4-42cd-8042-9dc8ed704d77"
    },
    {
      "cell_type": "code",
      "execution_count": null,
      "metadata": {
        "id": "84860ec5"
      },
      "outputs": [],
      "source": [
        "dct['hynn'] = 99"
      ],
      "id": "84860ec5"
    },
    {
      "cell_type": "code",
      "execution_count": null,
      "metadata": {
        "id": "24aded48"
      },
      "outputs": [],
      "source": [
        "dct"
      ],
      "id": "24aded48"
    },
    {
      "cell_type": "markdown",
      "metadata": {
        "id": "91fc7123-82be-4f55-9c07-cdd369242552"
      },
      "source": [
        "`-` 변경: hanni의 점수를 변경"
      ],
      "id": "91fc7123-82be-4f55-9c07-cdd369242552"
    },
    {
      "cell_type": "code",
      "execution_count": null,
      "metadata": {
        "id": "41211859"
      },
      "outputs": [],
      "source": [
        "dct['hanni'] = 100"
      ],
      "id": "41211859"
    },
    {
      "cell_type": "code",
      "execution_count": null,
      "metadata": {
        "id": "2732e570"
      },
      "outputs": [],
      "source": [
        "dct"
      ],
      "id": "2732e570"
    },
    {
      "cell_type": "markdown",
      "metadata": {
        "id": "b801ea7f-355a-48d0-b37d-0cad39187fbc"
      },
      "source": [
        "`-` 삭제\n",
        "\n",
        "(방법1)"
      ],
      "id": "b801ea7f-355a-48d0-b37d-0cad39187fbc"
    },
    {
      "cell_type": "code",
      "execution_count": null,
      "metadata": {
        "id": "e8686af7"
      },
      "outputs": [],
      "source": [
        "dct={'guebin':49, 'hanni':80, 'hynn':99}\n",
        "del dct['guebin']\n",
        "dct"
      ],
      "id": "e8686af7"
    },
    {
      "cell_type": "markdown",
      "metadata": {
        "id": "83901d99-51fd-4c31-a954-7b15bf045fb5"
      },
      "source": [
        "(방법2)"
      ],
      "id": "83901d99-51fd-4c31-a954-7b15bf045fb5"
    },
    {
      "cell_type": "code",
      "execution_count": 8,
      "metadata": {
        "id": "b5e9a1c3",
        "outputId": "cc16dabb-9a97-4750-82e5-b93d70a67064",
        "colab": {
          "base_uri": "https://localhost:8080/"
        }
      },
      "outputs": [
        {
          "output_type": "execute_result",
          "data": {
            "text/plain": [
              "49"
            ]
          },
          "metadata": {},
          "execution_count": 8
        }
      ],
      "source": [
        "dct={'guebin':49, 'hanni':80, 'hynn':99}\n",
        "dct.pop('guebin')"
      ],
      "id": "b5e9a1c3"
    },
    {
      "cell_type": "code",
      "execution_count": 6,
      "metadata": {
        "id": "01ed9212",
        "outputId": "70d99ad8-d204-4638-d090-3f3e07eaece1",
        "colab": {
          "base_uri": "https://localhost:8080/"
        }
      },
      "outputs": [
        {
          "output_type": "execute_result",
          "data": {
            "text/plain": [
              "{'hanni': 80, 'hynn': 99}"
            ]
          },
          "metadata": {},
          "execution_count": 6
        }
      ],
      "source": [
        "dct"
      ],
      "id": "01ed9212"
    },
    {
      "cell_type": "markdown",
      "metadata": {
        "id": "24006ab8-e4b9-40cd-9c86-d7be846267f8"
      },
      "source": [
        "`-` 참고로 리스트였다면 이러한 삭제작업역시 비효율적이었을 것임"
      ],
      "id": "24006ab8-e4b9-40cd-9c86-d7be846267f8"
    },
    {
      "cell_type": "code",
      "execution_count": null,
      "metadata": {
        "id": "a64ede40"
      },
      "outputs": [],
      "source": [
        "lst = [['guebin',49],['hanni',80],['hynn',99]]\n",
        "lst"
      ],
      "id": "a64ede40"
    },
    {
      "cell_type": "markdown",
      "metadata": {
        "id": "84769634-b5fe-4c3d-9e93-27304cf403e9"
      },
      "source": [
        "guebin의 점수를 삭제하려면?"
      ],
      "id": "84769634-b5fe-4c3d-9e93-27304cf403e9"
    },
    {
      "cell_type": "code",
      "execution_count": null,
      "metadata": {
        "id": "809e9372"
      },
      "outputs": [],
      "source": [
        "[[name,score] for name,score in lst if name != 'guebin']"
      ],
      "id": "809e9372"
    },
    {
      "cell_type": "markdown",
      "metadata": {
        "id": "4fa813a8-46c8-4b50-be08-4d314b6ba459"
      },
      "source": [
        "## 연산\n",
        "\n",
        "`-` 하나있어요.."
      ],
      "id": "4fa813a8-46c8-4b50-be08-4d314b6ba459"
    },
    {
      "cell_type": "code",
      "execution_count": 9,
      "metadata": {
        "id": "c6f4533c",
        "outputId": "c0b3d5d9-f080-41f2-8927-7add6acfdd14",
        "colab": {
          "base_uri": "https://localhost:8080/"
        }
      },
      "outputs": [
        {
          "output_type": "execute_result",
          "data": {
            "text/plain": [
              "{'guebin': 49, 'hanni': 80}"
            ]
          },
          "metadata": {},
          "execution_count": 9
        }
      ],
      "source": [
        "dct = {'guebin':49, 'hanni':80}\n",
        "dct"
      ],
      "id": "c6f4533c"
    },
    {
      "cell_type": "code",
      "execution_count": 10,
      "metadata": {
        "id": "31feebc8",
        "outputId": "0c70de3c-7ab7-4e1d-c503-0c9cbf6949fd",
        "colab": {
          "base_uri": "https://localhost:8080/"
        }
      },
      "outputs": [
        {
          "output_type": "execute_result",
          "data": {
            "text/plain": [
              "True"
            ]
          },
          "metadata": {},
          "execution_count": 10
        }
      ],
      "source": [
        "'guebin' in dct"
      ],
      "id": "31feebc8"
    },
    {
      "cell_type": "code",
      "execution_count": 11,
      "metadata": {
        "id": "ef7e8653",
        "outputId": "a910da10-f036-4d12-f66b-8f05f3bd11ab",
        "colab": {
          "base_uri": "https://localhost:8080/"
        }
      },
      "outputs": [
        {
          "output_type": "execute_result",
          "data": {
            "text/plain": [
              "True"
            ]
          },
          "metadata": {},
          "execution_count": 11
        }
      ],
      "source": [
        "'hanni' in dct"
      ],
      "id": "ef7e8653"
    },
    {
      "cell_type": "code",
      "execution_count": 12,
      "metadata": {
        "id": "9a24c8e5",
        "outputId": "6bc59a24-44b8-4767-a5b8-ae3d3a901cd6",
        "colab": {
          "base_uri": "https://localhost:8080/"
        }
      },
      "outputs": [
        {
          "output_type": "execute_result",
          "data": {
            "text/plain": [
              "False"
            ]
          },
          "metadata": {},
          "execution_count": 12
        }
      ],
      "source": [
        "'hynn' in dct"
      ],
      "id": "9a24c8e5"
    },
    {
      "cell_type": "markdown",
      "metadata": {
        "id": "5f7e4565-80ff-41a9-b505-97e77b1df290"
      },
      "source": [
        "`-` in은 사실 다른자료형도 가능했음\n",
        "\n",
        "(관찰1)"
      ],
      "id": "5f7e4565-80ff-41a9-b505-97e77b1df290"
    },
    {
      "cell_type": "code",
      "execution_count": null,
      "metadata": {
        "id": "08545413"
      },
      "outputs": [],
      "source": [
        "'a' in 'guebin'"
      ],
      "id": "08545413"
    },
    {
      "cell_type": "code",
      "execution_count": null,
      "metadata": {
        "id": "d4a0c835"
      },
      "outputs": [],
      "source": [
        "'b' in 'guebin'"
      ],
      "id": "d4a0c835"
    },
    {
      "cell_type": "code",
      "execution_count": null,
      "metadata": {
        "id": "b1d1aed4"
      },
      "outputs": [],
      "source": [
        "'c' in 'guebin'"
      ],
      "id": "b1d1aed4"
    },
    {
      "cell_type": "markdown",
      "metadata": {
        "id": "fd9f8044-56e4-43cc-92ac-98ab683a8033"
      },
      "source": [
        "(관찰2)"
      ],
      "id": "fd9f8044-56e4-43cc-92ac-98ab683a8033"
    },
    {
      "cell_type": "code",
      "execution_count": null,
      "metadata": {
        "id": "411a3af6"
      },
      "outputs": [],
      "source": [
        "tpl = 1,2,3\n",
        "tpl"
      ],
      "id": "411a3af6"
    },
    {
      "cell_type": "code",
      "execution_count": null,
      "metadata": {
        "id": "7ac29a71"
      },
      "outputs": [],
      "source": [
        "1 in tpl"
      ],
      "id": "7ac29a71"
    },
    {
      "cell_type": "code",
      "execution_count": null,
      "metadata": {
        "id": "0388d08e"
      },
      "outputs": [],
      "source": [
        "4 in tpl"
      ],
      "id": "0388d08e"
    },
    {
      "cell_type": "markdown",
      "metadata": {
        "id": "cedc6609-9c2e-46c2-ae88-3adc5742777f"
      },
      "source": [
        "(관찰3)"
      ],
      "id": "cedc6609-9c2e-46c2-ae88-3adc5742777f"
    },
    {
      "cell_type": "code",
      "execution_count": null,
      "metadata": {
        "id": "577d2248"
      },
      "outputs": [],
      "source": [
        "lst = [['guebin',49],['hanni',80],['hynn',99]]\n",
        "lst"
      ],
      "id": "577d2248"
    },
    {
      "cell_type": "code",
      "execution_count": null,
      "metadata": {
        "id": "67be7517"
      },
      "outputs": [],
      "source": [
        "['guebin',49] in lst"
      ],
      "id": "67be7517"
    },
    {
      "cell_type": "markdown",
      "metadata": {
        "id": "e22cac20-c32a-4e05-b50a-5ca59d91370c"
      },
      "source": [
        "`-` in연산자가 dict형에 사용되면 key를 기준으로 True, False를 판단한다.\n",
        "\n",
        "## 딕셔너리 특수기능\n",
        "\n",
        "**(pop)**"
      ],
      "id": "e22cac20-c32a-4e05-b50a-5ca59d91370c"
    },
    {
      "cell_type": "code",
      "execution_count": null,
      "metadata": {
        "id": "b0224b8d"
      },
      "outputs": [],
      "source": [
        "dct = {'guebin':49, 'hanni':80}\n",
        "dct.pop('hanni')\n",
        "dct"
      ],
      "id": "b0224b8d"
    },
    {
      "cell_type": "markdown",
      "metadata": {
        "id": "49153bba-2281-4390-a998-658a20398cb3"
      },
      "source": [
        "**(get)**"
      ],
      "id": "49153bba-2281-4390-a998-658a20398cb3"
    },
    {
      "cell_type": "code",
      "execution_count": null,
      "metadata": {
        "id": "e37bec1e"
      },
      "outputs": [],
      "source": [
        "dct = {'guebin':49, 'hanni':80}\n",
        "dct"
      ],
      "id": "e37bec1e"
    },
    {
      "cell_type": "code",
      "execution_count": null,
      "metadata": {
        "id": "29820be9"
      },
      "outputs": [],
      "source": [
        "dct.get('guebin')"
      ],
      "id": "29820be9"
    },
    {
      "cell_type": "markdown",
      "metadata": {
        "id": "2dda255f-43d9-4fdc-8956-3071e6626ce7"
      },
      "source": [
        "아래와 같은 기능"
      ],
      "id": "2dda255f-43d9-4fdc-8956-3071e6626ce7"
    },
    {
      "cell_type": "code",
      "execution_count": null,
      "metadata": {
        "id": "d33791fd"
      },
      "outputs": [],
      "source": [
        "dct['guebin']"
      ],
      "id": "d33791fd"
    },
    {
      "cell_type": "markdown",
      "metadata": {
        "id": "17ea767c-fe3a-427e-a2bd-d8ddcaa9e019"
      },
      "source": [
        "미묘한 차이점이 존재함"
      ],
      "id": "17ea767c-fe3a-427e-a2bd-d8ddcaa9e019"
    },
    {
      "cell_type": "code",
      "execution_count": null,
      "metadata": {
        "id": "f1b3245e"
      },
      "outputs": [],
      "source": [
        "dct['hynn'] # hynn이 없어서 키에러 출력, 그런 key는 없다.."
      ],
      "id": "f1b3245e"
    },
    {
      "cell_type": "code",
      "execution_count": null,
      "metadata": {
        "id": "d3a6c21b"
      },
      "outputs": [],
      "source": [
        "dct.get('hynn') # hynn이 없으면 아무것도 출력안함"
      ],
      "id": "d3a6c21b"
    },
    {
      "cell_type": "markdown",
      "metadata": {
        "id": "6169746e-d6cd-4647-8d4f-83c176587f68"
      },
      "source": [
        "**(keys,values,items)**\n",
        "\n",
        "`-` .keys()는 딕셔너리의 키를 리턴한다."
      ],
      "id": "6169746e-d6cd-4647-8d4f-83c176587f68"
    },
    {
      "cell_type": "code",
      "execution_count": 13,
      "metadata": {
        "id": "8c1704ab",
        "outputId": "b1febf1e-30d6-467c-c3bc-e6941351d040",
        "colab": {
          "base_uri": "https://localhost:8080/"
        }
      },
      "outputs": [
        {
          "output_type": "execute_result",
          "data": {
            "text/plain": [
              "{'guebin': 49, 'hanni': 80}"
            ]
          },
          "metadata": {},
          "execution_count": 13
        }
      ],
      "source": [
        "dct = {'guebin':49, 'hanni':80}\n",
        "dct"
      ],
      "id": "8c1704ab"
    },
    {
      "cell_type": "code",
      "execution_count": 14,
      "metadata": {
        "id": "9486d194",
        "outputId": "975eb3d4-ce95-42e6-c3cc-4ca4df61f319",
        "colab": {
          "base_uri": "https://localhost:8080/"
        }
      },
      "outputs": [
        {
          "output_type": "execute_result",
          "data": {
            "text/plain": [
              "dict_keys(['guebin', 'hanni'])"
            ]
          },
          "metadata": {},
          "execution_count": 14
        }
      ],
      "source": [
        "_keys=dct.keys()\n",
        "_keys"
      ],
      "id": "9486d194"
    },
    {
      "cell_type": "code",
      "execution_count": 15,
      "metadata": {
        "id": "f9d4436d",
        "outputId": "006c8577-23ad-4626-ec6f-9767699b0730",
        "colab": {
          "base_uri": "https://localhost:8080/"
        }
      },
      "outputs": [
        {
          "output_type": "execute_result",
          "data": {
            "text/plain": [
              "dict_keys"
            ]
          },
          "metadata": {},
          "execution_count": 15
        }
      ],
      "source": [
        "type(_keys) # 리턴된 자료형은 이상한것임"
      ],
      "id": "f9d4436d"
    },
    {
      "cell_type": "code",
      "execution_count": 16,
      "metadata": {
        "id": "99fa6146",
        "outputId": "bd3689ce-3a90-48fd-b51a-e0a3c8820eb0",
        "colab": {
          "base_uri": "https://localhost:8080/"
        }
      },
      "outputs": [
        {
          "output_type": "execute_result",
          "data": {
            "text/plain": [
              "['guebin', 'hanni']"
            ]
          },
          "metadata": {},
          "execution_count": 16
        }
      ],
      "source": [
        "list(_keys) # 아무튼 그 이상한 자료형도 리스트화 가능"
      ],
      "id": "99fa6146"
    },
    {
      "cell_type": "markdown",
      "metadata": {
        "id": "57241831-02ba-47bd-aa5e-c45774de0a2b"
      },
      "source": [
        "`-` .values()는 딕셔너리의 값들을 리턴한다."
      ],
      "id": "57241831-02ba-47bd-aa5e-c45774de0a2b"
    },
    {
      "cell_type": "code",
      "execution_count": null,
      "metadata": {
        "id": "fc9a7692"
      },
      "outputs": [],
      "source": [
        "_values = dct.values()\n",
        "_values"
      ],
      "id": "fc9a7692"
    },
    {
      "cell_type": "code",
      "execution_count": null,
      "metadata": {
        "id": "7c26c3f7"
      },
      "outputs": [],
      "source": [
        "type(_values)"
      ],
      "id": "7c26c3f7"
    },
    {
      "cell_type": "code",
      "execution_count": null,
      "metadata": {
        "id": "068516fa"
      },
      "outputs": [],
      "source": [
        "list(_values)"
      ],
      "id": "068516fa"
    },
    {
      "cell_type": "markdown",
      "metadata": {
        "id": "50bffe0b-69db-47f4-ad96-649a0691dd51"
      },
      "source": [
        "`-` .items()는 딕셔너리의 (키,값)을 리턴한다."
      ],
      "id": "50bffe0b-69db-47f4-ad96-649a0691dd51"
    },
    {
      "cell_type": "code",
      "execution_count": null,
      "metadata": {
        "id": "10b11b90"
      },
      "outputs": [],
      "source": [
        "_items = dct.items()\n",
        "_items"
      ],
      "id": "10b11b90"
    },
    {
      "cell_type": "code",
      "execution_count": null,
      "metadata": {
        "id": "f5827635"
      },
      "outputs": [],
      "source": [
        "type(_items)"
      ],
      "id": "f5827635"
    },
    {
      "cell_type": "code",
      "execution_count": null,
      "metadata": {
        "id": "da10cc8c"
      },
      "outputs": [],
      "source": [
        "list(_items)"
      ],
      "id": "da10cc8c"
    },
    {
      "cell_type": "markdown",
      "metadata": {
        "id": "0b71c301-3653-4ff3-94ef-e3aa692f892a"
      },
      "source": [
        "## for문과 dict ($\\star$)"
      ],
      "id": "0b71c301-3653-4ff3-94ef-e3aa692f892a"
    },
    {
      "cell_type": "code",
      "execution_count": null,
      "metadata": {
        "id": "b8cd6316"
      },
      "outputs": [],
      "source": [
        "dct = {'guebin': 49, 'hanni': 80}\n",
        "dct"
      ],
      "id": "b8cd6316"
    },
    {
      "cell_type": "markdown",
      "metadata": {
        "id": "3344040a-96ca-425d-bc4c-28349209eb1d"
      },
      "source": [
        "(예시1)"
      ],
      "id": "3344040a-96ca-425d-bc4c-28349209eb1d"
    },
    {
      "cell_type": "code",
      "execution_count": null,
      "metadata": {
        "id": "a77cdba7",
        "outputId": "efdbbcbc-ee84-4529-f053-bd957dd70424"
      },
      "outputs": [
        {
          "output_type": "stream",
          "name": "stdout",
          "text": [
            "guebin\n",
            "hanni"
          ]
        }
      ],
      "source": [
        "for k in dct.keys():\n",
        "    print(k)"
      ],
      "id": "a77cdba7"
    },
    {
      "cell_type": "code",
      "execution_count": null,
      "metadata": {
        "id": "ad24d788",
        "outputId": "bbc11473-2cb8-40ef-b2d1-0ddd6bd616ca"
      },
      "outputs": [
        {
          "output_type": "stream",
          "name": "stdout",
          "text": [
            "guebin\n",
            "hanni"
          ]
        }
      ],
      "source": [
        "for k in dct:\n",
        "    print(k)"
      ],
      "id": "ad24d788"
    },
    {
      "cell_type": "markdown",
      "metadata": {
        "id": "ea127c5a-170b-44cd-a3c9-8137259c7cd9"
      },
      "source": [
        "-   딕셔너리 그자체도 for문에 넣을 수 있다.\n",
        "-   k에는 value가 삭제되어 들어간다. (즉 key만)\n",
        "-   결과를 보면 dct 대신에 dct.keys()와 list(dct)를 넣었을때와 결과가\n",
        "    같다.\n",
        "\n",
        "> Note: list(dct) 하면 key만 리턴된다.\n",
        "\n",
        "(예시2)"
      ],
      "id": "ea127c5a-170b-44cd-a3c9-8137259c7cd9"
    },
    {
      "cell_type": "code",
      "execution_count": null,
      "metadata": {
        "id": "975b8241",
        "outputId": "cf078169-1662-47f5-d76f-2d8385d5a5da"
      },
      "outputs": [
        {
          "output_type": "stream",
          "name": "stdout",
          "text": [
            "49\n",
            "80"
          ]
        }
      ],
      "source": [
        "for v in dct.values():\n",
        "    print(v)"
      ],
      "id": "975b8241"
    },
    {
      "cell_type": "markdown",
      "metadata": {
        "id": "1b9b9a58-fba4-4d1e-a7d3-a2fe2503caf6"
      },
      "source": [
        "(예시3)"
      ],
      "id": "1b9b9a58-fba4-4d1e-a7d3-a2fe2503caf6"
    },
    {
      "cell_type": "code",
      "execution_count": null,
      "metadata": {
        "id": "94be34c8",
        "outputId": "6613ecd4-1fe9-4054-db1b-5e8cd60a4921"
      },
      "outputs": [
        {
          "output_type": "stream",
          "name": "stdout",
          "text": [
            "('guebin', 49)\n",
            "('hanni', 80)"
          ]
        }
      ],
      "source": [
        "for i in dct.items():\n",
        "    print(i)"
      ],
      "id": "94be34c8"
    },
    {
      "cell_type": "markdown",
      "metadata": {
        "id": "592c5d11-e629-4146-85f0-199d2963d279"
      },
      "source": [
        "(예시4)"
      ],
      "id": "592c5d11-e629-4146-85f0-199d2963d279"
    },
    {
      "cell_type": "code",
      "execution_count": null,
      "metadata": {
        "id": "4372add4",
        "outputId": "932a9050-3b8c-4675-93b7-35d4be3cfed2"
      },
      "outputs": [
        {
          "output_type": "stream",
          "name": "stdout",
          "text": [
            "guebin 49\n",
            "hanni 80"
          ]
        }
      ],
      "source": [
        "for k,v in dct.items():\n",
        "    print(k,v)"
      ],
      "id": "4372add4"
    },
    {
      "cell_type": "markdown",
      "metadata": {
        "id": "4f507c87-5691-4285-bc86-a7f79b481907"
      },
      "source": [
        "(예시5) – {}의 중간고사 점수는 {}점 입니다."
      ],
      "id": "4f507c87-5691-4285-bc86-a7f79b481907"
    },
    {
      "cell_type": "code",
      "execution_count": null,
      "metadata": {
        "id": "7f00bc9c",
        "outputId": "c7588092-5c1f-4dcb-a8f8-47235b76cafc"
      },
      "outputs": [
        {
          "output_type": "stream",
          "name": "stdout",
          "text": [
            "guebin의 중간고사 점수는 49점 입니다.\n",
            "hanni의 중간고사 점수는 80점 입니다."
          ]
        }
      ],
      "source": [
        "for name,score in dct.items():\n",
        "    print('{}의 중간고사 점수는 {}점 입니다.'.format(name,score))"
      ],
      "id": "7f00bc9c"
    },
    {
      "cell_type": "markdown",
      "metadata": {
        "id": "bd5c4fb7-29a7-447d-955b-a503b80ee600"
      },
      "source": [
        "# 딕셔너리 고급내용 ($\\star$)\n",
        "\n",
        "## dict에서 key혹은 value만 뽑아내기\n",
        "\n",
        "`-` 예제: 아래의 dict에서 key만 뽑아내고 싶다."
      ],
      "id": "bd5c4fb7-29a7-447d-955b-a503b80ee600"
    },
    {
      "cell_type": "code",
      "execution_count": null,
      "metadata": {
        "id": "56cdcfc3"
      },
      "outputs": [],
      "source": [
        "dct = {'guebin':49, 'hanni':80}"
      ],
      "id": "56cdcfc3"
    },
    {
      "cell_type": "markdown",
      "metadata": {
        "id": "4b524478-dcae-432e-9907-794d34d748e5"
      },
      "source": [
        "(풀이1)"
      ],
      "id": "4b524478-dcae-432e-9907-794d34d748e5"
    },
    {
      "cell_type": "code",
      "execution_count": null,
      "metadata": {
        "id": "af42e466"
      },
      "outputs": [],
      "source": [
        "list(dct)"
      ],
      "id": "af42e466"
    },
    {
      "cell_type": "markdown",
      "metadata": {
        "id": "480fdf69-8d09-47c0-b946-e9a2f4dc9843"
      },
      "source": [
        "(풀이2)"
      ],
      "id": "480fdf69-8d09-47c0-b946-e9a2f4dc9843"
    },
    {
      "cell_type": "code",
      "execution_count": null,
      "metadata": {
        "id": "12ac1fd1"
      },
      "outputs": [],
      "source": [
        "list(dct.keys())"
      ],
      "id": "12ac1fd1"
    },
    {
      "cell_type": "markdown",
      "metadata": {
        "id": "d2084d01-5770-4133-8078-1bc94e8c8b0d"
      },
      "source": [
        "(풀이3)"
      ],
      "id": "d2084d01-5770-4133-8078-1bc94e8c8b0d"
    },
    {
      "cell_type": "code",
      "execution_count": null,
      "metadata": {
        "id": "238d9b6e"
      },
      "outputs": [],
      "source": [
        "[k for k in dct]"
      ],
      "id": "238d9b6e"
    },
    {
      "cell_type": "markdown",
      "metadata": {
        "id": "982ebd65-8953-44f2-94cd-1dea9baee44a"
      },
      "source": [
        "(풀이4)"
      ],
      "id": "982ebd65-8953-44f2-94cd-1dea9baee44a"
    },
    {
      "cell_type": "code",
      "execution_count": null,
      "metadata": {
        "id": "8cf4dd9f"
      },
      "outputs": [],
      "source": [
        "[k for k,v in dct.items()]"
      ],
      "id": "8cf4dd9f"
    },
    {
      "cell_type": "markdown",
      "metadata": {
        "id": "594cccca-6f7e-4e98-85d6-89e606d6f790"
      },
      "source": [
        "`-` 예제: 아래의 dict에서 value만 뽑아내고 싶다."
      ],
      "id": "594cccca-6f7e-4e98-85d6-89e606d6f790"
    },
    {
      "cell_type": "code",
      "execution_count": null,
      "metadata": {
        "id": "3a3aa56c"
      },
      "outputs": [],
      "source": [
        "dct = {'guebin':49, 'hanni':80}"
      ],
      "id": "3a3aa56c"
    },
    {
      "cell_type": "markdown",
      "metadata": {
        "id": "4786323e-ff5d-467f-8b44-ad647398bef5"
      },
      "source": [
        "(풀이1)"
      ],
      "id": "4786323e-ff5d-467f-8b44-ad647398bef5"
    },
    {
      "cell_type": "code",
      "execution_count": null,
      "metadata": {
        "id": "1a4cb5ac"
      },
      "outputs": [],
      "source": [
        "list(dct.values())"
      ],
      "id": "1a4cb5ac"
    },
    {
      "cell_type": "markdown",
      "metadata": {
        "id": "f66e0c5e-7986-4d06-8d28-e7dee019402f"
      },
      "source": [
        "(풀이2)"
      ],
      "id": "f66e0c5e-7986-4d06-8d28-e7dee019402f"
    },
    {
      "cell_type": "code",
      "execution_count": null,
      "metadata": {
        "id": "75002311"
      },
      "outputs": [],
      "source": [
        "[dct[k] for k in dct]"
      ],
      "id": "75002311"
    },
    {
      "cell_type": "markdown",
      "metadata": {
        "id": "7d4cc200-bda2-4bb0-bece-e143d62bbc8b"
      },
      "source": [
        "(풀이3)"
      ],
      "id": "7d4cc200-bda2-4bb0-bece-e143d62bbc8b"
    },
    {
      "cell_type": "code",
      "execution_count": null,
      "metadata": {
        "id": "9ecb534c"
      },
      "outputs": [],
      "source": [
        "[v for v in dct.values()]"
      ],
      "id": "9ecb534c"
    },
    {
      "cell_type": "markdown",
      "metadata": {
        "id": "9e45b410-a49f-42ed-af6a-f0e835f77ef1"
      },
      "source": [
        "(풀이4)"
      ],
      "id": "9e45b410-a49f-42ed-af6a-f0e835f77ef1"
    },
    {
      "cell_type": "code",
      "execution_count": null,
      "metadata": {
        "id": "ce57ce22"
      },
      "outputs": [],
      "source": [
        "[v for k,v in dct.items()]"
      ],
      "id": "ce57ce22"
    },
    {
      "cell_type": "markdown",
      "metadata": {
        "id": "654197c6-394c-40dd-abf4-9649c94ece92"
      },
      "source": [
        "## key의 조건\n",
        "\n",
        "`-` 조건1: 키로 쓸 수 있는 자료형은 정해져 있다.\n",
        "\n",
        "-   int O, float O, bool O, str O, list X, tuple O, dict X, set X\n",
        "\n",
        "(예시1) dict의 키로 int를 사용"
      ],
      "id": "654197c6-394c-40dd-abf4-9649c94ece92"
    },
    {
      "cell_type": "code",
      "execution_count": null,
      "metadata": {
        "id": "1a67adfe"
      },
      "outputs": [],
      "source": [
        "dct = {0:[1,2,3], 1:[2,3,4]}\n",
        "dct[0] # 인덱싱 하는거 같네?"
      ],
      "id": "1a67adfe"
    },
    {
      "cell_type": "code",
      "execution_count": null,
      "metadata": {
        "id": "fd3ab1d5"
      },
      "outputs": [],
      "source": [
        "dct[-1] # 속았지?"
      ],
      "id": "fd3ab1d5"
    },
    {
      "cell_type": "markdown",
      "metadata": {
        "id": "c23244c8-773a-4b0a-b21d-e4fd02466658"
      },
      "source": [
        "(예시2) dict의 키로 float을 사용 \\<– 이렇게 쓰는 사람 본적이 없어요"
      ],
      "id": "c23244c8-773a-4b0a-b21d-e4fd02466658"
    },
    {
      "cell_type": "code",
      "execution_count": null,
      "metadata": {
        "id": "d8be4b1d"
      },
      "outputs": [],
      "source": [
        "dct = {3.14:'π', 2.178:'e'}\n",
        "dct[3.14]"
      ],
      "id": "d8be4b1d"
    },
    {
      "cell_type": "markdown",
      "metadata": {
        "id": "11361c99-ed27-4fed-98ba-0c02a726e0d0"
      },
      "source": [
        "(예시3) dict의 키로 bool을 사용"
      ],
      "id": "11361c99-ed27-4fed-98ba-0c02a726e0d0"
    },
    {
      "cell_type": "code",
      "execution_count": 17,
      "metadata": {
        "id": "2e3dcb2a",
        "outputId": "fd98e16b-2647-4bd8-aa48-67e1ff45f4b0",
        "colab": {
          "base_uri": "https://localhost:8080/"
        }
      },
      "outputs": [
        {
          "output_type": "execute_result",
          "data": {
            "text/plain": [
              "{True: '참이다', False: '거짓이다.'}"
            ]
          },
          "metadata": {},
          "execution_count": 17
        }
      ],
      "source": [
        "dct = {True: '참이다', False: '거짓이다.'}\n",
        "dct"
      ],
      "id": "2e3dcb2a"
    },
    {
      "cell_type": "code",
      "execution_count": 18,
      "metadata": {
        "id": "2a4c4c3c",
        "outputId": "3dd0b43d-400c-4e6d-f3a5-1b27b3be7be0",
        "colab": {
          "base_uri": "https://localhost:8080/",
          "height": 36
        }
      },
      "outputs": [
        {
          "output_type": "execute_result",
          "data": {
            "text/plain": [
              "'참이다'"
            ],
            "application/vnd.google.colaboratory.intrinsic+json": {
              "type": "string"
            }
          },
          "metadata": {},
          "execution_count": 18
        }
      ],
      "source": [
        "dct[1<2]"
      ],
      "id": "2a4c4c3c"
    },
    {
      "cell_type": "code",
      "source": [
        "dct[0]"
      ],
      "metadata": {
        "id": "VIz6Tkhmipz2",
        "outputId": "71a42b8f-6f38-4e03-a4c0-9dd006499167",
        "colab": {
          "base_uri": "https://localhost:8080/",
          "height": 36
        }
      },
      "id": "VIz6Tkhmipz2",
      "execution_count": 20,
      "outputs": [
        {
          "output_type": "execute_result",
          "data": {
            "text/plain": [
              "'거짓이다.'"
            ],
            "application/vnd.google.colaboratory.intrinsic+json": {
              "type": "string"
            }
          },
          "metadata": {},
          "execution_count": 20
        }
      ]
    },
    {
      "cell_type": "markdown",
      "metadata": {
        "id": "919503ac-157e-4010-be23-d7dc8f65a3f4"
      },
      "source": [
        "(예시4) dict의 키로 str을 사용 ($\\star$)"
      ],
      "id": "919503ac-157e-4010-be23-d7dc8f65a3f4"
    },
    {
      "cell_type": "code",
      "execution_count": null,
      "metadata": {
        "id": "b4c5668d"
      },
      "outputs": [],
      "source": [
        "dct = {'guebin':[10,20,30,30], 'hanni':[10,20,25,40]}\n",
        "dct['guebin']"
      ],
      "id": "b4c5668d"
    },
    {
      "cell_type": "markdown",
      "metadata": {
        "id": "07c540ff-4d79-4562-805a-24ec2d848ab8"
      },
      "source": [
        "(예시5) dict의 키로 list를 사용 $\\Rightarrow$ 불가능"
      ],
      "id": "07c540ff-4d79-4562-805a-24ec2d848ab8"
    },
    {
      "cell_type": "code",
      "execution_count": null,
      "metadata": {
        "id": "c61a7d03"
      },
      "outputs": [],
      "source": [
        "dct = {[10,20,30,40]: 'guebin', [10,20,25,40]: 'hanni'}\n",
        "dct"
      ],
      "id": "c61a7d03"
    },
    {
      "cell_type": "markdown",
      "metadata": {
        "id": "9dd18943-82f6-464b-b5dc-061956964d41"
      },
      "source": [
        "(예시6) dict의 키로 tuple 사용 ($\\star$)"
      ],
      "id": "9dd18943-82f6-464b-b5dc-061956964d41"
    },
    {
      "cell_type": "code",
      "execution_count": null,
      "metadata": {
        "id": "4b2a6fb7"
      },
      "outputs": [],
      "source": [
        "dct = {(10,20,30,40): 'guebin', (10,20,25,40): 'hanni'}\n",
        "dct"
      ],
      "id": "4b2a6fb7"
    },
    {
      "cell_type": "code",
      "execution_count": null,
      "metadata": {
        "id": "377ced44"
      },
      "outputs": [],
      "source": [
        "dct[(10,20,30,40)]"
      ],
      "id": "377ced44"
    },
    {
      "cell_type": "code",
      "execution_count": null,
      "metadata": {
        "id": "16ee3422"
      },
      "outputs": [],
      "source": [
        "dct[10,20,30,40]"
      ],
      "id": "16ee3422"
    },
    {
      "cell_type": "markdown",
      "metadata": {
        "id": "29db774c-cc88-4c18-9e8b-d7e0e746a115"
      },
      "source": [
        "(예시7) dict의 키로 dict사용 $\\Rightarrow$ 불가능"
      ],
      "id": "29db774c-cc88-4c18-9e8b-d7e0e746a115"
    },
    {
      "cell_type": "code",
      "execution_count": null,
      "metadata": {
        "id": "41bc98b6"
      },
      "outputs": [],
      "source": [
        "dct = {{0:1}: 'guebin', {1:2}: 'hanni'}\n",
        "dct"
      ],
      "id": "41bc98b6"
    },
    {
      "cell_type": "markdown",
      "metadata": {
        "id": "50f7ffc6-8c7a-447e-a865-5a02f76e79ef"
      },
      "source": [
        "(예시8) dict의 키로 set사용 $\\Rightarrow$ 불가능"
      ],
      "id": "50f7ffc6-8c7a-447e-a865-5a02f76e79ef"
    },
    {
      "cell_type": "code",
      "execution_count": null,
      "metadata": {
        "id": "b6141cc1"
      },
      "outputs": [],
      "source": [
        "dct = {{'샌드위치','딸기우유'}:'점심', {'불고기','된장찌개','김','콩자반'}: '저녁'}\n",
        "dct"
      ],
      "id": "b6141cc1"
    },
    {
      "cell_type": "markdown",
      "metadata": {
        "id": "070ca01e-75af-4f7d-a4d8-df738a72169e"
      },
      "source": [
        "`-` 조건2: 키는 중복해서 쓸 수 없다.\n",
        "\n",
        "(예시1)"
      ],
      "id": "070ca01e-75af-4f7d-a4d8-df738a72169e"
    },
    {
      "cell_type": "code",
      "execution_count": null,
      "metadata": {
        "id": "adb22e72"
      },
      "outputs": [],
      "source": [
        "dct = {0:[1,2,3], 1:[2,3,4], 0:[3,4,5]} # 이렇게 쓰지 마세요\n",
        "dct"
      ],
      "id": "adb22e72"
    },
    {
      "cell_type": "markdown",
      "metadata": {
        "id": "6498f067-732d-4d8a-abc8-e47f71fc32e9"
      },
      "source": [
        "## value의 조건\n",
        "\n",
        "`-` 없다… $\\Rightarrow$ dict는 컨테이너형!!\n",
        "\n",
        "## 바꿔치기 (1)\n",
        "\n",
        "`-` 예제1: 아래와 같은 리스트가 있다고 하자."
      ],
      "id": "6498f067-732d-4d8a-abc8-e47f71fc32e9"
    },
    {
      "cell_type": "code",
      "execution_count": null,
      "metadata": {
        "id": "41ffa621"
      },
      "outputs": [],
      "source": [
        "lst = list('abcd'*2)\n",
        "lst"
      ],
      "id": "41ffa621"
    },
    {
      "cell_type": "markdown",
      "metadata": {
        "id": "7ca58ea0-d8f7-4bbb-856f-e070684db5bc"
      },
      "source": [
        "아래의 규칙에 의하여 lst의 각 원소의 값을 바꾸고 싶다고 하자. 이를\n",
        "구현하는 코드를 작성하라.\n",
        "\n",
        "| 변환전 |   변환후    |\n",
        "|:------:|:-----------:|\n",
        "|  ‘a’   | \\[1,0,0,0\\] |\n",
        "|  ‘b’   | \\[0,1,0,0\\] |\n",
        "|  ‘c’   | \\[0,0,1,0\\] |\n",
        "|  ‘d’   | \\[0,0,0,1\\] |\n",
        "\n",
        "hint: 아래의 dct를 이용할 것"
      ],
      "id": "7ca58ea0-d8f7-4bbb-856f-e070684db5bc"
    },
    {
      "cell_type": "code",
      "execution_count": null,
      "metadata": {
        "id": "d3567e5f"
      },
      "outputs": [],
      "source": [
        "lst = list('abcd'*2)\n",
        "lst"
      ],
      "id": "d3567e5f"
    },
    {
      "cell_type": "code",
      "execution_count": null,
      "metadata": {
        "id": "adbd715d"
      },
      "outputs": [],
      "source": [
        "dct = {'a':[1,0,0,0], 'b':[0,1,0,0], 'c':[0,0,1,0], 'd':[0,0,0,1]}\n",
        "dct"
      ],
      "id": "adbd715d"
    },
    {
      "cell_type": "markdown",
      "metadata": {
        "id": "7330b8fa-002e-4748-949e-65ff9c48340a"
      },
      "source": [
        "(풀이)"
      ],
      "id": "7330b8fa-002e-4748-949e-65ff9c48340a"
    },
    {
      "cell_type": "code",
      "execution_count": null,
      "metadata": {
        "id": "384b66c9"
      },
      "outputs": [],
      "source": [
        "[dct[x] for x in lst]"
      ],
      "id": "384b66c9"
    },
    {
      "cell_type": "markdown",
      "metadata": {
        "id": "344a0126-0602-4dc3-8924-0d4876fd1efe"
      },
      "source": [
        "`-` 예제2: 예제1을 역변환하라."
      ],
      "id": "344a0126-0602-4dc3-8924-0d4876fd1efe"
    },
    {
      "cell_type": "code",
      "execution_count": 21,
      "metadata": {
        "id": "76d5db87"
      },
      "outputs": [],
      "source": [
        "dct = {'a':[1,0,0,0], 'b':[0,1,0,0], 'c':[0,0,1,0], 'd':[0,0,0,1]}"
      ],
      "id": "76d5db87"
    },
    {
      "cell_type": "code",
      "execution_count": 22,
      "metadata": {
        "id": "a637e6c9",
        "outputId": "76e826ce-1736-468b-c3bb-ced0dc59ed70",
        "colab": {
          "base_uri": "https://localhost:8080/"
        }
      },
      "outputs": [
        {
          "output_type": "execute_result",
          "data": {
            "text/plain": [
              "[[1, 0, 0, 0],\n",
              " [0, 1, 0, 0],\n",
              " [0, 0, 1, 0],\n",
              " [0, 0, 0, 1],\n",
              " [1, 0, 0, 0],\n",
              " [0, 1, 0, 0],\n",
              " [0, 0, 1, 0],\n",
              " [0, 0, 0, 1]]"
            ]
          },
          "metadata": {},
          "execution_count": 22
        }
      ],
      "source": [
        "lst= [[1, 0, 0, 0],\n",
        "      [0, 1, 0, 0],\n",
        "      [0, 0, 1, 0],\n",
        "      [0, 0, 0, 1],\n",
        "      [1, 0, 0, 0],\n",
        "      [0, 1, 0, 0],\n",
        "      [0, 0, 1, 0],\n",
        "      [0, 0, 0, 1]]\n",
        "lst"
      ],
      "id": "a637e6c9"
    },
    {
      "cell_type": "markdown",
      "metadata": {
        "id": "ecc48280-e0f9-40e2-8c58-a9ce0474ae54"
      },
      "source": [
        "(풀이)"
      ],
      "id": "ecc48280-e0f9-40e2-8c58-a9ce0474ae54"
    },
    {
      "cell_type": "code",
      "execution_count": 23,
      "metadata": {
        "id": "36f7966e",
        "outputId": "10d84be7-e03f-4558-be1d-e5420ca4d61c",
        "colab": {
          "base_uri": "https://localhost:8080/"
        }
      },
      "outputs": [
        {
          "output_type": "execute_result",
          "data": {
            "text/plain": [
              "['a', 'b', 'c', 'd', 'a', 'b', 'c', 'd']"
            ]
          },
          "metadata": {},
          "execution_count": 23
        }
      ],
      "source": [
        "[x for l in lst for x,y in dct.items() if y == l]"
      ],
      "id": "36f7966e"
    },
    {
      "cell_type": "markdown",
      "metadata": {
        "id": "9e0d1216-9315-42bf-9191-41a9ff6024c4"
      },
      "source": [
        "## 바꿔치기 (2)\n",
        "\n",
        "`-` 예제1: 아래와 같은 리스트를 고려하자."
      ],
      "id": "9e0d1216-9315-42bf-9191-41a9ff6024c4"
    },
    {
      "cell_type": "code",
      "execution_count": null,
      "metadata": {
        "id": "018e7986"
      },
      "outputs": [],
      "source": [
        "lst = ['딸기','사과','바나나','딸기','사과','오토바이','자동차','버스','기차','오토바이','자동차']"
      ],
      "id": "018e7986"
    },
    {
      "cell_type": "markdown",
      "metadata": {
        "id": "1a0d955b-7cf6-4f1e-afe5-6aec16176a59"
      },
      "source": [
        "다음의 맵핑규칙에 따라서 위의 리스트의 원소를 바꾸어라.\n",
        "\n",
        "|  변환전  | 변환후 |\n",
        "|:--------:|:------:|\n",
        "|   딸기   |  과일  |\n",
        "|   사과   |  과일  |\n",
        "|  바나나  |  과일  |\n",
        "| 오토바이 |  탈것  |\n",
        "|  자동차  |  탈것  |\n",
        "|   버스   |  탈것  |\n",
        "|   기차   |  탈것  |\n",
        "\n",
        "(풀이)"
      ],
      "id": "1a0d955b-7cf6-4f1e-afe5-6aec16176a59"
    },
    {
      "cell_type": "code",
      "execution_count": 26,
      "metadata": {
        "id": "3b1443c0",
        "outputId": "7fd641ba-a8ac-4daa-c3d1-6e7994fb4749",
        "colab": {
          "base_uri": "https://localhost:8080/"
        }
      },
      "outputs": [
        {
          "output_type": "execute_result",
          "data": {
            "text/plain": [
              "{'과일': ['딸기', '사과', '바나나'], '탈것': ['오토바이', '자동차', '버스', '기차']}"
            ]
          },
          "metadata": {},
          "execution_count": 26
        }
      ],
      "source": [
        "dct = {'과일':['딸기','사과','바나나'], '탈것':['오토바이','자동차','버스','기차']}\n",
        "dct"
      ],
      "id": "3b1443c0"
    },
    {
      "cell_type": "code",
      "execution_count": 27,
      "metadata": {
        "id": "166ef1e0",
        "outputId": "318138fa-685c-498d-e9dc-d01f5e92e5fb",
        "colab": {
          "base_uri": "https://localhost:8080/"
        }
      },
      "outputs": [
        {
          "output_type": "execute_result",
          "data": {
            "text/plain": [
              "[]"
            ]
          },
          "metadata": {},
          "execution_count": 27
        }
      ],
      "source": [
        "[x for l in lst for x,y in dct.items() if l in y]"
      ],
      "id": "166ef1e0"
    },
    {
      "cell_type": "markdown",
      "metadata": {
        "id": "6dfdddeb-78bf-4233-bf2b-296656d8c688"
      },
      "source": [
        "# 집합 기본내용\n",
        "\n",
        "## 선언"
      ],
      "id": "6dfdddeb-78bf-4233-bf2b-296656d8c688"
    },
    {
      "cell_type": "code",
      "execution_count": 28,
      "metadata": {
        "id": "2c0d3111",
        "outputId": "f170e3c9-b9a3-4916-fa08-dac9e6efb7be",
        "colab": {
          "base_uri": "https://localhost:8080/"
        }
      },
      "outputs": [
        {
          "output_type": "execute_result",
          "data": {
            "text/plain": [
              "{'desktop', 'notebook'}"
            ]
          },
          "metadata": {},
          "execution_count": 28
        }
      ],
      "source": [
        "wishlist={'notebook','desktop'}\n",
        "wishlist"
      ],
      "id": "2c0d3111"
    },
    {
      "cell_type": "markdown",
      "metadata": {
        "id": "9924e65d-9a69-4ea4-8347-6799848f99b7"
      },
      "source": [
        "## 원소추출\n",
        "\n",
        "`-` 일단 인덱스로는 못합니다."
      ],
      "id": "9924e65d-9a69-4ea4-8347-6799848f99b7"
    },
    {
      "cell_type": "code",
      "execution_count": 29,
      "metadata": {
        "id": "6c4f7cc0",
        "outputId": "120d4de1-ba2e-4ea7-b7f8-03b329e748d1",
        "colab": {
          "base_uri": "https://localhost:8080/",
          "height": 194
        }
      },
      "outputs": [
        {
          "output_type": "error",
          "ename": "TypeError",
          "evalue": "ignored",
          "traceback": [
            "\u001b[0;31m---------------------------------------------------------------------------\u001b[0m",
            "\u001b[0;31mTypeError\u001b[0m                                 Traceback (most recent call last)",
            "\u001b[0;32m<ipython-input-29-be25e7f6ab81>\u001b[0m in \u001b[0;36m<cell line: 2>\u001b[0;34m()\u001b[0m\n\u001b[1;32m      1\u001b[0m \u001b[0mwishlist\u001b[0m\u001b[0;34m=\u001b[0m\u001b[0;34m{\u001b[0m\u001b[0;34m'notebook'\u001b[0m\u001b[0;34m,\u001b[0m\u001b[0;34m'desktop'\u001b[0m\u001b[0;34m}\u001b[0m\u001b[0;34m\u001b[0m\u001b[0;34m\u001b[0m\u001b[0m\n\u001b[0;32m----> 2\u001b[0;31m \u001b[0mwishlist\u001b[0m\u001b[0;34m[\u001b[0m\u001b[0;36m0\u001b[0m\u001b[0;34m]\u001b[0m\u001b[0;34m\u001b[0m\u001b[0;34m\u001b[0m\u001b[0m\n\u001b[0m",
            "\u001b[0;31mTypeError\u001b[0m: 'set' object is not subscriptable"
          ]
        }
      ],
      "source": [
        "wishlist={'notebook','desktop'}\n",
        "wishlist[0]"
      ],
      "id": "6c4f7cc0"
    },
    {
      "cell_type": "markdown",
      "metadata": {
        "id": "c105835a-d3b5-4116-a049-c0b7d81241e0"
      },
      "source": [
        "`-` 딱히 하는 방법이 없어요.. 그리고 이걸 하는 의미가 없어요.. (원소에\n",
        "접근해서 뭐하려고??)\n",
        "\n",
        "## 원소추가\n",
        "\n",
        "`-` 이건 의미가 있음"
      ],
      "id": "c105835a-d3b5-4116-a049-c0b7d81241e0"
    },
    {
      "cell_type": "code",
      "execution_count": null,
      "metadata": {
        "id": "152b1f83"
      },
      "outputs": [],
      "source": [
        "wishlist={'notebook','desktop'}\n",
        "wishlist"
      ],
      "id": "152b1f83"
    },
    {
      "cell_type": "code",
      "execution_count": null,
      "metadata": {
        "id": "7f47b3a2"
      },
      "outputs": [],
      "source": [
        "wishlist.add('ipad')\n",
        "wishlist"
      ],
      "id": "7f47b3a2"
    },
    {
      "cell_type": "code",
      "execution_count": null,
      "metadata": {
        "id": "38f8ba25"
      },
      "outputs": [],
      "source": [
        "wishlist.add('notebook') # 이미 원소로 있는건 추가되지 않음.\n",
        "wishlist"
      ],
      "id": "38f8ba25"
    },
    {
      "cell_type": "markdown",
      "metadata": {
        "id": "06892e4f-dae5-425c-826c-c21c811c105e"
      },
      "source": [
        "## 원소삭제"
      ],
      "id": "06892e4f-dae5-425c-826c-c21c811c105e"
    },
    {
      "cell_type": "code",
      "execution_count": null,
      "metadata": {
        "id": "88a4e681"
      },
      "outputs": [],
      "source": [
        "wishlist={'desktop', 'ipad', 'notebook'}\n",
        "wishlist"
      ],
      "id": "88a4e681"
    },
    {
      "cell_type": "code",
      "execution_count": null,
      "metadata": {
        "id": "ae5e0bbf"
      },
      "outputs": [],
      "source": [
        "wishlist.remove('notebook')"
      ],
      "id": "ae5e0bbf"
    },
    {
      "cell_type": "code",
      "execution_count": null,
      "metadata": {
        "id": "768aa659"
      },
      "outputs": [],
      "source": [
        "wishlist"
      ],
      "id": "768aa659"
    },
    {
      "cell_type": "markdown",
      "metadata": {
        "id": "565e18ca-68de-485a-830b-9e619692b20a"
      },
      "source": [
        "## 연산\n",
        "\n",
        "`-` in 연산자"
      ],
      "id": "565e18ca-68de-485a-830b-9e619692b20a"
    },
    {
      "cell_type": "code",
      "execution_count": null,
      "metadata": {
        "id": "10d1708b"
      },
      "outputs": [],
      "source": [
        "wishlist={'desktop', 'ipad', 'notebook'}\n",
        "wishlist"
      ],
      "id": "10d1708b"
    },
    {
      "cell_type": "code",
      "execution_count": null,
      "metadata": {
        "id": "43077b1a"
      },
      "outputs": [],
      "source": [
        "'notebook' in wishlist"
      ],
      "id": "43077b1a"
    },
    {
      "cell_type": "markdown",
      "metadata": {
        "id": "914c7edf-26ca-48ce-9388-5d37c5a42755"
      },
      "source": [
        "-   참고로 `in`연산자는 집합에서만 쓰는것은 아님\n",
        "\n",
        "`-` 합집합, 교집합, 차집합"
      ],
      "id": "914c7edf-26ca-48ce-9388-5d37c5a42755"
    },
    {
      "cell_type": "code",
      "execution_count": null,
      "metadata": {
        "id": "358ae9e0"
      },
      "outputs": [],
      "source": [
        "day1 = {'notebook','desktop'}\n",
        "day2 = {'notebook','ipad'}"
      ],
      "id": "358ae9e0"
    },
    {
      "cell_type": "code",
      "execution_count": null,
      "metadata": {
        "id": "f23defef"
      },
      "outputs": [],
      "source": [
        "day1 | day2 # 합집합"
      ],
      "id": "f23defef"
    },
    {
      "cell_type": "code",
      "execution_count": null,
      "metadata": {
        "id": "788765a5"
      },
      "outputs": [],
      "source": [
        "day1 & day2 # 교집합"
      ],
      "id": "788765a5"
    },
    {
      "cell_type": "code",
      "execution_count": null,
      "metadata": {
        "id": "99361a25"
      },
      "outputs": [],
      "source": [
        "day1 - day2 # 차집합"
      ],
      "id": "99361a25"
    },
    {
      "cell_type": "code",
      "execution_count": null,
      "metadata": {
        "id": "5a4e0fa2"
      },
      "outputs": [],
      "source": [
        "day2 - day1 # 차집합"
      ],
      "id": "5a4e0fa2"
    },
    {
      "cell_type": "markdown",
      "metadata": {
        "id": "c77c1f28-cc90-47e8-b688-87c9dbf1d398"
      },
      "source": [
        "`-` 부분집합"
      ],
      "id": "c77c1f28-cc90-47e8-b688-87c9dbf1d398"
    },
    {
      "cell_type": "code",
      "execution_count": 31,
      "metadata": {
        "id": "e9baf29b"
      },
      "outputs": [],
      "source": [
        "day1 = {'notebook', 'desktop'}\n",
        "day2 = day1 | {'ipad'}"
      ],
      "id": "e9baf29b"
    },
    {
      "cell_type": "code",
      "execution_count": 32,
      "metadata": {
        "id": "ee507933",
        "outputId": "55b02de0-3a2f-488c-8716-fc6c5e829f33",
        "colab": {
          "base_uri": "https://localhost:8080/"
        }
      },
      "outputs": [
        {
          "output_type": "execute_result",
          "data": {
            "text/plain": [
              "True"
            ]
          },
          "metadata": {},
          "execution_count": 32
        }
      ],
      "source": [
        "day1 < day2  # day1는 day2의 부분집합인가?"
      ],
      "id": "ee507933"
    },
    {
      "cell_type": "code",
      "execution_count": 33,
      "metadata": {
        "id": "c86ab110",
        "outputId": "d76e9ce9-dc7c-4a59-f262-54aced516da3",
        "colab": {
          "base_uri": "https://localhost:8080/"
        }
      },
      "outputs": [
        {
          "output_type": "execute_result",
          "data": {
            "text/plain": [
              "False"
            ]
          },
          "metadata": {},
          "execution_count": 33
        }
      ],
      "source": [
        "day2 < day1"
      ],
      "id": "c86ab110"
    },
    {
      "cell_type": "markdown",
      "metadata": {
        "id": "f115772c-355e-4c6b-825b-adf1de2b1e91"
      },
      "source": [
        "## 집합 특수기능\n",
        "\n",
        "`-` 합집합"
      ],
      "id": "f115772c-355e-4c6b-825b-adf1de2b1e91"
    },
    {
      "cell_type": "code",
      "execution_count": 34,
      "metadata": {
        "id": "e04edb6f"
      },
      "outputs": [],
      "source": [
        "day1 = {'notebook', 'desktop'}\n",
        "day2 = {'notebook','ipad'}"
      ],
      "id": "e04edb6f"
    },
    {
      "cell_type": "code",
      "execution_count": 35,
      "metadata": {
        "id": "71f52e73",
        "outputId": "87f930cf-2113-487e-dd72-a095082e57bc",
        "colab": {
          "base_uri": "https://localhost:8080/"
        }
      },
      "outputs": [
        {
          "output_type": "execute_result",
          "data": {
            "text/plain": [
              "{'desktop', 'ipad', 'notebook'}"
            ]
          },
          "metadata": {},
          "execution_count": 35
        }
      ],
      "source": [
        "day1.union(day2)"
      ],
      "id": "71f52e73"
    },
    {
      "cell_type": "markdown",
      "metadata": {
        "id": "38471167-9b9d-4128-ad91-50736775ff9d"
      },
      "source": [
        "`-` 나머지 메소드는 스스로 찾아보세요\n",
        "\n",
        "## for문과 set"
      ],
      "id": "38471167-9b9d-4128-ad91-50736775ff9d"
    },
    {
      "cell_type": "code",
      "execution_count": 36,
      "metadata": {
        "id": "1392101f"
      },
      "outputs": [],
      "source": [
        "day1 = {'notebook', 'desktop'}\n",
        "day2 = {'notebook', 'ipad'}"
      ],
      "id": "1392101f"
    },
    {
      "cell_type": "code",
      "execution_count": 37,
      "metadata": {
        "id": "e7e89236",
        "outputId": "3a374035-3e10-4ccb-bdd6-7e5b895c06e3",
        "colab": {
          "base_uri": "https://localhost:8080/"
        }
      },
      "outputs": [
        {
          "output_type": "stream",
          "name": "stdout",
          "text": [
            "notebook\n",
            "desktop\n",
            "ipad\n"
          ]
        }
      ],
      "source": [
        "for i in day1|day2:\n",
        "    print(i)"
      ],
      "id": "e7e89236"
    },
    {
      "cell_type": "markdown",
      "metadata": {
        "id": "68930369-431b-4a7d-aed7-77f4a29d383d"
      },
      "source": [
        "# 집합 고급내용\n",
        "\n",
        "## set 컴프리헨션\n",
        "\n",
        "`-` 예시1"
      ],
      "id": "68930369-431b-4a7d-aed7-77f4a29d383d"
    },
    {
      "cell_type": "code",
      "execution_count": 38,
      "metadata": {
        "id": "06371846",
        "outputId": "7974defa-ce64-4aae-ed67-c67173cb53b8",
        "colab": {
          "base_uri": "https://localhost:8080/"
        }
      },
      "outputs": [
        {
          "output_type": "execute_result",
          "data": {
            "text/plain": [
              "{1, 2, 3, 4, 5}"
            ]
          },
          "metadata": {},
          "execution_count": 38
        }
      ],
      "source": [
        "lst = [1,2,1,1,3,4,5]\n",
        "{l for l in lst}"
      ],
      "id": "06371846"
    },
    {
      "cell_type": "markdown",
      "metadata": {
        "id": "c8639cdf-c904-4759-b3f7-166842f60d5f"
      },
      "source": [
        "## 유니크한 원소\n",
        "\n",
        "`-` 예제1: 아래의 list는 모두 몇 종류의 문자로 이루어져 있는가?"
      ],
      "id": "c8639cdf-c904-4759-b3f7-166842f60d5f"
    },
    {
      "cell_type": "code",
      "execution_count": 39,
      "metadata": {
        "id": "874db77e"
      },
      "outputs": [],
      "source": [
        "lst=list('asdfasssdfdsasdfasdfasdfasdf')"
      ],
      "id": "874db77e"
    },
    {
      "cell_type": "markdown",
      "metadata": {
        "id": "fe3d31fd-545e-430b-ace9-d5d13ce20bad"
      },
      "source": [
        "(풀이)"
      ],
      "id": "fe3d31fd-545e-430b-ace9-d5d13ce20bad"
    },
    {
      "cell_type": "code",
      "execution_count": 40,
      "metadata": {
        "id": "6dccff65",
        "outputId": "4c7568b7-c991-4c2e-c767-0a9317193720",
        "colab": {
          "base_uri": "https://localhost:8080/"
        }
      },
      "outputs": [
        {
          "output_type": "execute_result",
          "data": {
            "text/plain": [
              "{'a', 'd', 'f', 's'}"
            ]
          },
          "metadata": {},
          "execution_count": 40
        }
      ],
      "source": [
        "set(lst)"
      ],
      "id": "6dccff65"
    },
    {
      "cell_type": "code",
      "execution_count": 41,
      "metadata": {
        "id": "9c8bd1df",
        "outputId": "404fe806-de83-43dd-8cf1-064fe685f4c2",
        "colab": {
          "base_uri": "https://localhost:8080/"
        }
      },
      "outputs": [
        {
          "output_type": "execute_result",
          "data": {
            "text/plain": [
              "4"
            ]
          },
          "metadata": {},
          "execution_count": 41
        }
      ],
      "source": [
        "len(set(lst))"
      ],
      "id": "9c8bd1df"
    },
    {
      "cell_type": "markdown",
      "metadata": {
        "id": "38d0d140-64df-4b5d-871c-52cfe7fa4428"
      },
      "source": [
        "`-` 예제2: 아래의 txt에서 어떠한 종류의 문자가 각각 몇번씩 사용되었는지\n",
        "빈도를 구하는 코드를 작성하라."
      ],
      "id": "38d0d140-64df-4b5d-871c-52cfe7fa4428"
    },
    {
      "cell_type": "code",
      "execution_count": 42,
      "metadata": {
        "id": "45ab58ec",
        "outputId": "869e517e-743f-48be-e24a-177e5a67e465",
        "colab": {
          "base_uri": "https://localhost:8080/",
          "height": 36
        }
      },
      "outputs": [
        {
          "output_type": "execute_result",
          "data": {
            "text/plain": [
              "'asdkflkjahsdlkjfhlaksglkjdhflkgjhlskdfjhglkajhsdlkfjhalsdkf'"
            ],
            "application/vnd.google.colaboratory.intrinsic+json": {
              "type": "string"
            }
          },
          "metadata": {},
          "execution_count": 42
        }
      ],
      "source": [
        "txt = 'asdkflkjahsdlkjfhlaksglkjdhflkgjhlskdfjhglkajhsdlkfjhalsdkf'\n",
        "txt"
      ],
      "id": "45ab58ec"
    },
    {
      "cell_type": "markdown",
      "metadata": {
        "id": "061e3e0c-bd7e-44da-906f-76c2c37c3716"
      },
      "source": [
        "(풀이)"
      ],
      "id": "061e3e0c-bd7e-44da-906f-76c2c37c3716"
    },
    {
      "cell_type": "code",
      "execution_count": 44,
      "metadata": {
        "id": "47493e64",
        "outputId": "76d744d2-83fc-49bf-c8da-4637d3866f9f",
        "colab": {
          "base_uri": "https://localhost:8080/"
        }
      },
      "outputs": [
        {
          "output_type": "execute_result",
          "data": {
            "text/plain": [
              "{'j': 7, 'd': 6, 'l': 9, 'f': 6, 's': 6, 'k': 10, 'a': 5, 'g': 3, 'h': 7}"
            ]
          },
          "metadata": {},
          "execution_count": 44
        }
      ],
      "source": [
        "{k:list(txt).count(k) for k in set(txt)}"
      ],
      "id": "47493e64"
    },
    {
      "cell_type": "markdown",
      "metadata": {
        "id": "3de0776d-8202-45b8-925a-cb6f3720714f"
      },
      "source": [
        "# Quiz\n",
        "\n",
        "`1`. 아래와 같은 맵핑을 고려하자.\n",
        "\n",
        "| 문자 | 숫자 |\n",
        "|:----:|:----:|\n",
        "|  a   |  1   |\n",
        "|  b   |  0   |\n",
        "\n",
        "이를 딕셔너리로 표현하면 아래와 같다."
      ],
      "id": "3de0776d-8202-45b8-925a-cb6f3720714f"
    },
    {
      "cell_type": "code",
      "execution_count": 45,
      "metadata": {
        "id": "1462130a"
      },
      "outputs": [],
      "source": [
        "dct = {'a':0, 'b':1}"
      ],
      "id": "1462130a"
    },
    {
      "cell_type": "markdown",
      "metadata": {
        "id": "8cb95cd8-d955-4dd7-9320-5fec604d8436"
      },
      "source": [
        "위 규칙에 따라서 아래의 리스트의 원소를 문자로 각각 변환하라."
      ],
      "id": "8cb95cd8-d955-4dd7-9320-5fec604d8436"
    },
    {
      "cell_type": "code",
      "execution_count": 46,
      "metadata": {
        "id": "707619c1"
      },
      "outputs": [],
      "source": [
        "lst = [1, 0, 1, 0, 1, 0, 1, 1, 1, 1, 0, 0, 1, 0, 1]"
      ],
      "id": "707619c1"
    },
    {
      "cell_type": "code",
      "source": [
        "[for i in lst for k, v in dct if dct[k] == i]"
      ],
      "metadata": {
        "id": "GUyp4SfwoB7j"
      },
      "id": "GUyp4SfwoB7j",
      "execution_count": null,
      "outputs": []
    },
    {
      "cell_type": "markdown",
      "metadata": {
        "id": "eacd9b0b-7d29-4b09-beb6-c5585ec8caca"
      },
      "source": [
        "``` python\n",
        "# 출력은 아래와 같아야 한다.\n",
        "['b', 'a', 'b', 'a', 'b', 'a', 'b', 'b', 'b', 'b', 'a', 'a', 'b', 'a', 'b']\n",
        "```\n",
        "\n",
        "`2`. 아래와 같은 맵핑을 고려하자.\n",
        "\n",
        "|     월     |   의미   |\n",
        "|:----------:|:--------:|\n",
        "|    1,2     | 겨울방학 |\n",
        "|  3,4,5,6   |  1학기   |\n",
        "|    7,8     | 여름방학 |\n",
        "| 9,10,11,12 |  2학기   |\n",
        "\n",
        "이러한 규칙에 맞게 아래의 리스트를 적절한 문자열로 변환하라."
      ],
      "id": "eacd9b0b-7d29-4b09-beb6-c5585ec8caca"
    },
    {
      "cell_type": "code",
      "execution_count": null,
      "metadata": {
        "id": "91404712"
      },
      "outputs": [],
      "source": [
        "month = [1,2,2,3,4,5,6,7,8,9,9,10,11,12]"
      ],
      "id": "91404712"
    },
    {
      "cell_type": "markdown",
      "metadata": {
        "id": "0be73cb6-2968-4170-bccb-62bd1c9eee78"
      },
      "source": [
        "``` python\n",
        "## 출력은 아래와 같아야 한다.\n",
        "['겨울방학', '겨울방학', '겨울방학', '1학기', '1학기', '1학기', '1학기', '여름방학', '여름방학', '2학기', '2학기', '2학기', '2학기', '2학기']\n",
        "```\n",
        "\n",
        "`합성변환` 3-5.\n",
        "\n",
        "아래와 같은 맵핑을 고려하자.\n",
        "\n",
        "(규칙1)\n",
        "\n",
        "|   문자   | 숫자 |\n",
        "|:--------:|:----:|\n",
        "|  바나나  |  0   |\n",
        "|   사과   |  1   |\n",
        "| 오토바이 |  2   |\n",
        "|  자동차  |  3   |\n",
        "|  자전거  |  4   |\n",
        "\n",
        "(규칙2)\n",
        "\n",
        "|  아이템  | 카테고리 |\n",
        "|:--------:|:--------:|\n",
        "|  바나나  |   과일   |\n",
        "|   사과   |   과일   |\n",
        "| 오토바이 |   탈것   |\n",
        "|  자동차  |   탈것   |\n",
        "|  자전거  |   탈것   |\n",
        "\n",
        "각각의 규칙을 나타내는 딕셔너리는 아래와 같이 선언되어있다고 하자."
      ],
      "id": "0be73cb6-2968-4170-bccb-62bd1c9eee78"
    },
    {
      "cell_type": "code",
      "execution_count": null,
      "metadata": {
        "id": "5a658452"
      },
      "outputs": [],
      "source": [
        "dct1 = {'바나나':0, '사과':1, '오토바이':2, '자동차':3, '자전거':4}\n",
        "dct2 = {'과일':['바나나','사과'], '탈것':['오토바이','자동차','자전거']}"
      ],
      "id": "5a658452"
    },
    {
      "cell_type": "markdown",
      "metadata": {
        "id": "ef69b3c1-d00b-4d2c-a595-3bf0e1fe3b02"
      },
      "source": [
        "`3`. 규칙1를 이용하여 아래와 같은 리스트를 변환하는 함수를 구현하고 그\n",
        "함수를 `f`라 선언하라.\n",
        "\n",
        "``` python\n",
        "# 입력\n",
        "[0,1,0,1,4]\n",
        "\n",
        "# 출력\n",
        "['바나나', '사과', '바나나', '사과', '자전거']\n",
        "```\n",
        "\n",
        "(사용예시)"
      ],
      "id": "ef69b3c1-d00b-4d2c-a595-3bf0e1fe3b02"
    },
    {
      "cell_type": "code",
      "execution_count": null,
      "metadata": {
        "id": "1728f060"
      },
      "outputs": [],
      "source": [
        "f([0,1,0,1,4])"
      ],
      "id": "1728f060"
    },
    {
      "cell_type": "markdown",
      "metadata": {
        "id": "070b2d96-d4fe-4453-9034-cb719bc52759"
      },
      "source": [
        "`4`. 규칙2를 이용하여 아래와 같이 리스트를 변환하는 함수를 구현하고 그\n",
        "함수를 `g`라고 선언하라.\n",
        "\n",
        "``` python\n",
        "# 입력\n",
        "['바나나','바나나','바나나','자동차']\n",
        "\n",
        "# 출력\n",
        "['과일','과일','과일','탈것']\n",
        "```\n",
        "\n",
        "(사용예시)"
      ],
      "id": "070b2d96-d4fe-4453-9034-cb719bc52759"
    },
    {
      "cell_type": "code",
      "execution_count": null,
      "metadata": {
        "id": "49bb0231"
      },
      "outputs": [],
      "source": [
        "g(['바나나','바나나','바나나','자동차'])"
      ],
      "id": "49bb0231"
    },
    {
      "cell_type": "markdown",
      "metadata": {
        "id": "7869bf7c-80c8-47e0-8e00-ee7ed2f54bd6"
      },
      "source": [
        "`5`. 규칙1-2를 이용하여 아래와 같은 숫자로 이루어진 입력을 ‘과일’,\n",
        "‘탈것’ 중 하나로 바꾸는 코드를 구현하라.\n",
        "\n",
        "``` python\n",
        "# 입력\n",
        "[0,1,0,1,3,4,2,2,3,4,1,0]\n",
        "\n",
        "# 출력\n",
        "['과일', '과일', '과일', '과일', '탈것', '탈것', '탈것', '탈것', '탈것', '탈것', '과일', '과일']\n",
        "```\n",
        "\n",
        "**hint** $g(f(x))$ 를 이용하라.\n",
        "\n",
        "`Oxford-III`: 6–10 //\n",
        "[reference](https://www.robots.ox.ac.uk/~vgg/data/pets/)\n",
        "\n",
        "아래는 이미지 파일명들이 저장된 string을 불러오는 코드이다."
      ],
      "id": "7869bf7c-80c8-47e0-8e00-ee7ed2f54bd6"
    },
    {
      "cell_type": "code",
      "execution_count": null,
      "metadata": {
        "id": "39624242"
      },
      "outputs": [],
      "source": [
        "import requests\n",
        "url = 'https://raw.githubusercontent.com/guebin/PP2023/main/posts/01_PythonBasic/Oxford-IIIT.txt'\n",
        "txt = requests.get(url).content.decode()"
      ],
      "id": "39624242"
    },
    {
      "cell_type": "markdown",
      "metadata": {
        "id": "47a98aa0-c45e-4262-86ba-c7950bac3262"
      },
      "source": [
        "이미지파일이 저장된 형식은 아래와 같다.\n",
        "\n",
        "    Abyssinian_1.jpg\n",
        "    British_Shorthair_129.jpg\n",
        "\n",
        "**note**: `British_Shorthair`와 같이 종 이름 사이에 `_`가 들어있는\n",
        "경우도 있음.\n",
        "\n",
        "`6`. txt를 적당히 변환하여 아래와 같은 list를 만들어라."
      ],
      "id": "47a98aa0-c45e-4262-86ba-c7950bac3262"
    },
    {
      "cell_type": "code",
      "execution_count": null,
      "metadata": {
        "id": "a937c918"
      },
      "outputs": [],
      "source": [
        "lst[:10],lst[810:820]"
      ],
      "id": "a937c918"
    },
    {
      "cell_type": "markdown",
      "metadata": {
        "id": "3ac0e1dd-1de8-44e8-b8d1-7003fb1fdf80"
      },
      "source": [
        "**hint1**"
      ],
      "id": "3ac0e1dd-1de8-44e8-b8d1-7003fb1fdf80"
    },
    {
      "cell_type": "code",
      "execution_count": null,
      "metadata": {
        "id": "5e60fe6d"
      },
      "outputs": [],
      "source": [
        "'Abyssinian_1.jpg\\nAbyssinian_10.jpg'.split('\\n')"
      ],
      "id": "5e60fe6d"
    },
    {
      "cell_type": "markdown",
      "metadata": {
        "id": "b02ac549-aef4-4257-bc9e-a99294804e7d"
      },
      "source": [
        "**hint2**"
      ],
      "id": "b02ac549-aef4-4257-bc9e-a99294804e7d"
    },
    {
      "cell_type": "code",
      "execution_count": null,
      "metadata": {
        "id": "4e232868"
      },
      "outputs": [],
      "source": [
        "''.join(['British', 'Shorthair'])"
      ],
      "id": "4e232868"
    },
    {
      "cell_type": "code",
      "execution_count": null,
      "metadata": {
        "id": "338df9e9"
      },
      "outputs": [],
      "source": [
        "''.join(['Abyssinian'])"
      ],
      "id": "338df9e9"
    },
    {
      "cell_type": "markdown",
      "metadata": {
        "id": "76a70b88-5718-4461-8e1e-a23d7d2c30b5"
      },
      "source": [
        "`7`. 그림파일에는 총 몇가지 종류의 고양이와, 몇가지 종류의 강아지가\n",
        "있는가?\n",
        "\n",
        "**note:** 고양이사진은 대문자로 시작하고, 강아지 사진은 소문자로\n",
        "시작한다.\n",
        "\n",
        "**note**: 12종의 고양이, 25종의 강아지가 있음\n",
        "\n",
        "(풀이)"
      ],
      "id": "76a70b88-5718-4461-8e1e-a23d7d2c30b5"
    },
    {
      "cell_type": "code",
      "execution_count": null,
      "metadata": {
        "id": "e5473d68"
      },
      "outputs": [],
      "source": [
        "[s[0].isupper() for s in set(lst)].count(True) # 고양이 12"
      ],
      "id": "e5473d68"
    },
    {
      "cell_type": "code",
      "execution_count": null,
      "metadata": {
        "id": "12799628"
      },
      "outputs": [],
      "source": [
        "[s[0].isupper() for s in set(lst)].count(False) # 강아지 25"
      ],
      "id": "12799628"
    },
    {
      "cell_type": "markdown",
      "metadata": {
        "id": "1f6b2581-9588-4c31-a0ba-630413c705cf"
      },
      "source": [
        "`8`. 아래는 1번의 결과로 얻어진 lst의 첫 10개의 원소와 마지막 10개의\n",
        "원소이다."
      ],
      "id": "1f6b2581-9588-4c31-a0ba-630413c705cf"
    },
    {
      "cell_type": "code",
      "execution_count": null,
      "metadata": {
        "id": "c0b60fdb"
      },
      "outputs": [],
      "source": [
        "lst[:10], lst[-10:]"
      ],
      "id": "c0b60fdb"
    },
    {
      "cell_type": "markdown",
      "metadata": {
        "id": "12c70d3d-58ad-4b00-b1cc-2c1d511239cf"
      },
      "source": [
        "적당한 변환을 정의하여 lst를 아래와 같이 바꾸어라."
      ],
      "id": "12c70d3d-58ad-4b00-b1cc-2c1d511239cf"
    },
    {
      "cell_type": "code",
      "execution_count": null,
      "metadata": {
        "id": "d4940366"
      },
      "outputs": [],
      "source": [
        "lst2[:10], lst2[-10:] # 바뀐 lst"
      ],
      "id": "d4940366"
    },
    {
      "cell_type": "markdown",
      "metadata": {
        "id": "f0503d0b-4c23-49bd-b893-4dc23c6c5bf6"
      },
      "source": [
        "`9`. txt에는 강아지사진과 고양이사진이 모두 몇장씩 들어있는가?"
      ],
      "id": "f0503d0b-4c23-49bd-b893-4dc23c6c5bf6"
    },
    {
      "cell_type": "code",
      "execution_count": null,
      "metadata": {
        "id": "146cdb4e"
      },
      "outputs": [],
      "source": [
        "## 출력예시"
      ],
      "id": "146cdb4e"
    },
    {
      "cell_type": "markdown",
      "metadata": {
        "id": "c88eea5e-3a96-4504-8be0-135ec06bc867"
      },
      "source": [
        "`10`. txt에 각 종별로 몇장의 사진이 있는지 조사하라."
      ],
      "id": "c88eea5e-3a96-4504-8be0-135ec06bc867"
    },
    {
      "cell_type": "code",
      "execution_count": null,
      "metadata": {
        "id": "8f34758e"
      },
      "outputs": [],
      "source": [
        "## 출력예시"
      ],
      "id": "8f34758e"
    }
  ],
  "nbformat": 4,
  "nbformat_minor": 5,
  "metadata": {
    "kernelspec": {
      "name": "python3",
      "display_name": "Python 3 (ipykernel)",
      "language": "python"
    },
    "language_info": {
      "name": "python",
      "codemirror_mode": {
        "name": "ipython",
        "version": "3"
      },
      "file_extension": ".py",
      "mimetype": "text/x-python",
      "nbconvert_exporter": "python",
      "pygments_lexer": "ipython3",
      "version": "3.10.12"
    },
    "colab": {
      "provenance": []
    }
  }
}